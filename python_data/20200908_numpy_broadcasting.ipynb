{
 "cells": [
  {
   "cell_type": "code",
   "execution_count": 2,
   "metadata": {
    "tags": []
   },
   "outputs": [
    {
     "output_type": "stream",
     "name": "stdout",
     "text": "[[2 4]\n [6 8]]\n[[2 2]\n [2 2]]\n"
    }
   ],
   "source": [
    "import numpy as np\n",
    "A = np.array([2,4,6,8]).reshape(2,2)\n",
    "B = np.array([2,2,2,2]).reshape(2,2)\n",
    "print(A)\n",
    "print(B)"
   ]
  },
  {
   "cell_type": "code",
   "execution_count": 4,
   "metadata": {
    "tags": []
   },
   "outputs": [
    {
     "output_type": "stream",
     "name": "stdout",
     "text": "[[ 4  6]\n [ 8 10]]\n[[0 2]\n [4 6]]\n[[ 4  8]\n [12 16]]\n[[1. 2.]\n [3. 4.]]\n"
    }
   ],
   "source": [
    "print(A+B)\n",
    "print(A-B)\n",
    "print(A*B)\n",
    "print(A/B)\n"
   ]
  },
  {
   "cell_type": "code",
   "execution_count": 3,
   "metadata": {
    "tags": []
   },
   "outputs": [
    {
     "output_type": "stream",
     "name": "stdout",
     "text": "[[12 12]\n [28 28]]\n"
    }
   ],
   "source": [
    "# 행렬의 곱셈\n",
    "print(A@B) "
   ]
  },
  {
   "cell_type": "code",
   "execution_count": 6,
   "metadata": {
    "tags": []
   },
   "outputs": [
    {
     "output_type": "stream",
     "name": "stdout",
     "text": "[[12 12]\n [28 28]]\n[[12 12]\n [28 28]]\n"
    }
   ],
   "source": [
    "print(np.dot(A,B))\n",
    "print(A.dot(B))"
   ]
  },
  {
   "cell_type": "code",
   "execution_count": null,
   "metadata": {},
   "outputs": [],
   "source": [
    "###broadcasting\n",
    "# 다른 크기의 배열간의 산술연산"
   ]
  },
  {
   "cell_type": "code",
   "execution_count": null,
   "metadata": {},
   "outputs": [],
   "source": [
    "A.shape = (2,3,4,5)\n",
    "B.shape = (5,) \n",
    "#=>B의 차원의 개수가 같아지도록 B shape 왼쪽에 1추가\n",
    "# B.shape = (1,1,1,5)\n",
    "# 두 배열을 비교\n",
    "# 대응하는 차원이 같거나 한쪽이 1인 경우에만 브로드캐스팅 가능"
   ]
  },
  {
   "cell_type": "code",
   "execution_count": null,
   "metadata": {},
   "outputs": [],
   "source": [
    "# 브로드 캐스팅 가능?\n",
    "A.shape : (2,1,3,1)\n",
    "B.shape : (6,1,3) = (1,6,1,3) =>가능\n",
    "=> B.shape :(1,6,1,3)\n",
    "\n",
    "A.shape :(2,3,4)\n",
    "B.shape :(3,1)=>(1,3,1) =>가능\n",
    "\n",
    "A.shape :(3,)\n",
    "B.shape :(4,) => 불가능\n",
    "\n",
    "A.shape : (3,3,5)\n",
    "B.shape :(3,1,5) =>가능"
   ]
  },
  {
   "cell_type": "code",
   "execution_count": 8,
   "metadata": {
    "tags": []
   },
   "outputs": [
    {
     "output_type": "stream",
     "name": "stdout",
     "text": "[[ 10  20  30  40]\n [ 50  60  70  80]\n [ 90 100 110 120]]\n(3, 4)\n[1 2 3 4]\n(4,)\n"
    }
   ],
   "source": [
    "import numpy as np\n",
    "A=np.arange(10,130,10).reshape(3,4)\n",
    "print(A)\n",
    "print(A.shape)\n",
    "B=np.arange(1,5)\n",
    "print(B)\n",
    "print(B.shape)"
   ]
  },
  {
   "cell_type": "code",
   "execution_count": 9,
   "metadata": {},
   "outputs": [
    {
     "output_type": "execute_result",
     "data": {
      "text/plain": "array([[ 11,  22,  33,  44],\n       [ 51,  62,  73,  84],\n       [ 91, 102, 113, 124]])"
     },
     "metadata": {},
     "execution_count": 9
    }
   ],
   "source": [
    "A+B"
   ]
  },
  {
   "cell_type": "code",
   "execution_count": 16,
   "metadata": {
    "tags": []
   },
   "outputs": [
    {
     "output_type": "stream",
     "name": "stdout",
     "text": "[[ 10  20  30  40]\n [ 50  60  70  80]\n [ 90 100 110 120]]\n(2,)\n"
    }
   ],
   "source": [
    "import numpy as np\n",
    "A = np.arange(10,130,10).reshape(3,4)\n",
    "print(A)\n",
    "B = np.array([0,5])\n",
    "print(B.shape)"
   ]
  },
  {
   "cell_type": "code",
   "execution_count": 17,
   "metadata": {},
   "outputs": [
    {
     "output_type": "error",
     "ename": "NameError",
     "evalue": "name 'shape' is not defined",
     "traceback": [
      "\u001b[1;31m---------------------------------------------------------------------------\u001b[0m",
      "\u001b[1;31mNameError\u001b[0m                                 Traceback (most recent call last)",
      "\u001b[1;32m<ipython-input-17-f4f05d4dfa41>\u001b[0m in \u001b[0;36m<module>\u001b[1;34m\u001b[0m\n\u001b[1;32m----> 1\u001b[1;33m \u001b[0mB\u001b[0m \u001b[1;33m=\u001b[0m \u001b[0mshape\u001b[0m\u001b[1;33m(\u001b[0m\u001b[1;36m5\u001b[0m\u001b[1;33m,\u001b[0m\u001b[1;33m)\u001b[0m\u001b[1;33m\u001b[0m\u001b[1;33m\u001b[0m\u001b[0m\n\u001b[0m\u001b[0;32m      2\u001b[0m \u001b[0mprint\u001b[0m\u001b[1;33m(\u001b[0m\u001b[0mB\u001b[0m\u001b[1;33m)\u001b[0m\u001b[1;33m\u001b[0m\u001b[1;33m\u001b[0m\u001b[0m\n",
      "\u001b[1;31mNameError\u001b[0m: name 'shape' is not defined"
     ]
    }
   ],
   "source": [
    "B = shape(5,)\n",
    "print(B)\n"
   ]
  },
  {
   "cell_type": "code",
   "execution_count": 18,
   "metadata": {},
   "outputs": [],
   "source": [
    "### vectorize"
   ]
  },
  {
   "cell_type": "code",
   "execution_count": 19,
   "metadata": {
    "tags": []
   },
   "outputs": [
    {
     "output_type": "stream",
     "name": "stdout",
     "text": "[[1 2 3]\n [4 5 6]\n [7 8 9]]\n"
    }
   ],
   "source": [
    "import numpy as np\n",
    "\n",
    "matrix = np.arange(1,10).reshape(3,3)\n",
    "print(matrix)"
   ]
  },
  {
   "cell_type": "code",
   "execution_count": 21,
   "metadata": {},
   "outputs": [],
   "source": [
    "add_100 = lambda i:i+100"
   ]
  },
  {
   "cell_type": "code",
   "execution_count": 23,
   "metadata": {},
   "outputs": [
    {
     "output_type": "execute_result",
     "data": {
      "text/plain": "array([[101, 102, 103],\n       [104, 105, 106],\n       [107, 108, 109]])"
     },
     "metadata": {},
     "execution_count": 23
    }
   ],
   "source": [
    "vectorized_add_100 = np.vectorize(add_100)\n",
    "vectorized_add_100(matrix)"
   ]
  },
  {
   "cell_type": "code",
   "execution_count": 30,
   "metadata": {},
   "outputs": [],
   "source": [
    "find_odd = lambda i : i*(i%2)\n",
    "find_even = lambda i : i if i%2==0 else 0"
   ]
  },
  {
   "cell_type": "code",
   "execution_count": 32,
   "metadata": {
    "tags": []
   },
   "outputs": [
    {
     "output_type": "stream",
     "name": "stdout",
     "text": "[[1 0 3]\n [0 5 0]\n [7 0 9]]\n\n[[0 2 0]\n [4 0 6]\n [0 8 0]]\n"
    }
   ],
   "source": [
    "vectorized_find_odd = np.vectorize(find_odd)\n",
    "vectorized_find_even = np.vectorize(find_even)\n",
    "print(vectorized_find_odd(matrix))\n",
    "print()\n",
    "print(vectorized_find_even(matrix))"
   ]
  },
  {
   "cell_type": "code",
   "execution_count": 29,
   "metadata": {
    "tags": []
   },
   "outputs": [
    {
     "output_type": "stream",
     "name": "stdout",
     "text": "[[1 2 3]\n [4 5 6]\n [7 8 9]]\n9\n1\n[3 6 9]\n[1 2 3]\n"
    }
   ],
   "source": [
    "import numpy as np\n",
    "\n",
    "matrix = np.arange(1,10).reshape(3,3)\n",
    "print(matrix)\n",
    "\n",
    "print(np.max(matrix))\n",
    "print(np.min(matrix))\n",
    "print(np.max(matrix, axis=1)) #각 행에서 최고값 찾음\n",
    "print(np.min(matrix, axis=0)) #각 열에서 최소값 찾음"
   ]
  },
  {
   "cell_type": "code",
   "execution_count": 36,
   "metadata": {
    "tags": []
   },
   "outputs": [
    {
     "output_type": "stream",
     "name": "stdout",
     "text": "[[3]\n [6]\n [9]]\n\n(3, 1)\n"
    }
   ],
   "source": [
    "# keepdims 각 행마다의 최대값\n",
    "vector_column = np.max(matrix, axis=1, keepdims=True)\n",
    "print(vector_column)\n",
    "print()\n",
    "print(vector_column.shape)"
   ]
  },
  {
   "cell_type": "code",
   "execution_count": 39,
   "metadata": {
    "tags": []
   },
   "outputs": [
    {
     "output_type": "stream",
     "name": "stdout",
     "text": "(3, 3)\n\n[[-2 -1  0]\n [-2 -1  0]\n [-2 -1  0]]\n"
    }
   ],
   "source": [
    "# (3,1)과 (3,3)비교후 브로드캐스팅이 가능하기 때문에 연산이 가능해짐.\n",
    "print(matrix.shape)\n",
    "print()\n",
    "print(matrix - vector_column) "
   ]
  },
  {
   "cell_type": "code",
   "execution_count": null,
   "metadata": {},
   "outputs": [],
   "source": [
    "####평균, 분산, 표준편차"
   ]
  },
  {
   "cell_type": "code",
   "execution_count": 40,
   "metadata": {
    "tags": []
   },
   "outputs": [
    {
     "output_type": "stream",
     "name": "stdout",
     "text": "[[1 2 3]\n [4 5 6]\n [7 8 9]]\n평균 : 5.0\n분산 : 6.666666666666667\n표준편차 : 2.581988897471611\n"
    }
   ],
   "source": [
    "import numpy as np\n",
    "\n",
    "matrix = np.arange(1,10).reshape(3,3)\n",
    "print(matrix)\n",
    "\n",
    "print(\"평균 :\",np.mean(matrix))\n",
    "print(\"분산 :\",np.var(matrix))\n",
    "print(\"표준편차 :\",np.std(matrix))"
   ]
  },
  {
   "cell_type": "code",
   "execution_count": 41,
   "metadata": {
    "tags": []
   },
   "outputs": [
    {
     "output_type": "stream",
     "name": "stdout",
     "text": "평균 : 5.0\n평균 : [4. 5. 6.]\n"
    }
   ],
   "source": [
    "print(\"평균 :\",np.mean(matrix))\n",
    "print(\"평균 :\", np.mean(matrix,axis=0))"
   ]
  },
  {
   "cell_type": "code",
   "execution_count": 42,
   "metadata": {
    "tags": []
   },
   "outputs": [
    {
     "output_type": "stream",
     "name": "stdout",
     "text": "2.581988897471611\n2.7386127875258306\n"
    }
   ],
   "source": [
    "print(np.std(matrix))\n",
    "print(np.std(matrix,ddof=1))"
   ]
  },
  {
   "cell_type": "code",
   "execution_count": null,
   "metadata": {},
   "outputs": [],
   "source": [
    "##행렬의 전치(전치 행렬, trnaspose)"
   ]
  },
  {
   "cell_type": "code",
   "execution_count": 43,
   "metadata": {
    "tags": []
   },
   "outputs": [
    {
     "output_type": "stream",
     "name": "stdout",
     "text": "[[1 2 3]\n [4 5 6]\n [7 8 9]]\n\n[[1 4 7]\n [2 5 8]\n [3 6 9]]\n"
    }
   ],
   "source": [
    "import numpy as np\n",
    "\n",
    "matrix = np.arange(1,10).reshape(3,3)\n",
    "print(matrix)\n",
    "print()\n",
    "print(matrix.T)"
   ]
  },
  {
   "cell_type": "code",
   "execution_count": 44,
   "metadata": {},
   "outputs": [
    {
     "output_type": "execute_result",
     "data": {
      "text/plain": "array([1, 2, 3, 4, 5, 6, 7])"
     },
     "metadata": {},
     "execution_count": 44
    }
   ],
   "source": [
    "np.array([1,2,3,4,5,6,7]).T"
   ]
  },
  {
   "cell_type": "code",
   "execution_count": 45,
   "metadata": {},
   "outputs": [
    {
     "output_type": "execute_result",
     "data": {
      "text/plain": "array([[1],\n       [2],\n       [3],\n       [4],\n       [5],\n       [6],\n       [7]])"
     },
     "metadata": {},
     "execution_count": 45
    }
   ],
   "source": [
    "np.array([[1,2,3,4,5,6,7]]).T"
   ]
  },
  {
   "cell_type": "code",
   "execution_count": 46,
   "metadata": {
    "tags": []
   },
   "outputs": [
    {
     "output_type": "stream",
     "name": "stdout",
     "text": "[[1 2 3]\n [4 5 6]\n [7 8 9]]\n\n[[1 4 7]\n [2 5 8]\n [3 6 9]]\n[[1 4 7]\n [2 5 8]\n [3 6 9]]\n"
    }
   ],
   "source": [
    "import numpy as np\n",
    "\n",
    "matrix = np.arange(1,10).reshape(3,3)\n",
    "print(matrix)\n",
    "print()\n",
    "print(matrix.T)\n",
    "print(matrix.transpose())"
   ]
  },
  {
   "cell_type": "code",
   "execution_count": 48,
   "metadata": {
    "tags": []
   },
   "outputs": [
    {
     "output_type": "stream",
     "name": "stdout",
     "text": "[[ 1  1  1]\n [ 1  1 10]\n [ 1  1 15]]\n"
    },
    {
     "output_type": "execute_result",
     "data": {
      "text/plain": "2"
     },
     "metadata": {},
     "execution_count": 48
    }
   ],
   "source": [
    "# matrix의 rank구하기\n",
    "\n",
    "matrix = np.array([[1,1,1],[1,1,10],[1,1,15]])\n",
    "print(matrix)\n",
    "np.linalg.matrix_rank(matrix)"
   ]
  },
  {
   "cell_type": "code",
   "execution_count": null,
   "metadata": {},
   "outputs": [],
   "source": [
    "## 역행렬 invers matrix"
   ]
  },
  {
   "cell_type": "code",
   "execution_count": 49,
   "metadata": {
    "tags": []
   },
   "outputs": [
    {
     "output_type": "stream",
     "name": "stdout",
     "text": "[[1 4]\n [2 5]]\n"
    }
   ],
   "source": [
    "matrix = np.array([[1,4],[2,5]])\n",
    "print(matrix)"
   ]
  },
  {
   "cell_type": "code",
   "execution_count": 51,
   "metadata": {
    "tags": []
   },
   "outputs": [
    {
     "output_type": "stream",
     "name": "stdout",
     "text": "[[-1.66666667  1.33333333]\n [ 0.66666667 -0.33333333]]\n"
    }
   ],
   "source": [
    "#역행렬\n",
    "inv_matrix = np.linalg.inv(matrix)\n",
    "print(inv_matrix)"
   ]
  },
  {
   "cell_type": "code",
   "execution_count": 52,
   "metadata": {},
   "outputs": [
    {
     "output_type": "execute_result",
     "data": {
      "text/plain": "array([[1., 0.],\n       [0., 1.]])"
     },
     "metadata": {},
     "execution_count": 52
    }
   ],
   "source": [
    "matrix @ inv_matrix"
   ]
  },
  {
   "cell_type": "code",
   "execution_count": 57,
   "metadata": {
    "tags": []
   },
   "outputs": [
    {
     "output_type": "stream",
     "name": "stdout",
     "text": "[[-0.94444444  0.44444444]\n [-0.11111111  0.11111111]\n [ 0.72222222 -0.22222222]]\n"
    }
   ],
   "source": [
    "inv_matrix = np.linalg.pinv(matrix)\n",
    "print(inv_matrix)"
   ]
  },
  {
   "cell_type": "code",
   "execution_count": 54,
   "metadata": {
    "tags": []
   },
   "outputs": [
    {
     "output_type": "stream",
     "name": "stdout",
     "text": "[[1 2 3]\n [4 5 6]]\n"
    }
   ],
   "source": [
    "matrix = np.arange(1,7).reshape(2,3)\n",
    "print(matrix)"
   ]
  },
  {
   "cell_type": "code",
   "execution_count": 58,
   "metadata": {},
   "outputs": [
    {
     "output_type": "execute_result",
     "data": {
      "text/plain": "array([[1.00000000e+00, 2.22044605e-16],\n       [0.00000000e+00, 1.00000000e+00]])"
     },
     "metadata": {},
     "execution_count": 58
    }
   ],
   "source": [
    "matrix @ inv_matrix"
   ]
  },
  {
   "cell_type": "code",
   "execution_count": 59,
   "metadata": {
    "tags": []
   },
   "outputs": [
    {
     "output_type": "stream",
     "name": "stdout",
     "text": "[[1. 0.]\n [0. 1.]]\n"
    }
   ],
   "source": [
    "print(np.round(matrix @ inv_matrix,0))"
   ]
  },
  {
   "cell_type": "code",
   "execution_count": 60,
   "metadata": {},
   "outputs": [],
   "source": [
    "#######"
   ]
  },
  {
   "cell_type": "code",
   "execution_count": 62,
   "metadata": {
    "tags": []
   },
   "outputs": [
    {
     "output_type": "stream",
     "name": "stdout",
     "text": "[0 1 2 3 4]\n[0 4 3 1 2]\n"
    }
   ],
   "source": [
    "import random\n",
    "a= np.arange(5)\n",
    "print(a)\n",
    "np.random.shuffle(a)\n",
    "print(a)"
   ]
  },
  {
   "cell_type": "code",
   "execution_count": 63,
   "metadata": {
    "tags": []
   },
   "outputs": [
    {
     "output_type": "stream",
     "name": "stdout",
     "text": "[0 1 2 3 4]\n[1 2 0 4 3]\n"
    }
   ],
   "source": [
    "import random\n",
    "a = np.arange(5)\n",
    "print(a)\n",
    "b= np.random.permutation(a)\n",
    "print(b)"
   ]
  },
  {
   "cell_type": "code",
   "execution_count": 64,
   "metadata": {
    "tags": []
   },
   "outputs": [
    {
     "output_type": "stream",
     "name": "stdout",
     "text": "[0 4 3 2 1]\n"
    }
   ],
   "source": [
    "print(np.random.permutation(5))"
   ]
  }
 ],
 "metadata": {
  "kernelspec": {
   "display_name": "Python 3",
   "language": "python",
   "name": "python3"
  },
  "language_info": {
   "codemirror_mode": {
    "name": "ipython",
    "version": 3
   },
   "file_extension": ".py",
   "mimetype": "text/x-python",
   "name": "python",
   "nbconvert_exporter": "python",
   "pygments_lexer": "ipython3",
   "version": "3.8.3-final"
  }
 },
 "nbformat": 4,
 "nbformat_minor": 4
}