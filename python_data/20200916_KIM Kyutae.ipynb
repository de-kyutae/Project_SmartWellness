{
 "cells": [
  {
   "cell_type": "markdown",
   "metadata": {},
   "source": [
    "<h1> <center> PYTHON </center> </h1>\n",
    "<h2><center>2020.09.16</center>\n",
    "<br>\n",
    "<center>김 규 태 </center> </h2>\n",
    "\n",
    "---"
   ]
  },
  {
   "cell_type": "markdown",
   "metadata": {},
   "source": [
    "### 문항1"
   ]
  },
  {
   "cell_type": "code",
   "execution_count": 7,
   "metadata": {},
   "outputs": [
    {
     "name": "stdout",
     "output_type": "stream",
     "text": [
      "si\n"
     ]
    }
   ],
   "source": [
    "a = 'string'\n",
    "print(a[0]+a[3])"
   ]
  },
  {
   "cell_type": "markdown",
   "metadata": {},
   "source": [
    "### 문항2"
   ]
  },
  {
   "cell_type": "code",
   "execution_count": 58,
   "metadata": {},
   "outputs": [
    {
     "data": {
      "text/plain": [
       "['하나', '넷', '다섯', '여섯', '일곱', '둘', 1, 2, 3.0]"
      ]
     },
     "execution_count": 58,
     "metadata": {},
     "output_type": "execute_result"
    }
   ],
   "source": [
    "a = ['하나','둘',1,2,3.0]\n",
    "b = ['넷','다섯']\n",
    "c = '여섯'\n",
    "d = '일곱'\n",
    "\n",
    "a.insert(1,b[1])\n",
    "a.insert(1,b[0])\n",
    "a.insert(3,c)\n",
    "a.insert(4,d)\n",
    "a"
   ]
  },
  {
   "cell_type": "markdown",
   "metadata": {},
   "source": [
    "### 문항3"
   ]
  },
  {
   "cell_type": "code",
   "execution_count": 69,
   "metadata": {},
   "outputs": [
    {
     "name": "stdout",
     "output_type": "stream",
     "text": [
      "     주소: 2284202622592\n",
      "얕은_주소: 2284202621952\n",
      "깊은_주소: 2284202622528\n"
     ]
    }
   ],
   "source": [
    "import copy\n",
    "a = ['하나','둘',1,2,3.0,'넷','다섯''여섯',1, 2, 3.0,'A']\n",
    "adress_a=id(a)\n",
    "\n",
    "#얕은복사\n",
    "a1 = a.copy()\n",
    "adress_a1=id(a1)\n",
    "\n",
    "#깊은 복사\n",
    "a_copy = copy.deepcopy(a)\n",
    "adress_a_copy=id(a_copy)\n",
    "\n",
    "print(\"     주소: {}\".format(adress_a))\n",
    "print(\"얕은_주소: {}\".format(adress_a1))\n",
    "print(\"깊은_주소: {}\".format(adress_a_copy))"
   ]
  },
  {
   "cell_type": "markdown",
   "metadata": {},
   "source": [
    "### 문항4"
   ]
  },
  {
   "cell_type": "code",
   "execution_count": 73,
   "metadata": {},
   "outputs": [
    {
     "name": "stdout",
     "output_type": "stream",
     "text": [
      "f의 값은(a=1, args=((2, 3, 4), 'b', 'c'), kwargs={}\n",
      "None\n"
     ]
    }
   ],
   "source": [
    "def f(a=0, *args, **kwargs):\n",
    "    print(\"f의 값은(a=%s, args=%s, kwargs=%s\" %(a,args,kwargs))\n",
    "    \n",
    "\n",
    "a=1\n",
    "args=(2,3,4)\n",
    "kwargs={'b':5,'c':6}\n",
    "\n",
    "\n",
    "list_function = f(a,args,*kwargs)\n",
    "print(list_function)"
   ]
  },
  {
   "cell_type": "markdown",
   "metadata": {},
   "source": [
    "### 문항5"
   ]
  },
  {
   "cell_type": "code",
   "execution_count": 76,
   "metadata": {},
   "outputs": [
    {
     "name": "stdout",
     "output_type": "stream",
     "text": [
      "10.0\n"
     ]
    }
   ],
   "source": [
    "area = lambda b,h:0.5*b*h\n",
    "print(area(5,4))"
   ]
  },
  {
   "cell_type": "markdown",
   "metadata": {},
   "source": [
    "### 문항6_1"
   ]
  },
  {
   "cell_type": "code",
   "execution_count": 86,
   "metadata": {
    "scrolled": true
   },
   "outputs": [
    {
     "ename": "AttributeError",
     "evalue": "type object 'super' has no attribute 'add'",
     "output_type": "error",
     "traceback": [
      "\u001b[1;31m---------------------------------------------------------------------------\u001b[0m",
      "\u001b[1;31mAttributeError\u001b[0m                            Traceback (most recent call last)",
      "\u001b[1;32m<ipython-input-86-da712707d309>\u001b[0m in \u001b[0;36m<module>\u001b[1;34m\u001b[0m\n\u001b[0;32m     20\u001b[0m \u001b[1;33m\u001b[0m\u001b[0m\n\u001b[0;32m     21\u001b[0m \u001b[0mcal\u001b[0m \u001b[1;33m=\u001b[0m \u001b[0mUpgradeCalculator\u001b[0m\u001b[1;33m\u001b[0m\u001b[1;33m\u001b[0m\u001b[0m\n\u001b[1;32m---> 22\u001b[1;33m \u001b[0mcal\u001b[0m\u001b[1;33m.\u001b[0m\u001b[0madd\u001b[0m\u001b[1;33m(\u001b[0m\u001b[1;36m50\u001b[0m\u001b[1;33m)\u001b[0m\u001b[1;33m\u001b[0m\u001b[1;33m\u001b[0m\u001b[0m\n\u001b[0m\u001b[0;32m     23\u001b[0m \u001b[0mcal\u001b[0m\u001b[1;33m.\u001b[0m\u001b[0mminus\u001b[0m\u001b[1;33m(\u001b[0m\u001b[1;36m60\u001b[0m\u001b[1;33m)\u001b[0m\u001b[1;33m\u001b[0m\u001b[1;33m\u001b[0m\u001b[0m\n\u001b[0;32m     24\u001b[0m \u001b[1;31m#print(cal.value)\u001b[0m\u001b[1;33m\u001b[0m\u001b[1;33m\u001b[0m\u001b[1;33m\u001b[0m\u001b[0m\n",
      "\u001b[1;32m<ipython-input-86-da712707d309>\u001b[0m in \u001b[0;36madd\u001b[1;34m(self)\u001b[0m\n\u001b[0;32m     13\u001b[0m \u001b[1;33m\u001b[0m\u001b[0m\n\u001b[0;32m     14\u001b[0m     \u001b[1;32mdef\u001b[0m \u001b[0madd\u001b[0m\u001b[1;33m(\u001b[0m\u001b[0mself\u001b[0m\u001b[1;33m)\u001b[0m\u001b[1;33m:\u001b[0m\u001b[1;33m\u001b[0m\u001b[1;33m\u001b[0m\u001b[0m\n\u001b[1;32m---> 15\u001b[1;33m         \u001b[0msuper\u001b[0m\u001b[1;33m.\u001b[0m\u001b[0madd\u001b[0m\u001b[1;33m(\u001b[0m\u001b[1;33m)\u001b[0m\u001b[1;33m\u001b[0m\u001b[1;33m\u001b[0m\u001b[0m\n\u001b[0m\u001b[0;32m     16\u001b[0m         \u001b[0mprint\u001b[0m\u001b[1;33m(\u001b[0m\u001b[0mself\u001b[0m\u001b[1;33m.\u001b[0m\u001b[0madd\u001b[0m\u001b[1;33m)\u001b[0m\u001b[1;33m\u001b[0m\u001b[1;33m\u001b[0m\u001b[0m\n\u001b[0;32m     17\u001b[0m \u001b[1;33m\u001b[0m\u001b[0m\n",
      "\u001b[1;31mAttributeError\u001b[0m: type object 'super' has no attribute 'add'"
     ]
    }
   ],
   "source": [
    "class Calculator:\n",
    "    def __init__(self):\n",
    "        self.value = 0\n",
    "    def add(self, val):\n",
    "        self.value += val\n",
    "    def total(self):\n",
    "        print(\"합계는 {}입니다\".format(self.value))\n",
    "    \n",
    "class UpgradeCalculator(Calculator):\n",
    "    def __init__(self,value,minus):\n",
    "        super.__init__(value,minus)\n",
    "        self.minus = minus\n",
    "    \n",
    "    def add(self):\n",
    "        super.add()\n",
    "        \n",
    "    def minus(self):\n",
    "        self.value -= minus\n",
    "\n",
    "cal = UpgradeCalculator\n",
    "\n",
    "cal.add(50)\n",
    "cal.minus(60)\n",
    "#print(cal.value)\n",
    "    \n",
    "        \n"
   ]
  },
  {
   "cell_type": "markdown",
   "metadata": {},
   "source": [
    "### 문항6_2"
   ]
  },
  {
   "cell_type": "code",
   "execution_count": null,
   "metadata": {},
   "outputs": [],
   "source": []
  },
  {
   "cell_type": "markdown",
   "metadata": {},
   "source": [
    "### 문항7"
   ]
  },
  {
   "cell_type": "code",
   "execution_count": 146,
   "metadata": {},
   "outputs": [
    {
     "name": "stdout",
     "output_type": "stream",
     "text": [
      "3481\n"
     ]
    }
   ],
   "source": [
    "a= [1,2,3,4,5]\n",
    "n = len(a)\n",
    "b = i*i\n",
    "def generator(n):\n",
    "    i = 0\n",
    "    while i < n:\n",
    "        yield i\n",
    "        i += 1\n",
    "print(b)"
   ]
  },
  {
   "cell_type": "markdown",
   "metadata": {},
   "source": [
    "### 문항8_1,2"
   ]
  },
  {
   "cell_type": "code",
   "execution_count": 147,
   "metadata": {},
   "outputs": [
    {
     "name": "stdout",
     "output_type": "stream",
     "text": [
      "; for 16-bit app support\n",
      "\n",
      "[386enh]\n",
      "\n",
      "woafont=dosapp.fon\n",
      "\n",
      "ega80woa.fon=ega80woa.fon\n",
      "\n",
      "ega40woa.fon=ega40woa.fon\n",
      "\n",
      "cga80woa.fon=cga80woa.fon\n",
      "\n",
      "cga40woa.fon=cga40woa.fon\n",
      "\n",
      "\n",
      "\n",
      "[drivers]\n",
      "\n",
      "wave=mmdrv.dll\n",
      "\n",
      "timer=timer.drv\n",
      "\n",
      "\n",
      "\n",
      "[mci]\n",
      "\n"
     ]
    }
   ],
   "source": [
    "f = open(\"C:/Windows/system.ini\",\"r\", encoding=\"utf-8\")\n",
    "f_out = open(\"test_out.txt\", mode='w', encoding='utf-8')\n",
    "\n",
    "while True:\n",
    "\n",
    "    contents = f.readline()\n",
    "\n",
    "    if not contents:\n",
    "        break\n",
    "    print(contents.lower())\n",
    "\n",
    "\n",
    "f.close()\n",
    "f_out.close()"
   ]
  },
  {
   "cell_type": "markdown",
   "metadata": {},
   "source": [
    "### 문항8_3"
   ]
  },
  {
   "cell_type": "code",
   "execution_count": 123,
   "metadata": {
    "scrolled": true
   },
   "outputs": [
    {
     "name": "stdout",
     "output_type": "stream",
     "text": [
      "; for 16-bit app support\n",
      "\n",
      "[386enh]\n",
      "\n",
      "woafont=dosapp.fon\n",
      "\n",
      "woa  fon(1) (0) t=dosapp.fon\n",
      "\n",
      "ega80woa.fon=ega80woa.fon\n",
      "\n",
      "ega40woa.fon=ega40woa.fon\n",
      "\n",
      "cga80woa.fon=cga80woa.fon\n",
      "\n",
      "cga40woa.fon=cga40woa.fon\n",
      "\n",
      "\n",
      "\n",
      "[drivers]\n",
      "\n",
      "wave=mmdrv.dll\n",
      "\n",
      "timer=timer.drv\n",
      "\n",
      "\n",
      "\n",
      "[mci]\n",
      "\n"
     ]
    }
   ],
   "source": [
    "f = open(\"C:/Windows/system.ini\",\"r\", encoding=\"utf-8\")\n",
    "f_out = open(\"test_out.txt\", mode='w', encoding='utf-8')\n",
    "\n",
    "\n",
    "while True:\n",
    "\n",
    "    contents = f.readline()\n",
    "\n",
    "    if not contents:\n",
    "        break\n",
    "    print(contents.lower())\n",
    "\n",
    "    if \"fon\" in contents:\n",
    "        for j in range(contents.count(\"fon\")):\n",
    "            contents=contents.replace(\"fon\",\" fon({}) \".format(j),1)\n",
    "            j+=1\n",
    "        f_out.write(contents)\n",
    "        print(contents)\n",
    "\n",
    "f_out.close()\n",
    "f.close()"
   ]
  },
  {
   "cell_type": "markdown",
   "metadata": {},
   "source": [
    "### 문항9"
   ]
  },
  {
   "cell_type": "code",
   "execution_count": 134,
   "metadata": {},
   "outputs": [
    {
     "name": "stdout",
     "output_type": "stream",
     "text": [
      "[1, 5, 17, 19, 34, 41, 43]\n"
     ]
    }
   ],
   "source": [
    "import random\n",
    "lotto_numbers =[]\n",
    "\n",
    "while len(lotto_numbers) !=7:\n",
    "    new_number= random.randint(1,45)\n",
    "    if new_number not in lotto_numbers:\n",
    "        lotto_numbers.append(new_number)\n",
    "    lotto_numbers.sort()\n",
    "print(lotto_numbers)"
   ]
  }
 ],
 "metadata": {
  "kernelspec": {
   "display_name": "Python 3",
   "language": "python",
   "name": "python3"
  },
  "language_info": {
   "codemirror_mode": {
    "name": "ipython",
    "version": 3
   },
   "file_extension": ".py",
   "mimetype": "text/x-python",
   "name": "python",
   "nbconvert_exporter": "python",
   "pygments_lexer": "ipython3",
   "version": "3.8.3"
  }
 },
 "nbformat": 4,
 "nbformat_minor": 4
}
