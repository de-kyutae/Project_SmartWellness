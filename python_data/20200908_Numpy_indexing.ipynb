{
 "cells": [
  {
   "cell_type": "code",
   "execution_count": null,
   "metadata": {},
   "outputs": [],
   "source": [
    "############Indexing"
   ]
  },
  {
   "cell_type": "code",
   "execution_count": 11,
   "metadata": {
    "tags": []
   },
   "outputs": [
    {
     "name": "stdout",
     "output_type": "stream",
     "text": [
      "[ 0  2  4  6  8 10 12 14]\n"
     ]
    }
   ],
   "source": [
    "import numpy as np\n",
    "A = np.arange(0,15,2)\n",
    "print(A)"
   ]
  },
  {
   "cell_type": "code",
   "execution_count": 6,
   "metadata": {
    "tags": []
   },
   "outputs": [
    {
     "name": "stdout",
     "output_type": "stream",
     "text": [
      "(8,)\n",
      "0 2 4 6 8 10 12 14"
     ]
    }
   ],
   "source": [
    "print(A.shape)\n",
    "for i in range(A.size):\n",
    "    print(A[i],end=\" \")"
   ]
  },
  {
   "cell_type": "code",
   "execution_count": 7,
   "metadata": {
    "tags": []
   },
   "outputs": [
    {
     "name": "stdout",
     "output_type": "stream",
     "text": [
      "(8,)\n",
      "A[0] : 0\n",
      "A[1] : 2\n",
      "A[2] : 4\n",
      "A[3] : 6\n",
      "A[4] : 8\n",
      "A[5] : 10\n",
      "A[6] : 12\n",
      "A[7] : 14\n"
     ]
    }
   ],
   "source": [
    "print(A.shape)\n",
    "for i in range(A.size):\n",
    "    print(\"A[{}] : {}\".format(i,A[i]))"
   ]
  },
  {
   "cell_type": "code",
   "execution_count": 10,
   "metadata": {
    "tags": []
   },
   "outputs": [
    {
     "name": "stdout",
     "output_type": "stream",
     "text": [
      "A[-1] : 14\n",
      "A[-2] : 12\n",
      "A[-3] : 10\n",
      "A[-4] : 8\n",
      "A[-5] : 6\n",
      "A[-6] : 4\n",
      "A[-7] : 2\n",
      "A[-8] : 0\n"
     ]
    }
   ],
   "source": [
    "for i in range(A.size):\n",
    "    n= -(i+1)\n",
    "    print(\"A[{}] : {}\".format(n,A[n]))"
   ]
  },
  {
   "cell_type": "code",
   "execution_count": 73,
   "metadata": {
    "tags": []
   },
   "outputs": [
    {
     "name": "stdout",
     "output_type": "stream",
     "text": [
      "[[ 0  1  2  3]\n",
      " [ 4  5  6  7]\n",
      " [ 8  9 10 11]]\n",
      "A.ndim : 2\n",
      "(3, 4) 3 4\n",
      "A[0][0] : 0\n",
      "A[0][1] : 1\n",
      "A[0][2] : 2\n",
      "A[0][3] : 3\n",
      "\n",
      "A[1][0] : 4\n",
      "A[1][1] : 5\n",
      "A[1][2] : 6\n",
      "A[1][3] : 7\n",
      "\n",
      "A[2][0] : 8\n",
      "A[2][1] : 9\n",
      "A[2][2] : 10\n",
      "A[2][3] : 11\n",
      "\n",
      "\n",
      "A[0]:[0 1 2 3]\n",
      "A[1]:[4 5 6 7]\n",
      "A[2]:[ 8  9 10 11]\n"
     ]
    }
   ],
   "source": [
    "import numpy as np\n",
    "A = np.arange(12).reshape(3,4)\n",
    "print(A)\n",
    "print(\"A.ndim :\", A.ndim)\n",
    "print(A.shape, A.shape[0],A.shape[1])\n",
    "for i in range(A.shape[0]):\n",
    "    for j in range(A.shape[1]):\n",
    "        print(\"A[{0}][{1}] : {2}\".format(i,j,A[i][j]))\n",
    "    print()\n",
    "    \n",
    "print()\n",
    "for i in range(A.shape[0]):\n",
    "    print(\"A[{}]:{}\".format(i,A[i]))\n"
   ]
  },
  {
   "cell_type": "code",
   "execution_count": 30,
   "metadata": {
    "tags": []
   },
   "outputs": [
    {
     "name": "stdout",
     "output_type": "stream",
     "text": [
      "[[0 1 2]\n",
      " [3 4 5]\n",
      " [6 7 8]]\n",
      "\n",
      "\n",
      "[0 1 2]\n",
      "[3 4 5]\n",
      "[6 7 8]\n",
      "\n",
      "[[0 3 6]\n",
      " [1 4 7]\n",
      " [2 5 8]]\n",
      "\n",
      "[0 3 6]\n",
      "[1 4 7]\n",
      "[2 5 8]\n"
     ]
    }
   ],
   "source": [
    "import numpy as np\n",
    "\n",
    "A= np.arange(9).reshape(3,3)\n",
    "print(A)\n",
    "\n",
    "print()\n",
    "print()\n",
    "for row in A: #A => [[1,2,3],[4,5,6],[7,8,9]]\n",
    "    print(row)\n",
    "print()\n",
    "\n",
    "#행렬 전치\n",
    "print(A.T)\n",
    "print()\n",
    "for column in A.T:\n",
    "    print(column)"
   ]
  },
  {
   "cell_type": "code",
   "execution_count": 33,
   "metadata": {
    "tags": []
   },
   "outputs": [
    {
     "name": "stdout",
     "output_type": "stream",
     "text": [
      "[[0 1 2]\n",
      " [3 4 5]\n",
      " [6 7 8]]\n",
      "\n",
      "0 1 2 3 4 5 6 7 8"
     ]
    }
   ],
   "source": [
    "import numpy as np\n",
    "A = np.arange(9).reshape(3,3)\n",
    "print(A)\n",
    "print()\n",
    "for a in A.flat:\n",
    "    print(a, end=\" \")"
   ]
  },
  {
   "cell_type": "code",
   "execution_count": 35,
   "metadata": {
    "tags": []
   },
   "outputs": [
    {
     "name": "stdout",
     "output_type": "stream",
     "text": [
      "[ 0  2  4  6  8 10 12 14 16 18]\n"
     ]
    }
   ],
   "source": [
    "import numpy as np\n",
    "A = np.arange(0,20,2) #1차원 행렬\n",
    "print(A)"
   ]
  },
  {
   "cell_type": "code",
   "execution_count": 39,
   "metadata": {
    "tags": []
   },
   "outputs": [
    {
     "name": "stdout",
     "output_type": "stream",
     "text": [
      "[0 2 4]\n",
      "[0 2 4]\n"
     ]
    }
   ],
   "source": [
    "print(A[0:3])\n",
    "print(A[:3]) #0에서 시작하면 생략가능"
   ]
  },
  {
   "cell_type": "code",
   "execution_count": 41,
   "metadata": {
    "tags": []
   },
   "outputs": [
    {
     "name": "stdout",
     "output_type": "stream",
     "text": [
      "[14 16 18]\n",
      "[14 16 18]\n"
     ]
    }
   ],
   "source": [
    "print(A[7:10])\n",
    "print(A[7:]) # 끝 인덱스 생략가능"
   ]
  },
  {
   "cell_type": "code",
   "execution_count": 42,
   "metadata": {
    "tags": []
   },
   "outputs": [
    {
     "name": "stdout",
     "output_type": "stream",
     "text": [
      "[ 0  2  4  6  8 10 12 14 16 18]\n",
      "[ 0  4  8 12 16]\n"
     ]
    }
   ],
   "source": [
    "print(A[:]) #전체 원소\n",
    "print(A[::2]) # 첫번째 원소부터 2씩 건너뜀"
   ]
  },
  {
   "cell_type": "code",
   "execution_count": 46,
   "metadata": {
    "tags": []
   },
   "outputs": [
    {
     "name": "stdout",
     "output_type": "stream",
     "text": [
      "[ 0  2  4  6  8 10 12 14]\n",
      "[ 0  2  4  6  8 10 12 14]\n"
     ]
    }
   ],
   "source": [
    "print(A[:-2]) # 마지막 2개 원소 제외\n",
    "print(A[-100000:-2])"
   ]
  },
  {
   "cell_type": "code",
   "execution_count": null,
   "metadata": {},
   "outputs": [],
   "source": [
    "print(A[-2:]) #마지막 2개 원소만 취함"
   ]
  },
  {
   "cell_type": "code",
   "execution_count": 44,
   "metadata": {
    "tags": []
   },
   "outputs": [
    {
     "name": "stdout",
     "output_type": "stream",
     "text": [
      "(3,)\n",
      "1\n"
     ]
    }
   ],
   "source": [
    "print(A[0:3].shape)\n",
    "print(A[0:3].ndim)"
   ]
  },
  {
   "cell_type": "code",
   "execution_count": 48,
   "metadata": {
    "tags": []
   },
   "outputs": [
    {
     "name": "stdout",
     "output_type": "stream",
     "text": [
      "[ 0  2  4  6  8 10 12 14 16 18]\n",
      "[100 100 100   6   8  10  12  14  16  18]\n"
     ]
    }
   ],
   "source": [
    "print(A)\n",
    "A[0:3] = 100\n",
    "print(A)"
   ]
  },
  {
   "cell_type": "code",
   "execution_count": 66,
   "metadata": {
    "tags": []
   },
   "outputs": [
    {
     "name": "stdout",
     "output_type": "stream",
     "text": [
      "[[ 1  2  3  4]\n",
      " [ 5  6  7  8]\n",
      " [ 9 10 11 12]]\n"
     ]
    }
   ],
   "source": [
    "import numpy as np\n",
    "A = np.arange(1,13).reshape(3,4)\n",
    "print(A)"
   ]
  },
  {
   "cell_type": "code",
   "execution_count": 67,
   "metadata": {},
   "outputs": [
    {
     "data": {
      "text/plain": [
       "array([[ 1,  2,  3,  4],\n",
       "       [ 5,  6,  7,  8],\n",
       "       [ 9, 10, 11, 12]])"
      ]
     },
     "execution_count": 67,
     "metadata": {},
     "output_type": "execute_result"
    }
   ],
   "source": [
    "A"
   ]
  },
  {
   "cell_type": "code",
   "execution_count": null,
   "metadata": {},
   "outputs": [],
   "source": [
    "######## 각 원소에 접근\n",
    "A[row][col] or A[row,col]"
   ]
  },
  {
   "cell_type": "code",
   "execution_count": 72,
   "metadata": {
    "tags": []
   },
   "outputs": [
    {
     "name": "stdout",
     "output_type": "stream",
     "text": [
      "A[0][0] :  2 or A[0,0] :  2\n",
      "A[0][1] :  4 or A[0,1] :  4\n",
      "A[1][0] :  6 or A[1,0] :  6\n",
      "A[1][1] :  8 or A[1,1] :  8\n"
     ]
    }
   ],
   "source": [
    "for i in range(A.shape[0]):\n",
    "    for j in range(A.shape[1]):\n",
    "        print(\"A[{0}][{1}] : {2:2d} or A[{3},{4}] : {5:2d}\".format(i,j,A[i][j],i,j,A[i,j]))"
   ]
  },
  {
   "cell_type": "code",
   "execution_count": null,
   "metadata": {},
   "outputs": [],
   "source": [
    "#### 행의 슬라이싱  \n",
    "#####A[i] or A[i,:]"
   ]
  },
  {
   "cell_type": "code",
   "execution_count": 56,
   "metadata": {
    "tags": []
   },
   "outputs": [
    {
     "name": "stdout",
     "output_type": "stream",
     "text": [
      "A[0] : [1 2 3 4] or A[0,:] : [1 2 3 4]\n",
      "A[1] : [5 6 7 8] or A[1,:] : [5 6 7 8]\n",
      "A[2] : [ 9 10 11 12] or A[2,:] : [ 9 10 11 12]\n"
     ]
    }
   ],
   "source": [
    "for i in range(A.shape[0]):\n",
    "    print(\"A[{0}] : {1} or A[{2},:] : {3}\".format(i,A[i],i,A[i,:]))"
   ]
  },
  {
   "cell_type": "code",
   "execution_count": 68,
   "metadata": {
    "tags": []
   },
   "outputs": [
    {
     "name": "stdout",
     "output_type": "stream",
     "text": [
      "[[1 2]\n",
      " [5 6]]\n"
     ]
    }
   ],
   "source": [
    "print(A[:2,:2])\n"
   ]
  },
  {
   "cell_type": "code",
   "execution_count": 65,
   "metadata": {
    "tags": []
   },
   "outputs": [
    {
     "name": "stdout",
     "output_type": "stream",
     "text": [
      "[[ 0  0  3  4]\n",
      " [ 0  0  7  8]\n",
      " [ 9 10 11 12]]\n"
     ]
    }
   ],
   "source": [
    "A[:2,:2] =0\n",
    "print(A)"
   ]
  },
  {
   "cell_type": "code",
   "execution_count": 69,
   "metadata": {
    "tags": []
   },
   "outputs": [
    {
     "name": "stdout",
     "output_type": "stream",
     "text": [
      "[1 2 3 4]\n",
      "[ 2  6 10]\n"
     ]
    }
   ],
   "source": [
    "print(A[0]) #행 슬라이싱\n",
    "print(A[:,1]) # 열 슬라이싱\n",
    "#print(A[...,1]) #열 슬라이싱"
   ]
  },
  {
   "cell_type": "code",
   "execution_count": 71,
   "metadata": {
    "tags": []
   },
   "outputs": [
    {
     "name": "stdout",
     "output_type": "stream",
     "text": [
      "[[2 4]\n",
      " [6 8]]\n",
      "[[2 2]\n",
      " [2 2]]\n"
     ]
    }
   ],
   "source": [
    "import numpy as np\n",
    "A = np.array([2,4,6,8]).reshape(2,2)\n",
    "B = np.array([2,2,2,2]).reshape(2,2)\n",
    "print(A)\n",
    "print(B)"
   ]
  }
 ],
 "metadata": {
  "kernelspec": {
   "display_name": "Python 3",
   "language": "python",
   "name": "python3"
  },
  "language_info": {
   "codemirror_mode": {
    "name": "ipython",
    "version": 3
   },
   "file_extension": ".py",
   "mimetype": "text/x-python",
   "name": "python",
   "nbconvert_exporter": "python",
   "pygments_lexer": "ipython3",
   "version": "3.8.3"
  }
 },
 "nbformat": 4,
 "nbformat_minor": 4
}
