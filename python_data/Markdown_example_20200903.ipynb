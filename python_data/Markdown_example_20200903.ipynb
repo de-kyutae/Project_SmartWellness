{
 "cells": [
  {
   "cell_type": "markdown",
   "metadata": {},
   "source": [
    "### 리스트 인용구"
   ]
  },
  {
   "cell_type": "markdown",
   "metadata": {},
   "source": [
    "```\n",
    "* 머리\n",
    "* 코\n",
    "* 입\n",
    "```"
   ]
  },
  {
   "cell_type": "markdown",
   "metadata": {},
   "source": [
    "* 머리\n",
    "* 코\n",
    "* 입"
   ]
  },
  {
   "cell_type": "markdown",
   "metadata": {},
   "source": [
    "```\n",
    "1. 머리\n",
    "2. 다리\n",
    "3. 꼬리\n",
    "```"
   ]
  },
  {
   "cell_type": "markdown",
   "metadata": {},
   "source": [
    "1. 머리\n",
    "2. 다리\n",
    "3. 꼬리"
   ]
  },
  {
   "cell_type": "markdown",
   "metadata": {},
   "source": [
    "```\n",
    "1. 머리\n",
    "5. 다리\n",
    "3. 꼬리\n",
    "```"
   ]
  },
  {
   "cell_type": "markdown",
   "metadata": {},
   "source": [
    "1. 머리\n",
    "5. 다리\n",
    "3. 꼬리"
   ]
  },
  {
   "cell_type": "markdown",
   "metadata": {},
   "source": [
    "```\n",
    "1. 머리\n",
    "    * 목\n",
    "    * 허리\n",
    "```"
   ]
  },
  {
   "cell_type": "markdown",
   "metadata": {},
   "source": [
    "1. 머리\n",
    "    * 목\n",
    "    * 허리"
   ]
  },
  {
   "cell_type": "markdown",
   "metadata": {},
   "source": [
    "```\n",
    "\\###$@@@@@%@$@$@#\n",
    "```"
   ]
  },
  {
   "cell_type": "markdown",
   "metadata": {},
   "source": [
    "\\###$@@@@@%@$@$@#"
   ]
  },
  {
   "cell_type": "markdown",
   "metadata": {},
   "source": [
    "```\n",
    "안녕 파이썬\n",
    "Hello python\n",
    "Bonjour python\n",
    "```"
   ]
  },
  {
   "cell_type": "markdown",
   "metadata": {},
   "source": [
    "안녕 파이썬\n",
    "Hello python\n",
    "Bonjour python"
   ]
  },
  {
   "cell_type": "markdown",
   "metadata": {},
   "source": [
    "```\n",
    "안녕 파이썬\n",
    "\n",
    "Hello python\n",
    "\n",
    "Bonjour python\n",
    "```"
   ]
  },
  {
   "cell_type": "markdown",
   "metadata": {},
   "source": [
    "안녕 파이썬\n",
    "\n",
    "Hello python\n",
    "\n",
    "Bonjour python"
   ]
  },
  {
   "cell_type": "markdown",
   "metadata": {},
   "source": [
    "## 문장 뒤에 공백 2칸 이상 넣기"
   ]
  },
  {
   "cell_type": "markdown",
   "metadata": {},
   "source": [
    "```\n",
    "안녕 파이썬  \n",
    "Hello python  \n",
    "Bonjour python\n",
    "```"
   ]
  },
  {
   "cell_type": "markdown",
   "metadata": {},
   "source": [
    "안녕 파이썬  \n",
    "Hello python  \n",
    "Bonjour python"
   ]
  },
  {
   "cell_type": "markdown",
   "metadata": {},
   "source": [
    "## 강조"
   ]
  },
  {
   "cell_type": "markdown",
   "metadata": {},
   "source": [
    "```\n",
    "**굵은 글씨**\n",
    "__굵은 글씨__\n",
    "```"
   ]
  },
  {
   "cell_type": "markdown",
   "metadata": {},
   "source": [
    "**굵은 글씨**\n",
    "__굵은 글씨__"
   ]
  },
  {
   "cell_type": "markdown",
   "metadata": {},
   "source": [
    "```\n",
    "_기울여서 쓰기_\n",
    "```"
   ]
  },
  {
   "cell_type": "markdown",
   "metadata": {},
   "source": [
    "_기울여서 쓰기_"
   ]
  },
  {
   "cell_type": "markdown",
   "metadata": {},
   "source": [
    "```\n",
    "_이캘릭에서**여기만 굵은글씨**다시 돌아옴_  \n",
    "__굵은글씨로 시작해서*이탤릭으로 돌아왔다가*다시 굵어짐__\n",
    "```"
   ]
  },
  {
   "cell_type": "markdown",
   "metadata": {},
   "source": [
    "_이캘릭에서**여기만 굵은글씨**다시 돌아옴_  \n",
    "__굵은글씨로 시작해서*이탤릭으로 돌아왔다가*다시 굵어짐__"
   ]
  },
  {
   "cell_type": "markdown",
   "metadata": {},
   "source": [
    "## 이미지 넣기"
   ]
  },
  {
   "cell_type": "markdown",
   "metadata": {},
   "source": [
    "```\n",
    "![텍스트](이미지경로.jpg)\n",
    "![텍스트](이미지URL)\n",
    "```"
   ]
  },
  {
   "cell_type": "markdown",
   "metadata": {},
   "source": [
    "```\n",
    "![텍스트](https://hips.hearstapps.com/hmg-prod.s3.amazonaws.com/images/red-bulls-dutch-driver-max-verstappen-leads-mercedes-news-photo-1597055113.jpg?crop=1.00xw:0.959xh;0,0.0411xh&resize=480:*)\n",
    "```"
   ]
  },
  {
   "cell_type": "markdown",
   "metadata": {},
   "source": [
    "![텍스트](https://hips.hearstapps.com/hmg-prod.s3.amazonaws.com/images/red-bulls-dutch-driver-max-verstappen-leads-mercedes-news-photo-1597055113.jpg?crop=1.00xw:0.959xh;0,0.0411xh&resize=480:*)"
   ]
  },
  {
   "cell_type": "markdown",
   "metadata": {},
   "source": [
    "```\n",
    "![텍스트](이미지경로.jpg \"이미지 이름\")\n",
    "![텍스트](이미지URL \"이미지 이름\")\n",
    "```"
   ]
  },
  {
   "cell_type": "markdown",
   "metadata": {},
   "source": [
    "```\n",
    "[![텍스트](이미지URL)](클릭 링크주소)\n",
    "```"
   ]
  },
  {
   "cell_type": "markdown",
   "metadata": {},
   "source": [
    "```\n",
    "[![텍스트](https://hips.hearstapps.com/hmg-prod.s3.amazonaws.com/images/red-bulls-dutch-driver-max-verstappen-leads-mercedes-news-photo-1597055113.jpg?crop=1.00xw:0.959xh;0,0.0411xh&resize=480:*)](https://www.deccanherald.com/sites/dh/files/article_images/2020/05/19/354488-01-02-2053595371-1584263995.jpg)\n",
    "```"
   ]
  },
  {
   "cell_type": "markdown",
   "metadata": {},
   "source": [
    "[![텍스트](https://hips.hearstapps.com/hmg-prod.s3.amazonaws.com/images/red-bulls-dutch-driver-max-verstappen-leads-mercedes-news-photo-1597055113.jpg?crop=1.00xw:0.959xh;0,0.0411xh&resize=480:*)](https://www.deccanherald.com/sites/dh/files/article_images/2020/05/19/354488-01-02-2053595371-1584263995.jpg)"
   ]
  },
  {
   "cell_type": "markdown",
   "metadata": {},
   "source": [
    "## 표만들기"
   ]
  },
  {
   "cell_type": "markdown",
   "metadata": {},
   "source": [
    "```\n",
    "    여기에 코드를 넣으면 작동하지 않고 보임\n",
    "    \n",
    "```"
   ]
  },
  {
   "cell_type": "markdown",
   "metadata": {},
   "source": [
    "```  \n",
    "    여기에 코드를 넣으면 작동하지 않고 보임\n",
    "```"
   ]
  },
  {
   "cell_type": "markdown",
   "metadata": {},
   "source": [
    "```\n",
    "머리1 | 머리2 | 머리3| 뚝배기\n",
    "---- | ---- | ---- | ----\n",
    "다리1 | 다리2 | 다리3 |뚝배기\n",
    "금 | 의 | 환 | 향\n",
    "```"
   ]
  },
  {
   "cell_type": "markdown",
   "metadata": {},
   "source": [
    "머리1 | 머리2 | 머리3| 뚝배기\n",
    "---- | ---- | ---- | ----\n",
    "다리1 | 다리2 | 다리3 |뚝배기\n",
    "금 | 의 | 환 | 향"
   ]
  },
  {
   "cell_type": "code",
   "execution_count": 11,
   "metadata": {},
   "outputs": [
    {
     "data": {
      "text/html": [
       "<style>.container {width:90% !important; }</style>"
      ],
      "text/plain": [
       "<IPython.core.display.HTML object>"
      ]
     },
     "metadata": {},
     "output_type": "display_data"
    }
   ],
   "source": [
    "from IPython.core.display import display, HTML\n",
    "display(HTML(\"<style>.container {width:90% !important; }</style>\"))"
   ]
  }
 ],
 "metadata": {
  "kernelspec": {
   "display_name": "Python 3",
   "language": "python",
   "name": "python3"
  },
  "language_info": {
   "codemirror_mode": {
    "name": "ipython",
    "version": 3
   },
   "file_extension": ".py",
   "mimetype": "text/x-python",
   "name": "python",
   "nbconvert_exporter": "python",
   "pygments_lexer": "ipython3",
   "version": "3.8.3"
  }
 },
 "nbformat": 4,
 "nbformat_minor": 4
}
