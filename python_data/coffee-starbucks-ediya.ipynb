{
 "cells": [
  {
   "cell_type": "markdown",
   "metadata": {},
   "source": [
    "## 필요한 라이브러리 불러오기"
   ]
  },
  {
   "cell_type": "code",
   "execution_count": 1,
   "metadata": {},
   "outputs": [],
   "source": [
    "import pandas as pd\n",
    "import numpy as np\n",
    "import seaborn as sns\n",
    "\n",
    "%matplotlib inline"
   ]
  },
  {
   "cell_type": "markdown",
   "metadata": {},
   "source": [
    "## 시각화를 위한 한글 폰트 설정하기\n",
    "\n",
    "- 한글 font 이름(family) 확인 : https://thankee.tistory.com/100"
   ]
  },
  {
   "cell_type": "code",
   "execution_count": 73,
   "metadata": {},
   "outputs": [],
   "source": [
    "# 한글폰트 설정\n",
    "import matplotlib.pyplot as plt\n",
    "\n",
    "#굴림, 맑은 고딕체는 한글 지원됨 나머지는 확인바람(거의 안됨)\n",
    "plt.rc(\"font\", family=\"Gulim\") #굴림\n",
    "#plt.rc(\"font\", family=\"Malgun Gothic\") #맑은 고딕\n",
    "plt.rc(\"axes\", unicode_minus=False)"
   ]
  },
  {
   "cell_type": "code",
   "execution_count": 74,
   "metadata": {},
   "outputs": [
    {
     "data": {
      "text/plain": [
       "<matplotlib.axes._subplots.AxesSubplot at 0x24373f210a0>"
      ]
     },
     "execution_count": 74,
     "metadata": {},
     "output_type": "execute_result"
    },
    {
     "data": {
      "image/png": "[encoded data removed]",
      "text/plain": [
       "<Figure size 432x288 with 1 Axes>"
      ]
     },
     "metadata": {
      "needs_background": "light"
     },
     "output_type": "display_data"
    }
   ],
   "source": [
    "# 한글폰트와 마이너스 폰트 설정 확인\n",
    "\n",
    "pd.Series([-1, 0, 1, 3, 5]).plot(title=\"한글폰트\")"
   ]
  },
  {
   "cell_type": "markdown",
   "metadata": {},
   "source": [
    "## 데이터 불러오기\n",
    "* 공공데이터 포털 : https://www.data.go.kr/dataset/15012005/fileData.do"
   ]
  },
  {
   "cell_type": "code",
   "execution_count": 82,
   "metadata": {},
   "outputs": [],
   "source": [
    "# 파일을 불러와 df 라는 변수에 담습니다.\n",
    "# shape 를 통해 불러온 csv 파일의 크기를 확인합니다.\n",
    "df = pd.read_csv(\"data/상가업소정보_201912_02.csv\", encoding='utf-8', sep='|', low_memory=False)"
   ]
  },
  {
   "cell_type": "code",
   "execution_count": 81,
   "metadata": {},
   "outputs": [
    {
     "data": {
      "text/plain": [
       "'동정보'"
      ]
     },
     "execution_count": 81,
     "metadata": {},
     "output_type": "execute_result"
    }
   ],
   "source": [
    "df.columns[34]"
   ]
  },
  {
   "cell_type": "markdown",
   "metadata": {},
   "source": [
    "### 데이터 미리보기"
   ]
  },
  {
   "cell_type": "code",
   "execution_count": 76,
   "metadata": {},
   "outputs": [
    {
     "data": {
      "text/html": [
       "<div>\n",
       "<style scoped>\n",
       "    .dataframe tbody tr th:only-of-type {\n",
       "        vertical-align: middle;\n",
       "    }\n",
       "\n",
       "    .dataframe tbody tr th {\n",
       "        vertical-align: top;\n",
       "    }\n",
       "\n",
       "    .dataframe thead th {\n",
       "        text-align: right;\n",
       "    }\n",
       "</style>\n",
       "<table border=\"1\" class=\"dataframe\">\n",
       "  <thead>\n",
       "    <tr style=\"text-align: right;\">\n",
       "      <th></th>\n",
       "      <th>상가업소번호</th>\n",
       "      <th>상호명</th>\n",
       "      <th>지점명</th>\n",
       "      <th>상권업종대분류코드</th>\n",
       "      <th>상권업종대분류명</th>\n",
       "      <th>상권업종중분류코드</th>\n",
       "      <th>상권업종중분류명</th>\n",
       "      <th>상권업종소분류코드</th>\n",
       "      <th>상권업종소분류명</th>\n",
       "      <th>표준산업분류코드</th>\n",
       "      <th>...</th>\n",
       "      <th>건물관리번호</th>\n",
       "      <th>건물명</th>\n",
       "      <th>도로명주소</th>\n",
       "      <th>구우편번호</th>\n",
       "      <th>신우편번호</th>\n",
       "      <th>동정보</th>\n",
       "      <th>층정보</th>\n",
       "      <th>호정보</th>\n",
       "      <th>경도</th>\n",
       "      <th>위도</th>\n",
       "    </tr>\n",
       "  </thead>\n",
       "  <tbody>\n",
       "    <tr>\n",
       "      <th>0</th>\n",
       "      <td>19917773</td>\n",
       "      <td>대구통닭</td>\n",
       "      <td>통통치킨상인2호점</td>\n",
       "      <td>Q</td>\n",
       "      <td>음식</td>\n",
       "      <td>Q05</td>\n",
       "      <td>닭/오리요리</td>\n",
       "      <td>Q05A08</td>\n",
       "      <td>후라이드/양념치킨</td>\n",
       "      <td>I56193</td>\n",
       "      <td>...</td>\n",
       "      <td>2729011500115310012015585</td>\n",
       "      <td>NaN</td>\n",
       "      <td>대구광역시 달서구 상화북로43길 74</td>\n",
       "      <td>704370.0</td>\n",
       "      <td>42806.0</td>\n",
       "      <td>NaN</td>\n",
       "      <td>1</td>\n",
       "      <td>NaN</td>\n",
       "      <td>128.54604</td>\n",
       "      <td>35.817554</td>\n",
       "    </tr>\n",
       "  </tbody>\n",
       "</table>\n",
       "<p>1 rows × 39 columns</p>\n",
       "</div>"
      ],
      "text/plain": [
       "     상가업소번호   상호명        지점명 상권업종대분류코드 상권업종대분류명 상권업종중분류코드 상권업종중분류명 상권업종소분류코드  \\\n",
       "0  19917773  대구통닭  통통치킨상인2호점         Q       음식       Q05   닭/오리요리    Q05A08   \n",
       "\n",
       "    상권업종소분류명 표준산업분류코드  ...                     건물관리번호  건물명  \\\n",
       "0  후라이드/양념치킨   I56193  ...  2729011500115310012015585  NaN   \n",
       "\n",
       "                  도로명주소     구우편번호    신우편번호  동정보 층정보  호정보         경도         위도  \n",
       "0  대구광역시 달서구 상화북로43길 74  704370.0  42806.0  NaN   1  NaN  128.54604  35.817554  \n",
       "\n",
       "[1 rows x 39 columns]"
      ]
     },
     "execution_count": 76,
     "metadata": {},
     "output_type": "execute_result"
    }
   ],
   "source": [
    "df.head(1)"
   ]
  },
  {
   "cell_type": "markdown",
   "metadata": {},
   "source": [
    "### info 보기"
   ]
  },
  {
   "cell_type": "code",
   "execution_count": 8,
   "metadata": {
    "scrolled": false
   },
   "outputs": [
    {
     "name": "stdout",
     "output_type": "stream",
     "text": [
      "<class 'pandas.core.frame.DataFrame'>\n",
      "RangeIndex: 528311 entries, 0 to 528310\n",
      "Data columns (total 39 columns):\n",
      " #   Column     Non-Null Count   Dtype  \n",
      "---  ------     --------------   -----  \n",
      " 0   상가업소번호     528311 non-null  int64  \n",
      " 1   상호명        528311 non-null  object \n",
      " 2   지점명        63168 non-null   object \n",
      " 3   상권업종대분류코드  528311 non-null  object \n",
      " 4   상권업종대분류명   528311 non-null  object \n",
      " 5   상권업종중분류코드  528311 non-null  object \n",
      " 6   상권업종중분류명   528311 non-null  object \n",
      " 7   상권업종소분류코드  528311 non-null  object \n",
      " 8   상권업종소분류명   528311 non-null  object \n",
      " 9   표준산업분류코드   496133 non-null  object \n",
      " 10  표준산업분류명    496133 non-null  object \n",
      " 11  시도코드       528311 non-null  int64  \n",
      " 12  시도명        528311 non-null  object \n",
      " 13  시군구코드      528311 non-null  int64  \n",
      " 14  시군구명       528311 non-null  object \n",
      " 15  행정동코드      528311 non-null  int64  \n",
      " 16  행정동명       528311 non-null  object \n",
      " 17  법정동코드      528311 non-null  int64  \n",
      " 18  법정동명       528311 non-null  object \n",
      " 19  지번코드       528311 non-null  int64  \n",
      " 20  대지구분코드     528311 non-null  int64  \n",
      " 21  대지구분명      528311 non-null  object \n",
      " 22  지번본번지      528311 non-null  int64  \n",
      " 23  지번부번지      428134 non-null  float64\n",
      " 24  지번주소       528311 non-null  object \n",
      " 25  도로명코드      528311 non-null  int64  \n",
      " 26  도로명        528311 non-null  object \n",
      " 27  건물본번지      528311 non-null  int64  \n",
      " 28  건물부번지      84804 non-null   float64\n",
      " 29  건물관리번호     528311 non-null  object \n",
      " 30  건물명        171082 non-null  object \n",
      " 31  도로명주소      528311 non-null  object \n",
      " 32  구우편번호      528248 non-null  float64\n",
      " 33  신우편번호      528295 non-null  float64\n",
      " 34  동정보        52436 non-null   object \n",
      " 35  층정보        247826 non-null  object \n",
      " 36  호정보        93625 non-null   object \n",
      " 37  경도         528311 non-null  float64\n",
      " 38  위도         528311 non-null  float64\n",
      "dtypes: float64(6), int64(10), object(23)\n",
      "memory usage: 157.2+ MB\n"
     ]
    }
   ],
   "source": [
    "# info 를 사용하면 데이터의 전체적인 정보를 볼 수 있습니다.\n",
    "# 데이터의 사이즈, 타입, 메모리 사용량 등을 볼 수 있습니다.\n",
    "\n",
    "df.info()"
   ]
  },
  {
   "cell_type": "markdown",
   "metadata": {},
   "source": [
    "### 결측치 보기"
   ]
  },
  {
   "cell_type": "code",
   "execution_count": 10,
   "metadata": {},
   "outputs": [
    {
     "data": {
      "text/plain": [
       "<matplotlib.axes._subplots.AxesSubplot at 0x24359e6fca0>"
      ]
     },
     "execution_count": 10,
     "metadata": {},
     "output_type": "execute_result"
    },
    {
     "data": {
      "image/png": "[encoded data removed]",
      "text/plain": [
       "<Figure size 576x864 with 1 Axes>"
      ]
     },
     "metadata": {
      "needs_background": "light"
     },
     "output_type": "display_data"
    }
   ],
   "source": [
    "# isnull() 을 사용하면 데이터의 결측치를 볼 수 있습니다.\n",
    "# 결측치는 True로 값이 있다면 False로 표시되는데 True 는 1과 같기 때문에 \n",
    "# True 값을 sum()을 사용해서 더하게 되면 합계를 볼 수 있습니다.\n",
    "df.isnull().sum().plot.barh(figsize=(8, 12))"
   ]
  },
  {
   "cell_type": "markdown",
   "metadata": {},
   "source": [
    "### 사용하지 않는 컬럼 제거하기"
   ]
  },
  {
   "cell_type": "code",
   "execution_count": 11,
   "metadata": {},
   "outputs": [
    {
     "data": {
      "text/plain": [
       "(528311, 11)"
      ]
     },
     "execution_count": 11,
     "metadata": {},
     "output_type": "execute_result"
    }
   ],
   "source": [
    "# drop을 하는 방법도 있지만 사용할 컬럼만 따로 모아서 보는 방법도 있습니다.\n",
    "# 여기에서는 사용할 컬럼만 따로 모아서 사용합니다.\n",
    "columns = ['상호명', '상권업종대분류명', '상권업종중분류명', '상권업종소분류명', \n",
    "           '시도명', '시군구명', '행정동명', '법정동명', '도로명주소', \n",
    "           '경도', '위도']\n",
    "\n",
    "df = df[columns].copy()\n",
    "df.shape"
   ]
  },
  {
   "cell_type": "code",
   "execution_count": 12,
   "metadata": {},
   "outputs": [
    {
     "name": "stdout",
     "output_type": "stream",
     "text": [
      "<class 'pandas.core.frame.DataFrame'>\n",
      "RangeIndex: 528311 entries, 0 to 528310\n",
      "Data columns (total 11 columns):\n",
      " #   Column    Non-Null Count   Dtype  \n",
      "---  ------    --------------   -----  \n",
      " 0   상호명       528311 non-null  object \n",
      " 1   상권업종대분류명  528311 non-null  object \n",
      " 2   상권업종중분류명  528311 non-null  object \n",
      " 3   상권업종소분류명  528311 non-null  object \n",
      " 4   시도명       528311 non-null  object \n",
      " 5   시군구명      528311 non-null  object \n",
      " 6   행정동명      528311 non-null  object \n",
      " 7   법정동명      528311 non-null  object \n",
      " 8   도로명주소     528311 non-null  object \n",
      " 9   경도        528311 non-null  float64\n",
      " 10  위도        528311 non-null  float64\n",
      "dtypes: float64(2), object(9)\n",
      "memory usage: 44.3+ MB\n"
     ]
    }
   ],
   "source": [
    "# 제거 후 메모리 사용량 보기\n",
    "df.info()"
   ]
  },
  {
   "cell_type": "markdown",
   "metadata": {},
   "source": [
    "## 색인으로 서브셋 가져오기"
   ]
  },
  {
   "cell_type": "markdown",
   "metadata": {},
   "source": [
    "### 대구만 따로 보기"
   ]
  },
  {
   "cell_type": "code",
   "execution_count": 13,
   "metadata": {},
   "outputs": [
    {
     "data": {
      "text/plain": [
       "(129875, 11)"
      ]
     },
     "execution_count": 13,
     "metadata": {},
     "output_type": "execute_result"
    }
   ],
   "source": [
    "# 시도명이 대구 시작하는 데이터만 봅니다.\n",
    "# 또, df_daegu 이라는 변수에 결과를 저장합니다.\n",
    "# 새로운 변수에 데이터프레임을 할당할 때 copy()를 사용하는 것을 권장합니다.\n",
    "df_daegu = df[df[\"시도명\"] == \"대구광역시\"].copy()\n",
    "df_daegu.shape"
   ]
  },
  {
   "cell_type": "markdown",
   "metadata": {},
   "source": [
    "### 일부 텍스트가 들어가는 데이터만 가져오기\n",
    "* 상호명에서 브랜드명을 추출합니다.\n",
    "* 대소문자가 섞여 있을 수도 있기 때문에 대소문자를 변환해 줍니다.\n",
    "* 스타벅스의 영문명은 STARBUCKS, 이디야는 EDIYA 입니다.\n",
    "\n",
    "* https://pandas.pydata.org/docs/user_guide/text.html#testing-for-strings-that-match-or-contain-a-pattern"
   ]
  },
  {
   "cell_type": "code",
   "execution_count": 14,
   "metadata": {},
   "outputs": [],
   "source": [
    "# 문자열의 소문자로 변경하는 메소드를 사용합니다.\n",
    "# \"상호명_소문자\" 컬럼을 만듭니다.\n",
    "df_daegu[\"상호명_소문자\"] = df_daegu[\"상호명\"].str.lower()"
   ]
  },
  {
   "cell_type": "code",
   "execution_count": 84,
   "metadata": {},
   "outputs": [
    {
     "data": {
      "text/plain": [
       "16270       이디아커피시지점\n",
       "67297          이디야커피\n",
       "70134          이디야커피\n",
       "75944           코이디아\n",
       "85299          이디야커피\n",
       "110825         이디야커피\n",
       "128237         이디야커피\n",
       "136776          코이디아\n",
       "164361        이디야이마트\n",
       "307802         이디야커피\n",
       "310411         이디아까페\n",
       "315086         이디야커피\n",
       "315155         이디야커피\n",
       "325123         이디야커피\n",
       "337221         이디야커피\n",
       "339601         이디야커피\n",
       "343355         이디야커피\n",
       "373954         이디야커피\n",
       "376872         이디야커피\n",
       "381899    이디야커피대구종로점\n",
       "383090         이디야커피\n",
       "391974     이디야커피대명동점\n",
       "400241    이디야커피대구봉덕점\n",
       "401564         이디야커피\n",
       "403762         이디야커피\n",
       "405304         이디야커피\n",
       "406076         이디야커피\n",
       "408164         이디야커피\n",
       "408701         이디야커피\n",
       "411412         이디야커피\n",
       "412400         이디야커피\n",
       "412855         이디야커피\n",
       "428415    이디야커피대구송현점\n",
       "438357         이디야커피\n",
       "439890         이디야커피\n",
       "442241         이디야커피\n",
       "489054         이디야커피\n",
       "494386         이디야커피\n",
       "512351         이디야커피\n",
       "Name: 상호명_소문자, dtype: object"
      ]
     },
     "execution_count": 84,
     "metadata": {},
     "output_type": "execute_result"
    }
   ],
   "source": [
    "# ediya 를 \"상호명_소문자\" 컬럼으로 가져옵니다.\n",
    "# '상호명_소문자'컬럼으로 '이디야|ediya' 를 가져와 갯수를 세어봅니다.\n",
    "# loc[행]\n",
    "# loc[행, 열]\n",
    "\n",
    "df_daegu.loc[df_daegu[\"상호명_소문자\"].str.contains(\"이디야|이디아|ediya\"), \"상호명_소문자\"]"
   ]
  },
  {
   "cell_type": "code",
   "execution_count": 83,
   "metadata": {},
   "outputs": [
    {
     "data": {
      "text/plain": [
       "(39,)"
      ]
     },
     "execution_count": 83,
     "metadata": {},
     "output_type": "execute_result"
    }
   ],
   "source": [
    "df_daegu.loc[df_daegu[\"상호명_소문자\"].str.contains(\"이디야|이디아|ediya\"), \"상호명_소문자\"].shape"
   ]
  },
  {
   "cell_type": "code",
   "execution_count": 86,
   "metadata": {},
   "outputs": [
    {
     "data": {
      "text/plain": [
       "30554     스타벅스동성로중앙점\n",
       "31198      스타벅스대구법원점\n",
       "31464           스타벅스\n",
       "41627           스타벅스\n",
       "53418           스타벅스\n",
       "             ...    \n",
       "488632          스타벅스\n",
       "493976          스타벅스\n",
       "495284          스타벅스\n",
       "495807          스타벅스\n",
       "517180          스타벅스\n",
       "Name: 상호명_소문자, Length: 77, dtype: object"
      ]
     },
     "execution_count": 86,
     "metadata": {},
     "output_type": "execute_result"
    }
   ],
   "source": [
    "# 상호명에서 스타벅스만 가져옵니다.\n",
    "# 상호명은 소문자로 변경해 준 컬럼을 사용합니다.\n",
    "# 스타벅스|starbucks 의 \"상호명_소문자\"로 갯수를 세어봅니다.\n",
    "\n",
    "df_daegu.loc[df_daegu[\"상호명_소문자\"].str.contains(\"스타벅스|starbucks\"), \"상호명_소문자\"]"
   ]
  },
  {
   "cell_type": "code",
   "execution_count": 85,
   "metadata": {},
   "outputs": [
    {
     "data": {
      "text/plain": [
       "(77,)"
      ]
     },
     "execution_count": 85,
     "metadata": {},
     "output_type": "execute_result"
    }
   ],
   "source": [
    "df_daegu.loc[df_daegu[\"상호명_소문자\"].str.contains(\"스타벅스|starbucks\"), \"상호명_소문자\"].shape"
   ]
  },
  {
   "cell_type": "code",
   "execution_count": 17,
   "metadata": {},
   "outputs": [
    {
     "data": {
      "text/plain": [
       "(116, 12)"
      ]
     },
     "execution_count": 17,
     "metadata": {},
     "output_type": "execute_result"
    }
   ],
   "source": [
    "# '상호명_소문자'컬럼으로  '스타벅스|starbucks|이디야|이디아|ediya'를 가져와 df_cafe 변수에 담습니다.\n",
    "df_cafe = df_daegu[\n",
    "    df_daegu[\"상호명_소문자\"].str.contains('스타벅스|starbucks|이디야|이디아|ediya')].copy()\n",
    "df_cafe.shape"
   ]
  },
  {
   "cell_type": "code",
   "execution_count": 21,
   "metadata": {},
   "outputs": [
    {
     "data": {
      "text/html": [
       "<div>\n",
       "<style scoped>\n",
       "    .dataframe tbody tr th:only-of-type {\n",
       "        vertical-align: middle;\n",
       "    }\n",
       "\n",
       "    .dataframe tbody tr th {\n",
       "        vertical-align: top;\n",
       "    }\n",
       "\n",
       "    .dataframe thead th {\n",
       "        text-align: right;\n",
       "    }\n",
       "</style>\n",
       "<table border=\"1\" class=\"dataframe\">\n",
       "  <thead>\n",
       "    <tr style=\"text-align: right;\">\n",
       "      <th></th>\n",
       "      <th>상호명_소문자</th>\n",
       "      <th>브랜드명</th>\n",
       "    </tr>\n",
       "  </thead>\n",
       "  <tbody>\n",
       "    <tr>\n",
       "      <th>16270</th>\n",
       "      <td>이디아커피시지점</td>\n",
       "      <td>이디야</td>\n",
       "    </tr>\n",
       "    <tr>\n",
       "      <th>30554</th>\n",
       "      <td>스타벅스동성로중앙점</td>\n",
       "      <td>스타벅스</td>\n",
       "    </tr>\n",
       "    <tr>\n",
       "      <th>31198</th>\n",
       "      <td>스타벅스대구법원점</td>\n",
       "      <td>스타벅스</td>\n",
       "    </tr>\n",
       "    <tr>\n",
       "      <th>31464</th>\n",
       "      <td>스타벅스</td>\n",
       "      <td>스타벅스</td>\n",
       "    </tr>\n",
       "    <tr>\n",
       "      <th>41627</th>\n",
       "      <td>스타벅스</td>\n",
       "      <td>스타벅스</td>\n",
       "    </tr>\n",
       "  </tbody>\n",
       "</table>\n",
       "</div>"
      ],
      "text/plain": [
       "          상호명_소문자  브랜드명\n",
       "16270    이디아커피시지점   이디야\n",
       "30554  스타벅스동성로중앙점  스타벅스\n",
       "31198   스타벅스대구법원점  스타벅스\n",
       "31464        스타벅스  스타벅스\n",
       "41627        스타벅스  스타벅스"
      ]
     },
     "execution_count": 21,
     "metadata": {},
     "output_type": "execute_result"
    }
   ],
   "source": [
    "# ~은 not을 의미합니다. 스타벅스가 아닌 데이터는 이디야로 넣어주어도 되지만\n",
    "# 아래 코드처럼 결측치를 이디야로 채워줘도 괜찮습니다.\n",
    "# df_cafe.loc[~df_cafe['상호명'].str.contains('스타벅스|starbucks'), '브랜드명'] = '이디야'\n",
    "\n",
    "df_cafe.loc[df_cafe[\"상호명_소문자\"].str.contains('스타벅스|starbucks'), \"브랜드명\"] = \"스타벅스\"\n",
    "df_cafe.loc[~df_cafe[\"상호명_소문자\"].str.contains('스타벅스|starbucks'), \"브랜드명\"] = \"이디야\"\n",
    "df_cafe[[\"상호명_소문자\", \"브랜드명\"]].head()"
   ]
  },
  {
   "cell_type": "code",
   "execution_count": 22,
   "metadata": {},
   "outputs": [
    {
     "data": {
      "text/html": [
       "<div>\n",
       "<style scoped>\n",
       "    .dataframe tbody tr th:only-of-type {\n",
       "        vertical-align: middle;\n",
       "    }\n",
       "\n",
       "    .dataframe tbody tr th {\n",
       "        vertical-align: top;\n",
       "    }\n",
       "\n",
       "    .dataframe thead th {\n",
       "        text-align: right;\n",
       "    }\n",
       "</style>\n",
       "<table border=\"1\" class=\"dataframe\">\n",
       "  <thead>\n",
       "    <tr style=\"text-align: right;\">\n",
       "      <th></th>\n",
       "      <th>상호명</th>\n",
       "      <th>브랜드명</th>\n",
       "    </tr>\n",
       "  </thead>\n",
       "  <tbody>\n",
       "    <tr>\n",
       "      <th>494386</th>\n",
       "      <td>이디야커피</td>\n",
       "      <td>이디야</td>\n",
       "    </tr>\n",
       "    <tr>\n",
       "      <th>495284</th>\n",
       "      <td>스타벅스</td>\n",
       "      <td>스타벅스</td>\n",
       "    </tr>\n",
       "    <tr>\n",
       "      <th>495807</th>\n",
       "      <td>스타벅스</td>\n",
       "      <td>스타벅스</td>\n",
       "    </tr>\n",
       "    <tr>\n",
       "      <th>512351</th>\n",
       "      <td>이디야커피</td>\n",
       "      <td>이디야</td>\n",
       "    </tr>\n",
       "    <tr>\n",
       "      <th>517180</th>\n",
       "      <td>스타벅스</td>\n",
       "      <td>스타벅스</td>\n",
       "    </tr>\n",
       "  </tbody>\n",
       "</table>\n",
       "</div>"
      ],
      "text/plain": [
       "          상호명  브랜드명\n",
       "494386  이디야커피   이디야\n",
       "495284   스타벅스  스타벅스\n",
       "495807   스타벅스  스타벅스\n",
       "512351  이디야커피   이디야\n",
       "517180   스타벅스  스타벅스"
      ]
     },
     "execution_count": 22,
     "metadata": {},
     "output_type": "execute_result"
    }
   ],
   "source": [
    "# df_cafe에 담긴 상호명','브랜드명'으로 미리보기를 합니다.\n",
    "\n",
    "df_cafe[[\"상호명\", \"브랜드명\"]].tail()"
   ]
  },
  {
   "cell_type": "markdown",
   "metadata": {},
   "source": [
    "### 시각화\n",
    "#### 분류별 countplot 그리기"
   ]
  },
  {
   "cell_type": "code",
   "execution_count": 23,
   "metadata": {},
   "outputs": [
    {
     "data": {
      "text/plain": [
       "<matplotlib.axes._subplots.AxesSubplot at 0x24359d8e1f0>"
      ]
     },
     "execution_count": 23,
     "metadata": {},
     "output_type": "execute_result"
    },
    {
     "data": {
      "image/png": "[encoded data removed]",
      "text/plain": [
       "<Figure size 432x288 with 1 Axes>"
      ]
     },
     "metadata": {
      "needs_background": "light"
     },
     "output_type": "display_data"
    }
   ],
   "source": [
    "# \"상권업중분류명\"을 countplot 으로 시각화하고 분류 혹은 데이터가 잘못 색인된 데이터가 있는지 봅니다.\n",
    "df_cafe[\"상권업종중분류명\"].value_counts().plot.barh()"
   ]
  },
  {
   "cell_type": "code",
   "execution_count": 24,
   "metadata": {},
   "outputs": [
    {
     "name": "stdout",
     "output_type": "stream",
     "text": [
      "(116, 13)\n"
     ]
    },
    {
     "data": {
      "text/plain": [
       "(114, 13)"
      ]
     },
     "execution_count": 24,
     "metadata": {},
     "output_type": "execute_result"
    }
   ],
   "source": [
    "print(df_cafe.shape)\n",
    "df_cafe = df_cafe[df_cafe[\"상권업종중분류명\"] == \"커피점/카페\"].copy()\n",
    "df_cafe.shape"
   ]
  },
  {
   "cell_type": "code",
   "execution_count": 26,
   "metadata": {},
   "outputs": [
    {
     "data": {
      "text/plain": [
       "스타벅스    77\n",
       "이디야     37\n",
       "Name: 브랜드명, dtype: int64"
      ]
     },
     "execution_count": 26,
     "metadata": {},
     "output_type": "execute_result"
    }
   ],
   "source": [
    "# 브랜드명으로 각 카페의 갯수를 세어봅니다.\n",
    "\n",
    "df_cafe[\"브랜드명\"].value_counts()"
   ]
  },
  {
   "cell_type": "code",
   "execution_count": 27,
   "metadata": {},
   "outputs": [
    {
     "data": {
      "text/plain": [
       "<matplotlib.axes._subplots.AxesSubplot at 0x2435c952f70>"
      ]
     },
     "execution_count": 27,
     "metadata": {},
     "output_type": "execute_result"
    },
    {
     "data": {
      "image/png": "[encoded data removed]",
      "text/plain": [
       "<Figure size 432x288 with 1 Axes>"
      ]
     },
     "metadata": {
      "needs_background": "light"
     },
     "output_type": "display_data"
    }
   ],
   "source": [
    "# 브랜드명을 막대그래프로 그려봅니다.\n",
    "\n",
    "sns.countplot(data=df_cafe, x=\"브랜드명\")"
   ]
  },
  {
   "cell_type": "code",
   "execution_count": 28,
   "metadata": {},
   "outputs": [
    {
     "data": {
      "text/plain": [
       "<matplotlib.axes._subplots.AxesSubplot at 0x2435c9b12e0>"
      ]
     },
     "execution_count": 28,
     "metadata": {},
     "output_type": "execute_result"
    },
    {
     "data": {
      "image/png": "[encoded data removed]",
      "text/plain": [
       "<Figure size 1080x288 with 1 Axes>"
      ]
     },
     "metadata": {
      "needs_background": "light"
     },
     "output_type": "display_data"
    }
   ],
   "source": [
    "plt.figure(figsize=(15, 4))\n",
    "sns.countplot(data=df_cafe, x=\"시군구명\", hue=\"브랜드명\")"
   ]
  },
  {
   "cell_type": "markdown",
   "metadata": {},
   "source": [
    "#### scatterplot 그리기\n",
    "* https://pandas.pydata.org/pandas-docs/stable/user_guide/visualization.html#scatter-plot"
   ]
  },
  {
   "cell_type": "code",
   "execution_count": 29,
   "metadata": {},
   "outputs": [
    {
     "data": {
      "text/plain": [
       "<matplotlib.axes._subplots.AxesSubplot at 0x2435ca41d60>"
      ]
     },
     "execution_count": 29,
     "metadata": {},
     "output_type": "execute_result"
    },
    {
     "data": {
      "image/png": "[encoded data removed]",
      "text/plain": [
       "<Figure size 432x288 with 1 Axes>"
      ]
     },
     "metadata": {
      "needs_background": "light"
     },
     "output_type": "display_data"
    }
   ],
   "source": [
    "# pandas로 scatterplot을 그려봅니다.\n",
    "\n",
    "df_cafe[[\"위도\", \"경도\"]].plot.scatter(x=\"경도\", y=\"위도\")"
   ]
  },
  {
   "cell_type": "code",
   "execution_count": 30,
   "metadata": {
    "scrolled": false
   },
   "outputs": [
    {
     "data": {
      "text/plain": [
       "<matplotlib.axes._subplots.AxesSubplot at 0x2435caa9910>"
      ]
     },
     "execution_count": 30,
     "metadata": {},
     "output_type": "execute_result"
    },
    {
     "data": {
      "image/png": "[encoded data removed]",
      "text/plain": [
       "<Figure size 432x288 with 1 Axes>"
      ]
     },
     "metadata": {
      "needs_background": "light"
     },
     "output_type": "display_data"
    }
   ],
   "source": [
    "# seaborn의 scatterplot 으로 hue에 브랜드명을 지정해서 시각화 합니다.\n",
    "sns.scatterplot(data=df_cafe, x=\"경도\", y=\"위도\", hue=\"브랜드명\")"
   ]
  },
  {
   "cell_type": "markdown",
   "metadata": {},
   "source": [
    "#### jointplot 그리기"
   ]
  },
  {
   "cell_type": "code",
   "execution_count": 31,
   "metadata": {},
   "outputs": [
    {
     "data": {
      "text/plain": [
       "<seaborn.axisgrid.JointGrid at 0x2435ca55a30>"
      ]
     },
     "execution_count": 31,
     "metadata": {},
     "output_type": "execute_result"
    },
    {
     "data": {
      "image/png": "[encoded data removed]",
      "text/plain": [
       "<Figure size 432x432 with 3 Axes>"
      ]
     },
     "metadata": {
      "needs_background": "light"
     },
     "output_type": "display_data"
    }
   ],
   "source": [
    "# jointplot 그리기\n",
    "sns.jointplot(data=df_cafe, x=\"경도\", y=\"위도\", kind=\"kde\" )"
   ]
  },
  {
   "cell_type": "markdown",
   "metadata": {},
   "source": [
    "## 구별 브랜드별 점포수\n",
    "### groupby 와 pivot_table 로 구별 스타벅스, 이디야 매장 수 구하기\n",
    "#### groupby 로 구별 매장수 구하기"
   ]
  },
  {
   "cell_type": "code",
   "execution_count": 32,
   "metadata": {},
   "outputs": [
    {
     "data": {
      "text/plain": [
       "시군구명  브랜드명\n",
       "남구    스타벅스     3\n",
       "      이디야      5\n",
       "달서구   스타벅스    19\n",
       "      이디야      6\n",
       "달성군   스타벅스     4\n",
       "Name: 상호명, dtype: int64"
      ]
     },
     "execution_count": 32,
     "metadata": {},
     "output_type": "execute_result"
    }
   ],
   "source": [
    "# 구별로 브랜드별 점포수를 구합니다.\n",
    "# groupby 를 사용하면 구별로 그룹화 해서 점포수를 구할 수 있습니다.\n",
    "# 그룹화한 결과를 df_cafe_vs 변수에 담아서 재사용합니다.\n",
    "\n",
    "df_cafe_vs = df_cafe.groupby([\"시군구명\", \"브랜드명\"])[\"상호명\"].count()\n",
    "df_cafe_vs.head()"
   ]
  },
  {
   "cell_type": "code",
   "execution_count": 33,
   "metadata": {},
   "outputs": [
    {
     "data": {
      "text/html": [
       "<div>\n",
       "<style scoped>\n",
       "    .dataframe tbody tr th:only-of-type {\n",
       "        vertical-align: middle;\n",
       "    }\n",
       "\n",
       "    .dataframe tbody tr th {\n",
       "        vertical-align: top;\n",
       "    }\n",
       "\n",
       "    .dataframe thead th {\n",
       "        text-align: right;\n",
       "    }\n",
       "</style>\n",
       "<table border=\"1\" class=\"dataframe\">\n",
       "  <thead>\n",
       "    <tr style=\"text-align: right;\">\n",
       "      <th></th>\n",
       "      <th></th>\n",
       "      <th>상호명</th>\n",
       "    </tr>\n",
       "    <tr>\n",
       "      <th>시군구명</th>\n",
       "      <th>브랜드명</th>\n",
       "      <th></th>\n",
       "    </tr>\n",
       "  </thead>\n",
       "  <tbody>\n",
       "    <tr>\n",
       "      <th rowspan=\"2\" valign=\"top\">남구</th>\n",
       "      <th>스타벅스</th>\n",
       "      <td>3</td>\n",
       "    </tr>\n",
       "    <tr>\n",
       "      <th>이디야</th>\n",
       "      <td>5</td>\n",
       "    </tr>\n",
       "    <tr>\n",
       "      <th rowspan=\"2\" valign=\"top\">달서구</th>\n",
       "      <th>스타벅스</th>\n",
       "      <td>19</td>\n",
       "    </tr>\n",
       "    <tr>\n",
       "      <th>이디야</th>\n",
       "      <td>6</td>\n",
       "    </tr>\n",
       "    <tr>\n",
       "      <th>달성군</th>\n",
       "      <th>스타벅스</th>\n",
       "      <td>4</td>\n",
       "    </tr>\n",
       "  </tbody>\n",
       "</table>\n",
       "</div>"
      ],
      "text/plain": [
       "           상호명\n",
       "시군구명 브랜드명     \n",
       "남구   스타벅스    3\n",
       "     이디야     5\n",
       "달서구  스타벅스   19\n",
       "     이디야     6\n",
       "달성군  스타벅스    4"
      ]
     },
     "execution_count": 33,
     "metadata": {},
     "output_type": "execute_result"
    }
   ],
   "source": [
    "df_cafe_vs.to_frame().head()"
   ]
  },
  {
   "cell_type": "code",
   "execution_count": 34,
   "metadata": {
    "scrolled": true
   },
   "outputs": [
    {
     "data": {
      "text/html": [
       "<div>\n",
       "<style scoped>\n",
       "    .dataframe tbody tr th:only-of-type {\n",
       "        vertical-align: middle;\n",
       "    }\n",
       "\n",
       "    .dataframe tbody tr th {\n",
       "        vertical-align: top;\n",
       "    }\n",
       "\n",
       "    .dataframe thead th {\n",
       "        text-align: right;\n",
       "    }\n",
       "</style>\n",
       "<table border=\"1\" class=\"dataframe\">\n",
       "  <thead>\n",
       "    <tr style=\"text-align: right;\">\n",
       "      <th></th>\n",
       "      <th>시군구명</th>\n",
       "      <th>브랜드명</th>\n",
       "      <th>상호명</th>\n",
       "    </tr>\n",
       "  </thead>\n",
       "  <tbody>\n",
       "    <tr>\n",
       "      <th>0</th>\n",
       "      <td>남구</td>\n",
       "      <td>스타벅스</td>\n",
       "      <td>3</td>\n",
       "    </tr>\n",
       "    <tr>\n",
       "      <th>1</th>\n",
       "      <td>남구</td>\n",
       "      <td>이디야</td>\n",
       "      <td>5</td>\n",
       "    </tr>\n",
       "    <tr>\n",
       "      <th>2</th>\n",
       "      <td>달서구</td>\n",
       "      <td>스타벅스</td>\n",
       "      <td>19</td>\n",
       "    </tr>\n",
       "    <tr>\n",
       "      <th>3</th>\n",
       "      <td>달서구</td>\n",
       "      <td>이디야</td>\n",
       "      <td>6</td>\n",
       "    </tr>\n",
       "    <tr>\n",
       "      <th>4</th>\n",
       "      <td>달성군</td>\n",
       "      <td>스타벅스</td>\n",
       "      <td>4</td>\n",
       "    </tr>\n",
       "  </tbody>\n",
       "</table>\n",
       "</div>"
      ],
      "text/plain": [
       "  시군구명  브랜드명  상호명\n",
       "0   남구  스타벅스    3\n",
       "1   남구   이디야    5\n",
       "2  달서구  스타벅스   19\n",
       "3  달서구   이디야    6\n",
       "4  달성군  스타벅스    4"
      ]
     },
     "execution_count": 34,
     "metadata": {},
     "output_type": "execute_result"
    }
   ],
   "source": [
    "# reset_index 로 인덱스를 컬럼으로 만듭니다.\n",
    "df_cafe_vs = df_cafe_vs.reset_index()\n",
    "df_cafe_vs.head()"
   ]
  },
  {
   "cell_type": "code",
   "execution_count": 35,
   "metadata": {},
   "outputs": [
    {
     "data": {
      "text/html": [
       "<div>\n",
       "<style scoped>\n",
       "    .dataframe tbody tr th:only-of-type {\n",
       "        vertical-align: middle;\n",
       "    }\n",
       "\n",
       "    .dataframe tbody tr th {\n",
       "        vertical-align: top;\n",
       "    }\n",
       "\n",
       "    .dataframe thead th {\n",
       "        text-align: right;\n",
       "    }\n",
       "</style>\n",
       "<table border=\"1\" class=\"dataframe\">\n",
       "  <thead>\n",
       "    <tr style=\"text-align: right;\">\n",
       "      <th></th>\n",
       "      <th>구</th>\n",
       "      <th>브랜드명</th>\n",
       "      <th>매장수</th>\n",
       "    </tr>\n",
       "  </thead>\n",
       "  <tbody>\n",
       "    <tr>\n",
       "      <th>0</th>\n",
       "      <td>남구</td>\n",
       "      <td>스타벅스</td>\n",
       "      <td>3</td>\n",
       "    </tr>\n",
       "    <tr>\n",
       "      <th>1</th>\n",
       "      <td>남구</td>\n",
       "      <td>이디야</td>\n",
       "      <td>5</td>\n",
       "    </tr>\n",
       "    <tr>\n",
       "      <th>2</th>\n",
       "      <td>달서구</td>\n",
       "      <td>스타벅스</td>\n",
       "      <td>19</td>\n",
       "    </tr>\n",
       "    <tr>\n",
       "      <th>3</th>\n",
       "      <td>달서구</td>\n",
       "      <td>이디야</td>\n",
       "      <td>6</td>\n",
       "    </tr>\n",
       "    <tr>\n",
       "      <th>4</th>\n",
       "      <td>달성군</td>\n",
       "      <td>스타벅스</td>\n",
       "      <td>4</td>\n",
       "    </tr>\n",
       "  </tbody>\n",
       "</table>\n",
       "</div>"
      ],
      "text/plain": [
       "     구  브랜드명  매장수\n",
       "0   남구  스타벅스    3\n",
       "1   남구   이디야    5\n",
       "2  달서구  스타벅스   19\n",
       "3  달서구   이디야    6\n",
       "4  달성군  스타벅스    4"
      ]
     },
     "execution_count": 35,
     "metadata": {},
     "output_type": "execute_result"
    }
   ],
   "source": [
    "# groupby '시군구명', '브랜드명' 으로 갯수를 세어봅니다.\n",
    "# 결과에 대한 데이터프레임 컬럼명을 ['구', '브랜드명', '매장수'] 로 지정합니다.\n",
    "\n",
    "df_cafe_vs.columns = ['구', '브랜드명', '매장수']\n",
    "df_cafe_vs.head()"
   ]
  },
  {
   "cell_type": "markdown",
   "metadata": {},
   "source": [
    "#### pivot_table 로 구별 매장수 구하기"
   ]
  },
  {
   "cell_type": "code",
   "execution_count": 36,
   "metadata": {},
   "outputs": [
    {
     "data": {
      "text/html": [
       "<div>\n",
       "<style scoped>\n",
       "    .dataframe tbody tr th:only-of-type {\n",
       "        vertical-align: middle;\n",
       "    }\n",
       "\n",
       "    .dataframe tbody tr th {\n",
       "        vertical-align: top;\n",
       "    }\n",
       "\n",
       "    .dataframe thead th {\n",
       "        text-align: right;\n",
       "    }\n",
       "</style>\n",
       "<table border=\"1\" class=\"dataframe\">\n",
       "  <thead>\n",
       "    <tr style=\"text-align: right;\">\n",
       "      <th></th>\n",
       "      <th></th>\n",
       "      <th>상호명</th>\n",
       "    </tr>\n",
       "    <tr>\n",
       "      <th>시군구명</th>\n",
       "      <th>브랜드명</th>\n",
       "      <th></th>\n",
       "    </tr>\n",
       "  </thead>\n",
       "  <tbody>\n",
       "    <tr>\n",
       "      <th rowspan=\"2\" valign=\"top\">남구</th>\n",
       "      <th>스타벅스</th>\n",
       "      <td>3</td>\n",
       "    </tr>\n",
       "    <tr>\n",
       "      <th>이디야</th>\n",
       "      <td>5</td>\n",
       "    </tr>\n",
       "    <tr>\n",
       "      <th rowspan=\"2\" valign=\"top\">달서구</th>\n",
       "      <th>스타벅스</th>\n",
       "      <td>19</td>\n",
       "    </tr>\n",
       "    <tr>\n",
       "      <th>이디야</th>\n",
       "      <td>6</td>\n",
       "    </tr>\n",
       "    <tr>\n",
       "      <th>달성군</th>\n",
       "      <th>스타벅스</th>\n",
       "      <td>4</td>\n",
       "    </tr>\n",
       "  </tbody>\n",
       "</table>\n",
       "</div>"
      ],
      "text/plain": [
       "           상호명\n",
       "시군구명 브랜드명     \n",
       "남구   스타벅스    3\n",
       "     이디야     5\n",
       "달서구  스타벅스   19\n",
       "     이디야     6\n",
       "달성군  스타벅스    4"
      ]
     },
     "execution_count": 36,
     "metadata": {},
     "output_type": "execute_result"
    }
   ],
   "source": [
    "# 위에서 했던 과정을 pivot_table 로 구합니다.\n",
    "\n",
    "pivot = pd.pivot_table(data=df_cafe, \n",
    "               index=[\"시군구명\", \"브랜드명\"], \n",
    "               values=\"상호명\", aggfunc=\"count\")\n",
    "pivot.head()"
   ]
  },
  {
   "cell_type": "code",
   "execution_count": 37,
   "metadata": {},
   "outputs": [
    {
     "data": {
      "text/html": [
       "<div>\n",
       "<style scoped>\n",
       "    .dataframe tbody tr th:only-of-type {\n",
       "        vertical-align: middle;\n",
       "    }\n",
       "\n",
       "    .dataframe tbody tr th {\n",
       "        vertical-align: top;\n",
       "    }\n",
       "\n",
       "    .dataframe thead th {\n",
       "        text-align: right;\n",
       "    }\n",
       "</style>\n",
       "<table border=\"1\" class=\"dataframe\">\n",
       "  <thead>\n",
       "    <tr style=\"text-align: right;\">\n",
       "      <th></th>\n",
       "      <th>상호명</th>\n",
       "    </tr>\n",
       "    <tr>\n",
       "      <th>브랜드명</th>\n",
       "      <th></th>\n",
       "    </tr>\n",
       "  </thead>\n",
       "  <tbody>\n",
       "    <tr>\n",
       "      <th>스타벅스</th>\n",
       "      <td>19</td>\n",
       "    </tr>\n",
       "    <tr>\n",
       "      <th>이디야</th>\n",
       "      <td>6</td>\n",
       "    </tr>\n",
       "  </tbody>\n",
       "</table>\n",
       "</div>"
      ],
      "text/plain": [
       "      상호명\n",
       "브랜드명     \n",
       "스타벅스   19\n",
       "이디야     6"
      ]
     },
     "execution_count": 37,
     "metadata": {},
     "output_type": "execute_result"
    }
   ],
   "source": [
    "# 특정 구 데이터만 가져와서 보기\n",
    "pivot.loc[\"달서구\"]"
   ]
  },
  {
   "cell_type": "markdown",
   "metadata": {},
   "source": [
    "### 막대그래프로 시각화 하기"
   ]
  },
  {
   "cell_type": "code",
   "execution_count": 38,
   "metadata": {
    "scrolled": true
   },
   "outputs": [
    {
     "data": {
      "text/plain": [
       "<matplotlib.axes._subplots.AxesSubplot at 0x2435a0e1b80>"
      ]
     },
     "execution_count": 38,
     "metadata": {},
     "output_type": "execute_result"
    },
    {
     "data": {
      "image/png": "[encoded data removed]",
      "text/plain": [
       "<Figure size 1080x288 with 1 Axes>"
      ]
     },
     "metadata": {
      "needs_background": "light"
     },
     "output_type": "display_data"
    }
   ],
   "source": [
    "# seaborn의 barplot 을 활용해 구별 매장수를 시각화 합니다.\n",
    "plt.figure(figsize=(15, 4))\n",
    "sns.barplot(data=df_cafe_vs, x=\"구\", y=\"매장수\", hue=\"브랜드명\")"
   ]
  },
  {
   "cell_type": "markdown",
   "metadata": {},
   "source": [
    "## Folium 으로 지도 활용하기\n",
    "* 다음의 프롬프트 창을 열어 conda 명령어로 설치합니다.\n",
    "<img src=\"https://i.imgur.com/x7pzfCP.jpg\">\n",
    "* <font color=\"red\">주피터 노트북 상에서 설치가 되지 않으니</font> anaconda prompt 를 열어서 설치해 주세요.\n",
    "\n",
    "\n",
    "* 윈도우\n",
    "    * <font color=\"red\">관리자 권한</font>으로 아나콘다를 설치하셨다면 다음의 방법으로 anaconda prompt 를 열어 주세요.\n",
    "    <img src=\"https://i.imgur.com/GhoLwsd.png\">\n",
    "* 맥\n",
    "    * terminal 프로그램을 열어 설치해 주세요. \n",
    "\n",
    "\n",
    "* 다음의 문서를 활용해서 지도를 표현합니다.\n",
    "* https://nbviewer.jupyter.org/github/python-visualization/folium/blob/master/examples/Quickstart.ipynb\n",
    "* Folium 사용예제 :\n",
    "http://nbviewer.jupyter.org/github/python-visualization/folium/tree/master/examples/"
   ]
  },
  {
   "cell_type": "code",
   "execution_count": 45,
   "metadata": {},
   "outputs": [],
   "source": [
    "# 지도 시각화를 위한 라이브러리\n",
    "import folium"
   ]
  },
  {
   "cell_type": "code",
   "execution_count": 46,
   "metadata": {},
   "outputs": [
    {
     "data": {
      "text/plain": [
       "(35.85493152535467, 128.58509692608465)"
      ]
     },
     "execution_count": 46,
     "metadata": {},
     "output_type": "execute_result"
    }
   ],
   "source": [
    "# 지도의 중심을 지정하기 위해 위도와 경도의 평균을 구합니다. \n",
    "\n",
    "lat = df_cafe[\"위도\"].mean()\n",
    "long = df_cafe[\"경도\"].mean()\n",
    "lat, long"
   ]
  },
  {
   "cell_type": "markdown",
   "metadata": {},
   "source": [
    "### 스타벅스 이디야 카페 매장 전체 분포\n",
    "* 스타벅스와 이디야 매장을 Marker와 CircleMarker로 지도에 표현합니다."
   ]
  },
  {
   "cell_type": "code",
   "execution_count": 48,
   "metadata": {},
   "outputs": [
    {
     "data": {
      "text/html": [
       "<div style=\"width:100%;\"><div style=\"position:relative;width:100%;height:0;padding-bottom:60%;\"><span style=\"color:#565656\">Make this Notebook Trusted to load map: File -> Trust Notebook</span><iframe src=\"about:blank\" style=\"position:absolute;width:100%;height:100%;left:0;top:0;border:none !important;\" data-html=PCFET0NUWVBFIGh0bWw+CjxoZWFkPiAgICAKICAgIDxtZXRhIGh0dHAtZXF1aXY9ImNvbnRlbnQtdHlwZSIgY29udGVudD0idGV4dC9odG1sOyBjaGFyc2V0PVVURi04IiAvPgogICAgCiAgICAgICAgPHNjcmlwdD4KICAgICAgICAgICAgTF9OT19UT1VDSCA9IGZhbHNlOwogICAgICAgICAgICBMX0RJU0FCTEVfM0QgPSBmYWxzZTsKICAgICAgICA8L3NjcmlwdD4KICAgIAogICAgPHNjcmlwdCBzcmM9Imh0dHBzOi8vY2RuLmpzZGVsaXZyLm5ldC9ucG0vbGVhZmxldEAxLjYuMC9kaXN0L2xlYWZsZXQuanMiPjwvc2NyaXB0PgogICAgPHNjcmlwdCBzcmM9Imh0dHBzOi8vY29kZS5qcXVlcnkuY29tL2pxdWVyeS0xLjEyLjQubWluLmpzIj48L3NjcmlwdD4KICAgIDxzY3JpcHQgc3JjPSJodHRwczovL21heGNkbi5ib290c3RyYXBjZG4uY29tL2Jvb3RzdHJhcC8zLjIuMC9qcy9ib290c3RyYXAubWluLmpzIj48L3NjcmlwdD4KICAgIDxzY3JpcHQgc3JjPSJodHRwczovL2NkbmpzLmNsb3VkZmxhcmUuY29tL2FqYXgvbGlicy9MZWFmbGV0LmF3ZXNvbWUtbWFya2Vycy8yLjAuMi9sZWFmbGV0LmF3ZXNvbWUtbWFya2Vycy5qcyI+PC9zY3JpcHQ+CiAgICA8bGluayByZWw9InN0eWxlc2hlZXQiIGhyZWY9Imh0dHBzOi8vY2RuLmpzZGVsaXZyLm5ldC9ucG0vbGVhZmxldEAxLjYuMC9kaXN0L2xlYWZsZXQuY3NzIi8+CiAgICA8bGluayByZWw9InN0eWxlc2hlZXQiIGhyZWY9Imh0dHBzOi8vbWF4Y2RuLmJvb3RzdHJhcGNkbi5jb20vYm9vdHN0cmFwLzMuMi4wL2Nzcy9ib290c3RyYXAubWluLmNzcyIvPgogICAgPGxpbmsgcmVsPSJzdHlsZXNoZWV0IiBocmVmPSJodHRwczovL21heGNkbi5ib290c3RyYXBjZG4uY29tL2Jvb3RzdHJhcC8zLjIuMC9jc3MvYm9vdHN0cmFwLXRoZW1lLm1pbi5jc3MiLz4KICAgIDxsaW5rIHJlbD0ic3R5bGVzaGVldCIgaHJlZj0iaHR0cHM6Ly9tYXhjZG4uYm9vdHN0cmFwY2RuLmNvbS9mb250LWF3ZXNvbWUvNC42LjMvY3NzL2ZvbnQtYXdlc29tZS5taW4uY3NzIi8+CiAgICA8bGluayByZWw9InN0eWxlc2hlZXQiIGhyZWY9Imh0dHBzOi8vY2RuanMuY2xvdWRmbGFyZS5jb20vYWpheC9saWJzL0xlYWZsZXQuYXdlc29tZS1tYXJrZXJzLzIuMC4yL2xlYWZsZXQuYXdlc29tZS1tYXJrZXJzLmNzcyIvPgogICAgPGxpbmsgcmVsPSJzdHlsZXNoZWV0IiBocmVmPSJodHRwczovL3Jhd2Nkbi5naXRoYWNrLmNvbS9weXRob24tdmlzdWFsaXphdGlvbi9mb2xpdW0vbWFzdGVyL2ZvbGl1bS90ZW1wbGF0ZXMvbGVhZmxldC5hd2Vzb21lLnJvdGF0ZS5jc3MiLz4KICAgIDxzdHlsZT5odG1sLCBib2R5IHt3aWR0aDogMTAwJTtoZWlnaHQ6IDEwMCU7bWFyZ2luOiAwO3BhZGRpbmc6IDA7fTwvc3R5bGU+CiAgICA8c3R5bGU+I21hcCB7cG9zaXRpb246YWJzb2x1dGU7dG9wOjA7Ym90dG9tOjA7cmlnaHQ6MDtsZWZ0OjA7fTwvc3R5bGU+CiAgICAKICAgICAgICAgICAgPG1ldGEgbmFtZT0idmlld3BvcnQiIGNvbnRlbnQ9IndpZHRoPWRldmljZS13aWR0aCwKICAgICAgICAgICAgICAgIGluaXRpYWwtc2NhbGU9MS4wLCBtYXhpbXVtLXNjYWxlPTEuMCwgdXNlci1zY2FsYWJsZT1ubyIgLz4KICAgICAgICAgICAgPHN0eWxlPgogICAgICAgICAgICAgICAgI21hcF80ZmYwNjc1MTg5MWQ0NGQ0ODM5YTBiODI3ZTBkMTQwZCB7CiAgICAgICAgICAgICAgICAgICAgcG9zaXRpb246IHJlbGF0aXZlOwogICAgICAgICAgICAgICAgICAgIHdpZHRoOiAxMDAuMCU7CiAgICAgICAgICAgICAgICAgICAgaGVpZ2h0OiAxMDAuMCU7CiAgICAgICAgICAgICAgICAgICAgbGVmdDogMC4wJTsKICAgICAgICAgICAgICAgICAgICB0b3A6IDAuMCU7CiAgICAgICAgICAgICAgICB9CiAgICAgICAgICAgIDwvc3R5bGU+CiAgICAgICAgCjwvaGVhZD4KPGJvZHk+ICAgIAogICAgCiAgICAgICAgICAgIDxkaXYgY2xhc3M9ImZvbGl1bS1tYXAiIGlkPSJtYXBfNGZmMDY3NTE4OTFkNDRkNDgzOWEwYjgyN2UwZDE0MGQiID48L2Rpdj4KICAgICAgICAKPC9ib2R5Pgo8c2NyaXB0PiAgICAKICAgIAogICAgICAgICAgICB2YXIgbWFwXzRmZjA2NzUxODkxZDQ0ZDQ4MzlhMGI4MjdlMGQxNDBkID0gTC5tYXAoCiAgICAgICAgICAgICAgICAibWFwXzRmZjA2NzUxODkxZDQ0ZDQ4MzlhMGI4MjdlMGQxNDBkIiwKICAgICAgICAgICAgICAgIHsKICAgICAgICAgICAgICAgICAgICBjZW50ZXI6IFszNS44NTQ5MzE1MjUzNTQ2NywgMTI4LjU4NTA5NjkyNjA4NDY1XSwKICAgICAgICAgICAgICAgICAgICBjcnM6IEwuQ1JTLkVQU0czODU3LAogICAgICAgICAgICAgICAgICAgIHpvb206IDEyLAogICAgICAgICAgICAgICAgICAgIHpvb21Db250cm9sOiB0cnVlLAogICAgICAgICAgICAgICAgICAgIHByZWZlckNhbnZhczogZmFsc2UsCiAgICAgICAgICAgICAgICB9CiAgICAgICAgICAgICk7CgogICAgICAgICAgICAKCiAgICAgICAgCiAgICAKICAgICAgICAgICAgdmFyIHRpbGVfbGF5ZXJfOWYyY2IwNDhjOWU4NDM4OTliYTM0OTU5N2Y0OGU1MjYgPSBMLnRpbGVMYXllcigKICAgICAgICAgICAgICAgICJodHRwczovL3tzfS50aWxlLm9wZW5zdHJlZXRtYXAub3JnL3t6fS97eH0ve3l9LnBuZyIsCiAgICAgICAgICAgICAgICB7ImF0dHJpYnV0aW9uIjogIkRhdGEgYnkgXHUwMDI2Y29weTsgXHUwMDNjYSBocmVmPVwiaHR0cDovL29wZW5zdHJlZXRtYXAub3JnXCJcdTAwM2VPcGVuU3RyZWV0TWFwXHUwMDNjL2FcdTAwM2UsIHVuZGVyIFx1MDAzY2EgaHJlZj1cImh0dHA6Ly93d3cub3BlbnN0cmVldG1hcC5vcmcvY29weXJpZ2h0XCJcdTAwM2VPRGJMXHUwMDNjL2FcdTAwM2UuIiwgImRldGVjdFJldGluYSI6IGZhbHNlLCAibWF4TmF0aXZlWm9vbSI6IDE4LCAibWF4Wm9vbSI6IDE4LCAibWluWm9vbSI6IDAsICJub1dyYXAiOiBmYWxzZSwgIm9wYWNpdHkiOiAxLCAic3ViZG9tYWlucyI6ICJhYmMiLCAidG1zIjogZmFsc2V9CiAgICAgICAgICAgICkuYWRkVG8obWFwXzRmZjA2NzUxODkxZDQ0ZDQ4MzlhMGI4MjdlMGQxNDBkKTsKICAgICAgICAKICAgIAogICAgICAgICAgICB2YXIgY2lyY2xlX21hcmtlcl9mNWNiNzRlMmJjZDI0ZTUzYjBlMjIyZWZkZjEwMThhYSA9IEwuY2lyY2xlTWFya2VyKAogICAgICAgICAgICAgICAgWzM1LjgzOTc4NzczMDExODksIDEyOC43MDQwNzUwOTAwMjhdLAogICAgICAgICAgICAgICAgeyJidWJibGluZ01vdXNlRXZlbnRzIjogdHJ1ZSwgImNvbG9yIjogImJsdWUiLCAiZGFzaEFycmF5IjogbnVsbCwgImRhc2hPZmZzZXQiOiBudWxsLCAiZmlsbCI6IGZhbHNlLCAiZmlsbENvbG9yIjogImJsdWUiLCAiZmlsbE9wYWNpdHkiOiAwLjIsICJmaWxsUnVsZSI6ICJldmVub2RkIiwgImxpbmVDYXAiOiAicm91bmQiLCAibGluZUpvaW4iOiAicm91bmQiLCAib3BhY2l0eSI6IDEuMCwgInJhZGl1cyI6IDMsICJzdHJva2UiOiB0cnVlLCAid2VpZ2h0IjogM30KICAgICAgICAgICAgKS5hZGRUbyhtYXBfNGZmMDY3NTE4OTFkNDRkNDgzOWEwYjgyN2UwZDE0MGQpOwogICAgICAgIAogICAgCiAgICAgICAgICAgIGNpcmNsZV9tYXJrZXJfZjVjYjc0ZTJiY2QyNGU1M2IwZTIyMmVmZGYxMDE4YWEuYmluZFRvb2x0aXAoCiAgICAgICAgICAgICAgICBgPGRpdj4KICAgICAgICAgICAgICAgICAgICAg7J2065SU7JWE7Luk7ZS87Iuc7KeA7KCQIC0g64yA6rWs6rSR7Jet7IucIOyImOyEseq1rCDqs6DsgrDroZwgMTAxCiAgICAgICAgICAgICAgICAgPC9kaXY+YCwKICAgICAgICAgICAgICAgIHsic3RpY2t5IjogdHJ1ZX0KICAgICAgICAgICAgKTsKICAgICAgICAKICAgIAogICAgICAgICAgICB2YXIgY2lyY2xlX21hcmtlcl81ZmVmMWI1OGE2NzY0YTYwYmRmNjNmZGE0NGQ4MDg5MyA9IEwuY2lyY2xlTWFya2VyKAogICAgICAgICAgICAgICAgWzM1Ljg2NzUwNzgwNTIwMTgsIDEyOC41OTY2NzcwOTQxXSwKICAgICAgICAgICAgICAgIHsiYnViYmxpbmdNb3VzZUV2ZW50cyI6IHRydWUsICJjb2xvciI6ICJncmVlbiIsICJkYXNoQXJyYXkiOiBudWxsLCAiZGFzaE9mZnNldCI6IG51bGwsICJmaWxsIjogZmFsc2UsICJmaWxsQ29sb3IiOiAiZ3JlZW4iLCAiZmlsbE9wYWNpdHkiOiAwLjIsICJmaWxsUnVsZSI6ICJldmVub2RkIiwgImxpbmVDYXAiOiAicm91bmQiLCAibGluZUpvaW4iOiAicm91bmQiLCAib3BhY2l0eSI6IDEuMCwgInJhZGl1cyI6IDMsICJzdHJva2UiOiB0cnVlLCAid2VpZ2h0IjogM30KICAgICAgICAgICAgKS5hZGRUbyhtYXBfNGZmMDY3NTE4OTFkNDRkNDgzOWEwYjgyN2UwZDE0MGQpOwogICAgICAgIAogICAgCiAgICAgICAgICAgIGNpcmNsZV9tYXJrZXJfNWZlZjFiNThhNjc2NGE2MGJkZjYzZmRhNDRkODA4OTMuYmluZFRvb2x0aXAoCiAgICAgICAgICAgICAgICBgPGRpdj4KICAgICAgICAgICAgICAgICAgICAg7Iqk7YOA67KF7Iqk64+Z7ISx66Gc7KSR7JWZ7KCQIC0g64yA6rWs6rSR7Jet7IucIOykkeq1rCDrj5nshLHroZw16ri4IDM4CiAgICAgICAgICAgICAgICAgPC9kaXY+YCwKICAgICAgICAgICAgICAgIHsic3RpY2t5IjogdHJ1ZX0KICAgICAgICAgICAgKTsKICAgICAgICAKICAgIAogICAgICAgICAgICB2YXIgY2lyY2xlX21hcmtlcl8zMzJkMmIyMWJlYzA0ZTAzOTUxZTYzOTljNzY0YmVkNiA9IEwuY2lyY2xlTWFya2VyKAogICAgICAgICAgICAgICAgWzM1Ljg2NDUzNzI0NDQ2MDI5NCwgMTI4LjYyNzc2OTU4NjMyNV0sCiAgICAgICAgICAgICAgICB7ImJ1YmJsaW5nTW91c2VFdmVudHMiOiB0cnVlLCAiY29sb3IiOiAiZ3JlZW4iLCAiZGFzaEFycmF5IjogbnVsbCwgImRhc2hPZmZzZXQiOiBudWxsLCAiZmlsbCI6IGZhbHNlLCAiZmlsbENvbG9yIjogImdyZWVuIiwgImZpbGxPcGFjaXR5IjogMC4yLCAiZmlsbFJ1bGUiOiAiZXZlbm9kZCIsICJsaW5lQ2FwIjogInJvdW5kIiwgImxpbmVKb2luIjogInJvdW5kIiwgIm9wYWNpdHkiOiAxLjAsICJyYWRpdXMiOiAzLCAic3Ryb2tlIjogdHJ1ZSwgIndlaWdodCI6IDN9CiAgICAgICAgICAgICkuYWRkVG8obWFwXzRmZjA2NzUxODkxZDQ0ZDQ4MzlhMGI4MjdlMGQxNDBkKTsKICAgICAgICAKICAgIAogICAgICAgICAgICBjaXJjbGVfbWFya2VyXzMzMmQyYjIxYmVjMDRlMDM5NTFlNjM5OWM3NjRiZWQ2LmJpbmRUb29sdGlwKAogICAgICAgICAgICAgICAgYDxkaXY+CiAgICAgICAgICAgICAgICAgICAgIOyKpO2DgOuyheyKpOuMgOq1rOuyleybkOygkCAtIOuMgOq1rOq0keyXreyLnCDsiJjshLHqtawg64+Z64yA6rWs66GcIDM3NgogICAgICAgICAgICAgICAgIDwvZGl2PmAsCiAgICAgICAgICAgICAgICB7InN0aWNreSI6IHRydWV9CiAgICAgICAgICAgICk7CiAgICAgICAgCiAgICAKICAgICAgICAgICAgdmFyIGNpcmNsZV9tYXJrZXJfMGJlNjYwMzU3Y2Y4NDMzNjhlMWM0NmVjYTE5YzBkZTIgPSBMLmNpcmNsZU1hcmtlcigKICAgICAgICAgICAgICAgIFszNS44MjI3OTEzMDU2NjA3OSwgMTI4LjUzMzc5MTA0MjEyM10sCiAgICAgICAgICAgICAgICB7ImJ1YmJsaW5nTW91c2VFdmVudHMiOiB0cnVlLCAiY29sb3IiOiAiZ3JlZW4iLCAiZGFzaEFycmF5IjogbnVsbCwgImRhc2hPZmZzZXQiOiBudWxsLCAiZmlsbCI6IGZhbHNlLCAiZmlsbENvbG9yIjogImdyZWVuIiwgImZpbGxPcGFjaXR5IjogMC4yLCAiZmlsbFJ1bGUiOiAiZXZlbm9kZCIsICJsaW5lQ2FwIjogInJvdW5kIiwgImxpbmVKb2luIjogInJvdW5kIiwgIm9wYWNpdHkiOiAxLjAsICJyYWRpdXMiOiAzLCAic3Ryb2tlIjogdHJ1ZSwgIndlaWdodCI6IDN9CiAgICAgICAgICAgICkuYWRkVG8obWFwXzRmZjA2NzUxODkxZDQ0ZDQ4MzlhMGI4MjdlMGQxNDBkKTsKICAgICAgICAKICAgIAogICAgICAgICAgICBjaXJjbGVfbWFya2VyXzBiZTY2MDM1N2NmODQzMzY4ZTFjNDZlY2ExOWMwZGUyLmJpbmRUb29sdGlwKAogICAgICAgICAgICAgICAgYDxkaXY+CiAgICAgICAgICAgICAgICAgICAgIOyKpO2DgOuyheyKpCAtIOuMgOq1rOq0keyXreyLnCDri6zshJzqtawg7JuU6rOh66GcIDMzNAogICAgICAgICAgICAgICAgIDwvZGl2PmAsCiAgICAgICAgICAgICAgICB7InN0aWNreSI6IHRydWV9CiAgICAgICAgICAgICk7CiAgICAgICAgCiAgICAKICAgICAgICAgICAgdmFyIGNpcmNsZV9tYXJrZXJfODU0OGVlOTQ2M2RjNDJiODk5ZTNmOGNjOGNjNTM4OWMgPSBMLmNpcmNsZU1hcmtlcigKICAgICAgICAgICAgICAgIFszNS44NTA3MTEzNzcxNjEzOTYsIDEyOC41MjAxMTcyMDQ3NTRdLAogICAgICAgICAgICAgICAgeyJidWJibGluZ01vdXNlRXZlbnRzIjogdHJ1ZSwgImNvbG9yIjogImdyZWVuIiwgImRhc2hBcnJheSI6IG51bGwsICJkYXNoT2Zmc2V0IjogbnVsbCwgImZpbGwiOiBmYWxzZSwgImZpbGxDb2xvciI6ICJncmVlbiIsICJmaWxsT3BhY2l0eSI6IDAuMiwgImZpbGxSdWxlIjogImV2ZW5vZGQiLCAibGluZUNhcCI6ICJyb3VuZCIsICJsaW5lSm9pbiI6ICJyb3VuZCIsICJvcGFjaXR5IjogMS4wLCAicmFkaXVzIjogMywgInN0cm9rZSI6IHRydWUsICJ3ZWlnaHQiOiAzfQogICAgICAgICAgICApLmFkZFRvKG1hcF80ZmYwNjc1MTg5MWQ0NGQ0ODM5YTBiODI3ZTBkMTQwZCk7CiAgICAgICAgCiAgICAKICAgICAgICAgICAgY2lyY2xlX21hcmtlcl84NTQ4ZWU5NDYzZGM0MmI4OTllM2Y4Y2M4Y2M1Mzg5Yy5iaW5kVG9vbHRpcCgKICAgICAgICAgICAgICAgIGA8ZGl2PgogICAgICAgICAgICAgICAgICAgICDsiqTtg4DrsoXsiqQgLSDrjIDqtazqtJHsl63si5wg64us7ISc6rWsIOuLrOq1rOuyjOuMgOuhnCAxMzkzCiAgICAgICAgICAgICAgICAgPC9kaXY+YCwKICAgICAgICAgICAgICAgIHsic3RpY2t5IjogdHJ1ZX0KICAgICAgICAgICAgKTsKICAgICAgICAKICAgIAogICAgICAgICAgICB2YXIgY2lyY2xlX21hcmtlcl8wMzc2Mjc0ZTdkNmM0MTAyYjdkMjE2NDA1ODFhZDc5OCA9IEwuY2lyY2xlTWFya2VyKAogICAgICAgICAgICAgICAgWzM1Ljg1OTE2MDI5ODk4OTIsIDEyOC40NjQyNTc4MjY5NjY5OV0sCiAgICAgICAgICAgICAgICB7ImJ1YmJsaW5nTW91c2VFdmVudHMiOiB0cnVlLCAiY29sb3IiOiAiZ3JlZW4iLCAiZGFzaEFycmF5IjogbnVsbCwgImRhc2hPZmZzZXQiOiBudWxsLCAiZmlsbCI6IGZhbHNlLCAiZmlsbENvbG9yIjogImdyZWVuIiwgImZpbGxPcGFjaXR5IjogMC4yLCAiZmlsbFJ1bGUiOiAiZXZlbm9kZCIsICJsaW5lQ2FwIjogInJvdW5kIiwgImxpbmVKb2luIjogInJvdW5kIiwgIm9wYWNpdHkiOiAxLjAsICJyYWRpdXMiOiAzLCAic3Ryb2tlIjogdHJ1ZSwgIndlaWdodCI6IDN9CiAgICAgICAgICAgICkuYWRkVG8obWFwXzRmZjA2NzUxODkxZDQ0ZDQ4MzlhMGI4MjdlMGQxNDBkKTsKICAgICAgICAKICAgIAogICAgICAgICAgICBjaXJjbGVfbWFya2VyXzAzNzYyNzRlN2Q2YzQxMDJiN2QyMTY0MDU4MWFkNzk4LmJpbmRUb29sdGlwKAogICAgICAgICAgICAgICAgYDxkaXY+CiAgICAgICAgICAgICAgICAgICAgIOyKpO2DgOuyheyKpCAtIOuMgOq1rOq0keyXreyLnCDri6zshLHqtbAg64uk7IKs7J2NIOuLrOq1rOuyjOuMgOuhnCA4NjEKICAgICAgICAgICAgICAgICA8L2Rpdj5gLAogICAgICAgICAgICAgICAgeyJzdGlja3kiOiB0cnVlfQogICAgICAgICAgICApOwogICAgICAgIAogICAgCiAgICAgICAgICAgIHZhciBjaXJjbGVfbWFya2VyX2QwZmM5YTFlZDI3MzRjYjQ4NzQ5ZTRiZTBhOGM0NmMyID0gTC5jaXJjbGVNYXJrZXIoCiAgICAgICAgICAgICAgICBbMzUuODY5NTUxNTU5MTYzMywgMTI4LjYwMDc0NTM0Mjk2OV0sCiAgICAgICAgICAgICAgICB7ImJ1YmJsaW5nTW91c2VFdmVudHMiOiB0cnVlLCAiY29sb3IiOiAiZ3JlZW4iLCAiZGFzaEFycmF5IjogbnVsbCwgImRhc2hPZmZzZXQiOiBudWxsLCAiZmlsbCI6IGZhbHNlLCAiZmlsbENvbG9yIjogImdyZWVuIiwgImZpbGxPcGFjaXR5IjogMC4yLCAiZmlsbFJ1bGUiOiAiZXZlbm9kZCIsICJsaW5lQ2FwIjogInJvdW5kIiwgImxpbmVKb2luIjogInJvdW5kIiwgIm9wYWNpdHkiOiAxLjAsICJyYWRpdXMiOiAzLCAic3Ryb2tlIjogdHJ1ZSwgIndlaWdodCI6IDN9CiAgICAgICAgICAgICkuYWRkVG8obWFwXzRmZjA2NzUxODkxZDQ0ZDQ4MzlhMGI4MjdlMGQxNDBkKTsKICAgICAgICAKICAgIAogICAgICAgICAgICBjaXJjbGVfbWFya2VyX2QwZmM5YTFlZDI3MzRjYjQ4NzQ5ZTRiZTBhOGM0NmMyLmJpbmRUb29sdGlwKAogICAgICAgICAgICAgICAgYDxkaXY+CiAgICAgICAgICAgICAgICAgICAgIOyKpO2DgOuyheyKpCAtIOuMgOq1rOq0keyXreyLnCDspJHqtawg6rWt7LGE67O07IOB66GcIDY0MgogICAgICAgICAgICAgICAgIDwvZGl2PmAsCiAgICAgICAgICAgICAgICB7InN0aWNreSI6IHRydWV9CiAgICAgICAgICAgICk7CiAgICAgICAgCiAgICAKICAgICAgICAgICAgdmFyIGNpcmNsZV9tYXJrZXJfYmNhNjE3NDI2MGRkNGFhMWIyZWFkOTM4MGU2MTU1NmUgPSBMLmNpcmNsZU1hcmtlcigKICAgICAgICAgICAgICAgIFszNS44ODUyMzQ3MDQyMjIzLCAxMjguNTg5Nzk5MDc3MTMyXSwKICAgICAgICAgICAgICAgIHsiYnViYmxpbmdNb3VzZUV2ZW50cyI6IHRydWUsICJjb2xvciI6ICJibHVlIiwgImRhc2hBcnJheSI6IG51bGwsICJkYXNoT2Zmc2V0IjogbnVsbCwgImZpbGwiOiBmYWxzZSwgImZpbGxDb2xvciI6ICJibHVlIiwgImZpbGxPcGFjaXR5IjogMC4yLCAiZmlsbFJ1bGUiOiAiZXZlbm9kZCIsICJsaW5lQ2FwIjogInJvdW5kIiwgImxpbmVKb2luIjogInJvdW5kIiwgIm9wYWNpdHkiOiAxLjAsICJyYWRpdXMiOiAzLCAic3Ryb2tlIjogdHJ1ZSwgIndlaWdodCI6IDN9CiAgICAgICAgICAgICkuYWRkVG8obWFwXzRmZjA2NzUxODkxZDQ0ZDQ4MzlhMGI4MjdlMGQxNDBkKTsKICAgICAgICAKICAgIAogICAgICAgICAgICBjaXJjbGVfbWFya2VyX2JjYTYxNzQyNjBkZDRhYTFiMmVhZDkzODBlNjE1NTZlLmJpbmRUb29sdGlwKAogICAgICAgICAgICAgICAgYDxkaXY+CiAgICAgICAgICAgICAgICAgICAgIOydtOuUlOyVvOy7pO2UvCAtIOuMgOq1rOq0keyXreyLnCDrtoHqtawg7Lmo7IKw66GcIDkzCiAgICAgICAgICAgICAgICAgPC9kaXY+YCwKICAgICAgICAgICAgICAgIHsic3RpY2t5IjogdHJ1ZX0KICAgICAgICAgICAgKTsKICAgICAgICAKICAgIAogICAgICAgICAgICB2YXIgY2lyY2xlX21hcmtlcl9iOTE4YjBlNzljMzY0Y2RiOTVjYzI3YWE2OWNmYTUwOSA9IEwuY2lyY2xlTWFya2VyKAogICAgICAgICAgICAgICAgWzM1Ljg1NTgyNzQ2MzE1NTksIDEyOC40OTMxNDY2OTM5NjJdLAogICAgICAgICAgICAgICAgeyJidWJibGluZ01vdXNlRXZlbnRzIjogdHJ1ZSwgImNvbG9yIjogImJsdWUiLCAiZGFzaEFycmF5IjogbnVsbCwgImRhc2hPZmZzZXQiOiBudWxsLCAiZmlsbCI6IGZhbHNlLCAiZmlsbENvbG9yIjogImJsdWUiLCAiZmlsbE9wYWNpdHkiOiAwLjIsICJmaWxsUnVsZSI6ICJldmVub2RkIiwgImxpbmVDYXAiOiAicm91bmQiLCAibGluZUpvaW4iOiAicm91bmQiLCAib3BhY2l0eSI6IDEuMCwgInJhZGl1cyI6IDMsICJzdHJva2UiOiB0cnVlLCAid2VpZ2h0IjogM30KICAgICAgICAgICAgKS5hZGRUbyhtYXBfNGZmMDY3NTE4OTFkNDRkNDgzOWEwYjgyN2UwZDE0MGQpOwogICAgICAgIAogICAgCiAgICAgICAgICAgIGNpcmNsZV9tYXJrZXJfYjkxOGIwZTc5YzM2NGNkYjk1Y2MyN2FhNjljZmE1MDkuYmluZFRvb2x0aXAoCiAgICAgICAgICAgICAgICBgPGRpdj4KICAgICAgICAgICAgICAgICAgICAg7J2065SU7JW87Luk7ZS8IC0g64yA6rWs6rSR7Jet7IucIOuLrOyEnOq1rCDqs4TrjIDrj5nrrLjroZwgNwogICAgICAgICAgICAgICAgIDwvZGl2PmAsCiAgICAgICAgICAgICAgICB7InN0aWNreSI6IHRydWV9CiAgICAgICAgICAgICk7CiAgICAgICAgCiAgICAKICAgICAgICAgICAgdmFyIGNpcmNsZV9tYXJrZXJfYWQ1ZjBhNjM0MzA1NDU5MmE4YWRlYjI5NWIxZmY0MDYgPSBMLmNpcmNsZU1hcmtlcigKICAgICAgICAgICAgICAgIFszNS44NjcyOTQ4ODUwMDA2MDQsIDEyOC41OTQxNzI5NDA4MTldLAogICAgICAgICAgICAgICAgeyJidWJibGluZ01vdXNlRXZlbnRzIjogdHJ1ZSwgImNvbG9yIjogImdyZWVuIiwgImRhc2hBcnJheSI6IG51bGwsICJkYXNoT2Zmc2V0IjogbnVsbCwgImZpbGwiOiBmYWxzZSwgImZpbGxDb2xvciI6ICJncmVlbiIsICJmaWxsT3BhY2l0eSI6IDAuMiwgImZpbGxSdWxlIjogImV2ZW5vZGQiLCAibGluZUNhcCI6ICJyb3VuZCIsICJsaW5lSm9pbiI6ICJyb3VuZCIsICJvcGFjaXR5IjogMS4wLCAicmFkaXVzIjogMywgInN0cm9rZSI6IHRydWUsICJ3ZWlnaHQiOiAzfQogICAgICAgICAgICApLmFkZFRvKG1hcF80ZmYwNjc1MTg5MWQ0NGQ0ODM5YTBiODI3ZTBkMTQwZCk7CiAgICAgICAgCiAgICAKICAgICAgICAgICAgY2lyY2xlX21hcmtlcl9hZDVmMGE2MzQzMDU0NTkyYThhZGViMjk1YjFmZjQwNi5iaW5kVG9vbHRpcCgKICAgICAgICAgICAgICAgIGA8ZGl2PgogICAgICAgICAgICAgICAgICAgICDsiqTtg4DrsoXsiqQgLSDrjIDqtazqtJHsl63si5wg7KSR6rWsIOuPmeyEseuhnCA0CiAgICAgICAgICAgICAgICAgPC9kaXY+YCwKICAgICAgICAgICAgICAgIHsic3RpY2t5IjogdHJ1ZX0KICAgICAgICAgICAgKTsKICAgICAgICAKICAgIAogICAgICAgICAgICB2YXIgY2lyY2xlX21hcmtlcl9jNGNiNzc1NDFhOTk0M2YxOWNmNDFhMjJmNzhlYzQ4ZSA9IEwuY2lyY2xlTWFya2VyKAogICAgICAgICAgICAgICAgWzM1Ljg1ODk3MzU0MjIyNjUsIDEyOC42MjMwNjQzNzAzMDcwMl0sCiAgICAgICAgICAgICAgICB7ImJ1YmJsaW5nTW91c2VFdmVudHMiOiB0cnVlLCAiY29sb3IiOiAiZ3JlZW4iLCAiZGFzaEFycmF5IjogbnVsbCwgImRhc2hPZmZzZXQiOiBudWxsLCAiZmlsbCI6IGZhbHNlLCAiZmlsbENvbG9yIjogImdyZWVuIiwgImZpbGxPcGFjaXR5IjogMC4yLCAiZmlsbFJ1bGUiOiAiZXZlbm9kZCIsICJsaW5lQ2FwIjogInJvdW5kIiwgImxpbmVKb2luIjogInJvdW5kIiwgIm9wYWNpdHkiOiAxLjAsICJyYWRpdXMiOiAzLCAic3Ryb2tlIjogdHJ1ZSwgIndlaWdodCI6IDN9CiAgICAgICAgICAgICkuYWRkVG8obWFwXzRmZjA2NzUxODkxZDQ0ZDQ4MzlhMGI4MjdlMGQxNDBkKTsKICAgICAgICAKICAgIAogICAgICAgICAgICBjaXJjbGVfbWFya2VyX2M0Y2I3NzU0MWE5OTQzZjE5Y2Y0MWEyMmY3OGVjNDhlLmJpbmRUb29sdGlwKAogICAgICAgICAgICAgICAgYDxkaXY+CiAgICAgICAgICAgICAgICAgICAgIOyKpO2DgOuyheyKpOyImOyEseuylOyWtOyXreygkCAtIOuMgOq1rOq0keyXreyLnCDsiJjshLHqtawg64us6rWs67KM64yA66GcIDIzODItMQogICAgICAgICAgICAgICAgIDwvZGl2PmAsCiAgICAgICAgICAgICAgICB7InN0aWNreSI6IHRydWV9CiAgICAgICAgICAgICk7CiAgICAgICAgCiAgICAKICAgICAgICAgICAgdmFyIGNpcmNsZV9tYXJrZXJfOTgxMjBlODE1Y2E5NDBkMWJiNzM1Njk0MjVjZmRlMjcgPSBMLmNpcmNsZU1hcmtlcigKICAgICAgICAgICAgICAgIFszNS44NTgyNTQ3MTIyOTQsIDEyOC41NTY1MDQ5MDUyMTZdLAogICAgICAgICAgICAgICAgeyJidWJibGluZ01vdXNlRXZlbnRzIjogdHJ1ZSwgImNvbG9yIjogImdyZWVuIiwgImRhc2hBcnJheSI6IG51bGwsICJkYXNoT2Zmc2V0IjogbnVsbCwgImZpbGwiOiBmYWxzZSwgImZpbGxDb2xvciI6ICJncmVlbiIsICJmaWxsT3BhY2l0eSI6IDAuMiwgImZpbGxSdWxlIjogImV2ZW5vZGQiLCAibGluZUNhcCI6ICJyb3VuZCIsICJsaW5lSm9pbiI6ICJyb3VuZCIsICJvcGFjaXR5IjogMS4wLCAicmFkaXVzIjogMywgInN0cm9rZSI6IHRydWUsICJ3ZWlnaHQiOiAzfQogICAgICAgICAgICApLmFkZFRvKG1hcF80ZmYwNjc1MTg5MWQ0NGQ0ODM5YTBiODI3ZTBkMTQwZCk7CiAgICAgICAgCiAgICAKICAgICAgICAgICAgY2lyY2xlX21hcmtlcl85ODEyMGU4MTVjYTk0MGQxYmI3MzU2OTQyNWNmZGUyNy5iaW5kVG9vbHRpcCgKICAgICAgICAgICAgICAgIGA8ZGl2PgogICAgICAgICAgICAgICAgICAgICDsiqTtg4DrsoXsiqQgLSDrjIDqtazqtJHsl63si5wg7ISc6rWsIOyEnOuMgOq1rOuhnCAzCiAgICAgICAgICAgICAgICAgPC9kaXY+YCwKICAgICAgICAgICAgICAgIHsic3RpY2t5IjogdHJ1ZX0KICAgICAgICAgICAgKTsKICAgICAgICAKICAgIAogICAgICAgICAgICB2YXIgY2lyY2xlX21hcmtlcl9jOTg0NDJlOWE0OTI0NmIzYTBiYjMyZmRiODYwN2VkZSA9IEwuY2lyY2xlTWFya2VyKAogICAgICAgICAgICAgICAgWzM1Ljg2MTE2MDk2MzI1MzUsIDEyOC42MTMwOTQxODg0NThdLAogICAgICAgICAgICAgICAgeyJidWJibGluZ01vdXNlRXZlbnRzIjogdHJ1ZSwgImNvbG9yIjogImdyZWVuIiwgImRhc2hBcnJheSI6IG51bGwsICJkYXNoT2Zmc2V0IjogbnVsbCwgImZpbGwiOiBmYWxzZSwgImZpbGxDb2xvciI6ICJncmVlbiIsICJmaWxsT3BhY2l0eSI6IDAuMiwgImZpbGxSdWxlIjogImV2ZW5vZGQiLCAibGluZUNhcCI6ICJyb3VuZCIsICJsaW5lSm9pbiI6ICJyb3VuZCIsICJvcGFjaXR5IjogMS4wLCAicmFkaXVzIjogMywgInN0cm9rZSI6IHRydWUsICJ3ZWlnaHQiOiAzfQogICAgICAgICAgICApLmFkZFRvKG1hcF80ZmYwNjc1MTg5MWQ0NGQ0ODM5YTBiODI3ZTBkMTQwZCk7CiAgICAgICAgCiAgICAKICAgICAgICAgICAgY2lyY2xlX21hcmtlcl9jOTg0NDJlOWE0OTI0NmIzYTBiYjMyZmRiODYwN2VkZS5iaW5kVG9vbHRpcCgKICAgICAgICAgICAgICAgIGA8ZGl2PgogICAgICAgICAgICAgICAgICAgICDsiqTtg4DrsoXsiqQgLSDrjIDqtazqtJHsl63si5wg7IiY7ISx6rWsIOyImOyEseuhnCAzOTMKICAgICAgICAgICAgICAgICA8L2Rpdj5gLAogICAgICAgICAgICAgICAgeyJzdGlja3kiOiB0cnVlfQogICAgICAgICAgICApOwogICAgICAgIAogICAgCiAgICAgICAgICAgIHZhciBjaXJjbGVfbWFya2VyXzkxYmI3MmNmMjc0YjRjOWY4M2ZkMzZiM2Y4YzFlYTY0ID0gTC5jaXJjbGVNYXJrZXIoCiAgICAgICAgICAgICAgICBbMzUuODUyNDg3MDA5NzA1MSwgMTI4LjYzNDU0OTc5MTI0OTAxXSwKICAgICAgICAgICAgICAgIHsiYnViYmxpbmdNb3VzZUV2ZW50cyI6IHRydWUsICJjb2xvciI6ICJibHVlIiwgImRhc2hBcnJheSI6IG51bGwsICJkYXNoT2Zmc2V0IjogbnVsbCwgImZpbGwiOiBmYWxzZSwgImZpbGxDb2xvciI6ICJibHVlIiwgImZpbGxPcGFjaXR5IjogMC4yLCAiZmlsbFJ1bGUiOiAiZXZlbm9kZCIsICJsaW5lQ2FwIjogInJvdW5kIiwgImxpbmVKb2luIjogInJvdW5kIiwgIm9wYWNpdHkiOiAxLjAsICJyYWRpdXMiOiAzLCAic3Ryb2tlIjogdHJ1ZSwgIndlaWdodCI6IDN9CiAgICAgICAgICAgICkuYWRkVG8obWFwXzRmZjA2NzUxODkxZDQ0ZDQ4MzlhMGI4MjdlMGQxNDBkKTsKICAgICAgICAKICAgIAogICAgICAgICAgICBjaXJjbGVfbWFya2VyXzkxYmI3MmNmMjc0YjRjOWY4M2ZkMzZiM2Y4YzFlYTY0LmJpbmRUb29sdGlwKAogICAgICAgICAgICAgICAgYDxkaXY+CiAgICAgICAgICAgICAgICAgICAgIOydtOuUlOyVvOy7pO2UvCAtIOuMgOq1rOq0keyXreyLnCDsiJjshLHqtawg64us6rWs67KM64yA66GcNDk26ri4IDcyCiAgICAgICAgICAgICAgICAgPC9kaXY+YCwKICAgICAgICAgICAgICAgIHsic3RpY2t5IjogdHJ1ZX0KICAgICAgICAgICAgKTsKICAgICAgICAKICAgIAogICAgICAgICAgICB2YXIgY2lyY2xlX21hcmtlcl9hNjYxYTNiYzM1OWU0YjEzYWYzM2UwZTg1MDcxYTAxNSA9IEwuY2lyY2xlTWFya2VyKAogICAgICAgICAgICAgICAgWzM1Ljg4MDA5MzY0MTYxMTQsIDEyOC42NTMxOTg3MTQxXSwKICAgICAgICAgICAgICAgIHsiYnViYmxpbmdNb3VzZUV2ZW50cyI6IHRydWUsICJjb2xvciI6ICJncmVlbiIsICJkYXNoQXJyYXkiOiBudWxsLCAiZGFzaE9mZnNldCI6IG51bGwsICJmaWxsIjogZmFsc2UsICJmaWxsQ29sb3IiOiAiZ3JlZW4iLCAiZmlsbE9wYWNpdHkiOiAwLjIsICJmaWxsUnVsZSI6ICJldmVub2RkIiwgImxpbmVDYXAiOiAicm91bmQiLCAibGluZUpvaW4iOiAicm91bmQiLCAib3BhY2l0eSI6IDEuMCwgInJhZGl1cyI6IDMsICJzdHJva2UiOiB0cnVlLCAid2VpZ2h0IjogM30KICAgICAgICAgICAgKS5hZGRUbyhtYXBfNGZmMDY3NTE4OTFkNDRkNDgzOWEwYjgyN2UwZDE0MGQpOwogICAgICAgIAogICAgCiAgICAgICAgICAgIGNpcmNsZV9tYXJrZXJfYTY2MWEzYmMzNTllNGIxM2FmMzNlMGU4NTA3MWEwMTUuYmluZFRvb2x0aXAoCiAgICAgICAgICAgICAgICBgPGRpdj4KICAgICAgICAgICAgICAgICAgICAg7Iqk7YOA67KF7IqkIC0g64yA6rWs6rSR7Jet7IucIOuPmeq1rCDtmqjrj5nroZwy6ri4IDQ1CiAgICAgICAgICAgICAgICAgPC9kaXY+YCwKICAgICAgICAgICAgICAgIHsic3RpY2t5IjogdHJ1ZX0KICAgICAgICAgICAgKTsKICAgICAgICAKICAgIAogICAgICAgICAgICB2YXIgY2lyY2xlX21hcmtlcl85Y2I0ZDBhOGFmODk0MDYwODA0ZWM0NDRkMjNjYzcyMiA9IEwuY2lyY2xlTWFya2VyKAogICAgICAgICAgICAgICAgWzM1Ljg3MDg4ODAxNDg4MzUsIDEyOC43Mjc0NzE5NTMyMzddLAogICAgICAgICAgICAgICAgeyJidWJibGluZ01vdXNlRXZlbnRzIjogdHJ1ZSwgImNvbG9yIjogImdyZWVuIiwgImRhc2hBcnJheSI6IG51bGwsICJkYXNoT2Zmc2V0IjogbnVsbCwgImZpbGwiOiBmYWxzZSwgImZpbGxDb2xvciI6ICJncmVlbiIsICJmaWxsT3BhY2l0eSI6IDAuMiwgImZpbGxSdWxlIjogImV2ZW5vZGQiLCAibGluZUNhcCI6ICJyb3VuZCIsICJsaW5lSm9pbiI6ICJyb3VuZCIsICJvcGFjaXR5IjogMS4wLCAicmFkaXVzIjogMywgInN0cm9rZSI6IHRydWUsICJ3ZWlnaHQiOiAzfQogICAgICAgICAgICApLmFkZFRvKG1hcF80ZmYwNjc1MTg5MWQ0NGQ0ODM5YTBiODI3ZTBkMTQwZCk7CiAgICAgICAgCiAgICAKICAgICAgICAgICAgY2lyY2xlX21hcmtlcl85Y2I0ZDBhOGFmODk0MDYwODA0ZWM0NDRkMjNjYzcyMi5iaW5kVG9vbHRpcCgKICAgICAgICAgICAgICAgIGA8ZGl2PgogICAgICAgICAgICAgICAgICAgICDsiqTtg4DrsoXsiqQgLSDrjIDqtazqtJHsl63si5wg64+Z6rWsIOyViOyLrOuhnCAzODktMgogICAgICAgICAgICAgICAgIDwvZGl2PmAsCiAgICAgICAgICAgICAgICB7InN0aWNreSI6IHRydWV9CiAgICAgICAgICAgICk7CiAgICAgICAgCiAgICAKICAgICAgICAgICAgdmFyIGNpcmNsZV9tYXJrZXJfYmU2OWE1NDllMGNjNGM1ZjljZDliMzdmMDBjNzQ0MTUgPSBMLmNpcmNsZU1hcmtlcigKICAgICAgICAgICAgICAgIFszNS44Mzk1MDI5NTAyMjI5LCAxMjguNzA4MDU3NTI5MjM1XSwKICAgICAgICAgICAgICAgIHsiYnViYmxpbmdNb3VzZUV2ZW50cyI6IHRydWUsICJjb2xvciI6ICJncmVlbiIsICJkYXNoQXJyYXkiOiBudWxsLCAiZGFzaE9mZnNldCI6IG51bGwsICJmaWxsIjogZmFsc2UsICJmaWxsQ29sb3IiOiAiZ3JlZW4iLCAiZmlsbE9wYWNpdHkiOiAwLjIsICJmaWxsUnVsZSI6ICJldmVub2RkIiwgImxpbmVDYXAiOiAicm91bmQiLCAibGluZUpvaW4iOiAicm91bmQiLCAib3BhY2l0eSI6IDEuMCwgInJhZGl1cyI6IDMsICJzdHJva2UiOiB0cnVlLCAid2VpZ2h0IjogM30KICAgICAgICAgICAgKS5hZGRUbyhtYXBfNGZmMDY3NTE4OTFkNDRkNDgzOWEwYjgyN2UwZDE0MGQpOwogICAgICAgIAogICAgCiAgICAgICAgICAgIGNpcmNsZV9tYXJrZXJfYmU2OWE1NDllMGNjNGM1ZjljZDliMzdmMDBjNzQ0MTUuYmluZFRvb2x0aXAoCiAgICAgICAgICAgICAgICBgPGRpdj4KICAgICAgICAgICAgICAgICAgICAg7Iqk7YOA67KF7Iqk64yA6rWs7Iuc7KeA7KCQIC0g64yA6rWs6rSR7Jet7IucIOyImOyEseq1rCDri6zqtazrsozrjIDroZwgMzIxNgogICAgICAgICAgICAgICAgIDwvZGl2PmAsCiAgICAgICAgICAgICAgICB7InN0aWNreSI6IHRydWV9CiAgICAgICAgICAgICk7CiAgICAgICAgCiAgICAKICAgICAgICAgICAgdmFyIGNpcmNsZV9tYXJrZXJfOWJmZGU3NTMxZGU2NGJjY2JhNWQ5ZWUxNWNkNjNiNWUgPSBMLmNpcmNsZU1hcmtlcigKICAgICAgICAgICAgICAgIFszNS44NjEwMDEzNzQ3MTQsIDEyOC42MjgyODQyNTE1MV0sCiAgICAgICAgICAgICAgICB7ImJ1YmJsaW5nTW91c2VFdmVudHMiOiB0cnVlLCAiY29sb3IiOiAiZ3JlZW4iLCAiZGFzaEFycmF5IjogbnVsbCwgImRhc2hPZmZzZXQiOiBudWxsLCAiZmlsbCI6IGZhbHNlLCAiZmlsbENvbG9yIjogImdyZWVuIiwgImZpbGxPcGFjaXR5IjogMC4yLCAiZmlsbFJ1bGUiOiAiZXZlbm9kZCIsICJsaW5lQ2FwIjogInJvdW5kIiwgImxpbmVKb2luIjogInJvdW5kIiwgIm9wYWNpdHkiOiAxLjAsICJyYWRpdXMiOiAzLCAic3Ryb2tlIjogdHJ1ZSwgIndlaWdodCI6IDN9CiAgICAgICAgICAgICkuYWRkVG8obWFwXzRmZjA2NzUxODkxZDQ0ZDQ4MzlhMGI4MjdlMGQxNDBkKTsKICAgICAgICAKICAgIAogICAgICAgICAgICBjaXJjbGVfbWFya2VyXzliZmRlNzUzMWRlNjRiY2NiYTVkOWVlMTVjZDYzYjVlLmJpbmRUb29sdGlwKAogICAgICAgICAgICAgICAgYDxkaXY+CiAgICAgICAgICAgICAgICAgICAgIOyKpO2DgOuyheyKpOuMgOq1rOuylOyWtOygnOuLiOyKpCAtIOuMgOq1rOq0keyXreyLnCDsiJjshLHqtawg64us6rWs67KM64yA66GcIDI0MzUKICAgICAgICAgICAgICAgICA8L2Rpdj5gLAogICAgICAgICAgICAgICAgeyJzdGlja3kiOiB0cnVlfQogICAgICAgICAgICApOwogICAgICAgIAogICAgCiAgICAgICAgICAgIHZhciBjaXJjbGVfbWFya2VyXzZkOTE4MmExOGZjNzQ3NTI4NjkxMzk1MWQ0M2JlZDdiID0gTC5jaXJjbGVNYXJrZXIoCiAgICAgICAgICAgICAgICBbMzUuODY3MjQwNTQxNTU3NCwgMTI4LjU5Nzg1OTkyODgxMV0sCiAgICAgICAgICAgICAgICB7ImJ1YmJsaW5nTW91c2VFdmVudHMiOiB0cnVlLCAiY29sb3IiOiAiZ3JlZW4iLCAiZGFzaEFycmF5IjogbnVsbCwgImRhc2hPZmZzZXQiOiBudWxsLCAiZmlsbCI6IGZhbHNlLCAiZmlsbENvbG9yIjogImdyZWVuIiwgImZpbGxPcGFjaXR5IjogMC4yLCAiZmlsbFJ1bGUiOiAiZXZlbm9kZCIsICJsaW5lQ2FwIjogInJvdW5kIiwgImxpbmVKb2luIjogInJvdW5kIiwgIm9wYWNpdHkiOiAxLjAsICJyYWRpdXMiOiAzLCAic3Ryb2tlIjogdHJ1ZSwgIndlaWdodCI6IDN9CiAgICAgICAgICAgICkuYWRkVG8obWFwXzRmZjA2NzUxODkxZDQ0ZDQ4MzlhMGI4MjdlMGQxNDBkKTsKICAgICAgICAKICAgIAogICAgICAgICAgICBjaXJjbGVfbWFya2VyXzZkOTE4MmExOGZjNzQ3NTI4NjkxMzk1MWQ0M2JlZDdiLmJpbmRUb29sdGlwKAogICAgICAgICAgICAgICAgYDxkaXY+CiAgICAgICAgICAgICAgICAgICAgIOyKpO2DgOuyheyKpCAtIOuMgOq1rOq0keyXreyLnCDspJHqtawg64+Z7ISx66GcNeq4uCA2MgogICAgICAgICAgICAgICAgIDwvZGl2PmAsCiAgICAgICAgICAgICAgICB7InN0aWNreSI6IHRydWV9CiAgICAgICAgICAgICk7CiAgICAgICAgCiAgICAKICAgICAgICAgICAgdmFyIGNpcmNsZV9tYXJrZXJfNzVhNTczMzcyMDA4NGRjNmJiMWM3YzJlNWQ3OTZkY2IgPSBMLmNpcmNsZU1hcmtlcigKICAgICAgICAgICAgICAgIFszNS45MjIwNDEwMDQwMzMyMDQsIDEyOC42Mzk3Njk5NTQ3MjVdLAogICAgICAgICAgICAgICAgeyJidWJibGluZ01vdXNlRXZlbnRzIjogdHJ1ZSwgImNvbG9yIjogImdyZWVuIiwgImRhc2hBcnJheSI6IG51bGwsICJkYXNoT2Zmc2V0IjogbnVsbCwgImZpbGwiOiBmYWxzZSwgImZpbGxDb2xvciI6ICJncmVlbiIsICJmaWxsT3BhY2l0eSI6IDAuMiwgImZpbGxSdWxlIjogImV2ZW5vZGQiLCAibGluZUNhcCI6ICJyb3VuZCIsICJsaW5lSm9pbiI6ICJyb3VuZCIsICJvcGFjaXR5IjogMS4wLCAicmFkaXVzIjogMywgInN0cm9rZSI6IHRydWUsICJ3ZWlnaHQiOiAzfQogICAgICAgICAgICApLmFkZFRvKG1hcF80ZmYwNjc1MTg5MWQ0NGQ0ODM5YTBiODI3ZTBkMTQwZCk7CiAgICAgICAgCiAgICAKICAgICAgICAgICAgY2lyY2xlX21hcmtlcl83NWE1NzMzNzIwMDg0ZGM2YmIxYzdjMmU1ZDc5NmRjYi5iaW5kVG9vbHRpcCgKICAgICAgICAgICAgICAgIGA8ZGl2PgogICAgICAgICAgICAgICAgICAgICDsiqTtg4DrsoXsiqQgLSDrjIDqtazqtJHsl63si5wg64+Z6rWsIO2MlOqzteuhnDUx6ri4IDE1LTExCiAgICAgICAgICAgICAgICAgPC9kaXY+YCwKICAgICAgICAgICAgICAgIHsic3RpY2t5IjogdHJ1ZX0KICAgICAgICAgICAgKTsKICAgICAgICAKICAgIAogICAgICAgICAgICB2YXIgY2lyY2xlX21hcmtlcl9lOTc5ZGUzYTY2ODI0NmQ0YjU4OWU3NWQyZWFkZDNjYSA9IEwuY2lyY2xlTWFya2VyKAogICAgICAgICAgICAgICAgWzM1Ljg1NTg1MTc3NDI0MTUsIDEyOC40OTM4MTExNDgzMDA5OF0sCiAgICAgICAgICAgICAgICB7ImJ1YmJsaW5nTW91c2VFdmVudHMiOiB0cnVlLCAiY29sb3IiOiAiZ3JlZW4iLCAiZGFzaEFycmF5IjogbnVsbCwgImRhc2hPZmZzZXQiOiBudWxsLCAiZmlsbCI6IGZhbHNlLCAiZmlsbENvbG9yIjogImdyZWVuIiwgImZpbGxPcGFjaXR5IjogMC4yLCAiZmlsbFJ1bGUiOiAiZXZlbm9kZCIsICJsaW5lQ2FwIjogInJvdW5kIiwgImxpbmVKb2luIjogInJvdW5kIiwgIm9wYWNpdHkiOiAxLjAsICJyYWRpdXMiOiAzLCAic3Ryb2tlIjogdHJ1ZSwgIndlaWdodCI6IDN9CiAgICAgICAgICAgICkuYWRkVG8obWFwXzRmZjA2NzUxODkxZDQ0ZDQ4MzlhMGI4MjdlMGQxNDBkKTsKICAgICAgICAKICAgIAogICAgICAgICAgICBjaXJjbGVfbWFya2VyX2U5NzlkZTNhNjY4MjQ2ZDRiNTg5ZTc1ZDJlYWRkM2NhLmJpbmRUb29sdGlwKAogICAgICAgICAgICAgICAgYDxkaXY+CiAgICAgICAgICAgICAgICAgICAgIOyKpO2DgOuyheyKpCAtIOuMgOq1rOq0keyXreyLnCDri6zshJzqtawg6rOE64yA64+Z66y466GcIDEzCiAgICAgICAgICAgICAgICAgPC9kaXY+YCwKICAgICAgICAgICAgICAgIHsic3RpY2t5IjogdHJ1ZX0KICAgICAgICAgICAgKTsKICAgICAgICAKICAgIAogICAgICAgICAgICB2YXIgY2lyY2xlX21hcmtlcl8xYTVmODRiNTEyODA0NWJlYjhkMGFkODE0NjJmZmE0NyA9IEwuY2lyY2xlTWFya2VyKAogICAgICAgICAgICAgICAgWzM1Ljg2NzM3Mjc4NzkyNDQsIDEyOC43MjQ1MDU0MzIyMDZdLAogICAgICAgICAgICAgICAgeyJidWJibGluZ01vdXNlRXZlbnRzIjogdHJ1ZSwgImNvbG9yIjogImJsdWUiLCAiZGFzaEFycmF5IjogbnVsbCwgImRhc2hPZmZzZXQiOiBudWxsLCAiZmlsbCI6IGZhbHNlLCAiZmlsbENvbG9yIjogImJsdWUiLCAiZmlsbE9wYWNpdHkiOiAwLjIsICJmaWxsUnVsZSI6ICJldmVub2RkIiwgImxpbmVDYXAiOiAicm91bmQiLCAibGluZUpvaW4iOiAicm91bmQiLCAib3BhY2l0eSI6IDEuMCwgInJhZGl1cyI6IDMsICJzdHJva2UiOiB0cnVlLCAid2VpZ2h0IjogM30KICAgICAgICAgICAgKS5hZGRUbyhtYXBfNGZmMDY3NTE4OTFkNDRkNDgzOWEwYjgyN2UwZDE0MGQpOwogICAgICAgIAogICAgCiAgICAgICAgICAgIGNpcmNsZV9tYXJrZXJfMWE1Zjg0YjUxMjgwNDViZWI4ZDBhZDgxNDYyZmZhNDcuYmluZFRvb2x0aXAoCiAgICAgICAgICAgICAgICBgPGRpdj4KICAgICAgICAgICAgICAgICAgICAg7J2065SU7JW87Luk7ZS8IC0g64yA6rWs6rSR7Jet7IucIOuPmeq1rCDquIjqsJXroZwgNQogICAgICAgICAgICAgICAgIDwvZGl2PmAsCiAgICAgICAgICAgICAgICB7InN0aWNreSI6IHRydWV9CiAgICAgICAgICAgICk7CiAgICAgICAgCiAgICAKICAgICAgICAgICAgdmFyIGNpcmNsZV9tYXJrZXJfNjdiMDJhYTFiZGZkNGE4NjlmYjZkYTkzZGM4ZTM0M2YgPSBMLmNpcmNsZU1hcmtlcigKICAgICAgICAgICAgICAgIFszNS44NTUwNzA3MjQ2OTU4LCAxMjguNTEwMzI1MTU3MTYwMDNdLAogICAgICAgICAgICAgICAgeyJidWJibGluZ01vdXNlRXZlbnRzIjogdHJ1ZSwgImNvbG9yIjogImdyZWVuIiwgImRhc2hBcnJheSI6IG51bGwsICJkYXNoT2Zmc2V0IjogbnVsbCwgImZpbGwiOiBmYWxzZSwgImZpbGxDb2xvciI6ICJncmVlbiIsICJmaWxsT3BhY2l0eSI6IDAuMiwgImZpbGxSdWxlIjogImV2ZW5vZGQiLCAibGluZUNhcCI6ICJyb3VuZCIsICJsaW5lSm9pbiI6ICJyb3VuZCIsICJvcGFjaXR5IjogMS4wLCAicmFkaXVzIjogMywgInN0cm9rZSI6IHRydWUsICJ3ZWlnaHQiOiAzfQogICAgICAgICAgICApLmFkZFRvKG1hcF80ZmYwNjc1MTg5MWQ0NGQ0ODM5YTBiODI3ZTBkMTQwZCk7CiAgICAgICAgCiAgICAKICAgICAgICAgICAgY2lyY2xlX21hcmtlcl82N2IwMmFhMWJkZmQ0YTg2OWZiNmRhOTNkYzhlMzQzZi5iaW5kVG9vbHRpcCgKICAgICAgICAgICAgICAgIGA8ZGl2PgogICAgICAgICAgICAgICAgICAgICDsiqTtg4DrsoXsiqQgLSDrjIDqtazqtJHsl63si5wg64us7ISc6rWsIOydtOqzoeqzteybkOuhnCAyNgogICAgICAgICAgICAgICAgIDwvZGl2PmAsCiAgICAgICAgICAgICAgICB7InN0aWNreSI6IHRydWV9CiAgICAgICAgICAgICk7CiAgICAgICAgCiAgICAKICAgICAgICAgICAgdmFyIGNpcmNsZV9tYXJrZXJfYWQxYTdhOTczN2FhNDUyY2I2ZTc1NTI0MjE2YWFjMmUgPSBMLmNpcmNsZU1hcmtlcigKICAgICAgICAgICAgICAgIFszNS44NTYzNjg5NjQ5MjE0LCAxMjguNjUwMjM2MTIzMjg2XSwKICAgICAgICAgICAgICAgIHsiYnViYmxpbmdNb3VzZUV2ZW50cyI6IHRydWUsICJjb2xvciI6ICJncmVlbiIsICJkYXNoQXJyYXkiOiBudWxsLCAiZGFzaE9mZnNldCI6IG51bGwsICJmaWxsIjogZmFsc2UsICJmaWxsQ29sb3IiOiAiZ3JlZW4iLCAiZmlsbE9wYWNpdHkiOiAwLjIsICJmaWxsUnVsZSI6ICJldmVub2RkIiwgImxpbmVDYXAiOiAicm91bmQiLCAibGluZUpvaW4iOiAicm91bmQiLCAib3BhY2l0eSI6IDEuMCwgInJhZGl1cyI6IDMsICJzdHJva2UiOiB0cnVlLCAid2VpZ2h0IjogM30KICAgICAgICAgICAgKS5hZGRUbyhtYXBfNGZmMDY3NTE4OTFkNDRkNDgzOWEwYjgyN2UwZDE0MGQpOwogICAgICAgIAogICAgCiAgICAgICAgICAgIGNpcmNsZV9tYXJrZXJfYWQxYTdhOTczN2FhNDUyY2I2ZTc1NTI0MjE2YWFjMmUuYmluZFRvb2x0aXAoCiAgICAgICAgICAgICAgICBgPGRpdj4KICAgICAgICAgICAgICAgICAgICAg7Iqk7YOA67KF7IqkIC0g64yA6rWs6rSR7Jet7IucIOyImOyEseq1rCDri6zqtazrsozrjIDroZwgMjYzNgogICAgICAgICAgICAgICAgIDwvZGl2PmAsCiAgICAgICAgICAgICAgICB7InN0aWNreSI6IHRydWV9CiAgICAgICAgICAgICk7CiAgICAgICAgCiAgICAKICAgICAgICAgICAgdmFyIGNpcmNsZV9tYXJrZXJfYjhkOGZmNzczZWJhNDcwNDk0ZmMzMDdjZDkxMGYxNDQgPSBMLmNpcmNsZU1hcmtlcigKICAgICAgICAgICAgICAgIFszNS44MzUzMDQxMDQ0MTM5LCAxMjguNTc5OTc2NTUyMTY4XSwKICAgICAgICAgICAgICAgIHsiYnViYmxpbmdNb3VzZUV2ZW50cyI6IHRydWUsICJjb2xvciI6ICJncmVlbiIsICJkYXNoQXJyYXkiOiBudWxsLCAiZGFzaE9mZnNldCI6IG51bGwsICJmaWxsIjogZmFsc2UsICJmaWxsQ29sb3IiOiAiZ3JlZW4iLCAiZmlsbE9wYWNpdHkiOiAwLjIsICJmaWxsUnVsZSI6ICJldmVub2RkIiwgImxpbmVDYXAiOiAicm91bmQiLCAibGluZUpvaW4iOiAicm91bmQiLCAib3BhY2l0eSI6IDEuMCwgInJhZGl1cyI6IDMsICJzdHJva2UiOiB0cnVlLCAid2VpZ2h0IjogM30KICAgICAgICAgICAgKS5hZGRUbyhtYXBfNGZmMDY3NTE4OTFkNDRkNDgzOWEwYjgyN2UwZDE0MGQpOwogICAgICAgIAogICAgCiAgICAgICAgICAgIGNpcmNsZV9tYXJrZXJfYjhkOGZmNzczZWJhNDcwNDk0ZmMzMDdjZDkxMGYxNDQuYmluZFRvb2x0aXAoCiAgICAgICAgICAgICAgICBgPGRpdj4KICAgICAgICAgICAgICAgICAgICAg7Iqk7YOA67KF7IqkIC0g64yA6rWs6rSR7Jet7IucIOuCqOq1rCDtmITstqnroZwgMzAKICAgICAgICAgICAgICAgICA8L2Rpdj5gLAogICAgICAgICAgICAgICAgeyJzdGlja3kiOiB0cnVlfQogICAgICAgICAgICApOwogICAgICAgIAogICAgCiAgICAgICAgICAgIHZhciBjaXJjbGVfbWFya2VyX2YxN2RmZWQzZWNhNTRhNjliZWNhZjlmNjYyODRlNDk0ID0gTC5jaXJjbGVNYXJrZXIoCiAgICAgICAgICAgICAgICBbMzUuODY2MTY3NTI5ODE0NywgMTI4LjYyNjI1NDM1NzI2Mjk4XSwKICAgICAgICAgICAgICAgIHsiYnViYmxpbmdNb3VzZUV2ZW50cyI6IHRydWUsICJjb2xvciI6ICJncmVlbiIsICJkYXNoQXJyYXkiOiBudWxsLCAiZGFzaE9mZnNldCI6IG51bGwsICJmaWxsIjogZmFsc2UsICJmaWxsQ29sb3IiOiAiZ3JlZW4iLCAiZmlsbE9wYWNpdHkiOiAwLjIsICJmaWxsUnVsZSI6ICJldmVub2RkIiwgImxpbmVDYXAiOiAicm91bmQiLCAibGluZUpvaW4iOiAicm91bmQiLCAib3BhY2l0eSI6IDEuMCwgInJhZGl1cyI6IDMsICJzdHJva2UiOiB0cnVlLCAid2VpZ2h0IjogM30KICAgICAgICAgICAgKS5hZGRUbyhtYXBfNGZmMDY3NTE4OTFkNDRkNDgzOWEwYjgyN2UwZDE0MGQpOwogICAgICAgIAogICAgCiAgICAgICAgICAgIGNpcmNsZV9tYXJrZXJfZjE3ZGZlZDNlY2E1NGE2OWJlY2FmOWY2NjI4NGU0OTQuYmluZFRvb2x0aXAoCiAgICAgICAgICAgICAgICBgPGRpdj4KICAgICAgICAgICAgICAgICAgICAg7Iqk7YOA67KF7IqkIC0g64yA6rWs6rSR7Jet7IucIOyImOyEseq1rCDrj5nrjIDqtazroZwgNDAxCiAgICAgICAgICAgICAgICAgPC9kaXY+YCwKICAgICAgICAgICAgICAgIHsic3RpY2t5IjogdHJ1ZX0KICAgICAgICAgICAgKTsKICAgICAgICAKICAgIAogICAgICAgICAgICB2YXIgY2lyY2xlX21hcmtlcl82MzIwYzlmNTcyZTA0YzFiYjFlMzMzYTdmOTE1MDA5YyA9IEwuY2lyY2xlTWFya2VyKAogICAgICAgICAgICAgICAgWzM1Ljg0NDQ2NDQ0MjI5NTQsIDEyOC41MzY2ODE2MDk3NTZdLAogICAgICAgICAgICAgICAgeyJidWJibGluZ01vdXNlRXZlbnRzIjogdHJ1ZSwgImNvbG9yIjogImdyZWVuIiwgImRhc2hBcnJheSI6IG51bGwsICJkYXNoT2Zmc2V0IjogbnVsbCwgImZpbGwiOiBmYWxzZSwgImZpbGxDb2xvciI6ICJncmVlbiIsICJmaWxsT3BhY2l0eSI6IDAuMiwgImZpbGxSdWxlIjogImV2ZW5vZGQiLCAibGluZUNhcCI6ICJyb3VuZCIsICJsaW5lSm9pbiI6ICJyb3VuZCIsICJvcGFjaXR5IjogMS4wLCAicmFkaXVzIjogMywgInN0cm9rZSI6IHRydWUsICJ3ZWlnaHQiOiAzfQogICAgICAgICAgICApLmFkZFRvKG1hcF80ZmYwNjc1MTg5MWQ0NGQ0ODM5YTBiODI3ZTBkMTQwZCk7CiAgICAgICAgCiAgICAKICAgICAgICAgICAgY2lyY2xlX21hcmtlcl82MzIwYzlmNTcyZTA0YzFiYjFlMzMzYTdmOTE1MDA5Yy5iaW5kVG9vbHRpcCgKICAgICAgICAgICAgICAgIGA8ZGl2PgogICAgICAgICAgICAgICAgICAgICDsiqTtg4DrsoXsiqQgLSDrjIDqtazqtJHsl63si5wg64us7ISc6rWsIOyZgOujoeuhnCAxMzEKICAgICAgICAgICAgICAgICA8L2Rpdj5gLAogICAgICAgICAgICAgICAgeyJzdGlja3kiOiB0cnVlfQogICAgICAgICAgICApOwogICAgICAgIAogICAgCiAgICAgICAgICAgIHZhciBjaXJjbGVfbWFya2VyXzAwNDFmMjhiNWUxNDRlMWQ5YmQyMjI1ZWVmZWI0OGZjID0gTC5jaXJjbGVNYXJrZXIoCiAgICAgICAgICAgICAgICBbMzUuOTg3OTcxNDUxMTI1OCwgMTI4LjYzNjQwOTE4MzI5XSwKICAgICAgICAgICAgICAgIHsiYnViYmxpbmdNb3VzZUV2ZW50cyI6IHRydWUsICJjb2xvciI6ICJncmVlbiIsICJkYXNoQXJyYXkiOiBudWxsLCAiZGFzaE9mZnNldCI6IG51bGwsICJmaWxsIjogZmFsc2UsICJmaWxsQ29sb3IiOiAiZ3JlZW4iLCAiZmlsbE9wYWNpdHkiOiAwLjIsICJmaWxsUnVsZSI6ICJldmVub2RkIiwgImxpbmVDYXAiOiAicm91bmQiLCAibGluZUpvaW4iOiAicm91bmQiLCAib3BhY2l0eSI6IDEuMCwgInJhZGl1cyI6IDMsICJzdHJva2UiOiB0cnVlLCAid2VpZ2h0IjogM30KICAgICAgICAgICAgKS5hZGRUbyhtYXBfNGZmMDY3NTE4OTFkNDRkNDgzOWEwYjgyN2UwZDE0MGQpOwogICAgICAgIAogICAgCiAgICAgICAgICAgIGNpcmNsZV9tYXJrZXJfMDA0MWYyOGI1ZTE0NGUxZDliZDIyMjVlZWZlYjQ4ZmMuYmluZFRvb2x0aXAoCiAgICAgICAgICAgICAgICBgPGRpdj4KICAgICAgICAgICAgICAgICAgICAg7Iqk7YOA67KF7IqkIC0g64yA6rWs6rSR7Jet7IucIOuPmeq1rCDtjIzqs4TroZwgNjUwCiAgICAgICAgICAgICAgICAgPC9kaXY+YCwKICAgICAgICAgICAgICAgIHsic3RpY2t5IjogdHJ1ZX0KICAgICAgICAgICAgKTsKICAgICAgICAKICAgIAogICAgICAgICAgICB2YXIgY2lyY2xlX21hcmtlcl8yYWNkYjdiOTM1MzY0NjdlYjMzNjQ3NmZjNjMyOTFiYiA9IEwuY2lyY2xlTWFya2VyKAogICAgICAgICAgICAgICAgWzM1Ljg0MjcwNTI5MTMzOTQsIDEyOC41Nzk3MDkzOTg3NzFdLAogICAgICAgICAgICAgICAgeyJidWJibGluZ01vdXNlRXZlbnRzIjogdHJ1ZSwgImNvbG9yIjogImJsdWUiLCAiZGFzaEFycmF5IjogbnVsbCwgImRhc2hPZmZzZXQiOiBudWxsLCAiZmlsbCI6IGZhbHNlLCAiZmlsbENvbG9yIjogImJsdWUiLCAiZmlsbE9wYWNpdHkiOiAwLjIsICJmaWxsUnVsZSI6ICJldmVub2RkIiwgImxpbmVDYXAiOiAicm91bmQiLCAibGluZUpvaW4iOiAicm91bmQiLCAib3BhY2l0eSI6IDEuMCwgInJhZGl1cyI6IDMsICJzdHJva2UiOiB0cnVlLCAid2VpZ2h0IjogM30KICAgICAgICAgICAgKS5hZGRUbyhtYXBfNGZmMDY3NTE4OTFkNDRkNDgzOWEwYjgyN2UwZDE0MGQpOwogICAgICAgIAogICAgCiAgICAgICAgICAgIGNpcmNsZV9tYXJrZXJfMmFjZGI3YjkzNTM2NDY3ZWIzMzY0NzZmYzYzMjkxYmIuYmluZFRvb2x0aXAoCiAgICAgICAgICAgICAgICBgPGRpdj4KICAgICAgICAgICAgICAgICAgICAg7J2065SU7JW87Luk7ZS8IC0g64yA6rWs6rSR7Jet7IucIOuCqOq1rCDtmITstqnroZwgMTA3CiAgICAgICAgICAgICAgICAgPC9kaXY+YCwKICAgICAgICAgICAgICAgIHsic3RpY2t5IjogdHJ1ZX0KICAgICAgICAgICAgKTsKICAgICAgICAKICAgIAogICAgICAgICAgICB2YXIgY2lyY2xlX21hcmtlcl81ZGMxZTA1MzU2NDA0NDA1YmE5MDUwZWE1YjU4ZWQ1ZiA9IEwuY2lyY2xlTWFya2VyKAogICAgICAgICAgICAgICAgWzM1LjgzNzkyNzk4MDUyNTcwNiwgMTI4LjU1Njg5NDIzNjQ1M10sCiAgICAgICAgICAgICAgICB7ImJ1YmJsaW5nTW91c2VFdmVudHMiOiB0cnVlLCAiY29sb3IiOiAiZ3JlZW4iLCAiZGFzaEFycmF5IjogbnVsbCwgImRhc2hPZmZzZXQiOiBudWxsLCAiZmlsbCI6IGZhbHNlLCAiZmlsbENvbG9yIjogImdyZWVuIiwgImZpbGxPcGFjaXR5IjogMC4yLCAiZmlsbFJ1bGUiOiAiZXZlbm9kZCIsICJsaW5lQ2FwIjogInJvdW5kIiwgImxpbmVKb2luIjogInJvdW5kIiwgIm9wYWNpdHkiOiAxLjAsICJyYWRpdXMiOiAzLCAic3Ryb2tlIjogdHJ1ZSwgIndlaWdodCI6IDN9CiAgICAgICAgICAgICkuYWRkVG8obWFwXzRmZjA2NzUxODkxZDQ0ZDQ4MzlhMGI4MjdlMGQxNDBkKTsKICAgICAgICAKICAgIAogICAgICAgICAgICBjaXJjbGVfbWFya2VyXzVkYzFlMDUzNTY0MDQ0MDViYTkwNTBlYTViNThlZDVmLmJpbmRUb29sdGlwKAogICAgICAgICAgICAgICAgYDxkaXY+CiAgICAgICAgICAgICAgICAgICAgIOyKpO2DgOuyheyKpCAtIOuMgOq1rOq0keyXreyLnCDri6zshJzqtawg6rWs66eI66GcIDI2NQogICAgICAgICAgICAgICAgIDwvZGl2PmAsCiAgICAgICAgICAgICAgICB7InN0aWNreSI6IHRydWV9CiAgICAgICAgICAgICk7CiAgICAgICAgCiAgICAKICAgICAgICAgICAgdmFyIGNpcmNsZV9tYXJrZXJfZDgxYTA3NDc3Yzg5NGJlNjgwM2NmNWY5OGY4MjA1NTAgPSBMLmNpcmNsZU1hcmtlcigKICAgICAgICAgICAgICAgIFszNS44MTgyODEzNzYxODg4LCAxMjguNTM2NTQ5NjA2OTYzXSwKICAgICAgICAgICAgICAgIHsiYnViYmxpbmdNb3VzZUV2ZW50cyI6IHRydWUsICJjb2xvciI6ICJncmVlbiIsICJkYXNoQXJyYXkiOiBudWxsLCAiZGFzaE9mZnNldCI6IG51bGwsICJmaWxsIjogZmFsc2UsICJmaWxsQ29sb3IiOiAiZ3JlZW4iLCAiZmlsbE9wYWNpdHkiOiAwLjIsICJmaWxsUnVsZSI6ICJldmVub2RkIiwgImxpbmVDYXAiOiAicm91bmQiLCAibGluZUpvaW4iOiAicm91bmQiLCAib3BhY2l0eSI6IDEuMCwgInJhZGl1cyI6IDMsICJzdHJva2UiOiB0cnVlLCAid2VpZ2h0IjogM30KICAgICAgICAgICAgKS5hZGRUbyhtYXBfNGZmMDY3NTE4OTFkNDRkNDgzOWEwYjgyN2UwZDE0MGQpOwogICAgICAgIAogICAgCiAgICAgICAgICAgIGNpcmNsZV9tYXJrZXJfZDgxYTA3NDc3Yzg5NGJlNjgwM2NmNWY5OGY4MjA1NTAuYmluZFRvb2x0aXAoCiAgICAgICAgICAgICAgICBgPGRpdj4KICAgICAgICAgICAgICAgICAgICAg7Iqk7YOA67KF7IqkIC0g64yA6rWs6rSR7Jet7IucIOuLrOyEnOq1rCDsm5TrsLDroZwgMjEwCiAgICAgICAgICAgICAgICAgPC9kaXY+YCwKICAgICAgICAgICAgICAgIHsic3RpY2t5IjogdHJ1ZX0KICAgICAgICAgICAgKTsKICAgICAgICAKICAgIAogICAgICAgICAgICB2YXIgY2lyY2xlX21hcmtlcl9jYTI3ZDRhODAyMmQ0NDFhYTMzYWQyMmM3NTg3ZGExMiA9IEwuY2lyY2xlTWFya2VyKAogICAgICAgICAgICAgICAgWzM1Ljg5MjMyNDU3MjA1OTUsIDEyOC42MDg1NzEzNTEzODJdLAogICAgICAgICAgICAgICAgeyJidWJibGluZ01vdXNlRXZlbnRzIjogdHJ1ZSwgImNvbG9yIjogImdyZWVuIiwgImRhc2hBcnJheSI6IG51bGwsICJkYXNoT2Zmc2V0IjogbnVsbCwgImZpbGwiOiBmYWxzZSwgImZpbGxDb2xvciI6ICJncmVlbiIsICJmaWxsT3BhY2l0eSI6IDAuMiwgImZpbGxSdWxlIjogImV2ZW5vZGQiLCAibGluZUNhcCI6ICJyb3VuZCIsICJsaW5lSm9pbiI6ICJyb3VuZCIsICJvcGFjaXR5IjogMS4wLCAicmFkaXVzIjogMywgInN0cm9rZSI6IHRydWUsICJ3ZWlnaHQiOiAzfQogICAgICAgICAgICApLmFkZFRvKG1hcF80ZmYwNjc1MTg5MWQ0NGQ0ODM5YTBiODI3ZTBkMTQwZCk7CiAgICAgICAgCiAgICAKICAgICAgICAgICAgY2lyY2xlX21hcmtlcl9jYTI3ZDRhODAyMmQ0NDFhYTMzYWQyMmM3NTg3ZGExMi5iaW5kVG9vbHRpcCgKICAgICAgICAgICAgICAgIGA8ZGl2PgogICAgICAgICAgICAgICAgICAgICDsiqTtg4DrsoXsiqQgLSDrjIDqtazqtJHsl63si5wg67aB6rWsIOuMgO2VmeuhnCA3NQogICAgICAgICAgICAgICAgIDwvZGl2PmAsCiAgICAgICAgICAgICAgICB7InN0aWNreSI6IHRydWV9CiAgICAgICAgICAgICk7CiAgICAgICAgCiAgICAKICAgICAgICAgICAgdmFyIGNpcmNsZV9tYXJrZXJfOGU0ZTBkYmRjN2RmNDRkY2IyYWVlODkzNmYyOGM3ZDUgPSBMLmNpcmNsZU1hcmtlcigKICAgICAgICAgICAgICAgIFszNS44ODUyMzQ3MDQyMjIzLCAxMjguNTg5Nzk5MDc3MTMyXSwKICAgICAgICAgICAgICAgIHsiYnViYmxpbmdNb3VzZUV2ZW50cyI6IHRydWUsICJjb2xvciI6ICJibHVlIiwgImRhc2hBcnJheSI6IG51bGwsICJkYXNoT2Zmc2V0IjogbnVsbCwgImZpbGwiOiBmYWxzZSwgImZpbGxDb2xvciI6ICJibHVlIiwgImZpbGxPcGFjaXR5IjogMC4yLCAiZmlsbFJ1bGUiOiAiZXZlbm9kZCIsICJsaW5lQ2FwIjogInJvdW5kIiwgImxpbmVKb2luIjogInJvdW5kIiwgIm9wYWNpdHkiOiAxLjAsICJyYWRpdXMiOiAzLCAic3Ryb2tlIjogdHJ1ZSwgIndlaWdodCI6IDN9CiAgICAgICAgICAgICkuYWRkVG8obWFwXzRmZjA2NzUxODkxZDQ0ZDQ4MzlhMGI4MjdlMGQxNDBkKTsKICAgICAgICAKICAgIAogICAgICAgICAgICBjaXJjbGVfbWFya2VyXzhlNGUwZGJkYzdkZjQ0ZGNiMmFlZTg5MzZmMjhjN2Q1LmJpbmRUb29sdGlwKAogICAgICAgICAgICAgICAgYDxkaXY+CiAgICAgICAgICAgICAgICAgICAgIOydtOuUlOyVvOydtOuniO2KuCAtIOuMgOq1rOq0keyXreyLnCDrtoHqtawg7Lmo7IKw66GcIDkzCiAgICAgICAgICAgICAgICAgPC9kaXY+YCwKICAgICAgICAgICAgICAgIHsic3RpY2t5IjogdHJ1ZX0KICAgICAgICAgICAgKTsKICAgICAgICAKICAgIAogICAgICAgICAgICB2YXIgY2lyY2xlX21hcmtlcl85MTgyMzFiNmVjZWI0MWY3YjBhMTgwNDgwOGRhOWJlMyA9IEwuY2lyY2xlTWFya2VyKAogICAgICAgICAgICAgICAgWzM1LjgyNTcwMzU0MjEwMjEwNCwgMTI4LjYyMTczMDY5OTc4MDAyXSwKICAgICAgICAgICAgICAgIHsiYnViYmxpbmdNb3VzZUV2ZW50cyI6IHRydWUsICJjb2xvciI6ICJncmVlbiIsICJkYXNoQXJyYXkiOiBudWxsLCAiZGFzaE9mZnNldCI6IG51bGwsICJmaWxsIjogZmFsc2UsICJmaWxsQ29sb3IiOiAiZ3JlZW4iLCAiZmlsbE9wYWNpdHkiOiAwLjIsICJmaWxsUnVsZSI6ICJldmVub2RkIiwgImxpbmVDYXAiOiAicm91bmQiLCAibGluZUpvaW4iOiAicm91bmQiLCAib3BhY2l0eSI6IDEuMCwgInJhZGl1cyI6IDMsICJzdHJva2UiOiB0cnVlLCAid2VpZ2h0IjogM30KICAgICAgICAgICAgKS5hZGRUbyhtYXBfNGZmMDY3NTE4OTFkNDRkNDgzOWEwYjgyN2UwZDE0MGQpOwogICAgICAgIAogICAgCiAgICAgICAgICAgIGNpcmNsZV9tYXJrZXJfOTE4MjMxYjZlY2ViNDFmN2IwYTE4MDQ4MDhkYTliZTMuYmluZFRvb2x0aXAoCiAgICAgICAgICAgICAgICBgPGRpdj4KICAgICAgICAgICAgICAgICAgICAg7Iqk7YOA67KF7IqkIC0g64yA6rWs6rSR7Jet7IucIOyImOyEseq1rCDsiJjshLHrqrvquLggNAogICAgICAgICAgICAgICAgIDwvZGl2PmAsCiAgICAgICAgICAgICAgICB7InN0aWNreSI6IHRydWV9CiAgICAgICAgICAgICk7CiAgICAgICAgCiAgICAKICAgICAgICAgICAgdmFyIGNpcmNsZV9tYXJrZXJfZDFmM2QwZDhlNDZjNGRjMmIwODMxN2EyNjUwNjQ2OTMgPSBMLmNpcmNsZU1hcmtlcigKICAgICAgICAgICAgICAgIFszNS44NjI1OTc4NjcxNTkxLCAxMjguNjI2MzM3MDAyMjQ5XSwKICAgICAgICAgICAgICAgIHsiYnViYmxpbmdNb3VzZUV2ZW50cyI6IHRydWUsICJjb2xvciI6ICJncmVlbiIsICJkYXNoQXJyYXkiOiBudWxsLCAiZGFzaE9mZnNldCI6IG51bGwsICJmaWxsIjogZmFsc2UsICJmaWxsQ29sb3IiOiAiZ3JlZW4iLCAiZmlsbE9wYWNpdHkiOiAwLjIsICJmaWxsUnVsZSI6ICJldmVub2RkIiwgImxpbmVDYXAiOiAicm91bmQiLCAibGluZUpvaW4iOiAicm91bmQiLCAib3BhY2l0eSI6IDEuMCwgInJhZGl1cyI6IDMsICJzdHJva2UiOiB0cnVlLCAid2VpZ2h0IjogM30KICAgICAgICAgICAgKS5hZGRUbyhtYXBfNGZmMDY3NTE4OTFkNDRkNDgzOWEwYjgyN2UwZDE0MGQpOwogICAgICAgIAogICAgCiAgICAgICAgICAgIGNpcmNsZV9tYXJrZXJfZDFmM2QwZDhlNDZjNGRjMmIwODMxN2EyNjUwNjQ2OTMuYmluZFRvb2x0aXAoCiAgICAgICAgICAgICAgICBgPGRpdj4KICAgICAgICAgICAgICAgICAgICAg7Iqk7YOA67KF7IqkIC0g64yA6rWs6rSR7Jet7IucIOyImOyEseq1rCDrj5nrjIDqtazroZwgMzU5CiAgICAgICAgICAgICAgICAgPC9kaXY+YCwKICAgICAgICAgICAgICAgIHsic3RpY2t5IjogdHJ1ZX0KICAgICAgICAgICAgKTsKICAgICAgICAKICAgIAogICAgICAgICAgICB2YXIgY2lyY2xlX21hcmtlcl9kODFiOGUyYjExMmU0NDFiYTM1YzkzZTc1ZGUwZmRkOSA9IEwuY2lyY2xlTWFya2VyKAogICAgICAgICAgICAgICAgWzM1Ljg4NzYyNTQ2OTYzODgsIDEyOC41NjQ5NTA5NTI0OTNdLAogICAgICAgICAgICAgICAgeyJidWJibGluZ01vdXNlRXZlbnRzIjogdHJ1ZSwgImNvbG9yIjogImdyZWVuIiwgImRhc2hBcnJheSI6IG51bGwsICJkYXNoT2Zmc2V0IjogbnVsbCwgImZpbGwiOiBmYWxzZSwgImZpbGxDb2xvciI6ICJncmVlbiIsICJmaWxsT3BhY2l0eSI6IDAuMiwgImZpbGxSdWxlIjogImV2ZW5vZGQiLCAibGluZUNhcCI6ICJyb3VuZCIsICJsaW5lSm9pbiI6ICJyb3VuZCIsICJvcGFjaXR5IjogMS4wLCAicmFkaXVzIjogMywgInN0cm9rZSI6IHRydWUsICJ3ZWlnaHQiOiAzfQogICAgICAgICAgICApLmFkZFRvKG1hcF80ZmYwNjc1MTg5MWQ0NGQ0ODM5YTBiODI3ZTBkMTQwZCk7CiAgICAgICAgCiAgICAKICAgICAgICAgICAgY2lyY2xlX21hcmtlcl9kODFiOGUyYjExMmU0NDFiYTM1YzkzZTc1ZGUwZmRkOS5iaW5kVG9vbHRpcCgKICAgICAgICAgICAgICAgIGA8ZGl2PgogICAgICAgICAgICAgICAgICAgICDsiqTtg4DrsoXsiqQgLSDrjIDqtazqtJHsl63si5wg7ISc6rWsIOyEnOuMgOq1rOuhnDYy6ri4IDgzCiAgICAgICAgICAgICAgICAgPC9kaXY+YCwKICAgICAgICAgICAgICAgIHsic3RpY2t5IjogdHJ1ZX0KICAgICAgICAgICAgKTsKICAgICAgICAKICAgIAogICAgICAgICAgICB2YXIgY2lyY2xlX21hcmtlcl9kZDYyNzBmY2EyNTg0MDE1OTA2MDNmMTE5YWFkNWY5YyA9IEwuY2lyY2xlTWFya2VyKAogICAgICAgICAgICAgICAgWzM1Ljg3OTk2NzA3NDMyMjYsIDEyOC4zOTc3OTU2MTA2NV0sCiAgICAgICAgICAgICAgICB7ImJ1YmJsaW5nTW91c2VFdmVudHMiOiB0cnVlLCAiY29sb3IiOiAiZ3JlZW4iLCAiZGFzaEFycmF5IjogbnVsbCwgImRhc2hPZmZzZXQiOiBudWxsLCAiZmlsbCI6IGZhbHNlLCAiZmlsbENvbG9yIjogImdyZWVuIiwgImZpbGxPcGFjaXR5IjogMC4yLCAiZmlsbFJ1bGUiOiAiZXZlbm9kZCIsICJsaW5lQ2FwIjogInJvdW5kIiwgImxpbmVKb2luIjogInJvdW5kIiwgIm9wYWNpdHkiOiAxLjAsICJyYWRpdXMiOiAzLCAic3Ryb2tlIjogdHJ1ZSwgIndlaWdodCI6IDN9CiAgICAgICAgICAgICkuYWRkVG8obWFwXzRmZjA2NzUxODkxZDQ0ZDQ4MzlhMGI4MjdlMGQxNDBkKTsKICAgICAgICAKICAgIAogICAgICAgICAgICBjaXJjbGVfbWFya2VyX2RkNjI3MGZjYTI1ODQwMTU5MDYwM2YxMTlhYWQ1ZjljLmJpbmRUb29sdGlwKAogICAgICAgICAgICAgICAgYDxkaXY+CiAgICAgICAgICAgICAgICAgICAgIOyKpO2DgOuyheyKpCAtIOuMgOq1rOq0keyXreyLnCDri6zshLHqtbAg7ZWY67mI66m0IO2VmOuqqeygleq4uCA0NQogICAgICAgICAgICAgICAgIDwvZGl2PmAsCiAgICAgICAgICAgICAgICB7InN0aWNreSI6IHRydWV9CiAgICAgICAgICAgICk7CiAgICAgICAgCiAgICAKICAgICAgICAgICAgdmFyIGNpcmNsZV9tYXJrZXJfZTZlM2Q2YzVjNGM0NDI5NGIyZjdiYTA0NDM0NDg1OTMgPSBMLmNpcmNsZU1hcmtlcigKICAgICAgICAgICAgICAgIFszNS44NDU0MTQ1NDAyNDY4LCAxMjguNTY5MTc5MTgxMjgzXSwKICAgICAgICAgICAgICAgIHsiYnViYmxpbmdNb3VzZUV2ZW50cyI6IHRydWUsICJjb2xvciI6ICJncmVlbiIsICJkYXNoQXJyYXkiOiBudWxsLCAiZGFzaE9mZnNldCI6IG51bGwsICJmaWxsIjogZmFsc2UsICJmaWxsQ29sb3IiOiAiZ3JlZW4iLCAiZmlsbE9wYWNpdHkiOiAwLjIsICJmaWxsUnVsZSI6ICJldmVub2RkIiwgImxpbmVDYXAiOiAicm91bmQiLCAibGluZUpvaW4iOiAicm91bmQiLCAib3BhY2l0eSI6IDEuMCwgInJhZGl1cyI6IDMsICJzdHJva2UiOiB0cnVlLCAid2VpZ2h0IjogM30KICAgICAgICAgICAgKS5hZGRUbyhtYXBfNGZmMDY3NTE4OTFkNDRkNDgzOWEwYjgyN2UwZDE0MGQpOwogICAgICAgIAogICAgCiAgICAgICAgICAgIGNpcmNsZV9tYXJrZXJfZTZlM2Q2YzVjNGM0NDI5NGIyZjdiYTA0NDM0NDg1OTMuYmluZFRvb2x0aXAoCiAgICAgICAgICAgICAgICBgPGRpdj4KICAgICAgICAgICAgICAgICAgICAg7Iqk7YOA67KF7IqkIC0g64yA6rWs6rSR7Jet7IucIOuCqOq1rCDrkZDrpZjqs7Xsm5DroZwyMOq4uCAxMC0yCiAgICAgICAgICAgICAgICAgPC9kaXY+YCwKICAgICAgICAgICAgICAgIHsic3RpY2t5IjogdHJ1ZX0KICAgICAgICAgICAgKTsKICAgICAgICAKICAgIAogICAgICAgICAgICB2YXIgY2lyY2xlX21hcmtlcl9jODI3ZmNmM2U4OWE0ZDYxYTZmNDk2YTZhZmVjYzU1OSA9IEwuY2lyY2xlTWFya2VyKAogICAgICAgICAgICAgICAgWzM1Ljg2NjM0MTkyNzgxNDIwNCwgMTI4LjU5MTg1MTU0MzI0OV0sCiAgICAgICAgICAgICAgICB7ImJ1YmJsaW5nTW91c2VFdmVudHMiOiB0cnVlLCAiY29sb3IiOiAiZ3JlZW4iLCAiZGFzaEFycmF5IjogbnVsbCwgImRhc2hPZmZzZXQiOiBudWxsLCAiZmlsbCI6IGZhbHNlLCAiZmlsbENvbG9yIjogImdyZWVuIiwgImZpbGxPcGFjaXR5IjogMC4yLCAiZmlsbFJ1bGUiOiAiZXZlbm9kZCIsICJsaW5lQ2FwIjogInJvdW5kIiwgImxpbmVKb2luIjogInJvdW5kIiwgIm9wYWNpdHkiOiAxLjAsICJyYWRpdXMiOiAzLCAic3Ryb2tlIjogdHJ1ZSwgIndlaWdodCI6IDN9CiAgICAgICAgICAgICkuYWRkVG8obWFwXzRmZjA2NzUxODkxZDQ0ZDQ4MzlhMGI4MjdlMGQxNDBkKTsKICAgICAgICAKICAgIAogICAgICAgICAgICBjaXJjbGVfbWFya2VyX2M4MjdmY2YzZTg5YTRkNjFhNmY0OTZhNmFmZWNjNTU5LmJpbmRUb29sdGlwKAogICAgICAgICAgICAgICAgYDxkaXY+CiAgICAgICAgICAgICAgICAgICAgIOyKpO2DgOuyheyKpOuMgOq1rOuwmOyblOuLueygkCAtIOuMgOq1rOq0keyXreyLnCDspJHqtawg64us6rWs67KM64yA66GcIDIwODUKICAgICAgICAgICAgICAgICA8L2Rpdj5gLAogICAgICAgICAgICAgICAgeyJzdGlja3kiOiB0cnVlfQogICAgICAgICAgICApOwogICAgICAgIAogICAgCiAgICAgICAgICAgIHZhciBjaXJjbGVfbWFya2VyXzI1OGMyM2YxMzJkNjRkOWJhZTU4OTI2YzU4ZWM0MzBkID0gTC5jaXJjbGVNYXJrZXIoCiAgICAgICAgICAgICAgICBbMzUuODY3NTY1NTY0NjkyNzA0LCAxMjguNTk1OTM1NjE2MDJdLAogICAgICAgICAgICAgICAgeyJidWJibGluZ01vdXNlRXZlbnRzIjogdHJ1ZSwgImNvbG9yIjogImdyZWVuIiwgImRhc2hBcnJheSI6IG51bGwsICJkYXNoT2Zmc2V0IjogbnVsbCwgImZpbGwiOiBmYWxzZSwgImZpbGxDb2xvciI6ICJncmVlbiIsICJmaWxsT3BhY2l0eSI6IDAuMiwgImZpbGxSdWxlIjogImV2ZW5vZGQiLCAibGluZUNhcCI6ICJyb3VuZCIsICJsaW5lSm9pbiI6ICJyb3VuZCIsICJvcGFjaXR5IjogMS4wLCAicmFkaXVzIjogMywgInN0cm9rZSI6IHRydWUsICJ3ZWlnaHQiOiAzfQogICAgICAgICAgICApLmFkZFRvKG1hcF80ZmYwNjc1MTg5MWQ0NGQ0ODM5YTBiODI3ZTBkMTQwZCk7CiAgICAgICAgCiAgICAKICAgICAgICAgICAgY2lyY2xlX21hcmtlcl8yNThjMjNmMTMyZDY0ZDliYWU1ODkyNmM1OGVjNDMwZC5iaW5kVG9vbHRpcCgKICAgICAgICAgICAgICAgIGA8ZGl2PgogICAgICAgICAgICAgICAgICAgICDsiqTtg4DrsoXsiqQgLSDrjIDqtazqtJHsl63si5wg7KSR6rWsIOuPmeyEseuhnDXquLggMjYKICAgICAgICAgICAgICAgICA8L2Rpdj5gLAogICAgICAgICAgICAgICAgeyJzdGlja3kiOiB0cnVlfQogICAgICAgICAgICApOwogICAgICAgIAogICAgCiAgICAgICAgICAgIHZhciBjaXJjbGVfbWFya2VyX2MzNjg5YjVhYjExMzQzZTFhMTNkYmMxZjliYmQ2MzRmID0gTC5jaXJjbGVNYXJrZXIoCiAgICAgICAgICAgICAgICBbMzUuODM2NDk3MTIxNTAxMDA0LCAxMjguNzE2NDA5OTc3MTQxXSwKICAgICAgICAgICAgICAgIHsiYnViYmxpbmdNb3VzZUV2ZW50cyI6IHRydWUsICJjb2xvciI6ICJibHVlIiwgImRhc2hBcnJheSI6IG51bGwsICJkYXNoT2Zmc2V0IjogbnVsbCwgImZpbGwiOiBmYWxzZSwgImZpbGxDb2xvciI6ICJibHVlIiwgImZpbGxPcGFjaXR5IjogMC4yLCAiZmlsbFJ1bGUiOiAiZXZlbm9kZCIsICJsaW5lQ2FwIjogInJvdW5kIiwgImxpbmVKb2luIjogInJvdW5kIiwgIm9wYWNpdHkiOiAxLjAsICJyYWRpdXMiOiAzLCAic3Ryb2tlIjogdHJ1ZSwgIndlaWdodCI6IDN9CiAgICAgICAgICAgICkuYWRkVG8obWFwXzRmZjA2NzUxODkxZDQ0ZDQ4MzlhMGI4MjdlMGQxNDBkKTsKICAgICAgICAKICAgIAogICAgICAgICAgICBjaXJjbGVfbWFya2VyX2MzNjg5YjVhYjExMzQzZTFhMTNkYmMxZjliYmQ2MzRmLmJpbmRUb29sdGlwKAogICAgICAgICAgICAgICAgYDxkaXY+CiAgICAgICAgICAgICAgICAgICAgIOydtOuUlOyVvOy7pO2UvCAtIOuMgOq1rOq0keyXreyLnCDsiJjshLHqtawg64us6rWs67KM64yA66GcIDMyOTYKICAgICAgICAgICAgICAgICA8L2Rpdj5gLAogICAgICAgICAgICAgICAgeyJzdGlja3kiOiB0cnVlfQogICAgICAgICAgICApOwogICAgICAgIAogICAgCiAgICAgICAgICAgIHZhciBjaXJjbGVfbWFya2VyX2JjZjk2NjcxYTU0MDQxZmU4ZTc5ZjI5NjY2YTEzMjgzID0gTC5jaXJjbGVNYXJrZXIoCiAgICAgICAgICAgICAgICBbMzUuODY3Mzk1NjcyODk1MSwgMTI4LjU5MjAxNDQwNDAxODk4XSwKICAgICAgICAgICAgICAgIHsiYnViYmxpbmdNb3VzZUV2ZW50cyI6IHRydWUsICJjb2xvciI6ICJibHVlIiwgImRhc2hBcnJheSI6IG51bGwsICJkYXNoT2Zmc2V0IjogbnVsbCwgImZpbGwiOiBmYWxzZSwgImZpbGxDb2xvciI6ICJibHVlIiwgImZpbGxPcGFjaXR5IjogMC4yLCAiZmlsbFJ1bGUiOiAiZXZlbm9kZCIsICJsaW5lQ2FwIjogInJvdW5kIiwgImxpbmVKb2luIjogInJvdW5kIiwgIm9wYWNpdHkiOiAxLjAsICJyYWRpdXMiOiAzLCAic3Ryb2tlIjogdHJ1ZSwgIndlaWdodCI6IDN9CiAgICAgICAgICAgICkuYWRkVG8obWFwXzRmZjA2NzUxODkxZDQ0ZDQ4MzlhMGI4MjdlMGQxNDBkKTsKICAgICAgICAKICAgIAogICAgICAgICAgICBjaXJjbGVfbWFya2VyX2JjZjk2NjcxYTU0MDQxZmU4ZTc5ZjI5NjY2YTEzMjgzLmJpbmRUb29sdGlwKAogICAgICAgICAgICAgICAgYDxkaXY+CiAgICAgICAgICAgICAgICAgICAgIOydtOuUlOyVhOq5jO2OmCAtIOuMgOq1rOq0keyXreyLnCDspJHqtawg7KKF66GcIDE3CiAgICAgICAgICAgICAgICAgPC9kaXY+YCwKICAgICAgICAgICAgICAgIHsic3RpY2t5IjogdHJ1ZX0KICAgICAgICAgICAgKTsKICAgICAgICAKICAgIAogICAgICAgICAgICB2YXIgY2lyY2xlX21hcmtlcl8wZGZiZjljOGU1YmQ0ZDJkODI5N2UyMGJhZGE2YTdiNSA9IEwuY2lyY2xlTWFya2VyKAogICAgICAgICAgICAgICAgWzM1Ljg4NzgwMTQ4NzMyMDQsIDEyOC41OTIwMzMzMzM1MDJdLAogICAgICAgICAgICAgICAgeyJidWJibGluZ01vdXNlRXZlbnRzIjogdHJ1ZSwgImNvbG9yIjogImJsdWUiLCAiZGFzaEFycmF5IjogbnVsbCwgImRhc2hPZmZzZXQiOiBudWxsLCAiZmlsbCI6IGZhbHNlLCAiZmlsbENvbG9yIjogImJsdWUiLCAiZmlsbE9wYWNpdHkiOiAwLjIsICJmaWxsUnVsZSI6ICJldmVub2RkIiwgImxpbmVDYXAiOiAicm91bmQiLCAibGluZUpvaW4iOiAicm91bmQiLCAib3BhY2l0eSI6IDEuMCwgInJhZGl1cyI6IDMsICJzdHJva2UiOiB0cnVlLCAid2VpZ2h0IjogM30KICAgICAgICAgICAgKS5hZGRUbyhtYXBfNGZmMDY3NTE4OTFkNDRkNDgzOWEwYjgyN2UwZDE0MGQpOwogICAgICAgIAogICAgCiAgICAgICAgICAgIGNpcmNsZV9tYXJrZXJfMGRmYmY5YzhlNWJkNGQyZDgyOTdlMjBiYWRhNmE3YjUuYmluZFRvb2x0aXAoCiAgICAgICAgICAgICAgICBgPGRpdj4KICAgICAgICAgICAgICAgICAgICAg7J2065SU7JW87Luk7ZS8IC0g64yA6rWs6rSR7Jet7IucIOu2geq1rCDsuajsgrDrgqjroZwgMTUwCiAgICAgICAgICAgICAgICAgPC9kaXY+YCwKICAgICAgICAgICAgICAgIHsic3RpY2t5IjogdHJ1ZX0KICAgICAgICAgICAgKTsKICAgICAgICAKICAgIAogICAgICAgICAgICB2YXIgY2lyY2xlX21hcmtlcl8yMDI3YmZiNWJlNDk0M2IxYmY1NDg4ODc5MjI3MTVkNyA9IEwuY2lyY2xlTWFya2VyKAogICAgICAgICAgICAgICAgWzM1Ljg1MjkxOTYxMTc5MDQsIDEyOC41OTAzNDU3Mjk3NDldLAogICAgICAgICAgICAgICAgeyJidWJibGluZ01vdXNlRXZlbnRzIjogdHJ1ZSwgImNvbG9yIjogImJsdWUiLCAiZGFzaEFycmF5IjogbnVsbCwgImRhc2hPZmZzZXQiOiBudWxsLCAiZmlsbCI6IGZhbHNlLCAiZmlsbENvbG9yIjogImJsdWUiLCAiZmlsbE9wYWNpdHkiOiAwLjIsICJmaWxsUnVsZSI6ICJldmVub2RkIiwgImxpbmVDYXAiOiAicm91bmQiLCAibGluZUpvaW4iOiAicm91bmQiLCAib3BhY2l0eSI6IDEuMCwgInJhZGl1cyI6IDMsICJzdHJva2UiOiB0cnVlLCAid2VpZ2h0IjogM30KICAgICAgICAgICAgKS5hZGRUbyhtYXBfNGZmMDY3NTE4OTFkNDRkNDgzOWEwYjgyN2UwZDE0MGQpOwogICAgICAgIAogICAgCiAgICAgICAgICAgIGNpcmNsZV9tYXJrZXJfMjAyN2JmYjViZTQ5NDNiMWJmNTQ4ODg3OTIyNzE1ZDcuYmluZFRvb2x0aXAoCiAgICAgICAgICAgICAgICBgPGRpdj4KICAgICAgICAgICAgICAgICAgICAg7J2065SU7JW87Luk7ZS8IC0g64yA6rWs6rSR7Jet7IucIOuCqOq1rCDspJHslZnrjIDroZwgMjE5LTEKICAgICAgICAgICAgICAgICA8L2Rpdj5gLAogICAgICAgICAgICAgICAgeyJzdGlja3kiOiB0cnVlfQogICAgICAgICAgICApOwogICAgICAgIAogICAgCiAgICAgICAgICAgIHZhciBjaXJjbGVfbWFya2VyXzA0ZDM5M2NiNWIwNDQ3NWVhODgxZWYyMTgzMDZkYTRkID0gTC5jaXJjbGVNYXJrZXIoCiAgICAgICAgICAgICAgICBbMzUuODcwNzg5ODA4ODM3NSwgMTI4LjU5MDk2NTQ5NTg3XSwKICAgICAgICAgICAgICAgIHsiYnViYmxpbmdNb3VzZUV2ZW50cyI6IHRydWUsICJjb2xvciI6ICJibHVlIiwgImRhc2hBcnJheSI6IG51bGwsICJkYXNoT2Zmc2V0IjogbnVsbCwgImZpbGwiOiBmYWxzZSwgImZpbGxDb2xvciI6ICJibHVlIiwgImZpbGxPcGFjaXR5IjogMC4yLCAiZmlsbFJ1bGUiOiAiZXZlbm9kZCIsICJsaW5lQ2FwIjogInJvdW5kIiwgImxpbmVKb2luIjogInJvdW5kIiwgIm9wYWNpdHkiOiAxLjAsICJyYWRpdXMiOiAzLCAic3Ryb2tlIjogdHJ1ZSwgIndlaWdodCI6IDN9CiAgICAgICAgICAgICkuYWRkVG8obWFwXzRmZjA2NzUxODkxZDQ0ZDQ4MzlhMGI4MjdlMGQxNDBkKTsKICAgICAgICAKICAgIAogICAgICAgICAgICBjaXJjbGVfbWFya2VyXzA0ZDM5M2NiNWIwNDQ3NWVhODgxZWYyMTgzMDZkYTRkLmJpbmRUb29sdGlwKAogICAgICAgICAgICAgICAgYDxkaXY+CiAgICAgICAgICAgICAgICAgICAgIOydtOuUlOyVvOy7pO2UvCAtIOuMgOq1rOq0keyXreyLnCDspJHqtawg6rWt7LGE67O07IOB66GcIDU1MQogICAgICAgICAgICAgICAgIDwvZGl2PmAsCiAgICAgICAgICAgICAgICB7InN0aWNreSI6IHRydWV9CiAgICAgICAgICAgICk7CiAgICAgICAgCiAgICAKICAgICAgICAgICAgdmFyIGNpcmNsZV9tYXJrZXJfYmNlMGUwYWViNDM1NGJhM2JkYTIyZDE4Y2Y3NjZhOWUgPSBMLmNpcmNsZU1hcmtlcigKICAgICAgICAgICAgICAgIFszNS45MzE4Nzc0NjM3NjUsIDEyOC41NDgwMzI2NTA4NjVdLAogICAgICAgICAgICAgICAgeyJidWJibGluZ01vdXNlRXZlbnRzIjogdHJ1ZSwgImNvbG9yIjogImJsdWUiLCAiZGFzaEFycmF5IjogbnVsbCwgImRhc2hPZmZzZXQiOiBudWxsLCAiZmlsbCI6IGZhbHNlLCAiZmlsbENvbG9yIjogImJsdWUiLCAiZmlsbE9wYWNpdHkiOiAwLjIsICJmaWxsUnVsZSI6ICJldmVub2RkIiwgImxpbmVDYXAiOiAicm91bmQiLCAibGluZUpvaW4iOiAicm91bmQiLCAib3BhY2l0eSI6IDEuMCwgInJhZGl1cyI6IDMsICJzdHJva2UiOiB0cnVlLCAid2VpZ2h0IjogM30KICAgICAgICAgICAgKS5hZGRUbyhtYXBfNGZmMDY3NTE4OTFkNDRkNDgzOWEwYjgyN2UwZDE0MGQpOwogICAgICAgIAogICAgCiAgICAgICAgICAgIGNpcmNsZV9tYXJrZXJfYmNlMGUwYWViNDM1NGJhM2JkYTIyZDE4Y2Y3NjZhOWUuYmluZFRvb2x0aXAoCiAgICAgICAgICAgICAgICBgPGRpdj4KICAgICAgICAgICAgICAgICAgICAg7J2065SU7JW87Luk7ZS8IC0g64yA6rWs6rSR7Jet7IucIOu2geq1rCDsuaDqs6HspJHslZnrjIDroZwgNDAzCiAgICAgICAgICAgICAgICAgPC9kaXY+YCwKICAgICAgICAgICAgICAgIHsic3RpY2t5IjogdHJ1ZX0KICAgICAgICAgICAgKTsKICAgICAgICAKICAgIAogICAgICAgICAgICB2YXIgY2lyY2xlX21hcmtlcl82ZDMyNTFiODdkZTM0NzVkYjg3NGY5NDM5YzE2NDgwNyA9IEwuY2lyY2xlTWFya2VyKAogICAgICAgICAgICAgICAgWzM1Ljg2NjM2NjA5ODE1NTksIDEyOC42MDMzMDEzNDA5NDEwMl0sCiAgICAgICAgICAgICAgICB7ImJ1YmJsaW5nTW91c2VFdmVudHMiOiB0cnVlLCAiY29sb3IiOiAiYmx1ZSIsICJkYXNoQXJyYXkiOiBudWxsLCAiZGFzaE9mZnNldCI6IG51bGwsICJmaWxsIjogZmFsc2UsICJmaWxsQ29sb3IiOiAiYmx1ZSIsICJmaWxsT3BhY2l0eSI6IDAuMiwgImZpbGxSdWxlIjogImV2ZW5vZGQiLCAibGluZUNhcCI6ICJyb3VuZCIsICJsaW5lSm9pbiI6ICJyb3VuZCIsICJvcGFjaXR5IjogMS4wLCAicmFkaXVzIjogMywgInN0cm9rZSI6IHRydWUsICJ3ZWlnaHQiOiAzfQogICAgICAgICAgICApLmFkZFRvKG1hcF80ZmYwNjc1MTg5MWQ0NGQ0ODM5YTBiODI3ZTBkMTQwZCk7CiAgICAgICAgCiAgICAKICAgICAgICAgICAgY2lyY2xlX21hcmtlcl82ZDMyNTFiODdkZTM0NzVkYjg3NGY5NDM5YzE2NDgwNy5iaW5kVG9vbHRpcCgKICAgICAgICAgICAgICAgIGA8ZGl2PgogICAgICAgICAgICAgICAgICAgICDsnbTrlJTslbzsu6TtlLwgLSDrjIDqtazqtJHsl63si5wg7KSR6rWsIOuPmeuNleuhnCAxMzEKICAgICAgICAgICAgICAgICA8L2Rpdj5gLAogICAgICAgICAgICAgICAgeyJzdGlja3kiOiB0cnVlfQogICAgICAgICAgICApOwogICAgICAgIAogICAgCiAgICAgICAgICAgIHZhciBjaXJjbGVfbWFya2VyX2NhYWE1ODRmNzNhODQxNWJiZWU0OGZmNWNlN2ViMDQyID0gTC5jaXJjbGVNYXJrZXIoCiAgICAgICAgICAgICAgICBbMzUuODM3OTIwNTA1ODgwNCwgMTI4LjYyMjcwMDQ2OTM3NF0sCiAgICAgICAgICAgICAgICB7ImJ1YmJsaW5nTW91c2VFdmVudHMiOiB0cnVlLCAiY29sb3IiOiAiZ3JlZW4iLCAiZGFzaEFycmF5IjogbnVsbCwgImRhc2hPZmZzZXQiOiBudWxsLCAiZmlsbCI6IGZhbHNlLCAiZmlsbENvbG9yIjogImdyZWVuIiwgImZpbGxPcGFjaXR5IjogMC4yLCAiZmlsbFJ1bGUiOiAiZXZlbm9kZCIsICJsaW5lQ2FwIjogInJvdW5kIiwgImxpbmVKb2luIjogInJvdW5kIiwgIm9wYWNpdHkiOiAxLjAsICJyYWRpdXMiOiAzLCAic3Ryb2tlIjogdHJ1ZSwgIndlaWdodCI6IDN9CiAgICAgICAgICAgICkuYWRkVG8obWFwXzRmZjA2NzUxODkxZDQ0ZDQ4MzlhMGI4MjdlMGQxNDBkKTsKICAgICAgICAKICAgIAogICAgICAgICAgICBjaXJjbGVfbWFya2VyX2NhYWE1ODRmNzNhODQxNWJiZWU0OGZmNWNlN2ViMDQyLmJpbmRUb29sdGlwKAogICAgICAgICAgICAgICAgYDxkaXY+CiAgICAgICAgICAgICAgICAgICAgIOyKpO2DgOuyheyKpCAtIOuMgOq1rOq0keyXreyLnCDsiJjshLHqtawg64+Z64yA6rWs66GcIDk1CiAgICAgICAgICAgICAgICAgPC9kaXY+YCwKICAgICAgICAgICAgICAgIHsic3RpY2t5IjogdHJ1ZX0KICAgICAgICAgICAgKTsKICAgICAgICAKICAgIAogICAgICAgICAgICB2YXIgY2lyY2xlX21hcmtlcl82ZTUxY2FiNzJhNWQ0Y2I2YTg4ZTk3YzNhNTI4Y2UyNyA9IEwuY2lyY2xlTWFya2VyKAogICAgICAgICAgICAgICAgWzM1Ljg0OTIwODYwNjg5ODcwNiwgMTI4LjUzNzk4NjcxMjYyNV0sCiAgICAgICAgICAgICAgICB7ImJ1YmJsaW5nTW91c2VFdmVudHMiOiB0cnVlLCAiY29sb3IiOiAiZ3JlZW4iLCAiZGFzaEFycmF5IjogbnVsbCwgImRhc2hPZmZzZXQiOiBudWxsLCAiZmlsbCI6IGZhbHNlLCAiZmlsbENvbG9yIjogImdyZWVuIiwgImZpbGxPcGFjaXR5IjogMC4yLCAiZmlsbFJ1bGUiOiAiZXZlbm9kZCIsICJsaW5lQ2FwIjogInJvdW5kIiwgImxpbmVKb2luIjogInJvdW5kIiwgIm9wYWNpdHkiOiAxLjAsICJyYWRpdXMiOiAzLCAic3Ryb2tlIjogdHJ1ZSwgIndlaWdodCI6IDN9CiAgICAgICAgICAgICkuYWRkVG8obWFwXzRmZjA2NzUxODkxZDQ0ZDQ4MzlhMGI4MjdlMGQxNDBkKTsKICAgICAgICAKICAgIAogICAgICAgICAgICBjaXJjbGVfbWFya2VyXzZlNTFjYWI3MmE1ZDRjYjZhODhlOTdjM2E1MjhjZTI3LmJpbmRUb29sdGlwKAogICAgICAgICAgICAgICAgYDxkaXY+CiAgICAgICAgICAgICAgICAgICAgIOyKpO2DgOuyheyKpCAtIOuMgOq1rOq0keyXreyLnCDri6zshJzqtawg7JmA66Oh66GcIDE5MAogICAgICAgICAgICAgICAgIDwvZGl2PmAsCiAgICAgICAgICAgICAgICB7InN0aWNreSI6IHRydWV9CiAgICAgICAgICAgICk7CiAgICAgICAgCiAgICAKICAgICAgICAgICAgdmFyIGNpcmNsZV9tYXJrZXJfYjQ4ODgyYzFiNmJmNDI1ZDhhMTA5OTk5NWE3YmZiZmIgPSBMLmNpcmNsZU1hcmtlcigKICAgICAgICAgICAgICAgIFszNS44NzYyMjMwMDU0MzExLCAxMjguNjI4NjAzNzU0ODcxXSwKICAgICAgICAgICAgICAgIHsiYnViYmxpbmdNb3VzZUV2ZW50cyI6IHRydWUsICJjb2xvciI6ICJncmVlbiIsICJkYXNoQXJyYXkiOiBudWxsLCAiZGFzaE9mZnNldCI6IG51bGwsICJmaWxsIjogZmFsc2UsICJmaWxsQ29sb3IiOiAiZ3JlZW4iLCAiZmlsbE9wYWNpdHkiOiAwLjIsICJmaWxsUnVsZSI6ICJldmVub2RkIiwgImxpbmVDYXAiOiAicm91bmQiLCAibGluZUpvaW4iOiAicm91bmQiLCAib3BhY2l0eSI6IDEuMCwgInJhZGl1cyI6IDMsICJzdHJva2UiOiB0cnVlLCAid2VpZ2h0IjogM30KICAgICAgICAgICAgKS5hZGRUbyhtYXBfNGZmMDY3NTE4OTFkNDRkNDgzOWEwYjgyN2UwZDE0MGQpOwogICAgICAgIAogICAgCiAgICAgICAgICAgIGNpcmNsZV9tYXJrZXJfYjQ4ODgyYzFiNmJmNDI1ZDhhMTA5OTk5NWE3YmZiZmIuYmluZFRvb2x0aXAoCiAgICAgICAgICAgICAgICBgPGRpdj4KICAgICAgICAgICAgICAgICAgICAg7Iqk7YOA67KF7IqkIC0g64yA6rWs6rSR7Jet7IucIOuPmeq1rCDrj5nrtoDroZwzMOq4uCAxMgogICAgICAgICAgICAgICAgIDwvZGl2PmAsCiAgICAgICAgICAgICAgICB7InN0aWNreSI6IHRydWV9CiAgICAgICAgICAgICk7CiAgICAgICAgCiAgICAKICAgICAgICAgICAgdmFyIGNpcmNsZV9tYXJrZXJfNGE5MGNkNGQ5NzVmNDk3NjhiOWZmMGZmZTExMGZjNWYgPSBMLmNpcmNsZU1hcmtlcigKICAgICAgICAgICAgICAgIFszNS44ODc0ODY0MTkxNjgxLCAxMjguNTkxOTUzNDU1ODY3XSwKICAgICAgICAgICAgICAgIHsiYnViYmxpbmdNb3VzZUV2ZW50cyI6IHRydWUsICJjb2xvciI6ICJncmVlbiIsICJkYXNoQXJyYXkiOiBudWxsLCAiZGFzaE9mZnNldCI6IG51bGwsICJmaWxsIjogZmFsc2UsICJmaWxsQ29sb3IiOiAiZ3JlZW4iLCAiZmlsbE9wYWNpdHkiOiAwLjIsICJmaWxsUnVsZSI6ICJldmVub2RkIiwgImxpbmVDYXAiOiAicm91bmQiLCAibGluZUpvaW4iOiAicm91bmQiLCAib3BhY2l0eSI6IDEuMCwgInJhZGl1cyI6IDMsICJzdHJva2UiOiB0cnVlLCAid2VpZ2h0IjogM30KICAgICAgICAgICAgKS5hZGRUbyhtYXBfNGZmMDY3NTE4OTFkNDRkNDgzOWEwYjgyN2UwZDE0MGQpOwogICAgICAgIAogICAgCiAgICAgICAgICAgIGNpcmNsZV9tYXJrZXJfNGE5MGNkNGQ5NzVmNDk3NjhiOWZmMGZmZTExMGZjNWYuYmluZFRvb2x0aXAoCiAgICAgICAgICAgICAgICBgPGRpdj4KICAgICAgICAgICAgICAgICAgICAg7Iqk7YOA67KF7IqkIC0g64yA6rWs6rSR7Jet7IucIOu2geq1rCDsuajsgrDroZwgMTI2CiAgICAgICAgICAgICAgICAgPC9kaXY+YCwKICAgICAgICAgICAgICAgIHsic3RpY2t5IjogdHJ1ZX0KICAgICAgICAgICAgKTsKICAgICAgICAKICAgIAogICAgICAgICAgICB2YXIgY2lyY2xlX21hcmtlcl8yZmZhMDk2ZTcyMjQ0ZDAwYTNlMjZlMWExYjIyNmJjZiA9IEwuY2lyY2xlTWFya2VyKAogICAgICAgICAgICAgICAgWzM1Ljg2Njg5OTIxNzE3MSwgMTI4LjYyNDIxMTU3NDAxMTk4XSwKICAgICAgICAgICAgICAgIHsiYnViYmxpbmdNb3VzZUV2ZW50cyI6IHRydWUsICJjb2xvciI6ICJibHVlIiwgImRhc2hBcnJheSI6IG51bGwsICJkYXNoT2Zmc2V0IjogbnVsbCwgImZpbGwiOiBmYWxzZSwgImZpbGxDb2xvciI6ICJibHVlIiwgImZpbGxPcGFjaXR5IjogMC4yLCAiZmlsbFJ1bGUiOiAiZXZlbm9kZCIsICJsaW5lQ2FwIjogInJvdW5kIiwgImxpbmVKb2luIjogInJvdW5kIiwgIm9wYWNpdHkiOiAxLjAsICJyYWRpdXMiOiAzLCAic3Ryb2tlIjogdHJ1ZSwgIndlaWdodCI6IDN9CiAgICAgICAgICAgICkuYWRkVG8obWFwXzRmZjA2NzUxODkxZDQ0ZDQ4MzlhMGI4MjdlMGQxNDBkKTsKICAgICAgICAKICAgIAogICAgICAgICAgICBjaXJjbGVfbWFya2VyXzJmZmEwOTZlNzIyNDRkMDBhM2UyNmUxYTFiMjI2YmNmLmJpbmRUb29sdGlwKAogICAgICAgICAgICAgICAgYDxkaXY+CiAgICAgICAgICAgICAgICAgICAgIOydtOuUlOyVvOy7pO2UvCAtIOuMgOq1rOq0keyXreyLnCDsiJjshLHqtawg6rWt7LGE67O07IOB66GcIDg1NgogICAgICAgICAgICAgICAgIDwvZGl2PmAsCiAgICAgICAgICAgICAgICB7InN0aWNreSI6IHRydWV9CiAgICAgICAgICAgICk7CiAgICAgICAgCiAgICAKICAgICAgICAgICAgdmFyIGNpcmNsZV9tYXJrZXJfYjM1MGZjOGQwODRkNDU3Y2JkZDRiZGQ3NzZjYTYyZDUgPSBMLmNpcmNsZU1hcmtlcigKICAgICAgICAgICAgICAgIFszNS44MjEwODA5OTg0MDEsIDEyOC42NDAzNzU0Mzk5NjZdLAogICAgICAgICAgICAgICAgeyJidWJibGluZ01vdXNlRXZlbnRzIjogdHJ1ZSwgImNvbG9yIjogImdyZWVuIiwgImRhc2hBcnJheSI6IG51bGwsICJkYXNoT2Zmc2V0IjogbnVsbCwgImZpbGwiOiBmYWxzZSwgImZpbGxDb2xvciI6ICJncmVlbiIsICJmaWxsT3BhY2l0eSI6IDAuMiwgImZpbGxSdWxlIjogImV2ZW5vZGQiLCAibGluZUNhcCI6ICJyb3VuZCIsICJsaW5lSm9pbiI6ICJyb3VuZCIsICJvcGFjaXR5IjogMS4wLCAicmFkaXVzIjogMywgInN0cm9rZSI6IHRydWUsICJ3ZWlnaHQiOiAzfQogICAgICAgICAgICApLmFkZFRvKG1hcF80ZmYwNjc1MTg5MWQ0NGQ0ODM5YTBiODI3ZTBkMTQwZCk7CiAgICAgICAgCiAgICAKICAgICAgICAgICAgY2lyY2xlX21hcmtlcl9iMzUwZmM4ZDA4NGQ0NTdjYmRkNGJkZDc3NmNhNjJkNS5iaW5kVG9vbHRpcCgKICAgICAgICAgICAgICAgIGA8ZGl2PgogICAgICAgICAgICAgICAgICAgICDsiqTtg4DrsoXsiqQgLSDrjIDqtazqtJHsl63si5wg7IiY7ISx6rWsIOyngOuylOuhnCAxOTEKICAgICAgICAgICAgICAgICA8L2Rpdj5gLAogICAgICAgICAgICAgICAgeyJzdGlja3kiOiB0cnVlfQogICAgICAgICAgICApOwogICAgICAgIAogICAgCiAgICAgICAgICAgIHZhciBjaXJjbGVfbWFya2VyXzg5MGE1NTMzNTZiOTQ4MjJhMDMyMGZhOTkwMGNiYmRjID0gTC5jaXJjbGVNYXJrZXIoCiAgICAgICAgICAgICAgICBbMzUuODY3NDY3OTM2NTAwNSwgMTI4LjU5MzgwODgxNDA5M10sCiAgICAgICAgICAgICAgICB7ImJ1YmJsaW5nTW91c2VFdmVudHMiOiB0cnVlLCAiY29sb3IiOiAiZ3JlZW4iLCAiZGFzaEFycmF5IjogbnVsbCwgImRhc2hPZmZzZXQiOiBudWxsLCAiZmlsbCI6IGZhbHNlLCAiZmlsbENvbG9yIjogImdyZWVuIiwgImZpbGxPcGFjaXR5IjogMC4yLCAiZmlsbFJ1bGUiOiAiZXZlbm9kZCIsICJsaW5lQ2FwIjogInJvdW5kIiwgImxpbmVKb2luIjogInJvdW5kIiwgIm9wYWNpdHkiOiAxLjAsICJyYWRpdXMiOiAzLCAic3Ryb2tlIjogdHJ1ZSwgIndlaWdodCI6IDN9CiAgICAgICAgICAgICkuYWRkVG8obWFwXzRmZjA2NzUxODkxZDQ0ZDQ4MzlhMGI4MjdlMGQxNDBkKTsKICAgICAgICAKICAgIAogICAgICAgICAgICBjaXJjbGVfbWFya2VyXzg5MGE1NTMzNTZiOTQ4MjJhMDMyMGZhOTkwMGNiYmRjLmJpbmRUb29sdGlwKAogICAgICAgICAgICAgICAgYDxkaXY+CiAgICAgICAgICAgICAgICAgICAgIOyKpO2DgOuyheyKpCAtIOuMgOq1rOq0keyXreyLnCDspJHqtawg7KSR7JWZ64yA66GcIDM4NgogICAgICAgICAgICAgICAgIDwvZGl2PmAsCiAgICAgICAgICAgICAgICB7InN0aWNreSI6IHRydWV9CiAgICAgICAgICAgICk7CiAgICAgICAgCiAgICAKICAgICAgICAgICAgdmFyIGNpcmNsZV9tYXJrZXJfNzNkOWE4ZmUxNjdiNGI3YjkwYTJmM2ZlNDNhZDE3YWYgPSBMLmNpcmNsZU1hcmtlcigKICAgICAgICAgICAgICAgIFszNS44NTg4NzExNDMzNDU0OTYsIDEyOC41NjE1NTgwOTY5MTVdLAogICAgICAgICAgICAgICAgeyJidWJibGluZ01vdXNlRXZlbnRzIjogdHJ1ZSwgImNvbG9yIjogImdyZWVuIiwgImRhc2hBcnJheSI6IG51bGwsICJkYXNoT2Zmc2V0IjogbnVsbCwgImZpbGwiOiBmYWxzZSwgImZpbGxDb2xvciI6ICJncmVlbiIsICJmaWxsT3BhY2l0eSI6IDAuMiwgImZpbGxSdWxlIjogImV2ZW5vZGQiLCAibGluZUNhcCI6ICJyb3VuZCIsICJsaW5lSm9pbiI6ICJyb3VuZCIsICJvcGFjaXR5IjogMS4wLCAicmFkaXVzIjogMywgInN0cm9rZSI6IHRydWUsICJ3ZWlnaHQiOiAzfQogICAgICAgICAgICApLmFkZFRvKG1hcF80ZmYwNjc1MTg5MWQ0NGQ0ODM5YTBiODI3ZTBkMTQwZCk7CiAgICAgICAgCiAgICAKICAgICAgICAgICAgY2lyY2xlX21hcmtlcl83M2Q5YThmZTE2N2I0YjdiOTBhMmYzZmU0M2FkMTdhZi5iaW5kVG9vbHRpcCgKICAgICAgICAgICAgICAgIGA8ZGl2PgogICAgICAgICAgICAgICAgICAgICDsiqTtg4DrsoXsiqQgLSDrjIDqtazqtJHsl63si5wg64us7ISc6rWsIOuLrOq1rOuyjOuMgOuhnCAxNzk2CiAgICAgICAgICAgICAgICAgPC9kaXY+YCwKICAgICAgICAgICAgICAgIHsic3RpY2t5IjogdHJ1ZX0KICAgICAgICAgICAgKTsKICAgICAgICAKICAgIAogICAgICAgICAgICB2YXIgY2lyY2xlX21hcmtlcl8yNzYzMGYyZmY1ZTQ0NmU3OTQ2OTUxNGVhN2QyNzlkNCA9IEwuY2lyY2xlTWFya2VyKAogICAgICAgICAgICAgICAgWzM1Ljg2NzI5ODg3OTgxNTM5NCwgMTI4LjU5MzM2NDYyMjM4N10sCiAgICAgICAgICAgICAgICB7ImJ1YmJsaW5nTW91c2VFdmVudHMiOiB0cnVlLCAiY29sb3IiOiAiZ3JlZW4iLCAiZGFzaEFycmF5IjogbnVsbCwgImRhc2hPZmZzZXQiOiBudWxsLCAiZmlsbCI6IGZhbHNlLCAiZmlsbENvbG9yIjogImdyZWVuIiwgImZpbGxPcGFjaXR5IjogMC4yLCAiZmlsbFJ1bGUiOiAiZXZlbm9kZCIsICJsaW5lQ2FwIjogInJvdW5kIiwgImxpbmVKb2luIjogInJvdW5kIiwgIm9wYWNpdHkiOiAxLjAsICJyYWRpdXMiOiAzLCAic3Ryb2tlIjogdHJ1ZSwgIndlaWdodCI6IDN9CiAgICAgICAgICAgICkuYWRkVG8obWFwXzRmZjA2NzUxODkxZDQ0ZDQ4MzlhMGI4MjdlMGQxNDBkKTsKICAgICAgICAKICAgIAogICAgICAgICAgICBjaXJjbGVfbWFya2VyXzI3NjMwZjJmZjVlNDQ2ZTc5NDY5NTE0ZWE3ZDI3OWQ0LmJpbmRUb29sdGlwKAogICAgICAgICAgICAgICAgYDxkaXY+CiAgICAgICAgICAgICAgICAgICAgIOyKpO2DgOuyheyKpOuMgOq1rOykkeyVmeuhnOygkCAtIOuMgOq1rOq0keyXreyLnCDspJHqtawg64Ko7ISx66GcIDYxCiAgICAgICAgICAgICAgICAgPC9kaXY+YCwKICAgICAgICAgICAgICAgIHsic3RpY2t5IjogdHJ1ZX0KICAgICAgICAgICAgKTsKICAgICAgICAKICAgIAogICAgICAgICAgICB2YXIgY2lyY2xlX21hcmtlcl8wNjhkY2M5NWEzMDI0YzVjYTk5MmMyYzM2Yzg4YmVkNCA9IEwuY2lyY2xlTWFya2VyKAogICAgICAgICAgICAgICAgWzM1LjgxMDA2MzEwNzE0MiwgMTI4LjUzMjA2ODE4MzQ5OV0sCiAgICAgICAgICAgICAgICB7ImJ1YmJsaW5nTW91c2VFdmVudHMiOiB0cnVlLCAiY29sb3IiOiAiYmx1ZSIsICJkYXNoQXJyYXkiOiBudWxsLCAiZGFzaE9mZnNldCI6IG51bGwsICJmaWxsIjogZmFsc2UsICJmaWxsQ29sb3IiOiAiYmx1ZSIsICJmaWxsT3BhY2l0eSI6IDAuMiwgImZpbGxSdWxlIjogImV2ZW5vZGQiLCAibGluZUNhcCI6ICJyb3VuZCIsICJsaW5lSm9pbiI6ICJyb3VuZCIsICJvcGFjaXR5IjogMS4wLCAicmFkaXVzIjogMywgInN0cm9rZSI6IHRydWUsICJ3ZWlnaHQiOiAzfQogICAgICAgICAgICApLmFkZFRvKG1hcF80ZmYwNjc1MTg5MWQ0NGQ0ODM5YTBiODI3ZTBkMTQwZCk7CiAgICAgICAgCiAgICAKICAgICAgICAgICAgY2lyY2xlX21hcmtlcl8wNjhkY2M5NWEzMDI0YzVjYTk5MmMyYzM2Yzg4YmVkNC5iaW5kVG9vbHRpcCgKICAgICAgICAgICAgICAgIGA8ZGl2PgogICAgICAgICAgICAgICAgICAgICDsnbTrlJTslbzsu6TtlLwgLSDrjIDqtazqtJHsl63si5wg64us7ISc6rWsIOyDge2ZlOuhnCAxNjUtMQogICAgICAgICAgICAgICAgIDwvZGl2PmAsCiAgICAgICAgICAgICAgICB7InN0aWNreSI6IHRydWV9CiAgICAgICAgICAgICk7CiAgICAgICAgCiAgICAKICAgICAgICAgICAgdmFyIGNpcmNsZV9tYXJrZXJfZTIwNDM0Y2JjY2Y5NDgxZDkyMjFjODRiNzhlZDU0ZDUgPSBMLmNpcmNsZU1hcmtlcigKICAgICAgICAgICAgICAgIFszNS44NDM3NzQ0NDIwNjYxLCAxMjguNTMzNzU0NDc0MjEzXSwKICAgICAgICAgICAgICAgIHsiYnViYmxpbmdNb3VzZUV2ZW50cyI6IHRydWUsICJjb2xvciI6ICJncmVlbiIsICJkYXNoQXJyYXkiOiBudWxsLCAiZGFzaE9mZnNldCI6IG51bGwsICJmaWxsIjogZmFsc2UsICJmaWxsQ29sb3IiOiAiZ3JlZW4iLCAiZmlsbE9wYWNpdHkiOiAwLjIsICJmaWxsUnVsZSI6ICJldmVub2RkIiwgImxpbmVDYXAiOiAicm91bmQiLCAibGluZUpvaW4iOiAicm91bmQiLCAib3BhY2l0eSI6IDEuMCwgInJhZGl1cyI6IDMsICJzdHJva2UiOiB0cnVlLCAid2VpZ2h0IjogM30KICAgICAgICAgICAgKS5hZGRUbyhtYXBfNGZmMDY3NTE4OTFkNDRkNDgzOWEwYjgyN2UwZDE0MGQpOwogICAgICAgIAogICAgCiAgICAgICAgICAgIGNpcmNsZV9tYXJrZXJfZTIwNDM0Y2JjY2Y5NDgxZDkyMjFjODRiNzhlZDU0ZDUuYmluZFRvb2x0aXAoCiAgICAgICAgICAgICAgICBgPGRpdj4KICAgICAgICAgICAgICAgICAgICAg7Iqk7YOA67KF7IqkIC0g64yA6rWs6rSR7Jet7IucIOuLrOyEnOq1rCDsnqXquLDroZwgMjQ0CiAgICAgICAgICAgICAgICAgPC9kaXY+YCwKICAgICAgICAgICAgICAgIHsic3RpY2t5IjogdHJ1ZX0KICAgICAgICAgICAgKTsKICAgICAgICAKICAgIAogICAgICAgICAgICB2YXIgY2lyY2xlX21hcmtlcl8zY2Q4YTQ2MTRjYjE0ZWViODhkMDEzYmI1NWZiMTFlNSA9IEwuY2lyY2xlTWFya2VyKAogICAgICAgICAgICAgICAgWzM1LjgzMDIzNjk0NDIyOTIsIDEyOC43MDgxMzAxNjA2NTIwMl0sCiAgICAgICAgICAgICAgICB7ImJ1YmJsaW5nTW91c2VFdmVudHMiOiB0cnVlLCAiY29sb3IiOiAiYmx1ZSIsICJkYXNoQXJyYXkiOiBudWxsLCAiZGFzaE9mZnNldCI6IG51bGwsICJmaWxsIjogZmFsc2UsICJmaWxsQ29sb3IiOiAiYmx1ZSIsICJmaWxsT3BhY2l0eSI6IDAuMiwgImZpbGxSdWxlIjogImV2ZW5vZGQiLCAibGluZUNhcCI6ICJyb3VuZCIsICJsaW5lSm9pbiI6ICJyb3VuZCIsICJvcGFjaXR5IjogMS4wLCAicmFkaXVzIjogMywgInN0cm9rZSI6IHRydWUsICJ3ZWlnaHQiOiAzfQogICAgICAgICAgICApLmFkZFRvKG1hcF80ZmYwNjc1MTg5MWQ0NGQ0ODM5YTBiODI3ZTBkMTQwZCk7CiAgICAgICAgCiAgICAKICAgICAgICAgICAgY2lyY2xlX21hcmtlcl8zY2Q4YTQ2MTRjYjE0ZWViODhkMDEzYmI1NWZiMTFlNS5iaW5kVG9vbHRpcCgKICAgICAgICAgICAgICAgIGA8ZGl2PgogICAgICAgICAgICAgICAgICAgICDsnbTrlJTslbzsu6TtlLwgLSDrjIDqtazqtJHsl63si5wg7IiY7ISx6rWsIOuLrOq1rOuyjOuMgOuhnDY1MOq4uCA5NQogICAgICAgICAgICAgICAgIDwvZGl2PmAsCiAgICAgICAgICAgICAgICB7InN0aWNreSI6IHRydWV9CiAgICAgICAgICAgICk7CiAgICAgICAgCiAgICAKICAgICAgICAgICAgdmFyIGNpcmNsZV9tYXJrZXJfZjVlODA2M2ViMjNhNDQ5ZTgzMGVhYmExYjk1NDYxZWQgPSBMLmNpcmNsZU1hcmtlcigKICAgICAgICAgICAgICAgIFszNS44NzA2MDg1MDQ4MjE2MDQsIDEyOC41OTQ4Mjg4Nzk2MDUwMl0sCiAgICAgICAgICAgICAgICB7ImJ1YmJsaW5nTW91c2VFdmVudHMiOiB0cnVlLCAiY29sb3IiOiAiZ3JlZW4iLCAiZGFzaEFycmF5IjogbnVsbCwgImRhc2hPZmZzZXQiOiBudWxsLCAiZmlsbCI6IGZhbHNlLCAiZmlsbENvbG9yIjogImdyZWVuIiwgImZpbGxPcGFjaXR5IjogMC4yLCAiZmlsbFJ1bGUiOiAiZXZlbm9kZCIsICJsaW5lQ2FwIjogInJvdW5kIiwgImxpbmVKb2luIjogInJvdW5kIiwgIm9wYWNpdHkiOiAxLjAsICJyYWRpdXMiOiAzLCAic3Ryb2tlIjogdHJ1ZSwgIndlaWdodCI6IDN9CiAgICAgICAgICAgICkuYWRkVG8obWFwXzRmZjA2NzUxODkxZDQ0ZDQ4MzlhMGI4MjdlMGQxNDBkKTsKICAgICAgICAKICAgIAogICAgICAgICAgICBjaXJjbGVfbWFya2VyX2Y1ZTgwNjNlYjIzYTQ0OWU4MzBlYWJhMWI5NTQ2MWVkLmJpbmRUb29sdGlwKAogICAgICAgICAgICAgICAgYDxkaXY+CiAgICAgICAgICAgICAgICAgICAgIOyKpO2DgOuyheyKpCAtIOuMgOq1rOq0keyXreyLnCDspJHqtawg6rWt7LGE67O07IOB66GcIDU4NgogICAgICAgICAgICAgICAgIDwvZGl2PmAsCiAgICAgICAgICAgICAgICB7InN0aWNreSI6IHRydWV9CiAgICAgICAgICAgICk7CiAgICAgICAgCiAgICAKICAgICAgICAgICAgdmFyIGNpcmNsZV9tYXJrZXJfYWFkMTAwYzg2ZDNiNGU4ZTg5NjA1NzI2ZjU3OWE2YTkgPSBMLmNpcmNsZU1hcmtlcigKICAgICAgICAgICAgICAgIFszNS45NDI1NjM0MTgyNDIsIDEyOC41NjA1MzEzMzIxNF0sCiAgICAgICAgICAgICAgICB7ImJ1YmJsaW5nTW91c2VFdmVudHMiOiB0cnVlLCAiY29sb3IiOiAiZ3JlZW4iLCAiZGFzaEFycmF5IjogbnVsbCwgImRhc2hPZmZzZXQiOiBudWxsLCAiZmlsbCI6IGZhbHNlLCAiZmlsbENvbG9yIjogImdyZWVuIiwgImZpbGxPcGFjaXR5IjogMC4yLCAiZmlsbFJ1bGUiOiAiZXZlbm9kZCIsICJsaW5lQ2FwIjogInJvdW5kIiwgImxpbmVKb2luIjogInJvdW5kIiwgIm9wYWNpdHkiOiAxLjAsICJyYWRpdXMiOiAzLCAic3Ryb2tlIjogdHJ1ZSwgIndlaWdodCI6IDN9CiAgICAgICAgICAgICkuYWRkVG8obWFwXzRmZjA2NzUxODkxZDQ0ZDQ4MzlhMGI4MjdlMGQxNDBkKTsKICAgICAgICAKICAgIAogICAgICAgICAgICBjaXJjbGVfbWFya2VyX2FhZDEwMGM4NmQzYjRlOGU4OTYwNTcyNmY1NzlhNmE5LmJpbmRUb29sdGlwKAogICAgICAgICAgICAgICAgYDxkaXY+CiAgICAgICAgICAgICAgICAgICAgIOyKpO2DgOuyheyKpCAtIOuMgOq1rOq0keyXreyLnCDrtoHqtawg64+Z7LKc66GcIDEyMwogICAgICAgICAgICAgICAgIDwvZGl2PmAsCiAgICAgICAgICAgICAgICB7InN0aWNreSI6IHRydWV9CiAgICAgICAgICAgICk7CiAgICAgICAgCiAgICAKICAgICAgICAgICAgdmFyIGNpcmNsZV9tYXJrZXJfNjY2MTNjNzQzMTBiNDVjZGIzZjI4ZWFiOTMyNjU2YjUgPSBMLmNpcmNsZU1hcmtlcigKICAgICAgICAgICAgICAgIFszNS44NjczOTU2NzI4OTUxLCAxMjguNTkyMDE0NDA0MDE4OThdLAogICAgICAgICAgICAgICAgeyJidWJibGluZ01vdXNlRXZlbnRzIjogdHJ1ZSwgImNvbG9yIjogImJsdWUiLCAiZGFzaEFycmF5IjogbnVsbCwgImRhc2hPZmZzZXQiOiBudWxsLCAiZmlsbCI6IGZhbHNlLCAiZmlsbENvbG9yIjogImJsdWUiLCAiZmlsbE9wYWNpdHkiOiAwLjIsICJmaWxsUnVsZSI6ICJldmVub2RkIiwgImxpbmVDYXAiOiAicm91bmQiLCAibGluZUpvaW4iOiAicm91bmQiLCAib3BhY2l0eSI6IDEuMCwgInJhZGl1cyI6IDMsICJzdHJva2UiOiB0cnVlLCAid2VpZ2h0IjogM30KICAgICAgICAgICAgKS5hZGRUbyhtYXBfNGZmMDY3NTE4OTFkNDRkNDgzOWEwYjgyN2UwZDE0MGQpOwogICAgICAgIAogICAgCiAgICAgICAgICAgIGNpcmNsZV9tYXJrZXJfNjY2MTNjNzQzMTBiNDVjZGIzZjI4ZWFiOTMyNjU2YjUuYmluZFRvb2x0aXAoCiAgICAgICAgICAgICAgICBgPGRpdj4KICAgICAgICAgICAgICAgICAgICAg7J2065SU7JW87Luk7ZS864yA6rWs7KKF66Gc7KCQIC0g64yA6rWs6rSR7Jet7IucIOykkeq1rCDsooXroZwgMTcKICAgICAgICAgICAgICAgICA8L2Rpdj5gLAogICAgICAgICAgICAgICAgeyJzdGlja3kiOiB0cnVlfQogICAgICAgICAgICApOwogICAgICAgIAogICAgCiAgICAgICAgICAgIHZhciBjaXJjbGVfbWFya2VyXzhjNGVlZTJkZjljZDRmNDliYTVmZmEwYzZhMzliNTQ2ID0gTC5jaXJjbGVNYXJrZXIoCiAgICAgICAgICAgICAgICBbMzUuODY4MTQ1MTU1MjQ0LCAxMjguNjI3MjY2NTE4ODY2XSwKICAgICAgICAgICAgICAgIHsiYnViYmxpbmdNb3VzZUV2ZW50cyI6IHRydWUsICJjb2xvciI6ICJncmVlbiIsICJkYXNoQXJyYXkiOiBudWxsLCAiZGFzaE9mZnNldCI6IG51bGwsICJmaWxsIjogZmFsc2UsICJmaWxsQ29sb3IiOiAiZ3JlZW4iLCAiZmlsbE9wYWNpdHkiOiAwLjIsICJmaWxsUnVsZSI6ICJldmVub2RkIiwgImxpbmVDYXAiOiAicm91bmQiLCAibGluZUpvaW4iOiAicm91bmQiLCAib3BhY2l0eSI6IDEuMCwgInJhZGl1cyI6IDMsICJzdHJva2UiOiB0cnVlLCAid2VpZ2h0IjogM30KICAgICAgICAgICAgKS5hZGRUbyhtYXBfNGZmMDY3NTE4OTFkNDRkNDgzOWEwYjgyN2UwZDE0MGQpOwogICAgICAgIAogICAgCiAgICAgICAgICAgIGNpcmNsZV9tYXJrZXJfOGM0ZWVlMmRmOWNkNGY0OWJhNWZmYTBjNmEzOWI1NDYuYmluZFRvb2x0aXAoCiAgICAgICAgICAgICAgICBgPGRpdj4KICAgICAgICAgICAgICAgICAgICAg7Iqk7YOA67KF7IqkIC0g64yA6rWs6rSR7Jet7IucIOuPmeq1rCDrj5nrjIDqtazroZwgNDIyCiAgICAgICAgICAgICAgICAgPC9kaXY+YCwKICAgICAgICAgICAgICAgIHsic3RpY2t5IjogdHJ1ZX0KICAgICAgICAgICAgKTsKICAgICAgICAKICAgIAogICAgICAgICAgICB2YXIgY2lyY2xlX21hcmtlcl9iYzg3YmQ0MmE2OWU0MDFiOGViNmQ2ZmJkMDkwODZiNSA9IEwuY2lyY2xlTWFya2VyKAogICAgICAgICAgICAgICAgWzM1LjgzNTI0MzUwMjI4NjI5NiwgMTI4LjYyNDQ1MDU1NzU2Ml0sCiAgICAgICAgICAgICAgICB7ImJ1YmJsaW5nTW91c2VFdmVudHMiOiB0cnVlLCAiY29sb3IiOiAiZ3JlZW4iLCAiZGFzaEFycmF5IjogbnVsbCwgImRhc2hPZmZzZXQiOiBudWxsLCAiZmlsbCI6IGZhbHNlLCAiZmlsbENvbG9yIjogImdyZWVuIiwgImZpbGxPcGFjaXR5IjogMC4yLCAiZmlsbFJ1bGUiOiAiZXZlbm9kZCIsICJsaW5lQ2FwIjogInJvdW5kIiwgImxpbmVKb2luIjogInJvdW5kIiwgIm9wYWNpdHkiOiAxLjAsICJyYWRpdXMiOiAzLCAic3Ryb2tlIjogdHJ1ZSwgIndlaWdodCI6IDN9CiAgICAgICAgICAgICkuYWRkVG8obWFwXzRmZjA2NzUxODkxZDQ0ZDQ4MzlhMGI4MjdlMGQxNDBkKTsKICAgICAgICAKICAgIAogICAgICAgICAgICBjaXJjbGVfbWFya2VyX2JjODdiZDQyYTY5ZTQwMWI4ZWI2ZDZmYmQwOTA4NmI1LmJpbmRUb29sdGlwKAogICAgICAgICAgICAgICAgYDxkaXY+CiAgICAgICAgICAgICAgICAgICAgIOyKpO2DgOuyheyKpCAtIOuMgOq1rOq0keyXreyLnCDsiJjshLHqtawg64+Z64yA6rWs66GcIDU2CiAgICAgICAgICAgICAgICAgPC9kaXY+YCwKICAgICAgICAgICAgICAgIHsic3RpY2t5IjogdHJ1ZX0KICAgICAgICAgICAgKTsKICAgICAgICAKICAgIAogICAgICAgICAgICB2YXIgY2lyY2xlX21hcmtlcl8yNDUyYTFjNTgzMzE0YWFhOTI2MzcxNGQzYzIxMjhhNiA9IEwuY2lyY2xlTWFya2VyKAogICAgICAgICAgICAgICAgWzM1LjgwNzIzOTU1MzUxMjYsIDEyOC41MjAyNTQxMDI5OTQ5OF0sCiAgICAgICAgICAgICAgICB7ImJ1YmJsaW5nTW91c2VFdmVudHMiOiB0cnVlLCAiY29sb3IiOiAiZ3JlZW4iLCAiZGFzaEFycmF5IjogbnVsbCwgImRhc2hPZmZzZXQiOiBudWxsLCAiZmlsbCI6IGZhbHNlLCAiZmlsbENvbG9yIjogImdyZWVuIiwgImZpbGxPcGFjaXR5IjogMC4yLCAiZmlsbFJ1bGUiOiAiZXZlbm9kZCIsICJsaW5lQ2FwIjogInJvdW5kIiwgImxpbmVKb2luIjogInJvdW5kIiwgIm9wYWNpdHkiOiAxLjAsICJyYWRpdXMiOiAzLCAic3Ryb2tlIjogdHJ1ZSwgIndlaWdodCI6IDN9CiAgICAgICAgICAgICkuYWRkVG8obWFwXzRmZjA2NzUxODkxZDQ0ZDQ4MzlhMGI4MjdlMGQxNDBkKTsKICAgICAgICAKICAgIAogICAgICAgICAgICBjaXJjbGVfbWFya2VyXzI0NTJhMWM1ODMzMTRhYWE5MjYzNzE0ZDNjMjEyOGE2LmJpbmRUb29sdGlwKAogICAgICAgICAgICAgICAgYDxkaXY+CiAgICAgICAgICAgICAgICAgICAgIOyKpO2DgOuyheyKpCAtIOuMgOq1rOq0keyXreyLnCDri6zshJzqtawg7ZmU7JWU66GcIDM3OQogICAgICAgICAgICAgICAgIDwvZGl2PmAsCiAgICAgICAgICAgICAgICB7InN0aWNreSI6IHRydWV9CiAgICAgICAgICAgICk7CiAgICAgICAgCiAgICAKICAgICAgICAgICAgdmFyIGNpcmNsZV9tYXJrZXJfOWEwNmI3Y2FhNmJjNDY0YTgxODBlMGY3OGQzZjIyY2MgPSBMLmNpcmNsZU1hcmtlcigKICAgICAgICAgICAgICAgIFszNS42OTgzNzQ5Njc5MzUyOTQsIDEyOC40NjA2MDU3ODk3OTJdLAogICAgICAgICAgICAgICAgeyJidWJibGluZ01vdXNlRXZlbnRzIjogdHJ1ZSwgImNvbG9yIjogImJsdWUiLCAiZGFzaEFycmF5IjogbnVsbCwgImRhc2hPZmZzZXQiOiBudWxsLCAiZmlsbCI6IGZhbHNlLCAiZmlsbENvbG9yIjogImJsdWUiLCAiZmlsbE9wYWNpdHkiOiAwLjIsICJmaWxsUnVsZSI6ICJldmVub2RkIiwgImxpbmVDYXAiOiAicm91bmQiLCAibGluZUpvaW4iOiAicm91bmQiLCAib3BhY2l0eSI6IDEuMCwgInJhZGl1cyI6IDMsICJzdHJva2UiOiB0cnVlLCAid2VpZ2h0IjogM30KICAgICAgICAgICAgKS5hZGRUbyhtYXBfNGZmMDY3NTE4OTFkNDRkNDgzOWEwYjgyN2UwZDE0MGQpOwogICAgICAgIAogICAgCiAgICAgICAgICAgIGNpcmNsZV9tYXJrZXJfOWEwNmI3Y2FhNmJjNDY0YTgxODBlMGY3OGQzZjIyY2MuYmluZFRvb2x0aXAoCiAgICAgICAgICAgICAgICBgPGRpdj4KICAgICAgICAgICAgICAgICAgICAg7J2065SU7JW87Luk7ZS8IC0g64yA6rWs6rSR7Jet7IucIOuLrOyEseq1sCDsnKDqsIDrqbQg7ZiE7ZKN66GcIDE5OAogICAgICAgICAgICAgICAgIDwvZGl2PmAsCiAgICAgICAgICAgICAgICB7InN0aWNreSI6IHRydWV9CiAgICAgICAgICAgICk7CiAgICAgICAgCiAgICAKICAgICAgICAgICAgdmFyIGNpcmNsZV9tYXJrZXJfOGY4MzkzMDQ0M2Q3NDM0ZWI2YTU0MDc4OTJkNWRjN2QgPSBMLmNpcmNsZU1hcmtlcigKICAgICAgICAgICAgICAgIFszNS44NjYzNDE5Mjc4MTQyMDQsIDEyOC41OTE4NTE1NDMyNDldLAogICAgICAgICAgICAgICAgeyJidWJibGluZ01vdXNlRXZlbnRzIjogdHJ1ZSwgImNvbG9yIjogImdyZWVuIiwgImRhc2hBcnJheSI6IG51bGwsICJkYXNoT2Zmc2V0IjogbnVsbCwgImZpbGwiOiBmYWxzZSwgImZpbGxDb2xvciI6ICJncmVlbiIsICJmaWxsT3BhY2l0eSI6IDAuMiwgImZpbGxSdWxlIjogImV2ZW5vZGQiLCAibGluZUNhcCI6ICJyb3VuZCIsICJsaW5lSm9pbiI6ICJyb3VuZCIsICJvcGFjaXR5IjogMS4wLCAicmFkaXVzIjogMywgInN0cm9rZSI6IHRydWUsICJ3ZWlnaHQiOiAzfQogICAgICAgICAgICApLmFkZFRvKG1hcF80ZmYwNjc1MTg5MWQ0NGQ0ODM5YTBiODI3ZTBkMTQwZCk7CiAgICAgICAgCiAgICAKICAgICAgICAgICAgY2lyY2xlX21hcmtlcl84ZjgzOTMwNDQzZDc0MzRlYjZhNTQwNzg5MmQ1ZGM3ZC5iaW5kVG9vbHRpcCgKICAgICAgICAgICAgICAgIGA8ZGl2PgogICAgICAgICAgICAgICAgICAgICDsiqTtg4DrsoXsiqTrsJjsm5Tri7kgLSDrjIDqtazqtJHsl63si5wg7KSR6rWsIOuLrOq1rOuyjOuMgOuhnCAyMDg1CiAgICAgICAgICAgICAgICAgPC9kaXY+YCwKICAgICAgICAgICAgICAgIHsic3RpY2t5IjogdHJ1ZX0KICAgICAgICAgICAgKTsKICAgICAgICAKICAgIAogICAgICAgICAgICB2YXIgY2lyY2xlX21hcmtlcl82NWUyZWViZTMyNTM0YjU1OGYzYTdhNTlmM2QyMTZkMiA9IEwuY2lyY2xlTWFya2VyKAogICAgICAgICAgICAgICAgWzM1Ljg1NTE2OTA5Mjk0ODYxLCAxMjguNTA0MTAzNTMyODM1MDJdLAogICAgICAgICAgICAgICAgeyJidWJibGluZ01vdXNlRXZlbnRzIjogdHJ1ZSwgImNvbG9yIjogImdyZWVuIiwgImRhc2hBcnJheSI6IG51bGwsICJkYXNoT2Zmc2V0IjogbnVsbCwgImZpbGwiOiBmYWxzZSwgImZpbGxDb2xvciI6ICJncmVlbiIsICJmaWxsT3BhY2l0eSI6IDAuMiwgImZpbGxSdWxlIjogImV2ZW5vZGQiLCAibGluZUNhcCI6ICJyb3VuZCIsICJsaW5lSm9pbiI6ICJyb3VuZCIsICJvcGFjaXR5IjogMS4wLCAicmFkaXVzIjogMywgInN0cm9rZSI6IHRydWUsICJ3ZWlnaHQiOiAzfQogICAgICAgICAgICApLmFkZFRvKG1hcF80ZmYwNjc1MTg5MWQ0NGQ0ODM5YTBiODI3ZTBkMTQwZCk7CiAgICAgICAgCiAgICAKICAgICAgICAgICAgY2lyY2xlX21hcmtlcl82NWUyZWViZTMyNTM0YjU1OGYzYTdhNTlmM2QyMTZkMi5iaW5kVG9vbHRpcCgKICAgICAgICAgICAgICAgIGA8ZGl2PgogICAgICAgICAgICAgICAgICAgICDsiqTtg4DrsoXsiqTrjIDqtazsnbTqs6HsoJAgLSDrjIDqtazqtJHsl63si5wg64us7ISc6rWsIOqzhOuMgOuPmeusuOuhnCAxMDgKICAgICAgICAgICAgICAgICA8L2Rpdj5gLAogICAgICAgICAgICAgICAgeyJzdGlja3kiOiB0cnVlfQogICAgICAgICAgICApOwogICAgICAgIAogICAgCiAgICAgICAgICAgIHZhciBjaXJjbGVfbWFya2VyXzgxOTYzOWFhMzA5YzRkMjZhZjRlNWU0MGVjNzUwNTg2ID0gTC5jaXJjbGVNYXJrZXIoCiAgICAgICAgICAgICAgICBbMzUuODcyNTgxMDEzMzQyNCwgMTI4LjU5NjkyNTUzMzY2OF0sCiAgICAgICAgICAgICAgICB7ImJ1YmJsaW5nTW91c2VFdmVudHMiOiB0cnVlLCAiY29sb3IiOiAiZ3JlZW4iLCAiZGFzaEFycmF5IjogbnVsbCwgImRhc2hPZmZzZXQiOiBudWxsLCAiZmlsbCI6IGZhbHNlLCAiZmlsbENvbG9yIjogImdyZWVuIiwgImZpbGxPcGFjaXR5IjogMC4yLCAiZmlsbFJ1bGUiOiAiZXZlbm9kZCIsICJsaW5lQ2FwIjogInJvdW5kIiwgImxpbmVKb2luIjogInJvdW5kIiwgIm9wYWNpdHkiOiAxLjAsICJyYWRpdXMiOiAzLCAic3Ryb2tlIjogdHJ1ZSwgIndlaWdodCI6IDN9CiAgICAgICAgICAgICkuYWRkVG8obWFwXzRmZjA2NzUxODkxZDQ0ZDQ4MzlhMGI4MjdlMGQxNDBkKTsKICAgICAgICAKICAgIAogICAgICAgICAgICBjaXJjbGVfbWFya2VyXzgxOTYzOWFhMzA5YzRkMjZhZjRlNWU0MGVjNzUwNTg2LmJpbmRUb29sdGlwKAogICAgICAgICAgICAgICAgYDxkaXY+CiAgICAgICAgICAgICAgICAgICAgIOyKpO2DgOuyheyKpCAtIOuMgOq1rOq0keyXreyLnCDspJHqtawg6rK97IOB6rCQ7JiB6ri4IDE3MQogICAgICAgICAgICAgICAgIDwvZGl2PmAsCiAgICAgICAgICAgICAgICB7InN0aWNreSI6IHRydWV9CiAgICAgICAgICAgICk7CiAgICAgICAgCiAgICAKICAgICAgICAgICAgdmFyIGNpcmNsZV9tYXJrZXJfMTU1MjlkNzgxYzNmNDE0NmE0ZmQyZTZjMDAxOWJmM2QgPSBMLmNpcmNsZU1hcmtlcigKICAgICAgICAgICAgICAgIFszNS44MDc3Mjg3NTQyMzI4LCAxMjguNTQ4MDk2ODk0MDddLAogICAgICAgICAgICAgICAgeyJidWJibGluZ01vdXNlRXZlbnRzIjogdHJ1ZSwgImNvbG9yIjogImdyZWVuIiwgImRhc2hBcnJheSI6IG51bGwsICJkYXNoT2Zmc2V0IjogbnVsbCwgImZpbGwiOiBmYWxzZSwgImZpbGxDb2xvciI6ICJncmVlbiIsICJmaWxsT3BhY2l0eSI6IDAuMiwgImZpbGxSdWxlIjogImV2ZW5vZGQiLCAibGluZUNhcCI6ICJyb3VuZCIsICJsaW5lSm9pbiI6ICJyb3VuZCIsICJvcGFjaXR5IjogMS4wLCAicmFkaXVzIjogMywgInN0cm9rZSI6IHRydWUsICJ3ZWlnaHQiOiAzfQogICAgICAgICAgICApLmFkZFRvKG1hcF80ZmYwNjc1MTg5MWQ0NGQ0ODM5YTBiODI3ZTBkMTQwZCk7CiAgICAgICAgCiAgICAKICAgICAgICAgICAgY2lyY2xlX21hcmtlcl8xNTUyOWQ3ODFjM2Y0MTQ2YTRmZDJlNmMwMDE5YmYzZC5iaW5kVG9vbHRpcCgKICAgICAgICAgICAgICAgIGA8ZGl2PgogICAgICAgICAgICAgICAgICAgICDsiqTtg4DrsoXsiqTrjIDqtazrj4Tsm5BEVOygkCAtIOuMgOq1rOq0keyXreyLnCDri6zshJzqtawg7IOB7ZmU66GcIDMxNAogICAgICAgICAgICAgICAgIDwvZGl2PmAsCiAgICAgICAgICAgICAgICB7InN0aWNreSI6IHRydWV9CiAgICAgICAgICAgICk7CiAgICAgICAgCiAgICAKICAgICAgICAgICAgdmFyIGNpcmNsZV9tYXJrZXJfOGU2MGE5Yjg1NjU5NDBlMmJjZWZhZDkwMjE4NDhiYjYgPSBMLmNpcmNsZU1hcmtlcigKICAgICAgICAgICAgICAgIFszNS44NjEwMDEzNzQ3MTQsIDEyOC42MjgyODQyNTE1MV0sCiAgICAgICAgICAgICAgICB7ImJ1YmJsaW5nTW91c2VFdmVudHMiOiB0cnVlLCAiY29sb3IiOiAiZ3JlZW4iLCAiZGFzaEFycmF5IjogbnVsbCwgImRhc2hPZmZzZXQiOiBudWxsLCAiZmlsbCI6IGZhbHNlLCAiZmlsbENvbG9yIjogImdyZWVuIiwgImZpbGxPcGFjaXR5IjogMC4yLCAiZmlsbFJ1bGUiOiAiZXZlbm9kZCIsICJsaW5lQ2FwIjogInJvdW5kIiwgImxpbmVKb2luIjogInJvdW5kIiwgIm9wYWNpdHkiOiAxLjAsICJyYWRpdXMiOiAzLCAic3Ryb2tlIjogdHJ1ZSwgIndlaWdodCI6IDN9CiAgICAgICAgICAgICkuYWRkVG8obWFwXzRmZjA2NzUxODkxZDQ0ZDQ4MzlhMGI4MjdlMGQxNDBkKTsKICAgICAgICAKICAgIAogICAgICAgICAgICBjaXJjbGVfbWFya2VyXzhlNjBhOWI4NTY1OTQwZTJiY2VmYWQ5MDIxODQ4YmI2LmJpbmRUb29sdGlwKAogICAgICAgICAgICAgICAgYDxkaXY+CiAgICAgICAgICAgICAgICAgICAgIOyKpO2DgOuyheyKpCAtIOuMgOq1rOq0keyXreyLnCDsiJjshLHqtawg64us6rWs67KM64yA66GcIDI0MzUKICAgICAgICAgICAgICAgICA8L2Rpdj5gLAogICAgICAgICAgICAgICAgeyJzdGlja3kiOiB0cnVlfQogICAgICAgICAgICApOwogICAgICAgIAogICAgCiAgICAgICAgICAgIHZhciBjaXJjbGVfbWFya2VyX2NlYzk0NjVjNWViZTQ4MGQ5MDk5YWM2YzQwNzQzMDJkID0gTC5jaXJjbGVNYXJrZXIoCiAgICAgICAgICAgICAgICBbMzUuODM5MDU4MTcyMjgsIDEyOC42MjU3ODY2MzAxMzNdLAogICAgICAgICAgICAgICAgeyJidWJibGluZ01vdXNlRXZlbnRzIjogdHJ1ZSwgImNvbG9yIjogImdyZWVuIiwgImRhc2hBcnJheSI6IG51bGwsICJkYXNoT2Zmc2V0IjogbnVsbCwgImZpbGwiOiBmYWxzZSwgImZpbGxDb2xvciI6ICJncmVlbiIsICJmaWxsT3BhY2l0eSI6IDAuMiwgImZpbGxSdWxlIjogImV2ZW5vZGQiLCAibGluZUNhcCI6ICJyb3VuZCIsICJsaW5lSm9pbiI6ICJyb3VuZCIsICJvcGFjaXR5IjogMS4wLCAicmFkaXVzIjogMywgInN0cm9rZSI6IHRydWUsICJ3ZWlnaHQiOiAzfQogICAgICAgICAgICApLmFkZFRvKG1hcF80ZmYwNjc1MTg5MWQ0NGQ0ODM5YTBiODI3ZTBkMTQwZCk7CiAgICAgICAgCiAgICAKICAgICAgICAgICAgY2lyY2xlX21hcmtlcl9jZWM5NDY1YzVlYmU0ODBkOTA5OWFjNmM0MDc0MzAyZC5iaW5kVG9vbHRpcCgKICAgICAgICAgICAgICAgIGA8ZGl2PgogICAgICAgICAgICAgICAgICAgICDsiqTtg4DrsoXsiqTrjIDqtaztmanquIhEVOygkCAtIOuMgOq1rOq0keyXreyLnCDsiJjshLHqtawg7LKt7IiY66GcIDE2NAogICAgICAgICAgICAgICAgIDwvZGl2PmAsCiAgICAgICAgICAgICAgICB7InN0aWNreSI6IHRydWV9CiAgICAgICAgICAgICk7CiAgICAgICAgCiAgICAKICAgICAgICAgICAgdmFyIGNpcmNsZV9tYXJrZXJfOWUxNTAxNDQyMTJmNGEzMDg5MTE2MWJkOTI4Njg2NGEgPSBMLmNpcmNsZU1hcmtlcigKICAgICAgICAgICAgICAgIFszNS45MjY5MDI4MTQ0NTk3MSwgMTI4LjU0Nzg5ODU4OTU4N10sCiAgICAgICAgICAgICAgICB7ImJ1YmJsaW5nTW91c2VFdmVudHMiOiB0cnVlLCAiY29sb3IiOiAiZ3JlZW4iLCAiZGFzaEFycmF5IjogbnVsbCwgImRhc2hPZmZzZXQiOiBudWxsLCAiZmlsbCI6IGZhbHNlLCAiZmlsbENvbG9yIjogImdyZWVuIiwgImZpbGxPcGFjaXR5IjogMC4yLCAiZmlsbFJ1bGUiOiAiZXZlbm9kZCIsICJsaW5lQ2FwIjogInJvdW5kIiwgImxpbmVKb2luIjogInJvdW5kIiwgIm9wYWNpdHkiOiAxLjAsICJyYWRpdXMiOiAzLCAic3Ryb2tlIjogdHJ1ZSwgIndlaWdodCI6IDN9CiAgICAgICAgICAgICkuYWRkVG8obWFwXzRmZjA2NzUxODkxZDQ0ZDQ4MzlhMGI4MjdlMGQxNDBkKTsKICAgICAgICAKICAgIAogICAgICAgICAgICBjaXJjbGVfbWFya2VyXzllMTUwMTQ0MjEyZjRhMzA4OTExNjFiZDkyODY4NjRhLmJpbmRUb29sdGlwKAogICAgICAgICAgICAgICAgYDxkaXY+CiAgICAgICAgICAgICAgICAgICAgIOyKpO2DgOuyheyKpCAtIOuMgOq1rOq0keyXreyLnCDrtoHqtawg7Lmg6rOh7KSR7JWZ64yA66GcIDM0OAogICAgICAgICAgICAgICAgIDwvZGl2PmAsCiAgICAgICAgICAgICAgICB7InN0aWNreSI6IHRydWV9CiAgICAgICAgICAgICk7CiAgICAgICAgCiAgICAKICAgICAgICAgICAgdmFyIGNpcmNsZV9tYXJrZXJfNDAyMDI3ODk4OGQ2NGZmOTkxMzRmZjg4Y2M1ZDEwZDAgPSBMLmNpcmNsZU1hcmtlcigKICAgICAgICAgICAgICAgIFszNS44MzU5NDAxMTYzMDYxLCAxMjguNTkwMDQyODE5ODM1XSwKICAgICAgICAgICAgICAgIHsiYnViYmxpbmdNb3VzZUV2ZW50cyI6IHRydWUsICJjb2xvciI6ICJncmVlbiIsICJkYXNoQXJyYXkiOiBudWxsLCAiZGFzaE9mZnNldCI6IG51bGwsICJmaWxsIjogZmFsc2UsICJmaWxsQ29sb3IiOiAiZ3JlZW4iLCAiZmlsbE9wYWNpdHkiOiAwLjIsICJmaWxsUnVsZSI6ICJldmVub2RkIiwgImxpbmVDYXAiOiAicm91bmQiLCAibGluZUpvaW4iOiAicm91bmQiLCAib3BhY2l0eSI6IDEuMCwgInJhZGl1cyI6IDMsICJzdHJva2UiOiB0cnVlLCAid2VpZ2h0IjogM30KICAgICAgICAgICAgKS5hZGRUbyhtYXBfNGZmMDY3NTE4OTFkNDRkNDgzOWEwYjgyN2UwZDE0MGQpOwogICAgICAgIAogICAgCiAgICAgICAgICAgIGNpcmNsZV9tYXJrZXJfNDAyMDI3ODk4OGQ2NGZmOTkxMzRmZjg4Y2M1ZDEwZDAuYmluZFRvb2x0aXAoCiAgICAgICAgICAgICAgICBgPGRpdj4KICAgICAgICAgICAgICAgICAgICAg7Iqk7YOA67KF7IqkIC0g64yA6rWs6rSR7Jet7IucIOuCqOq1rCDrjIDrqoXroZwgMjQwCiAgICAgICAgICAgICAgICAgPC9kaXY+YCwKICAgICAgICAgICAgICAgIHsic3RpY2t5IjogdHJ1ZX0KICAgICAgICAgICAgKTsKICAgICAgICAKICAgIAogICAgICAgICAgICB2YXIgY2lyY2xlX21hcmtlcl9hODc0MTkxMGM2M2Q0ZmM4OGMwY2YxZGRhOWRkYjZjNSA9IEwuY2lyY2xlTWFya2VyKAogICAgICAgICAgICAgICAgWzM1Ljg0MjI3MjQ1NjAyNTYsIDEyOC41Nzk3NTA1Mjg1ODgwMl0sCiAgICAgICAgICAgICAgICB7ImJ1YmJsaW5nTW91c2VFdmVudHMiOiB0cnVlLCAiY29sb3IiOiAiYmx1ZSIsICJkYXNoQXJyYXkiOiBudWxsLCAiZGFzaE9mZnNldCI6IG51bGwsICJmaWxsIjogZmFsc2UsICJmaWxsQ29sb3IiOiAiYmx1ZSIsICJmaWxsT3BhY2l0eSI6IDAuMiwgImZpbGxSdWxlIjogImV2ZW5vZGQiLCAibGluZUNhcCI6ICJyb3VuZCIsICJsaW5lSm9pbiI6ICJyb3VuZCIsICJvcGFjaXR5IjogMS4wLCAicmFkaXVzIjogMywgInN0cm9rZSI6IHRydWUsICJ3ZWlnaHQiOiAzfQogICAgICAgICAgICApLmFkZFRvKG1hcF80ZmYwNjc1MTg5MWQ0NGQ0ODM5YTBiODI3ZTBkMTQwZCk7CiAgICAgICAgCiAgICAKICAgICAgICAgICAgY2lyY2xlX21hcmtlcl9hODc0MTkxMGM2M2Q0ZmM4OGMwY2YxZGRhOWRkYjZjNS5iaW5kVG9vbHRpcCgKICAgICAgICAgICAgICAgIGA8ZGl2PgogICAgICAgICAgICAgICAgICAgICDsnbTrlJTslbzsu6TtlLzrjIDrqoXrj5nsoJAgLSDrjIDqtazqtJHsl63si5wg64Ko6rWsIO2YhOy2qeuhnCAxMDUKICAgICAgICAgICAgICAgICA8L2Rpdj5gLAogICAgICAgICAgICAgICAgeyJzdGlja3kiOiB0cnVlfQogICAgICAgICAgICApOwogICAgICAgIAogICAgCiAgICAgICAgICAgIHZhciBjaXJjbGVfbWFya2VyX2JlMmY0YjIyZmEzODRmZmI4MjM2M2M4YzI4MTY4MDM1ID0gTC5jaXJjbGVNYXJrZXIoCiAgICAgICAgICAgICAgICBbMzUuODQyNjEzNzA1OTk4NywgMTI4LjU5ODM5NDYxMjg3M10sCiAgICAgICAgICAgICAgICB7ImJ1YmJsaW5nTW91c2VFdmVudHMiOiB0cnVlLCAiY29sb3IiOiAiYmx1ZSIsICJkYXNoQXJyYXkiOiBudWxsLCAiZGFzaE9mZnNldCI6IG51bGwsICJmaWxsIjogZmFsc2UsICJmaWxsQ29sb3IiOiAiYmx1ZSIsICJmaWxsT3BhY2l0eSI6IDAuMiwgImZpbGxSdWxlIjogImV2ZW5vZGQiLCAibGluZUNhcCI6ICJyb3VuZCIsICJsaW5lSm9pbiI6ICJyb3VuZCIsICJvcGFjaXR5IjogMS4wLCAicmFkaXVzIjogMywgInN0cm9rZSI6IHRydWUsICJ3ZWlnaHQiOiAzfQogICAgICAgICAgICApLmFkZFRvKG1hcF80ZmYwNjc1MTg5MWQ0NGQ0ODM5YTBiODI3ZTBkMTQwZCk7CiAgICAgICAgCiAgICAKICAgICAgICAgICAgY2lyY2xlX21hcmtlcl9iZTJmNGIyMmZhMzg0ZmZiODIzNjNjOGMyODE2ODAzNS5iaW5kVG9vbHRpcCgKICAgICAgICAgICAgICAgIGA8ZGl2PgogICAgICAgICAgICAgICAgICAgICDsnbTrlJTslbzsu6TtlLzrjIDqtazrtInrjZXsoJAgLSDrjIDqtazqtJHsl63si5wg64Ko6rWsIOydtOyynOuhnCAyMAogICAgICAgICAgICAgICAgIDwvZGl2PmAsCiAgICAgICAgICAgICAgICB7InN0aWNreSI6IHRydWV9CiAgICAgICAgICAgICk7CiAgICAgICAgCiAgICAKICAgICAgICAgICAgdmFyIGNpcmNsZV9tYXJrZXJfZjQ2OGRhZDNmZmU1NDQzNTlhOGE4YmNiYjVjOGRhODQgPSBMLmNpcmNsZU1hcmtlcigKICAgICAgICAgICAgICAgIFszNS45MjU2NDA4MjI0MDc4LCAxMjguNTQzOTY3MDYxMTcyXSwKICAgICAgICAgICAgICAgIHsiYnViYmxpbmdNb3VzZUV2ZW50cyI6IHRydWUsICJjb2xvciI6ICJibHVlIiwgImRhc2hBcnJheSI6IG51bGwsICJkYXNoT2Zmc2V0IjogbnVsbCwgImZpbGwiOiBmYWxzZSwgImZpbGxDb2xvciI6ICJibHVlIiwgImZpbGxPcGFjaXR5IjogMC4yLCAiZmlsbFJ1bGUiOiAiZXZlbm9kZCIsICJsaW5lQ2FwIjogInJvdW5kIiwgImxpbmVKb2luIjogInJvdW5kIiwgIm9wYWNpdHkiOiAxLjAsICJyYWRpdXMiOiAzLCAic3Ryb2tlIjogdHJ1ZSwgIndlaWdodCI6IDN9CiAgICAgICAgICAgICkuYWRkVG8obWFwXzRmZjA2NzUxODkxZDQ0ZDQ4MzlhMGI4MjdlMGQxNDBkKTsKICAgICAgICAKICAgIAogICAgICAgICAgICBjaXJjbGVfbWFya2VyX2Y0NjhkYWQzZmZlNTQ0MzU5YThhOGJjYmI1YzhkYTg0LmJpbmRUb29sdGlwKAogICAgICAgICAgICAgICAgYDxkaXY+CiAgICAgICAgICAgICAgICAgICAgIOydtOuUlOyVvOy7pO2UvCAtIOuMgOq1rOq0keyXreyLnCDrtoHqtawg7JiB7Iah66GcIDQKICAgICAgICAgICAgICAgICA8L2Rpdj5gLAogICAgICAgICAgICAgICAgeyJzdGlja3kiOiB0cnVlfQogICAgICAgICAgICApOwogICAgICAgIAogICAgCiAgICAgICAgICAgIHZhciBjaXJjbGVfbWFya2VyX2FmM2ZiMzliZWI0YzRmMTA4ZmZjZjEzNDFhMGQwM2IyID0gTC5jaXJjbGVNYXJrZXIoCiAgICAgICAgICAgICAgICBbMzUuODg0MDk3MzY5MjcwNCwgMTI4LjYwNjQyNjE5NDM5N10sCiAgICAgICAgICAgICAgICB7ImJ1YmJsaW5nTW91c2VFdmVudHMiOiB0cnVlLCAiY29sb3IiOiAiYmx1ZSIsICJkYXNoQXJyYXkiOiBudWxsLCAiZGFzaE9mZnNldCI6IG51bGwsICJmaWxsIjogZmFsc2UsICJmaWxsQ29sb3IiOiAiYmx1ZSIsICJmaWxsT3BhY2l0eSI6IDAuMiwgImZpbGxSdWxlIjogImV2ZW5vZGQiLCAibGluZUNhcCI6ICJyb3VuZCIsICJsaW5lSm9pbiI6ICJyb3VuZCIsICJvcGFjaXR5IjogMS4wLCAicmFkaXVzIjogMywgInN0cm9rZSI6IHRydWUsICJ3ZWlnaHQiOiAzfQogICAgICAgICAgICApLmFkZFRvKG1hcF80ZmYwNjc1MTg5MWQ0NGQ0ODM5YTBiODI3ZTBkMTQwZCk7CiAgICAgICAgCiAgICAKICAgICAgICAgICAgY2lyY2xlX21hcmtlcl9hZjNmYjM5YmViNGM0ZjEwOGZmY2YxMzQxYTBkMDNiMi5iaW5kVG9vbHRpcCgKICAgICAgICAgICAgICAgIGA8ZGl2PgogICAgICAgICAgICAgICAgICAgICDsnbTrlJTslbzsu6TtlLwgLSDrjIDqtazqtJHsl63si5wg67aB6rWsIOuMgO2YhOuhnCA2MS0xCiAgICAgICAgICAgICAgICAgPC9kaXY+YCwKICAgICAgICAgICAgICAgIHsic3RpY2t5IjogdHJ1ZX0KICAgICAgICAgICAgKTsKICAgICAgICAKICAgIAogICAgICAgICAgICB2YXIgY2lyY2xlX21hcmtlcl9mNmYyMzdmYzEwMjU0ODc0YTUyODI0YjE0NjhkNzIzMiA9IEwuY2lyY2xlTWFya2VyKAogICAgICAgICAgICAgICAgWzM1Ljc4MDk5MTc5MjcyNTksIDEyOC40NDE1Njk2MDQyNDRdLAogICAgICAgICAgICAgICAgeyJidWJibGluZ01vdXNlRXZlbnRzIjogdHJ1ZSwgImNvbG9yIjogImJsdWUiLCAiZGFzaEFycmF5IjogbnVsbCwgImRhc2hPZmZzZXQiOiBudWxsLCAiZmlsbCI6IGZhbHNlLCAiZmlsbENvbG9yIjogImJsdWUiLCAiZmlsbE9wYWNpdHkiOiAwLjIsICJmaWxsUnVsZSI6ICJldmVub2RkIiwgImxpbmVDYXAiOiAicm91bmQiLCAibGluZUpvaW4iOiAicm91bmQiLCAib3BhY2l0eSI6IDEuMCwgInJhZGl1cyI6IDMsICJzdHJva2UiOiB0cnVlLCAid2VpZ2h0IjogM30KICAgICAgICAgICAgKS5hZGRUbyhtYXBfNGZmMDY3NTE4OTFkNDRkNDgzOWEwYjgyN2UwZDE0MGQpOwogICAgICAgIAogICAgCiAgICAgICAgICAgIGNpcmNsZV9tYXJrZXJfZjZmMjM3ZmMxMDI1NDg3NGE1MjgyNGIxNDY4ZDcyMzIuYmluZFRvb2x0aXAoCiAgICAgICAgICAgICAgICBgPGRpdj4KICAgICAgICAgICAgICAgICAgICAg7J2065SU7JW87Luk7ZS8IC0g64yA6rWs6rSR7Jet7IucIOuLrOyEseq1sCDsmKXtj6zrqbQg64+M66+466GcIDczCiAgICAgICAgICAgICAgICAgPC9kaXY+YCwKICAgICAgICAgICAgICAgIHsic3RpY2t5IjogdHJ1ZX0KICAgICAgICAgICAgKTsKICAgICAgICAKICAgIAogICAgICAgICAgICB2YXIgY2lyY2xlX21hcmtlcl83ODI5ZmRkYzg1Yjc0ZGExOTBhNjVlNTUwMDg4NzE0OCA9IEwuY2lyY2xlTWFya2VyKAogICAgICAgICAgICAgICAgWzM1LjgyNDI3NzcyMTY3MTcwNiwgMTI4LjUyNTc4ODI1MTg3Ml0sCiAgICAgICAgICAgICAgICB7ImJ1YmJsaW5nTW91c2VFdmVudHMiOiB0cnVlLCAiY29sb3IiOiAiZ3JlZW4iLCAiZGFzaEFycmF5IjogbnVsbCwgImRhc2hPZmZzZXQiOiBudWxsLCAiZmlsbCI6IGZhbHNlLCAiZmlsbENvbG9yIjogImdyZWVuIiwgImZpbGxPcGFjaXR5IjogMC4yLCAiZmlsbFJ1bGUiOiAiZXZlbm9kZCIsICJsaW5lQ2FwIjogInJvdW5kIiwgImxpbmVKb2luIjogInJvdW5kIiwgIm9wYWNpdHkiOiAxLjAsICJyYWRpdXMiOiAzLCAic3Ryb2tlIjogdHJ1ZSwgIndlaWdodCI6IDN9CiAgICAgICAgICAgICkuYWRkVG8obWFwXzRmZjA2NzUxODkxZDQ0ZDQ4MzlhMGI4MjdlMGQxNDBkKTsKICAgICAgICAKICAgIAogICAgICAgICAgICBjaXJjbGVfbWFya2VyXzc4MjlmZGRjODViNzRkYTE5MGE2NWU1NTAwODg3MTQ4LmJpbmRUb29sdGlwKAogICAgICAgICAgICAgICAgYDxkaXY+CiAgICAgICAgICAgICAgICAgICAgIOyKpO2DgOuyheyKpOuMgOq1rOyblOyEseygkCAtIOuMgOq1rOq0keyXreyLnCDri6zshJzqtawg7KGw7JWU66GcIDQxCiAgICAgICAgICAgICAgICAgPC9kaXY+YCwKICAgICAgICAgICAgICAgIHsic3RpY2t5IjogdHJ1ZX0KICAgICAgICAgICAgKTsKICAgICAgICAKICAgIAogICAgICAgICAgICB2YXIgY2lyY2xlX21hcmtlcl81ODJkNjFkMDI5OTk0N2M4ODcyMDUzOThiZDBmNjA2ZiA9IEwuY2lyY2xlTWFya2VyKAogICAgICAgICAgICAgICAgWzM1LjgyMjc0MzM2MjI5OTc5NiwgMTI4LjUzMjQwNzMzMjYwOF0sCiAgICAgICAgICAgICAgICB7ImJ1YmJsaW5nTW91c2VFdmVudHMiOiB0cnVlLCAiY29sb3IiOiAiYmx1ZSIsICJkYXNoQXJyYXkiOiBudWxsLCAiZGFzaE9mZnNldCI6IG51bGwsICJmaWxsIjogZmFsc2UsICJmaWxsQ29sb3IiOiAiYmx1ZSIsICJmaWxsT3BhY2l0eSI6IDAuMiwgImZpbGxSdWxlIjogImV2ZW5vZGQiLCAibGluZUNhcCI6ICJyb3VuZCIsICJsaW5lSm9pbiI6ICJyb3VuZCIsICJvcGFjaXR5IjogMS4wLCAicmFkaXVzIjogMywgInN0cm9rZSI6IHRydWUsICJ3ZWlnaHQiOiAzfQogICAgICAgICAgICApLmFkZFRvKG1hcF80ZmYwNjc1MTg5MWQ0NGQ0ODM5YTBiODI3ZTBkMTQwZCk7CiAgICAgICAgCiAgICAKICAgICAgICAgICAgY2lyY2xlX21hcmtlcl81ODJkNjFkMDI5OTk0N2M4ODcyMDUzOThiZDBmNjA2Zi5iaW5kVG9vbHRpcCgKICAgICAgICAgICAgICAgIGA8ZGl2PgogICAgICAgICAgICAgICAgICAgICDsnbTrlJTslbzsu6TtlLwgLSDrjIDqtazqtJHsl63si5wg64us7ISc6rWsIOyhsOyVlOuCqOuhnCAzCiAgICAgICAgICAgICAgICAgPC9kaXY+YCwKICAgICAgICAgICAgICAgIHsic3RpY2t5IjogdHJ1ZX0KICAgICAgICAgICAgKTsKICAgICAgICAKICAgIAogICAgICAgICAgICB2YXIgY2lyY2xlX21hcmtlcl84YjE4YTE3MjVjMmU0MzA3YmNjYTdkMGFjNmJhODYzNSA9IEwuY2lyY2xlTWFya2VyKAogICAgICAgICAgICAgICAgWzM1LjgxNjM0Njk5NTgzNDQsIDEyOC41MjU1NTg5MDA0MzldLAogICAgICAgICAgICAgICAgeyJidWJibGluZ01vdXNlRXZlbnRzIjogdHJ1ZSwgImNvbG9yIjogImJsdWUiLCAiZGFzaEFycmF5IjogbnVsbCwgImRhc2hPZmZzZXQiOiBudWxsLCAiZmlsbCI6IGZhbHNlLCAiZmlsbENvbG9yIjogImJsdWUiLCAiZmlsbE9wYWNpdHkiOiAwLjIsICJmaWxsUnVsZSI6ICJldmVub2RkIiwgImxpbmVDYXAiOiAicm91bmQiLCAibGluZUpvaW4iOiAicm91bmQiLCAib3BhY2l0eSI6IDEuMCwgInJhZGl1cyI6IDMsICJzdHJva2UiOiB0cnVlLCAid2VpZ2h0IjogM30KICAgICAgICAgICAgKS5hZGRUbyhtYXBfNGZmMDY3NTE4OTFkNDRkNDgzOWEwYjgyN2UwZDE0MGQpOwogICAgICAgIAogICAgCiAgICAgICAgICAgIGNpcmNsZV9tYXJrZXJfOGIxOGExNzI1YzJlNDMwN2JjY2E3ZDBhYzZiYTg2MzUuYmluZFRvb2x0aXAoCiAgICAgICAgICAgICAgICBgPGRpdj4KICAgICAgICAgICAgICAgICAgICAg7J2065SU7JW87Luk7ZS8IC0g64yA6rWs6rSR7Jet7IucIOuLrOyEnOq1rCDsp4TsspzroZwxNuq4uCAzOQogICAgICAgICAgICAgICAgIDwvZGl2PmAsCiAgICAgICAgICAgICAgICB7InN0aWNreSI6IHRydWV9CiAgICAgICAgICAgICk7CiAgICAgICAgCiAgICAKICAgICAgICAgICAgdmFyIGNpcmNsZV9tYXJrZXJfOTFhN2E1ZjdjNjgxNGQ0M2IxODUzZTQwODk5NDJlZmEgPSBMLmNpcmNsZU1hcmtlcigKICAgICAgICAgICAgICAgIFszNS44NzkxODU3NzA1NDY0LCAxMjguNzMwOTkyMDg0MV0sCiAgICAgICAgICAgICAgICB7ImJ1YmJsaW5nTW91c2VFdmVudHMiOiB0cnVlLCAiY29sb3IiOiAiYmx1ZSIsICJkYXNoQXJyYXkiOiBudWxsLCAiZGFzaE9mZnNldCI6IG51bGwsICJmaWxsIjogZmFsc2UsICJmaWxsQ29sb3IiOiAiYmx1ZSIsICJmaWxsT3BhY2l0eSI6IDAuMiwgImZpbGxSdWxlIjogImV2ZW5vZGQiLCAibGluZUNhcCI6ICJyb3VuZCIsICJsaW5lSm9pbiI6ICJyb3VuZCIsICJvcGFjaXR5IjogMS4wLCAicmFkaXVzIjogMywgInN0cm9rZSI6IHRydWUsICJ3ZWlnaHQiOiAzfQogICAgICAgICAgICApLmFkZFRvKG1hcF80ZmYwNjc1MTg5MWQ0NGQ0ODM5YTBiODI3ZTBkMTQwZCk7CiAgICAgICAgCiAgICAKICAgICAgICAgICAgY2lyY2xlX21hcmtlcl85MWE3YTVmN2M2ODE0ZDQzYjE4NTNlNDA4OTk0MmVmYS5iaW5kVG9vbHRpcCgKICAgICAgICAgICAgICAgIGA8ZGl2PgogICAgICAgICAgICAgICAgICAgICDsnbTrlJTslbzsu6TtlLwgLSDrjIDqtazqtJHsl63si5wg64+Z6rWsIOyyqOuLqOuhnDjquLggNQogICAgICAgICAgICAgICAgIDwvZGl2PmAsCiAgICAgICAgICAgICAgICB7InN0aWNreSI6IHRydWV9CiAgICAgICAgICAgICk7CiAgICAgICAgCiAgICAKICAgICAgICAgICAgdmFyIGNpcmNsZV9tYXJrZXJfMjJhNmIyOTA5YzY1NDJhYWIwMjUzYTRkODBiNTRlMDcgPSBMLmNpcmNsZU1hcmtlcigKICAgICAgICAgICAgICAgIFszNS44NjY0Nzg1NjIzNTY0LCAxMjguNTg5NzI2NTE0MDU4XSwKICAgICAgICAgICAgICAgIHsiYnViYmxpbmdNb3VzZUV2ZW50cyI6IHRydWUsICJjb2xvciI6ICJncmVlbiIsICJkYXNoQXJyYXkiOiBudWxsLCAiZGFzaE9mZnNldCI6IG51bGwsICJmaWxsIjogZmFsc2UsICJmaWxsQ29sb3IiOiAiZ3JlZW4iLCAiZmlsbE9wYWNpdHkiOiAwLjIsICJmaWxsUnVsZSI6ICJldmVub2RkIiwgImxpbmVDYXAiOiAicm91bmQiLCAibGluZUpvaW4iOiAicm91bmQiLCAib3BhY2l0eSI6IDEuMCwgInJhZGl1cyI6IDMsICJzdHJva2UiOiB0cnVlLCAid2VpZ2h0IjogM30KICAgICAgICAgICAgKS5hZGRUbyhtYXBfNGZmMDY3NTE4OTFkNDRkNDgzOWEwYjgyN2UwZDE0MGQpOwogICAgICAgIAogICAgCiAgICAgICAgICAgIGNpcmNsZV9tYXJrZXJfMjJhNmIyOTA5YzY1NDJhYWIwMjUzYTRkODBiNTRlMDcuYmluZFRvb2x0aXAoCiAgICAgICAgICAgICAgICBgPGRpdj4KICAgICAgICAgICAgICAgICAgICAg7Iqk7YOA67KF7IqkIC0g64yA6rWs6rSR7Jet7IucIOykkeq1rCDri6zqtazrsozrjIDroZw0MTXquLggMQogICAgICAgICAgICAgICAgIDwvZGl2PmAsCiAgICAgICAgICAgICAgICB7InN0aWNreSI6IHRydWV9CiAgICAgICAgICAgICk7CiAgICAgICAgCiAgICAKICAgICAgICAgICAgdmFyIGNpcmNsZV9tYXJrZXJfNjZhODFhNDRmM2ZjNDY0OTlhMmJkZTFmYmI4OTQ2YjkgPSBMLmNpcmNsZU1hcmtlcigKICAgICAgICAgICAgICAgIFszNS44NTQzNDExNTQ2MjI1LCAxMjguNTEyMzI0NDI1Mzc2XSwKICAgICAgICAgICAgICAgIHsiYnViYmxpbmdNb3VzZUV2ZW50cyI6IHRydWUsICJjb2xvciI6ICJibHVlIiwgImRhc2hBcnJheSI6IG51bGwsICJkYXNoT2Zmc2V0IjogbnVsbCwgImZpbGwiOiBmYWxzZSwgImZpbGxDb2xvciI6ICJibHVlIiwgImZpbGxPcGFjaXR5IjogMC4yLCAiZmlsbFJ1bGUiOiAiZXZlbm9kZCIsICJsaW5lQ2FwIjogInJvdW5kIiwgImxpbmVKb2luIjogInJvdW5kIiwgIm9wYWNpdHkiOiAxLjAsICJyYWRpdXMiOiAzLCAic3Ryb2tlIjogdHJ1ZSwgIndlaWdodCI6IDN9CiAgICAgICAgICAgICkuYWRkVG8obWFwXzRmZjA2NzUxODkxZDQ0ZDQ4MzlhMGI4MjdlMGQxNDBkKTsKICAgICAgICAKICAgIAogICAgICAgICAgICBjaXJjbGVfbWFya2VyXzY2YTgxYTQ0ZjNmYzQ2NDk5YTJiZGUxZmJiODk0NmI5LmJpbmRUb29sdGlwKAogICAgICAgICAgICAgICAgYDxkaXY+CiAgICAgICAgICAgICAgICAgICAgIOydtOuUlOyVvOy7pO2UvCAtIOuMgOq1rOq0keyXreyLnCDri6zshJzqtawg7J206rOh64+Z66GcIDU1CiAgICAgICAgICAgICAgICAgPC9kaXY+YCwKICAgICAgICAgICAgICAgIHsic3RpY2t5IjogdHJ1ZX0KICAgICAgICAgICAgKTsKICAgICAgICAKICAgIAogICAgICAgICAgICB2YXIgY2lyY2xlX21hcmtlcl9jNTkxMzhiZTY2ZmI0OTQyOTFkZTg0NjhhODk2Yjk3YSA9IEwuY2lyY2xlTWFya2VyKAogICAgICAgICAgICAgICAgWzM1LjY5MzI1MzE4ODY5NDgsIDEyOC40NjExNTA5MDA4MjhdLAogICAgICAgICAgICAgICAgeyJidWJibGluZ01vdXNlRXZlbnRzIjogdHJ1ZSwgImNvbG9yIjogImJsdWUiLCAiZGFzaEFycmF5IjogbnVsbCwgImRhc2hPZmZzZXQiOiBudWxsLCAiZmlsbCI6IGZhbHNlLCAiZmlsbENvbG9yIjogImJsdWUiLCAiZmlsbE9wYWNpdHkiOiAwLjIsICJmaWxsUnVsZSI6ICJldmVub2RkIiwgImxpbmVDYXAiOiAicm91bmQiLCAibGluZUpvaW4iOiAicm91bmQiLCAib3BhY2l0eSI6IDEuMCwgInJhZGl1cyI6IDMsICJzdHJva2UiOiB0cnVlLCAid2VpZ2h0IjogM30KICAgICAgICAgICAgKS5hZGRUbyhtYXBfNGZmMDY3NTE4OTFkNDRkNDgzOWEwYjgyN2UwZDE0MGQpOwogICAgICAgIAogICAgCiAgICAgICAgICAgIGNpcmNsZV9tYXJrZXJfYzU5MTM4YmU2NmZiNDk0MjkxZGU4NDY4YTg5NmI5N2EuYmluZFRvb2x0aXAoCiAgICAgICAgICAgICAgICBgPGRpdj4KICAgICAgICAgICAgICAgICAgICAg7J2065SU7JW87Luk7ZS8IC0g64yA6rWs6rSR7Jet7IucIOuLrOyEseq1sCDsnKDqsIDrqbQg7YWM7YGs64W47IOB7JeF66GcIDEwOAogICAgICAgICAgICAgICAgIDwvZGl2PmAsCiAgICAgICAgICAgICAgICB7InN0aWNreSI6IHRydWV9CiAgICAgICAgICAgICk7CiAgICAgICAgCiAgICAKICAgICAgICAgICAgdmFyIGNpcmNsZV9tYXJrZXJfYWMzOWM5MGEzN2MxNDk1MDhjYWQzZDQ4OTEyNGY5OWIgPSBMLmNpcmNsZU1hcmtlcigKICAgICAgICAgICAgICAgIFszNS44Nzg2MjIxMjYzNjU5LCAxMjguNzEzODA5OTY5NTk0XSwKICAgICAgICAgICAgICAgIHsiYnViYmxpbmdNb3VzZUV2ZW50cyI6IHRydWUsICJjb2xvciI6ICJibHVlIiwgImRhc2hBcnJheSI6IG51bGwsICJkYXNoT2Zmc2V0IjogbnVsbCwgImZpbGwiOiBmYWxzZSwgImZpbGxDb2xvciI6ICJibHVlIiwgImZpbGxPcGFjaXR5IjogMC4yLCAiZmlsbFJ1bGUiOiAiZXZlbm9kZCIsICJsaW5lQ2FwIjogInJvdW5kIiwgImxpbmVKb2luIjogInJvdW5kIiwgIm9wYWNpdHkiOiAxLjAsICJyYWRpdXMiOiAzLCAic3Ryb2tlIjogdHJ1ZSwgIndlaWdodCI6IDN9CiAgICAgICAgICAgICkuYWRkVG8obWFwXzRmZjA2NzUxODkxZDQ0ZDQ4MzlhMGI4MjdlMGQxNDBkKTsKICAgICAgICAKICAgIAogICAgICAgICAgICBjaXJjbGVfbWFya2VyX2FjMzljOTBhMzdjMTQ5NTA4Y2FkM2Q0ODkxMjRmOTliLmJpbmRUb29sdGlwKAogICAgICAgICAgICAgICAgYDxkaXY+CiAgICAgICAgICAgICAgICAgICAgIOydtOuUlOyVvOy7pO2UvCAtIOuMgOq1rOq0keyXreyLnCDrj5nqtawg6rK97JWI66GcIDg1NQogICAgICAgICAgICAgICAgIDwvZGl2PmAsCiAgICAgICAgICAgICAgICB7InN0aWNreSI6IHRydWV9CiAgICAgICAgICAgICk7CiAgICAgICAgCiAgICAKICAgICAgICAgICAgdmFyIGNpcmNsZV9tYXJrZXJfY2Q3ZWQ0MjcyNjY5NDgzN2JiY2QxMTlmOGUzZjNhN2YgPSBMLmNpcmNsZU1hcmtlcigKICAgICAgICAgICAgICAgIFszNS44NzA2OTE5MjI1NzEyMDQsIDEyOC41OTQzNjQ0MDYxNjAwM10sCiAgICAgICAgICAgICAgICB7ImJ1YmJsaW5nTW91c2VFdmVudHMiOiB0cnVlLCAiY29sb3IiOiAiZ3JlZW4iLCAiZGFzaEFycmF5IjogbnVsbCwgImRhc2hPZmZzZXQiOiBudWxsLCAiZmlsbCI6IGZhbHNlLCAiZmlsbENvbG9yIjogImdyZWVuIiwgImZpbGxPcGFjaXR5IjogMC4yLCAiZmlsbFJ1bGUiOiAiZXZlbm9kZCIsICJsaW5lQ2FwIjogInJvdW5kIiwgImxpbmVKb2luIjogInJvdW5kIiwgIm9wYWNpdHkiOiAxLjAsICJyYWRpdXMiOiAzLCAic3Ryb2tlIjogdHJ1ZSwgIndlaWdodCI6IDN9CiAgICAgICAgICAgICkuYWRkVG8obWFwXzRmZjA2NzUxODkxZDQ0ZDQ4MzlhMGI4MjdlMGQxNDBkKTsKICAgICAgICAKICAgIAogICAgICAgICAgICBjaXJjbGVfbWFya2VyX2NkN2VkNDI3MjY2OTQ4MzdiYmNkMTE5ZjhlM2YzYTdmLmJpbmRUb29sdGlwKAogICAgICAgICAgICAgICAgYDxkaXY+CiAgICAgICAgICAgICAgICAgICAgIOyKpO2DgOuyheyKpCAtIOuMgOq1rOq0keyXreyLnCDspJHqtawg6rWt7LGE67O07IOB66GcIDU4MgogICAgICAgICAgICAgICAgIDwvZGl2PmAsCiAgICAgICAgICAgICAgICB7InN0aWNreSI6IHRydWV9CiAgICAgICAgICAgICk7CiAgICAgICAgCiAgICAKICAgICAgICAgICAgdmFyIGNpcmNsZV9tYXJrZXJfNzcyNzUxMTEwNWQ5NDE5MGExMjJhZTYyMDJiYWY0NTAgPSBMLmNpcmNsZU1hcmtlcigKICAgICAgICAgICAgICAgIFszNS44NDA5MjE4OTQ5NjIxLCAxMjguNjEzOTQ1NzQ4MDExXSwKICAgICAgICAgICAgICAgIHsiYnViYmxpbmdNb3VzZUV2ZW50cyI6IHRydWUsICJjb2xvciI6ICJncmVlbiIsICJkYXNoQXJyYXkiOiBudWxsLCAiZGFzaE9mZnNldCI6IG51bGwsICJmaWxsIjogZmFsc2UsICJmaWxsQ29sb3IiOiAiZ3JlZW4iLCAiZmlsbE9wYWNpdHkiOiAwLjIsICJmaWxsUnVsZSI6ICJldmVub2RkIiwgImxpbmVDYXAiOiAicm91bmQiLCAibGluZUpvaW4iOiAicm91bmQiLCAib3BhY2l0eSI6IDEuMCwgInJhZGl1cyI6IDMsICJzdHJva2UiOiB0cnVlLCAid2VpZ2h0IjogM30KICAgICAgICAgICAgKS5hZGRUbyhtYXBfNGZmMDY3NTE4OTFkNDRkNDgzOWEwYjgyN2UwZDE0MGQpOwogICAgICAgIAogICAgCiAgICAgICAgICAgIGNpcmNsZV9tYXJrZXJfNzcyNzUxMTEwNWQ5NDE5MGExMjJhZTYyMDJiYWY0NTAuYmluZFRvb2x0aXAoCiAgICAgICAgICAgICAgICBgPGRpdj4KICAgICAgICAgICAgICAgICAgICAg7Iqk7YOA67KF7IqkIC0g64yA6rWs6rSR7Jet7IucIOyImOyEseq1rCDssq3siJjroZwgNTEKICAgICAgICAgICAgICAgICA8L2Rpdj5gLAogICAgICAgICAgICAgICAgeyJzdGlja3kiOiB0cnVlfQogICAgICAgICAgICApOwogICAgICAgIAogICAgCiAgICAgICAgICAgIHZhciBjaXJjbGVfbWFya2VyXzQ2OWIxZWQ1NzVmZDRiNjI5MmM2OTc4NGFhOWQ1YjI4ID0gTC5jaXJjbGVNYXJrZXIoCiAgICAgICAgICAgICAgICBbMzUuODA3NzM3ODE3NzI4NzEsIDEyOC41NDgwODU4OTEzMjI5OF0sCiAgICAgICAgICAgICAgICB7ImJ1YmJsaW5nTW91c2VFdmVudHMiOiB0cnVlLCAiY29sb3IiOiAiZ3JlZW4iLCAiZGFzaEFycmF5IjogbnVsbCwgImRhc2hPZmZzZXQiOiBudWxsLCAiZmlsbCI6IGZhbHNlLCAiZmlsbENvbG9yIjogImdyZWVuIiwgImZpbGxPcGFjaXR5IjogMC4yLCAiZmlsbFJ1bGUiOiAiZXZlbm9kZCIsICJsaW5lQ2FwIjogInJvdW5kIiwgImxpbmVKb2luIjogInJvdW5kIiwgIm9wYWNpdHkiOiAxLjAsICJyYWRpdXMiOiAzLCAic3Ryb2tlIjogdHJ1ZSwgIndlaWdodCI6IDN9CiAgICAgICAgICAgICkuYWRkVG8obWFwXzRmZjA2NzUxODkxZDQ0ZDQ4MzlhMGI4MjdlMGQxNDBkKTsKICAgICAgICAKICAgIAogICAgICAgICAgICBjaXJjbGVfbWFya2VyXzQ2OWIxZWQ1NzVmZDRiNjI5MmM2OTc4NGFhOWQ1YjI4LmJpbmRUb29sdGlwKAogICAgICAgICAgICAgICAgYDxkaXY+CiAgICAgICAgICAgICAgICAgICAgIOyKpO2DgOuyheyKpOuMgOq1rOuPhOybkOygkERU7KCQIC0g64yA6rWs6rSR7Jet7IucIOuLrOyEnOq1rCDsg4HtmZTroZwgMzE0CiAgICAgICAgICAgICAgICAgPC9kaXY+YCwKICAgICAgICAgICAgICAgIHsic3RpY2t5IjogdHJ1ZX0KICAgICAgICAgICAgKTsKICAgICAgICAKICAgIAogICAgICAgICAgICB2YXIgY2lyY2xlX21hcmtlcl9mMjg3NWI2Y2QzYTI0NGM0YmZmMDg2M2Q1ZDQ5YTRmZiA9IEwuY2lyY2xlTWFya2VyKAogICAgICAgICAgICAgICAgWzM1LjkwNTYyMTk2MDQxODgsIDEyOC42MTMzMDM5OTI5MDhdLAogICAgICAgICAgICAgICAgeyJidWJibGluZ01vdXNlRXZlbnRzIjogdHJ1ZSwgImNvbG9yIjogImdyZWVuIiwgImRhc2hBcnJheSI6IG51bGwsICJkYXNoT2Zmc2V0IjogbnVsbCwgImZpbGwiOiBmYWxzZSwgImZpbGxDb2xvciI6ICJncmVlbiIsICJmaWxsT3BhY2l0eSI6IDAuMiwgImZpbGxSdWxlIjogImV2ZW5vZGQiLCAibGluZUNhcCI6ICJyb3VuZCIsICJsaW5lSm9pbiI6ICJyb3VuZCIsICJvcGFjaXR5IjogMS4wLCAicmFkaXVzIjogMywgInN0cm9rZSI6IHRydWUsICJ3ZWlnaHQiOiAzfQogICAgICAgICAgICApLmFkZFRvKG1hcF80ZmYwNjc1MTg5MWQ0NGQ0ODM5YTBiODI3ZTBkMTQwZCk7CiAgICAgICAgCiAgICAKICAgICAgICAgICAgY2lyY2xlX21hcmtlcl9mMjg3NWI2Y2QzYTI0NGM0YmZmMDg2M2Q1ZDQ5YTRmZi5iaW5kVG9vbHRpcCgKICAgICAgICAgICAgICAgIGA8ZGl2PgogICAgICAgICAgICAgICAgICAgICDsiqTtg4DrsoXsiqTrjIDqtazsnKDthrXri6jsp4DsoJAgLSDrjIDqtazqtJHsl63si5wg67aB6rWsIOycoO2GteuLqOyngOuhnDjquLggNzgKICAgICAgICAgICAgICAgICA8L2Rpdj5gLAogICAgICAgICAgICAgICAgeyJzdGlja3kiOiB0cnVlfQogICAgICAgICAgICApOwogICAgICAgIAogICAgCiAgICAgICAgICAgIHZhciBjaXJjbGVfbWFya2VyX2Y4ZWVkMjRkZThlMTQ3Y2FhNDBmOTY2NzAyYjAxNWY1ID0gTC5jaXJjbGVNYXJrZXIoCiAgICAgICAgICAgICAgICBbMzUuODYwNDc3NjY4NjMxNywgMTI4LjYxODAzODI0NTMwMl0sCiAgICAgICAgICAgICAgICB7ImJ1YmJsaW5nTW91c2VFdmVudHMiOiB0cnVlLCAiY29sb3IiOiAiZ3JlZW4iLCAiZGFzaEFycmF5IjogbnVsbCwgImRhc2hPZmZzZXQiOiBudWxsLCAiZmlsbCI6IGZhbHNlLCAiZmlsbENvbG9yIjogImdyZWVuIiwgImZpbGxPcGFjaXR5IjogMC4yLCAiZmlsbFJ1bGUiOiAiZXZlbm9kZCIsICJsaW5lQ2FwIjogInJvdW5kIiwgImxpbmVKb2luIjogInJvdW5kIiwgIm9wYWNpdHkiOiAxLjAsICJyYWRpdXMiOiAzLCAic3Ryb2tlIjogdHJ1ZSwgIndlaWdodCI6IDN9CiAgICAgICAgICAgICkuYWRkVG8obWFwXzRmZjA2NzUxODkxZDQ0ZDQ4MzlhMGI4MjdlMGQxNDBkKTsKICAgICAgICAKICAgIAogICAgICAgICAgICBjaXJjbGVfbWFya2VyX2Y4ZWVkMjRkZThlMTQ3Y2FhNDBmOTY2NzAyYjAxNWY1LmJpbmRUb29sdGlwKAogICAgICAgICAgICAgICAgYDxkaXY+CiAgICAgICAgICAgICAgICAgICAgIOyKpO2DgOuyheyKpOuMgOq1rOyImOyEseuEpOqxsOumrERU7KCQIC0g64yA6rWs6rSR7Jet7IucIOyImOyEseq1rCDrk6TslYjroZwgMzQyCiAgICAgICAgICAgICAgICAgPC9kaXY+YCwKICAgICAgICAgICAgICAgIHsic3RpY2t5IjogdHJ1ZX0KICAgICAgICAgICAgKTsKICAgICAgICAKICAgIAogICAgICAgICAgICB2YXIgY2lyY2xlX21hcmtlcl8wOTQ2NzBjNTA2Zjc0NmZjYTAwMDUzMDJiMjhjZjVjMCA9IEwuY2lyY2xlTWFya2VyKAogICAgICAgICAgICAgICAgWzM1Ljg2NTk0ODI0ODk1MjUsIDEyOC41NTUzNzM4NjMzNTJdLAogICAgICAgICAgICAgICAgeyJidWJibGluZ01vdXNlRXZlbnRzIjogdHJ1ZSwgImNvbG9yIjogImdyZWVuIiwgImRhc2hBcnJheSI6IG51bGwsICJkYXNoT2Zmc2V0IjogbnVsbCwgImZpbGwiOiBmYWxzZSwgImZpbGxDb2xvciI6ICJncmVlbiIsICJmaWxsT3BhY2l0eSI6IDAuMiwgImZpbGxSdWxlIjogImV2ZW5vZGQiLCAibGluZUNhcCI6ICJyb3VuZCIsICJsaW5lSm9pbiI6ICJyb3VuZCIsICJvcGFjaXR5IjogMS4wLCAicmFkaXVzIjogMywgInN0cm9rZSI6IHRydWUsICJ3ZWlnaHQiOiAzfQogICAgICAgICAgICApLmFkZFRvKG1hcF80ZmYwNjc1MTg5MWQ0NGQ0ODM5YTBiODI3ZTBkMTQwZCk7CiAgICAgICAgCiAgICAKICAgICAgICAgICAgY2lyY2xlX21hcmtlcl8wOTQ2NzBjNTA2Zjc0NmZjYTAwMDUzMDJiMjhjZjVjMC5iaW5kVG9vbHRpcCgKICAgICAgICAgICAgICAgIGA8ZGl2PgogICAgICAgICAgICAgICAgICAgICDsiqTtg4DrsoXsiqTrjIDqtaztj4nrpqxEVOygkCAtIOuMgOq1rOq0keyXreyLnCDshJzqtawg7ISc64yA6rWs66GcIDg5CiAgICAgICAgICAgICAgICAgPC9kaXY+YCwKICAgICAgICAgICAgICAgIHsic3RpY2t5IjogdHJ1ZX0KICAgICAgICAgICAgKTsKICAgICAgICAKICAgIAogICAgICAgICAgICB2YXIgY2lyY2xlX21hcmtlcl9jMTUxNWM5NDljMWY0YTg3OWQ0ZTlmZThmN2MxNmFmNiA9IEwuY2lyY2xlTWFya2VyKAogICAgICAgICAgICAgICAgWzM1LjgxNDM0MjE1MzU5MTksIDEyOC41MjQzODM3NjQ2MjldLAogICAgICAgICAgICAgICAgeyJidWJibGluZ01vdXNlRXZlbnRzIjogdHJ1ZSwgImNvbG9yIjogImdyZWVuIiwgImRhc2hBcnJheSI6IG51bGwsICJkYXNoT2Zmc2V0IjogbnVsbCwgImZpbGwiOiBmYWxzZSwgImZpbGxDb2xvciI6ICJncmVlbiIsICJmaWxsT3BhY2l0eSI6IDAuMiwgImZpbGxSdWxlIjogImV2ZW5vZGQiLCAibGluZUNhcCI6ICJyb3VuZCIsICJsaW5lSm9pbiI6ICJyb3VuZCIsICJvcGFjaXR5IjogMS4wLCAicmFkaXVzIjogMywgInN0cm9rZSI6IHRydWUsICJ3ZWlnaHQiOiAzfQogICAgICAgICAgICApLmFkZFRvKG1hcF80ZmYwNjc1MTg5MWQ0NGQ0ODM5YTBiODI3ZTBkMTQwZCk7CiAgICAgICAgCiAgICAKICAgICAgICAgICAgY2lyY2xlX21hcmtlcl9jMTUxNWM5NDljMWY0YTg3OWQ0ZTlmZThmN2MxNmFmNi5iaW5kVG9vbHRpcCgKICAgICAgICAgICAgICAgIGA8ZGl2PgogICAgICAgICAgICAgICAgICAgICDsiqTtg4DrsoXsiqQgLSDrjIDqtazqtJHsl63si5wg64us7ISc6rWsIOyblOuwsOuhnCA5MQogICAgICAgICAgICAgICAgIDwvZGl2PmAsCiAgICAgICAgICAgICAgICB7InN0aWNreSI6IHRydWV9CiAgICAgICAgICAgICk7CiAgICAgICAgCiAgICAKICAgICAgICAgICAgdmFyIGNpcmNsZV9tYXJrZXJfZjhjNWE1YjIxMjU4NDA5NTljMWFhMmY4NDJmZjg5Y2UgPSBMLmNpcmNsZU1hcmtlcigKICAgICAgICAgICAgICAgIFszNS44Mjg3ODY5MTgzMDE4OTQsIDEyOC41NDk0MDM3ODMwNzM5OF0sCiAgICAgICAgICAgICAgICB7ImJ1YmJsaW5nTW91c2VFdmVudHMiOiB0cnVlLCAiY29sb3IiOiAiYmx1ZSIsICJkYXNoQXJyYXkiOiBudWxsLCAiZGFzaE9mZnNldCI6IG51bGwsICJmaWxsIjogZmFsc2UsICJmaWxsQ29sb3IiOiAiYmx1ZSIsICJmaWxsT3BhY2l0eSI6IDAuMiwgImZpbGxSdWxlIjogImV2ZW5vZGQiLCAibGluZUNhcCI6ICJyb3VuZCIsICJsaW5lSm9pbiI6ICJyb3VuZCIsICJvcGFjaXR5IjogMS4wLCAicmFkaXVzIjogMywgInN0cm9rZSI6IHRydWUsICJ3ZWlnaHQiOiAzfQogICAgICAgICAgICApLmFkZFRvKG1hcF80ZmYwNjc1MTg5MWQ0NGQ0ODM5YTBiODI3ZTBkMTQwZCk7CiAgICAgICAgCiAgICAKICAgICAgICAgICAgY2lyY2xlX21hcmtlcl9mOGM1YTViMjEyNTg0MDk1OWMxYWEyZjg0MmZmODljZS5iaW5kVG9vbHRpcCgKICAgICAgICAgICAgICAgIGA8ZGl2PgogICAgICAgICAgICAgICAgICAgICDsnbTrlJTslbzsu6TtlLzrjIDqtazshqHtmITsoJAgLSDrjIDqtazqtJHsl63si5wg64us7ISc6rWsIOyblOuwsOuhnCAzNzkKICAgICAgICAgICAgICAgICA8L2Rpdj5gLAogICAgICAgICAgICAgICAgeyJzdGlja3kiOiB0cnVlfQogICAgICAgICAgICApOwogICAgICAgIAogICAgCiAgICAgICAgICAgIHZhciBjaXJjbGVfbWFya2VyXzE0MTIxOWZiNDZiNjRjMTk5ZmQ2N2YwMDNiMmE3NzA3ID0gTC5jaXJjbGVNYXJrZXIoCiAgICAgICAgICAgICAgICBbMzUuNjkzMTcxMjA0Nzg5OSwgMTI4LjQ1OTAxNzkyOTc4XSwKICAgICAgICAgICAgICAgIHsiYnViYmxpbmdNb3VzZUV2ZW50cyI6IHRydWUsICJjb2xvciI6ICJncmVlbiIsICJkYXNoQXJyYXkiOiBudWxsLCAiZGFzaE9mZnNldCI6IG51bGwsICJmaWxsIjogZmFsc2UsICJmaWxsQ29sb3IiOiAiZ3JlZW4iLCAiZmlsbE9wYWNpdHkiOiAwLjIsICJmaWxsUnVsZSI6ICJldmVub2RkIiwgImxpbmVDYXAiOiAicm91bmQiLCAibGluZUpvaW4iOiAicm91bmQiLCAib3BhY2l0eSI6IDEuMCwgInJhZGl1cyI6IDMsICJzdHJva2UiOiB0cnVlLCAid2VpZ2h0IjogM30KICAgICAgICAgICAgKS5hZGRUbyhtYXBfNGZmMDY3NTE4OTFkNDRkNDgzOWEwYjgyN2UwZDE0MGQpOwogICAgICAgIAogICAgCiAgICAgICAgICAgIGNpcmNsZV9tYXJrZXJfMTQxMjE5ZmI0NmI2NGMxOTlmZDY3ZjAwM2IyYTc3MDcuYmluZFRvb2x0aXAoCiAgICAgICAgICAgICAgICBgPGRpdj4KICAgICAgICAgICAgICAgICAgICAg7Iqk7YOA67KF7Iqk64yA6rWs7YWM7YGs64W47Y+066as7Iqk7KCQIC0g64yA6rWs6rSR7Jet7IucIOuLrOyEseq1sCDsnKDqsIDrqbQg7YWM7YGs64W47IOB7JeF66GcIDg0CiAgICAgICAgICAgICAgICAgPC9kaXY+YCwKICAgICAgICAgICAgICAgIHsic3RpY2t5IjogdHJ1ZX0KICAgICAgICAgICAgKTsKICAgICAgICAKICAgIAogICAgICAgICAgICB2YXIgY2lyY2xlX21hcmtlcl9hYWU3NjQ4ZGI3ODI0NDY5YTZlNjc4ZjQ2NzU3NmJmMyA9IEwuY2lyY2xlTWFya2VyKAogICAgICAgICAgICAgICAgWzM1LjgxNDQ0MTQ0MjI2MSwgMTI4LjUyNDM1MTIxOTU1NV0sCiAgICAgICAgICAgICAgICB7ImJ1YmJsaW5nTW91c2VFdmVudHMiOiB0cnVlLCAiY29sb3IiOiAiZ3JlZW4iLCAiZGFzaEFycmF5IjogbnVsbCwgImRhc2hPZmZzZXQiOiBudWxsLCAiZmlsbCI6IGZhbHNlLCAiZmlsbENvbG9yIjogImdyZWVuIiwgImZpbGxPcGFjaXR5IjogMC4yLCAiZmlsbFJ1bGUiOiAiZXZlbm9kZCIsICJsaW5lQ2FwIjogInJvdW5kIiwgImxpbmVKb2luIjogInJvdW5kIiwgIm9wYWNpdHkiOiAxLjAsICJyYWRpdXMiOiAzLCAic3Ryb2tlIjogdHJ1ZSwgIndlaWdodCI6IDN9CiAgICAgICAgICAgICkuYWRkVG8obWFwXzRmZjA2NzUxODkxZDQ0ZDQ4MzlhMGI4MjdlMGQxNDBkKTsKICAgICAgICAKICAgIAogICAgICAgICAgICBjaXJjbGVfbWFya2VyX2FhZTc2NDhkYjc4MjQ0NjlhNmU2NzhmNDY3NTc2YmYzLmJpbmRUb29sdGlwKAogICAgICAgICAgICAgICAgYDxkaXY+CiAgICAgICAgICAgICAgICAgICAgIOyKpO2DgOuyheyKpCAtIOuMgOq1rOq0keyXreyLnCDri6zshJzqtawg7JuU67Cw66GcIDkxCiAgICAgICAgICAgICAgICAgPC9kaXY+YCwKICAgICAgICAgICAgICAgIHsic3RpY2t5IjogdHJ1ZX0KICAgICAgICAgICAgKTsKICAgICAgICAKICAgIAogICAgICAgICAgICB2YXIgY2lyY2xlX21hcmtlcl8yNGYzNDNhNDU2ZGM0NWIwOTFhNTJlOWQxYWVlZDdhMyA9IEwuY2lyY2xlTWFya2VyKAogICAgICAgICAgICAgICAgWzM1Ljg3OTg2NDkzMjU3NTUsIDEyOC41ODkzNzE2NDI5OTFdLAogICAgICAgICAgICAgICAgeyJidWJibGluZ01vdXNlRXZlbnRzIjogdHJ1ZSwgImNvbG9yIjogImJsdWUiLCAiZGFzaEFycmF5IjogbnVsbCwgImRhc2hPZmZzZXQiOiBudWxsLCAiZmlsbCI6IGZhbHNlLCAiZmlsbENvbG9yIjogImJsdWUiLCAiZmlsbE9wYWNpdHkiOiAwLjIsICJmaWxsUnVsZSI6ICJldmVub2RkIiwgImxpbmVDYXAiOiAicm91bmQiLCAibGluZUpvaW4iOiAicm91bmQiLCAib3BhY2l0eSI6IDEuMCwgInJhZGl1cyI6IDMsICJzdHJva2UiOiB0cnVlLCAid2VpZ2h0IjogM30KICAgICAgICAgICAgKS5hZGRUbyhtYXBfNGZmMDY3NTE4OTFkNDRkNDgzOWEwYjgyN2UwZDE0MGQpOwogICAgICAgIAogICAgCiAgICAgICAgICAgIGNpcmNsZV9tYXJrZXJfMjRmMzQzYTQ1NmRjNDViMDkxYTUyZTlkMWFlZWQ3YTMuYmluZFRvb2x0aXAoCiAgICAgICAgICAgICAgICBgPGRpdj4KICAgICAgICAgICAgICAgICAgICAg7J2065SU7JW87Luk7ZS8IC0g64yA6rWs6rSR7Jet7IucIOu2geq1rCDsuajsgrDroZwgMzgtMQogICAgICAgICAgICAgICAgIDwvZGl2PmAsCiAgICAgICAgICAgICAgICB7InN0aWNreSI6IHRydWV9CiAgICAgICAgICAgICk7CiAgICAgICAgCiAgICAKICAgICAgICAgICAgdmFyIGNpcmNsZV9tYXJrZXJfNDA0ODFmOWYxNDc1NDQxZDgxZTMwMzEwNjY3MzM3OGQgPSBMLmNpcmNsZU1hcmtlcigKICAgICAgICAgICAgICAgIFszNS44NzE4OTIxNTEyNTg2LCAxMjguNjA0OTA0NjQ3NTcyXSwKICAgICAgICAgICAgICAgIHsiYnViYmxpbmdNb3VzZUV2ZW50cyI6IHRydWUsICJjb2xvciI6ICJibHVlIiwgImRhc2hBcnJheSI6IG51bGwsICJkYXNoT2Zmc2V0IjogbnVsbCwgImZpbGwiOiBmYWxzZSwgImZpbGxDb2xvciI6ICJibHVlIiwgImZpbGxPcGFjaXR5IjogMC4yLCAiZmlsbFJ1bGUiOiAiZXZlbm9kZCIsICJsaW5lQ2FwIjogInJvdW5kIiwgImxpbmVKb2luIjogInJvdW5kIiwgIm9wYWNpdHkiOiAxLjAsICJyYWRpdXMiOiAzLCAic3Ryb2tlIjogdHJ1ZSwgIndlaWdodCI6IDN9CiAgICAgICAgICAgICkuYWRkVG8obWFwXzRmZjA2NzUxODkxZDQ0ZDQ4MzlhMGI4MjdlMGQxNDBkKTsKICAgICAgICAKICAgIAogICAgICAgICAgICBjaXJjbGVfbWFya2VyXzQwNDgxZjlmMTQ3NTQ0MWQ4MWUzMDMxMDY2NzMzNzhkLmJpbmRUb29sdGlwKAogICAgICAgICAgICAgICAgYDxkaXY+CiAgICAgICAgICAgICAgICAgICAgIOydtOuUlOyVvOy7pO2UvCAtIOuMgOq1rOq0keyXreyLnCDspJHqtawg64+Z642V66GcIDE5NAogICAgICAgICAgICAgICAgIDwvZGl2PmAsCiAgICAgICAgICAgICAgICB7InN0aWNreSI6IHRydWV9CiAgICAgICAgICAgICk7CiAgICAgICAgCiAgICAKICAgICAgICAgICAgdmFyIGNpcmNsZV9tYXJrZXJfZTVjMzU3MzBmMDJmNDU4NGEyMzE0ZTg1YjY5ZmFmZDIgPSBMLmNpcmNsZU1hcmtlcigKICAgICAgICAgICAgICAgIFszNS44Njg3NTczNzM2MjIxLCAxMjguNjA2MzMxNDQ2MzExXSwKICAgICAgICAgICAgICAgIHsiYnViYmxpbmdNb3VzZUV2ZW50cyI6IHRydWUsICJjb2xvciI6ICJibHVlIiwgImRhc2hBcnJheSI6IG51bGwsICJkYXNoT2Zmc2V0IjogbnVsbCwgImZpbGwiOiBmYWxzZSwgImZpbGxDb2xvciI6ICJibHVlIiwgImZpbGxPcGFjaXR5IjogMC4yLCAiZmlsbFJ1bGUiOiAiZXZlbm9kZCIsICJsaW5lQ2FwIjogInJvdW5kIiwgImxpbmVKb2luIjogInJvdW5kIiwgIm9wYWNpdHkiOiAxLjAsICJyYWRpdXMiOiAzLCAic3Ryb2tlIjogdHJ1ZSwgIndlaWdodCI6IDN9CiAgICAgICAgICAgICkuYWRkVG8obWFwXzRmZjA2NzUxODkxZDQ0ZDQ4MzlhMGI4MjdlMGQxNDBkKTsKICAgICAgICAKICAgIAogICAgICAgICAgICBjaXJjbGVfbWFya2VyX2U1YzM1NzMwZjAyZjQ1ODRhMjMxNGU4NWI2OWZhZmQyLmJpbmRUb29sdGlwKAogICAgICAgICAgICAgICAgYDxkaXY+CiAgICAgICAgICAgICAgICAgICAgIOydtOuUlOyVvOy7pO2UvCAtIOuMgOq1rOq0keyXreyLnCDspJHqtawg6rWt7LGE67O07IOB66GcIDY5NAogICAgICAgICAgICAgICAgIDwvZGl2PmAsCiAgICAgICAgICAgICAgICB7InN0aWNreSI6IHRydWV9CiAgICAgICAgICAgICk7CiAgICAgICAgCiAgICAKICAgICAgICAgICAgdmFyIGNpcmNsZV9tYXJrZXJfZDc4OGM4NjAyMjlkNDM3YjlkYTBmZjI0MjQzNGVjNjAgPSBMLmNpcmNsZU1hcmtlcigKICAgICAgICAgICAgICAgIFszNS44Nzc5NTAxNjE4NjEsIDEyOC42MjkyNDg2NTg2NTJdLAogICAgICAgICAgICAgICAgeyJidWJibGluZ01vdXNlRXZlbnRzIjogdHJ1ZSwgImNvbG9yIjogImdyZWVuIiwgImRhc2hBcnJheSI6IG51bGwsICJkYXNoT2Zmc2V0IjogbnVsbCwgImZpbGwiOiBmYWxzZSwgImZpbGxDb2xvciI6ICJncmVlbiIsICJmaWxsT3BhY2l0eSI6IDAuMiwgImZpbGxSdWxlIjogImV2ZW5vZGQiLCAibGluZUNhcCI6ICJyb3VuZCIsICJsaW5lSm9pbiI6ICJyb3VuZCIsICJvcGFjaXR5IjogMS4wLCAicmFkaXVzIjogMywgInN0cm9rZSI6IHRydWUsICJ3ZWlnaHQiOiAzfQogICAgICAgICAgICApLmFkZFRvKG1hcF80ZmYwNjc1MTg5MWQ0NGQ0ODM5YTBiODI3ZTBkMTQwZCk7CiAgICAgICAgCiAgICAKICAgICAgICAgICAgY2lyY2xlX21hcmtlcl9kNzg4Yzg2MDIyOWQ0MzdiOWRhMGZmMjQyNDM0ZWM2MC5iaW5kVG9vbHRpcCgKICAgICAgICAgICAgICAgIGA8ZGl2PgogICAgICAgICAgICAgICAgICAgICDsiqTtg4DrsoXsiqTsi6DshLjqs4TrsLHtmZTsoJDrjIDqtazsoJAgLSDrjIDqtazqtJHsl63si5wg64+Z6rWsIOuPmeu2gOuhnCAxNDkKICAgICAgICAgICAgICAgICA8L2Rpdj5gLAogICAgICAgICAgICAgICAgeyJzdGlja3kiOiB0cnVlfQogICAgICAgICAgICApOwogICAgICAgIAogICAgCiAgICAgICAgICAgIHZhciBjaXJjbGVfbWFya2VyX2ZiZWY3OGZjZDIxYzQ0MGQ5MDRiNjEzZTg1ZTkzZWU1ID0gTC5jaXJjbGVNYXJrZXIoCiAgICAgICAgICAgICAgICBbMzUuODQ3MzczNjgzOTYxNiwgMTI4LjYxMjUxMjAyNTMxOV0sCiAgICAgICAgICAgICAgICB7ImJ1YmJsaW5nTW91c2VFdmVudHMiOiB0cnVlLCAiY29sb3IiOiAiZ3JlZW4iLCAiZGFzaEFycmF5IjogbnVsbCwgImRhc2hPZmZzZXQiOiBudWxsLCAiZmlsbCI6IGZhbHNlLCAiZmlsbENvbG9yIjogImdyZWVuIiwgImZpbGxPcGFjaXR5IjogMC4yLCAiZmlsbFJ1bGUiOiAiZXZlbm9kZCIsICJsaW5lQ2FwIjogInJvdW5kIiwgImxpbmVKb2luIjogInJvdW5kIiwgIm9wYWNpdHkiOiAxLjAsICJyYWRpdXMiOiAzLCAic3Ryb2tlIjogdHJ1ZSwgIndlaWdodCI6IDN9CiAgICAgICAgICAgICkuYWRkVG8obWFwXzRmZjA2NzUxODkxZDQ0ZDQ4MzlhMGI4MjdlMGQxNDBkKTsKICAgICAgICAKICAgIAogICAgICAgICAgICBjaXJjbGVfbWFya2VyX2ZiZWY3OGZjZDIxYzQ0MGQ5MDRiNjEzZTg1ZTkzZWU1LmJpbmRUb29sdGlwKAogICAgICAgICAgICAgICAgYDxkaXY+CiAgICAgICAgICAgICAgICAgICAgIOyKpO2DgOuyheyKpCAtIOuMgOq1rOq0keyXreyLnCDsiJjshLHqtawg7IiY7ISx66GcIDI0MwogICAgICAgICAgICAgICAgIDwvZGl2PmAsCiAgICAgICAgICAgICAgICB7InN0aWNreSI6IHRydWV9CiAgICAgICAgICAgICk7CiAgICAgICAgCiAgICAKICAgICAgICAgICAgdmFyIGNpcmNsZV9tYXJrZXJfNjVjNTdlOWIxZGUxNGNjNzk2YWM0MGY0ZjFhZjhiNjYgPSBMLmNpcmNsZU1hcmtlcigKICAgICAgICAgICAgICAgIFszNS44Nzk0NjYyMDczNTYxLCAxMjguMzk5MzQzNjE0OTQ4XSwKICAgICAgICAgICAgICAgIHsiYnViYmxpbmdNb3VzZUV2ZW50cyI6IHRydWUsICJjb2xvciI6ICJncmVlbiIsICJkYXNoQXJyYXkiOiBudWxsLCAiZGFzaE9mZnNldCI6IG51bGwsICJmaWxsIjogZmFsc2UsICJmaWxsQ29sb3IiOiAiZ3JlZW4iLCAiZmlsbE9wYWNpdHkiOiAwLjIsICJmaWxsUnVsZSI6ICJldmVub2RkIiwgImxpbmVDYXAiOiAicm91bmQiLCAibGluZUpvaW4iOiAicm91bmQiLCAib3BhY2l0eSI6IDEuMCwgInJhZGl1cyI6IDMsICJzdHJva2UiOiB0cnVlLCAid2VpZ2h0IjogM30KICAgICAgICAgICAgKS5hZGRUbyhtYXBfNGZmMDY3NTE4OTFkNDRkNDgzOWEwYjgyN2UwZDE0MGQpOwogICAgICAgIAogICAgCiAgICAgICAgICAgIGNpcmNsZV9tYXJrZXJfNjVjNTdlOWIxZGUxNGNjNzk2YWM0MGY0ZjFhZjhiNjYuYmluZFRvb2x0aXAoCiAgICAgICAgICAgICAgICBgPGRpdj4KICAgICAgICAgICAgICAgICAgICAg7Iqk7YOA67KF7IqkIC0g64yA6rWs6rSR7Jet7IucIOuLrOyEseq1sCDtlZjruYjrqbQg7ZWY66qp7KCV6ri4IDMwCiAgICAgICAgICAgICAgICAgPC9kaXY+YCwKICAgICAgICAgICAgICAgIHsic3RpY2t5IjogdHJ1ZX0KICAgICAgICAgICAgKTsKICAgICAgICAKICAgIAogICAgICAgICAgICB2YXIgY2lyY2xlX21hcmtlcl9mYzYzZmNmYmY4MWQ0MTliYjZiNGUxOTg5ZjJiYTExMSA9IEwuY2lyY2xlTWFya2VyKAogICAgICAgICAgICAgICAgWzM1Ljg0NzM4MjQ3MTE0OTEsIDEyOC42MTI1NTYzNzQ4MTRdLAogICAgICAgICAgICAgICAgeyJidWJibGluZ01vdXNlRXZlbnRzIjogdHJ1ZSwgImNvbG9yIjogImdyZWVuIiwgImRhc2hBcnJheSI6IG51bGwsICJkYXNoT2Zmc2V0IjogbnVsbCwgImZpbGwiOiBmYWxzZSwgImZpbGxDb2xvciI6ICJncmVlbiIsICJmaWxsT3BhY2l0eSI6IDAuMiwgImZpbGxSdWxlIjogImV2ZW5vZGQiLCAibGluZUNhcCI6ICJyb3VuZCIsICJsaW5lSm9pbiI6ICJyb3VuZCIsICJvcGFjaXR5IjogMS4wLCAicmFkaXVzIjogMywgInN0cm9rZSI6IHRydWUsICJ3ZWlnaHQiOiAzfQogICAgICAgICAgICApLmFkZFRvKG1hcF80ZmYwNjc1MTg5MWQ0NGQ0ODM5YTBiODI3ZTBkMTQwZCk7CiAgICAgICAgCiAgICAKICAgICAgICAgICAgY2lyY2xlX21hcmtlcl9mYzYzZmNmYmY4MWQ0MTliYjZiNGUxOTg5ZjJiYTExMS5iaW5kVG9vbHRpcCgKICAgICAgICAgICAgICAgIGA8ZGl2PgogICAgICAgICAgICAgICAgICAgICDsiqTtg4DrsoXsiqQgLSDrjIDqtazqtJHsl63si5wg7IiY7ISx6rWsIOyImOyEseuhnCAyNDMKICAgICAgICAgICAgICAgICA8L2Rpdj5gLAogICAgICAgICAgICAgICAgeyJzdGlja3kiOiB0cnVlfQogICAgICAgICAgICApOwogICAgICAgIAogICAgCiAgICAgICAgICAgIHZhciBjaXJjbGVfbWFya2VyX2ZmZDhkZGQ1NzI4OTRiZmRhNGFiMGUyOWM5YjI4YzAzID0gTC5jaXJjbGVNYXJrZXIoCiAgICAgICAgICAgICAgICBbMzUuODI0MDI4OTYxMzI5OSwgMTI4LjU0NTIwOTY5NzIxNzAyXSwKICAgICAgICAgICAgICAgIHsiYnViYmxpbmdNb3VzZUV2ZW50cyI6IHRydWUsICJjb2xvciI6ICJncmVlbiIsICJkYXNoQXJyYXkiOiBudWxsLCAiZGFzaE9mZnNldCI6IG51bGwsICJmaWxsIjogZmFsc2UsICJmaWxsQ29sb3IiOiAiZ3JlZW4iLCAiZmlsbE9wYWNpdHkiOiAwLjIsICJmaWxsUnVsZSI6ICJldmVub2RkIiwgImxpbmVDYXAiOiAicm91bmQiLCAibGluZUpvaW4iOiAicm91bmQiLCAib3BhY2l0eSI6IDEuMCwgInJhZGl1cyI6IDMsICJzdHJva2UiOiB0cnVlLCAid2VpZ2h0IjogM30KICAgICAgICAgICAgKS5hZGRUbyhtYXBfNGZmMDY3NTE4OTFkNDRkNDgzOWEwYjgyN2UwZDE0MGQpOwogICAgICAgIAogICAgCiAgICAgICAgICAgIGNpcmNsZV9tYXJrZXJfZmZkOGRkZDU3Mjg5NGJmZGE0YWIwZTI5YzliMjhjMDMuYmluZFRvb2x0aXAoCiAgICAgICAgICAgICAgICBgPGRpdj4KICAgICAgICAgICAgICAgICAgICAg7Iqk7YOA67KF7IqkIC0g64yA6rWs6rSR7Jet7IucIOuLrOyEnOq1rCDsm5TrsLDroZwgMzE1CiAgICAgICAgICAgICAgICAgPC9kaXY+YCwKICAgICAgICAgICAgICAgIHsic3RpY2t5IjogdHJ1ZX0KICAgICAgICAgICAgKTsKICAgICAgICAKICAgIAogICAgICAgICAgICB2YXIgY2lyY2xlX21hcmtlcl82MDJlMDJlOTU4ZjU0MDRjODI4ZTkyNjI5MTFhYWQ1MSA9IEwuY2lyY2xlTWFya2VyKAogICAgICAgICAgICAgICAgWzM1LjgyNjEzOTI2MjU1Njc5NCwgMTI4LjYxNTg3OTM3NjE3Nl0sCiAgICAgICAgICAgICAgICB7ImJ1YmJsaW5nTW91c2VFdmVudHMiOiB0cnVlLCAiY29sb3IiOiAiZ3JlZW4iLCAiZGFzaEFycmF5IjogbnVsbCwgImRhc2hPZmZzZXQiOiBudWxsLCAiZmlsbCI6IGZhbHNlLCAiZmlsbENvbG9yIjogImdyZWVuIiwgImZpbGxPcGFjaXR5IjogMC4yLCAiZmlsbFJ1bGUiOiAiZXZlbm9kZCIsICJsaW5lQ2FwIjogInJvdW5kIiwgImxpbmVKb2luIjogInJvdW5kIiwgIm9wYWNpdHkiOiAxLjAsICJyYWRpdXMiOiAzLCAic3Ryb2tlIjogdHJ1ZSwgIndlaWdodCI6IDN9CiAgICAgICAgICAgICkuYWRkVG8obWFwXzRmZjA2NzUxODkxZDQ0ZDQ4MzlhMGI4MjdlMGQxNDBkKTsKICAgICAgICAKICAgIAogICAgICAgICAgICBjaXJjbGVfbWFya2VyXzYwMmUwMmU5NThmNTQwNGM4MjhlOTI2MjkxMWFhZDUxLmJpbmRUb29sdGlwKAogICAgICAgICAgICAgICAgYDxkaXY+CiAgICAgICAgICAgICAgICAgICAgIOyKpO2DgOuyheyKpCAtIOuMgOq1rOq0keyXreyLnCDsiJjshLHqtawg7Jqp7ZWZ66GcIDU2CiAgICAgICAgICAgICAgICAgPC9kaXY+YCwKICAgICAgICAgICAgICAgIHsic3RpY2t5IjogdHJ1ZX0KICAgICAgICAgICAgKTsKICAgICAgICAKICAgIAogICAgICAgICAgICB2YXIgY2lyY2xlX21hcmtlcl8yMmU2ZTE4MWVkNDA0MDliODljZGM1NTExNDBhNDk1OSA9IEwuY2lyY2xlTWFya2VyKAogICAgICAgICAgICAgICAgWzM1Ljg1MzgyMzE0OTA1ODEsIDEyOC42MjAzMjI2NTg1NjldLAogICAgICAgICAgICAgICAgeyJidWJibGluZ01vdXNlRXZlbnRzIjogdHJ1ZSwgImNvbG9yIjogImdyZWVuIiwgImRhc2hBcnJheSI6IG51bGwsICJkYXNoT2Zmc2V0IjogbnVsbCwgImZpbGwiOiBmYWxzZSwgImZpbGxDb2xvciI6ICJncmVlbiIsICJmaWxsT3BhY2l0eSI6IDAuMiwgImZpbGxSdWxlIjogImV2ZW5vZGQiLCAibGluZUNhcCI6ICJyb3VuZCIsICJsaW5lSm9pbiI6ICJyb3VuZCIsICJvcGFjaXR5IjogMS4wLCAicmFkaXVzIjogMywgInN0cm9rZSI6IHRydWUsICJ3ZWlnaHQiOiAzfQogICAgICAgICAgICApLmFkZFRvKG1hcF80ZmYwNjc1MTg5MWQ0NGQ0ODM5YTBiODI3ZTBkMTQwZCk7CiAgICAgICAgCiAgICAKICAgICAgICAgICAgY2lyY2xlX21hcmtlcl8yMmU2ZTE4MWVkNDA0MDliODljZGM1NTExNDBhNDk1OS5iaW5kVG9vbHRpcCgKICAgICAgICAgICAgICAgIGA8ZGl2PgogICAgICAgICAgICAgICAgICAgICDsiqTtg4DrsoXsiqQgLSDrjIDqtazqtJHsl63si5wg7IiY7ISx6rWsIOuqheuNleuhnCA0NjAKICAgICAgICAgICAgICAgICA8L2Rpdj5gLAogICAgICAgICAgICAgICAgeyJzdGlja3kiOiB0cnVlfQogICAgICAgICAgICApOwogICAgICAgIAogICAgCiAgICAgICAgICAgIHZhciBjaXJjbGVfbWFya2VyX2JmNTI2NzhiYjhkODQ2Yzk5ZTFkMGE3ZTg3OTI4YjU3ID0gTC5jaXJjbGVNYXJrZXIoCiAgICAgICAgICAgICAgICBbMzUuOTA2Mjg5Mzg0NDUxNSwgMTI4LjYwOTY3NTMzNDkxMl0sCiAgICAgICAgICAgICAgICB7ImJ1YmJsaW5nTW91c2VFdmVudHMiOiB0cnVlLCAiY29sb3IiOiAiYmx1ZSIsICJkYXNoQXJyYXkiOiBudWxsLCAiZGFzaE9mZnNldCI6IG51bGwsICJmaWxsIjogZmFsc2UsICJmaWxsQ29sb3IiOiAiYmx1ZSIsICJmaWxsT3BhY2l0eSI6IDAuMiwgImZpbGxSdWxlIjogImV2ZW5vZGQiLCAibGluZUNhcCI6ICJyb3VuZCIsICJsaW5lSm9pbiI6ICJyb3VuZCIsICJvcGFjaXR5IjogMS4wLCAicmFkaXVzIjogMywgInN0cm9rZSI6IHRydWUsICJ3ZWlnaHQiOiAzfQogICAgICAgICAgICApLmFkZFRvKG1hcF80ZmYwNjc1MTg5MWQ0NGQ0ODM5YTBiODI3ZTBkMTQwZCk7CiAgICAgICAgCiAgICAKICAgICAgICAgICAgY2lyY2xlX21hcmtlcl9iZjUyNjc4YmI4ZDg0NmM5OWUxZDBhN2U4NzkyOGI1Ny5iaW5kVG9vbHRpcCgKICAgICAgICAgICAgICAgIGA8ZGl2PgogICAgICAgICAgICAgICAgICAgICDsnbTrlJTslbzsu6TtlLwgLSDrjIDqtazqtJHsl63si5wg67aB6rWsIOycoO2GteuLqOyngOuhnCA2MAogICAgICAgICAgICAgICAgIDwvZGl2PmAsCiAgICAgICAgICAgICAgICB7InN0aWNreSI6IHRydWV9CiAgICAgICAgICAgICk7CiAgICAgICAgCiAgICAKICAgICAgICAgICAgdmFyIGNpcmNsZV9tYXJrZXJfNjA1NDg3ODAwMzlhNDViODg0ZjdjOGEwNzVlOWVlNjUgPSBMLmNpcmNsZU1hcmtlcigKICAgICAgICAgICAgICAgIFszNS44Nzk2NTEyMzEyMTU0LCAxMjguNTk2MTQ3OTQ5ODMxMDJdLAogICAgICAgICAgICAgICAgeyJidWJibGluZ01vdXNlRXZlbnRzIjogdHJ1ZSwgImNvbG9yIjogImdyZWVuIiwgImRhc2hBcnJheSI6IG51bGwsICJkYXNoT2Zmc2V0IjogbnVsbCwgImZpbGwiOiBmYWxzZSwgImZpbGxDb2xvciI6ICJncmVlbiIsICJmaWxsT3BhY2l0eSI6IDAuMiwgImZpbGxSdWxlIjogImV2ZW5vZGQiLCAibGluZUNhcCI6ICJyb3VuZCIsICJsaW5lSm9pbiI6ICJyb3VuZCIsICJvcGFjaXR5IjogMS4wLCAicmFkaXVzIjogMywgInN0cm9rZSI6IHRydWUsICJ3ZWlnaHQiOiAzfQogICAgICAgICAgICApLmFkZFRvKG1hcF80ZmYwNjc1MTg5MWQ0NGQ0ODM5YTBiODI3ZTBkMTQwZCk7CiAgICAgICAgCiAgICAKICAgICAgICAgICAgY2lyY2xlX21hcmtlcl82MDU0ODc4MDAzOWE0NWI4ODRmN2M4YTA3NWU5ZWU2NS5iaW5kVG9vbHRpcCgKICAgICAgICAgICAgICAgIGA8ZGl2PgogICAgICAgICAgICAgICAgICAgICDsiqTtg4DrsoXsiqQgLSDrjIDqtazqtJHsl63si5wg67aB6rWsIOykkeyVmeuMgOuhnCA1MjYKICAgICAgICAgICAgICAgICA8L2Rpdj5gLAogICAgICAgICAgICAgICAgeyJzdGlja3kiOiB0cnVlfQogICAgICAgICAgICApOwogICAgICAgIAogICAgCiAgICAgICAgICAgIHZhciBjaXJjbGVfbWFya2VyX2JlZjgwMjJlMTFhYTQzMmI4ZWUxY2U5MTkyNjEzZDQ5ID0gTC5jaXJjbGVNYXJrZXIoCiAgICAgICAgICAgICAgICBbMzUuODc5MDk3NTcyNzc3NiwgMTI4LjYyODcyNjEzODU5NV0sCiAgICAgICAgICAgICAgICB7ImJ1YmJsaW5nTW91c2VFdmVudHMiOiB0cnVlLCAiY29sb3IiOiAiYmx1ZSIsICJkYXNoQXJyYXkiOiBudWxsLCAiZGFzaE9mZnNldCI6IG51bGwsICJmaWxsIjogZmFsc2UsICJmaWxsQ29sb3IiOiAiYmx1ZSIsICJmaWxsT3BhY2l0eSI6IDAuMiwgImZpbGxSdWxlIjogImV2ZW5vZGQiLCAibGluZUNhcCI6ICJyb3VuZCIsICJsaW5lSm9pbiI6ICJyb3VuZCIsICJvcGFjaXR5IjogMS4wLCAicmFkaXVzIjogMywgInN0cm9rZSI6IHRydWUsICJ3ZWlnaHQiOiAzfQogICAgICAgICAgICApLmFkZFRvKG1hcF80ZmYwNjc1MTg5MWQ0NGQ0ODM5YTBiODI3ZTBkMTQwZCk7CiAgICAgICAgCiAgICAKICAgICAgICAgICAgY2lyY2xlX21hcmtlcl9iZWY4MDIyZTExYWE0MzJiOGVlMWNlOTE5MjYxM2Q0OS5iaW5kVG9vbHRpcCgKICAgICAgICAgICAgICAgIGA8ZGl2PgogICAgICAgICAgICAgICAgICAgICDsnbTrlJTslbzsu6TtlLwgLSDrjIDqtazqtJHsl63si5wg64+Z6rWsIOuPmeuMgOq1rOuhnCA1NTAKICAgICAgICAgICAgICAgICA8L2Rpdj5gLAogICAgICAgICAgICAgICAgeyJzdGlja3kiOiB0cnVlfQogICAgICAgICAgICApOwogICAgICAgIAogICAgCiAgICAgICAgICAgIHZhciBjaXJjbGVfbWFya2VyXzU3M2JiN2Q1MWE4ZDQzNDRiZDMzNTUwN2NjNjA2MzkyID0gTC5jaXJjbGVNYXJrZXIoCiAgICAgICAgICAgICAgICBbMzUuODE0ODcyMjMyMTM2MiwgMTI4LjU0MTA0MTYwNDA4MDAyXSwKICAgICAgICAgICAgICAgIHsiYnViYmxpbmdNb3VzZUV2ZW50cyI6IHRydWUsICJjb2xvciI6ICJncmVlbiIsICJkYXNoQXJyYXkiOiBudWxsLCAiZGFzaE9mZnNldCI6IG51bGwsICJmaWxsIjogZmFsc2UsICJmaWxsQ29sb3IiOiAiZ3JlZW4iLCAiZmlsbE9wYWNpdHkiOiAwLjIsICJmaWxsUnVsZSI6ICJldmVub2RkIiwgImxpbmVDYXAiOiAicm91bmQiLCAibGluZUpvaW4iOiAicm91bmQiLCAib3BhY2l0eSI6IDEuMCwgInJhZGl1cyI6IDMsICJzdHJva2UiOiB0cnVlLCAid2VpZ2h0IjogM30KICAgICAgICAgICAgKS5hZGRUbyhtYXBfNGZmMDY3NTE4OTFkNDRkNDgzOWEwYjgyN2UwZDE0MGQpOwogICAgICAgIAogICAgCiAgICAgICAgICAgIGNpcmNsZV9tYXJrZXJfNTczYmI3ZDUxYThkNDM0NGJkMzM1NTA3Y2M2MDYzOTIuYmluZFRvb2x0aXAoCiAgICAgICAgICAgICAgICBgPGRpdj4KICAgICAgICAgICAgICAgICAgICAg7Iqk7YOA67KF7IqkIC0g64yA6rWs6rSR7Jet7IucIOuLrOyEnOq1rCDsm5Tqs6HroZwgMjI1CiAgICAgICAgICAgICAgICAgPC9kaXY+YCwKICAgICAgICAgICAgICAgIHsic3RpY2t5IjogdHJ1ZX0KICAgICAgICAgICAgKTsKICAgICAgICAKICAgIAogICAgICAgICAgICB2YXIgY2lyY2xlX21hcmtlcl9hZDk0YzlkNThmYWU0ZGFiOTZjODI4YzU1ZGE0NTM4NSA9IEwuY2lyY2xlTWFya2VyKAogICAgICAgICAgICAgICAgWzM1Ljg1NzY4MzY1NDMyMzcsIDEyOC42MjQ5OTE4NjA4MDhdLAogICAgICAgICAgICAgICAgeyJidWJibGluZ01vdXNlRXZlbnRzIjogdHJ1ZSwgImNvbG9yIjogImdyZWVuIiwgImRhc2hBcnJheSI6IG51bGwsICJkYXNoT2Zmc2V0IjogbnVsbCwgImZpbGwiOiBmYWxzZSwgImZpbGxDb2xvciI6ICJncmVlbiIsICJmaWxsT3BhY2l0eSI6IDAuMiwgImZpbGxSdWxlIjogImV2ZW5vZGQiLCAibGluZUNhcCI6ICJyb3VuZCIsICJsaW5lSm9pbiI6ICJyb3VuZCIsICJvcGFjaXR5IjogMS4wLCAicmFkaXVzIjogMywgInN0cm9rZSI6IHRydWUsICJ3ZWlnaHQiOiAzfQogICAgICAgICAgICApLmFkZFRvKG1hcF80ZmYwNjc1MTg5MWQ0NGQ0ODM5YTBiODI3ZTBkMTQwZCk7CiAgICAgICAgCiAgICAKICAgICAgICAgICAgY2lyY2xlX21hcmtlcl9hZDk0YzlkNThmYWU0ZGFiOTZjODI4YzU1ZGE0NTM4NS5iaW5kVG9vbHRpcCgKICAgICAgICAgICAgICAgIGA8ZGl2PgogICAgICAgICAgICAgICAgICAgICDsiqTtg4DrsoXsiqQgLSDrjIDqtazqtJHsl63si5wg7IiY7ISx6rWsIOuPmeuMgOq1rOuhnCAzMDUKICAgICAgICAgICAgICAgICA8L2Rpdj5gLAogICAgICAgICAgICAgICAgeyJzdGlja3kiOiB0cnVlfQogICAgICAgICAgICApOwogICAgICAgIAogICAgCiAgICAgICAgICAgIHZhciBjaXJjbGVfbWFya2VyX2M2NWE2NzE5ZDQzYjQ3NWFhOGE1MzAwNzViMWM4ZDRkID0gTC5jaXJjbGVNYXJrZXIoCiAgICAgICAgICAgICAgICBbMzUuODQ1MTcxMTY2MzM2MiwgMTI4LjU4NjA1OTQ5MjgwNF0sCiAgICAgICAgICAgICAgICB7ImJ1YmJsaW5nTW91c2VFdmVudHMiOiB0cnVlLCAiY29sb3IiOiAiYmx1ZSIsICJkYXNoQXJyYXkiOiBudWxsLCAiZGFzaE9mZnNldCI6IG51bGwsICJmaWxsIjogZmFsc2UsICJmaWxsQ29sb3IiOiAiYmx1ZSIsICJmaWxsT3BhY2l0eSI6IDAuMiwgImZpbGxSdWxlIjogImV2ZW5vZGQiLCAibGluZUNhcCI6ICJyb3VuZCIsICJsaW5lSm9pbiI6ICJyb3VuZCIsICJvcGFjaXR5IjogMS4wLCAicmFkaXVzIjogMywgInN0cm9rZSI6IHRydWUsICJ3ZWlnaHQiOiAzfQogICAgICAgICAgICApLmFkZFRvKG1hcF80ZmYwNjc1MTg5MWQ0NGQ0ODM5YTBiODI3ZTBkMTQwZCk7CiAgICAgICAgCiAgICAKICAgICAgICAgICAgY2lyY2xlX21hcmtlcl9jNjVhNjcxOWQ0M2I0NzVhYThhNTMwMDc1YjFjOGQ0ZC5iaW5kVG9vbHRpcCgKICAgICAgICAgICAgICAgIGA8ZGl2PgogICAgICAgICAgICAgICAgICAgICDsnbTrlJTslbzsu6TtlLwgLSDrjIDqtazqtJHsl63si5wg64Ko6rWsIOuqheuNleyLnOyepeq4uCA1MgogICAgICAgICAgICAgICAgIDwvZGl2PmAsCiAgICAgICAgICAgICAgICB7InN0aWNreSI6IHRydWV9CiAgICAgICAgICAgICk7CiAgICAgICAgCiAgICAKICAgICAgICAgICAgdmFyIGNpcmNsZV9tYXJrZXJfZWY2NGE4NjY1NWY0NGI2Nzg2NTczNzhhOTM2ZjMyZDcgPSBMLmNpcmNsZU1hcmtlcigKICAgICAgICAgICAgICAgIFszNS44NzA5NjE3MDQ3MDQ3MDUsIDEyOC41OTgxMjA0Mjk0OTZdLAogICAgICAgICAgICAgICAgeyJidWJibGluZ01vdXNlRXZlbnRzIjogdHJ1ZSwgImNvbG9yIjogImdyZWVuIiwgImRhc2hBcnJheSI6IG51bGwsICJkYXNoT2Zmc2V0IjogbnVsbCwgImZpbGwiOiBmYWxzZSwgImZpbGxDb2xvciI6ICJncmVlbiIsICJmaWxsT3BhY2l0eSI6IDAuMiwgImZpbGxSdWxlIjogImV2ZW5vZGQiLCAibGluZUNhcCI6ICJyb3VuZCIsICJsaW5lSm9pbiI6ICJyb3VuZCIsICJvcGFjaXR5IjogMS4wLCAicmFkaXVzIjogMywgInN0cm9rZSI6IHRydWUsICJ3ZWlnaHQiOiAzfQogICAgICAgICAgICApLmFkZFRvKG1hcF80ZmYwNjc1MTg5MWQ0NGQ0ODM5YTBiODI3ZTBkMTQwZCk7CiAgICAgICAgCiAgICAKICAgICAgICAgICAgY2lyY2xlX21hcmtlcl9lZjY0YTg2NjU1ZjQ0YjY3ODY1NzM3OGE5MzZmMzJkNy5iaW5kVG9vbHRpcCgKICAgICAgICAgICAgICAgIGA8ZGl2PgogICAgICAgICAgICAgICAgICAgICDsiqTtg4DrsoXsiqQgLSDrjIDqtazqtJHsl63si5wg7KSR6rWsIOq1reyxhOuztOyDgeuhnCA2MTEKICAgICAgICAgICAgICAgICA8L2Rpdj5gLAogICAgICAgICAgICAgICAgeyJzdGlja3kiOiB0cnVlfQogICAgICAgICAgICApOwogICAgICAgIAo8L3NjcmlwdD4= onload=\"this.contentDocument.open();this.contentDocument.write(atob(this.getAttribute('data-html')));this.contentDocument.close();\" allowfullscreen webkitallowfullscreen mozallowfullscreen></iframe></div></div>"
      ],
      "text/plain": [
       "<folium.folium.Map at 0x24373c2e0a0>"
      ]
     },
     "execution_count": 48,
     "metadata": {},
     "output_type": "execute_result"
    }
   ],
   "source": [
    "m = folium.Map([lat, long], zoom_start=12) , tiles=\"Stamen Toner\")\n",
    "\n",
    "for i in df_cafe.index:\n",
    "    sub_lat = df_cafe.loc[i, \"위도\"]\n",
    "    sub_long = df_cafe.loc[i, \"경도\"]\n",
    "    \n",
    "    title = f\"{df_cafe.loc[i, '상호명']} - {df_cafe.loc[i, '도로명주소']}\"\n",
    "    \n",
    "    color = \"green\"\n",
    "    if df_cafe.loc[i, \"브랜드명\"] == \"이디야\":\n",
    "        color = \"blue\"\n",
    "    \n",
    "    folium.CircleMarker([sub_lat, sub_long],\n",
    "                        radius=3,\n",
    "                        color=color,\n",
    "                          tooltip=title).add_to(m)\n",
    "m"
   ]
  },
  {
   "cell_type": "code",
   "execution_count": 88,
   "metadata": {},
   "outputs": [],
   "source": [
    "#지도가 한글 깨짐 : 임시적인 해결방법\n",
    "m.save('starbuck_ediya.html')"
   ]
  },
  {
   "cell_type": "markdown",
   "metadata": {},
   "source": [
    "### 스타벅스 매장 분포"
   ]
  },
  {
   "cell_type": "code",
   "execution_count": 63,
   "metadata": {},
   "outputs": [
    {
     "data": {
      "text/html": [
       "<div>\n",
       "<style scoped>\n",
       "    .dataframe tbody tr th:only-of-type {\n",
       "        vertical-align: middle;\n",
       "    }\n",
       "\n",
       "    .dataframe tbody tr th {\n",
       "        vertical-align: top;\n",
       "    }\n",
       "\n",
       "    .dataframe thead th {\n",
       "        text-align: right;\n",
       "    }\n",
       "</style>\n",
       "<table border=\"1\" class=\"dataframe\">\n",
       "  <thead>\n",
       "    <tr style=\"text-align: right;\">\n",
       "      <th></th>\n",
       "      <th>구</th>\n",
       "      <th>브랜드명</th>\n",
       "      <th>매장수</th>\n",
       "    </tr>\n",
       "  </thead>\n",
       "  <tbody>\n",
       "    <tr>\n",
       "      <th>0</th>\n",
       "      <td>남구</td>\n",
       "      <td>스타벅스</td>\n",
       "      <td>3</td>\n",
       "    </tr>\n",
       "    <tr>\n",
       "      <th>2</th>\n",
       "      <td>달서구</td>\n",
       "      <td>스타벅스</td>\n",
       "      <td>19</td>\n",
       "    </tr>\n",
       "    <tr>\n",
       "      <th>4</th>\n",
       "      <td>달성군</td>\n",
       "      <td>스타벅스</td>\n",
       "      <td>4</td>\n",
       "    </tr>\n",
       "    <tr>\n",
       "      <th>6</th>\n",
       "      <td>동구</td>\n",
       "      <td>스타벅스</td>\n",
       "      <td>7</td>\n",
       "    </tr>\n",
       "    <tr>\n",
       "      <th>8</th>\n",
       "      <td>북구</td>\n",
       "      <td>스타벅스</td>\n",
       "      <td>6</td>\n",
       "    </tr>\n",
       "  </tbody>\n",
       "</table>\n",
       "</div>"
      ],
      "text/plain": [
       "     구  브랜드명  매장수\n",
       "0   남구  스타벅스    3\n",
       "2  달서구  스타벅스   19\n",
       "4  달성군  스타벅스    4\n",
       "6   동구  스타벅스    7\n",
       "8   북구  스타벅스    6"
      ]
     },
     "execution_count": 63,
     "metadata": {},
     "output_type": "execute_result"
    }
   ],
   "source": [
    "# df_cafe_vs 변수에 담긴 값을 통해 스타벅스의 매장 수를 구합니다.\n",
    "# \"브랜드명\"컬럼으로 스타벅스만 가져옵니다.\n",
    "\n",
    "df_star = df_cafe_vs[df_cafe_vs[\"브랜드명\"] == \"스타벅스\"].copy()\n",
    "df_star.head()"
   ]
  },
  {
   "cell_type": "markdown",
   "metadata": {},
   "source": [
    "### 이디야 매장 분포"
   ]
  },
  {
   "cell_type": "code",
   "execution_count": 51,
   "metadata": {},
   "outputs": [
    {
     "data": {
      "text/html": [
       "<div>\n",
       "<style scoped>\n",
       "    .dataframe tbody tr th:only-of-type {\n",
       "        vertical-align: middle;\n",
       "    }\n",
       "\n",
       "    .dataframe tbody tr th {\n",
       "        vertical-align: top;\n",
       "    }\n",
       "\n",
       "    .dataframe thead th {\n",
       "        text-align: right;\n",
       "    }\n",
       "</style>\n",
       "<table border=\"1\" class=\"dataframe\">\n",
       "  <thead>\n",
       "    <tr style=\"text-align: right;\">\n",
       "      <th></th>\n",
       "      <th>구</th>\n",
       "      <th>브랜드명</th>\n",
       "      <th>매장수</th>\n",
       "    </tr>\n",
       "  </thead>\n",
       "  <tbody>\n",
       "    <tr>\n",
       "      <th>1</th>\n",
       "      <td>남구</td>\n",
       "      <td>이디야</td>\n",
       "      <td>5</td>\n",
       "    </tr>\n",
       "    <tr>\n",
       "      <th>3</th>\n",
       "      <td>달서구</td>\n",
       "      <td>이디야</td>\n",
       "      <td>6</td>\n",
       "    </tr>\n",
       "    <tr>\n",
       "      <th>5</th>\n",
       "      <td>달성군</td>\n",
       "      <td>이디야</td>\n",
       "      <td>3</td>\n",
       "    </tr>\n",
       "    <tr>\n",
       "      <th>7</th>\n",
       "      <td>동구</td>\n",
       "      <td>이디야</td>\n",
       "      <td>4</td>\n",
       "    </tr>\n",
       "    <tr>\n",
       "      <th>9</th>\n",
       "      <td>북구</td>\n",
       "      <td>이디야</td>\n",
       "      <td>8</td>\n",
       "    </tr>\n",
       "  </tbody>\n",
       "</table>\n",
       "</div>"
      ],
      "text/plain": [
       "     구 브랜드명  매장수\n",
       "1   남구  이디야    5\n",
       "3  달서구  이디야    6\n",
       "5  달성군  이디야    3\n",
       "7   동구  이디야    4\n",
       "9   북구  이디야    8"
      ]
     },
     "execution_count": 51,
     "metadata": {},
     "output_type": "execute_result"
    }
   ],
   "source": [
    "# 이디야의 매장 수를 구합니다.\n",
    "# \"브랜드명\"컬럼으로 이디야만 가져옵니다.\n",
    "df_ediya = df_cafe_vs[df_cafe_vs[\"브랜드명\"] == \"이디야\"].copy()\n",
    "df_ediya.head()"
   ]
  },
  {
   "cell_type": "code",
   "execution_count": 53,
   "metadata": {},
   "outputs": [
    {
     "data": {
      "text/html": [
       "<div>\n",
       "<style scoped>\n",
       "    .dataframe tbody tr th:only-of-type {\n",
       "        vertical-align: middle;\n",
       "    }\n",
       "\n",
       "    .dataframe tbody tr th {\n",
       "        vertical-align: top;\n",
       "    }\n",
       "\n",
       "    .dataframe thead th {\n",
       "        text-align: right;\n",
       "    }\n",
       "</style>\n",
       "<table border=\"1\" class=\"dataframe\">\n",
       "  <thead>\n",
       "    <tr style=\"text-align: right;\">\n",
       "      <th>브랜드명</th>\n",
       "      <th>스타벅스</th>\n",
       "      <th>이디야</th>\n",
       "      <th>매장수비교</th>\n",
       "    </tr>\n",
       "    <tr>\n",
       "      <th>구</th>\n",
       "      <th></th>\n",
       "      <th></th>\n",
       "      <th></th>\n",
       "    </tr>\n",
       "  </thead>\n",
       "  <tbody>\n",
       "    <tr>\n",
       "      <th>남구</th>\n",
       "      <td>3.0</td>\n",
       "      <td>5.0</td>\n",
       "      <td>False</td>\n",
       "    </tr>\n",
       "    <tr>\n",
       "      <th>달서구</th>\n",
       "      <td>19.0</td>\n",
       "      <td>6.0</td>\n",
       "      <td>True</td>\n",
       "    </tr>\n",
       "    <tr>\n",
       "      <th>달성군</th>\n",
       "      <td>4.0</td>\n",
       "      <td>3.0</td>\n",
       "      <td>True</td>\n",
       "    </tr>\n",
       "    <tr>\n",
       "      <th>동구</th>\n",
       "      <td>7.0</td>\n",
       "      <td>4.0</td>\n",
       "      <td>True</td>\n",
       "    </tr>\n",
       "    <tr>\n",
       "      <th>북구</th>\n",
       "      <td>6.0</td>\n",
       "      <td>8.0</td>\n",
       "      <td>False</td>\n",
       "    </tr>\n",
       "  </tbody>\n",
       "</table>\n",
       "</div>"
      ],
      "text/plain": [
       "브랜드명  스타벅스  이디야  매장수비교\n",
       "구                     \n",
       "남구     3.0  5.0  False\n",
       "달서구   19.0  6.0   True\n",
       "달성군    4.0  3.0   True\n",
       "동구     7.0  4.0   True\n",
       "북구     6.0  8.0  False"
      ]
     },
     "execution_count": 53,
     "metadata": {},
     "output_type": "execute_result"
    }
   ],
   "source": [
    "# df_vs 라는 변수에 구별 브랜드명을 pivot해서 스타벅스와 이디야 매장을 비교할 수 있는 형태로 만듭니다.\n",
    "# 그리고 [\"스타벅스\", \"이디야\"] 로 컬럼명을 변경해주고 \n",
    "# 스타벅스와 이디야의 매장을 비교한 값을 \"매장수비교\" 컬럼에 담아줍니다.\n",
    "df_vs = df_cafe_vs.pivot(index=\"구\", columns=\"브랜드명\", values=\"매장수\")\n",
    "df_vs[\"매장수비교\"] = df_vs[\"스타벅스\"] - df_vs[\"이디야\"] > 0\n",
    "df_vs.head()"
   ]
  },
  {
   "cell_type": "code",
   "execution_count": 54,
   "metadata": {},
   "outputs": [
    {
     "data": {
      "text/html": [
       "<div>\n",
       "<style scoped>\n",
       "    .dataframe tbody tr th:only-of-type {\n",
       "        vertical-align: middle;\n",
       "    }\n",
       "\n",
       "    .dataframe tbody tr th {\n",
       "        vertical-align: top;\n",
       "    }\n",
       "\n",
       "    .dataframe thead th {\n",
       "        text-align: right;\n",
       "    }\n",
       "</style>\n",
       "<table border=\"1\" class=\"dataframe\">\n",
       "  <thead>\n",
       "    <tr style=\"text-align: right;\">\n",
       "      <th>브랜드명</th>\n",
       "      <th>스타벅스</th>\n",
       "      <th>이디야</th>\n",
       "      <th>매장수비교</th>\n",
       "    </tr>\n",
       "    <tr>\n",
       "      <th>구</th>\n",
       "      <th></th>\n",
       "      <th></th>\n",
       "      <th></th>\n",
       "    </tr>\n",
       "  </thead>\n",
       "  <tbody>\n",
       "    <tr>\n",
       "      <th>남구</th>\n",
       "      <td>3.0</td>\n",
       "      <td>5.0</td>\n",
       "      <td>0.0</td>\n",
       "    </tr>\n",
       "    <tr>\n",
       "      <th>달서구</th>\n",
       "      <td>19.0</td>\n",
       "      <td>6.0</td>\n",
       "      <td>1.0</td>\n",
       "    </tr>\n",
       "    <tr>\n",
       "      <th>달성군</th>\n",
       "      <td>4.0</td>\n",
       "      <td>3.0</td>\n",
       "      <td>1.0</td>\n",
       "    </tr>\n",
       "    <tr>\n",
       "      <th>동구</th>\n",
       "      <td>7.0</td>\n",
       "      <td>4.0</td>\n",
       "      <td>1.0</td>\n",
       "    </tr>\n",
       "    <tr>\n",
       "      <th>북구</th>\n",
       "      <td>6.0</td>\n",
       "      <td>8.0</td>\n",
       "      <td>0.0</td>\n",
       "    </tr>\n",
       "  </tbody>\n",
       "</table>\n",
       "</div>"
      ],
      "text/plain": [
       "브랜드명  스타벅스  이디야  매장수비교\n",
       "구                     \n",
       "남구     3.0  5.0    0.0\n",
       "달서구   19.0  6.0    1.0\n",
       "달성군    4.0  3.0    1.0\n",
       "동구     7.0  4.0    1.0\n",
       "북구     6.0  8.0    0.0"
      ]
     },
     "execution_count": 54,
     "metadata": {},
     "output_type": "execute_result"
    }
   ],
   "source": [
    "# 간단한 함수를 사용해서 스타벅스가 이디야보다 매장수가 많을 때 1을 출력하도록 합니다.\n",
    "df_vs[\"매장수비교\"] = df_vs[\"매장수비교\"].astype(float)\n",
    "df_vs.head()"
   ]
  },
  {
   "cell_type": "code",
   "execution_count": 55,
   "metadata": {
    "scrolled": true
   },
   "outputs": [
    {
     "data": {
      "text/html": [
       "<div>\n",
       "<style scoped>\n",
       "    .dataframe tbody tr th:only-of-type {\n",
       "        vertical-align: middle;\n",
       "    }\n",
       "\n",
       "    .dataframe tbody tr th {\n",
       "        vertical-align: top;\n",
       "    }\n",
       "\n",
       "    .dataframe thead th {\n",
       "        text-align: right;\n",
       "    }\n",
       "</style>\n",
       "<table border=\"1\" class=\"dataframe\">\n",
       "  <thead>\n",
       "    <tr style=\"text-align: right;\">\n",
       "      <th>브랜드명</th>\n",
       "      <th>구</th>\n",
       "      <th>스타벅스</th>\n",
       "      <th>이디야</th>\n",
       "      <th>매장수비교</th>\n",
       "    </tr>\n",
       "  </thead>\n",
       "  <tbody>\n",
       "    <tr>\n",
       "      <th>0</th>\n",
       "      <td>남구</td>\n",
       "      <td>3.0</td>\n",
       "      <td>5.0</td>\n",
       "      <td>0.0</td>\n",
       "    </tr>\n",
       "    <tr>\n",
       "      <th>1</th>\n",
       "      <td>달서구</td>\n",
       "      <td>19.0</td>\n",
       "      <td>6.0</td>\n",
       "      <td>1.0</td>\n",
       "    </tr>\n",
       "    <tr>\n",
       "      <th>2</th>\n",
       "      <td>달성군</td>\n",
       "      <td>4.0</td>\n",
       "      <td>3.0</td>\n",
       "      <td>1.0</td>\n",
       "    </tr>\n",
       "    <tr>\n",
       "      <th>3</th>\n",
       "      <td>동구</td>\n",
       "      <td>7.0</td>\n",
       "      <td>4.0</td>\n",
       "      <td>1.0</td>\n",
       "    </tr>\n",
       "    <tr>\n",
       "      <th>4</th>\n",
       "      <td>북구</td>\n",
       "      <td>6.0</td>\n",
       "      <td>8.0</td>\n",
       "      <td>0.0</td>\n",
       "    </tr>\n",
       "  </tbody>\n",
       "</table>\n",
       "</div>"
      ],
      "text/plain": [
       "브랜드명    구  스타벅스  이디야  매장수비교\n",
       "0      남구   3.0  5.0    0.0\n",
       "1     달서구  19.0  6.0    1.0\n",
       "2     달성군   4.0  3.0    1.0\n",
       "3      동구   7.0  4.0    1.0\n",
       "4      북구   6.0  8.0    0.0"
      ]
     },
     "execution_count": 55,
     "metadata": {},
     "output_type": "execute_result"
    }
   ],
   "source": [
    "# 구를 컬럼명으로 사용하기 위해 reset_index 를 합니다.\n",
    "# 데이터 프레임을 df_vs 에 저장합니다.\n",
    "df_vs = df_vs.reset_index()\n",
    "df_vs.head()"
   ]
  },
  {
   "cell_type": "code",
   "execution_count": 56,
   "metadata": {},
   "outputs": [
    {
     "data": {
      "text/html": [
       "<div>\n",
       "<style scoped>\n",
       "    .dataframe tbody tr th:only-of-type {\n",
       "        vertical-align: middle;\n",
       "    }\n",
       "\n",
       "    .dataframe tbody tr th {\n",
       "        vertical-align: top;\n",
       "    }\n",
       "\n",
       "    .dataframe thead th {\n",
       "        text-align: right;\n",
       "    }\n",
       "</style>\n",
       "<table border=\"1\" class=\"dataframe\">\n",
       "  <thead>\n",
       "    <tr style=\"text-align: right;\">\n",
       "      <th></th>\n",
       "      <th>시군구명</th>\n",
       "      <th>경도</th>\n",
       "      <th>위도</th>\n",
       "    </tr>\n",
       "  </thead>\n",
       "  <tbody>\n",
       "    <tr>\n",
       "      <th>0</th>\n",
       "      <td>남구</td>\n",
       "      <td>128.584182</td>\n",
       "      <td>35.842793</td>\n",
       "    </tr>\n",
       "    <tr>\n",
       "      <th>1</th>\n",
       "      <td>달서구</td>\n",
       "      <td>128.529908</td>\n",
       "      <td>35.831796</td>\n",
       "    </tr>\n",
       "    <tr>\n",
       "      <th>2</th>\n",
       "      <td>달성군</td>\n",
       "      <td>128.440534</td>\n",
       "      <td>35.783484</td>\n",
       "    </tr>\n",
       "    <tr>\n",
       "      <th>3</th>\n",
       "      <td>동구</td>\n",
       "      <td>128.667273</td>\n",
       "      <td>35.889781</td>\n",
       "    </tr>\n",
       "    <tr>\n",
       "      <th>4</th>\n",
       "      <td>북구</td>\n",
       "      <td>128.584822</td>\n",
       "      <td>35.901471</td>\n",
       "    </tr>\n",
       "  </tbody>\n",
       "</table>\n",
       "</div>"
      ],
      "text/plain": [
       "  시군구명          경도         위도\n",
       "0   남구  128.584182  35.842793\n",
       "1  달서구  128.529908  35.831796\n",
       "2  달성군  128.440534  35.783484\n",
       "3   동구  128.667273  35.889781\n",
       "4   북구  128.584822  35.901471"
      ]
     },
     "execution_count": 56,
     "metadata": {},
     "output_type": "execute_result"
    }
   ],
   "source": [
    "df_gu_mean = df_cafe.pivot_table(index=\"시군구명\", values=[\"경도\", \"위도\"], aggfunc=\"mean\")\n",
    "df_gu_mean = df_gu_mean.reset_index()\n",
    "df_gu_mean.head()"
   ]
  },
  {
   "cell_type": "code",
   "execution_count": 57,
   "metadata": {},
   "outputs": [
    {
     "data": {
      "text/html": [
       "<div>\n",
       "<style scoped>\n",
       "    .dataframe tbody tr th:only-of-type {\n",
       "        vertical-align: middle;\n",
       "    }\n",
       "\n",
       "    .dataframe tbody tr th {\n",
       "        vertical-align: top;\n",
       "    }\n",
       "\n",
       "    .dataframe thead th {\n",
       "        text-align: right;\n",
       "    }\n",
       "</style>\n",
       "<table border=\"1\" class=\"dataframe\">\n",
       "  <thead>\n",
       "    <tr style=\"text-align: right;\">\n",
       "      <th></th>\n",
       "      <th>구</th>\n",
       "      <th>스타벅스</th>\n",
       "      <th>이디야</th>\n",
       "      <th>매장수비교</th>\n",
       "      <th>시군구명</th>\n",
       "      <th>경도</th>\n",
       "      <th>위도</th>\n",
       "    </tr>\n",
       "  </thead>\n",
       "  <tbody>\n",
       "    <tr>\n",
       "      <th>0</th>\n",
       "      <td>남구</td>\n",
       "      <td>3.0</td>\n",
       "      <td>5.0</td>\n",
       "      <td>0.0</td>\n",
       "      <td>남구</td>\n",
       "      <td>128.584182</td>\n",
       "      <td>35.842793</td>\n",
       "    </tr>\n",
       "    <tr>\n",
       "      <th>1</th>\n",
       "      <td>달서구</td>\n",
       "      <td>19.0</td>\n",
       "      <td>6.0</td>\n",
       "      <td>1.0</td>\n",
       "      <td>달서구</td>\n",
       "      <td>128.529908</td>\n",
       "      <td>35.831796</td>\n",
       "    </tr>\n",
       "    <tr>\n",
       "      <th>2</th>\n",
       "      <td>달성군</td>\n",
       "      <td>4.0</td>\n",
       "      <td>3.0</td>\n",
       "      <td>1.0</td>\n",
       "      <td>달성군</td>\n",
       "      <td>128.440534</td>\n",
       "      <td>35.783484</td>\n",
       "    </tr>\n",
       "    <tr>\n",
       "      <th>3</th>\n",
       "      <td>동구</td>\n",
       "      <td>7.0</td>\n",
       "      <td>4.0</td>\n",
       "      <td>1.0</td>\n",
       "      <td>동구</td>\n",
       "      <td>128.667273</td>\n",
       "      <td>35.889781</td>\n",
       "    </tr>\n",
       "    <tr>\n",
       "      <th>4</th>\n",
       "      <td>북구</td>\n",
       "      <td>6.0</td>\n",
       "      <td>8.0</td>\n",
       "      <td>0.0</td>\n",
       "      <td>북구</td>\n",
       "      <td>128.584822</td>\n",
       "      <td>35.901471</td>\n",
       "    </tr>\n",
       "  </tbody>\n",
       "</table>\n",
       "</div>"
      ],
      "text/plain": [
       "     구  스타벅스  이디야  매장수비교 시군구명          경도         위도\n",
       "0   남구   3.0  5.0    0.0   남구  128.584182  35.842793\n",
       "1  달서구  19.0  6.0    1.0  달서구  128.529908  35.831796\n",
       "2  달성군   4.0  3.0    1.0  달성군  128.440534  35.783484\n",
       "3   동구   7.0  4.0    1.0   동구  128.667273  35.889781\n",
       "4   북구   6.0  8.0    0.0   북구  128.584822  35.901471"
      ]
     },
     "execution_count": 57,
     "metadata": {},
     "output_type": "execute_result"
    }
   ],
   "source": [
    "df_vs = df_vs.merge(df_gu_mean, how='inner', left_on=\"구\", right_on=\"시군구명\")\n",
    "df_vs.head()"
   ]
  },
  {
   "cell_type": "code",
   "execution_count": null,
   "metadata": {},
   "outputs": [],
   "source": []
  }
 ],
 "metadata": {
  "kernelspec": {
   "display_name": "Python 3",
   "language": "python",
   "name": "python3"
  },
  "language_info": {
   "codemirror_mode": {
    "name": "ipython",
    "version": 3
   },
   "file_extension": ".py",
   "mimetype": "text/x-python",
   "name": "python",
   "nbconvert_exporter": "python",
   "pygments_lexer": "ipython3",
   "version": "3.8.3"
  },
  "toc": {
   "base_numbering": 1,
   "nav_menu": {},
   "number_sections": true,
   "sideBar": true,
   "skip_h1_title": false,
   "title_cell": "Table of Contents",
   "title_sidebar": "Contents",
   "toc_cell": false,
   "toc_position": {
    "height": "calc(100% - 180px)",
    "left": "10px",
    "top": "150px",
    "width": "204.8px"
   },
   "toc_section_display": true,
   "toc_window_display": true
  },
  "varInspector": {
   "cols": {
    "lenName": 16,
    "lenType": 16,
    "lenVar": 40
   },
   "kernels_config": {
    "python": {
     "delete_cmd_postfix": "",
     "delete_cmd_prefix": "del ",
     "library": "var_list.py",
     "varRefreshCmd": "print(var_dic_list())"
    },
    "r": {
     "delete_cmd_postfix": ") ",
     "delete_cmd_prefix": "rm(",
     "library": "var_list.r",
     "varRefreshCmd": "cat(var_dic_list()) "
    }
   },
   "types_to_exclude": [
    "module",
    "function",
    "builtin_function_or_method",
    "instance",
    "_Feature"
   ],
   "window_display": false
  }
 },
 "nbformat": 4,
 "nbformat_minor": 2
}
