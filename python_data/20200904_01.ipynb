{
 "cells": [
  {
   "cell_type": "code",
   "execution_count": 9,
   "metadata": {
    "tags": []
   },
   "outputs": [
    {
     "name": "stdout",
     "output_type": "stream",
     "text": [
      "동전던지기 게임시작\n",
      "뒷면\n",
      "게임종료\n"
     ]
    }
   ],
   "source": [
    "import random\n",
    "coin = random.randrange(2)\n",
    "print(\"동전던지기 게임시작\")\n",
    "if coin == 0:\n",
    "    print(\"뒷면\")\n",
    "else:\n",
    "    print(\"앞면\")\n",
    "\n",
    "print(\"게임종료\")"
   ]
  },
  {
   "cell_type": "code",
   "execution_count": 11,
   "metadata": {
    "tags": []
   },
   "outputs": [
    {
     "name": "stdout",
     "output_type": "stream",
     "text": [
      "8\n",
      "1\n",
      "8\n",
      "9\n",
      "2\n",
      "4\n",
      "10\n",
      "8\n",
      "2\n",
      "4\n"
     ]
    }
   ],
   "source": [
    "import random\n",
    "for i in range(10):\n",
    "    print(random.randint(0,10)) #0-10 사이의 값"
   ]
  },
  {
   "cell_type": "code",
   "execution_count": 16,
   "metadata": {
    "tags": []
   },
   "outputs": [
    {
     "name": "stdout",
     "output_type": "stream",
     "text": [
      "False\n",
      "1\n"
     ]
    }
   ],
   "source": [
    "import random\n",
    "choice = random.choice([True,False])\n",
    "print(choice)\n",
    "choice = random.choice([\"1\",\"2\",\"3\"])\n",
    "print(choice)"
   ]
  },
  {
   "cell_type": "code",
   "execution_count": null,
   "metadata": {},
   "outputs": [],
   "source": [
    "import random\n",
    "\n",
    "kick = int(input(\"어디를 수비하시겠어요? 1:왼쪽, 2:중앙 3:오른쪽\"))\n",
    "\n",
    "left = \"1\"\n",
    "right = \"2\"\n",
    "center = \"3\"\n",
    "\n",
    "choice = random.choice([\"1\",\"2\",\"3\"])\n",
    "if \n",
    "print(choice)\n"
   ]
  },
  {
   "cell_type": "code",
   "execution_count": 23,
   "metadata": {
    "tags": []
   },
   "outputs": [
    {
     "name": "stdout",
     "output_type": "stream",
     "text": [
      "왼쪽:왼쪽\n",
      "실패\n"
     ]
    }
   ],
   "source": [
    "import random\n",
    "option = [\"왼쪽\",\"오른쪽\",\"중앙\"]\n",
    "com_choice = random.choice(option)\n",
    "user_choice = input(\"어디를 수비하시겠어요? 왼쪽, 중앙, 오른쪽\")\n",
    "\n",
    "print(com_choice + \":\" + user_choice)\n",
    "if com_choice == user_choice:\n",
    "   print(\"실패\")\n",
    "else:\n",
    "    print(\"성공\")"
   ]
  },
  {
   "cell_type": "code",
   "execution_count": 27,
   "metadata": {
    "tags": []
   },
   "outputs": [
    {
     "name": "stdout",
     "output_type": "stream",
     "text": [
      "23\n",
      "adult\n"
     ]
    }
   ],
   "source": [
    "age = int(input(\"나이를 입력하세요 :\"))\n",
    "print (age)\n",
    "\n",
    "if age >= 20 :\n",
    "    print (\"adult\")\n",
    "elif age >10 and age <20 :\n",
    "    print(\"student\")\n",
    "else:\n",
    "    print(kid)\n",
    "\n"
   ]
  },
  {
   "cell_type": "code",
   "execution_count": 28,
   "metadata": {
    "tags": []
   },
   "outputs": [
    {
     "name": "stdout",
     "output_type": "stream",
     "text": [
      "0 1 2 3 4"
     ]
    }
   ],
   "source": [
    "for i in range(5):\n",
    "    print(i,end=\" \")"
   ]
  },
  {
   "cell_type": "code",
   "execution_count": 29,
   "metadata": {
    "tags": []
   },
   "outputs": [
    {
     "name": "stdout",
     "output_type": "stream",
     "text": [
      "1 2 3 4"
     ]
    }
   ],
   "source": [
    "for i in range(1,5): # range(시작숫자, 끝숫자)\n",
    "    print(i,end=\" \")"
   ]
  },
  {
   "cell_type": "code",
   "execution_count": 30,
   "metadata": {
    "tags": []
   },
   "outputs": [
    {
     "name": "stdout",
     "output_type": "stream",
     "text": [
      "1 3 5 7 9"
     ]
    }
   ],
   "source": [
    "for i in range(1,10,2):#range(시작 숫자, 끝숫자, 뛰어세기)\n",
    "    print(i,end=\" \")"
   ]
  },
  {
   "cell_type": "code",
   "execution_count": 31,
   "metadata": {
    "tags": []
   },
   "outputs": [
    {
     "name": "stdout",
     "output_type": "stream",
     "text": [
      "273\n",
      "32\n",
      "103\n",
      "57\n",
      "52\n"
     ]
    }
   ],
   "source": [
    "array = [273,32,103,57,52]\n",
    "for element in array:\n",
    "    print(element)"
   ]
  },
  {
   "cell_type": "code",
   "execution_count": null,
   "metadata": {},
   "outputs": [],
   "source": [
    "array = [273,32,103,57,52]\n",
    "for element in array:\n",
    "    print(element)"
   ]
  },
  {
   "cell_type": "code",
   "execution_count": 32,
   "metadata": {
    "tags": []
   },
   "outputs": [
    {
     "name": "stdout",
     "output_type": "stream",
     "text": [
      "0번째 반복:273\n",
      "1번째 반복:32\n",
      "2번째 반복:103\n",
      "3번째 반복:57\n",
      "4번째 반복:52\n"
     ]
    }
   ],
   "source": [
    "array = [273,32,103,57,52]\n",
    "for i in range(len(array)):\n",
    "    print(str(i)+\"번째 반복:\" + str(array[i]))"
   ]
  },
  {
   "cell_type": "code",
   "execution_count": 42,
   "metadata": {
    "tags": []
   },
   "outputs": [
    {
     "name": "stdout",
     "output_type": "stream",
     "text": [
      "0번째 반복: 273 0번째 반복: 273\n",
      "1번째 반복:  32 1번째 반복:  32\n",
      "2번째 반복: 103 2번째 반복: 103\n",
      "3번째 반복:  57 3번째 반복:  57\n",
      "4번째 반복:  52 4번째 반복:  52\n"
     ]
    }
   ],
   "source": [
    "array = [273,32,103,57,52]\n",
    "for i in range(len(array)):\n",
    "    print(\"%d번째 반복: %3d\"%(i,array[i]), end=\" \")\n",
    "    print(\"{}번째 반복: {:3d}\".format(i,array[i]))"
   ]
  },
  {
   "cell_type": "code",
   "execution_count": 36,
   "metadata": {
    "tags": []
   },
   "outputs": [
    {
     "name": "stdout",
     "output_type": "stream",
     "text": [
      "9 8 7 6 5 4 3 2 1 0"
     ]
    }
   ],
   "source": [
    "for i in reversed (range(10)):\n",
    "    print(i, end= \" \")"
   ]
  },
  {
   "cell_type": "code",
   "execution_count": 41,
   "metadata": {
    "tags": []
   },
   "outputs": [
    {
     "name": "stdout",
     "output_type": "stream",
     "text": [
      "0 1 2 3 4 \n",
      "end\n"
     ]
    }
   ],
   "source": [
    "for i in range(10):\n",
    "    if i == 5:\n",
    "        break\n",
    "    print(i, end=\" \")\n",
    "print()\n",
    "print(\"end\")"
   ]
  },
  {
   "cell_type": "code",
   "execution_count": 53,
   "metadata": {
    "tags": []
   },
   "outputs": [
    {
     "name": "stdout",
     "output_type": "stream",
     "text": [
      "apple\n",
      "type is string\n",
      "5\n",
      "type is integer\n",
      "banana\n",
      "type is string\n",
      "grape\n",
      "type is string\n",
      "3\n",
      "type is integer\n",
      "8\n",
      "type is integer\n",
      "6\n",
      "type is integer\n",
      "melon\n",
      "type is string\n"
     ]
    }
   ],
   "source": [
    "mixlist = ['apple',5,'banana','grape',3,8,6,'melon']\n",
    "\n",
    "for i in mixlist:\n",
    "    if str == type(i):\n",
    "        print(i)\n",
    "        print(\"type is string\")\n",
    "    \n",
    "    else:\n",
    "        print(i)\n",
    "        print(\"type is integer\")"
   ]
  },
  {
   "cell_type": "code",
   "execution_count": 44,
   "metadata": {
    "tags": []
   },
   "outputs": [
    {
     "name": "stdout",
     "output_type": "stream",
     "text": [
      "<class 'int'>\n"
     ]
    }
   ],
   "source": [
    "mixlist = ['apple',5,'banana','grape',3,8,6,'melon']\n",
    "\n",
    "a = type(mixlist[1])\n",
    "print(a)"
   ]
  },
  {
   "cell_type": "code",
   "execution_count": 54,
   "metadata": {
    "tags": []
   },
   "outputs": [
    {
     "name": "stdout",
     "output_type": "stream",
     "text": [
      "사각형의 넓이는 : 200\n"
     ]
    }
   ],
   "source": [
    "def calculate_rectangle_area(width, height):\n",
    "    return width*height\n",
    "\n",
    "rectangle_x = 10\n",
    "rectangle_y = 20\n",
    "\n",
    "area = calculate_rectangle_area(rectangle_x, rectangle_y)\n",
    "print(\"사각형의 넓이는 :\", area)\n"
   ]
  },
  {
   "cell_type": "code",
   "execution_count": 59,
   "metadata": {
    "tags": []
   },
   "outputs": [
    {
     "name": "stdout",
     "output_type": "stream",
     "text": [
      "Hello Python, my_name is Gildong\n"
     ]
    }
   ],
   "source": [
    "def print_something(my_name, your_name):\n",
    "    print(\"Hello {0}, my_name is {1}\".format(your_name,my_name))\n",
    "\n",
    "print_something(\"Gildong\",\"Python\")"
   ]
  },
  {
   "cell_type": "code",
   "execution_count": 62,
   "metadata": {
    "tags": []
   },
   "outputs": [
    {
     "name": "stdout",
     "output_type": "stream",
     "text": [
      "Hello JAVA, my_name is Gildong\n",
      "Hello Python, my_name is Gildong\n"
     ]
    }
   ],
   "source": [
    "def print_something_2(my_name, your_name=\"Python\"):\n",
    "    print(\"Hello {0}, my_name is {1}\".format(your_name,my_name))\n",
    "\n",
    "print_something_2(\"Gildong\",\"JAVA\")\n",
    "print_something_2(my_name=\"Gildong\")"
   ]
  },
  {
   "cell_type": "code",
   "execution_count": 63,
   "metadata": {
    "tags": []
   },
   "outputs": [
    {
     "name": "stdout",
     "output_type": "stream",
     "text": [
      "Hello JAVA, my_name is Gildong\n",
      "Hello Python, my_name is Gildong\n"
     ]
    }
   ],
   "source": [
    "def print_something_2(my_name, your_name=\"Python\"):\n",
    "    print(\"Hello {0}, my_name is {1}\".format(your_name,my_name))\n",
    "\n",
    "print_something_2(\"Gildong\",\"JAVA\")\n",
    "print_something_2(\"Gildong\")"
   ]
  },
  {
   "cell_type": "code",
   "execution_count": 71,
   "metadata": {
    "tags": []
   },
   "outputs": [
    {
     "ename": "TypeError",
     "evalue": "'int' object is not callable",
     "output_type": "error",
     "traceback": [
      "\u001b[1;31m---------------------------------------------------------------------------\u001b[0m",
      "\u001b[1;31mTypeError\u001b[0m                                 Traceback (most recent call last)",
      "\u001b[1;32m<ipython-input-71-751017561788>\u001b[0m in \u001b[0;36m<module>\u001b[1;34m\u001b[0m\n\u001b[0;32m      3\u001b[0m     \u001b[1;32mreturn\u001b[0m \u001b[0ma\u001b[0m\u001b[1;33m+\u001b[0m\u001b[0mb\u001b[0m\u001b[1;33m+\u001b[0m\u001b[0msum\u001b[0m\u001b[1;33m(\u001b[0m\u001b[0margs\u001b[0m\u001b[1;33m)\u001b[0m\u001b[1;33m\u001b[0m\u001b[1;33m\u001b[0m\u001b[0m\n\u001b[0;32m      4\u001b[0m \u001b[1;33m\u001b[0m\u001b[0m\n\u001b[1;32m----> 5\u001b[1;33m \u001b[0msum_array\u001b[0m \u001b[1;33m=\u001b[0m \u001b[0masterisk_test\u001b[0m \u001b[1;33m(\u001b[0m\u001b[1;36m1\u001b[0m\u001b[1;33m,\u001b[0m\u001b[1;36m3\u001b[0m\u001b[1;33m,\u001b[0m\u001b[1;36m6\u001b[0m\u001b[1;33m,\u001b[0m\u001b[1;36m7\u001b[0m\u001b[1;33m)\u001b[0m\u001b[1;33m\u001b[0m\u001b[1;33m\u001b[0m\u001b[0m\n\u001b[0m\u001b[0;32m      6\u001b[0m \u001b[0mprint\u001b[0m\u001b[1;33m(\u001b[0m\u001b[0msum_array\u001b[0m\u001b[1;33m)\u001b[0m\u001b[1;33m\u001b[0m\u001b[1;33m\u001b[0m\u001b[0m\n",
      "\u001b[1;32m<ipython-input-71-751017561788>\u001b[0m in \u001b[0;36masterisk_test\u001b[1;34m(a, b, *args)\u001b[0m\n\u001b[0;32m      1\u001b[0m \u001b[1;31m#매개변수 개수가 2개 이상이면 정상 동작\u001b[0m\u001b[1;33m\u001b[0m\u001b[1;33m\u001b[0m\u001b[1;33m\u001b[0m\u001b[0m\n\u001b[0;32m      2\u001b[0m \u001b[1;32mdef\u001b[0m \u001b[0masterisk_test\u001b[0m\u001b[1;33m(\u001b[0m\u001b[0ma\u001b[0m\u001b[1;33m,\u001b[0m\u001b[0mb\u001b[0m\u001b[1;33m,\u001b[0m\u001b[1;33m*\u001b[0m\u001b[0margs\u001b[0m\u001b[1;33m)\u001b[0m\u001b[1;33m:\u001b[0m\u001b[1;33m\u001b[0m\u001b[1;33m\u001b[0m\u001b[0m\n\u001b[1;32m----> 3\u001b[1;33m     \u001b[1;32mreturn\u001b[0m \u001b[0ma\u001b[0m\u001b[1;33m+\u001b[0m\u001b[0mb\u001b[0m\u001b[1;33m+\u001b[0m\u001b[0msum\u001b[0m\u001b[1;33m(\u001b[0m\u001b[0margs\u001b[0m\u001b[1;33m)\u001b[0m\u001b[1;33m\u001b[0m\u001b[1;33m\u001b[0m\u001b[0m\n\u001b[0m\u001b[0;32m      4\u001b[0m \u001b[1;33m\u001b[0m\u001b[0m\n\u001b[0;32m      5\u001b[0m \u001b[0msum_array\u001b[0m \u001b[1;33m=\u001b[0m \u001b[0masterisk_test\u001b[0m \u001b[1;33m(\u001b[0m\u001b[1;36m1\u001b[0m\u001b[1;33m,\u001b[0m\u001b[1;36m3\u001b[0m\u001b[1;33m,\u001b[0m\u001b[1;36m6\u001b[0m\u001b[1;33m,\u001b[0m\u001b[1;36m7\u001b[0m\u001b[1;33m)\u001b[0m\u001b[1;33m\u001b[0m\u001b[1;33m\u001b[0m\u001b[0m\n",
      "\u001b[1;31mTypeError\u001b[0m: 'int' object is not callable"
     ]
    }
   ],
   "source": [
    "#매개변수 개수가 2개 이상이면 정상 동작\n",
    "def asterisk_test(a,b,*args):\n",
    "    return a+b+sum(args)\n",
    "\n",
    "sum_array = asterisk_test (1,3,6,7)\n",
    "print(sum_array)"
   ]
  },
  {
   "cell_type": "code",
   "execution_count": 75,
   "metadata": {
    "tags": []
   },
   "outputs": [
    {
     "name": "stdout",
     "output_type": "stream",
     "text": [
      "False\n",
      "True\n"
     ]
    }
   ],
   "source": [
    "a=-6\n",
    "b=-6\n",
    "\n",
    "print(a is b)\n",
    "print (a==b)"
   ]
  },
  {
   "cell_type": "code",
   "execution_count": 79,
   "metadata": {
    "tags": []
   },
   "outputs": [
    {
     "name": "stdout",
     "output_type": "stream",
     "text": [
      "[2, 4, 6, 8, 10, 12, 14, 16, 18, 20, 22, 24, 26, 28, 30, 32, 34, 36, 38, 40, 42, 44, 46, 48, 50, 52, 54, 56, 58, 60, 62, 64, 66, 68, 70, 72, 74, 76, 78, 80, 82, 84, 86, 88, 90, 92, 94, 96, 98]\n"
     ]
    }
   ],
   "source": [
    "a_str = list(range(2,100,2))\n",
    "print(a_str)"
   ]
  },
  {
   "cell_type": "code",
   "execution_count": 82,
   "metadata": {
    "tags": []
   },
   "outputs": [
    {
     "name": "stdout",
     "output_type": "stream",
     "text": [
      "['c', 'd', 'e']\n"
     ]
    }
   ],
   "source": [
    "letters = ['A','B','c','d','e']\n",
    "print(letters[2:])"
   ]
  },
  {
   "cell_type": "code",
   "execution_count": 83,
   "metadata": {
    "tags": []
   },
   "outputs": [
    {
     "name": "stdout",
     "output_type": "stream",
     "text": [
      "['orange', 'blue', 'green']\n"
     ]
    }
   ],
   "source": [
    "color = ['red','blue','green']\n",
    "color[0] = 'orange'\n",
    "print(color)"
   ]
  },
  {
   "cell_type": "code",
   "execution_count": 103,
   "metadata": {
    "tags": []
   },
   "outputs": [
    {
     "name": "stdout",
     "output_type": "stream",
     "text": [
      "['A', 'b', 'C', 'D', 'E', 'G']\n",
      "['A', 'b', 'F', 'f', 'bear', 'E', 'G']\n"
     ]
    }
   ],
   "source": [
    "a = ['A','B','C','D','E','G']\n",
    "a[1] = 'b'\n",
    "print(a)\n",
    "a[2:4] = ['F','f','bear']\n",
    "print(a)"
   ]
  },
  {
   "cell_type": "code",
   "execution_count": 98,
   "metadata": {
    "tags": []
   },
   "outputs": [
    {
     "name": "stdout",
     "output_type": "stream",
     "text": [
      "<class 'tuple'> <class 'tuple'> <class 'set'> <class 'list'>\n"
     ]
    }
   ],
   "source": [
    "a=(1,2,3)\n",
    "a1 = 1,2,3\n",
    "b={1,2,3}\n",
    "c= [1,2,3]\n",
    "\n",
    "print(type(a),type(a1),type(b),type(c))"
   ]
  },
  {
   "cell_type": "code",
   "execution_count": 101,
   "metadata": {
    "tags": []
   },
   "outputs": [
    {
     "name": "stdout",
     "output_type": "stream",
     "text": [
      "(1, '가', 2, '나')\n",
      "[1, 3, 5, 7, 9, 11, 13]\n"
     ]
    }
   ],
   "source": [
    "a= [1,'가',2,'나']\n",
    "b= tuple(a)\n",
    "print(b)\n",
    "c= list(range(1,15,2))\n",
    "print(c)"
   ]
  },
  {
   "cell_type": "code",
   "execution_count": 106,
   "metadata": {
    "tags": []
   },
   "outputs": [
    {
     "name": "stdout",
     "output_type": "stream",
     "text": [
      "{3, 4, 5}\n"
     ]
    }
   ],
   "source": [
    "s1 = {1,2,3,4,5}\n",
    "s2 = {3,4,5,6,7}\n",
    "\n",
    "print(s1&s2)"
   ]
  },
  {
   "cell_type": "code",
   "execution_count": 110,
   "metadata": {
    "tags": []
   },
   "outputs": [
    {
     "name": "stdout",
     "output_type": "stream",
     "text": [
      "{'강감찬': '귀주대첩', '을지문덕': '살수대첩', '세종대왕': '집현전', '서희': '강동 6주'}\n",
      "{'강감찬': '귀주대첩', '을지문덕': '살수대첩', '세종대왕': '한글', '서희': '강동 6주'}\n",
      "{'강감찬': '귀주대첩', '세종대왕': '한글', '서희': '강동 6주'}\n"
     ]
    }
   ],
   "source": [
    "heros = {\"강감찬\":\"귀주대첩\", \"을지문덕\":\"살수대첩\", \"세종대왕\":\"집현전\"}\n",
    "heros[\"서희\"] = \"강동 6주\"\n",
    "\n",
    "print(heros)\n",
    "\n",
    "heros[\"세종대왕\"] = \"한글\"\n",
    "print(heros)\n",
    "\n",
    "if \"을지문덕\" in heros:\n",
    "    del heros[\"을지문덕\"]\n",
    "print(heros)\n"
   ]
  },
  {
   "cell_type": "code",
   "execution_count": 115,
   "metadata": {
    "tags": []
   },
   "outputs": [
    {
     "name": "stdout",
     "output_type": "stream",
     "text": [
      "('no', 'no', 'no')\n"
     ]
    }
   ],
   "source": [
    "a= len(\"abc\")*(\"no\",)\n",
    "print(a)"
   ]
  },
  {
   "cell_type": "code",
   "execution_count": 117,
   "metadata": {},
   "outputs": [],
   "source": [
    "f= open(\"text.txt\",'w')\n",
    "f.write(\"파이썬 월드에 오신 것을 환영합니다.\")\n",
    "f.close()"
   ]
  },
  {
   "cell_type": "code",
   "execution_count": 118,
   "metadata": {},
   "outputs": [],
   "source": [
    "with open(\"test2.txt\", \"w\") as f2:\n",
    "    f2.write(\"파이썬 월드에 오신 것을 환영합니다.2\")"
   ]
  },
  {
   "cell_type": "code",
   "execution_count": 121,
   "metadata": {},
   "outputs": [],
   "source": [
    "with open(\"test2.txt\", \"w\") as f2:\n",
    "    f2.writelines([\"파이썬 월드에 오신 것을 환영합니다.2\\n\"\n",
    "                   , \"파이썬 월드에 오신 것을 환영합니다.\\n2\"\n",
    "                   ,\"파이썬 월드에 오신 것을 환영합니다.2\"])"
   ]
  },
  {
   "cell_type": "code",
   "execution_count": null,
   "metadata": {},
   "outputs": [],
   "source": [
    "with open(\"test2.txt\", \"a\") as f2:\n",
    "    f2.writelines([\"파이썬 월드에 오신 것을 환영합니다.2\\n\"\n",
    "                   , \"파이썬 월드에 오신 것을 환영합니다.\\n2\"\n",
    "                   ,\"파이썬 월드에 오신 것을 환영합니다.2\"])"
   ]
  },
  {
   "cell_type": "code",
   "execution_count": 123,
   "metadata": {},
   "outputs": [
    {
     "ename": "SyntaxError",
     "evalue": "EOL while scanning string literal (<ipython-input-123-b5a0c360d28b>, line 3)",
     "output_type": "error",
     "traceback": [
      "\u001b[1;36m  File \u001b[1;32m\"<ipython-input-123-b5a0c360d28b>\"\u001b[1;36m, line \u001b[1;32m3\u001b[0m\n\u001b[1;33m    f.write(data)\")\u001b[0m\n\u001b[1;37m                   ^\u001b[0m\n\u001b[1;31mSyntaxError\u001b[0m\u001b[1;31m:\u001b[0m EOL while scanning string literal\n"
     ]
    }
   ],
   "source": [
    "data = \"으로 이루어지는 세상\\n\"\n",
    "with open(\"test.txt\",\"a\") as f:\n",
    "    f.write(data)\")"
   ]
  },
  {
   "cell_type": "code",
   "execution_count": null,
   "metadata": {},
   "outputs": [],
   "source": [
    "n=0\n",
    "f=open(\"test.txt\",\"a\")\n",
    "while n<10:\n",
    "    data = \"%숫자\\n\"%n\n",
    "    f.write(data)\n",
    "f.close"
   ]
  },
  {
   "cell_type": "code",
   "execution_count": 133,
   "metadata": {},
   "outputs": [],
   "source": [
    "n = 1\n",
    "with open (\"loop.txt\",\"w\", encoding=\"utf-8\") as num:\n",
    "    while n < 101:\n",
    "        data = \"%2d \"%n\n",
    "        num.write(data)\n",
    "        n += 1\n",
    "f.close()\n"
   ]
  },
  {
   "cell_type": "code",
   "execution_count": 137,
   "metadata": {},
   "outputs": [],
   "source": [
    "\n",
    "f=open(\"test.txt\",\"a\")\n",
    "f.write(\"I have a dream, a song to sing\\n\\\n",
    "To help me cope with anything\\n\\\n",
    "If you see the wonder of a fairy tale\\n\\\n",
    "You can take the future even\\n\\\n",
    "if you fail I believe in angels\\n\\\n",
    "Something good in everything\\n\")\n",
    "f.close()"
   ]
  },
  {
   "cell_type": "code",
   "execution_count": 139,
   "metadata": {
    "tags": []
   },
   "outputs": [
    {
     "name": "stdout",
     "output_type": "stream",
     "text": [
      "['I have a dream, a song to sing\\n', 'To help me cope with anything\\n', 'If you see the wonder of a fairy tale\\n', 'You can take the future even\\n', 'if you fail I believe in angels\\n', 'Something good in everything\\n', 'I have a dream, a song to sing\\n', 'To help me cope with anything\\n', 'If you see the wonder of a fairy tale\\n', 'You can take the future even\\n', 'if you fail I believe in angels\\n', 'Something good in everything\\n']\n"
     ]
    }
   ],
   "source": [
    "f=open(\"test.txt\",\"r\", encoding=\"utf-8\")\n",
    "a= f.readlines()\n",
    "print(a)\n",
    "f.close()"
   ]
  },
  {
   "cell_type": "code",
   "execution_count": 140,
   "metadata": {
    "tags": []
   },
   "outputs": [
    {
     "name": "stdout",
     "output_type": "stream",
     "text": [
      "I have a dream, a song to sing\n",
      "To help me cope with anything\n",
      "If you see the wonder of a fairy tale\n",
      "You can take the future even\n",
      "if you fail I believe in angels\n",
      "Something good in everything\n",
      "I have a dream, a song to sing\n",
      "To help me cope with anything\n",
      "If you see the wonder of a fairy tale\n",
      "You can take the future even\n",
      "if you fail I believe in angels\n",
      "Something good in everything\n",
      "\n"
     ]
    }
   ],
   "source": [
    "f=open(\"test.txt\",\"r\", encoding=\"utf-8\")\n",
    "a= f.read()\n",
    "print(a)\n",
    "f.close()"
   ]
  },
  {
   "cell_type": "code",
   "execution_count": 142,
   "metadata": {
    "tags": []
   },
   "outputs": [
    {
     "name": "stdout",
     "output_type": "stream",
     "text": [
      "I have a dream, a song to sing\n",
      "To help me cope with anything\n",
      "If you see the wonder of a fairy tale\n",
      "You can take the future even\n",
      "if you fail I believe in angels\n",
      "Something good in everything\n",
      "I have a dream, a song to sing\n",
      "To help me cope with anything\n",
      "If you see the wonder of a fairy tale\n",
      "You can take the future even\n",
      "if you fail I believe in angels\n"
     ]
    }
   ],
   "source": [
    "f=open(\"test.txt\",\"r\", encoding=\"utf-8\")\n",
    "a= f.readline()\n",
    "print(a, end =\"\")\n",
    "a= f.readline()\n",
    "print(a, end =\"\")\n",
    "a= f.readline()\n",
    "print(a, end =\"\")\n",
    "a= f.readline()\n",
    "print(a, end =\"\")\n",
    "a= f.readline()\n",
    "print(a, end =\"\")\n",
    "a= f.readline()\n",
    "print(a, end =\"\")\n",
    "a= f.readline()\n",
    "print(a, end =\"\")\n",
    "a= f.readline()\n",
    "print(a, end =\"\")\n",
    "a= f.readline()\n",
    "print(a, end =\"\")\n",
    "a= f.readline()\n",
    "print(a, end =\"\")\n",
    "a= f.readline()\n",
    "print(a, end =\"\")\n",
    "f.close()"
   ]
  },
  {
   "cell_type": "code",
   "execution_count": 143,
   "metadata": {
    "tags": []
   },
   "outputs": [
    {
     "name": "stdout",
     "output_type": "stream",
     "text": [
      "I have a dream, a song to sing\n",
      "To help me cope with anything\n",
      "If you see the wonder of a fairy tale\n",
      "You can take the future even\n",
      "if you fail I believe in angels\n",
      "Something good in everything\n",
      "I have a dream, a song to sing\n",
      "To help me cope with anything\n",
      "If you see the wonder of a fairy tale\n",
      "You can take the future even\n",
      "if you fail I believe in angels\n",
      "Something good in everything\n"
     ]
    }
   ],
   "source": [
    "f=open(\"test.txt\",\"r\", encoding=\"utf-8\")\n",
    "i = 0\n",
    "while True:\n",
    "    line = f.readline()\n",
    "    if not line:\n",
    "        break\n",
    "    print(line.replace(\"\\n\",\"\"))\n",
    "    i+=1\n",
    "f.close()"
   ]
  },
  {
   "cell_type": "code",
   "execution_count": 144,
   "metadata": {
    "tags": []
   },
   "outputs": [
    {
     "name": "stdout",
     "output_type": "stream",
     "text": [
      "총글자의 수: 378\n",
      "총단어의 수: 69\n",
      "총 줄수: 13\n"
     ]
    }
   ],
   "source": [
    "f=open(\"test.txt\",\"r\",encoding=\"utf-8\")\n",
    "contents = f.read()\n",
    "word_list = contents.split(\" \") #공백을 기준으로 나눔\n",
    "line_list = contents.split(\"\\n\")\n",
    "print(\"총글자의 수:\", len(contents))\n",
    "print(\"총단어의 수:\", len(word_list))\n",
    "print(\"총 줄수:\",len(line_list))"
   ]
  },
  {
   "cell_type": "code",
   "execution_count": 178,
   "metadata": {
    "tags": []
   },
   "outputs": [
    {
     "name": "stdout",
     "output_type": "stream",
     "text": [
      "I have a dream, a song to 1 노래\n",
      "\n",
      "I have a dream, a song to 2 노래\n",
      "\n"
     ]
    }
   ],
   "source": [
    "f=open(\"test.txt\", mode='r', encoding='utf-8')\n",
    "f_out = open(\"out_test.txt\", mode='w', encoding='utf-8')\n",
    "\n",
    "\n",
    "i=1\n",
    "while True:\n",
    "\n",
    "    contents = f.readline()\n",
    "    \n",
    "    if \"sing\" in contents:\n",
    "        print(contents.replace(\"sing\",\"%d 노래\"%i))\n",
    "        i += 1\n",
    "\n",
    "    if not contents:\n",
    "        break\n",
    "\n",
    "f.close()\n",
    "f_out.close()"
   ]
  },
  {
   "cell_type": "code",
   "execution_count": 179,
   "metadata": {
    "tags": []
   },
   "outputs": [
    {
     "name": "stdout",
     "output_type": "stream",
     "text": [
      "I have a dream, a 0) 노래 to sing\n",
      "\n",
      "I have a dream, a 1) 노래 to sing\n",
      "\n"
     ]
    }
   ],
   "source": [
    "f=open(\"test.txt\",'r',encoding='utf-8')\n",
    "f_out = open('out_test.txt',mode='w',encoding='utf-8')\n",
    "count=0\n",
    "\n",
    "while True:\n",
    "    line = f.readline()\n",
    "    if not line:\n",
    "        break\n",
    "    if 'song' in line :\n",
    "        for i in range(line.count(\"song\")):\n",
    "            line=line.replace(\"song\",'{}) 노래'.format(count),1)\n",
    "            count+=1\n",
    "        f_out.write(line)\n",
    "        print(line)\n",
    "\n",
    "f_out.close()\n",
    "f.close()"
   ]
  },
  {
   "cell_type": "code",
   "execution_count": 5,
   "metadata": {
    "tags": []
   },
   "outputs": [
    {
     "name": "stdout",
     "output_type": "stream",
     "text": [
      "파일을 찾을 수 없습니다.\n",
      "현재 체력은 300 입니다\n",
      "데미지를 몇 입었습니까?20\n"
     ]
    },
    {
     "ename": "TypeError",
     "evalue": "'>' not supported between instances of 'int' and 'str'",
     "output_type": "error",
     "traceback": [
      "\u001b[1;31m---------------------------------------------------------------------------\u001b[0m",
      "\u001b[1;31mTypeError\u001b[0m                                 Traceback (most recent call last)",
      "\u001b[1;32m<ipython-input-5-3767e504c844>\u001b[0m in \u001b[0;36m<module>\u001b[1;34m\u001b[0m\n\u001b[0;32m     18\u001b[0m \u001b[1;32mwhile\u001b[0m \u001b[1;33m(\u001b[0m\u001b[0mhp\u001b[0m\u001b[1;33m>=\u001b[0m\u001b[1;36m0\u001b[0m \u001b[1;32mor\u001b[0m \u001b[0mhp\u001b[0m\u001b[1;33m<\u001b[0m\u001b[1;36m300\u001b[0m\u001b[1;33m)\u001b[0m\u001b[1;33m:\u001b[0m\u001b[1;33m\u001b[0m\u001b[1;33m\u001b[0m\u001b[0m\n\u001b[0;32m     19\u001b[0m     \u001b[0mdamage\u001b[0m \u001b[1;33m=\u001b[0m \u001b[0minput\u001b[0m\u001b[1;33m(\u001b[0m\u001b[1;34m\"데미지를 몇 입었습니까?\"\u001b[0m\u001b[1;33m)\u001b[0m\u001b[1;33m\u001b[0m\u001b[1;33m\u001b[0m\u001b[0m\n\u001b[1;32m---> 20\u001b[1;33m     \u001b[1;32mif\u001b[0m \u001b[0mhp\u001b[0m\u001b[1;33m>\u001b[0m \u001b[0mdamage\u001b[0m\u001b[1;33m:\u001b[0m\u001b[1;33m\u001b[0m\u001b[1;33m\u001b[0m\u001b[0m\n\u001b[0m\u001b[0;32m     21\u001b[0m         \u001b[0mdamage\u001b[0m \u001b[1;33m=\u001b[0m \u001b[0mint\u001b[0m\u001b[1;33m(\u001b[0m\u001b[0mdamage\u001b[0m\u001b[1;33m)\u001b[0m\u001b[1;33m\u001b[0m\u001b[1;33m\u001b[0m\u001b[0m\n\u001b[0;32m     22\u001b[0m         \u001b[0mhp\u001b[0m \u001b[1;33m-=\u001b[0m \u001b[0mdamage\u001b[0m\u001b[1;33m\u001b[0m\u001b[1;33m\u001b[0m\u001b[0m\n",
      "\u001b[1;31mTypeError\u001b[0m: '>' not supported between instances of 'int' and 'str'"
     ]
    }
   ],
   "source": [
    "import pickle\n",
    "hp = 300\n",
    "damage=''\n",
    "\n",
    "try:\n",
    "    value = open(\"save.txt\", 'r', encoding='utf-8')\n",
    "\n",
    "except FileNotFoundError:\n",
    "    print(\"파일을 찾을 수 없습니다.\")\n",
    "\n",
    "else:\n",
    "    f.write(\"300\")\n",
    "    out_value=value.readline()\n",
    "    f.close()\n",
    "\n",
    "\n",
    "print(\"현재 체력은 %d 입니다\"%hp)\n",
    "while (hp>=0 or hp<300):\n",
    "    damage = input(\"데미지를 몇 입었습니까?\")\n",
    "    if hp> damage:\n",
    "        damage = int(damage)\n",
    "        hp -= damage\n",
    "        print(\"체력이 %d 남았습니다\"%hp)\n",
    "\n",
    "    elif hp < damage:\n",
    "        print(\"다시 입력하세요.\")\n",
    "        continue\n",
    "    elif hp == 0:\n",
    "        print(\"체력이 없습니다\")\n",
    "\n",
    "    if str(damage) == str(\"save\"):\n",
    "        save_hp = open(\"save.txt\",'w')\n",
    "        save_hp.write(hp)\n",
    "        f.close()"
   ]
  },
  {
   "cell_type": "code",
   "execution_count": 189,
   "metadata": {},
   "outputs": [
    {
     "data": {
      "text/plain": [
       "True"
      ]
     },
     "execution_count": 189,
     "metadata": {},
     "output_type": "execute_result"
    }
   ],
   "source": [
    "hp = 300\n",
    "\n",
    "damage = 0\n",
    "\n",
    "hp>damage"
   ]
  }
 ],
 "metadata": {
  "kernelspec": {
   "display_name": "Python 3",
   "language": "python",
   "name": "python3"
  },
  "language_info": {
   "codemirror_mode": {
    "name": "ipython",
    "version": 3
   },
   "file_extension": ".py",
   "mimetype": "text/x-python",
   "name": "python",
   "nbconvert_exporter": "python",
   "pygments_lexer": "ipython3",
   "version": "3.8.3"
  }
 },
 "nbformat": 4,
 "nbformat_minor": 4
}
