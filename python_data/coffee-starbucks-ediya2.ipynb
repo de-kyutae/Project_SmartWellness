{
 "cells": [
  {
   "cell_type": "markdown",
   "metadata": {},
   "source": [
    "## 필요한 라이브러리 불러오기"
   ]
  },
  {
   "cell_type": "code",
   "execution_count": 1,
   "metadata": {},
   "outputs": [],
   "source": [
    "import pandas as pd\n",
    "import numpy as np\n",
    "import seaborn as sns\n",
    "\n",
    "%matplotlib inline"
   ]
  },
  {
   "cell_type": "markdown",
   "metadata": {},
   "source": [
    "## 시각화를 위한 한글 폰트 설정하기\n",
    "\n",
    "- 한글 font 이름(family) 확인 : https://thankee.tistory.com/100"
   ]
  },
  {
   "cell_type": "code",
   "execution_count": 2,
   "metadata": {},
   "outputs": [],
   "source": [
    "# 한글폰트 설정\n",
    "import matplotlib.pyplot as plt\n",
    "\n",
    "#굴림, 맑은 고딕체는 한글 지원됨 나머지는 확인바람(거의 안됨)\n",
    "plt.rc(\"font\", family=\"Gulim\") #굴림\n",
    "#plt.rc(\"font\", family=\"Malgun Gothic\") #맑은 고딕\n",
    "plt.rc(\"axes\", unicode_minus=False)"
   ]
  },
  {
   "cell_type": "code",
   "execution_count": 3,
   "metadata": {},
   "outputs": [
    {
     "data": {
      "text/plain": [
       "<matplotlib.axes._subplots.AxesSubplot at 0x2a09da091f0>"
      ]
     },
     "execution_count": 3,
     "metadata": {},
     "output_type": "execute_result"
    },
    {
     "data": {
      "image/png": "[encoded data removed]",
      "text/plain": [
       "<Figure size 432x288 with 1 Axes>"
      ]
     },
     "metadata": {
      "needs_background": "light"
     },
     "output_type": "display_data"
    }
   ],
   "source": [
    "# 한글폰트와 마이너스 폰트 설정 확인\n",
    "\n",
    "pd.Series([-1, 0, 1, 3, 5]).plot(title=\"한글폰트\")"
   ]
  },
  {
   "cell_type": "markdown",
   "metadata": {},
   "source": [
    "## 데이터 불러오기\n",
    "* 공공데이터 포털 : https://www.data.go.kr/dataset/15012005/fileData.do"
   ]
  },
  {
   "cell_type": "code",
   "execution_count": 4,
   "metadata": {},
   "outputs": [],
   "source": [
    "# 파일을 불러와 df 라는 변수에 담습니다.\n",
    "# shape 를 통해 불러온 csv 파일의 크기를 확인합니다.\n",
    "df = pd.read_csv(\"data/상가업소정보_201912_02.csv\", encoding='utf-8', sep='|', low_memory=False)"
   ]
  },
  {
   "cell_type": "code",
   "execution_count": 5,
   "metadata": {},
   "outputs": [
    {
     "data": {
      "text/plain": [
       "'동정보'"
      ]
     },
     "execution_count": 5,
     "metadata": {},
     "output_type": "execute_result"
    }
   ],
   "source": [
    "df.columns[34]"
   ]
  },
  {
   "cell_type": "markdown",
   "metadata": {},
   "source": [
    "### 데이터 미리보기"
   ]
  },
  {
   "cell_type": "code",
   "execution_count": 6,
   "metadata": {},
   "outputs": [
    {
     "data": {
      "text/html": [
       "<div>\n",
       "<style scoped>\n",
       "    .dataframe tbody tr th:only-of-type {\n",
       "        vertical-align: middle;\n",
       "    }\n",
       "\n",
       "    .dataframe tbody tr th {\n",
       "        vertical-align: top;\n",
       "    }\n",
       "\n",
       "    .dataframe thead th {\n",
       "        text-align: right;\n",
       "    }\n",
       "</style>\n",
       "<table border=\"1\" class=\"dataframe\">\n",
       "  <thead>\n",
       "    <tr style=\"text-align: right;\">\n",
       "      <th></th>\n",
       "      <th>상가업소번호</th>\n",
       "      <th>상호명</th>\n",
       "      <th>지점명</th>\n",
       "      <th>상권업종대분류코드</th>\n",
       "      <th>상권업종대분류명</th>\n",
       "      <th>상권업종중분류코드</th>\n",
       "      <th>상권업종중분류명</th>\n",
       "      <th>상권업종소분류코드</th>\n",
       "      <th>상권업종소분류명</th>\n",
       "      <th>표준산업분류코드</th>\n",
       "      <th>...</th>\n",
       "      <th>건물관리번호</th>\n",
       "      <th>건물명</th>\n",
       "      <th>도로명주소</th>\n",
       "      <th>구우편번호</th>\n",
       "      <th>신우편번호</th>\n",
       "      <th>동정보</th>\n",
       "      <th>층정보</th>\n",
       "      <th>호정보</th>\n",
       "      <th>경도</th>\n",
       "      <th>위도</th>\n",
       "    </tr>\n",
       "  </thead>\n",
       "  <tbody>\n",
       "    <tr>\n",
       "      <th>0</th>\n",
       "      <td>19917773</td>\n",
       "      <td>대구통닭</td>\n",
       "      <td>통통치킨상인2호점</td>\n",
       "      <td>Q</td>\n",
       "      <td>음식</td>\n",
       "      <td>Q05</td>\n",
       "      <td>닭/오리요리</td>\n",
       "      <td>Q05A08</td>\n",
       "      <td>후라이드/양념치킨</td>\n",
       "      <td>I56193</td>\n",
       "      <td>...</td>\n",
       "      <td>2729011500115310012015585</td>\n",
       "      <td>NaN</td>\n",
       "      <td>대구광역시 달서구 상화북로43길 74</td>\n",
       "      <td>704370.0</td>\n",
       "      <td>42806.0</td>\n",
       "      <td>NaN</td>\n",
       "      <td>1</td>\n",
       "      <td>NaN</td>\n",
       "      <td>128.54604</td>\n",
       "      <td>35.817554</td>\n",
       "    </tr>\n",
       "  </tbody>\n",
       "</table>\n",
       "<p>1 rows × 39 columns</p>\n",
       "</div>"
      ],
      "text/plain": [
       "     상가업소번호   상호명        지점명 상권업종대분류코드 상권업종대분류명 상권업종중분류코드 상권업종중분류명 상권업종소분류코드  \\\n",
       "0  19917773  대구통닭  통통치킨상인2호점         Q       음식       Q05   닭/오리요리    Q05A08   \n",
       "\n",
       "    상권업종소분류명 표준산업분류코드  ...                     건물관리번호  건물명  \\\n",
       "0  후라이드/양념치킨   I56193  ...  2729011500115310012015585  NaN   \n",
       "\n",
       "                  도로명주소     구우편번호    신우편번호  동정보 층정보  호정보         경도         위도  \n",
       "0  대구광역시 달서구 상화북로43길 74  704370.0  42806.0  NaN   1  NaN  128.54604  35.817554  \n",
       "\n",
       "[1 rows x 39 columns]"
      ]
     },
     "execution_count": 6,
     "metadata": {},
     "output_type": "execute_result"
    }
   ],
   "source": [
    "df.head(1)"
   ]
  },
  {
   "cell_type": "markdown",
   "metadata": {},
   "source": [
    "### info 보기"
   ]
  },
  {
   "cell_type": "code",
   "execution_count": 7,
   "metadata": {
    "scrolled": false
   },
   "outputs": [
    {
     "name": "stdout",
     "output_type": "stream",
     "text": [
      "<class 'pandas.core.frame.DataFrame'>\n",
      "RangeIndex: 528311 entries, 0 to 528310\n",
      "Data columns (total 39 columns):\n",
      " #   Column     Non-Null Count   Dtype  \n",
      "---  ------     --------------   -----  \n",
      " 0   상가업소번호     528311 non-null  int64  \n",
      " 1   상호명        528311 non-null  object \n",
      " 2   지점명        63168 non-null   object \n",
      " 3   상권업종대분류코드  528311 non-null  object \n",
      " 4   상권업종대분류명   528311 non-null  object \n",
      " 5   상권업종중분류코드  528311 non-null  object \n",
      " 6   상권업종중분류명   528311 non-null  object \n",
      " 7   상권업종소분류코드  528311 non-null  object \n",
      " 8   상권업종소분류명   528311 non-null  object \n",
      " 9   표준산업분류코드   496133 non-null  object \n",
      " 10  표준산업분류명    496133 non-null  object \n",
      " 11  시도코드       528311 non-null  int64  \n",
      " 12  시도명        528311 non-null  object \n",
      " 13  시군구코드      528311 non-null  int64  \n",
      " 14  시군구명       528311 non-null  object \n",
      " 15  행정동코드      528311 non-null  int64  \n",
      " 16  행정동명       528311 non-null  object \n",
      " 17  법정동코드      528311 non-null  int64  \n",
      " 18  법정동명       528311 non-null  object \n",
      " 19  지번코드       528311 non-null  int64  \n",
      " 20  대지구분코드     528311 non-null  int64  \n",
      " 21  대지구분명      528311 non-null  object \n",
      " 22  지번본번지      528311 non-null  int64  \n",
      " 23  지번부번지      428134 non-null  float64\n",
      " 24  지번주소       528311 non-null  object \n",
      " 25  도로명코드      528311 non-null  int64  \n",
      " 26  도로명        528311 non-null  object \n",
      " 27  건물본번지      528311 non-null  int64  \n",
      " 28  건물부번지      84804 non-null   float64\n",
      " 29  건물관리번호     528311 non-null  object \n",
      " 30  건물명        171082 non-null  object \n",
      " 31  도로명주소      528311 non-null  object \n",
      " 32  구우편번호      528248 non-null  float64\n",
      " 33  신우편번호      528295 non-null  float64\n",
      " 34  동정보        52436 non-null   object \n",
      " 35  층정보        247826 non-null  object \n",
      " 36  호정보        93625 non-null   object \n",
      " 37  경도         528311 non-null  float64\n",
      " 38  위도         528311 non-null  float64\n",
      "dtypes: float64(6), int64(10), object(23)\n",
      "memory usage: 157.2+ MB\n"
     ]
    }
   ],
   "source": [
    "# info 를 사용하면 데이터의 전체적인 정보를 볼 수 있습니다.\n",
    "# 데이터의 사이즈, 타입, 메모리 사용량 등을 볼 수 있습니다.\n",
    "\n",
    "df.info()"
   ]
  },
  {
   "cell_type": "markdown",
   "metadata": {},
   "source": [
    "### 결측치 보기"
   ]
  },
  {
   "cell_type": "code",
   "execution_count": 8,
   "metadata": {},
   "outputs": [
    {
     "data": {
      "text/plain": [
       "<matplotlib.axes._subplots.AxesSubplot at 0x2a09e1676a0>"
      ]
     },
     "execution_count": 8,
     "metadata": {},
     "output_type": "execute_result"
    },
    {
     "data": {
      "image/png": "[encoded data removed]",
      "text/plain": [
       "<Figure size 576x864 with 1 Axes>"
      ]
     },
     "metadata": {
      "needs_background": "light"
     },
     "output_type": "display_data"
    }
   ],
   "source": [
    "# isnull() 을 사용하면 데이터의 결측치를 볼 수 있습니다.\n",
    "# 결측치는 True로 값이 있다면 False로 표시되는데 True 는 1과 같기 때문에 \n",
    "# True 값을 sum()을 사용해서 더하게 되면 합계를 볼 수 있습니다.\n",
    "df.isnull().sum().plot.barh(figsize=(8, 12))"
   ]
  },
  {
   "cell_type": "markdown",
   "metadata": {},
   "source": [
    "### 사용하지 않는 컬럼 제거하기"
   ]
  },
  {
   "cell_type": "code",
   "execution_count": 9,
   "metadata": {},
   "outputs": [
    {
     "data": {
      "text/plain": [
       "(528311, 11)"
      ]
     },
     "execution_count": 9,
     "metadata": {},
     "output_type": "execute_result"
    }
   ],
   "source": [
    "# drop을 하는 방법도 있지만 사용할 컬럼만 따로 모아서 보는 방법도 있습니다.\n",
    "# 여기에서는 사용할 컬럼만 따로 모아서 사용합니다.\n",
    "columns = ['상호명', '상권업종대분류명', '상권업종중분류명', '상권업종소분류명', \n",
    "           '시도명', '시군구명', '행정동명', '법정동명', '도로명주소', \n",
    "           '경도', '위도']\n",
    "\n",
    "df = df[columns].copy()\n",
    "df.shape"
   ]
  },
  {
   "cell_type": "code",
   "execution_count": 10,
   "metadata": {},
   "outputs": [
    {
     "name": "stdout",
     "output_type": "stream",
     "text": [
      "<class 'pandas.core.frame.DataFrame'>\n",
      "RangeIndex: 528311 entries, 0 to 528310\n",
      "Data columns (total 11 columns):\n",
      " #   Column    Non-Null Count   Dtype  \n",
      "---  ------    --------------   -----  \n",
      " 0   상호명       528311 non-null  object \n",
      " 1   상권업종대분류명  528311 non-null  object \n",
      " 2   상권업종중분류명  528311 non-null  object \n",
      " 3   상권업종소분류명  528311 non-null  object \n",
      " 4   시도명       528311 non-null  object \n",
      " 5   시군구명      528311 non-null  object \n",
      " 6   행정동명      528311 non-null  object \n",
      " 7   법정동명      528311 non-null  object \n",
      " 8   도로명주소     528311 non-null  object \n",
      " 9   경도        528311 non-null  float64\n",
      " 10  위도        528311 non-null  float64\n",
      "dtypes: float64(2), object(9)\n",
      "memory usage: 44.3+ MB\n"
     ]
    }
   ],
   "source": [
    "# 제거 후 메모리 사용량 보기\n",
    "df.info()"
   ]
  },
  {
   "cell_type": "markdown",
   "metadata": {},
   "source": [
    "## 색인으로 서브셋 가져오기"
   ]
  },
  {
   "cell_type": "markdown",
   "metadata": {},
   "source": [
    "### 대구만 따로 보기"
   ]
  },
  {
   "cell_type": "code",
   "execution_count": 11,
   "metadata": {},
   "outputs": [
    {
     "data": {
      "text/plain": [
       "(129875, 11)"
      ]
     },
     "execution_count": 11,
     "metadata": {},
     "output_type": "execute_result"
    }
   ],
   "source": [
    "# 시도명이 대구 시작하는 데이터만 봅니다.\n",
    "# 또, df_daegu 이라는 변수에 결과를 저장합니다.\n",
    "# 새로운 변수에 데이터프레임을 할당할 때 copy()를 사용하는 것을 권장합니다.\n",
    "df_daegu = df[df[\"시도명\"] == \"대구광역시\"].copy()\n",
    "df_daegu.shape"
   ]
  },
  {
   "cell_type": "markdown",
   "metadata": {},
   "source": [
    "### 일부 텍스트가 들어가는 데이터만 가져오기\n",
    "* 상호명에서 브랜드명을 추출합니다.\n",
    "* 대소문자가 섞여 있을 수도 있기 때문에 대소문자를 변환해 줍니다.\n",
    "* 스타벅스의 영문명은 STARBUCKS, 이디야는 EDIYA 입니다.\n",
    "\n",
    "* https://pandas.pydata.org/docs/user_guide/text.html#testing-for-strings-that-match-or-contain-a-pattern"
   ]
  },
  {
   "cell_type": "code",
   "execution_count": 12,
   "metadata": {},
   "outputs": [],
   "source": [
    "# 문자열의 소문자로 변경하는 메소드를 사용합니다.\n",
    "# \"상호명_소문자\" 컬럼을 만듭니다.\n",
    "df_daegu[\"상호명_소문자\"] = df_daegu[\"상호명\"].str.lower()"
   ]
  },
  {
   "cell_type": "code",
   "execution_count": 53,
   "metadata": {},
   "outputs": [
    {
     "data": {
      "text/plain": [
       "16270       이디아커피시지점\n",
       "67297          이디야커피\n",
       "70134          이디야커피\n",
       "75944           코이디아\n",
       "85299          이디야커피\n",
       "110825         이디야커피\n",
       "128237         이디야커피\n",
       "136776          코이디아\n",
       "164361        이디야이마트\n",
       "307802         이디야커피\n",
       "310411         이디아까페\n",
       "315086         이디야커피\n",
       "315155         이디야커피\n",
       "325123         이디야커피\n",
       "337221         이디야커피\n",
       "339601         이디야커피\n",
       "343355         이디야커피\n",
       "373954         이디야커피\n",
       "376872         이디야커피\n",
       "381899    이디야커피대구종로점\n",
       "383090         이디야커피\n",
       "391974     이디야커피대명동점\n",
       "400241    이디야커피대구봉덕점\n",
       "401564         이디야커피\n",
       "403762         이디야커피\n",
       "405304         이디야커피\n",
       "406076         이디야커피\n",
       "408164         이디야커피\n",
       "408701         이디야커피\n",
       "411412         이디야커피\n",
       "412400         이디야커피\n",
       "412855         이디야커피\n",
       "428415    이디야커피대구송현점\n",
       "438357         이디야커피\n",
       "439890         이디야커피\n",
       "442241         이디야커피\n",
       "489054         이디야커피\n",
       "494386         이디야커피\n",
       "512351         이디야커피\n",
       "Name: 상호명_소문자, dtype: object"
      ]
     },
     "execution_count": 53,
     "metadata": {},
     "output_type": "execute_result"
    }
   ],
   "source": [
    "# ediya 를 \"상호명_소문자\" 컬럼으로 가져옵니다.\n",
    "# '상호명_소문자'컬럼으로 '이디야|ediya' 를 가져와 갯수를 세어봅니다.\n",
    "# loc[행]\n",
    "# loc[행, 열]\n",
    "\n",
    "df_daegu.loc[df_daegu[\"상호명_소문자\"].str.contains(\"이디야|이디아|ediya\"), \"상호명_소문자\"]"
   ]
  },
  {
   "cell_type": "code",
   "execution_count": 14,
   "metadata": {},
   "outputs": [
    {
     "data": {
      "text/plain": [
       "(39,)"
      ]
     },
     "execution_count": 14,
     "metadata": {},
     "output_type": "execute_result"
    }
   ],
   "source": [
    "df_daegu.loc[df_daegu[\"상호명_소문자\"].str.contains(\"이디야|이디아|ediya\"), \"상호명_소문자\"].shape"
   ]
  },
  {
   "cell_type": "code",
   "execution_count": 52,
   "metadata": {},
   "outputs": [
    {
     "data": {
      "text/plain": [
       "30554     스타벅스동성로중앙점\n",
       "31198      스타벅스대구법원점\n",
       "31464           스타벅스\n",
       "41627           스타벅스\n",
       "53418           스타벅스\n",
       "             ...    \n",
       "488632          스타벅스\n",
       "493976          스타벅스\n",
       "495284          스타벅스\n",
       "495807          스타벅스\n",
       "517180          스타벅스\n",
       "Name: 상호명_소문자, Length: 77, dtype: object"
      ]
     },
     "execution_count": 52,
     "metadata": {},
     "output_type": "execute_result"
    }
   ],
   "source": [
    "# 상호명에서 스타벅스만 가져옵니다.\n",
    "# 상호명은 소문자로 변경해 준 컬럼을 사용합니다.\n",
    "# 스타벅스|starbucks 의 \"상호명_소문자\"로 갯수를 세어봅니다.\n",
    "\n",
    "df_daegu.loc[df_daegu[\"상호명_소문자\"].str.contains(\"스타벅스|starbucks\"), \"상호명_소문자\"]"
   ]
  },
  {
   "cell_type": "code",
   "execution_count": 16,
   "metadata": {},
   "outputs": [
    {
     "data": {
      "text/plain": [
       "(77,)"
      ]
     },
     "execution_count": 16,
     "metadata": {},
     "output_type": "execute_result"
    }
   ],
   "source": [
    "df_daegu.loc[df_daegu[\"상호명_소문자\"].str.contains(\"스타벅스|starbucks\"), \"상호명_소문자\"].shape"
   ]
  },
  {
   "cell_type": "code",
   "execution_count": 17,
   "metadata": {},
   "outputs": [
    {
     "data": {
      "text/plain": [
       "(116, 12)"
      ]
     },
     "execution_count": 17,
     "metadata": {},
     "output_type": "execute_result"
    }
   ],
   "source": [
    "# '상호명_소문자'컬럼으로  '스타벅스|starbucks|이디야|이디아|ediya'를 가져와 df_cafe 변수에 담습니다.\n",
    "df_cafe = df_daegu[df_daegu[\"상호명_소문자\"].str.contains('스타벅스|starbucks|이디야|이디아|ediya')].copy()\n",
    "df_cafe.shape"
   ]
  },
  {
   "cell_type": "code",
   "execution_count": 18,
   "metadata": {},
   "outputs": [
    {
     "data": {
      "text/html": [
       "<div>\n",
       "<style scoped>\n",
       "    .dataframe tbody tr th:only-of-type {\n",
       "        vertical-align: middle;\n",
       "    }\n",
       "\n",
       "    .dataframe tbody tr th {\n",
       "        vertical-align: top;\n",
       "    }\n",
       "\n",
       "    .dataframe thead th {\n",
       "        text-align: right;\n",
       "    }\n",
       "</style>\n",
       "<table border=\"1\" class=\"dataframe\">\n",
       "  <thead>\n",
       "    <tr style=\"text-align: right;\">\n",
       "      <th></th>\n",
       "      <th>상호명_소문자</th>\n",
       "      <th>브랜드명</th>\n",
       "    </tr>\n",
       "  </thead>\n",
       "  <tbody>\n",
       "    <tr>\n",
       "      <th>16270</th>\n",
       "      <td>이디아커피시지점</td>\n",
       "      <td>이디야</td>\n",
       "    </tr>\n",
       "    <tr>\n",
       "      <th>30554</th>\n",
       "      <td>스타벅스동성로중앙점</td>\n",
       "      <td>스타벅스</td>\n",
       "    </tr>\n",
       "    <tr>\n",
       "      <th>31198</th>\n",
       "      <td>스타벅스대구법원점</td>\n",
       "      <td>스타벅스</td>\n",
       "    </tr>\n",
       "    <tr>\n",
       "      <th>31464</th>\n",
       "      <td>스타벅스</td>\n",
       "      <td>스타벅스</td>\n",
       "    </tr>\n",
       "    <tr>\n",
       "      <th>41627</th>\n",
       "      <td>스타벅스</td>\n",
       "      <td>스타벅스</td>\n",
       "    </tr>\n",
       "  </tbody>\n",
       "</table>\n",
       "</div>"
      ],
      "text/plain": [
       "          상호명_소문자  브랜드명\n",
       "16270    이디아커피시지점   이디야\n",
       "30554  스타벅스동성로중앙점  스타벅스\n",
       "31198   스타벅스대구법원점  스타벅스\n",
       "31464        스타벅스  스타벅스\n",
       "41627        스타벅스  스타벅스"
      ]
     },
     "execution_count": 18,
     "metadata": {},
     "output_type": "execute_result"
    }
   ],
   "source": [
    "# ~은 not을 의미합니다. 스타벅스가 아닌 데이터는 이디야로 넣어주어도 되지만\n",
    "# 아래 코드처럼 결측치를 이디야로 채워줘도 괜찮습니다.\n",
    "# df_cafe.loc[~df_cafe['상호명'].str.contains('스타벅스|starbucks'), '브랜드명'] = '이디야'\n",
    "\n",
    "df_cafe.loc[df_cafe[\"상호명_소문자\"].str.contains('스타벅스|starbucks'), \"브랜드명\"] = \"스타벅스\"\n",
    "df_cafe.loc[~df_cafe[\"상호명_소문자\"].str.contains('스타벅스|starbucks'), \"브랜드명\"] = \"이디야\"\n",
    "df_cafe[[\"상호명_소문자\", \"브랜드명\"]].head()"
   ]
  },
  {
   "cell_type": "code",
   "execution_count": 19,
   "metadata": {},
   "outputs": [
    {
     "data": {
      "text/html": [
       "<div>\n",
       "<style scoped>\n",
       "    .dataframe tbody tr th:only-of-type {\n",
       "        vertical-align: middle;\n",
       "    }\n",
       "\n",
       "    .dataframe tbody tr th {\n",
       "        vertical-align: top;\n",
       "    }\n",
       "\n",
       "    .dataframe thead th {\n",
       "        text-align: right;\n",
       "    }\n",
       "</style>\n",
       "<table border=\"1\" class=\"dataframe\">\n",
       "  <thead>\n",
       "    <tr style=\"text-align: right;\">\n",
       "      <th></th>\n",
       "      <th>상호명</th>\n",
       "      <th>브랜드명</th>\n",
       "    </tr>\n",
       "  </thead>\n",
       "  <tbody>\n",
       "    <tr>\n",
       "      <th>494386</th>\n",
       "      <td>이디야커피</td>\n",
       "      <td>이디야</td>\n",
       "    </tr>\n",
       "    <tr>\n",
       "      <th>495284</th>\n",
       "      <td>스타벅스</td>\n",
       "      <td>스타벅스</td>\n",
       "    </tr>\n",
       "    <tr>\n",
       "      <th>495807</th>\n",
       "      <td>스타벅스</td>\n",
       "      <td>스타벅스</td>\n",
       "    </tr>\n",
       "    <tr>\n",
       "      <th>512351</th>\n",
       "      <td>이디야커피</td>\n",
       "      <td>이디야</td>\n",
       "    </tr>\n",
       "    <tr>\n",
       "      <th>517180</th>\n",
       "      <td>스타벅스</td>\n",
       "      <td>스타벅스</td>\n",
       "    </tr>\n",
       "  </tbody>\n",
       "</table>\n",
       "</div>"
      ],
      "text/plain": [
       "          상호명  브랜드명\n",
       "494386  이디야커피   이디야\n",
       "495284   스타벅스  스타벅스\n",
       "495807   스타벅스  스타벅스\n",
       "512351  이디야커피   이디야\n",
       "517180   스타벅스  스타벅스"
      ]
     },
     "execution_count": 19,
     "metadata": {},
     "output_type": "execute_result"
    }
   ],
   "source": [
    "# df_cafe에 담긴 상호명','브랜드명'으로 미리보기를 합니다.\n",
    "\n",
    "df_cafe[[\"상호명\", \"브랜드명\"]].tail()"
   ]
  },
  {
   "cell_type": "markdown",
   "metadata": {},
   "source": [
    "### 시각화\n",
    "#### 분류별 countplot 그리기"
   ]
  },
  {
   "cell_type": "code",
   "execution_count": 20,
   "metadata": {},
   "outputs": [
    {
     "data": {
      "text/plain": [
       "<matplotlib.axes._subplots.AxesSubplot at 0x2a09e4c4730>"
      ]
     },
     "execution_count": 20,
     "metadata": {},
     "output_type": "execute_result"
    },
    {
     "data": {
      "image/png": "[encoded data removed]",
      "text/plain": [
       "<Figure size 432x288 with 1 Axes>"
      ]
     },
     "metadata": {
      "needs_background": "light"
     },
     "output_type": "display_data"
    }
   ],
   "source": [
    "# \"상권업중분류명\"을 countplot 으로 시각화하고 분류 혹은 데이터가 잘못 색인된 데이터가 있는지 봅니다.\n",
    "df_cafe[\"상권업종중분류명\"].value_counts().plot.barh()"
   ]
  },
  {
   "cell_type": "code",
   "execution_count": 21,
   "metadata": {},
   "outputs": [
    {
     "name": "stdout",
     "output_type": "stream",
     "text": [
      "(116, 13)\n"
     ]
    },
    {
     "data": {
      "text/plain": [
       "(114, 13)"
      ]
     },
     "execution_count": 21,
     "metadata": {},
     "output_type": "execute_result"
    }
   ],
   "source": [
    "print(df_cafe.shape)\n",
    "df_cafe = df_cafe[df_cafe[\"상권업종중분류명\"] == \"커피점/카페\"].copy()\n",
    "df_cafe.shape"
   ]
  },
  {
   "cell_type": "code",
   "execution_count": 22,
   "metadata": {},
   "outputs": [
    {
     "data": {
      "text/plain": [
       "스타벅스    77\n",
       "이디야     37\n",
       "Name: 브랜드명, dtype: int64"
      ]
     },
     "execution_count": 22,
     "metadata": {},
     "output_type": "execute_result"
    }
   ],
   "source": [
    "# 브랜드명으로 각 카페의 갯수를 세어봅니다.\n",
    "\n",
    "df_cafe[\"브랜드명\"].value_counts()"
   ]
  },
  {
   "cell_type": "code",
   "execution_count": 23,
   "metadata": {},
   "outputs": [
    {
     "data": {
      "text/plain": [
       "<matplotlib.axes._subplots.AxesSubplot at 0x2a09f488070>"
      ]
     },
     "execution_count": 23,
     "metadata": {},
     "output_type": "execute_result"
    },
    {
     "data": {
      "image/png": "[encoded data removed]",
      "text/plain": [
       "<Figure size 432x288 with 1 Axes>"
      ]
     },
     "metadata": {
      "needs_background": "light"
     },
     "output_type": "display_data"
    }
   ],
   "source": [
    "# 브랜드명을 막대그래프로 그려봅니다.\n",
    "\n",
    "sns.countplot(data=df_cafe, x=\"브랜드명\")"
   ]
  },
  {
   "cell_type": "code",
   "execution_count": 24,
   "metadata": {},
   "outputs": [
    {
     "data": {
      "text/plain": [
       "<matplotlib.axes._subplots.AxesSubplot at 0x2a09f4e49d0>"
      ]
     },
     "execution_count": 24,
     "metadata": {},
     "output_type": "execute_result"
    },
    {
     "data": {
      "image/png": "[encoded data removed]",
      "text/plain": [
       "<Figure size 1080x288 with 1 Axes>"
      ]
     },
     "metadata": {
      "needs_background": "light"
     },
     "output_type": "display_data"
    }
   ],
   "source": [
    "plt.figure(figsize=(15, 4))\n",
    "sns.countplot(data=df_cafe, x=\"시군구명\", hue=\"브랜드명\")"
   ]
  },
  {
   "cell_type": "markdown",
   "metadata": {},
   "source": [
    "#### scatterplot 그리기\n",
    "* https://pandas.pydata.org/pandas-docs/stable/user_guide/visualization.html#scatter-plot"
   ]
  },
  {
   "cell_type": "code",
   "execution_count": 25,
   "metadata": {},
   "outputs": [
    {
     "data": {
      "text/plain": [
       "<matplotlib.axes._subplots.AxesSubplot at 0x2a09f579100>"
      ]
     },
     "execution_count": 25,
     "metadata": {},
     "output_type": "execute_result"
    },
    {
     "data": {
      "image/png": "[encoded data removed]",
      "text/plain": [
       "<Figure size 432x288 with 1 Axes>"
      ]
     },
     "metadata": {
      "needs_background": "light"
     },
     "output_type": "display_data"
    }
   ],
   "source": [
    "# pandas로 scatterplot을 그려봅니다.\n",
    "\n",
    "df_cafe[[\"위도\", \"경도\"]].plot.scatter(x=\"경도\", y=\"위도\")"
   ]
  },
  {
   "cell_type": "code",
   "execution_count": 26,
   "metadata": {
    "scrolled": false
   },
   "outputs": [
    {
     "data": {
      "text/plain": [
       "<matplotlib.axes._subplots.AxesSubplot at 0x2a09f5e0ca0>"
      ]
     },
     "execution_count": 26,
     "metadata": {},
     "output_type": "execute_result"
    },
    {
     "data": {
      "image/png": "[encoded data removed]",
      "text/plain": [
       "<Figure size 432x288 with 1 Axes>"
      ]
     },
     "metadata": {
      "needs_background": "light"
     },
     "output_type": "display_data"
    }
   ],
   "source": [
    "# seaborn의 scatterplot 으로 hue에 브랜드명을 지정해서 시각화 합니다.\n",
    "sns.scatterplot(data=df_cafe, x=\"경도\", y=\"위도\", hue=\"브랜드명\")"
   ]
  },
  {
   "cell_type": "markdown",
   "metadata": {},
   "source": [
    "#### jointplot 그리기"
   ]
  },
  {
   "cell_type": "code",
   "execution_count": 27,
   "metadata": {},
   "outputs": [
    {
     "data": {
      "text/plain": [
       "<seaborn.axisgrid.JointGrid at 0x2a0a09f1760>"
      ]
     },
     "execution_count": 27,
     "metadata": {},
     "output_type": "execute_result"
    },
    {
     "data": {
      "image/png": "[encoded data removed]",
      "text/plain": [
       "<Figure size 432x432 with 3 Axes>"
      ]
     },
     "metadata": {
      "needs_background": "light"
     },
     "output_type": "display_data"
    }
   ],
   "source": [
    "# jointplot 그리기\n",
    "sns.jointplot(data=df_cafe, x=\"경도\", y=\"위도\", kind=\"kde\" )"
   ]
  },
  {
   "cell_type": "markdown",
   "metadata": {},
   "source": [
    "## 구별 브랜드별 점포수\n",
    "### groupby 와 pivot_table 로 구별 스타벅스, 이디야 매장 수 구하기\n",
    "#### groupby 로 구별 매장수 구하기"
   ]
  },
  {
   "cell_type": "code",
   "execution_count": 28,
   "metadata": {},
   "outputs": [
    {
     "data": {
      "text/plain": [
       "시군구명  브랜드명\n",
       "남구    스타벅스     3\n",
       "      이디야      5\n",
       "달서구   스타벅스    19\n",
       "      이디야      6\n",
       "달성군   스타벅스     4\n",
       "Name: 상호명, dtype: int64"
      ]
     },
     "execution_count": 28,
     "metadata": {},
     "output_type": "execute_result"
    }
   ],
   "source": [
    "# 구별로 브랜드별 점포수를 구합니다.\n",
    "# groupby 를 사용하면 구별로 그룹화 해서 점포수를 구할 수 있습니다.\n",
    "# 그룹화한 결과를 df_cafe_vs 변수에 담아서 재사용합니다.\n",
    "\n",
    "df_cafe_vs = df_cafe.groupby([\"시군구명\", \"브랜드명\"])[\"상호명\"].count()\n",
    "df_cafe_vs.head()"
   ]
  },
  {
   "cell_type": "code",
   "execution_count": 29,
   "metadata": {},
   "outputs": [
    {
     "data": {
      "text/html": [
       "<div>\n",
       "<style scoped>\n",
       "    .dataframe tbody tr th:only-of-type {\n",
       "        vertical-align: middle;\n",
       "    }\n",
       "\n",
       "    .dataframe tbody tr th {\n",
       "        vertical-align: top;\n",
       "    }\n",
       "\n",
       "    .dataframe thead th {\n",
       "        text-align: right;\n",
       "    }\n",
       "</style>\n",
       "<table border=\"1\" class=\"dataframe\">\n",
       "  <thead>\n",
       "    <tr style=\"text-align: right;\">\n",
       "      <th></th>\n",
       "      <th></th>\n",
       "      <th>상호명</th>\n",
       "    </tr>\n",
       "    <tr>\n",
       "      <th>시군구명</th>\n",
       "      <th>브랜드명</th>\n",
       "      <th></th>\n",
       "    </tr>\n",
       "  </thead>\n",
       "  <tbody>\n",
       "    <tr>\n",
       "      <th rowspan=\"2\" valign=\"top\">남구</th>\n",
       "      <th>스타벅스</th>\n",
       "      <td>3</td>\n",
       "    </tr>\n",
       "    <tr>\n",
       "      <th>이디야</th>\n",
       "      <td>5</td>\n",
       "    </tr>\n",
       "    <tr>\n",
       "      <th rowspan=\"2\" valign=\"top\">달서구</th>\n",
       "      <th>스타벅스</th>\n",
       "      <td>19</td>\n",
       "    </tr>\n",
       "    <tr>\n",
       "      <th>이디야</th>\n",
       "      <td>6</td>\n",
       "    </tr>\n",
       "    <tr>\n",
       "      <th>달성군</th>\n",
       "      <th>스타벅스</th>\n",
       "      <td>4</td>\n",
       "    </tr>\n",
       "  </tbody>\n",
       "</table>\n",
       "</div>"
      ],
      "text/plain": [
       "           상호명\n",
       "시군구명 브랜드명     \n",
       "남구   스타벅스    3\n",
       "     이디야     5\n",
       "달서구  스타벅스   19\n",
       "     이디야     6\n",
       "달성군  스타벅스    4"
      ]
     },
     "execution_count": 29,
     "metadata": {},
     "output_type": "execute_result"
    }
   ],
   "source": [
    "df_cafe_vs.to_frame().head()"
   ]
  },
  {
   "cell_type": "code",
   "execution_count": 30,
   "metadata": {
    "scrolled": true
   },
   "outputs": [
    {
     "data": {
      "text/html": [
       "<div>\n",
       "<style scoped>\n",
       "    .dataframe tbody tr th:only-of-type {\n",
       "        vertical-align: middle;\n",
       "    }\n",
       "\n",
       "    .dataframe tbody tr th {\n",
       "        vertical-align: top;\n",
       "    }\n",
       "\n",
       "    .dataframe thead th {\n",
       "        text-align: right;\n",
       "    }\n",
       "</style>\n",
       "<table border=\"1\" class=\"dataframe\">\n",
       "  <thead>\n",
       "    <tr style=\"text-align: right;\">\n",
       "      <th></th>\n",
       "      <th>시군구명</th>\n",
       "      <th>브랜드명</th>\n",
       "      <th>상호명</th>\n",
       "    </tr>\n",
       "  </thead>\n",
       "  <tbody>\n",
       "    <tr>\n",
       "      <th>0</th>\n",
       "      <td>남구</td>\n",
       "      <td>스타벅스</td>\n",
       "      <td>3</td>\n",
       "    </tr>\n",
       "    <tr>\n",
       "      <th>1</th>\n",
       "      <td>남구</td>\n",
       "      <td>이디야</td>\n",
       "      <td>5</td>\n",
       "    </tr>\n",
       "    <tr>\n",
       "      <th>2</th>\n",
       "      <td>달서구</td>\n",
       "      <td>스타벅스</td>\n",
       "      <td>19</td>\n",
       "    </tr>\n",
       "    <tr>\n",
       "      <th>3</th>\n",
       "      <td>달서구</td>\n",
       "      <td>이디야</td>\n",
       "      <td>6</td>\n",
       "    </tr>\n",
       "    <tr>\n",
       "      <th>4</th>\n",
       "      <td>달성군</td>\n",
       "      <td>스타벅스</td>\n",
       "      <td>4</td>\n",
       "    </tr>\n",
       "  </tbody>\n",
       "</table>\n",
       "</div>"
      ],
      "text/plain": [
       "  시군구명  브랜드명  상호명\n",
       "0   남구  스타벅스    3\n",
       "1   남구   이디야    5\n",
       "2  달서구  스타벅스   19\n",
       "3  달서구   이디야    6\n",
       "4  달성군  스타벅스    4"
      ]
     },
     "execution_count": 30,
     "metadata": {},
     "output_type": "execute_result"
    }
   ],
   "source": [
    "# reset_index 로 인덱스를 컬럼으로 만듭니다.\n",
    "df_cafe_vs = df_cafe_vs.reset_index()\n",
    "df_cafe_vs.head()"
   ]
  },
  {
   "cell_type": "code",
   "execution_count": 31,
   "metadata": {},
   "outputs": [
    {
     "data": {
      "text/html": [
       "<div>\n",
       "<style scoped>\n",
       "    .dataframe tbody tr th:only-of-type {\n",
       "        vertical-align: middle;\n",
       "    }\n",
       "\n",
       "    .dataframe tbody tr th {\n",
       "        vertical-align: top;\n",
       "    }\n",
       "\n",
       "    .dataframe thead th {\n",
       "        text-align: right;\n",
       "    }\n",
       "</style>\n",
       "<table border=\"1\" class=\"dataframe\">\n",
       "  <thead>\n",
       "    <tr style=\"text-align: right;\">\n",
       "      <th></th>\n",
       "      <th>구</th>\n",
       "      <th>브랜드명</th>\n",
       "      <th>매장수</th>\n",
       "    </tr>\n",
       "  </thead>\n",
       "  <tbody>\n",
       "    <tr>\n",
       "      <th>0</th>\n",
       "      <td>남구</td>\n",
       "      <td>스타벅스</td>\n",
       "      <td>3</td>\n",
       "    </tr>\n",
       "    <tr>\n",
       "      <th>1</th>\n",
       "      <td>남구</td>\n",
       "      <td>이디야</td>\n",
       "      <td>5</td>\n",
       "    </tr>\n",
       "    <tr>\n",
       "      <th>2</th>\n",
       "      <td>달서구</td>\n",
       "      <td>스타벅스</td>\n",
       "      <td>19</td>\n",
       "    </tr>\n",
       "    <tr>\n",
       "      <th>3</th>\n",
       "      <td>달서구</td>\n",
       "      <td>이디야</td>\n",
       "      <td>6</td>\n",
       "    </tr>\n",
       "    <tr>\n",
       "      <th>4</th>\n",
       "      <td>달성군</td>\n",
       "      <td>스타벅스</td>\n",
       "      <td>4</td>\n",
       "    </tr>\n",
       "  </tbody>\n",
       "</table>\n",
       "</div>"
      ],
      "text/plain": [
       "     구  브랜드명  매장수\n",
       "0   남구  스타벅스    3\n",
       "1   남구   이디야    5\n",
       "2  달서구  스타벅스   19\n",
       "3  달서구   이디야    6\n",
       "4  달성군  스타벅스    4"
      ]
     },
     "execution_count": 31,
     "metadata": {},
     "output_type": "execute_result"
    }
   ],
   "source": [
    "# groupby '시군구명', '브랜드명' 으로 갯수를 세어봅니다.\n",
    "# 결과에 대한 데이터프레임 컬럼명을 ['구', '브랜드명', '매장수'] 로 지정합니다.\n",
    "\n",
    "df_cafe_vs.columns = ['구', '브랜드명', '매장수']\n",
    "df_cafe_vs.head()"
   ]
  },
  {
   "cell_type": "markdown",
   "metadata": {},
   "source": [
    "#### pivot_table 로 구별 매장수 구하기"
   ]
  },
  {
   "cell_type": "code",
   "execution_count": 32,
   "metadata": {},
   "outputs": [
    {
     "data": {
      "text/html": [
       "<div>\n",
       "<style scoped>\n",
       "    .dataframe tbody tr th:only-of-type {\n",
       "        vertical-align: middle;\n",
       "    }\n",
       "\n",
       "    .dataframe tbody tr th {\n",
       "        vertical-align: top;\n",
       "    }\n",
       "\n",
       "    .dataframe thead th {\n",
       "        text-align: right;\n",
       "    }\n",
       "</style>\n",
       "<table border=\"1\" class=\"dataframe\">\n",
       "  <thead>\n",
       "    <tr style=\"text-align: right;\">\n",
       "      <th></th>\n",
       "      <th></th>\n",
       "      <th>상호명</th>\n",
       "    </tr>\n",
       "    <tr>\n",
       "      <th>시군구명</th>\n",
       "      <th>브랜드명</th>\n",
       "      <th></th>\n",
       "    </tr>\n",
       "  </thead>\n",
       "  <tbody>\n",
       "    <tr>\n",
       "      <th rowspan=\"2\" valign=\"top\">남구</th>\n",
       "      <th>스타벅스</th>\n",
       "      <td>3</td>\n",
       "    </tr>\n",
       "    <tr>\n",
       "      <th>이디야</th>\n",
       "      <td>5</td>\n",
       "    </tr>\n",
       "    <tr>\n",
       "      <th rowspan=\"2\" valign=\"top\">달서구</th>\n",
       "      <th>스타벅스</th>\n",
       "      <td>19</td>\n",
       "    </tr>\n",
       "    <tr>\n",
       "      <th>이디야</th>\n",
       "      <td>6</td>\n",
       "    </tr>\n",
       "    <tr>\n",
       "      <th>달성군</th>\n",
       "      <th>스타벅스</th>\n",
       "      <td>4</td>\n",
       "    </tr>\n",
       "  </tbody>\n",
       "</table>\n",
       "</div>"
      ],
      "text/plain": [
       "           상호명\n",
       "시군구명 브랜드명     \n",
       "남구   스타벅스    3\n",
       "     이디야     5\n",
       "달서구  스타벅스   19\n",
       "     이디야     6\n",
       "달성군  스타벅스    4"
      ]
     },
     "execution_count": 32,
     "metadata": {},
     "output_type": "execute_result"
    }
   ],
   "source": [
    "# 위에서 했던 과정을 pivot_table 로 구합니다.\n",
    "\n",
    "pivot = pd.pivot_table(data=df_cafe, \n",
    "               index=[\"시군구명\", \"브랜드명\"], \n",
    "               values=\"상호명\", aggfunc=\"count\")\n",
    "pivot.head()"
   ]
  },
  {
   "cell_type": "code",
   "execution_count": 33,
   "metadata": {},
   "outputs": [
    {
     "data": {
      "text/html": [
       "<div>\n",
       "<style scoped>\n",
       "    .dataframe tbody tr th:only-of-type {\n",
       "        vertical-align: middle;\n",
       "    }\n",
       "\n",
       "    .dataframe tbody tr th {\n",
       "        vertical-align: top;\n",
       "    }\n",
       "\n",
       "    .dataframe thead th {\n",
       "        text-align: right;\n",
       "    }\n",
       "</style>\n",
       "<table border=\"1\" class=\"dataframe\">\n",
       "  <thead>\n",
       "    <tr style=\"text-align: right;\">\n",
       "      <th></th>\n",
       "      <th>상호명</th>\n",
       "    </tr>\n",
       "    <tr>\n",
       "      <th>브랜드명</th>\n",
       "      <th></th>\n",
       "    </tr>\n",
       "  </thead>\n",
       "  <tbody>\n",
       "    <tr>\n",
       "      <th>스타벅스</th>\n",
       "      <td>19</td>\n",
       "    </tr>\n",
       "    <tr>\n",
       "      <th>이디야</th>\n",
       "      <td>6</td>\n",
       "    </tr>\n",
       "  </tbody>\n",
       "</table>\n",
       "</div>"
      ],
      "text/plain": [
       "      상호명\n",
       "브랜드명     \n",
       "스타벅스   19\n",
       "이디야     6"
      ]
     },
     "execution_count": 33,
     "metadata": {},
     "output_type": "execute_result"
    }
   ],
   "source": [
    "# 특정 구 데이터만 가져와서 보기\n",
    "pivot.loc[\"달서구\"]"
   ]
  },
  {
   "cell_type": "markdown",
   "metadata": {},
   "source": [
    "### 막대그래프로 시각화 하기"
   ]
  },
  {
   "cell_type": "code",
   "execution_count": 34,
   "metadata": {
    "scrolled": true
   },
   "outputs": [
    {
     "data": {
      "text/plain": [
       "<matplotlib.axes._subplots.AxesSubplot at 0x2a09e2bf0a0>"
      ]
     },
     "execution_count": 34,
     "metadata": {},
     "output_type": "execute_result"
    },
    {
     "data": {
      "image/png": "[encoded data removed]",
      "text/plain": [
       "<Figure size 1080x288 with 1 Axes>"
      ]
     },
     "metadata": {
      "needs_background": "light"
     },
     "output_type": "display_data"
    }
   ],
   "source": [
    "# seaborn의 barplot 을 활용해 구별 매장수를 시각화 합니다.\n",
    "plt.figure(figsize=(15, 4))\n",
    "sns.barplot(data=df_cafe_vs, x=\"구\", y=\"매장수\", hue=\"브랜드명\")"
   ]
  },
  {
   "cell_type": "markdown",
   "metadata": {},
   "source": [
    "## Folium 으로 지도 활용하기\n",
    "* 다음의 프롬프트 창을 열어 conda 명령어로 설치합니다.\n",
    "<img src=\"https://i.imgur.com/x7pzfCP.jpg\">\n",
    "* <font color=\"red\">주피터 노트북 상에서 설치가 되지 않으니</font> anaconda prompt 를 열어서 설치해 주세요.\n",
    "\n",
    "\n",
    "* 윈도우\n",
    "    * <font color=\"red\">관리자 권한</font>으로 아나콘다를 설치하셨다면 다음의 방법으로 anaconda prompt 를 열어 주세요.\n",
    "    <img src=\"https://i.imgur.com/GhoLwsd.png\">\n",
    "* 맥\n",
    "    * terminal 프로그램을 열어 설치해 주세요. \n",
    "\n",
    "\n",
    "* 다음의 문서를 활용해서 지도를 표현합니다.\n",
    "* https://nbviewer.jupyter.org/github/python-visualization/folium/blob/master/examples/Quickstart.ipynb\n",
    "* Folium 사용예제 :\n",
    "http://nbviewer.jupyter.org/github/python-visualization/folium/tree/master/examples/"
   ]
  },
  {
   "cell_type": "code",
   "execution_count": 38,
   "metadata": {},
   "outputs": [],
   "source": [
    "# 지도 시각화를 위한 라이브러리\n",
    "import folium"
   ]
  },
  {
   "cell_type": "code",
   "execution_count": 39,
   "metadata": {},
   "outputs": [
    {
     "data": {
      "text/plain": [
       "(35.85493152535467, 128.58509692608465)"
      ]
     },
     "execution_count": 39,
     "metadata": {},
     "output_type": "execute_result"
    }
   ],
   "source": [
    "# 지도의 중심을 지정하기 위해 위도와 경도의 평균을 구합니다. \n",
    "\n",
    "lat = df_cafe[\"위도\"].mean()\n",
    "long = df_cafe[\"경도\"].mean()\n",
    "lat, long"
   ]
  },
  {
   "cell_type": "markdown",
   "metadata": {},
   "source": [
    "### 스타벅스 이디야 카페 매장 전체 분포\n",
    "* 스타벅스와 이디야 매장을 Marker와 CircleMarker로 지도에 표현합니다."
   ]
  },
  {
   "cell_type": "code",
   "execution_count": 41,
   "metadata": {},
   "outputs": [
    {
     "data": {
      "text/html": [
       "<div style=\"width:100%;\"><div style=\"position:relative;width:100%;height:0;padding-bottom:60%;\"><span style=\"color:#565656\">Make this Notebook Trusted to load map: File -> Trust Notebook</span><iframe src=\"about:blank\" style=\"position:absolute;width:100%;height:100%;left:0;top:0;border:none !important;\" data-html=PCFET0NUWVBFIGh0bWw+CjxoZWFkPiAgICAKICAgIDxtZXRhIGh0dHAtZXF1aXY9ImNvbnRlbnQtdHlwZSIgY29udGVudD0idGV4dC9odG1sOyBjaGFyc2V0PVVURi04IiAvPgogICAgCiAgICAgICAgPHNjcmlwdD4KICAgICAgICAgICAgTF9OT19UT1VDSCA9IGZhbHNlOwogICAgICAgICAgICBMX0RJU0FCTEVfM0QgPSBmYWxzZTsKICAgICAgICA8L3NjcmlwdD4KICAgIAogICAgPHNjcmlwdCBzcmM9Imh0dHBzOi8vY2RuLmpzZGVsaXZyLm5ldC9ucG0vbGVhZmxldEAxLjYuMC9kaXN0L2xlYWZsZXQuanMiPjwvc2NyaXB0PgogICAgPHNjcmlwdCBzcmM9Imh0dHBzOi8vY29kZS5qcXVlcnkuY29tL2pxdWVyeS0xLjEyLjQubWluLmpzIj48L3NjcmlwdD4KICAgIDxzY3JpcHQgc3JjPSJodHRwczovL21heGNkbi5ib290c3RyYXBjZG4uY29tL2Jvb3RzdHJhcC8zLjIuMC9qcy9ib290c3RyYXAubWluLmpzIj48L3NjcmlwdD4KICAgIDxzY3JpcHQgc3JjPSJodHRwczovL2NkbmpzLmNsb3VkZmxhcmUuY29tL2FqYXgvbGlicy9MZWFmbGV0LmF3ZXNvbWUtbWFya2Vycy8yLjAuMi9sZWFmbGV0LmF3ZXNvbWUtbWFya2Vycy5qcyI+PC9zY3JpcHQ+CiAgICA8bGluayByZWw9InN0eWxlc2hlZXQiIGhyZWY9Imh0dHBzOi8vY2RuLmpzZGVsaXZyLm5ldC9ucG0vbGVhZmxldEAxLjYuMC9kaXN0L2xlYWZsZXQuY3NzIi8+CiAgICA8bGluayByZWw9InN0eWxlc2hlZXQiIGhyZWY9Imh0dHBzOi8vbWF4Y2RuLmJvb3RzdHJhcGNkbi5jb20vYm9vdHN0cmFwLzMuMi4wL2Nzcy9ib290c3RyYXAubWluLmNzcyIvPgogICAgPGxpbmsgcmVsPSJzdHlsZXNoZWV0IiBocmVmPSJodHRwczovL21heGNkbi5ib290c3RyYXBjZG4uY29tL2Jvb3RzdHJhcC8zLjIuMC9jc3MvYm9vdHN0cmFwLXRoZW1lLm1pbi5jc3MiLz4KICAgIDxsaW5rIHJlbD0ic3R5bGVzaGVldCIgaHJlZj0iaHR0cHM6Ly9tYXhjZG4uYm9vdHN0cmFwY2RuLmNvbS9mb250LWF3ZXNvbWUvNC42LjMvY3NzL2ZvbnQtYXdlc29tZS5taW4uY3NzIi8+CiAgICA8bGluayByZWw9InN0eWxlc2hlZXQiIGhyZWY9Imh0dHBzOi8vY2RuanMuY2xvdWRmbGFyZS5jb20vYWpheC9saWJzL0xlYWZsZXQuYXdlc29tZS1tYXJrZXJzLzIuMC4yL2xlYWZsZXQuYXdlc29tZS1tYXJrZXJzLmNzcyIvPgogICAgPGxpbmsgcmVsPSJzdHlsZXNoZWV0IiBocmVmPSJodHRwczovL3Jhd2Nkbi5naXRoYWNrLmNvbS9weXRob24tdmlzdWFsaXphdGlvbi9mb2xpdW0vbWFzdGVyL2ZvbGl1bS90ZW1wbGF0ZXMvbGVhZmxldC5hd2Vzb21lLnJvdGF0ZS5jc3MiLz4KICAgIDxzdHlsZT5odG1sLCBib2R5IHt3aWR0aDogMTAwJTtoZWlnaHQ6IDEwMCU7bWFyZ2luOiAwO3BhZGRpbmc6IDA7fTwvc3R5bGU+CiAgICA8c3R5bGU+I21hcCB7cG9zaXRpb246YWJzb2x1dGU7dG9wOjA7Ym90dG9tOjA7cmlnaHQ6MDtsZWZ0OjA7fTwvc3R5bGU+CiAgICAKICAgICAgICAgICAgPG1ldGEgbmFtZT0idmlld3BvcnQiIGNvbnRlbnQ9IndpZHRoPWRldmljZS13aWR0aCwKICAgICAgICAgICAgICAgIGluaXRpYWwtc2NhbGU9MS4wLCBtYXhpbXVtLXNjYWxlPTEuMCwgdXNlci1zY2FsYWJsZT1ubyIgLz4KICAgICAgICAgICAgPHN0eWxlPgogICAgICAgICAgICAgICAgI21hcF83MTQ0NTRlZDM1MDM0N2ZkOGM2Y2JjNjcwNjdlNjA1MCB7CiAgICAgICAgICAgICAgICAgICAgcG9zaXRpb246IHJlbGF0aXZlOwogICAgICAgICAgICAgICAgICAgIHdpZHRoOiAxMDAuMCU7CiAgICAgICAgICAgICAgICAgICAgaGVpZ2h0OiAxMDAuMCU7CiAgICAgICAgICAgICAgICAgICAgbGVmdDogMC4wJTsKICAgICAgICAgICAgICAgICAgICB0b3A6IDAuMCU7CiAgICAgICAgICAgICAgICB9CiAgICAgICAgICAgIDwvc3R5bGU+CiAgICAgICAgCjwvaGVhZD4KPGJvZHk+ICAgIAogICAgCiAgICAgICAgICAgIDxkaXYgY2xhc3M9ImZvbGl1bS1tYXAiIGlkPSJtYXBfNzE0NDU0ZWQzNTAzNDdmZDhjNmNiYzY3MDY3ZTYwNTAiID48L2Rpdj4KICAgICAgICAKPC9ib2R5Pgo8c2NyaXB0PiAgICAKICAgIAogICAgICAgICAgICB2YXIgbWFwXzcxNDQ1NGVkMzUwMzQ3ZmQ4YzZjYmM2NzA2N2U2MDUwID0gTC5tYXAoCiAgICAgICAgICAgICAgICAibWFwXzcxNDQ1NGVkMzUwMzQ3ZmQ4YzZjYmM2NzA2N2U2MDUwIiwKICAgICAgICAgICAgICAgIHsKICAgICAgICAgICAgICAgICAgICBjZW50ZXI6IFszNS44NTQ5MzE1MjUzNTQ2NywgMTI4LjU4NTA5NjkyNjA4NDY1XSwKICAgICAgICAgICAgICAgICAgICBjcnM6IEwuQ1JTLkVQU0czODU3LAogICAgICAgICAgICAgICAgICAgIHpvb206IDEyLAogICAgICAgICAgICAgICAgICAgIHpvb21Db250cm9sOiB0cnVlLAogICAgICAgICAgICAgICAgICAgIHByZWZlckNhbnZhczogZmFsc2UsCiAgICAgICAgICAgICAgICB9CiAgICAgICAgICAgICk7CgogICAgICAgICAgICAKCiAgICAgICAgCiAgICAKICAgICAgICAgICAgdmFyIHRpbGVfbGF5ZXJfYTNmMTQ3YzNhNWRkNDE0YTk4NGI3ODgxMTFjYzViOGEgPSBMLnRpbGVMYXllcigKICAgICAgICAgICAgICAgICJodHRwczovL3tzfS50aWxlLm9wZW5zdHJlZXRtYXAub3JnL3t6fS97eH0ve3l9LnBuZyIsCiAgICAgICAgICAgICAgICB7ImF0dHJpYnV0aW9uIjogIkRhdGEgYnkgXHUwMDI2Y29weTsgXHUwMDNjYSBocmVmPVwiaHR0cDovL29wZW5zdHJlZXRtYXAub3JnXCJcdTAwM2VPcGVuU3RyZWV0TWFwXHUwMDNjL2FcdTAwM2UsIHVuZGVyIFx1MDAzY2EgaHJlZj1cImh0dHA6Ly93d3cub3BlbnN0cmVldG1hcC5vcmcvY29weXJpZ2h0XCJcdTAwM2VPRGJMXHUwMDNjL2FcdTAwM2UuIiwgImRldGVjdFJldGluYSI6IGZhbHNlLCAibWF4TmF0aXZlWm9vbSI6IDE4LCAibWF4Wm9vbSI6IDE4LCAibWluWm9vbSI6IDAsICJub1dyYXAiOiBmYWxzZSwgIm9wYWNpdHkiOiAxLCAic3ViZG9tYWlucyI6ICJhYmMiLCAidG1zIjogZmFsc2V9CiAgICAgICAgICAgICkuYWRkVG8obWFwXzcxNDQ1NGVkMzUwMzQ3ZmQ4YzZjYmM2NzA2N2U2MDUwKTsKICAgICAgICAKICAgIAogICAgICAgICAgICB2YXIgY2lyY2xlX21hcmtlcl8xZmNjMDliNDExNWE0OTRkYjNkYTgyOWVhMzQ5NjA3NyA9IEwuY2lyY2xlTWFya2VyKAogICAgICAgICAgICAgICAgWzM1LjgzOTc4NzczMDExODksIDEyOC43MDQwNzUwOTAwMjhdLAogICAgICAgICAgICAgICAgeyJidWJibGluZ01vdXNlRXZlbnRzIjogdHJ1ZSwgImNvbG9yIjogImJsdWUiLCAiZGFzaEFycmF5IjogbnVsbCwgImRhc2hPZmZzZXQiOiBudWxsLCAiZmlsbCI6IGZhbHNlLCAiZmlsbENvbG9yIjogImJsdWUiLCAiZmlsbE9wYWNpdHkiOiAwLjIsICJmaWxsUnVsZSI6ICJldmVub2RkIiwgImxpbmVDYXAiOiAicm91bmQiLCAibGluZUpvaW4iOiAicm91bmQiLCAib3BhY2l0eSI6IDEuMCwgInJhZGl1cyI6IDMsICJzdHJva2UiOiB0cnVlLCAid2VpZ2h0IjogM30KICAgICAgICAgICAgKS5hZGRUbyhtYXBfNzE0NDU0ZWQzNTAzNDdmZDhjNmNiYzY3MDY3ZTYwNTApOwogICAgICAgIAogICAgCiAgICAgICAgICAgIGNpcmNsZV9tYXJrZXJfMWZjYzA5YjQxMTVhNDk0ZGIzZGE4MjllYTM0OTYwNzcuYmluZFRvb2x0aXAoCiAgICAgICAgICAgICAgICBgPGRpdj4KICAgICAgICAgICAgICAgICAgICAg7J2065SU7JWE7Luk7ZS87Iuc7KeA7KCQIC0g64yA6rWs6rSR7Jet7IucIOyImOyEseq1rCDqs6DsgrDroZwgMTAxCiAgICAgICAgICAgICAgICAgPC9kaXY+YCwKICAgICAgICAgICAgICAgIHsic3RpY2t5IjogdHJ1ZX0KICAgICAgICAgICAgKTsKICAgICAgICAKICAgIAogICAgICAgICAgICB2YXIgY2lyY2xlX21hcmtlcl9mZDZiOTVlYzRmZmY0MmRhYmM0NjEzOTA5NWVhM2UxYiA9IEwuY2lyY2xlTWFya2VyKAogICAgICAgICAgICAgICAgWzM1Ljg2NzUwNzgwNTIwMTgsIDEyOC41OTY2NzcwOTQxXSwKICAgICAgICAgICAgICAgIHsiYnViYmxpbmdNb3VzZUV2ZW50cyI6IHRydWUsICJjb2xvciI6ICJncmVlbiIsICJkYXNoQXJyYXkiOiBudWxsLCAiZGFzaE9mZnNldCI6IG51bGwsICJmaWxsIjogZmFsc2UsICJmaWxsQ29sb3IiOiAiZ3JlZW4iLCAiZmlsbE9wYWNpdHkiOiAwLjIsICJmaWxsUnVsZSI6ICJldmVub2RkIiwgImxpbmVDYXAiOiAicm91bmQiLCAibGluZUpvaW4iOiAicm91bmQiLCAib3BhY2l0eSI6IDEuMCwgInJhZGl1cyI6IDMsICJzdHJva2UiOiB0cnVlLCAid2VpZ2h0IjogM30KICAgICAgICAgICAgKS5hZGRUbyhtYXBfNzE0NDU0ZWQzNTAzNDdmZDhjNmNiYzY3MDY3ZTYwNTApOwogICAgICAgIAogICAgCiAgICAgICAgICAgIGNpcmNsZV9tYXJrZXJfZmQ2Yjk1ZWM0ZmZmNDJkYWJjNDYxMzkwOTVlYTNlMWIuYmluZFRvb2x0aXAoCiAgICAgICAgICAgICAgICBgPGRpdj4KICAgICAgICAgICAgICAgICAgICAg7Iqk7YOA67KF7Iqk64+Z7ISx66Gc7KSR7JWZ7KCQIC0g64yA6rWs6rSR7Jet7IucIOykkeq1rCDrj5nshLHroZw16ri4IDM4CiAgICAgICAgICAgICAgICAgPC9kaXY+YCwKICAgICAgICAgICAgICAgIHsic3RpY2t5IjogdHJ1ZX0KICAgICAgICAgICAgKTsKICAgICAgICAKICAgIAogICAgICAgICAgICB2YXIgY2lyY2xlX21hcmtlcl84MjExMzk4Yjk1YTI0YzUxYTA3NTRhNGFjYjlkMWI2MyA9IEwuY2lyY2xlTWFya2VyKAogICAgICAgICAgICAgICAgWzM1Ljg2NDUzNzI0NDQ2MDI5NCwgMTI4LjYyNzc2OTU4NjMyNV0sCiAgICAgICAgICAgICAgICB7ImJ1YmJsaW5nTW91c2VFdmVudHMiOiB0cnVlLCAiY29sb3IiOiAiZ3JlZW4iLCAiZGFzaEFycmF5IjogbnVsbCwgImRhc2hPZmZzZXQiOiBudWxsLCAiZmlsbCI6IGZhbHNlLCAiZmlsbENvbG9yIjogImdyZWVuIiwgImZpbGxPcGFjaXR5IjogMC4yLCAiZmlsbFJ1bGUiOiAiZXZlbm9kZCIsICJsaW5lQ2FwIjogInJvdW5kIiwgImxpbmVKb2luIjogInJvdW5kIiwgIm9wYWNpdHkiOiAxLjAsICJyYWRpdXMiOiAzLCAic3Ryb2tlIjogdHJ1ZSwgIndlaWdodCI6IDN9CiAgICAgICAgICAgICkuYWRkVG8obWFwXzcxNDQ1NGVkMzUwMzQ3ZmQ4YzZjYmM2NzA2N2U2MDUwKTsKICAgICAgICAKICAgIAogICAgICAgICAgICBjaXJjbGVfbWFya2VyXzgyMTEzOThiOTVhMjRjNTFhMDc1NGE0YWNiOWQxYjYzLmJpbmRUb29sdGlwKAogICAgICAgICAgICAgICAgYDxkaXY+CiAgICAgICAgICAgICAgICAgICAgIOyKpO2DgOuyheyKpOuMgOq1rOuyleybkOygkCAtIOuMgOq1rOq0keyXreyLnCDsiJjshLHqtawg64+Z64yA6rWs66GcIDM3NgogICAgICAgICAgICAgICAgIDwvZGl2PmAsCiAgICAgICAgICAgICAgICB7InN0aWNreSI6IHRydWV9CiAgICAgICAgICAgICk7CiAgICAgICAgCiAgICAKICAgICAgICAgICAgdmFyIGNpcmNsZV9tYXJrZXJfZmI2NDkzOTNkYTlkNDZmMDgyNTRhYmQ1MWM1ZmZjMDEgPSBMLmNpcmNsZU1hcmtlcigKICAgICAgICAgICAgICAgIFszNS44MjI3OTEzMDU2NjA3OSwgMTI4LjUzMzc5MTA0MjEyM10sCiAgICAgICAgICAgICAgICB7ImJ1YmJsaW5nTW91c2VFdmVudHMiOiB0cnVlLCAiY29sb3IiOiAiZ3JlZW4iLCAiZGFzaEFycmF5IjogbnVsbCwgImRhc2hPZmZzZXQiOiBudWxsLCAiZmlsbCI6IGZhbHNlLCAiZmlsbENvbG9yIjogImdyZWVuIiwgImZpbGxPcGFjaXR5IjogMC4yLCAiZmlsbFJ1bGUiOiAiZXZlbm9kZCIsICJsaW5lQ2FwIjogInJvdW5kIiwgImxpbmVKb2luIjogInJvdW5kIiwgIm9wYWNpdHkiOiAxLjAsICJyYWRpdXMiOiAzLCAic3Ryb2tlIjogdHJ1ZSwgIndlaWdodCI6IDN9CiAgICAgICAgICAgICkuYWRkVG8obWFwXzcxNDQ1NGVkMzUwMzQ3ZmQ4YzZjYmM2NzA2N2U2MDUwKTsKICAgICAgICAKICAgIAogICAgICAgICAgICBjaXJjbGVfbWFya2VyX2ZiNjQ5MzkzZGE5ZDQ2ZjA4MjU0YWJkNTFjNWZmYzAxLmJpbmRUb29sdGlwKAogICAgICAgICAgICAgICAgYDxkaXY+CiAgICAgICAgICAgICAgICAgICAgIOyKpO2DgOuyheyKpCAtIOuMgOq1rOq0keyXreyLnCDri6zshJzqtawg7JuU6rOh66GcIDMzNAogICAgICAgICAgICAgICAgIDwvZGl2PmAsCiAgICAgICAgICAgICAgICB7InN0aWNreSI6IHRydWV9CiAgICAgICAgICAgICk7CiAgICAgICAgCiAgICAKICAgICAgICAgICAgdmFyIGNpcmNsZV9tYXJrZXJfZjc1ZWQ2MjM2MmUxNGNiZDg2MWU4OGQwZGMzMTU2YjcgPSBMLmNpcmNsZU1hcmtlcigKICAgICAgICAgICAgICAgIFszNS44NTA3MTEzNzcxNjEzOTYsIDEyOC41MjAxMTcyMDQ3NTRdLAogICAgICAgICAgICAgICAgeyJidWJibGluZ01vdXNlRXZlbnRzIjogdHJ1ZSwgImNvbG9yIjogImdyZWVuIiwgImRhc2hBcnJheSI6IG51bGwsICJkYXNoT2Zmc2V0IjogbnVsbCwgImZpbGwiOiBmYWxzZSwgImZpbGxDb2xvciI6ICJncmVlbiIsICJmaWxsT3BhY2l0eSI6IDAuMiwgImZpbGxSdWxlIjogImV2ZW5vZGQiLCAibGluZUNhcCI6ICJyb3VuZCIsICJsaW5lSm9pbiI6ICJyb3VuZCIsICJvcGFjaXR5IjogMS4wLCAicmFkaXVzIjogMywgInN0cm9rZSI6IHRydWUsICJ3ZWlnaHQiOiAzfQogICAgICAgICAgICApLmFkZFRvKG1hcF83MTQ0NTRlZDM1MDM0N2ZkOGM2Y2JjNjcwNjdlNjA1MCk7CiAgICAgICAgCiAgICAKICAgICAgICAgICAgY2lyY2xlX21hcmtlcl9mNzVlZDYyMzYyZTE0Y2JkODYxZTg4ZDBkYzMxNTZiNy5iaW5kVG9vbHRpcCgKICAgICAgICAgICAgICAgIGA8ZGl2PgogICAgICAgICAgICAgICAgICAgICDsiqTtg4DrsoXsiqQgLSDrjIDqtazqtJHsl63si5wg64us7ISc6rWsIOuLrOq1rOuyjOuMgOuhnCAxMzkzCiAgICAgICAgICAgICAgICAgPC9kaXY+YCwKICAgICAgICAgICAgICAgIHsic3RpY2t5IjogdHJ1ZX0KICAgICAgICAgICAgKTsKICAgICAgICAKICAgIAogICAgICAgICAgICB2YXIgY2lyY2xlX21hcmtlcl81YjBlZjZiMDUxMGE0NGY1OWE3Y2YyY2Q0OWFmYjdiZiA9IEwuY2lyY2xlTWFya2VyKAogICAgICAgICAgICAgICAgWzM1Ljg1OTE2MDI5ODk4OTIsIDEyOC40NjQyNTc4MjY5NjY5OV0sCiAgICAgICAgICAgICAgICB7ImJ1YmJsaW5nTW91c2VFdmVudHMiOiB0cnVlLCAiY29sb3IiOiAiZ3JlZW4iLCAiZGFzaEFycmF5IjogbnVsbCwgImRhc2hPZmZzZXQiOiBudWxsLCAiZmlsbCI6IGZhbHNlLCAiZmlsbENvbG9yIjogImdyZWVuIiwgImZpbGxPcGFjaXR5IjogMC4yLCAiZmlsbFJ1bGUiOiAiZXZlbm9kZCIsICJsaW5lQ2FwIjogInJvdW5kIiwgImxpbmVKb2luIjogInJvdW5kIiwgIm9wYWNpdHkiOiAxLjAsICJyYWRpdXMiOiAzLCAic3Ryb2tlIjogdHJ1ZSwgIndlaWdodCI6IDN9CiAgICAgICAgICAgICkuYWRkVG8obWFwXzcxNDQ1NGVkMzUwMzQ3ZmQ4YzZjYmM2NzA2N2U2MDUwKTsKICAgICAgICAKICAgIAogICAgICAgICAgICBjaXJjbGVfbWFya2VyXzViMGVmNmIwNTEwYTQ0ZjU5YTdjZjJjZDQ5YWZiN2JmLmJpbmRUb29sdGlwKAogICAgICAgICAgICAgICAgYDxkaXY+CiAgICAgICAgICAgICAgICAgICAgIOyKpO2DgOuyheyKpCAtIOuMgOq1rOq0keyXreyLnCDri6zshLHqtbAg64uk7IKs7J2NIOuLrOq1rOuyjOuMgOuhnCA4NjEKICAgICAgICAgICAgICAgICA8L2Rpdj5gLAogICAgICAgICAgICAgICAgeyJzdGlja3kiOiB0cnVlfQogICAgICAgICAgICApOwogICAgICAgIAogICAgCiAgICAgICAgICAgIHZhciBjaXJjbGVfbWFya2VyXzEwNzIzOGM2NjNmYjRkMDE4MmYwOTQ5NDcyODA0ZGFjID0gTC5jaXJjbGVNYXJrZXIoCiAgICAgICAgICAgICAgICBbMzUuODY5NTUxNTU5MTYzMywgMTI4LjYwMDc0NTM0Mjk2OV0sCiAgICAgICAgICAgICAgICB7ImJ1YmJsaW5nTW91c2VFdmVudHMiOiB0cnVlLCAiY29sb3IiOiAiZ3JlZW4iLCAiZGFzaEFycmF5IjogbnVsbCwgImRhc2hPZmZzZXQiOiBudWxsLCAiZmlsbCI6IGZhbHNlLCAiZmlsbENvbG9yIjogImdyZWVuIiwgImZpbGxPcGFjaXR5IjogMC4yLCAiZmlsbFJ1bGUiOiAiZXZlbm9kZCIsICJsaW5lQ2FwIjogInJvdW5kIiwgImxpbmVKb2luIjogInJvdW5kIiwgIm9wYWNpdHkiOiAxLjAsICJyYWRpdXMiOiAzLCAic3Ryb2tlIjogdHJ1ZSwgIndlaWdodCI6IDN9CiAgICAgICAgICAgICkuYWRkVG8obWFwXzcxNDQ1NGVkMzUwMzQ3ZmQ4YzZjYmM2NzA2N2U2MDUwKTsKICAgICAgICAKICAgIAogICAgICAgICAgICBjaXJjbGVfbWFya2VyXzEwNzIzOGM2NjNmYjRkMDE4MmYwOTQ5NDcyODA0ZGFjLmJpbmRUb29sdGlwKAogICAgICAgICAgICAgICAgYDxkaXY+CiAgICAgICAgICAgICAgICAgICAgIOyKpO2DgOuyheyKpCAtIOuMgOq1rOq0keyXreyLnCDspJHqtawg6rWt7LGE67O07IOB66GcIDY0MgogICAgICAgICAgICAgICAgIDwvZGl2PmAsCiAgICAgICAgICAgICAgICB7InN0aWNreSI6IHRydWV9CiAgICAgICAgICAgICk7CiAgICAgICAgCiAgICAKICAgICAgICAgICAgdmFyIGNpcmNsZV9tYXJrZXJfZDNhNTllMmYxMzA0NGZmNGJjZWQ3Mzc1MDg5YmRhNDUgPSBMLmNpcmNsZU1hcmtlcigKICAgICAgICAgICAgICAgIFszNS44ODUyMzQ3MDQyMjIzLCAxMjguNTg5Nzk5MDc3MTMyXSwKICAgICAgICAgICAgICAgIHsiYnViYmxpbmdNb3VzZUV2ZW50cyI6IHRydWUsICJjb2xvciI6ICJibHVlIiwgImRhc2hBcnJheSI6IG51bGwsICJkYXNoT2Zmc2V0IjogbnVsbCwgImZpbGwiOiBmYWxzZSwgImZpbGxDb2xvciI6ICJibHVlIiwgImZpbGxPcGFjaXR5IjogMC4yLCAiZmlsbFJ1bGUiOiAiZXZlbm9kZCIsICJsaW5lQ2FwIjogInJvdW5kIiwgImxpbmVKb2luIjogInJvdW5kIiwgIm9wYWNpdHkiOiAxLjAsICJyYWRpdXMiOiAzLCAic3Ryb2tlIjogdHJ1ZSwgIndlaWdodCI6IDN9CiAgICAgICAgICAgICkuYWRkVG8obWFwXzcxNDQ1NGVkMzUwMzQ3ZmQ4YzZjYmM2NzA2N2U2MDUwKTsKICAgICAgICAKICAgIAogICAgICAgICAgICBjaXJjbGVfbWFya2VyX2QzYTU5ZTJmMTMwNDRmZjRiY2VkNzM3NTA4OWJkYTQ1LmJpbmRUb29sdGlwKAogICAgICAgICAgICAgICAgYDxkaXY+CiAgICAgICAgICAgICAgICAgICAgIOydtOuUlOyVvOy7pO2UvCAtIOuMgOq1rOq0keyXreyLnCDrtoHqtawg7Lmo7IKw66GcIDkzCiAgICAgICAgICAgICAgICAgPC9kaXY+YCwKICAgICAgICAgICAgICAgIHsic3RpY2t5IjogdHJ1ZX0KICAgICAgICAgICAgKTsKICAgICAgICAKICAgIAogICAgICAgICAgICB2YXIgY2lyY2xlX21hcmtlcl9jMTZhNDliM2Q0ZWY0MmU0YTA1Y2UxNDAzYjFiZDhlNSA9IEwuY2lyY2xlTWFya2VyKAogICAgICAgICAgICAgICAgWzM1Ljg1NTgyNzQ2MzE1NTksIDEyOC40OTMxNDY2OTM5NjJdLAogICAgICAgICAgICAgICAgeyJidWJibGluZ01vdXNlRXZlbnRzIjogdHJ1ZSwgImNvbG9yIjogImJsdWUiLCAiZGFzaEFycmF5IjogbnVsbCwgImRhc2hPZmZzZXQiOiBudWxsLCAiZmlsbCI6IGZhbHNlLCAiZmlsbENvbG9yIjogImJsdWUiLCAiZmlsbE9wYWNpdHkiOiAwLjIsICJmaWxsUnVsZSI6ICJldmVub2RkIiwgImxpbmVDYXAiOiAicm91bmQiLCAibGluZUpvaW4iOiAicm91bmQiLCAib3BhY2l0eSI6IDEuMCwgInJhZGl1cyI6IDMsICJzdHJva2UiOiB0cnVlLCAid2VpZ2h0IjogM30KICAgICAgICAgICAgKS5hZGRUbyhtYXBfNzE0NDU0ZWQzNTAzNDdmZDhjNmNiYzY3MDY3ZTYwNTApOwogICAgICAgIAogICAgCiAgICAgICAgICAgIGNpcmNsZV9tYXJrZXJfYzE2YTQ5YjNkNGVmNDJlNGEwNWNlMTQwM2IxYmQ4ZTUuYmluZFRvb2x0aXAoCiAgICAgICAgICAgICAgICBgPGRpdj4KICAgICAgICAgICAgICAgICAgICAg7J2065SU7JW87Luk7ZS8IC0g64yA6rWs6rSR7Jet7IucIOuLrOyEnOq1rCDqs4TrjIDrj5nrrLjroZwgNwogICAgICAgICAgICAgICAgIDwvZGl2PmAsCiAgICAgICAgICAgICAgICB7InN0aWNreSI6IHRydWV9CiAgICAgICAgICAgICk7CiAgICAgICAgCiAgICAKICAgICAgICAgICAgdmFyIGNpcmNsZV9tYXJrZXJfNzU5MmJiNDU2MjVkNDA4Mzg3YmYzMTRiYTE0MDM1OTEgPSBMLmNpcmNsZU1hcmtlcigKICAgICAgICAgICAgICAgIFszNS44NjcyOTQ4ODUwMDA2MDQsIDEyOC41OTQxNzI5NDA4MTldLAogICAgICAgICAgICAgICAgeyJidWJibGluZ01vdXNlRXZlbnRzIjogdHJ1ZSwgImNvbG9yIjogImdyZWVuIiwgImRhc2hBcnJheSI6IG51bGwsICJkYXNoT2Zmc2V0IjogbnVsbCwgImZpbGwiOiBmYWxzZSwgImZpbGxDb2xvciI6ICJncmVlbiIsICJmaWxsT3BhY2l0eSI6IDAuMiwgImZpbGxSdWxlIjogImV2ZW5vZGQiLCAibGluZUNhcCI6ICJyb3VuZCIsICJsaW5lSm9pbiI6ICJyb3VuZCIsICJvcGFjaXR5IjogMS4wLCAicmFkaXVzIjogMywgInN0cm9rZSI6IHRydWUsICJ3ZWlnaHQiOiAzfQogICAgICAgICAgICApLmFkZFRvKG1hcF83MTQ0NTRlZDM1MDM0N2ZkOGM2Y2JjNjcwNjdlNjA1MCk7CiAgICAgICAgCiAgICAKICAgICAgICAgICAgY2lyY2xlX21hcmtlcl83NTkyYmI0NTYyNWQ0MDgzODdiZjMxNGJhMTQwMzU5MS5iaW5kVG9vbHRpcCgKICAgICAgICAgICAgICAgIGA8ZGl2PgogICAgICAgICAgICAgICAgICAgICDsiqTtg4DrsoXsiqQgLSDrjIDqtazqtJHsl63si5wg7KSR6rWsIOuPmeyEseuhnCA0CiAgICAgICAgICAgICAgICAgPC9kaXY+YCwKICAgICAgICAgICAgICAgIHsic3RpY2t5IjogdHJ1ZX0KICAgICAgICAgICAgKTsKICAgICAgICAKICAgIAogICAgICAgICAgICB2YXIgY2lyY2xlX21hcmtlcl85YTNlZTU4ZDQ1Njk0OWNmODEyZTc4ZTE1NDJkOTFmNyA9IEwuY2lyY2xlTWFya2VyKAogICAgICAgICAgICAgICAgWzM1Ljg1ODk3MzU0MjIyNjUsIDEyOC42MjMwNjQzNzAzMDcwMl0sCiAgICAgICAgICAgICAgICB7ImJ1YmJsaW5nTW91c2VFdmVudHMiOiB0cnVlLCAiY29sb3IiOiAiZ3JlZW4iLCAiZGFzaEFycmF5IjogbnVsbCwgImRhc2hPZmZzZXQiOiBudWxsLCAiZmlsbCI6IGZhbHNlLCAiZmlsbENvbG9yIjogImdyZWVuIiwgImZpbGxPcGFjaXR5IjogMC4yLCAiZmlsbFJ1bGUiOiAiZXZlbm9kZCIsICJsaW5lQ2FwIjogInJvdW5kIiwgImxpbmVKb2luIjogInJvdW5kIiwgIm9wYWNpdHkiOiAxLjAsICJyYWRpdXMiOiAzLCAic3Ryb2tlIjogdHJ1ZSwgIndlaWdodCI6IDN9CiAgICAgICAgICAgICkuYWRkVG8obWFwXzcxNDQ1NGVkMzUwMzQ3ZmQ4YzZjYmM2NzA2N2U2MDUwKTsKICAgICAgICAKICAgIAogICAgICAgICAgICBjaXJjbGVfbWFya2VyXzlhM2VlNThkNDU2OTQ5Y2Y4MTJlNzhlMTU0MmQ5MWY3LmJpbmRUb29sdGlwKAogICAgICAgICAgICAgICAgYDxkaXY+CiAgICAgICAgICAgICAgICAgICAgIOyKpO2DgOuyheyKpOyImOyEseuylOyWtOyXreygkCAtIOuMgOq1rOq0keyXreyLnCDsiJjshLHqtawg64us6rWs67KM64yA66GcIDIzODItMQogICAgICAgICAgICAgICAgIDwvZGl2PmAsCiAgICAgICAgICAgICAgICB7InN0aWNreSI6IHRydWV9CiAgICAgICAgICAgICk7CiAgICAgICAgCiAgICAKICAgICAgICAgICAgdmFyIGNpcmNsZV9tYXJrZXJfYzI1ZDg0NzhmNDBhNGQ2Zjg0OWZhZTg3ZjJlNTEwMWEgPSBMLmNpcmNsZU1hcmtlcigKICAgICAgICAgICAgICAgIFszNS44NTgyNTQ3MTIyOTQsIDEyOC41NTY1MDQ5MDUyMTZdLAogICAgICAgICAgICAgICAgeyJidWJibGluZ01vdXNlRXZlbnRzIjogdHJ1ZSwgImNvbG9yIjogImdyZWVuIiwgImRhc2hBcnJheSI6IG51bGwsICJkYXNoT2Zmc2V0IjogbnVsbCwgImZpbGwiOiBmYWxzZSwgImZpbGxDb2xvciI6ICJncmVlbiIsICJmaWxsT3BhY2l0eSI6IDAuMiwgImZpbGxSdWxlIjogImV2ZW5vZGQiLCAibGluZUNhcCI6ICJyb3VuZCIsICJsaW5lSm9pbiI6ICJyb3VuZCIsICJvcGFjaXR5IjogMS4wLCAicmFkaXVzIjogMywgInN0cm9rZSI6IHRydWUsICJ3ZWlnaHQiOiAzfQogICAgICAgICAgICApLmFkZFRvKG1hcF83MTQ0NTRlZDM1MDM0N2ZkOGM2Y2JjNjcwNjdlNjA1MCk7CiAgICAgICAgCiAgICAKICAgICAgICAgICAgY2lyY2xlX21hcmtlcl9jMjVkODQ3OGY0MGE0ZDZmODQ5ZmFlODdmMmU1MTAxYS5iaW5kVG9vbHRpcCgKICAgICAgICAgICAgICAgIGA8ZGl2PgogICAgICAgICAgICAgICAgICAgICDsiqTtg4DrsoXsiqQgLSDrjIDqtazqtJHsl63si5wg7ISc6rWsIOyEnOuMgOq1rOuhnCAzCiAgICAgICAgICAgICAgICAgPC9kaXY+YCwKICAgICAgICAgICAgICAgIHsic3RpY2t5IjogdHJ1ZX0KICAgICAgICAgICAgKTsKICAgICAgICAKICAgIAogICAgICAgICAgICB2YXIgY2lyY2xlX21hcmtlcl85ZjQyMWRkYTcwMWU0NWM5Yjk0NGYzZDI3ODczZTU4ZiA9IEwuY2lyY2xlTWFya2VyKAogICAgICAgICAgICAgICAgWzM1Ljg2MTE2MDk2MzI1MzUsIDEyOC42MTMwOTQxODg0NThdLAogICAgICAgICAgICAgICAgeyJidWJibGluZ01vdXNlRXZlbnRzIjogdHJ1ZSwgImNvbG9yIjogImdyZWVuIiwgImRhc2hBcnJheSI6IG51bGwsICJkYXNoT2Zmc2V0IjogbnVsbCwgImZpbGwiOiBmYWxzZSwgImZpbGxDb2xvciI6ICJncmVlbiIsICJmaWxsT3BhY2l0eSI6IDAuMiwgImZpbGxSdWxlIjogImV2ZW5vZGQiLCAibGluZUNhcCI6ICJyb3VuZCIsICJsaW5lSm9pbiI6ICJyb3VuZCIsICJvcGFjaXR5IjogMS4wLCAicmFkaXVzIjogMywgInN0cm9rZSI6IHRydWUsICJ3ZWlnaHQiOiAzfQogICAgICAgICAgICApLmFkZFRvKG1hcF83MTQ0NTRlZDM1MDM0N2ZkOGM2Y2JjNjcwNjdlNjA1MCk7CiAgICAgICAgCiAgICAKICAgICAgICAgICAgY2lyY2xlX21hcmtlcl85ZjQyMWRkYTcwMWU0NWM5Yjk0NGYzZDI3ODczZTU4Zi5iaW5kVG9vbHRpcCgKICAgICAgICAgICAgICAgIGA8ZGl2PgogICAgICAgICAgICAgICAgICAgICDsiqTtg4DrsoXsiqQgLSDrjIDqtazqtJHsl63si5wg7IiY7ISx6rWsIOyImOyEseuhnCAzOTMKICAgICAgICAgICAgICAgICA8L2Rpdj5gLAogICAgICAgICAgICAgICAgeyJzdGlja3kiOiB0cnVlfQogICAgICAgICAgICApOwogICAgICAgIAogICAgCiAgICAgICAgICAgIHZhciBjaXJjbGVfbWFya2VyX2U1MzMwNzRiYjQ3ZTQ1ZThhYjI3MWU2ZDQ1ZWU3ZjRkID0gTC5jaXJjbGVNYXJrZXIoCiAgICAgICAgICAgICAgICBbMzUuODUyNDg3MDA5NzA1MSwgMTI4LjYzNDU0OTc5MTI0OTAxXSwKICAgICAgICAgICAgICAgIHsiYnViYmxpbmdNb3VzZUV2ZW50cyI6IHRydWUsICJjb2xvciI6ICJibHVlIiwgImRhc2hBcnJheSI6IG51bGwsICJkYXNoT2Zmc2V0IjogbnVsbCwgImZpbGwiOiBmYWxzZSwgImZpbGxDb2xvciI6ICJibHVlIiwgImZpbGxPcGFjaXR5IjogMC4yLCAiZmlsbFJ1bGUiOiAiZXZlbm9kZCIsICJsaW5lQ2FwIjogInJvdW5kIiwgImxpbmVKb2luIjogInJvdW5kIiwgIm9wYWNpdHkiOiAxLjAsICJyYWRpdXMiOiAzLCAic3Ryb2tlIjogdHJ1ZSwgIndlaWdodCI6IDN9CiAgICAgICAgICAgICkuYWRkVG8obWFwXzcxNDQ1NGVkMzUwMzQ3ZmQ4YzZjYmM2NzA2N2U2MDUwKTsKICAgICAgICAKICAgIAogICAgICAgICAgICBjaXJjbGVfbWFya2VyX2U1MzMwNzRiYjQ3ZTQ1ZThhYjI3MWU2ZDQ1ZWU3ZjRkLmJpbmRUb29sdGlwKAogICAgICAgICAgICAgICAgYDxkaXY+CiAgICAgICAgICAgICAgICAgICAgIOydtOuUlOyVvOy7pO2UvCAtIOuMgOq1rOq0keyXreyLnCDsiJjshLHqtawg64us6rWs67KM64yA66GcNDk26ri4IDcyCiAgICAgICAgICAgICAgICAgPC9kaXY+YCwKICAgICAgICAgICAgICAgIHsic3RpY2t5IjogdHJ1ZX0KICAgICAgICAgICAgKTsKICAgICAgICAKICAgIAogICAgICAgICAgICB2YXIgY2lyY2xlX21hcmtlcl8xZjMwNGFjMmNiNzE0MjRlYTlmYzg1N2ZhZGJmODNkZCA9IEwuY2lyY2xlTWFya2VyKAogICAgICAgICAgICAgICAgWzM1Ljg4MDA5MzY0MTYxMTQsIDEyOC42NTMxOTg3MTQxXSwKICAgICAgICAgICAgICAgIHsiYnViYmxpbmdNb3VzZUV2ZW50cyI6IHRydWUsICJjb2xvciI6ICJncmVlbiIsICJkYXNoQXJyYXkiOiBudWxsLCAiZGFzaE9mZnNldCI6IG51bGwsICJmaWxsIjogZmFsc2UsICJmaWxsQ29sb3IiOiAiZ3JlZW4iLCAiZmlsbE9wYWNpdHkiOiAwLjIsICJmaWxsUnVsZSI6ICJldmVub2RkIiwgImxpbmVDYXAiOiAicm91bmQiLCAibGluZUpvaW4iOiAicm91bmQiLCAib3BhY2l0eSI6IDEuMCwgInJhZGl1cyI6IDMsICJzdHJva2UiOiB0cnVlLCAid2VpZ2h0IjogM30KICAgICAgICAgICAgKS5hZGRUbyhtYXBfNzE0NDU0ZWQzNTAzNDdmZDhjNmNiYzY3MDY3ZTYwNTApOwogICAgICAgIAogICAgCiAgICAgICAgICAgIGNpcmNsZV9tYXJrZXJfMWYzMDRhYzJjYjcxNDI0ZWE5ZmM4NTdmYWRiZjgzZGQuYmluZFRvb2x0aXAoCiAgICAgICAgICAgICAgICBgPGRpdj4KICAgICAgICAgICAgICAgICAgICAg7Iqk7YOA67KF7IqkIC0g64yA6rWs6rSR7Jet7IucIOuPmeq1rCDtmqjrj5nroZwy6ri4IDQ1CiAgICAgICAgICAgICAgICAgPC9kaXY+YCwKICAgICAgICAgICAgICAgIHsic3RpY2t5IjogdHJ1ZX0KICAgICAgICAgICAgKTsKICAgICAgICAKICAgIAogICAgICAgICAgICB2YXIgY2lyY2xlX21hcmtlcl9mZGZlNzA1OTc2NmE0Y2IxOTNkMTQwNjQyNzU5NTUxMyA9IEwuY2lyY2xlTWFya2VyKAogICAgICAgICAgICAgICAgWzM1Ljg3MDg4ODAxNDg4MzUsIDEyOC43Mjc0NzE5NTMyMzddLAogICAgICAgICAgICAgICAgeyJidWJibGluZ01vdXNlRXZlbnRzIjogdHJ1ZSwgImNvbG9yIjogImdyZWVuIiwgImRhc2hBcnJheSI6IG51bGwsICJkYXNoT2Zmc2V0IjogbnVsbCwgImZpbGwiOiBmYWxzZSwgImZpbGxDb2xvciI6ICJncmVlbiIsICJmaWxsT3BhY2l0eSI6IDAuMiwgImZpbGxSdWxlIjogImV2ZW5vZGQiLCAibGluZUNhcCI6ICJyb3VuZCIsICJsaW5lSm9pbiI6ICJyb3VuZCIsICJvcGFjaXR5IjogMS4wLCAicmFkaXVzIjogMywgInN0cm9rZSI6IHRydWUsICJ3ZWlnaHQiOiAzfQogICAgICAgICAgICApLmFkZFRvKG1hcF83MTQ0NTRlZDM1MDM0N2ZkOGM2Y2JjNjcwNjdlNjA1MCk7CiAgICAgICAgCiAgICAKICAgICAgICAgICAgY2lyY2xlX21hcmtlcl9mZGZlNzA1OTc2NmE0Y2IxOTNkMTQwNjQyNzU5NTUxMy5iaW5kVG9vbHRpcCgKICAgICAgICAgICAgICAgIGA8ZGl2PgogICAgICAgICAgICAgICAgICAgICDsiqTtg4DrsoXsiqQgLSDrjIDqtazqtJHsl63si5wg64+Z6rWsIOyViOyLrOuhnCAzODktMgogICAgICAgICAgICAgICAgIDwvZGl2PmAsCiAgICAgICAgICAgICAgICB7InN0aWNreSI6IHRydWV9CiAgICAgICAgICAgICk7CiAgICAgICAgCiAgICAKICAgICAgICAgICAgdmFyIGNpcmNsZV9tYXJrZXJfZWU4MTM0ZGMxOGE5NGY2OGI3YzYzNTg4MGEwMzUyMzAgPSBMLmNpcmNsZU1hcmtlcigKICAgICAgICAgICAgICAgIFszNS44Mzk1MDI5NTAyMjI5LCAxMjguNzA4MDU3NTI5MjM1XSwKICAgICAgICAgICAgICAgIHsiYnViYmxpbmdNb3VzZUV2ZW50cyI6IHRydWUsICJjb2xvciI6ICJncmVlbiIsICJkYXNoQXJyYXkiOiBudWxsLCAiZGFzaE9mZnNldCI6IG51bGwsICJmaWxsIjogZmFsc2UsICJmaWxsQ29sb3IiOiAiZ3JlZW4iLCAiZmlsbE9wYWNpdHkiOiAwLjIsICJmaWxsUnVsZSI6ICJldmVub2RkIiwgImxpbmVDYXAiOiAicm91bmQiLCAibGluZUpvaW4iOiAicm91bmQiLCAib3BhY2l0eSI6IDEuMCwgInJhZGl1cyI6IDMsICJzdHJva2UiOiB0cnVlLCAid2VpZ2h0IjogM30KICAgICAgICAgICAgKS5hZGRUbyhtYXBfNzE0NDU0ZWQzNTAzNDdmZDhjNmNiYzY3MDY3ZTYwNTApOwogICAgICAgIAogICAgCiAgICAgICAgICAgIGNpcmNsZV9tYXJrZXJfZWU4MTM0ZGMxOGE5NGY2OGI3YzYzNTg4MGEwMzUyMzAuYmluZFRvb2x0aXAoCiAgICAgICAgICAgICAgICBgPGRpdj4KICAgICAgICAgICAgICAgICAgICAg7Iqk7YOA67KF7Iqk64yA6rWs7Iuc7KeA7KCQIC0g64yA6rWs6rSR7Jet7IucIOyImOyEseq1rCDri6zqtazrsozrjIDroZwgMzIxNgogICAgICAgICAgICAgICAgIDwvZGl2PmAsCiAgICAgICAgICAgICAgICB7InN0aWNreSI6IHRydWV9CiAgICAgICAgICAgICk7CiAgICAgICAgCiAgICAKICAgICAgICAgICAgdmFyIGNpcmNsZV9tYXJrZXJfNDAyZTYyMmFjMWNmNGNhM2FiNDE1MWY4NDNjYThjYWYgPSBMLmNpcmNsZU1hcmtlcigKICAgICAgICAgICAgICAgIFszNS44NjEwMDEzNzQ3MTQsIDEyOC42MjgyODQyNTE1MV0sCiAgICAgICAgICAgICAgICB7ImJ1YmJsaW5nTW91c2VFdmVudHMiOiB0cnVlLCAiY29sb3IiOiAiZ3JlZW4iLCAiZGFzaEFycmF5IjogbnVsbCwgImRhc2hPZmZzZXQiOiBudWxsLCAiZmlsbCI6IGZhbHNlLCAiZmlsbENvbG9yIjogImdyZWVuIiwgImZpbGxPcGFjaXR5IjogMC4yLCAiZmlsbFJ1bGUiOiAiZXZlbm9kZCIsICJsaW5lQ2FwIjogInJvdW5kIiwgImxpbmVKb2luIjogInJvdW5kIiwgIm9wYWNpdHkiOiAxLjAsICJyYWRpdXMiOiAzLCAic3Ryb2tlIjogdHJ1ZSwgIndlaWdodCI6IDN9CiAgICAgICAgICAgICkuYWRkVG8obWFwXzcxNDQ1NGVkMzUwMzQ3ZmQ4YzZjYmM2NzA2N2U2MDUwKTsKICAgICAgICAKICAgIAogICAgICAgICAgICBjaXJjbGVfbWFya2VyXzQwMmU2MjJhYzFjZjRjYTNhYjQxNTFmODQzY2E4Y2FmLmJpbmRUb29sdGlwKAogICAgICAgICAgICAgICAgYDxkaXY+CiAgICAgICAgICAgICAgICAgICAgIOyKpO2DgOuyheyKpOuMgOq1rOuylOyWtOygnOuLiOyKpCAtIOuMgOq1rOq0keyXreyLnCDsiJjshLHqtawg64us6rWs67KM64yA66GcIDI0MzUKICAgICAgICAgICAgICAgICA8L2Rpdj5gLAogICAgICAgICAgICAgICAgeyJzdGlja3kiOiB0cnVlfQogICAgICAgICAgICApOwogICAgICAgIAogICAgCiAgICAgICAgICAgIHZhciBjaXJjbGVfbWFya2VyX2IzMDNkNmVmNGEyYzQxMGFhOTM1NDNkZTE5NThiNTk1ID0gTC5jaXJjbGVNYXJrZXIoCiAgICAgICAgICAgICAgICBbMzUuODY3MjQwNTQxNTU3NCwgMTI4LjU5Nzg1OTkyODgxMV0sCiAgICAgICAgICAgICAgICB7ImJ1YmJsaW5nTW91c2VFdmVudHMiOiB0cnVlLCAiY29sb3IiOiAiZ3JlZW4iLCAiZGFzaEFycmF5IjogbnVsbCwgImRhc2hPZmZzZXQiOiBudWxsLCAiZmlsbCI6IGZhbHNlLCAiZmlsbENvbG9yIjogImdyZWVuIiwgImZpbGxPcGFjaXR5IjogMC4yLCAiZmlsbFJ1bGUiOiAiZXZlbm9kZCIsICJsaW5lQ2FwIjogInJvdW5kIiwgImxpbmVKb2luIjogInJvdW5kIiwgIm9wYWNpdHkiOiAxLjAsICJyYWRpdXMiOiAzLCAic3Ryb2tlIjogdHJ1ZSwgIndlaWdodCI6IDN9CiAgICAgICAgICAgICkuYWRkVG8obWFwXzcxNDQ1NGVkMzUwMzQ3ZmQ4YzZjYmM2NzA2N2U2MDUwKTsKICAgICAgICAKICAgIAogICAgICAgICAgICBjaXJjbGVfbWFya2VyX2IzMDNkNmVmNGEyYzQxMGFhOTM1NDNkZTE5NThiNTk1LmJpbmRUb29sdGlwKAogICAgICAgICAgICAgICAgYDxkaXY+CiAgICAgICAgICAgICAgICAgICAgIOyKpO2DgOuyheyKpCAtIOuMgOq1rOq0keyXreyLnCDspJHqtawg64+Z7ISx66GcNeq4uCA2MgogICAgICAgICAgICAgICAgIDwvZGl2PmAsCiAgICAgICAgICAgICAgICB7InN0aWNreSI6IHRydWV9CiAgICAgICAgICAgICk7CiAgICAgICAgCiAgICAKICAgICAgICAgICAgdmFyIGNpcmNsZV9tYXJrZXJfNTEzMTAwNTY4MWE0NDJiMWFkMDg0NDVmNzYxMjMxY2MgPSBMLmNpcmNsZU1hcmtlcigKICAgICAgICAgICAgICAgIFszNS45MjIwNDEwMDQwMzMyMDQsIDEyOC42Mzk3Njk5NTQ3MjVdLAogICAgICAgICAgICAgICAgeyJidWJibGluZ01vdXNlRXZlbnRzIjogdHJ1ZSwgImNvbG9yIjogImdyZWVuIiwgImRhc2hBcnJheSI6IG51bGwsICJkYXNoT2Zmc2V0IjogbnVsbCwgImZpbGwiOiBmYWxzZSwgImZpbGxDb2xvciI6ICJncmVlbiIsICJmaWxsT3BhY2l0eSI6IDAuMiwgImZpbGxSdWxlIjogImV2ZW5vZGQiLCAibGluZUNhcCI6ICJyb3VuZCIsICJsaW5lSm9pbiI6ICJyb3VuZCIsICJvcGFjaXR5IjogMS4wLCAicmFkaXVzIjogMywgInN0cm9rZSI6IHRydWUsICJ3ZWlnaHQiOiAzfQogICAgICAgICAgICApLmFkZFRvKG1hcF83MTQ0NTRlZDM1MDM0N2ZkOGM2Y2JjNjcwNjdlNjA1MCk7CiAgICAgICAgCiAgICAKICAgICAgICAgICAgY2lyY2xlX21hcmtlcl81MTMxMDA1NjgxYTQ0MmIxYWQwODQ0NWY3NjEyMzFjYy5iaW5kVG9vbHRpcCgKICAgICAgICAgICAgICAgIGA8ZGl2PgogICAgICAgICAgICAgICAgICAgICDsiqTtg4DrsoXsiqQgLSDrjIDqtazqtJHsl63si5wg64+Z6rWsIO2MlOqzteuhnDUx6ri4IDE1LTExCiAgICAgICAgICAgICAgICAgPC9kaXY+YCwKICAgICAgICAgICAgICAgIHsic3RpY2t5IjogdHJ1ZX0KICAgICAgICAgICAgKTsKICAgICAgICAKICAgIAogICAgICAgICAgICB2YXIgY2lyY2xlX21hcmtlcl9jOTkxMzdmNmMyZGM0ODdhODY0NzlmZjlkODExYWViNyA9IEwuY2lyY2xlTWFya2VyKAogICAgICAgICAgICAgICAgWzM1Ljg1NTg1MTc3NDI0MTUsIDEyOC40OTM4MTExNDgzMDA5OF0sCiAgICAgICAgICAgICAgICB7ImJ1YmJsaW5nTW91c2VFdmVudHMiOiB0cnVlLCAiY29sb3IiOiAiZ3JlZW4iLCAiZGFzaEFycmF5IjogbnVsbCwgImRhc2hPZmZzZXQiOiBudWxsLCAiZmlsbCI6IGZhbHNlLCAiZmlsbENvbG9yIjogImdyZWVuIiwgImZpbGxPcGFjaXR5IjogMC4yLCAiZmlsbFJ1bGUiOiAiZXZlbm9kZCIsICJsaW5lQ2FwIjogInJvdW5kIiwgImxpbmVKb2luIjogInJvdW5kIiwgIm9wYWNpdHkiOiAxLjAsICJyYWRpdXMiOiAzLCAic3Ryb2tlIjogdHJ1ZSwgIndlaWdodCI6IDN9CiAgICAgICAgICAgICkuYWRkVG8obWFwXzcxNDQ1NGVkMzUwMzQ3ZmQ4YzZjYmM2NzA2N2U2MDUwKTsKICAgICAgICAKICAgIAogICAgICAgICAgICBjaXJjbGVfbWFya2VyX2M5OTEzN2Y2YzJkYzQ4N2E4NjQ3OWZmOWQ4MTFhZWI3LmJpbmRUb29sdGlwKAogICAgICAgICAgICAgICAgYDxkaXY+CiAgICAgICAgICAgICAgICAgICAgIOyKpO2DgOuyheyKpCAtIOuMgOq1rOq0keyXreyLnCDri6zshJzqtawg6rOE64yA64+Z66y466GcIDEzCiAgICAgICAgICAgICAgICAgPC9kaXY+YCwKICAgICAgICAgICAgICAgIHsic3RpY2t5IjogdHJ1ZX0KICAgICAgICAgICAgKTsKICAgICAgICAKICAgIAogICAgICAgICAgICB2YXIgY2lyY2xlX21hcmtlcl9mMzBlN2IyYTA1NDM0NDViYWNlZmY4Mjk4NjhkZmQ3OSA9IEwuY2lyY2xlTWFya2VyKAogICAgICAgICAgICAgICAgWzM1Ljg2NzM3Mjc4NzkyNDQsIDEyOC43MjQ1MDU0MzIyMDZdLAogICAgICAgICAgICAgICAgeyJidWJibGluZ01vdXNlRXZlbnRzIjogdHJ1ZSwgImNvbG9yIjogImJsdWUiLCAiZGFzaEFycmF5IjogbnVsbCwgImRhc2hPZmZzZXQiOiBudWxsLCAiZmlsbCI6IGZhbHNlLCAiZmlsbENvbG9yIjogImJsdWUiLCAiZmlsbE9wYWNpdHkiOiAwLjIsICJmaWxsUnVsZSI6ICJldmVub2RkIiwgImxpbmVDYXAiOiAicm91bmQiLCAibGluZUpvaW4iOiAicm91bmQiLCAib3BhY2l0eSI6IDEuMCwgInJhZGl1cyI6IDMsICJzdHJva2UiOiB0cnVlLCAid2VpZ2h0IjogM30KICAgICAgICAgICAgKS5hZGRUbyhtYXBfNzE0NDU0ZWQzNTAzNDdmZDhjNmNiYzY3MDY3ZTYwNTApOwogICAgICAgIAogICAgCiAgICAgICAgICAgIGNpcmNsZV9tYXJrZXJfZjMwZTdiMmEwNTQzNDQ1YmFjZWZmODI5ODY4ZGZkNzkuYmluZFRvb2x0aXAoCiAgICAgICAgICAgICAgICBgPGRpdj4KICAgICAgICAgICAgICAgICAgICAg7J2065SU7JW87Luk7ZS8IC0g64yA6rWs6rSR7Jet7IucIOuPmeq1rCDquIjqsJXroZwgNQogICAgICAgICAgICAgICAgIDwvZGl2PmAsCiAgICAgICAgICAgICAgICB7InN0aWNreSI6IHRydWV9CiAgICAgICAgICAgICk7CiAgICAgICAgCiAgICAKICAgICAgICAgICAgdmFyIGNpcmNsZV9tYXJrZXJfN2U5ZDZlODBhMTdjNGVjNzkwOGM4MWJhNDRmNGQwNWUgPSBMLmNpcmNsZU1hcmtlcigKICAgICAgICAgICAgICAgIFszNS44NTUwNzA3MjQ2OTU4LCAxMjguNTEwMzI1MTU3MTYwMDNdLAogICAgICAgICAgICAgICAgeyJidWJibGluZ01vdXNlRXZlbnRzIjogdHJ1ZSwgImNvbG9yIjogImdyZWVuIiwgImRhc2hBcnJheSI6IG51bGwsICJkYXNoT2Zmc2V0IjogbnVsbCwgImZpbGwiOiBmYWxzZSwgImZpbGxDb2xvciI6ICJncmVlbiIsICJmaWxsT3BhY2l0eSI6IDAuMiwgImZpbGxSdWxlIjogImV2ZW5vZGQiLCAibGluZUNhcCI6ICJyb3VuZCIsICJsaW5lSm9pbiI6ICJyb3VuZCIsICJvcGFjaXR5IjogMS4wLCAicmFkaXVzIjogMywgInN0cm9rZSI6IHRydWUsICJ3ZWlnaHQiOiAzfQogICAgICAgICAgICApLmFkZFRvKG1hcF83MTQ0NTRlZDM1MDM0N2ZkOGM2Y2JjNjcwNjdlNjA1MCk7CiAgICAgICAgCiAgICAKICAgICAgICAgICAgY2lyY2xlX21hcmtlcl83ZTlkNmU4MGExN2M0ZWM3OTA4YzgxYmE0NGY0ZDA1ZS5iaW5kVG9vbHRpcCgKICAgICAgICAgICAgICAgIGA8ZGl2PgogICAgICAgICAgICAgICAgICAgICDsiqTtg4DrsoXsiqQgLSDrjIDqtazqtJHsl63si5wg64us7ISc6rWsIOydtOqzoeqzteybkOuhnCAyNgogICAgICAgICAgICAgICAgIDwvZGl2PmAsCiAgICAgICAgICAgICAgICB7InN0aWNreSI6IHRydWV9CiAgICAgICAgICAgICk7CiAgICAgICAgCiAgICAKICAgICAgICAgICAgdmFyIGNpcmNsZV9tYXJrZXJfODkxZDAxYTFkYmM1NDliMWI0NDFjY2NhMmFjNDlhOWYgPSBMLmNpcmNsZU1hcmtlcigKICAgICAgICAgICAgICAgIFszNS44NTYzNjg5NjQ5MjE0LCAxMjguNjUwMjM2MTIzMjg2XSwKICAgICAgICAgICAgICAgIHsiYnViYmxpbmdNb3VzZUV2ZW50cyI6IHRydWUsICJjb2xvciI6ICJncmVlbiIsICJkYXNoQXJyYXkiOiBudWxsLCAiZGFzaE9mZnNldCI6IG51bGwsICJmaWxsIjogZmFsc2UsICJmaWxsQ29sb3IiOiAiZ3JlZW4iLCAiZmlsbE9wYWNpdHkiOiAwLjIsICJmaWxsUnVsZSI6ICJldmVub2RkIiwgImxpbmVDYXAiOiAicm91bmQiLCAibGluZUpvaW4iOiAicm91bmQiLCAib3BhY2l0eSI6IDEuMCwgInJhZGl1cyI6IDMsICJzdHJva2UiOiB0cnVlLCAid2VpZ2h0IjogM30KICAgICAgICAgICAgKS5hZGRUbyhtYXBfNzE0NDU0ZWQzNTAzNDdmZDhjNmNiYzY3MDY3ZTYwNTApOwogICAgICAgIAogICAgCiAgICAgICAgICAgIGNpcmNsZV9tYXJrZXJfODkxZDAxYTFkYmM1NDliMWI0NDFjY2NhMmFjNDlhOWYuYmluZFRvb2x0aXAoCiAgICAgICAgICAgICAgICBgPGRpdj4KICAgICAgICAgICAgICAgICAgICAg7Iqk7YOA67KF7IqkIC0g64yA6rWs6rSR7Jet7IucIOyImOyEseq1rCDri6zqtazrsozrjIDroZwgMjYzNgogICAgICAgICAgICAgICAgIDwvZGl2PmAsCiAgICAgICAgICAgICAgICB7InN0aWNreSI6IHRydWV9CiAgICAgICAgICAgICk7CiAgICAgICAgCiAgICAKICAgICAgICAgICAgdmFyIGNpcmNsZV9tYXJrZXJfNjcyYzNmMTM0NGIzNDZkOGEzYjVlNWY0NDliMjMzOTYgPSBMLmNpcmNsZU1hcmtlcigKICAgICAgICAgICAgICAgIFszNS44MzUzMDQxMDQ0MTM5LCAxMjguNTc5OTc2NTUyMTY4XSwKICAgICAgICAgICAgICAgIHsiYnViYmxpbmdNb3VzZUV2ZW50cyI6IHRydWUsICJjb2xvciI6ICJncmVlbiIsICJkYXNoQXJyYXkiOiBudWxsLCAiZGFzaE9mZnNldCI6IG51bGwsICJmaWxsIjogZmFsc2UsICJmaWxsQ29sb3IiOiAiZ3JlZW4iLCAiZmlsbE9wYWNpdHkiOiAwLjIsICJmaWxsUnVsZSI6ICJldmVub2RkIiwgImxpbmVDYXAiOiAicm91bmQiLCAibGluZUpvaW4iOiAicm91bmQiLCAib3BhY2l0eSI6IDEuMCwgInJhZGl1cyI6IDMsICJzdHJva2UiOiB0cnVlLCAid2VpZ2h0IjogM30KICAgICAgICAgICAgKS5hZGRUbyhtYXBfNzE0NDU0ZWQzNTAzNDdmZDhjNmNiYzY3MDY3ZTYwNTApOwogICAgICAgIAogICAgCiAgICAgICAgICAgIGNpcmNsZV9tYXJrZXJfNjcyYzNmMTM0NGIzNDZkOGEzYjVlNWY0NDliMjMzOTYuYmluZFRvb2x0aXAoCiAgICAgICAgICAgICAgICBgPGRpdj4KICAgICAgICAgICAgICAgICAgICAg7Iqk7YOA67KF7IqkIC0g64yA6rWs6rSR7Jet7IucIOuCqOq1rCDtmITstqnroZwgMzAKICAgICAgICAgICAgICAgICA8L2Rpdj5gLAogICAgICAgICAgICAgICAgeyJzdGlja3kiOiB0cnVlfQogICAgICAgICAgICApOwogICAgICAgIAogICAgCiAgICAgICAgICAgIHZhciBjaXJjbGVfbWFya2VyXzI1ZmM3ODQ3YjRkMjQ4YzFhYjZkZWQ2NjhkOWVjODE0ID0gTC5jaXJjbGVNYXJrZXIoCiAgICAgICAgICAgICAgICBbMzUuODY2MTY3NTI5ODE0NywgMTI4LjYyNjI1NDM1NzI2Mjk4XSwKICAgICAgICAgICAgICAgIHsiYnViYmxpbmdNb3VzZUV2ZW50cyI6IHRydWUsICJjb2xvciI6ICJncmVlbiIsICJkYXNoQXJyYXkiOiBudWxsLCAiZGFzaE9mZnNldCI6IG51bGwsICJmaWxsIjogZmFsc2UsICJmaWxsQ29sb3IiOiAiZ3JlZW4iLCAiZmlsbE9wYWNpdHkiOiAwLjIsICJmaWxsUnVsZSI6ICJldmVub2RkIiwgImxpbmVDYXAiOiAicm91bmQiLCAibGluZUpvaW4iOiAicm91bmQiLCAib3BhY2l0eSI6IDEuMCwgInJhZGl1cyI6IDMsICJzdHJva2UiOiB0cnVlLCAid2VpZ2h0IjogM30KICAgICAgICAgICAgKS5hZGRUbyhtYXBfNzE0NDU0ZWQzNTAzNDdmZDhjNmNiYzY3MDY3ZTYwNTApOwogICAgICAgIAogICAgCiAgICAgICAgICAgIGNpcmNsZV9tYXJrZXJfMjVmYzc4NDdiNGQyNDhjMWFiNmRlZDY2OGQ5ZWM4MTQuYmluZFRvb2x0aXAoCiAgICAgICAgICAgICAgICBgPGRpdj4KICAgICAgICAgICAgICAgICAgICAg7Iqk7YOA67KF7IqkIC0g64yA6rWs6rSR7Jet7IucIOyImOyEseq1rCDrj5nrjIDqtazroZwgNDAxCiAgICAgICAgICAgICAgICAgPC9kaXY+YCwKICAgICAgICAgICAgICAgIHsic3RpY2t5IjogdHJ1ZX0KICAgICAgICAgICAgKTsKICAgICAgICAKICAgIAogICAgICAgICAgICB2YXIgY2lyY2xlX21hcmtlcl80N2QzMjg1NTZkOWI0YTJmOGU1ZjQ0ZTkwMmI2YmFmNSA9IEwuY2lyY2xlTWFya2VyKAogICAgICAgICAgICAgICAgWzM1Ljg0NDQ2NDQ0MjI5NTQsIDEyOC41MzY2ODE2MDk3NTZdLAogICAgICAgICAgICAgICAgeyJidWJibGluZ01vdXNlRXZlbnRzIjogdHJ1ZSwgImNvbG9yIjogImdyZWVuIiwgImRhc2hBcnJheSI6IG51bGwsICJkYXNoT2Zmc2V0IjogbnVsbCwgImZpbGwiOiBmYWxzZSwgImZpbGxDb2xvciI6ICJncmVlbiIsICJmaWxsT3BhY2l0eSI6IDAuMiwgImZpbGxSdWxlIjogImV2ZW5vZGQiLCAibGluZUNhcCI6ICJyb3VuZCIsICJsaW5lSm9pbiI6ICJyb3VuZCIsICJvcGFjaXR5IjogMS4wLCAicmFkaXVzIjogMywgInN0cm9rZSI6IHRydWUsICJ3ZWlnaHQiOiAzfQogICAgICAgICAgICApLmFkZFRvKG1hcF83MTQ0NTRlZDM1MDM0N2ZkOGM2Y2JjNjcwNjdlNjA1MCk7CiAgICAgICAgCiAgICAKICAgICAgICAgICAgY2lyY2xlX21hcmtlcl80N2QzMjg1NTZkOWI0YTJmOGU1ZjQ0ZTkwMmI2YmFmNS5iaW5kVG9vbHRpcCgKICAgICAgICAgICAgICAgIGA8ZGl2PgogICAgICAgICAgICAgICAgICAgICDsiqTtg4DrsoXsiqQgLSDrjIDqtazqtJHsl63si5wg64us7ISc6rWsIOyZgOujoeuhnCAxMzEKICAgICAgICAgICAgICAgICA8L2Rpdj5gLAogICAgICAgICAgICAgICAgeyJzdGlja3kiOiB0cnVlfQogICAgICAgICAgICApOwogICAgICAgIAogICAgCiAgICAgICAgICAgIHZhciBjaXJjbGVfbWFya2VyX2NlYjRjNWQ3ZWJhMjRkZTliODkxOGM4NTExMjk3ZjFkID0gTC5jaXJjbGVNYXJrZXIoCiAgICAgICAgICAgICAgICBbMzUuOTg3OTcxNDUxMTI1OCwgMTI4LjYzNjQwOTE4MzI5XSwKICAgICAgICAgICAgICAgIHsiYnViYmxpbmdNb3VzZUV2ZW50cyI6IHRydWUsICJjb2xvciI6ICJncmVlbiIsICJkYXNoQXJyYXkiOiBudWxsLCAiZGFzaE9mZnNldCI6IG51bGwsICJmaWxsIjogZmFsc2UsICJmaWxsQ29sb3IiOiAiZ3JlZW4iLCAiZmlsbE9wYWNpdHkiOiAwLjIsICJmaWxsUnVsZSI6ICJldmVub2RkIiwgImxpbmVDYXAiOiAicm91bmQiLCAibGluZUpvaW4iOiAicm91bmQiLCAib3BhY2l0eSI6IDEuMCwgInJhZGl1cyI6IDMsICJzdHJva2UiOiB0cnVlLCAid2VpZ2h0IjogM30KICAgICAgICAgICAgKS5hZGRUbyhtYXBfNzE0NDU0ZWQzNTAzNDdmZDhjNmNiYzY3MDY3ZTYwNTApOwogICAgICAgIAogICAgCiAgICAgICAgICAgIGNpcmNsZV9tYXJrZXJfY2ViNGM1ZDdlYmEyNGRlOWI4OTE4Yzg1MTEyOTdmMWQuYmluZFRvb2x0aXAoCiAgICAgICAgICAgICAgICBgPGRpdj4KICAgICAgICAgICAgICAgICAgICAg7Iqk7YOA67KF7IqkIC0g64yA6rWs6rSR7Jet7IucIOuPmeq1rCDtjIzqs4TroZwgNjUwCiAgICAgICAgICAgICAgICAgPC9kaXY+YCwKICAgICAgICAgICAgICAgIHsic3RpY2t5IjogdHJ1ZX0KICAgICAgICAgICAgKTsKICAgICAgICAKICAgIAogICAgICAgICAgICB2YXIgY2lyY2xlX21hcmtlcl9kZTQ1MzdmODI1ZGU0NWJhOWY3OGMyYzkyNWE1YzVkNSA9IEwuY2lyY2xlTWFya2VyKAogICAgICAgICAgICAgICAgWzM1Ljg0MjcwNTI5MTMzOTQsIDEyOC41Nzk3MDkzOTg3NzFdLAogICAgICAgICAgICAgICAgeyJidWJibGluZ01vdXNlRXZlbnRzIjogdHJ1ZSwgImNvbG9yIjogImJsdWUiLCAiZGFzaEFycmF5IjogbnVsbCwgImRhc2hPZmZzZXQiOiBudWxsLCAiZmlsbCI6IGZhbHNlLCAiZmlsbENvbG9yIjogImJsdWUiLCAiZmlsbE9wYWNpdHkiOiAwLjIsICJmaWxsUnVsZSI6ICJldmVub2RkIiwgImxpbmVDYXAiOiAicm91bmQiLCAibGluZUpvaW4iOiAicm91bmQiLCAib3BhY2l0eSI6IDEuMCwgInJhZGl1cyI6IDMsICJzdHJva2UiOiB0cnVlLCAid2VpZ2h0IjogM30KICAgICAgICAgICAgKS5hZGRUbyhtYXBfNzE0NDU0ZWQzNTAzNDdmZDhjNmNiYzY3MDY3ZTYwNTApOwogICAgICAgIAogICAgCiAgICAgICAgICAgIGNpcmNsZV9tYXJrZXJfZGU0NTM3ZjgyNWRlNDViYTlmNzhjMmM5MjVhNWM1ZDUuYmluZFRvb2x0aXAoCiAgICAgICAgICAgICAgICBgPGRpdj4KICAgICAgICAgICAgICAgICAgICAg7J2065SU7JW87Luk7ZS8IC0g64yA6rWs6rSR7Jet7IucIOuCqOq1rCDtmITstqnroZwgMTA3CiAgICAgICAgICAgICAgICAgPC9kaXY+YCwKICAgICAgICAgICAgICAgIHsic3RpY2t5IjogdHJ1ZX0KICAgICAgICAgICAgKTsKICAgICAgICAKICAgIAogICAgICAgICAgICB2YXIgY2lyY2xlX21hcmtlcl82NDY0ZGQ4NzBkNGQ0MTc4ODBiYmY1Njg1OTM4ZGNjOCA9IEwuY2lyY2xlTWFya2VyKAogICAgICAgICAgICAgICAgWzM1LjgzNzkyNzk4MDUyNTcwNiwgMTI4LjU1Njg5NDIzNjQ1M10sCiAgICAgICAgICAgICAgICB7ImJ1YmJsaW5nTW91c2VFdmVudHMiOiB0cnVlLCAiY29sb3IiOiAiZ3JlZW4iLCAiZGFzaEFycmF5IjogbnVsbCwgImRhc2hPZmZzZXQiOiBudWxsLCAiZmlsbCI6IGZhbHNlLCAiZmlsbENvbG9yIjogImdyZWVuIiwgImZpbGxPcGFjaXR5IjogMC4yLCAiZmlsbFJ1bGUiOiAiZXZlbm9kZCIsICJsaW5lQ2FwIjogInJvdW5kIiwgImxpbmVKb2luIjogInJvdW5kIiwgIm9wYWNpdHkiOiAxLjAsICJyYWRpdXMiOiAzLCAic3Ryb2tlIjogdHJ1ZSwgIndlaWdodCI6IDN9CiAgICAgICAgICAgICkuYWRkVG8obWFwXzcxNDQ1NGVkMzUwMzQ3ZmQ4YzZjYmM2NzA2N2U2MDUwKTsKICAgICAgICAKICAgIAogICAgICAgICAgICBjaXJjbGVfbWFya2VyXzY0NjRkZDg3MGQ0ZDQxNzg4MGJiZjU2ODU5MzhkY2M4LmJpbmRUb29sdGlwKAogICAgICAgICAgICAgICAgYDxkaXY+CiAgICAgICAgICAgICAgICAgICAgIOyKpO2DgOuyheyKpCAtIOuMgOq1rOq0keyXreyLnCDri6zshJzqtawg6rWs66eI66GcIDI2NQogICAgICAgICAgICAgICAgIDwvZGl2PmAsCiAgICAgICAgICAgICAgICB7InN0aWNreSI6IHRydWV9CiAgICAgICAgICAgICk7CiAgICAgICAgCiAgICAKICAgICAgICAgICAgdmFyIGNpcmNsZV9tYXJrZXJfMGQ5YmZiNWFjY2ViNGIwNTg2NWY3M2U5YzBlMDlkOTAgPSBMLmNpcmNsZU1hcmtlcigKICAgICAgICAgICAgICAgIFszNS44MTgyODEzNzYxODg4LCAxMjguNTM2NTQ5NjA2OTYzXSwKICAgICAgICAgICAgICAgIHsiYnViYmxpbmdNb3VzZUV2ZW50cyI6IHRydWUsICJjb2xvciI6ICJncmVlbiIsICJkYXNoQXJyYXkiOiBudWxsLCAiZGFzaE9mZnNldCI6IG51bGwsICJmaWxsIjogZmFsc2UsICJmaWxsQ29sb3IiOiAiZ3JlZW4iLCAiZmlsbE9wYWNpdHkiOiAwLjIsICJmaWxsUnVsZSI6ICJldmVub2RkIiwgImxpbmVDYXAiOiAicm91bmQiLCAibGluZUpvaW4iOiAicm91bmQiLCAib3BhY2l0eSI6IDEuMCwgInJhZGl1cyI6IDMsICJzdHJva2UiOiB0cnVlLCAid2VpZ2h0IjogM30KICAgICAgICAgICAgKS5hZGRUbyhtYXBfNzE0NDU0ZWQzNTAzNDdmZDhjNmNiYzY3MDY3ZTYwNTApOwogICAgICAgIAogICAgCiAgICAgICAgICAgIGNpcmNsZV9tYXJrZXJfMGQ5YmZiNWFjY2ViNGIwNTg2NWY3M2U5YzBlMDlkOTAuYmluZFRvb2x0aXAoCiAgICAgICAgICAgICAgICBgPGRpdj4KICAgICAgICAgICAgICAgICAgICAg7Iqk7YOA67KF7IqkIC0g64yA6rWs6rSR7Jet7IucIOuLrOyEnOq1rCDsm5TrsLDroZwgMjEwCiAgICAgICAgICAgICAgICAgPC9kaXY+YCwKICAgICAgICAgICAgICAgIHsic3RpY2t5IjogdHJ1ZX0KICAgICAgICAgICAgKTsKICAgICAgICAKICAgIAogICAgICAgICAgICB2YXIgY2lyY2xlX21hcmtlcl9kY2VlZWQ4OTliNzA0NzRmOTVjNzUyMGVjN2ZkZGQ0ZiA9IEwuY2lyY2xlTWFya2VyKAogICAgICAgICAgICAgICAgWzM1Ljg5MjMyNDU3MjA1OTUsIDEyOC42MDg1NzEzNTEzODJdLAogICAgICAgICAgICAgICAgeyJidWJibGluZ01vdXNlRXZlbnRzIjogdHJ1ZSwgImNvbG9yIjogImdyZWVuIiwgImRhc2hBcnJheSI6IG51bGwsICJkYXNoT2Zmc2V0IjogbnVsbCwgImZpbGwiOiBmYWxzZSwgImZpbGxDb2xvciI6ICJncmVlbiIsICJmaWxsT3BhY2l0eSI6IDAuMiwgImZpbGxSdWxlIjogImV2ZW5vZGQiLCAibGluZUNhcCI6ICJyb3VuZCIsICJsaW5lSm9pbiI6ICJyb3VuZCIsICJvcGFjaXR5IjogMS4wLCAicmFkaXVzIjogMywgInN0cm9rZSI6IHRydWUsICJ3ZWlnaHQiOiAzfQogICAgICAgICAgICApLmFkZFRvKG1hcF83MTQ0NTRlZDM1MDM0N2ZkOGM2Y2JjNjcwNjdlNjA1MCk7CiAgICAgICAgCiAgICAKICAgICAgICAgICAgY2lyY2xlX21hcmtlcl9kY2VlZWQ4OTliNzA0NzRmOTVjNzUyMGVjN2ZkZGQ0Zi5iaW5kVG9vbHRpcCgKICAgICAgICAgICAgICAgIGA8ZGl2PgogICAgICAgICAgICAgICAgICAgICDsiqTtg4DrsoXsiqQgLSDrjIDqtazqtJHsl63si5wg67aB6rWsIOuMgO2VmeuhnCA3NQogICAgICAgICAgICAgICAgIDwvZGl2PmAsCiAgICAgICAgICAgICAgICB7InN0aWNreSI6IHRydWV9CiAgICAgICAgICAgICk7CiAgICAgICAgCiAgICAKICAgICAgICAgICAgdmFyIGNpcmNsZV9tYXJrZXJfNmUwMTA4M2Y4MDg4NDA3M2JjNjkyMDFhZTAwZGVjMGUgPSBMLmNpcmNsZU1hcmtlcigKICAgICAgICAgICAgICAgIFszNS44ODUyMzQ3MDQyMjIzLCAxMjguNTg5Nzk5MDc3MTMyXSwKICAgICAgICAgICAgICAgIHsiYnViYmxpbmdNb3VzZUV2ZW50cyI6IHRydWUsICJjb2xvciI6ICJibHVlIiwgImRhc2hBcnJheSI6IG51bGwsICJkYXNoT2Zmc2V0IjogbnVsbCwgImZpbGwiOiBmYWxzZSwgImZpbGxDb2xvciI6ICJibHVlIiwgImZpbGxPcGFjaXR5IjogMC4yLCAiZmlsbFJ1bGUiOiAiZXZlbm9kZCIsICJsaW5lQ2FwIjogInJvdW5kIiwgImxpbmVKb2luIjogInJvdW5kIiwgIm9wYWNpdHkiOiAxLjAsICJyYWRpdXMiOiAzLCAic3Ryb2tlIjogdHJ1ZSwgIndlaWdodCI6IDN9CiAgICAgICAgICAgICkuYWRkVG8obWFwXzcxNDQ1NGVkMzUwMzQ3ZmQ4YzZjYmM2NzA2N2U2MDUwKTsKICAgICAgICAKICAgIAogICAgICAgICAgICBjaXJjbGVfbWFya2VyXzZlMDEwODNmODA4ODQwNzNiYzY5MjAxYWUwMGRlYzBlLmJpbmRUb29sdGlwKAogICAgICAgICAgICAgICAgYDxkaXY+CiAgICAgICAgICAgICAgICAgICAgIOydtOuUlOyVvOydtOuniO2KuCAtIOuMgOq1rOq0keyXreyLnCDrtoHqtawg7Lmo7IKw66GcIDkzCiAgICAgICAgICAgICAgICAgPC9kaXY+YCwKICAgICAgICAgICAgICAgIHsic3RpY2t5IjogdHJ1ZX0KICAgICAgICAgICAgKTsKICAgICAgICAKICAgIAogICAgICAgICAgICB2YXIgY2lyY2xlX21hcmtlcl83YTg0MzcyMWM0ZjE0ZjFkYjQ5N2Q5ODBhMzk5OTI4NiA9IEwuY2lyY2xlTWFya2VyKAogICAgICAgICAgICAgICAgWzM1LjgyNTcwMzU0MjEwMjEwNCwgMTI4LjYyMTczMDY5OTc4MDAyXSwKICAgICAgICAgICAgICAgIHsiYnViYmxpbmdNb3VzZUV2ZW50cyI6IHRydWUsICJjb2xvciI6ICJncmVlbiIsICJkYXNoQXJyYXkiOiBudWxsLCAiZGFzaE9mZnNldCI6IG51bGwsICJmaWxsIjogZmFsc2UsICJmaWxsQ29sb3IiOiAiZ3JlZW4iLCAiZmlsbE9wYWNpdHkiOiAwLjIsICJmaWxsUnVsZSI6ICJldmVub2RkIiwgImxpbmVDYXAiOiAicm91bmQiLCAibGluZUpvaW4iOiAicm91bmQiLCAib3BhY2l0eSI6IDEuMCwgInJhZGl1cyI6IDMsICJzdHJva2UiOiB0cnVlLCAid2VpZ2h0IjogM30KICAgICAgICAgICAgKS5hZGRUbyhtYXBfNzE0NDU0ZWQzNTAzNDdmZDhjNmNiYzY3MDY3ZTYwNTApOwogICAgICAgIAogICAgCiAgICAgICAgICAgIGNpcmNsZV9tYXJrZXJfN2E4NDM3MjFjNGYxNGYxZGI0OTdkOTgwYTM5OTkyODYuYmluZFRvb2x0aXAoCiAgICAgICAgICAgICAgICBgPGRpdj4KICAgICAgICAgICAgICAgICAgICAg7Iqk7YOA67KF7IqkIC0g64yA6rWs6rSR7Jet7IucIOyImOyEseq1rCDsiJjshLHrqrvquLggNAogICAgICAgICAgICAgICAgIDwvZGl2PmAsCiAgICAgICAgICAgICAgICB7InN0aWNreSI6IHRydWV9CiAgICAgICAgICAgICk7CiAgICAgICAgCiAgICAKICAgICAgICAgICAgdmFyIGNpcmNsZV9tYXJrZXJfMWI2Zjg2YWJjNDE3NGYzY2I1MzdkMzkxZjBjOWQzMWEgPSBMLmNpcmNsZU1hcmtlcigKICAgICAgICAgICAgICAgIFszNS44NjI1OTc4NjcxNTkxLCAxMjguNjI2MzM3MDAyMjQ5XSwKICAgICAgICAgICAgICAgIHsiYnViYmxpbmdNb3VzZUV2ZW50cyI6IHRydWUsICJjb2xvciI6ICJncmVlbiIsICJkYXNoQXJyYXkiOiBudWxsLCAiZGFzaE9mZnNldCI6IG51bGwsICJmaWxsIjogZmFsc2UsICJmaWxsQ29sb3IiOiAiZ3JlZW4iLCAiZmlsbE9wYWNpdHkiOiAwLjIsICJmaWxsUnVsZSI6ICJldmVub2RkIiwgImxpbmVDYXAiOiAicm91bmQiLCAibGluZUpvaW4iOiAicm91bmQiLCAib3BhY2l0eSI6IDEuMCwgInJhZGl1cyI6IDMsICJzdHJva2UiOiB0cnVlLCAid2VpZ2h0IjogM30KICAgICAgICAgICAgKS5hZGRUbyhtYXBfNzE0NDU0ZWQzNTAzNDdmZDhjNmNiYzY3MDY3ZTYwNTApOwogICAgICAgIAogICAgCiAgICAgICAgICAgIGNpcmNsZV9tYXJrZXJfMWI2Zjg2YWJjNDE3NGYzY2I1MzdkMzkxZjBjOWQzMWEuYmluZFRvb2x0aXAoCiAgICAgICAgICAgICAgICBgPGRpdj4KICAgICAgICAgICAgICAgICAgICAg7Iqk7YOA67KF7IqkIC0g64yA6rWs6rSR7Jet7IucIOyImOyEseq1rCDrj5nrjIDqtazroZwgMzU5CiAgICAgICAgICAgICAgICAgPC9kaXY+YCwKICAgICAgICAgICAgICAgIHsic3RpY2t5IjogdHJ1ZX0KICAgICAgICAgICAgKTsKICAgICAgICAKICAgIAogICAgICAgICAgICB2YXIgY2lyY2xlX21hcmtlcl8zYTc2MmVjNTJiNmQ0OWQ3YTEzNGRhZDdjMWVkNTFhNCA9IEwuY2lyY2xlTWFya2VyKAogICAgICAgICAgICAgICAgWzM1Ljg4NzYyNTQ2OTYzODgsIDEyOC41NjQ5NTA5NTI0OTNdLAogICAgICAgICAgICAgICAgeyJidWJibGluZ01vdXNlRXZlbnRzIjogdHJ1ZSwgImNvbG9yIjogImdyZWVuIiwgImRhc2hBcnJheSI6IG51bGwsICJkYXNoT2Zmc2V0IjogbnVsbCwgImZpbGwiOiBmYWxzZSwgImZpbGxDb2xvciI6ICJncmVlbiIsICJmaWxsT3BhY2l0eSI6IDAuMiwgImZpbGxSdWxlIjogImV2ZW5vZGQiLCAibGluZUNhcCI6ICJyb3VuZCIsICJsaW5lSm9pbiI6ICJyb3VuZCIsICJvcGFjaXR5IjogMS4wLCAicmFkaXVzIjogMywgInN0cm9rZSI6IHRydWUsICJ3ZWlnaHQiOiAzfQogICAgICAgICAgICApLmFkZFRvKG1hcF83MTQ0NTRlZDM1MDM0N2ZkOGM2Y2JjNjcwNjdlNjA1MCk7CiAgICAgICAgCiAgICAKICAgICAgICAgICAgY2lyY2xlX21hcmtlcl8zYTc2MmVjNTJiNmQ0OWQ3YTEzNGRhZDdjMWVkNTFhNC5iaW5kVG9vbHRpcCgKICAgICAgICAgICAgICAgIGA8ZGl2PgogICAgICAgICAgICAgICAgICAgICDsiqTtg4DrsoXsiqQgLSDrjIDqtazqtJHsl63si5wg7ISc6rWsIOyEnOuMgOq1rOuhnDYy6ri4IDgzCiAgICAgICAgICAgICAgICAgPC9kaXY+YCwKICAgICAgICAgICAgICAgIHsic3RpY2t5IjogdHJ1ZX0KICAgICAgICAgICAgKTsKICAgICAgICAKICAgIAogICAgICAgICAgICB2YXIgY2lyY2xlX21hcmtlcl82NzAwNTQxMzMyMzE0MmI4YjQyNWZjYzdiZjcxOTg2MSA9IEwuY2lyY2xlTWFya2VyKAogICAgICAgICAgICAgICAgWzM1Ljg3OTk2NzA3NDMyMjYsIDEyOC4zOTc3OTU2MTA2NV0sCiAgICAgICAgICAgICAgICB7ImJ1YmJsaW5nTW91c2VFdmVudHMiOiB0cnVlLCAiY29sb3IiOiAiZ3JlZW4iLCAiZGFzaEFycmF5IjogbnVsbCwgImRhc2hPZmZzZXQiOiBudWxsLCAiZmlsbCI6IGZhbHNlLCAiZmlsbENvbG9yIjogImdyZWVuIiwgImZpbGxPcGFjaXR5IjogMC4yLCAiZmlsbFJ1bGUiOiAiZXZlbm9kZCIsICJsaW5lQ2FwIjogInJvdW5kIiwgImxpbmVKb2luIjogInJvdW5kIiwgIm9wYWNpdHkiOiAxLjAsICJyYWRpdXMiOiAzLCAic3Ryb2tlIjogdHJ1ZSwgIndlaWdodCI6IDN9CiAgICAgICAgICAgICkuYWRkVG8obWFwXzcxNDQ1NGVkMzUwMzQ3ZmQ4YzZjYmM2NzA2N2U2MDUwKTsKICAgICAgICAKICAgIAogICAgICAgICAgICBjaXJjbGVfbWFya2VyXzY3MDA1NDEzMzIzMTQyYjhiNDI1ZmNjN2JmNzE5ODYxLmJpbmRUb29sdGlwKAogICAgICAgICAgICAgICAgYDxkaXY+CiAgICAgICAgICAgICAgICAgICAgIOyKpO2DgOuyheyKpCAtIOuMgOq1rOq0keyXreyLnCDri6zshLHqtbAg7ZWY67mI66m0IO2VmOuqqeygleq4uCA0NQogICAgICAgICAgICAgICAgIDwvZGl2PmAsCiAgICAgICAgICAgICAgICB7InN0aWNreSI6IHRydWV9CiAgICAgICAgICAgICk7CiAgICAgICAgCiAgICAKICAgICAgICAgICAgdmFyIGNpcmNsZV9tYXJrZXJfMmZkMzQ5YjcxMzFhNDc1NGIyNWI4NTA3N2VjYmUzYWUgPSBMLmNpcmNsZU1hcmtlcigKICAgICAgICAgICAgICAgIFszNS44NDU0MTQ1NDAyNDY4LCAxMjguNTY5MTc5MTgxMjgzXSwKICAgICAgICAgICAgICAgIHsiYnViYmxpbmdNb3VzZUV2ZW50cyI6IHRydWUsICJjb2xvciI6ICJncmVlbiIsICJkYXNoQXJyYXkiOiBudWxsLCAiZGFzaE9mZnNldCI6IG51bGwsICJmaWxsIjogZmFsc2UsICJmaWxsQ29sb3IiOiAiZ3JlZW4iLCAiZmlsbE9wYWNpdHkiOiAwLjIsICJmaWxsUnVsZSI6ICJldmVub2RkIiwgImxpbmVDYXAiOiAicm91bmQiLCAibGluZUpvaW4iOiAicm91bmQiLCAib3BhY2l0eSI6IDEuMCwgInJhZGl1cyI6IDMsICJzdHJva2UiOiB0cnVlLCAid2VpZ2h0IjogM30KICAgICAgICAgICAgKS5hZGRUbyhtYXBfNzE0NDU0ZWQzNTAzNDdmZDhjNmNiYzY3MDY3ZTYwNTApOwogICAgICAgIAogICAgCiAgICAgICAgICAgIGNpcmNsZV9tYXJrZXJfMmZkMzQ5YjcxMzFhNDc1NGIyNWI4NTA3N2VjYmUzYWUuYmluZFRvb2x0aXAoCiAgICAgICAgICAgICAgICBgPGRpdj4KICAgICAgICAgICAgICAgICAgICAg7Iqk7YOA67KF7IqkIC0g64yA6rWs6rSR7Jet7IucIOuCqOq1rCDrkZDrpZjqs7Xsm5DroZwyMOq4uCAxMC0yCiAgICAgICAgICAgICAgICAgPC9kaXY+YCwKICAgICAgICAgICAgICAgIHsic3RpY2t5IjogdHJ1ZX0KICAgICAgICAgICAgKTsKICAgICAgICAKICAgIAogICAgICAgICAgICB2YXIgY2lyY2xlX21hcmtlcl9kNmVlNjZjZWY2NmU0ZWYzOWE5MzYyZGNiODc1Zjk0ZiA9IEwuY2lyY2xlTWFya2VyKAogICAgICAgICAgICAgICAgWzM1Ljg2NjM0MTkyNzgxNDIwNCwgMTI4LjU5MTg1MTU0MzI0OV0sCiAgICAgICAgICAgICAgICB7ImJ1YmJsaW5nTW91c2VFdmVudHMiOiB0cnVlLCAiY29sb3IiOiAiZ3JlZW4iLCAiZGFzaEFycmF5IjogbnVsbCwgImRhc2hPZmZzZXQiOiBudWxsLCAiZmlsbCI6IGZhbHNlLCAiZmlsbENvbG9yIjogImdyZWVuIiwgImZpbGxPcGFjaXR5IjogMC4yLCAiZmlsbFJ1bGUiOiAiZXZlbm9kZCIsICJsaW5lQ2FwIjogInJvdW5kIiwgImxpbmVKb2luIjogInJvdW5kIiwgIm9wYWNpdHkiOiAxLjAsICJyYWRpdXMiOiAzLCAic3Ryb2tlIjogdHJ1ZSwgIndlaWdodCI6IDN9CiAgICAgICAgICAgICkuYWRkVG8obWFwXzcxNDQ1NGVkMzUwMzQ3ZmQ4YzZjYmM2NzA2N2U2MDUwKTsKICAgICAgICAKICAgIAogICAgICAgICAgICBjaXJjbGVfbWFya2VyX2Q2ZWU2NmNlZjY2ZTRlZjM5YTkzNjJkY2I4NzVmOTRmLmJpbmRUb29sdGlwKAogICAgICAgICAgICAgICAgYDxkaXY+CiAgICAgICAgICAgICAgICAgICAgIOyKpO2DgOuyheyKpOuMgOq1rOuwmOyblOuLueygkCAtIOuMgOq1rOq0keyXreyLnCDspJHqtawg64us6rWs67KM64yA66GcIDIwODUKICAgICAgICAgICAgICAgICA8L2Rpdj5gLAogICAgICAgICAgICAgICAgeyJzdGlja3kiOiB0cnVlfQogICAgICAgICAgICApOwogICAgICAgIAogICAgCiAgICAgICAgICAgIHZhciBjaXJjbGVfbWFya2VyX2FhNTczMDRiYTg0NzQ1MjhhZDFkNTUzNDQzOGRmOWI5ID0gTC5jaXJjbGVNYXJrZXIoCiAgICAgICAgICAgICAgICBbMzUuODY3NTY1NTY0NjkyNzA0LCAxMjguNTk1OTM1NjE2MDJdLAogICAgICAgICAgICAgICAgeyJidWJibGluZ01vdXNlRXZlbnRzIjogdHJ1ZSwgImNvbG9yIjogImdyZWVuIiwgImRhc2hBcnJheSI6IG51bGwsICJkYXNoT2Zmc2V0IjogbnVsbCwgImZpbGwiOiBmYWxzZSwgImZpbGxDb2xvciI6ICJncmVlbiIsICJmaWxsT3BhY2l0eSI6IDAuMiwgImZpbGxSdWxlIjogImV2ZW5vZGQiLCAibGluZUNhcCI6ICJyb3VuZCIsICJsaW5lSm9pbiI6ICJyb3VuZCIsICJvcGFjaXR5IjogMS4wLCAicmFkaXVzIjogMywgInN0cm9rZSI6IHRydWUsICJ3ZWlnaHQiOiAzfQogICAgICAgICAgICApLmFkZFRvKG1hcF83MTQ0NTRlZDM1MDM0N2ZkOGM2Y2JjNjcwNjdlNjA1MCk7CiAgICAgICAgCiAgICAKICAgICAgICAgICAgY2lyY2xlX21hcmtlcl9hYTU3MzA0YmE4NDc0NTI4YWQxZDU1MzQ0MzhkZjliOS5iaW5kVG9vbHRpcCgKICAgICAgICAgICAgICAgIGA8ZGl2PgogICAgICAgICAgICAgICAgICAgICDsiqTtg4DrsoXsiqQgLSDrjIDqtazqtJHsl63si5wg7KSR6rWsIOuPmeyEseuhnDXquLggMjYKICAgICAgICAgICAgICAgICA8L2Rpdj5gLAogICAgICAgICAgICAgICAgeyJzdGlja3kiOiB0cnVlfQogICAgICAgICAgICApOwogICAgICAgIAogICAgCiAgICAgICAgICAgIHZhciBjaXJjbGVfbWFya2VyX2RkMGFkYWQ1ZmY1MjQzOGQ4MWMwNjI1ZTcxNGU2ZDIwID0gTC5jaXJjbGVNYXJrZXIoCiAgICAgICAgICAgICAgICBbMzUuODM2NDk3MTIxNTAxMDA0LCAxMjguNzE2NDA5OTc3MTQxXSwKICAgICAgICAgICAgICAgIHsiYnViYmxpbmdNb3VzZUV2ZW50cyI6IHRydWUsICJjb2xvciI6ICJibHVlIiwgImRhc2hBcnJheSI6IG51bGwsICJkYXNoT2Zmc2V0IjogbnVsbCwgImZpbGwiOiBmYWxzZSwgImZpbGxDb2xvciI6ICJibHVlIiwgImZpbGxPcGFjaXR5IjogMC4yLCAiZmlsbFJ1bGUiOiAiZXZlbm9kZCIsICJsaW5lQ2FwIjogInJvdW5kIiwgImxpbmVKb2luIjogInJvdW5kIiwgIm9wYWNpdHkiOiAxLjAsICJyYWRpdXMiOiAzLCAic3Ryb2tlIjogdHJ1ZSwgIndlaWdodCI6IDN9CiAgICAgICAgICAgICkuYWRkVG8obWFwXzcxNDQ1NGVkMzUwMzQ3ZmQ4YzZjYmM2NzA2N2U2MDUwKTsKICAgICAgICAKICAgIAogICAgICAgICAgICBjaXJjbGVfbWFya2VyX2RkMGFkYWQ1ZmY1MjQzOGQ4MWMwNjI1ZTcxNGU2ZDIwLmJpbmRUb29sdGlwKAogICAgICAgICAgICAgICAgYDxkaXY+CiAgICAgICAgICAgICAgICAgICAgIOydtOuUlOyVvOy7pO2UvCAtIOuMgOq1rOq0keyXreyLnCDsiJjshLHqtawg64us6rWs67KM64yA66GcIDMyOTYKICAgICAgICAgICAgICAgICA8L2Rpdj5gLAogICAgICAgICAgICAgICAgeyJzdGlja3kiOiB0cnVlfQogICAgICAgICAgICApOwogICAgICAgIAogICAgCiAgICAgICAgICAgIHZhciBjaXJjbGVfbWFya2VyXzRhZjZjMWUzNWJhNjRlNDBhYTJhZDgyOTMyOTE3ZDc2ID0gTC5jaXJjbGVNYXJrZXIoCiAgICAgICAgICAgICAgICBbMzUuODY3Mzk1NjcyODk1MSwgMTI4LjU5MjAxNDQwNDAxODk4XSwKICAgICAgICAgICAgICAgIHsiYnViYmxpbmdNb3VzZUV2ZW50cyI6IHRydWUsICJjb2xvciI6ICJibHVlIiwgImRhc2hBcnJheSI6IG51bGwsICJkYXNoT2Zmc2V0IjogbnVsbCwgImZpbGwiOiBmYWxzZSwgImZpbGxDb2xvciI6ICJibHVlIiwgImZpbGxPcGFjaXR5IjogMC4yLCAiZmlsbFJ1bGUiOiAiZXZlbm9kZCIsICJsaW5lQ2FwIjogInJvdW5kIiwgImxpbmVKb2luIjogInJvdW5kIiwgIm9wYWNpdHkiOiAxLjAsICJyYWRpdXMiOiAzLCAic3Ryb2tlIjogdHJ1ZSwgIndlaWdodCI6IDN9CiAgICAgICAgICAgICkuYWRkVG8obWFwXzcxNDQ1NGVkMzUwMzQ3ZmQ4YzZjYmM2NzA2N2U2MDUwKTsKICAgICAgICAKICAgIAogICAgICAgICAgICBjaXJjbGVfbWFya2VyXzRhZjZjMWUzNWJhNjRlNDBhYTJhZDgyOTMyOTE3ZDc2LmJpbmRUb29sdGlwKAogICAgICAgICAgICAgICAgYDxkaXY+CiAgICAgICAgICAgICAgICAgICAgIOydtOuUlOyVhOq5jO2OmCAtIOuMgOq1rOq0keyXreyLnCDspJHqtawg7KKF66GcIDE3CiAgICAgICAgICAgICAgICAgPC9kaXY+YCwKICAgICAgICAgICAgICAgIHsic3RpY2t5IjogdHJ1ZX0KICAgICAgICAgICAgKTsKICAgICAgICAKICAgIAogICAgICAgICAgICB2YXIgY2lyY2xlX21hcmtlcl83OTRhYzU1MTA4MTY0NThhODA4NDU3ZWZmZmE1MDdhOCA9IEwuY2lyY2xlTWFya2VyKAogICAgICAgICAgICAgICAgWzM1Ljg4NzgwMTQ4NzMyMDQsIDEyOC41OTIwMzMzMzM1MDJdLAogICAgICAgICAgICAgICAgeyJidWJibGluZ01vdXNlRXZlbnRzIjogdHJ1ZSwgImNvbG9yIjogImJsdWUiLCAiZGFzaEFycmF5IjogbnVsbCwgImRhc2hPZmZzZXQiOiBudWxsLCAiZmlsbCI6IGZhbHNlLCAiZmlsbENvbG9yIjogImJsdWUiLCAiZmlsbE9wYWNpdHkiOiAwLjIsICJmaWxsUnVsZSI6ICJldmVub2RkIiwgImxpbmVDYXAiOiAicm91bmQiLCAibGluZUpvaW4iOiAicm91bmQiLCAib3BhY2l0eSI6IDEuMCwgInJhZGl1cyI6IDMsICJzdHJva2UiOiB0cnVlLCAid2VpZ2h0IjogM30KICAgICAgICAgICAgKS5hZGRUbyhtYXBfNzE0NDU0ZWQzNTAzNDdmZDhjNmNiYzY3MDY3ZTYwNTApOwogICAgICAgIAogICAgCiAgICAgICAgICAgIGNpcmNsZV9tYXJrZXJfNzk0YWM1NTEwODE2NDU4YTgwODQ1N2VmZmZhNTA3YTguYmluZFRvb2x0aXAoCiAgICAgICAgICAgICAgICBgPGRpdj4KICAgICAgICAgICAgICAgICAgICAg7J2065SU7JW87Luk7ZS8IC0g64yA6rWs6rSR7Jet7IucIOu2geq1rCDsuajsgrDrgqjroZwgMTUwCiAgICAgICAgICAgICAgICAgPC9kaXY+YCwKICAgICAgICAgICAgICAgIHsic3RpY2t5IjogdHJ1ZX0KICAgICAgICAgICAgKTsKICAgICAgICAKICAgIAogICAgICAgICAgICB2YXIgY2lyY2xlX21hcmtlcl8yNWI5MWNlZDRhNGE0ZmExYjM1MjdjYTM4ZDhhODI0OSA9IEwuY2lyY2xlTWFya2VyKAogICAgICAgICAgICAgICAgWzM1Ljg1MjkxOTYxMTc5MDQsIDEyOC41OTAzNDU3Mjk3NDldLAogICAgICAgICAgICAgICAgeyJidWJibGluZ01vdXNlRXZlbnRzIjogdHJ1ZSwgImNvbG9yIjogImJsdWUiLCAiZGFzaEFycmF5IjogbnVsbCwgImRhc2hPZmZzZXQiOiBudWxsLCAiZmlsbCI6IGZhbHNlLCAiZmlsbENvbG9yIjogImJsdWUiLCAiZmlsbE9wYWNpdHkiOiAwLjIsICJmaWxsUnVsZSI6ICJldmVub2RkIiwgImxpbmVDYXAiOiAicm91bmQiLCAibGluZUpvaW4iOiAicm91bmQiLCAib3BhY2l0eSI6IDEuMCwgInJhZGl1cyI6IDMsICJzdHJva2UiOiB0cnVlLCAid2VpZ2h0IjogM30KICAgICAgICAgICAgKS5hZGRUbyhtYXBfNzE0NDU0ZWQzNTAzNDdmZDhjNmNiYzY3MDY3ZTYwNTApOwogICAgICAgIAogICAgCiAgICAgICAgICAgIGNpcmNsZV9tYXJrZXJfMjViOTFjZWQ0YTRhNGZhMWIzNTI3Y2EzOGQ4YTgyNDkuYmluZFRvb2x0aXAoCiAgICAgICAgICAgICAgICBgPGRpdj4KICAgICAgICAgICAgICAgICAgICAg7J2065SU7JW87Luk7ZS8IC0g64yA6rWs6rSR7Jet7IucIOuCqOq1rCDspJHslZnrjIDroZwgMjE5LTEKICAgICAgICAgICAgICAgICA8L2Rpdj5gLAogICAgICAgICAgICAgICAgeyJzdGlja3kiOiB0cnVlfQogICAgICAgICAgICApOwogICAgICAgIAogICAgCiAgICAgICAgICAgIHZhciBjaXJjbGVfbWFya2VyXzEyYzExNmEwMTIyYzQxODhhOTZmM2RjY2M1NzJjOGUxID0gTC5jaXJjbGVNYXJrZXIoCiAgICAgICAgICAgICAgICBbMzUuODcwNzg5ODA4ODM3NSwgMTI4LjU5MDk2NTQ5NTg3XSwKICAgICAgICAgICAgICAgIHsiYnViYmxpbmdNb3VzZUV2ZW50cyI6IHRydWUsICJjb2xvciI6ICJibHVlIiwgImRhc2hBcnJheSI6IG51bGwsICJkYXNoT2Zmc2V0IjogbnVsbCwgImZpbGwiOiBmYWxzZSwgImZpbGxDb2xvciI6ICJibHVlIiwgImZpbGxPcGFjaXR5IjogMC4yLCAiZmlsbFJ1bGUiOiAiZXZlbm9kZCIsICJsaW5lQ2FwIjogInJvdW5kIiwgImxpbmVKb2luIjogInJvdW5kIiwgIm9wYWNpdHkiOiAxLjAsICJyYWRpdXMiOiAzLCAic3Ryb2tlIjogdHJ1ZSwgIndlaWdodCI6IDN9CiAgICAgICAgICAgICkuYWRkVG8obWFwXzcxNDQ1NGVkMzUwMzQ3ZmQ4YzZjYmM2NzA2N2U2MDUwKTsKICAgICAgICAKICAgIAogICAgICAgICAgICBjaXJjbGVfbWFya2VyXzEyYzExNmEwMTIyYzQxODhhOTZmM2RjY2M1NzJjOGUxLmJpbmRUb29sdGlwKAogICAgICAgICAgICAgICAgYDxkaXY+CiAgICAgICAgICAgICAgICAgICAgIOydtOuUlOyVvOy7pO2UvCAtIOuMgOq1rOq0keyXreyLnCDspJHqtawg6rWt7LGE67O07IOB66GcIDU1MQogICAgICAgICAgICAgICAgIDwvZGl2PmAsCiAgICAgICAgICAgICAgICB7InN0aWNreSI6IHRydWV9CiAgICAgICAgICAgICk7CiAgICAgICAgCiAgICAKICAgICAgICAgICAgdmFyIGNpcmNsZV9tYXJrZXJfODk2MjhiMWVmZTNhNGQ3ZGJjMmRjMjEzODBlMDViZjEgPSBMLmNpcmNsZU1hcmtlcigKICAgICAgICAgICAgICAgIFszNS45MzE4Nzc0NjM3NjUsIDEyOC41NDgwMzI2NTA4NjVdLAogICAgICAgICAgICAgICAgeyJidWJibGluZ01vdXNlRXZlbnRzIjogdHJ1ZSwgImNvbG9yIjogImJsdWUiLCAiZGFzaEFycmF5IjogbnVsbCwgImRhc2hPZmZzZXQiOiBudWxsLCAiZmlsbCI6IGZhbHNlLCAiZmlsbENvbG9yIjogImJsdWUiLCAiZmlsbE9wYWNpdHkiOiAwLjIsICJmaWxsUnVsZSI6ICJldmVub2RkIiwgImxpbmVDYXAiOiAicm91bmQiLCAibGluZUpvaW4iOiAicm91bmQiLCAib3BhY2l0eSI6IDEuMCwgInJhZGl1cyI6IDMsICJzdHJva2UiOiB0cnVlLCAid2VpZ2h0IjogM30KICAgICAgICAgICAgKS5hZGRUbyhtYXBfNzE0NDU0ZWQzNTAzNDdmZDhjNmNiYzY3MDY3ZTYwNTApOwogICAgICAgIAogICAgCiAgICAgICAgICAgIGNpcmNsZV9tYXJrZXJfODk2MjhiMWVmZTNhNGQ3ZGJjMmRjMjEzODBlMDViZjEuYmluZFRvb2x0aXAoCiAgICAgICAgICAgICAgICBgPGRpdj4KICAgICAgICAgICAgICAgICAgICAg7J2065SU7JW87Luk7ZS8IC0g64yA6rWs6rSR7Jet7IucIOu2geq1rCDsuaDqs6HspJHslZnrjIDroZwgNDAzCiAgICAgICAgICAgICAgICAgPC9kaXY+YCwKICAgICAgICAgICAgICAgIHsic3RpY2t5IjogdHJ1ZX0KICAgICAgICAgICAgKTsKICAgICAgICAKICAgIAogICAgICAgICAgICB2YXIgY2lyY2xlX21hcmtlcl9mZjI0YjMwOGM5ODk0MmZlYjgwNzBiNDQxOWExNDBkMyA9IEwuY2lyY2xlTWFya2VyKAogICAgICAgICAgICAgICAgWzM1Ljg2NjM2NjA5ODE1NTksIDEyOC42MDMzMDEzNDA5NDEwMl0sCiAgICAgICAgICAgICAgICB7ImJ1YmJsaW5nTW91c2VFdmVudHMiOiB0cnVlLCAiY29sb3IiOiAiYmx1ZSIsICJkYXNoQXJyYXkiOiBudWxsLCAiZGFzaE9mZnNldCI6IG51bGwsICJmaWxsIjogZmFsc2UsICJmaWxsQ29sb3IiOiAiYmx1ZSIsICJmaWxsT3BhY2l0eSI6IDAuMiwgImZpbGxSdWxlIjogImV2ZW5vZGQiLCAibGluZUNhcCI6ICJyb3VuZCIsICJsaW5lSm9pbiI6ICJyb3VuZCIsICJvcGFjaXR5IjogMS4wLCAicmFkaXVzIjogMywgInN0cm9rZSI6IHRydWUsICJ3ZWlnaHQiOiAzfQogICAgICAgICAgICApLmFkZFRvKG1hcF83MTQ0NTRlZDM1MDM0N2ZkOGM2Y2JjNjcwNjdlNjA1MCk7CiAgICAgICAgCiAgICAKICAgICAgICAgICAgY2lyY2xlX21hcmtlcl9mZjI0YjMwOGM5ODk0MmZlYjgwNzBiNDQxOWExNDBkMy5iaW5kVG9vbHRpcCgKICAgICAgICAgICAgICAgIGA8ZGl2PgogICAgICAgICAgICAgICAgICAgICDsnbTrlJTslbzsu6TtlLwgLSDrjIDqtazqtJHsl63si5wg7KSR6rWsIOuPmeuNleuhnCAxMzEKICAgICAgICAgICAgICAgICA8L2Rpdj5gLAogICAgICAgICAgICAgICAgeyJzdGlja3kiOiB0cnVlfQogICAgICAgICAgICApOwogICAgICAgIAogICAgCiAgICAgICAgICAgIHZhciBjaXJjbGVfbWFya2VyXzlmZTg2NmMyZGU2NTRiY2I4ZTgyN2RlNWQ4ODU2ZWExID0gTC5jaXJjbGVNYXJrZXIoCiAgICAgICAgICAgICAgICBbMzUuODM3OTIwNTA1ODgwNCwgMTI4LjYyMjcwMDQ2OTM3NF0sCiAgICAgICAgICAgICAgICB7ImJ1YmJsaW5nTW91c2VFdmVudHMiOiB0cnVlLCAiY29sb3IiOiAiZ3JlZW4iLCAiZGFzaEFycmF5IjogbnVsbCwgImRhc2hPZmZzZXQiOiBudWxsLCAiZmlsbCI6IGZhbHNlLCAiZmlsbENvbG9yIjogImdyZWVuIiwgImZpbGxPcGFjaXR5IjogMC4yLCAiZmlsbFJ1bGUiOiAiZXZlbm9kZCIsICJsaW5lQ2FwIjogInJvdW5kIiwgImxpbmVKb2luIjogInJvdW5kIiwgIm9wYWNpdHkiOiAxLjAsICJyYWRpdXMiOiAzLCAic3Ryb2tlIjogdHJ1ZSwgIndlaWdodCI6IDN9CiAgICAgICAgICAgICkuYWRkVG8obWFwXzcxNDQ1NGVkMzUwMzQ3ZmQ4YzZjYmM2NzA2N2U2MDUwKTsKICAgICAgICAKICAgIAogICAgICAgICAgICBjaXJjbGVfbWFya2VyXzlmZTg2NmMyZGU2NTRiY2I4ZTgyN2RlNWQ4ODU2ZWExLmJpbmRUb29sdGlwKAogICAgICAgICAgICAgICAgYDxkaXY+CiAgICAgICAgICAgICAgICAgICAgIOyKpO2DgOuyheyKpCAtIOuMgOq1rOq0keyXreyLnCDsiJjshLHqtawg64+Z64yA6rWs66GcIDk1CiAgICAgICAgICAgICAgICAgPC9kaXY+YCwKICAgICAgICAgICAgICAgIHsic3RpY2t5IjogdHJ1ZX0KICAgICAgICAgICAgKTsKICAgICAgICAKICAgIAogICAgICAgICAgICB2YXIgY2lyY2xlX21hcmtlcl9iZDI0MzI2MWI4ZTQ0MzVhOTU5ZDFiZWFmZjFjM2ExYiA9IEwuY2lyY2xlTWFya2VyKAogICAgICAgICAgICAgICAgWzM1Ljg0OTIwODYwNjg5ODcwNiwgMTI4LjUzNzk4NjcxMjYyNV0sCiAgICAgICAgICAgICAgICB7ImJ1YmJsaW5nTW91c2VFdmVudHMiOiB0cnVlLCAiY29sb3IiOiAiZ3JlZW4iLCAiZGFzaEFycmF5IjogbnVsbCwgImRhc2hPZmZzZXQiOiBudWxsLCAiZmlsbCI6IGZhbHNlLCAiZmlsbENvbG9yIjogImdyZWVuIiwgImZpbGxPcGFjaXR5IjogMC4yLCAiZmlsbFJ1bGUiOiAiZXZlbm9kZCIsICJsaW5lQ2FwIjogInJvdW5kIiwgImxpbmVKb2luIjogInJvdW5kIiwgIm9wYWNpdHkiOiAxLjAsICJyYWRpdXMiOiAzLCAic3Ryb2tlIjogdHJ1ZSwgIndlaWdodCI6IDN9CiAgICAgICAgICAgICkuYWRkVG8obWFwXzcxNDQ1NGVkMzUwMzQ3ZmQ4YzZjYmM2NzA2N2U2MDUwKTsKICAgICAgICAKICAgIAogICAgICAgICAgICBjaXJjbGVfbWFya2VyX2JkMjQzMjYxYjhlNDQzNWE5NTlkMWJlYWZmMWMzYTFiLmJpbmRUb29sdGlwKAogICAgICAgICAgICAgICAgYDxkaXY+CiAgICAgICAgICAgICAgICAgICAgIOyKpO2DgOuyheyKpCAtIOuMgOq1rOq0keyXreyLnCDri6zshJzqtawg7JmA66Oh66GcIDE5MAogICAgICAgICAgICAgICAgIDwvZGl2PmAsCiAgICAgICAgICAgICAgICB7InN0aWNreSI6IHRydWV9CiAgICAgICAgICAgICk7CiAgICAgICAgCiAgICAKICAgICAgICAgICAgdmFyIGNpcmNsZV9tYXJrZXJfZjM0MDdjODA3ZWMxNDdhMTk4YjljMzhjZDk1NjJkNTYgPSBMLmNpcmNsZU1hcmtlcigKICAgICAgICAgICAgICAgIFszNS44NzYyMjMwMDU0MzExLCAxMjguNjI4NjAzNzU0ODcxXSwKICAgICAgICAgICAgICAgIHsiYnViYmxpbmdNb3VzZUV2ZW50cyI6IHRydWUsICJjb2xvciI6ICJncmVlbiIsICJkYXNoQXJyYXkiOiBudWxsLCAiZGFzaE9mZnNldCI6IG51bGwsICJmaWxsIjogZmFsc2UsICJmaWxsQ29sb3IiOiAiZ3JlZW4iLCAiZmlsbE9wYWNpdHkiOiAwLjIsICJmaWxsUnVsZSI6ICJldmVub2RkIiwgImxpbmVDYXAiOiAicm91bmQiLCAibGluZUpvaW4iOiAicm91bmQiLCAib3BhY2l0eSI6IDEuMCwgInJhZGl1cyI6IDMsICJzdHJva2UiOiB0cnVlLCAid2VpZ2h0IjogM30KICAgICAgICAgICAgKS5hZGRUbyhtYXBfNzE0NDU0ZWQzNTAzNDdmZDhjNmNiYzY3MDY3ZTYwNTApOwogICAgICAgIAogICAgCiAgICAgICAgICAgIGNpcmNsZV9tYXJrZXJfZjM0MDdjODA3ZWMxNDdhMTk4YjljMzhjZDk1NjJkNTYuYmluZFRvb2x0aXAoCiAgICAgICAgICAgICAgICBgPGRpdj4KICAgICAgICAgICAgICAgICAgICAg7Iqk7YOA67KF7IqkIC0g64yA6rWs6rSR7Jet7IucIOuPmeq1rCDrj5nrtoDroZwzMOq4uCAxMgogICAgICAgICAgICAgICAgIDwvZGl2PmAsCiAgICAgICAgICAgICAgICB7InN0aWNreSI6IHRydWV9CiAgICAgICAgICAgICk7CiAgICAgICAgCiAgICAKICAgICAgICAgICAgdmFyIGNpcmNsZV9tYXJrZXJfYjc5NWM2NjA3YzY2NGY3YTlmNDgwYWU5YmQ0ZmMwMjYgPSBMLmNpcmNsZU1hcmtlcigKICAgICAgICAgICAgICAgIFszNS44ODc0ODY0MTkxNjgxLCAxMjguNTkxOTUzNDU1ODY3XSwKICAgICAgICAgICAgICAgIHsiYnViYmxpbmdNb3VzZUV2ZW50cyI6IHRydWUsICJjb2xvciI6ICJncmVlbiIsICJkYXNoQXJyYXkiOiBudWxsLCAiZGFzaE9mZnNldCI6IG51bGwsICJmaWxsIjogZmFsc2UsICJmaWxsQ29sb3IiOiAiZ3JlZW4iLCAiZmlsbE9wYWNpdHkiOiAwLjIsICJmaWxsUnVsZSI6ICJldmVub2RkIiwgImxpbmVDYXAiOiAicm91bmQiLCAibGluZUpvaW4iOiAicm91bmQiLCAib3BhY2l0eSI6IDEuMCwgInJhZGl1cyI6IDMsICJzdHJva2UiOiB0cnVlLCAid2VpZ2h0IjogM30KICAgICAgICAgICAgKS5hZGRUbyhtYXBfNzE0NDU0ZWQzNTAzNDdmZDhjNmNiYzY3MDY3ZTYwNTApOwogICAgICAgIAogICAgCiAgICAgICAgICAgIGNpcmNsZV9tYXJrZXJfYjc5NWM2NjA3YzY2NGY3YTlmNDgwYWU5YmQ0ZmMwMjYuYmluZFRvb2x0aXAoCiAgICAgICAgICAgICAgICBgPGRpdj4KICAgICAgICAgICAgICAgICAgICAg7Iqk7YOA67KF7IqkIC0g64yA6rWs6rSR7Jet7IucIOu2geq1rCDsuajsgrDroZwgMTI2CiAgICAgICAgICAgICAgICAgPC9kaXY+YCwKICAgICAgICAgICAgICAgIHsic3RpY2t5IjogdHJ1ZX0KICAgICAgICAgICAgKTsKICAgICAgICAKICAgIAogICAgICAgICAgICB2YXIgY2lyY2xlX21hcmtlcl8zMTFmZTE2ZjU1NWI0MDQ0YjJjMjBjZTU3MGE0ZDgxMyA9IEwuY2lyY2xlTWFya2VyKAogICAgICAgICAgICAgICAgWzM1Ljg2Njg5OTIxNzE3MSwgMTI4LjYyNDIxMTU3NDAxMTk4XSwKICAgICAgICAgICAgICAgIHsiYnViYmxpbmdNb3VzZUV2ZW50cyI6IHRydWUsICJjb2xvciI6ICJibHVlIiwgImRhc2hBcnJheSI6IG51bGwsICJkYXNoT2Zmc2V0IjogbnVsbCwgImZpbGwiOiBmYWxzZSwgImZpbGxDb2xvciI6ICJibHVlIiwgImZpbGxPcGFjaXR5IjogMC4yLCAiZmlsbFJ1bGUiOiAiZXZlbm9kZCIsICJsaW5lQ2FwIjogInJvdW5kIiwgImxpbmVKb2luIjogInJvdW5kIiwgIm9wYWNpdHkiOiAxLjAsICJyYWRpdXMiOiAzLCAic3Ryb2tlIjogdHJ1ZSwgIndlaWdodCI6IDN9CiAgICAgICAgICAgICkuYWRkVG8obWFwXzcxNDQ1NGVkMzUwMzQ3ZmQ4YzZjYmM2NzA2N2U2MDUwKTsKICAgICAgICAKICAgIAogICAgICAgICAgICBjaXJjbGVfbWFya2VyXzMxMWZlMTZmNTU1YjQwNDRiMmMyMGNlNTcwYTRkODEzLmJpbmRUb29sdGlwKAogICAgICAgICAgICAgICAgYDxkaXY+CiAgICAgICAgICAgICAgICAgICAgIOydtOuUlOyVvOy7pO2UvCAtIOuMgOq1rOq0keyXreyLnCDsiJjshLHqtawg6rWt7LGE67O07IOB66GcIDg1NgogICAgICAgICAgICAgICAgIDwvZGl2PmAsCiAgICAgICAgICAgICAgICB7InN0aWNreSI6IHRydWV9CiAgICAgICAgICAgICk7CiAgICAgICAgCiAgICAKICAgICAgICAgICAgdmFyIGNpcmNsZV9tYXJrZXJfZTU4YjFjZWUxNDU2NGE4ZTlhYzc3YjM4YzU5YzAxNjMgPSBMLmNpcmNsZU1hcmtlcigKICAgICAgICAgICAgICAgIFszNS44MjEwODA5OTg0MDEsIDEyOC42NDAzNzU0Mzk5NjZdLAogICAgICAgICAgICAgICAgeyJidWJibGluZ01vdXNlRXZlbnRzIjogdHJ1ZSwgImNvbG9yIjogImdyZWVuIiwgImRhc2hBcnJheSI6IG51bGwsICJkYXNoT2Zmc2V0IjogbnVsbCwgImZpbGwiOiBmYWxzZSwgImZpbGxDb2xvciI6ICJncmVlbiIsICJmaWxsT3BhY2l0eSI6IDAuMiwgImZpbGxSdWxlIjogImV2ZW5vZGQiLCAibGluZUNhcCI6ICJyb3VuZCIsICJsaW5lSm9pbiI6ICJyb3VuZCIsICJvcGFjaXR5IjogMS4wLCAicmFkaXVzIjogMywgInN0cm9rZSI6IHRydWUsICJ3ZWlnaHQiOiAzfQogICAgICAgICAgICApLmFkZFRvKG1hcF83MTQ0NTRlZDM1MDM0N2ZkOGM2Y2JjNjcwNjdlNjA1MCk7CiAgICAgICAgCiAgICAKICAgICAgICAgICAgY2lyY2xlX21hcmtlcl9lNThiMWNlZTE0NTY0YThlOWFjNzdiMzhjNTljMDE2My5iaW5kVG9vbHRpcCgKICAgICAgICAgICAgICAgIGA8ZGl2PgogICAgICAgICAgICAgICAgICAgICDsiqTtg4DrsoXsiqQgLSDrjIDqtazqtJHsl63si5wg7IiY7ISx6rWsIOyngOuylOuhnCAxOTEKICAgICAgICAgICAgICAgICA8L2Rpdj5gLAogICAgICAgICAgICAgICAgeyJzdGlja3kiOiB0cnVlfQogICAgICAgICAgICApOwogICAgICAgIAogICAgCiAgICAgICAgICAgIHZhciBjaXJjbGVfbWFya2VyX2Y1MjA0MDcwYzc5YTRhNDI4ZTk3ZjQ2M2I2NzNkY2UyID0gTC5jaXJjbGVNYXJrZXIoCiAgICAgICAgICAgICAgICBbMzUuODY3NDY3OTM2NTAwNSwgMTI4LjU5MzgwODgxNDA5M10sCiAgICAgICAgICAgICAgICB7ImJ1YmJsaW5nTW91c2VFdmVudHMiOiB0cnVlLCAiY29sb3IiOiAiZ3JlZW4iLCAiZGFzaEFycmF5IjogbnVsbCwgImRhc2hPZmZzZXQiOiBudWxsLCAiZmlsbCI6IGZhbHNlLCAiZmlsbENvbG9yIjogImdyZWVuIiwgImZpbGxPcGFjaXR5IjogMC4yLCAiZmlsbFJ1bGUiOiAiZXZlbm9kZCIsICJsaW5lQ2FwIjogInJvdW5kIiwgImxpbmVKb2luIjogInJvdW5kIiwgIm9wYWNpdHkiOiAxLjAsICJyYWRpdXMiOiAzLCAic3Ryb2tlIjogdHJ1ZSwgIndlaWdodCI6IDN9CiAgICAgICAgICAgICkuYWRkVG8obWFwXzcxNDQ1NGVkMzUwMzQ3ZmQ4YzZjYmM2NzA2N2U2MDUwKTsKICAgICAgICAKICAgIAogICAgICAgICAgICBjaXJjbGVfbWFya2VyX2Y1MjA0MDcwYzc5YTRhNDI4ZTk3ZjQ2M2I2NzNkY2UyLmJpbmRUb29sdGlwKAogICAgICAgICAgICAgICAgYDxkaXY+CiAgICAgICAgICAgICAgICAgICAgIOyKpO2DgOuyheyKpCAtIOuMgOq1rOq0keyXreyLnCDspJHqtawg7KSR7JWZ64yA66GcIDM4NgogICAgICAgICAgICAgICAgIDwvZGl2PmAsCiAgICAgICAgICAgICAgICB7InN0aWNreSI6IHRydWV9CiAgICAgICAgICAgICk7CiAgICAgICAgCiAgICAKICAgICAgICAgICAgdmFyIGNpcmNsZV9tYXJrZXJfZTFiYWJkNWYwMzkyNDk0NDhjZjIyYzJmZGFmYzMyZmQgPSBMLmNpcmNsZU1hcmtlcigKICAgICAgICAgICAgICAgIFszNS44NTg4NzExNDMzNDU0OTYsIDEyOC41NjE1NTgwOTY5MTVdLAogICAgICAgICAgICAgICAgeyJidWJibGluZ01vdXNlRXZlbnRzIjogdHJ1ZSwgImNvbG9yIjogImdyZWVuIiwgImRhc2hBcnJheSI6IG51bGwsICJkYXNoT2Zmc2V0IjogbnVsbCwgImZpbGwiOiBmYWxzZSwgImZpbGxDb2xvciI6ICJncmVlbiIsICJmaWxsT3BhY2l0eSI6IDAuMiwgImZpbGxSdWxlIjogImV2ZW5vZGQiLCAibGluZUNhcCI6ICJyb3VuZCIsICJsaW5lSm9pbiI6ICJyb3VuZCIsICJvcGFjaXR5IjogMS4wLCAicmFkaXVzIjogMywgInN0cm9rZSI6IHRydWUsICJ3ZWlnaHQiOiAzfQogICAgICAgICAgICApLmFkZFRvKG1hcF83MTQ0NTRlZDM1MDM0N2ZkOGM2Y2JjNjcwNjdlNjA1MCk7CiAgICAgICAgCiAgICAKICAgICAgICAgICAgY2lyY2xlX21hcmtlcl9lMWJhYmQ1ZjAzOTI0OTQ0OGNmMjJjMmZkYWZjMzJmZC5iaW5kVG9vbHRpcCgKICAgICAgICAgICAgICAgIGA8ZGl2PgogICAgICAgICAgICAgICAgICAgICDsiqTtg4DrsoXsiqQgLSDrjIDqtazqtJHsl63si5wg64us7ISc6rWsIOuLrOq1rOuyjOuMgOuhnCAxNzk2CiAgICAgICAgICAgICAgICAgPC9kaXY+YCwKICAgICAgICAgICAgICAgIHsic3RpY2t5IjogdHJ1ZX0KICAgICAgICAgICAgKTsKICAgICAgICAKICAgIAogICAgICAgICAgICB2YXIgY2lyY2xlX21hcmtlcl9hZGM0NzRiMmY0Njk0ZTAyOTA2MGY2OWMxNzI3OTQwYyA9IEwuY2lyY2xlTWFya2VyKAogICAgICAgICAgICAgICAgWzM1Ljg2NzI5ODg3OTgxNTM5NCwgMTI4LjU5MzM2NDYyMjM4N10sCiAgICAgICAgICAgICAgICB7ImJ1YmJsaW5nTW91c2VFdmVudHMiOiB0cnVlLCAiY29sb3IiOiAiZ3JlZW4iLCAiZGFzaEFycmF5IjogbnVsbCwgImRhc2hPZmZzZXQiOiBudWxsLCAiZmlsbCI6IGZhbHNlLCAiZmlsbENvbG9yIjogImdyZWVuIiwgImZpbGxPcGFjaXR5IjogMC4yLCAiZmlsbFJ1bGUiOiAiZXZlbm9kZCIsICJsaW5lQ2FwIjogInJvdW5kIiwgImxpbmVKb2luIjogInJvdW5kIiwgIm9wYWNpdHkiOiAxLjAsICJyYWRpdXMiOiAzLCAic3Ryb2tlIjogdHJ1ZSwgIndlaWdodCI6IDN9CiAgICAgICAgICAgICkuYWRkVG8obWFwXzcxNDQ1NGVkMzUwMzQ3ZmQ4YzZjYmM2NzA2N2U2MDUwKTsKICAgICAgICAKICAgIAogICAgICAgICAgICBjaXJjbGVfbWFya2VyX2FkYzQ3NGIyZjQ2OTRlMDI5MDYwZjY5YzE3Mjc5NDBjLmJpbmRUb29sdGlwKAogICAgICAgICAgICAgICAgYDxkaXY+CiAgICAgICAgICAgICAgICAgICAgIOyKpO2DgOuyheyKpOuMgOq1rOykkeyVmeuhnOygkCAtIOuMgOq1rOq0keyXreyLnCDspJHqtawg64Ko7ISx66GcIDYxCiAgICAgICAgICAgICAgICAgPC9kaXY+YCwKICAgICAgICAgICAgICAgIHsic3RpY2t5IjogdHJ1ZX0KICAgICAgICAgICAgKTsKICAgICAgICAKICAgIAogICAgICAgICAgICB2YXIgY2lyY2xlX21hcmtlcl8zODI3NzI0ZTlmM2I0MTQwOGQ3YjE0YjcxZmFlNDgwZCA9IEwuY2lyY2xlTWFya2VyKAogICAgICAgICAgICAgICAgWzM1LjgxMDA2MzEwNzE0MiwgMTI4LjUzMjA2ODE4MzQ5OV0sCiAgICAgICAgICAgICAgICB7ImJ1YmJsaW5nTW91c2VFdmVudHMiOiB0cnVlLCAiY29sb3IiOiAiYmx1ZSIsICJkYXNoQXJyYXkiOiBudWxsLCAiZGFzaE9mZnNldCI6IG51bGwsICJmaWxsIjogZmFsc2UsICJmaWxsQ29sb3IiOiAiYmx1ZSIsICJmaWxsT3BhY2l0eSI6IDAuMiwgImZpbGxSdWxlIjogImV2ZW5vZGQiLCAibGluZUNhcCI6ICJyb3VuZCIsICJsaW5lSm9pbiI6ICJyb3VuZCIsICJvcGFjaXR5IjogMS4wLCAicmFkaXVzIjogMywgInN0cm9rZSI6IHRydWUsICJ3ZWlnaHQiOiAzfQogICAgICAgICAgICApLmFkZFRvKG1hcF83MTQ0NTRlZDM1MDM0N2ZkOGM2Y2JjNjcwNjdlNjA1MCk7CiAgICAgICAgCiAgICAKICAgICAgICAgICAgY2lyY2xlX21hcmtlcl8zODI3NzI0ZTlmM2I0MTQwOGQ3YjE0YjcxZmFlNDgwZC5iaW5kVG9vbHRpcCgKICAgICAgICAgICAgICAgIGA8ZGl2PgogICAgICAgICAgICAgICAgICAgICDsnbTrlJTslbzsu6TtlLwgLSDrjIDqtazqtJHsl63si5wg64us7ISc6rWsIOyDge2ZlOuhnCAxNjUtMQogICAgICAgICAgICAgICAgIDwvZGl2PmAsCiAgICAgICAgICAgICAgICB7InN0aWNreSI6IHRydWV9CiAgICAgICAgICAgICk7CiAgICAgICAgCiAgICAKICAgICAgICAgICAgdmFyIGNpcmNsZV9tYXJrZXJfNmExMzk2M2ExZGJlNGQ0NmIwNzhmMzhiMGI5ZjAzZmUgPSBMLmNpcmNsZU1hcmtlcigKICAgICAgICAgICAgICAgIFszNS44NDM3NzQ0NDIwNjYxLCAxMjguNTMzNzU0NDc0MjEzXSwKICAgICAgICAgICAgICAgIHsiYnViYmxpbmdNb3VzZUV2ZW50cyI6IHRydWUsICJjb2xvciI6ICJncmVlbiIsICJkYXNoQXJyYXkiOiBudWxsLCAiZGFzaE9mZnNldCI6IG51bGwsICJmaWxsIjogZmFsc2UsICJmaWxsQ29sb3IiOiAiZ3JlZW4iLCAiZmlsbE9wYWNpdHkiOiAwLjIsICJmaWxsUnVsZSI6ICJldmVub2RkIiwgImxpbmVDYXAiOiAicm91bmQiLCAibGluZUpvaW4iOiAicm91bmQiLCAib3BhY2l0eSI6IDEuMCwgInJhZGl1cyI6IDMsICJzdHJva2UiOiB0cnVlLCAid2VpZ2h0IjogM30KICAgICAgICAgICAgKS5hZGRUbyhtYXBfNzE0NDU0ZWQzNTAzNDdmZDhjNmNiYzY3MDY3ZTYwNTApOwogICAgICAgIAogICAgCiAgICAgICAgICAgIGNpcmNsZV9tYXJrZXJfNmExMzk2M2ExZGJlNGQ0NmIwNzhmMzhiMGI5ZjAzZmUuYmluZFRvb2x0aXAoCiAgICAgICAgICAgICAgICBgPGRpdj4KICAgICAgICAgICAgICAgICAgICAg7Iqk7YOA67KF7IqkIC0g64yA6rWs6rSR7Jet7IucIOuLrOyEnOq1rCDsnqXquLDroZwgMjQ0CiAgICAgICAgICAgICAgICAgPC9kaXY+YCwKICAgICAgICAgICAgICAgIHsic3RpY2t5IjogdHJ1ZX0KICAgICAgICAgICAgKTsKICAgICAgICAKICAgIAogICAgICAgICAgICB2YXIgY2lyY2xlX21hcmtlcl81MGFkOTBkNmI1Mzk0NDgxODU3N2E4MDQ5ZjI0NzFjYyA9IEwuY2lyY2xlTWFya2VyKAogICAgICAgICAgICAgICAgWzM1LjgzMDIzNjk0NDIyOTIsIDEyOC43MDgxMzAxNjA2NTIwMl0sCiAgICAgICAgICAgICAgICB7ImJ1YmJsaW5nTW91c2VFdmVudHMiOiB0cnVlLCAiY29sb3IiOiAiYmx1ZSIsICJkYXNoQXJyYXkiOiBudWxsLCAiZGFzaE9mZnNldCI6IG51bGwsICJmaWxsIjogZmFsc2UsICJmaWxsQ29sb3IiOiAiYmx1ZSIsICJmaWxsT3BhY2l0eSI6IDAuMiwgImZpbGxSdWxlIjogImV2ZW5vZGQiLCAibGluZUNhcCI6ICJyb3VuZCIsICJsaW5lSm9pbiI6ICJyb3VuZCIsICJvcGFjaXR5IjogMS4wLCAicmFkaXVzIjogMywgInN0cm9rZSI6IHRydWUsICJ3ZWlnaHQiOiAzfQogICAgICAgICAgICApLmFkZFRvKG1hcF83MTQ0NTRlZDM1MDM0N2ZkOGM2Y2JjNjcwNjdlNjA1MCk7CiAgICAgICAgCiAgICAKICAgICAgICAgICAgY2lyY2xlX21hcmtlcl81MGFkOTBkNmI1Mzk0NDgxODU3N2E4MDQ5ZjI0NzFjYy5iaW5kVG9vbHRpcCgKICAgICAgICAgICAgICAgIGA8ZGl2PgogICAgICAgICAgICAgICAgICAgICDsnbTrlJTslbzsu6TtlLwgLSDrjIDqtazqtJHsl63si5wg7IiY7ISx6rWsIOuLrOq1rOuyjOuMgOuhnDY1MOq4uCA5NQogICAgICAgICAgICAgICAgIDwvZGl2PmAsCiAgICAgICAgICAgICAgICB7InN0aWNreSI6IHRydWV9CiAgICAgICAgICAgICk7CiAgICAgICAgCiAgICAKICAgICAgICAgICAgdmFyIGNpcmNsZV9tYXJrZXJfYTcxNTZmYmQ2NDdkNGQwNWJkMDg3YzExZDZlN2VjYzkgPSBMLmNpcmNsZU1hcmtlcigKICAgICAgICAgICAgICAgIFszNS44NzA2MDg1MDQ4MjE2MDQsIDEyOC41OTQ4Mjg4Nzk2MDUwMl0sCiAgICAgICAgICAgICAgICB7ImJ1YmJsaW5nTW91c2VFdmVudHMiOiB0cnVlLCAiY29sb3IiOiAiZ3JlZW4iLCAiZGFzaEFycmF5IjogbnVsbCwgImRhc2hPZmZzZXQiOiBudWxsLCAiZmlsbCI6IGZhbHNlLCAiZmlsbENvbG9yIjogImdyZWVuIiwgImZpbGxPcGFjaXR5IjogMC4yLCAiZmlsbFJ1bGUiOiAiZXZlbm9kZCIsICJsaW5lQ2FwIjogInJvdW5kIiwgImxpbmVKb2luIjogInJvdW5kIiwgIm9wYWNpdHkiOiAxLjAsICJyYWRpdXMiOiAzLCAic3Ryb2tlIjogdHJ1ZSwgIndlaWdodCI6IDN9CiAgICAgICAgICAgICkuYWRkVG8obWFwXzcxNDQ1NGVkMzUwMzQ3ZmQ4YzZjYmM2NzA2N2U2MDUwKTsKICAgICAgICAKICAgIAogICAgICAgICAgICBjaXJjbGVfbWFya2VyX2E3MTU2ZmJkNjQ3ZDRkMDViZDA4N2MxMWQ2ZTdlY2M5LmJpbmRUb29sdGlwKAogICAgICAgICAgICAgICAgYDxkaXY+CiAgICAgICAgICAgICAgICAgICAgIOyKpO2DgOuyheyKpCAtIOuMgOq1rOq0keyXreyLnCDspJHqtawg6rWt7LGE67O07IOB66GcIDU4NgogICAgICAgICAgICAgICAgIDwvZGl2PmAsCiAgICAgICAgICAgICAgICB7InN0aWNreSI6IHRydWV9CiAgICAgICAgICAgICk7CiAgICAgICAgCiAgICAKICAgICAgICAgICAgdmFyIGNpcmNsZV9tYXJrZXJfYjVkNGYyNTIyM2JiNDFhN2JlYzc2M2NiYzk4YmU0ZjMgPSBMLmNpcmNsZU1hcmtlcigKICAgICAgICAgICAgICAgIFszNS45NDI1NjM0MTgyNDIsIDEyOC41NjA1MzEzMzIxNF0sCiAgICAgICAgICAgICAgICB7ImJ1YmJsaW5nTW91c2VFdmVudHMiOiB0cnVlLCAiY29sb3IiOiAiZ3JlZW4iLCAiZGFzaEFycmF5IjogbnVsbCwgImRhc2hPZmZzZXQiOiBudWxsLCAiZmlsbCI6IGZhbHNlLCAiZmlsbENvbG9yIjogImdyZWVuIiwgImZpbGxPcGFjaXR5IjogMC4yLCAiZmlsbFJ1bGUiOiAiZXZlbm9kZCIsICJsaW5lQ2FwIjogInJvdW5kIiwgImxpbmVKb2luIjogInJvdW5kIiwgIm9wYWNpdHkiOiAxLjAsICJyYWRpdXMiOiAzLCAic3Ryb2tlIjogdHJ1ZSwgIndlaWdodCI6IDN9CiAgICAgICAgICAgICkuYWRkVG8obWFwXzcxNDQ1NGVkMzUwMzQ3ZmQ4YzZjYmM2NzA2N2U2MDUwKTsKICAgICAgICAKICAgIAogICAgICAgICAgICBjaXJjbGVfbWFya2VyX2I1ZDRmMjUyMjNiYjQxYTdiZWM3NjNjYmM5OGJlNGYzLmJpbmRUb29sdGlwKAogICAgICAgICAgICAgICAgYDxkaXY+CiAgICAgICAgICAgICAgICAgICAgIOyKpO2DgOuyheyKpCAtIOuMgOq1rOq0keyXreyLnCDrtoHqtawg64+Z7LKc66GcIDEyMwogICAgICAgICAgICAgICAgIDwvZGl2PmAsCiAgICAgICAgICAgICAgICB7InN0aWNreSI6IHRydWV9CiAgICAgICAgICAgICk7CiAgICAgICAgCiAgICAKICAgICAgICAgICAgdmFyIGNpcmNsZV9tYXJrZXJfOTk4OTVmNmVjMTRiNGZiMWIxZjUzZWFkZjY3YmVhMDcgPSBMLmNpcmNsZU1hcmtlcigKICAgICAgICAgICAgICAgIFszNS44NjczOTU2NzI4OTUxLCAxMjguNTkyMDE0NDA0MDE4OThdLAogICAgICAgICAgICAgICAgeyJidWJibGluZ01vdXNlRXZlbnRzIjogdHJ1ZSwgImNvbG9yIjogImJsdWUiLCAiZGFzaEFycmF5IjogbnVsbCwgImRhc2hPZmZzZXQiOiBudWxsLCAiZmlsbCI6IGZhbHNlLCAiZmlsbENvbG9yIjogImJsdWUiLCAiZmlsbE9wYWNpdHkiOiAwLjIsICJmaWxsUnVsZSI6ICJldmVub2RkIiwgImxpbmVDYXAiOiAicm91bmQiLCAibGluZUpvaW4iOiAicm91bmQiLCAib3BhY2l0eSI6IDEuMCwgInJhZGl1cyI6IDMsICJzdHJva2UiOiB0cnVlLCAid2VpZ2h0IjogM30KICAgICAgICAgICAgKS5hZGRUbyhtYXBfNzE0NDU0ZWQzNTAzNDdmZDhjNmNiYzY3MDY3ZTYwNTApOwogICAgICAgIAogICAgCiAgICAgICAgICAgIGNpcmNsZV9tYXJrZXJfOTk4OTVmNmVjMTRiNGZiMWIxZjUzZWFkZjY3YmVhMDcuYmluZFRvb2x0aXAoCiAgICAgICAgICAgICAgICBgPGRpdj4KICAgICAgICAgICAgICAgICAgICAg7J2065SU7JW87Luk7ZS864yA6rWs7KKF66Gc7KCQIC0g64yA6rWs6rSR7Jet7IucIOykkeq1rCDsooXroZwgMTcKICAgICAgICAgICAgICAgICA8L2Rpdj5gLAogICAgICAgICAgICAgICAgeyJzdGlja3kiOiB0cnVlfQogICAgICAgICAgICApOwogICAgICAgIAogICAgCiAgICAgICAgICAgIHZhciBjaXJjbGVfbWFya2VyX2QxMWZjMGRkMzUwYjQ3NGU4YjFiM2MyZjM3YzYxODI0ID0gTC5jaXJjbGVNYXJrZXIoCiAgICAgICAgICAgICAgICBbMzUuODY4MTQ1MTU1MjQ0LCAxMjguNjI3MjY2NTE4ODY2XSwKICAgICAgICAgICAgICAgIHsiYnViYmxpbmdNb3VzZUV2ZW50cyI6IHRydWUsICJjb2xvciI6ICJncmVlbiIsICJkYXNoQXJyYXkiOiBudWxsLCAiZGFzaE9mZnNldCI6IG51bGwsICJmaWxsIjogZmFsc2UsICJmaWxsQ29sb3IiOiAiZ3JlZW4iLCAiZmlsbE9wYWNpdHkiOiAwLjIsICJmaWxsUnVsZSI6ICJldmVub2RkIiwgImxpbmVDYXAiOiAicm91bmQiLCAibGluZUpvaW4iOiAicm91bmQiLCAib3BhY2l0eSI6IDEuMCwgInJhZGl1cyI6IDMsICJzdHJva2UiOiB0cnVlLCAid2VpZ2h0IjogM30KICAgICAgICAgICAgKS5hZGRUbyhtYXBfNzE0NDU0ZWQzNTAzNDdmZDhjNmNiYzY3MDY3ZTYwNTApOwogICAgICAgIAogICAgCiAgICAgICAgICAgIGNpcmNsZV9tYXJrZXJfZDExZmMwZGQzNTBiNDc0ZThiMWIzYzJmMzdjNjE4MjQuYmluZFRvb2x0aXAoCiAgICAgICAgICAgICAgICBgPGRpdj4KICAgICAgICAgICAgICAgICAgICAg7Iqk7YOA67KF7IqkIC0g64yA6rWs6rSR7Jet7IucIOuPmeq1rCDrj5nrjIDqtazroZwgNDIyCiAgICAgICAgICAgICAgICAgPC9kaXY+YCwKICAgICAgICAgICAgICAgIHsic3RpY2t5IjogdHJ1ZX0KICAgICAgICAgICAgKTsKICAgICAgICAKICAgIAogICAgICAgICAgICB2YXIgY2lyY2xlX21hcmtlcl9jODIxZjdkZjUyZGY0NjA2YmUzMzZlNWMwYjhkYzQ1NSA9IEwuY2lyY2xlTWFya2VyKAogICAgICAgICAgICAgICAgWzM1LjgzNTI0MzUwMjI4NjI5NiwgMTI4LjYyNDQ1MDU1NzU2Ml0sCiAgICAgICAgICAgICAgICB7ImJ1YmJsaW5nTW91c2VFdmVudHMiOiB0cnVlLCAiY29sb3IiOiAiZ3JlZW4iLCAiZGFzaEFycmF5IjogbnVsbCwgImRhc2hPZmZzZXQiOiBudWxsLCAiZmlsbCI6IGZhbHNlLCAiZmlsbENvbG9yIjogImdyZWVuIiwgImZpbGxPcGFjaXR5IjogMC4yLCAiZmlsbFJ1bGUiOiAiZXZlbm9kZCIsICJsaW5lQ2FwIjogInJvdW5kIiwgImxpbmVKb2luIjogInJvdW5kIiwgIm9wYWNpdHkiOiAxLjAsICJyYWRpdXMiOiAzLCAic3Ryb2tlIjogdHJ1ZSwgIndlaWdodCI6IDN9CiAgICAgICAgICAgICkuYWRkVG8obWFwXzcxNDQ1NGVkMzUwMzQ3ZmQ4YzZjYmM2NzA2N2U2MDUwKTsKICAgICAgICAKICAgIAogICAgICAgICAgICBjaXJjbGVfbWFya2VyX2M4MjFmN2RmNTJkZjQ2MDZiZTMzNmU1YzBiOGRjNDU1LmJpbmRUb29sdGlwKAogICAgICAgICAgICAgICAgYDxkaXY+CiAgICAgICAgICAgICAgICAgICAgIOyKpO2DgOuyheyKpCAtIOuMgOq1rOq0keyXreyLnCDsiJjshLHqtawg64+Z64yA6rWs66GcIDU2CiAgICAgICAgICAgICAgICAgPC9kaXY+YCwKICAgICAgICAgICAgICAgIHsic3RpY2t5IjogdHJ1ZX0KICAgICAgICAgICAgKTsKICAgICAgICAKICAgIAogICAgICAgICAgICB2YXIgY2lyY2xlX21hcmtlcl83NmU3OWZhZGM1ZWU0ODJiOGFiNWFmM2E0MmMyZDUyYiA9IEwuY2lyY2xlTWFya2VyKAogICAgICAgICAgICAgICAgWzM1LjgwNzIzOTU1MzUxMjYsIDEyOC41MjAyNTQxMDI5OTQ5OF0sCiAgICAgICAgICAgICAgICB7ImJ1YmJsaW5nTW91c2VFdmVudHMiOiB0cnVlLCAiY29sb3IiOiAiZ3JlZW4iLCAiZGFzaEFycmF5IjogbnVsbCwgImRhc2hPZmZzZXQiOiBudWxsLCAiZmlsbCI6IGZhbHNlLCAiZmlsbENvbG9yIjogImdyZWVuIiwgImZpbGxPcGFjaXR5IjogMC4yLCAiZmlsbFJ1bGUiOiAiZXZlbm9kZCIsICJsaW5lQ2FwIjogInJvdW5kIiwgImxpbmVKb2luIjogInJvdW5kIiwgIm9wYWNpdHkiOiAxLjAsICJyYWRpdXMiOiAzLCAic3Ryb2tlIjogdHJ1ZSwgIndlaWdodCI6IDN9CiAgICAgICAgICAgICkuYWRkVG8obWFwXzcxNDQ1NGVkMzUwMzQ3ZmQ4YzZjYmM2NzA2N2U2MDUwKTsKICAgICAgICAKICAgIAogICAgICAgICAgICBjaXJjbGVfbWFya2VyXzc2ZTc5ZmFkYzVlZTQ4MmI4YWI1YWYzYTQyYzJkNTJiLmJpbmRUb29sdGlwKAogICAgICAgICAgICAgICAgYDxkaXY+CiAgICAgICAgICAgICAgICAgICAgIOyKpO2DgOuyheyKpCAtIOuMgOq1rOq0keyXreyLnCDri6zshJzqtawg7ZmU7JWU66GcIDM3OQogICAgICAgICAgICAgICAgIDwvZGl2PmAsCiAgICAgICAgICAgICAgICB7InN0aWNreSI6IHRydWV9CiAgICAgICAgICAgICk7CiAgICAgICAgCiAgICAKICAgICAgICAgICAgdmFyIGNpcmNsZV9tYXJrZXJfOTkxZjViN2MyMDVjNGE2Njg0ZTAxNGY2YzgwZjI2NGQgPSBMLmNpcmNsZU1hcmtlcigKICAgICAgICAgICAgICAgIFszNS42OTgzNzQ5Njc5MzUyOTQsIDEyOC40NjA2MDU3ODk3OTJdLAogICAgICAgICAgICAgICAgeyJidWJibGluZ01vdXNlRXZlbnRzIjogdHJ1ZSwgImNvbG9yIjogImJsdWUiLCAiZGFzaEFycmF5IjogbnVsbCwgImRhc2hPZmZzZXQiOiBudWxsLCAiZmlsbCI6IGZhbHNlLCAiZmlsbENvbG9yIjogImJsdWUiLCAiZmlsbE9wYWNpdHkiOiAwLjIsICJmaWxsUnVsZSI6ICJldmVub2RkIiwgImxpbmVDYXAiOiAicm91bmQiLCAibGluZUpvaW4iOiAicm91bmQiLCAib3BhY2l0eSI6IDEuMCwgInJhZGl1cyI6IDMsICJzdHJva2UiOiB0cnVlLCAid2VpZ2h0IjogM30KICAgICAgICAgICAgKS5hZGRUbyhtYXBfNzE0NDU0ZWQzNTAzNDdmZDhjNmNiYzY3MDY3ZTYwNTApOwogICAgICAgIAogICAgCiAgICAgICAgICAgIGNpcmNsZV9tYXJrZXJfOTkxZjViN2MyMDVjNGE2Njg0ZTAxNGY2YzgwZjI2NGQuYmluZFRvb2x0aXAoCiAgICAgICAgICAgICAgICBgPGRpdj4KICAgICAgICAgICAgICAgICAgICAg7J2065SU7JW87Luk7ZS8IC0g64yA6rWs6rSR7Jet7IucIOuLrOyEseq1sCDsnKDqsIDrqbQg7ZiE7ZKN66GcIDE5OAogICAgICAgICAgICAgICAgIDwvZGl2PmAsCiAgICAgICAgICAgICAgICB7InN0aWNreSI6IHRydWV9CiAgICAgICAgICAgICk7CiAgICAgICAgCiAgICAKICAgICAgICAgICAgdmFyIGNpcmNsZV9tYXJrZXJfNGUyOTEzMDYwMmFlNDQzZTgxZjliMGM2N2MwYzZjYTEgPSBMLmNpcmNsZU1hcmtlcigKICAgICAgICAgICAgICAgIFszNS44NjYzNDE5Mjc4MTQyMDQsIDEyOC41OTE4NTE1NDMyNDldLAogICAgICAgICAgICAgICAgeyJidWJibGluZ01vdXNlRXZlbnRzIjogdHJ1ZSwgImNvbG9yIjogImdyZWVuIiwgImRhc2hBcnJheSI6IG51bGwsICJkYXNoT2Zmc2V0IjogbnVsbCwgImZpbGwiOiBmYWxzZSwgImZpbGxDb2xvciI6ICJncmVlbiIsICJmaWxsT3BhY2l0eSI6IDAuMiwgImZpbGxSdWxlIjogImV2ZW5vZGQiLCAibGluZUNhcCI6ICJyb3VuZCIsICJsaW5lSm9pbiI6ICJyb3VuZCIsICJvcGFjaXR5IjogMS4wLCAicmFkaXVzIjogMywgInN0cm9rZSI6IHRydWUsICJ3ZWlnaHQiOiAzfQogICAgICAgICAgICApLmFkZFRvKG1hcF83MTQ0NTRlZDM1MDM0N2ZkOGM2Y2JjNjcwNjdlNjA1MCk7CiAgICAgICAgCiAgICAKICAgICAgICAgICAgY2lyY2xlX21hcmtlcl80ZTI5MTMwNjAyYWU0NDNlODFmOWIwYzY3YzBjNmNhMS5iaW5kVG9vbHRpcCgKICAgICAgICAgICAgICAgIGA8ZGl2PgogICAgICAgICAgICAgICAgICAgICDsiqTtg4DrsoXsiqTrsJjsm5Tri7kgLSDrjIDqtazqtJHsl63si5wg7KSR6rWsIOuLrOq1rOuyjOuMgOuhnCAyMDg1CiAgICAgICAgICAgICAgICAgPC9kaXY+YCwKICAgICAgICAgICAgICAgIHsic3RpY2t5IjogdHJ1ZX0KICAgICAgICAgICAgKTsKICAgICAgICAKICAgIAogICAgICAgICAgICB2YXIgY2lyY2xlX21hcmtlcl9kMmQ3ZTM3ZTdhY2M0NjY5YjM3ODk3ZGU3ZDk4OTEwYyA9IEwuY2lyY2xlTWFya2VyKAogICAgICAgICAgICAgICAgWzM1Ljg1NTE2OTA5Mjk0ODYxLCAxMjguNTA0MTAzNTMyODM1MDJdLAogICAgICAgICAgICAgICAgeyJidWJibGluZ01vdXNlRXZlbnRzIjogdHJ1ZSwgImNvbG9yIjogImdyZWVuIiwgImRhc2hBcnJheSI6IG51bGwsICJkYXNoT2Zmc2V0IjogbnVsbCwgImZpbGwiOiBmYWxzZSwgImZpbGxDb2xvciI6ICJncmVlbiIsICJmaWxsT3BhY2l0eSI6IDAuMiwgImZpbGxSdWxlIjogImV2ZW5vZGQiLCAibGluZUNhcCI6ICJyb3VuZCIsICJsaW5lSm9pbiI6ICJyb3VuZCIsICJvcGFjaXR5IjogMS4wLCAicmFkaXVzIjogMywgInN0cm9rZSI6IHRydWUsICJ3ZWlnaHQiOiAzfQogICAgICAgICAgICApLmFkZFRvKG1hcF83MTQ0NTRlZDM1MDM0N2ZkOGM2Y2JjNjcwNjdlNjA1MCk7CiAgICAgICAgCiAgICAKICAgICAgICAgICAgY2lyY2xlX21hcmtlcl9kMmQ3ZTM3ZTdhY2M0NjY5YjM3ODk3ZGU3ZDk4OTEwYy5iaW5kVG9vbHRpcCgKICAgICAgICAgICAgICAgIGA8ZGl2PgogICAgICAgICAgICAgICAgICAgICDsiqTtg4DrsoXsiqTrjIDqtazsnbTqs6HsoJAgLSDrjIDqtazqtJHsl63si5wg64us7ISc6rWsIOqzhOuMgOuPmeusuOuhnCAxMDgKICAgICAgICAgICAgICAgICA8L2Rpdj5gLAogICAgICAgICAgICAgICAgeyJzdGlja3kiOiB0cnVlfQogICAgICAgICAgICApOwogICAgICAgIAogICAgCiAgICAgICAgICAgIHZhciBjaXJjbGVfbWFya2VyXzkyMGI2ZTlhMmEyZTRhOGNhOWQ5YjlmZmY5NmE4NDA2ID0gTC5jaXJjbGVNYXJrZXIoCiAgICAgICAgICAgICAgICBbMzUuODcyNTgxMDEzMzQyNCwgMTI4LjU5NjkyNTUzMzY2OF0sCiAgICAgICAgICAgICAgICB7ImJ1YmJsaW5nTW91c2VFdmVudHMiOiB0cnVlLCAiY29sb3IiOiAiZ3JlZW4iLCAiZGFzaEFycmF5IjogbnVsbCwgImRhc2hPZmZzZXQiOiBudWxsLCAiZmlsbCI6IGZhbHNlLCAiZmlsbENvbG9yIjogImdyZWVuIiwgImZpbGxPcGFjaXR5IjogMC4yLCAiZmlsbFJ1bGUiOiAiZXZlbm9kZCIsICJsaW5lQ2FwIjogInJvdW5kIiwgImxpbmVKb2luIjogInJvdW5kIiwgIm9wYWNpdHkiOiAxLjAsICJyYWRpdXMiOiAzLCAic3Ryb2tlIjogdHJ1ZSwgIndlaWdodCI6IDN9CiAgICAgICAgICAgICkuYWRkVG8obWFwXzcxNDQ1NGVkMzUwMzQ3ZmQ4YzZjYmM2NzA2N2U2MDUwKTsKICAgICAgICAKICAgIAogICAgICAgICAgICBjaXJjbGVfbWFya2VyXzkyMGI2ZTlhMmEyZTRhOGNhOWQ5YjlmZmY5NmE4NDA2LmJpbmRUb29sdGlwKAogICAgICAgICAgICAgICAgYDxkaXY+CiAgICAgICAgICAgICAgICAgICAgIOyKpO2DgOuyheyKpCAtIOuMgOq1rOq0keyXreyLnCDspJHqtawg6rK97IOB6rCQ7JiB6ri4IDE3MQogICAgICAgICAgICAgICAgIDwvZGl2PmAsCiAgICAgICAgICAgICAgICB7InN0aWNreSI6IHRydWV9CiAgICAgICAgICAgICk7CiAgICAgICAgCiAgICAKICAgICAgICAgICAgdmFyIGNpcmNsZV9tYXJrZXJfYWE2OWY0NzhmMjU3NDEyOTgwNTdlZDgyMDVmMmJkN2IgPSBMLmNpcmNsZU1hcmtlcigKICAgICAgICAgICAgICAgIFszNS44MDc3Mjg3NTQyMzI4LCAxMjguNTQ4MDk2ODk0MDddLAogICAgICAgICAgICAgICAgeyJidWJibGluZ01vdXNlRXZlbnRzIjogdHJ1ZSwgImNvbG9yIjogImdyZWVuIiwgImRhc2hBcnJheSI6IG51bGwsICJkYXNoT2Zmc2V0IjogbnVsbCwgImZpbGwiOiBmYWxzZSwgImZpbGxDb2xvciI6ICJncmVlbiIsICJmaWxsT3BhY2l0eSI6IDAuMiwgImZpbGxSdWxlIjogImV2ZW5vZGQiLCAibGluZUNhcCI6ICJyb3VuZCIsICJsaW5lSm9pbiI6ICJyb3VuZCIsICJvcGFjaXR5IjogMS4wLCAicmFkaXVzIjogMywgInN0cm9rZSI6IHRydWUsICJ3ZWlnaHQiOiAzfQogICAgICAgICAgICApLmFkZFRvKG1hcF83MTQ0NTRlZDM1MDM0N2ZkOGM2Y2JjNjcwNjdlNjA1MCk7CiAgICAgICAgCiAgICAKICAgICAgICAgICAgY2lyY2xlX21hcmtlcl9hYTY5ZjQ3OGYyNTc0MTI5ODA1N2VkODIwNWYyYmQ3Yi5iaW5kVG9vbHRpcCgKICAgICAgICAgICAgICAgIGA8ZGl2PgogICAgICAgICAgICAgICAgICAgICDsiqTtg4DrsoXsiqTrjIDqtazrj4Tsm5BEVOygkCAtIOuMgOq1rOq0keyXreyLnCDri6zshJzqtawg7IOB7ZmU66GcIDMxNAogICAgICAgICAgICAgICAgIDwvZGl2PmAsCiAgICAgICAgICAgICAgICB7InN0aWNreSI6IHRydWV9CiAgICAgICAgICAgICk7CiAgICAgICAgCiAgICAKICAgICAgICAgICAgdmFyIGNpcmNsZV9tYXJrZXJfODMyM2IxZmUyN2U4NGMzZmI3YjFhZmY0NjFhNjZjM2MgPSBMLmNpcmNsZU1hcmtlcigKICAgICAgICAgICAgICAgIFszNS44NjEwMDEzNzQ3MTQsIDEyOC42MjgyODQyNTE1MV0sCiAgICAgICAgICAgICAgICB7ImJ1YmJsaW5nTW91c2VFdmVudHMiOiB0cnVlLCAiY29sb3IiOiAiZ3JlZW4iLCAiZGFzaEFycmF5IjogbnVsbCwgImRhc2hPZmZzZXQiOiBudWxsLCAiZmlsbCI6IGZhbHNlLCAiZmlsbENvbG9yIjogImdyZWVuIiwgImZpbGxPcGFjaXR5IjogMC4yLCAiZmlsbFJ1bGUiOiAiZXZlbm9kZCIsICJsaW5lQ2FwIjogInJvdW5kIiwgImxpbmVKb2luIjogInJvdW5kIiwgIm9wYWNpdHkiOiAxLjAsICJyYWRpdXMiOiAzLCAic3Ryb2tlIjogdHJ1ZSwgIndlaWdodCI6IDN9CiAgICAgICAgICAgICkuYWRkVG8obWFwXzcxNDQ1NGVkMzUwMzQ3ZmQ4YzZjYmM2NzA2N2U2MDUwKTsKICAgICAgICAKICAgIAogICAgICAgICAgICBjaXJjbGVfbWFya2VyXzgzMjNiMWZlMjdlODRjM2ZiN2IxYWZmNDYxYTY2YzNjLmJpbmRUb29sdGlwKAogICAgICAgICAgICAgICAgYDxkaXY+CiAgICAgICAgICAgICAgICAgICAgIOyKpO2DgOuyheyKpCAtIOuMgOq1rOq0keyXreyLnCDsiJjshLHqtawg64us6rWs67KM64yA66GcIDI0MzUKICAgICAgICAgICAgICAgICA8L2Rpdj5gLAogICAgICAgICAgICAgICAgeyJzdGlja3kiOiB0cnVlfQogICAgICAgICAgICApOwogICAgICAgIAogICAgCiAgICAgICAgICAgIHZhciBjaXJjbGVfbWFya2VyX2JmNjU0NjhjY2MwNjRmMzNhNzY3OTZmNGMxNTRlNWE1ID0gTC5jaXJjbGVNYXJrZXIoCiAgICAgICAgICAgICAgICBbMzUuODM5MDU4MTcyMjgsIDEyOC42MjU3ODY2MzAxMzNdLAogICAgICAgICAgICAgICAgeyJidWJibGluZ01vdXNlRXZlbnRzIjogdHJ1ZSwgImNvbG9yIjogImdyZWVuIiwgImRhc2hBcnJheSI6IG51bGwsICJkYXNoT2Zmc2V0IjogbnVsbCwgImZpbGwiOiBmYWxzZSwgImZpbGxDb2xvciI6ICJncmVlbiIsICJmaWxsT3BhY2l0eSI6IDAuMiwgImZpbGxSdWxlIjogImV2ZW5vZGQiLCAibGluZUNhcCI6ICJyb3VuZCIsICJsaW5lSm9pbiI6ICJyb3VuZCIsICJvcGFjaXR5IjogMS4wLCAicmFkaXVzIjogMywgInN0cm9rZSI6IHRydWUsICJ3ZWlnaHQiOiAzfQogICAgICAgICAgICApLmFkZFRvKG1hcF83MTQ0NTRlZDM1MDM0N2ZkOGM2Y2JjNjcwNjdlNjA1MCk7CiAgICAgICAgCiAgICAKICAgICAgICAgICAgY2lyY2xlX21hcmtlcl9iZjY1NDY4Y2NjMDY0ZjMzYTc2Nzk2ZjRjMTU0ZTVhNS5iaW5kVG9vbHRpcCgKICAgICAgICAgICAgICAgIGA8ZGl2PgogICAgICAgICAgICAgICAgICAgICDsiqTtg4DrsoXsiqTrjIDqtaztmanquIhEVOygkCAtIOuMgOq1rOq0keyXreyLnCDsiJjshLHqtawg7LKt7IiY66GcIDE2NAogICAgICAgICAgICAgICAgIDwvZGl2PmAsCiAgICAgICAgICAgICAgICB7InN0aWNreSI6IHRydWV9CiAgICAgICAgICAgICk7CiAgICAgICAgCiAgICAKICAgICAgICAgICAgdmFyIGNpcmNsZV9tYXJrZXJfOWYwNjQ2YzFiY2VkNGRlNTk5OTc1YTdhMWQyMjk1NjggPSBMLmNpcmNsZU1hcmtlcigKICAgICAgICAgICAgICAgIFszNS45MjY5MDI4MTQ0NTk3MSwgMTI4LjU0Nzg5ODU4OTU4N10sCiAgICAgICAgICAgICAgICB7ImJ1YmJsaW5nTW91c2VFdmVudHMiOiB0cnVlLCAiY29sb3IiOiAiZ3JlZW4iLCAiZGFzaEFycmF5IjogbnVsbCwgImRhc2hPZmZzZXQiOiBudWxsLCAiZmlsbCI6IGZhbHNlLCAiZmlsbENvbG9yIjogImdyZWVuIiwgImZpbGxPcGFjaXR5IjogMC4yLCAiZmlsbFJ1bGUiOiAiZXZlbm9kZCIsICJsaW5lQ2FwIjogInJvdW5kIiwgImxpbmVKb2luIjogInJvdW5kIiwgIm9wYWNpdHkiOiAxLjAsICJyYWRpdXMiOiAzLCAic3Ryb2tlIjogdHJ1ZSwgIndlaWdodCI6IDN9CiAgICAgICAgICAgICkuYWRkVG8obWFwXzcxNDQ1NGVkMzUwMzQ3ZmQ4YzZjYmM2NzA2N2U2MDUwKTsKICAgICAgICAKICAgIAogICAgICAgICAgICBjaXJjbGVfbWFya2VyXzlmMDY0NmMxYmNlZDRkZTU5OTk3NWE3YTFkMjI5NTY4LmJpbmRUb29sdGlwKAogICAgICAgICAgICAgICAgYDxkaXY+CiAgICAgICAgICAgICAgICAgICAgIOyKpO2DgOuyheyKpCAtIOuMgOq1rOq0keyXreyLnCDrtoHqtawg7Lmg6rOh7KSR7JWZ64yA66GcIDM0OAogICAgICAgICAgICAgICAgIDwvZGl2PmAsCiAgICAgICAgICAgICAgICB7InN0aWNreSI6IHRydWV9CiAgICAgICAgICAgICk7CiAgICAgICAgCiAgICAKICAgICAgICAgICAgdmFyIGNpcmNsZV9tYXJrZXJfYTgzY2M1YmFkYWVhNDYwMmI1NDU2MzExZTM2ZmM1YTIgPSBMLmNpcmNsZU1hcmtlcigKICAgICAgICAgICAgICAgIFszNS44MzU5NDAxMTYzMDYxLCAxMjguNTkwMDQyODE5ODM1XSwKICAgICAgICAgICAgICAgIHsiYnViYmxpbmdNb3VzZUV2ZW50cyI6IHRydWUsICJjb2xvciI6ICJncmVlbiIsICJkYXNoQXJyYXkiOiBudWxsLCAiZGFzaE9mZnNldCI6IG51bGwsICJmaWxsIjogZmFsc2UsICJmaWxsQ29sb3IiOiAiZ3JlZW4iLCAiZmlsbE9wYWNpdHkiOiAwLjIsICJmaWxsUnVsZSI6ICJldmVub2RkIiwgImxpbmVDYXAiOiAicm91bmQiLCAibGluZUpvaW4iOiAicm91bmQiLCAib3BhY2l0eSI6IDEuMCwgInJhZGl1cyI6IDMsICJzdHJva2UiOiB0cnVlLCAid2VpZ2h0IjogM30KICAgICAgICAgICAgKS5hZGRUbyhtYXBfNzE0NDU0ZWQzNTAzNDdmZDhjNmNiYzY3MDY3ZTYwNTApOwogICAgICAgIAogICAgCiAgICAgICAgICAgIGNpcmNsZV9tYXJrZXJfYTgzY2M1YmFkYWVhNDYwMmI1NDU2MzExZTM2ZmM1YTIuYmluZFRvb2x0aXAoCiAgICAgICAgICAgICAgICBgPGRpdj4KICAgICAgICAgICAgICAgICAgICAg7Iqk7YOA67KF7IqkIC0g64yA6rWs6rSR7Jet7IucIOuCqOq1rCDrjIDrqoXroZwgMjQwCiAgICAgICAgICAgICAgICAgPC9kaXY+YCwKICAgICAgICAgICAgICAgIHsic3RpY2t5IjogdHJ1ZX0KICAgICAgICAgICAgKTsKICAgICAgICAKICAgIAogICAgICAgICAgICB2YXIgY2lyY2xlX21hcmtlcl9mODczZWYzNWU3M2U0Y2Q2ODI0NTM2Mjg1M2MxOWNiNSA9IEwuY2lyY2xlTWFya2VyKAogICAgICAgICAgICAgICAgWzM1Ljg0MjI3MjQ1NjAyNTYsIDEyOC41Nzk3NTA1Mjg1ODgwMl0sCiAgICAgICAgICAgICAgICB7ImJ1YmJsaW5nTW91c2VFdmVudHMiOiB0cnVlLCAiY29sb3IiOiAiYmx1ZSIsICJkYXNoQXJyYXkiOiBudWxsLCAiZGFzaE9mZnNldCI6IG51bGwsICJmaWxsIjogZmFsc2UsICJmaWxsQ29sb3IiOiAiYmx1ZSIsICJmaWxsT3BhY2l0eSI6IDAuMiwgImZpbGxSdWxlIjogImV2ZW5vZGQiLCAibGluZUNhcCI6ICJyb3VuZCIsICJsaW5lSm9pbiI6ICJyb3VuZCIsICJvcGFjaXR5IjogMS4wLCAicmFkaXVzIjogMywgInN0cm9rZSI6IHRydWUsICJ3ZWlnaHQiOiAzfQogICAgICAgICAgICApLmFkZFRvKG1hcF83MTQ0NTRlZDM1MDM0N2ZkOGM2Y2JjNjcwNjdlNjA1MCk7CiAgICAgICAgCiAgICAKICAgICAgICAgICAgY2lyY2xlX21hcmtlcl9mODczZWYzNWU3M2U0Y2Q2ODI0NTM2Mjg1M2MxOWNiNS5iaW5kVG9vbHRpcCgKICAgICAgICAgICAgICAgIGA8ZGl2PgogICAgICAgICAgICAgICAgICAgICDsnbTrlJTslbzsu6TtlLzrjIDrqoXrj5nsoJAgLSDrjIDqtazqtJHsl63si5wg64Ko6rWsIO2YhOy2qeuhnCAxMDUKICAgICAgICAgICAgICAgICA8L2Rpdj5gLAogICAgICAgICAgICAgICAgeyJzdGlja3kiOiB0cnVlfQogICAgICAgICAgICApOwogICAgICAgIAogICAgCiAgICAgICAgICAgIHZhciBjaXJjbGVfbWFya2VyX2UxNmNlOTE4ZmUzODRlNGRhNjE5NzEwZjAzYTEwOWVjID0gTC5jaXJjbGVNYXJrZXIoCiAgICAgICAgICAgICAgICBbMzUuODQyNjEzNzA1OTk4NywgMTI4LjU5ODM5NDYxMjg3M10sCiAgICAgICAgICAgICAgICB7ImJ1YmJsaW5nTW91c2VFdmVudHMiOiB0cnVlLCAiY29sb3IiOiAiYmx1ZSIsICJkYXNoQXJyYXkiOiBudWxsLCAiZGFzaE9mZnNldCI6IG51bGwsICJmaWxsIjogZmFsc2UsICJmaWxsQ29sb3IiOiAiYmx1ZSIsICJmaWxsT3BhY2l0eSI6IDAuMiwgImZpbGxSdWxlIjogImV2ZW5vZGQiLCAibGluZUNhcCI6ICJyb3VuZCIsICJsaW5lSm9pbiI6ICJyb3VuZCIsICJvcGFjaXR5IjogMS4wLCAicmFkaXVzIjogMywgInN0cm9rZSI6IHRydWUsICJ3ZWlnaHQiOiAzfQogICAgICAgICAgICApLmFkZFRvKG1hcF83MTQ0NTRlZDM1MDM0N2ZkOGM2Y2JjNjcwNjdlNjA1MCk7CiAgICAgICAgCiAgICAKICAgICAgICAgICAgY2lyY2xlX21hcmtlcl9lMTZjZTkxOGZlMzg0ZTRkYTYxOTcxMGYwM2ExMDllYy5iaW5kVG9vbHRpcCgKICAgICAgICAgICAgICAgIGA8ZGl2PgogICAgICAgICAgICAgICAgICAgICDsnbTrlJTslbzsu6TtlLzrjIDqtazrtInrjZXsoJAgLSDrjIDqtazqtJHsl63si5wg64Ko6rWsIOydtOyynOuhnCAyMAogICAgICAgICAgICAgICAgIDwvZGl2PmAsCiAgICAgICAgICAgICAgICB7InN0aWNreSI6IHRydWV9CiAgICAgICAgICAgICk7CiAgICAgICAgCiAgICAKICAgICAgICAgICAgdmFyIGNpcmNsZV9tYXJrZXJfMWY5ZjU1MDIwYzg4NDIyZjk5OWU1Y2Q4MzA2MGY3ODAgPSBMLmNpcmNsZU1hcmtlcigKICAgICAgICAgICAgICAgIFszNS45MjU2NDA4MjI0MDc4LCAxMjguNTQzOTY3MDYxMTcyXSwKICAgICAgICAgICAgICAgIHsiYnViYmxpbmdNb3VzZUV2ZW50cyI6IHRydWUsICJjb2xvciI6ICJibHVlIiwgImRhc2hBcnJheSI6IG51bGwsICJkYXNoT2Zmc2V0IjogbnVsbCwgImZpbGwiOiBmYWxzZSwgImZpbGxDb2xvciI6ICJibHVlIiwgImZpbGxPcGFjaXR5IjogMC4yLCAiZmlsbFJ1bGUiOiAiZXZlbm9kZCIsICJsaW5lQ2FwIjogInJvdW5kIiwgImxpbmVKb2luIjogInJvdW5kIiwgIm9wYWNpdHkiOiAxLjAsICJyYWRpdXMiOiAzLCAic3Ryb2tlIjogdHJ1ZSwgIndlaWdodCI6IDN9CiAgICAgICAgICAgICkuYWRkVG8obWFwXzcxNDQ1NGVkMzUwMzQ3ZmQ4YzZjYmM2NzA2N2U2MDUwKTsKICAgICAgICAKICAgIAogICAgICAgICAgICBjaXJjbGVfbWFya2VyXzFmOWY1NTAyMGM4ODQyMmY5OTllNWNkODMwNjBmNzgwLmJpbmRUb29sdGlwKAogICAgICAgICAgICAgICAgYDxkaXY+CiAgICAgICAgICAgICAgICAgICAgIOydtOuUlOyVvOy7pO2UvCAtIOuMgOq1rOq0keyXreyLnCDrtoHqtawg7JiB7Iah66GcIDQKICAgICAgICAgICAgICAgICA8L2Rpdj5gLAogICAgICAgICAgICAgICAgeyJzdGlja3kiOiB0cnVlfQogICAgICAgICAgICApOwogICAgICAgIAogICAgCiAgICAgICAgICAgIHZhciBjaXJjbGVfbWFya2VyX2VkNjc5MjA0M2Y3MTRkMDA5MjAzZDQ2YjhhZDI1YWZiID0gTC5jaXJjbGVNYXJrZXIoCiAgICAgICAgICAgICAgICBbMzUuODg0MDk3MzY5MjcwNCwgMTI4LjYwNjQyNjE5NDM5N10sCiAgICAgICAgICAgICAgICB7ImJ1YmJsaW5nTW91c2VFdmVudHMiOiB0cnVlLCAiY29sb3IiOiAiYmx1ZSIsICJkYXNoQXJyYXkiOiBudWxsLCAiZGFzaE9mZnNldCI6IG51bGwsICJmaWxsIjogZmFsc2UsICJmaWxsQ29sb3IiOiAiYmx1ZSIsICJmaWxsT3BhY2l0eSI6IDAuMiwgImZpbGxSdWxlIjogImV2ZW5vZGQiLCAibGluZUNhcCI6ICJyb3VuZCIsICJsaW5lSm9pbiI6ICJyb3VuZCIsICJvcGFjaXR5IjogMS4wLCAicmFkaXVzIjogMywgInN0cm9rZSI6IHRydWUsICJ3ZWlnaHQiOiAzfQogICAgICAgICAgICApLmFkZFRvKG1hcF83MTQ0NTRlZDM1MDM0N2ZkOGM2Y2JjNjcwNjdlNjA1MCk7CiAgICAgICAgCiAgICAKICAgICAgICAgICAgY2lyY2xlX21hcmtlcl9lZDY3OTIwNDNmNzE0ZDAwOTIwM2Q0NmI4YWQyNWFmYi5iaW5kVG9vbHRpcCgKICAgICAgICAgICAgICAgIGA8ZGl2PgogICAgICAgICAgICAgICAgICAgICDsnbTrlJTslbzsu6TtlLwgLSDrjIDqtazqtJHsl63si5wg67aB6rWsIOuMgO2YhOuhnCA2MS0xCiAgICAgICAgICAgICAgICAgPC9kaXY+YCwKICAgICAgICAgICAgICAgIHsic3RpY2t5IjogdHJ1ZX0KICAgICAgICAgICAgKTsKICAgICAgICAKICAgIAogICAgICAgICAgICB2YXIgY2lyY2xlX21hcmtlcl8zYjc0NmU5ZmExYjA0NGY1OTQ0YzJhMmY2YTZiMmEzMyA9IEwuY2lyY2xlTWFya2VyKAogICAgICAgICAgICAgICAgWzM1Ljc4MDk5MTc5MjcyNTksIDEyOC40NDE1Njk2MDQyNDRdLAogICAgICAgICAgICAgICAgeyJidWJibGluZ01vdXNlRXZlbnRzIjogdHJ1ZSwgImNvbG9yIjogImJsdWUiLCAiZGFzaEFycmF5IjogbnVsbCwgImRhc2hPZmZzZXQiOiBudWxsLCAiZmlsbCI6IGZhbHNlLCAiZmlsbENvbG9yIjogImJsdWUiLCAiZmlsbE9wYWNpdHkiOiAwLjIsICJmaWxsUnVsZSI6ICJldmVub2RkIiwgImxpbmVDYXAiOiAicm91bmQiLCAibGluZUpvaW4iOiAicm91bmQiLCAib3BhY2l0eSI6IDEuMCwgInJhZGl1cyI6IDMsICJzdHJva2UiOiB0cnVlLCAid2VpZ2h0IjogM30KICAgICAgICAgICAgKS5hZGRUbyhtYXBfNzE0NDU0ZWQzNTAzNDdmZDhjNmNiYzY3MDY3ZTYwNTApOwogICAgICAgIAogICAgCiAgICAgICAgICAgIGNpcmNsZV9tYXJrZXJfM2I3NDZlOWZhMWIwNDRmNTk0NGMyYTJmNmE2YjJhMzMuYmluZFRvb2x0aXAoCiAgICAgICAgICAgICAgICBgPGRpdj4KICAgICAgICAgICAgICAgICAgICAg7J2065SU7JW87Luk7ZS8IC0g64yA6rWs6rSR7Jet7IucIOuLrOyEseq1sCDsmKXtj6zrqbQg64+M66+466GcIDczCiAgICAgICAgICAgICAgICAgPC9kaXY+YCwKICAgICAgICAgICAgICAgIHsic3RpY2t5IjogdHJ1ZX0KICAgICAgICAgICAgKTsKICAgICAgICAKICAgIAogICAgICAgICAgICB2YXIgY2lyY2xlX21hcmtlcl9iMjRkYjY1ZjY2MTI0NDJmYWJjYmJjOTJhZDhhMTgyNiA9IEwuY2lyY2xlTWFya2VyKAogICAgICAgICAgICAgICAgWzM1LjgyNDI3NzcyMTY3MTcwNiwgMTI4LjUyNTc4ODI1MTg3Ml0sCiAgICAgICAgICAgICAgICB7ImJ1YmJsaW5nTW91c2VFdmVudHMiOiB0cnVlLCAiY29sb3IiOiAiZ3JlZW4iLCAiZGFzaEFycmF5IjogbnVsbCwgImRhc2hPZmZzZXQiOiBudWxsLCAiZmlsbCI6IGZhbHNlLCAiZmlsbENvbG9yIjogImdyZWVuIiwgImZpbGxPcGFjaXR5IjogMC4yLCAiZmlsbFJ1bGUiOiAiZXZlbm9kZCIsICJsaW5lQ2FwIjogInJvdW5kIiwgImxpbmVKb2luIjogInJvdW5kIiwgIm9wYWNpdHkiOiAxLjAsICJyYWRpdXMiOiAzLCAic3Ryb2tlIjogdHJ1ZSwgIndlaWdodCI6IDN9CiAgICAgICAgICAgICkuYWRkVG8obWFwXzcxNDQ1NGVkMzUwMzQ3ZmQ4YzZjYmM2NzA2N2U2MDUwKTsKICAgICAgICAKICAgIAogICAgICAgICAgICBjaXJjbGVfbWFya2VyX2IyNGRiNjVmNjYxMjQ0MmZhYmNiYmM5MmFkOGExODI2LmJpbmRUb29sdGlwKAogICAgICAgICAgICAgICAgYDxkaXY+CiAgICAgICAgICAgICAgICAgICAgIOyKpO2DgOuyheyKpOuMgOq1rOyblOyEseygkCAtIOuMgOq1rOq0keyXreyLnCDri6zshJzqtawg7KGw7JWU66GcIDQxCiAgICAgICAgICAgICAgICAgPC9kaXY+YCwKICAgICAgICAgICAgICAgIHsic3RpY2t5IjogdHJ1ZX0KICAgICAgICAgICAgKTsKICAgICAgICAKICAgIAogICAgICAgICAgICB2YXIgY2lyY2xlX21hcmtlcl84YzJmODg4NDkzODc0YjZlYTA0N2U4YTBlZTkyYjUyYiA9IEwuY2lyY2xlTWFya2VyKAogICAgICAgICAgICAgICAgWzM1LjgyMjc0MzM2MjI5OTc5NiwgMTI4LjUzMjQwNzMzMjYwOF0sCiAgICAgICAgICAgICAgICB7ImJ1YmJsaW5nTW91c2VFdmVudHMiOiB0cnVlLCAiY29sb3IiOiAiYmx1ZSIsICJkYXNoQXJyYXkiOiBudWxsLCAiZGFzaE9mZnNldCI6IG51bGwsICJmaWxsIjogZmFsc2UsICJmaWxsQ29sb3IiOiAiYmx1ZSIsICJmaWxsT3BhY2l0eSI6IDAuMiwgImZpbGxSdWxlIjogImV2ZW5vZGQiLCAibGluZUNhcCI6ICJyb3VuZCIsICJsaW5lSm9pbiI6ICJyb3VuZCIsICJvcGFjaXR5IjogMS4wLCAicmFkaXVzIjogMywgInN0cm9rZSI6IHRydWUsICJ3ZWlnaHQiOiAzfQogICAgICAgICAgICApLmFkZFRvKG1hcF83MTQ0NTRlZDM1MDM0N2ZkOGM2Y2JjNjcwNjdlNjA1MCk7CiAgICAgICAgCiAgICAKICAgICAgICAgICAgY2lyY2xlX21hcmtlcl84YzJmODg4NDkzODc0YjZlYTA0N2U4YTBlZTkyYjUyYi5iaW5kVG9vbHRpcCgKICAgICAgICAgICAgICAgIGA8ZGl2PgogICAgICAgICAgICAgICAgICAgICDsnbTrlJTslbzsu6TtlLwgLSDrjIDqtazqtJHsl63si5wg64us7ISc6rWsIOyhsOyVlOuCqOuhnCAzCiAgICAgICAgICAgICAgICAgPC9kaXY+YCwKICAgICAgICAgICAgICAgIHsic3RpY2t5IjogdHJ1ZX0KICAgICAgICAgICAgKTsKICAgICAgICAKICAgIAogICAgICAgICAgICB2YXIgY2lyY2xlX21hcmtlcl85NDQ5NjhkZTNkZWU0YWU0YTc3ZDgyOTQ4ZDNiZjU4OCA9IEwuY2lyY2xlTWFya2VyKAogICAgICAgICAgICAgICAgWzM1LjgxNjM0Njk5NTgzNDQsIDEyOC41MjU1NTg5MDA0MzldLAogICAgICAgICAgICAgICAgeyJidWJibGluZ01vdXNlRXZlbnRzIjogdHJ1ZSwgImNvbG9yIjogImJsdWUiLCAiZGFzaEFycmF5IjogbnVsbCwgImRhc2hPZmZzZXQiOiBudWxsLCAiZmlsbCI6IGZhbHNlLCAiZmlsbENvbG9yIjogImJsdWUiLCAiZmlsbE9wYWNpdHkiOiAwLjIsICJmaWxsUnVsZSI6ICJldmVub2RkIiwgImxpbmVDYXAiOiAicm91bmQiLCAibGluZUpvaW4iOiAicm91bmQiLCAib3BhY2l0eSI6IDEuMCwgInJhZGl1cyI6IDMsICJzdHJva2UiOiB0cnVlLCAid2VpZ2h0IjogM30KICAgICAgICAgICAgKS5hZGRUbyhtYXBfNzE0NDU0ZWQzNTAzNDdmZDhjNmNiYzY3MDY3ZTYwNTApOwogICAgICAgIAogICAgCiAgICAgICAgICAgIGNpcmNsZV9tYXJrZXJfOTQ0OTY4ZGUzZGVlNGFlNGE3N2Q4Mjk0OGQzYmY1ODguYmluZFRvb2x0aXAoCiAgICAgICAgICAgICAgICBgPGRpdj4KICAgICAgICAgICAgICAgICAgICAg7J2065SU7JW87Luk7ZS8IC0g64yA6rWs6rSR7Jet7IucIOuLrOyEnOq1rCDsp4TsspzroZwxNuq4uCAzOQogICAgICAgICAgICAgICAgIDwvZGl2PmAsCiAgICAgICAgICAgICAgICB7InN0aWNreSI6IHRydWV9CiAgICAgICAgICAgICk7CiAgICAgICAgCiAgICAKICAgICAgICAgICAgdmFyIGNpcmNsZV9tYXJrZXJfNWZlNzdmZTU1NDMzNDQ5MjllYWIxOGZmNjYxNTYzZDQgPSBMLmNpcmNsZU1hcmtlcigKICAgICAgICAgICAgICAgIFszNS44NzkxODU3NzA1NDY0LCAxMjguNzMwOTkyMDg0MV0sCiAgICAgICAgICAgICAgICB7ImJ1YmJsaW5nTW91c2VFdmVudHMiOiB0cnVlLCAiY29sb3IiOiAiYmx1ZSIsICJkYXNoQXJyYXkiOiBudWxsLCAiZGFzaE9mZnNldCI6IG51bGwsICJmaWxsIjogZmFsc2UsICJmaWxsQ29sb3IiOiAiYmx1ZSIsICJmaWxsT3BhY2l0eSI6IDAuMiwgImZpbGxSdWxlIjogImV2ZW5vZGQiLCAibGluZUNhcCI6ICJyb3VuZCIsICJsaW5lSm9pbiI6ICJyb3VuZCIsICJvcGFjaXR5IjogMS4wLCAicmFkaXVzIjogMywgInN0cm9rZSI6IHRydWUsICJ3ZWlnaHQiOiAzfQogICAgICAgICAgICApLmFkZFRvKG1hcF83MTQ0NTRlZDM1MDM0N2ZkOGM2Y2JjNjcwNjdlNjA1MCk7CiAgICAgICAgCiAgICAKICAgICAgICAgICAgY2lyY2xlX21hcmtlcl81ZmU3N2ZlNTU0MzM0NDkyOWVhYjE4ZmY2NjE1NjNkNC5iaW5kVG9vbHRpcCgKICAgICAgICAgICAgICAgIGA8ZGl2PgogICAgICAgICAgICAgICAgICAgICDsnbTrlJTslbzsu6TtlLwgLSDrjIDqtazqtJHsl63si5wg64+Z6rWsIOyyqOuLqOuhnDjquLggNQogICAgICAgICAgICAgICAgIDwvZGl2PmAsCiAgICAgICAgICAgICAgICB7InN0aWNreSI6IHRydWV9CiAgICAgICAgICAgICk7CiAgICAgICAgCiAgICAKICAgICAgICAgICAgdmFyIGNpcmNsZV9tYXJrZXJfMDUwMWI4OTI2MmNkNDJhNDk0MTNlNGMwN2UxZGI2NDQgPSBMLmNpcmNsZU1hcmtlcigKICAgICAgICAgICAgICAgIFszNS44NjY0Nzg1NjIzNTY0LCAxMjguNTg5NzI2NTE0MDU4XSwKICAgICAgICAgICAgICAgIHsiYnViYmxpbmdNb3VzZUV2ZW50cyI6IHRydWUsICJjb2xvciI6ICJncmVlbiIsICJkYXNoQXJyYXkiOiBudWxsLCAiZGFzaE9mZnNldCI6IG51bGwsICJmaWxsIjogZmFsc2UsICJmaWxsQ29sb3IiOiAiZ3JlZW4iLCAiZmlsbE9wYWNpdHkiOiAwLjIsICJmaWxsUnVsZSI6ICJldmVub2RkIiwgImxpbmVDYXAiOiAicm91bmQiLCAibGluZUpvaW4iOiAicm91bmQiLCAib3BhY2l0eSI6IDEuMCwgInJhZGl1cyI6IDMsICJzdHJva2UiOiB0cnVlLCAid2VpZ2h0IjogM30KICAgICAgICAgICAgKS5hZGRUbyhtYXBfNzE0NDU0ZWQzNTAzNDdmZDhjNmNiYzY3MDY3ZTYwNTApOwogICAgICAgIAogICAgCiAgICAgICAgICAgIGNpcmNsZV9tYXJrZXJfMDUwMWI4OTI2MmNkNDJhNDk0MTNlNGMwN2UxZGI2NDQuYmluZFRvb2x0aXAoCiAgICAgICAgICAgICAgICBgPGRpdj4KICAgICAgICAgICAgICAgICAgICAg7Iqk7YOA67KF7IqkIC0g64yA6rWs6rSR7Jet7IucIOykkeq1rCDri6zqtazrsozrjIDroZw0MTXquLggMQogICAgICAgICAgICAgICAgIDwvZGl2PmAsCiAgICAgICAgICAgICAgICB7InN0aWNreSI6IHRydWV9CiAgICAgICAgICAgICk7CiAgICAgICAgCiAgICAKICAgICAgICAgICAgdmFyIGNpcmNsZV9tYXJrZXJfZGMzN2U2YjIyMWFhNGQ2ZmE1NDMzODc1NTk5ZGQ5NjUgPSBMLmNpcmNsZU1hcmtlcigKICAgICAgICAgICAgICAgIFszNS44NTQzNDExNTQ2MjI1LCAxMjguNTEyMzI0NDI1Mzc2XSwKICAgICAgICAgICAgICAgIHsiYnViYmxpbmdNb3VzZUV2ZW50cyI6IHRydWUsICJjb2xvciI6ICJibHVlIiwgImRhc2hBcnJheSI6IG51bGwsICJkYXNoT2Zmc2V0IjogbnVsbCwgImZpbGwiOiBmYWxzZSwgImZpbGxDb2xvciI6ICJibHVlIiwgImZpbGxPcGFjaXR5IjogMC4yLCAiZmlsbFJ1bGUiOiAiZXZlbm9kZCIsICJsaW5lQ2FwIjogInJvdW5kIiwgImxpbmVKb2luIjogInJvdW5kIiwgIm9wYWNpdHkiOiAxLjAsICJyYWRpdXMiOiAzLCAic3Ryb2tlIjogdHJ1ZSwgIndlaWdodCI6IDN9CiAgICAgICAgICAgICkuYWRkVG8obWFwXzcxNDQ1NGVkMzUwMzQ3ZmQ4YzZjYmM2NzA2N2U2MDUwKTsKICAgICAgICAKICAgIAogICAgICAgICAgICBjaXJjbGVfbWFya2VyX2RjMzdlNmIyMjFhYTRkNmZhNTQzMzg3NTU5OWRkOTY1LmJpbmRUb29sdGlwKAogICAgICAgICAgICAgICAgYDxkaXY+CiAgICAgICAgICAgICAgICAgICAgIOydtOuUlOyVvOy7pO2UvCAtIOuMgOq1rOq0keyXreyLnCDri6zshJzqtawg7J206rOh64+Z66GcIDU1CiAgICAgICAgICAgICAgICAgPC9kaXY+YCwKICAgICAgICAgICAgICAgIHsic3RpY2t5IjogdHJ1ZX0KICAgICAgICAgICAgKTsKICAgICAgICAKICAgIAogICAgICAgICAgICB2YXIgY2lyY2xlX21hcmtlcl8wMzY5ZmI2ZjNhYmU0MTY1YTE3MjBmYzI0NDQ1ZjU2MSA9IEwuY2lyY2xlTWFya2VyKAogICAgICAgICAgICAgICAgWzM1LjY5MzI1MzE4ODY5NDgsIDEyOC40NjExNTA5MDA4MjhdLAogICAgICAgICAgICAgICAgeyJidWJibGluZ01vdXNlRXZlbnRzIjogdHJ1ZSwgImNvbG9yIjogImJsdWUiLCAiZGFzaEFycmF5IjogbnVsbCwgImRhc2hPZmZzZXQiOiBudWxsLCAiZmlsbCI6IGZhbHNlLCAiZmlsbENvbG9yIjogImJsdWUiLCAiZmlsbE9wYWNpdHkiOiAwLjIsICJmaWxsUnVsZSI6ICJldmVub2RkIiwgImxpbmVDYXAiOiAicm91bmQiLCAibGluZUpvaW4iOiAicm91bmQiLCAib3BhY2l0eSI6IDEuMCwgInJhZGl1cyI6IDMsICJzdHJva2UiOiB0cnVlLCAid2VpZ2h0IjogM30KICAgICAgICAgICAgKS5hZGRUbyhtYXBfNzE0NDU0ZWQzNTAzNDdmZDhjNmNiYzY3MDY3ZTYwNTApOwogICAgICAgIAogICAgCiAgICAgICAgICAgIGNpcmNsZV9tYXJrZXJfMDM2OWZiNmYzYWJlNDE2NWExNzIwZmMyNDQ0NWY1NjEuYmluZFRvb2x0aXAoCiAgICAgICAgICAgICAgICBgPGRpdj4KICAgICAgICAgICAgICAgICAgICAg7J2065SU7JW87Luk7ZS8IC0g64yA6rWs6rSR7Jet7IucIOuLrOyEseq1sCDsnKDqsIDrqbQg7YWM7YGs64W47IOB7JeF66GcIDEwOAogICAgICAgICAgICAgICAgIDwvZGl2PmAsCiAgICAgICAgICAgICAgICB7InN0aWNreSI6IHRydWV9CiAgICAgICAgICAgICk7CiAgICAgICAgCiAgICAKICAgICAgICAgICAgdmFyIGNpcmNsZV9tYXJrZXJfMTQ0MGNmNmZhY2ZiNDI3YmI4MTMxMzIyZTQ0OTg3MzMgPSBMLmNpcmNsZU1hcmtlcigKICAgICAgICAgICAgICAgIFszNS44Nzg2MjIxMjYzNjU5LCAxMjguNzEzODA5OTY5NTk0XSwKICAgICAgICAgICAgICAgIHsiYnViYmxpbmdNb3VzZUV2ZW50cyI6IHRydWUsICJjb2xvciI6ICJibHVlIiwgImRhc2hBcnJheSI6IG51bGwsICJkYXNoT2Zmc2V0IjogbnVsbCwgImZpbGwiOiBmYWxzZSwgImZpbGxDb2xvciI6ICJibHVlIiwgImZpbGxPcGFjaXR5IjogMC4yLCAiZmlsbFJ1bGUiOiAiZXZlbm9kZCIsICJsaW5lQ2FwIjogInJvdW5kIiwgImxpbmVKb2luIjogInJvdW5kIiwgIm9wYWNpdHkiOiAxLjAsICJyYWRpdXMiOiAzLCAic3Ryb2tlIjogdHJ1ZSwgIndlaWdodCI6IDN9CiAgICAgICAgICAgICkuYWRkVG8obWFwXzcxNDQ1NGVkMzUwMzQ3ZmQ4YzZjYmM2NzA2N2U2MDUwKTsKICAgICAgICAKICAgIAogICAgICAgICAgICBjaXJjbGVfbWFya2VyXzE0NDBjZjZmYWNmYjQyN2JiODEzMTMyMmU0NDk4NzMzLmJpbmRUb29sdGlwKAogICAgICAgICAgICAgICAgYDxkaXY+CiAgICAgICAgICAgICAgICAgICAgIOydtOuUlOyVvOy7pO2UvCAtIOuMgOq1rOq0keyXreyLnCDrj5nqtawg6rK97JWI66GcIDg1NQogICAgICAgICAgICAgICAgIDwvZGl2PmAsCiAgICAgICAgICAgICAgICB7InN0aWNreSI6IHRydWV9CiAgICAgICAgICAgICk7CiAgICAgICAgCiAgICAKICAgICAgICAgICAgdmFyIGNpcmNsZV9tYXJrZXJfNjMxYjM5N2NiMjA5NGVjZjg5ZTE1NzVjMTc2OGFjMjEgPSBMLmNpcmNsZU1hcmtlcigKICAgICAgICAgICAgICAgIFszNS44NzA2OTE5MjI1NzEyMDQsIDEyOC41OTQzNjQ0MDYxNjAwM10sCiAgICAgICAgICAgICAgICB7ImJ1YmJsaW5nTW91c2VFdmVudHMiOiB0cnVlLCAiY29sb3IiOiAiZ3JlZW4iLCAiZGFzaEFycmF5IjogbnVsbCwgImRhc2hPZmZzZXQiOiBudWxsLCAiZmlsbCI6IGZhbHNlLCAiZmlsbENvbG9yIjogImdyZWVuIiwgImZpbGxPcGFjaXR5IjogMC4yLCAiZmlsbFJ1bGUiOiAiZXZlbm9kZCIsICJsaW5lQ2FwIjogInJvdW5kIiwgImxpbmVKb2luIjogInJvdW5kIiwgIm9wYWNpdHkiOiAxLjAsICJyYWRpdXMiOiAzLCAic3Ryb2tlIjogdHJ1ZSwgIndlaWdodCI6IDN9CiAgICAgICAgICAgICkuYWRkVG8obWFwXzcxNDQ1NGVkMzUwMzQ3ZmQ4YzZjYmM2NzA2N2U2MDUwKTsKICAgICAgICAKICAgIAogICAgICAgICAgICBjaXJjbGVfbWFya2VyXzYzMWIzOTdjYjIwOTRlY2Y4OWUxNTc1YzE3NjhhYzIxLmJpbmRUb29sdGlwKAogICAgICAgICAgICAgICAgYDxkaXY+CiAgICAgICAgICAgICAgICAgICAgIOyKpO2DgOuyheyKpCAtIOuMgOq1rOq0keyXreyLnCDspJHqtawg6rWt7LGE67O07IOB66GcIDU4MgogICAgICAgICAgICAgICAgIDwvZGl2PmAsCiAgICAgICAgICAgICAgICB7InN0aWNreSI6IHRydWV9CiAgICAgICAgICAgICk7CiAgICAgICAgCiAgICAKICAgICAgICAgICAgdmFyIGNpcmNsZV9tYXJrZXJfZjRlZjZmMGU1ZjYzNGFmNmJhOTgzOGNjZmFlODJhODEgPSBMLmNpcmNsZU1hcmtlcigKICAgICAgICAgICAgICAgIFszNS44NDA5MjE4OTQ5NjIxLCAxMjguNjEzOTQ1NzQ4MDExXSwKICAgICAgICAgICAgICAgIHsiYnViYmxpbmdNb3VzZUV2ZW50cyI6IHRydWUsICJjb2xvciI6ICJncmVlbiIsICJkYXNoQXJyYXkiOiBudWxsLCAiZGFzaE9mZnNldCI6IG51bGwsICJmaWxsIjogZmFsc2UsICJmaWxsQ29sb3IiOiAiZ3JlZW4iLCAiZmlsbE9wYWNpdHkiOiAwLjIsICJmaWxsUnVsZSI6ICJldmVub2RkIiwgImxpbmVDYXAiOiAicm91bmQiLCAibGluZUpvaW4iOiAicm91bmQiLCAib3BhY2l0eSI6IDEuMCwgInJhZGl1cyI6IDMsICJzdHJva2UiOiB0cnVlLCAid2VpZ2h0IjogM30KICAgICAgICAgICAgKS5hZGRUbyhtYXBfNzE0NDU0ZWQzNTAzNDdmZDhjNmNiYzY3MDY3ZTYwNTApOwogICAgICAgIAogICAgCiAgICAgICAgICAgIGNpcmNsZV9tYXJrZXJfZjRlZjZmMGU1ZjYzNGFmNmJhOTgzOGNjZmFlODJhODEuYmluZFRvb2x0aXAoCiAgICAgICAgICAgICAgICBgPGRpdj4KICAgICAgICAgICAgICAgICAgICAg7Iqk7YOA67KF7IqkIC0g64yA6rWs6rSR7Jet7IucIOyImOyEseq1rCDssq3siJjroZwgNTEKICAgICAgICAgICAgICAgICA8L2Rpdj5gLAogICAgICAgICAgICAgICAgeyJzdGlja3kiOiB0cnVlfQogICAgICAgICAgICApOwogICAgICAgIAogICAgCiAgICAgICAgICAgIHZhciBjaXJjbGVfbWFya2VyXzY4MDQ3MTgwMjJlMzQ3YjdiNWIyYjIzYjIxNDFjOWI4ID0gTC5jaXJjbGVNYXJrZXIoCiAgICAgICAgICAgICAgICBbMzUuODA3NzM3ODE3NzI4NzEsIDEyOC41NDgwODU4OTEzMjI5OF0sCiAgICAgICAgICAgICAgICB7ImJ1YmJsaW5nTW91c2VFdmVudHMiOiB0cnVlLCAiY29sb3IiOiAiZ3JlZW4iLCAiZGFzaEFycmF5IjogbnVsbCwgImRhc2hPZmZzZXQiOiBudWxsLCAiZmlsbCI6IGZhbHNlLCAiZmlsbENvbG9yIjogImdyZWVuIiwgImZpbGxPcGFjaXR5IjogMC4yLCAiZmlsbFJ1bGUiOiAiZXZlbm9kZCIsICJsaW5lQ2FwIjogInJvdW5kIiwgImxpbmVKb2luIjogInJvdW5kIiwgIm9wYWNpdHkiOiAxLjAsICJyYWRpdXMiOiAzLCAic3Ryb2tlIjogdHJ1ZSwgIndlaWdodCI6IDN9CiAgICAgICAgICAgICkuYWRkVG8obWFwXzcxNDQ1NGVkMzUwMzQ3ZmQ4YzZjYmM2NzA2N2U2MDUwKTsKICAgICAgICAKICAgIAogICAgICAgICAgICBjaXJjbGVfbWFya2VyXzY4MDQ3MTgwMjJlMzQ3YjdiNWIyYjIzYjIxNDFjOWI4LmJpbmRUb29sdGlwKAogICAgICAgICAgICAgICAgYDxkaXY+CiAgICAgICAgICAgICAgICAgICAgIOyKpO2DgOuyheyKpOuMgOq1rOuPhOybkOygkERU7KCQIC0g64yA6rWs6rSR7Jet7IucIOuLrOyEnOq1rCDsg4HtmZTroZwgMzE0CiAgICAgICAgICAgICAgICAgPC9kaXY+YCwKICAgICAgICAgICAgICAgIHsic3RpY2t5IjogdHJ1ZX0KICAgICAgICAgICAgKTsKICAgICAgICAKICAgIAogICAgICAgICAgICB2YXIgY2lyY2xlX21hcmtlcl84NTBlZTViN2YzODc0MWVhODcwZDMyYjFlZjFhOWMxYyA9IEwuY2lyY2xlTWFya2VyKAogICAgICAgICAgICAgICAgWzM1LjkwNTYyMTk2MDQxODgsIDEyOC42MTMzMDM5OTI5MDhdLAogICAgICAgICAgICAgICAgeyJidWJibGluZ01vdXNlRXZlbnRzIjogdHJ1ZSwgImNvbG9yIjogImdyZWVuIiwgImRhc2hBcnJheSI6IG51bGwsICJkYXNoT2Zmc2V0IjogbnVsbCwgImZpbGwiOiBmYWxzZSwgImZpbGxDb2xvciI6ICJncmVlbiIsICJmaWxsT3BhY2l0eSI6IDAuMiwgImZpbGxSdWxlIjogImV2ZW5vZGQiLCAibGluZUNhcCI6ICJyb3VuZCIsICJsaW5lSm9pbiI6ICJyb3VuZCIsICJvcGFjaXR5IjogMS4wLCAicmFkaXVzIjogMywgInN0cm9rZSI6IHRydWUsICJ3ZWlnaHQiOiAzfQogICAgICAgICAgICApLmFkZFRvKG1hcF83MTQ0NTRlZDM1MDM0N2ZkOGM2Y2JjNjcwNjdlNjA1MCk7CiAgICAgICAgCiAgICAKICAgICAgICAgICAgY2lyY2xlX21hcmtlcl84NTBlZTViN2YzODc0MWVhODcwZDMyYjFlZjFhOWMxYy5iaW5kVG9vbHRpcCgKICAgICAgICAgICAgICAgIGA8ZGl2PgogICAgICAgICAgICAgICAgICAgICDsiqTtg4DrsoXsiqTrjIDqtazsnKDthrXri6jsp4DsoJAgLSDrjIDqtazqtJHsl63si5wg67aB6rWsIOycoO2GteuLqOyngOuhnDjquLggNzgKICAgICAgICAgICAgICAgICA8L2Rpdj5gLAogICAgICAgICAgICAgICAgeyJzdGlja3kiOiB0cnVlfQogICAgICAgICAgICApOwogICAgICAgIAogICAgCiAgICAgICAgICAgIHZhciBjaXJjbGVfbWFya2VyXzE4ZWFjMTgwZGUyNTQ0ZjhiNzVjNTQ3M2RmMjRjYjM2ID0gTC5jaXJjbGVNYXJrZXIoCiAgICAgICAgICAgICAgICBbMzUuODYwNDc3NjY4NjMxNywgMTI4LjYxODAzODI0NTMwMl0sCiAgICAgICAgICAgICAgICB7ImJ1YmJsaW5nTW91c2VFdmVudHMiOiB0cnVlLCAiY29sb3IiOiAiZ3JlZW4iLCAiZGFzaEFycmF5IjogbnVsbCwgImRhc2hPZmZzZXQiOiBudWxsLCAiZmlsbCI6IGZhbHNlLCAiZmlsbENvbG9yIjogImdyZWVuIiwgImZpbGxPcGFjaXR5IjogMC4yLCAiZmlsbFJ1bGUiOiAiZXZlbm9kZCIsICJsaW5lQ2FwIjogInJvdW5kIiwgImxpbmVKb2luIjogInJvdW5kIiwgIm9wYWNpdHkiOiAxLjAsICJyYWRpdXMiOiAzLCAic3Ryb2tlIjogdHJ1ZSwgIndlaWdodCI6IDN9CiAgICAgICAgICAgICkuYWRkVG8obWFwXzcxNDQ1NGVkMzUwMzQ3ZmQ4YzZjYmM2NzA2N2U2MDUwKTsKICAgICAgICAKICAgIAogICAgICAgICAgICBjaXJjbGVfbWFya2VyXzE4ZWFjMTgwZGUyNTQ0ZjhiNzVjNTQ3M2RmMjRjYjM2LmJpbmRUb29sdGlwKAogICAgICAgICAgICAgICAgYDxkaXY+CiAgICAgICAgICAgICAgICAgICAgIOyKpO2DgOuyheyKpOuMgOq1rOyImOyEseuEpOqxsOumrERU7KCQIC0g64yA6rWs6rSR7Jet7IucIOyImOyEseq1rCDrk6TslYjroZwgMzQyCiAgICAgICAgICAgICAgICAgPC9kaXY+YCwKICAgICAgICAgICAgICAgIHsic3RpY2t5IjogdHJ1ZX0KICAgICAgICAgICAgKTsKICAgICAgICAKICAgIAogICAgICAgICAgICB2YXIgY2lyY2xlX21hcmtlcl83NGY4MTFkMTczNjI0OWRlYTMzZjcxMzM5ODc1YjA2NSA9IEwuY2lyY2xlTWFya2VyKAogICAgICAgICAgICAgICAgWzM1Ljg2NTk0ODI0ODk1MjUsIDEyOC41NTUzNzM4NjMzNTJdLAogICAgICAgICAgICAgICAgeyJidWJibGluZ01vdXNlRXZlbnRzIjogdHJ1ZSwgImNvbG9yIjogImdyZWVuIiwgImRhc2hBcnJheSI6IG51bGwsICJkYXNoT2Zmc2V0IjogbnVsbCwgImZpbGwiOiBmYWxzZSwgImZpbGxDb2xvciI6ICJncmVlbiIsICJmaWxsT3BhY2l0eSI6IDAuMiwgImZpbGxSdWxlIjogImV2ZW5vZGQiLCAibGluZUNhcCI6ICJyb3VuZCIsICJsaW5lSm9pbiI6ICJyb3VuZCIsICJvcGFjaXR5IjogMS4wLCAicmFkaXVzIjogMywgInN0cm9rZSI6IHRydWUsICJ3ZWlnaHQiOiAzfQogICAgICAgICAgICApLmFkZFRvKG1hcF83MTQ0NTRlZDM1MDM0N2ZkOGM2Y2JjNjcwNjdlNjA1MCk7CiAgICAgICAgCiAgICAKICAgICAgICAgICAgY2lyY2xlX21hcmtlcl83NGY4MTFkMTczNjI0OWRlYTMzZjcxMzM5ODc1YjA2NS5iaW5kVG9vbHRpcCgKICAgICAgICAgICAgICAgIGA8ZGl2PgogICAgICAgICAgICAgICAgICAgICDsiqTtg4DrsoXsiqTrjIDqtaztj4nrpqxEVOygkCAtIOuMgOq1rOq0keyXreyLnCDshJzqtawg7ISc64yA6rWs66GcIDg5CiAgICAgICAgICAgICAgICAgPC9kaXY+YCwKICAgICAgICAgICAgICAgIHsic3RpY2t5IjogdHJ1ZX0KICAgICAgICAgICAgKTsKICAgICAgICAKICAgIAogICAgICAgICAgICB2YXIgY2lyY2xlX21hcmtlcl8yM2IwMzVjOTNkZWU0YTRhOGQ4NGJkZGNlZjk3YjA5NCA9IEwuY2lyY2xlTWFya2VyKAogICAgICAgICAgICAgICAgWzM1LjgxNDM0MjE1MzU5MTksIDEyOC41MjQzODM3NjQ2MjldLAogICAgICAgICAgICAgICAgeyJidWJibGluZ01vdXNlRXZlbnRzIjogdHJ1ZSwgImNvbG9yIjogImdyZWVuIiwgImRhc2hBcnJheSI6IG51bGwsICJkYXNoT2Zmc2V0IjogbnVsbCwgImZpbGwiOiBmYWxzZSwgImZpbGxDb2xvciI6ICJncmVlbiIsICJmaWxsT3BhY2l0eSI6IDAuMiwgImZpbGxSdWxlIjogImV2ZW5vZGQiLCAibGluZUNhcCI6ICJyb3VuZCIsICJsaW5lSm9pbiI6ICJyb3VuZCIsICJvcGFjaXR5IjogMS4wLCAicmFkaXVzIjogMywgInN0cm9rZSI6IHRydWUsICJ3ZWlnaHQiOiAzfQogICAgICAgICAgICApLmFkZFRvKG1hcF83MTQ0NTRlZDM1MDM0N2ZkOGM2Y2JjNjcwNjdlNjA1MCk7CiAgICAgICAgCiAgICAKICAgICAgICAgICAgY2lyY2xlX21hcmtlcl8yM2IwMzVjOTNkZWU0YTRhOGQ4NGJkZGNlZjk3YjA5NC5iaW5kVG9vbHRpcCgKICAgICAgICAgICAgICAgIGA8ZGl2PgogICAgICAgICAgICAgICAgICAgICDsiqTtg4DrsoXsiqQgLSDrjIDqtazqtJHsl63si5wg64us7ISc6rWsIOyblOuwsOuhnCA5MQogICAgICAgICAgICAgICAgIDwvZGl2PmAsCiAgICAgICAgICAgICAgICB7InN0aWNreSI6IHRydWV9CiAgICAgICAgICAgICk7CiAgICAgICAgCiAgICAKICAgICAgICAgICAgdmFyIGNpcmNsZV9tYXJrZXJfZjQ1N2Y5ZTg2N2E2NDVjODhmNWQ3ODFjYTU2NDE4ZTAgPSBMLmNpcmNsZU1hcmtlcigKICAgICAgICAgICAgICAgIFszNS44Mjg3ODY5MTgzMDE4OTQsIDEyOC41NDk0MDM3ODMwNzM5OF0sCiAgICAgICAgICAgICAgICB7ImJ1YmJsaW5nTW91c2VFdmVudHMiOiB0cnVlLCAiY29sb3IiOiAiYmx1ZSIsICJkYXNoQXJyYXkiOiBudWxsLCAiZGFzaE9mZnNldCI6IG51bGwsICJmaWxsIjogZmFsc2UsICJmaWxsQ29sb3IiOiAiYmx1ZSIsICJmaWxsT3BhY2l0eSI6IDAuMiwgImZpbGxSdWxlIjogImV2ZW5vZGQiLCAibGluZUNhcCI6ICJyb3VuZCIsICJsaW5lSm9pbiI6ICJyb3VuZCIsICJvcGFjaXR5IjogMS4wLCAicmFkaXVzIjogMywgInN0cm9rZSI6IHRydWUsICJ3ZWlnaHQiOiAzfQogICAgICAgICAgICApLmFkZFRvKG1hcF83MTQ0NTRlZDM1MDM0N2ZkOGM2Y2JjNjcwNjdlNjA1MCk7CiAgICAgICAgCiAgICAKICAgICAgICAgICAgY2lyY2xlX21hcmtlcl9mNDU3ZjllODY3YTY0NWM4OGY1ZDc4MWNhNTY0MThlMC5iaW5kVG9vbHRpcCgKICAgICAgICAgICAgICAgIGA8ZGl2PgogICAgICAgICAgICAgICAgICAgICDsnbTrlJTslbzsu6TtlLzrjIDqtazshqHtmITsoJAgLSDrjIDqtazqtJHsl63si5wg64us7ISc6rWsIOyblOuwsOuhnCAzNzkKICAgICAgICAgICAgICAgICA8L2Rpdj5gLAogICAgICAgICAgICAgICAgeyJzdGlja3kiOiB0cnVlfQogICAgICAgICAgICApOwogICAgICAgIAogICAgCiAgICAgICAgICAgIHZhciBjaXJjbGVfbWFya2VyXzYzNmQzZmMyY2QyMTQ2ZDQ5YzlhYWU4OTY5NmQ1MmZjID0gTC5jaXJjbGVNYXJrZXIoCiAgICAgICAgICAgICAgICBbMzUuNjkzMTcxMjA0Nzg5OSwgMTI4LjQ1OTAxNzkyOTc4XSwKICAgICAgICAgICAgICAgIHsiYnViYmxpbmdNb3VzZUV2ZW50cyI6IHRydWUsICJjb2xvciI6ICJncmVlbiIsICJkYXNoQXJyYXkiOiBudWxsLCAiZGFzaE9mZnNldCI6IG51bGwsICJmaWxsIjogZmFsc2UsICJmaWxsQ29sb3IiOiAiZ3JlZW4iLCAiZmlsbE9wYWNpdHkiOiAwLjIsICJmaWxsUnVsZSI6ICJldmVub2RkIiwgImxpbmVDYXAiOiAicm91bmQiLCAibGluZUpvaW4iOiAicm91bmQiLCAib3BhY2l0eSI6IDEuMCwgInJhZGl1cyI6IDMsICJzdHJva2UiOiB0cnVlLCAid2VpZ2h0IjogM30KICAgICAgICAgICAgKS5hZGRUbyhtYXBfNzE0NDU0ZWQzNTAzNDdmZDhjNmNiYzY3MDY3ZTYwNTApOwogICAgICAgIAogICAgCiAgICAgICAgICAgIGNpcmNsZV9tYXJrZXJfNjM2ZDNmYzJjZDIxNDZkNDljOWFhZTg5Njk2ZDUyZmMuYmluZFRvb2x0aXAoCiAgICAgICAgICAgICAgICBgPGRpdj4KICAgICAgICAgICAgICAgICAgICAg7Iqk7YOA67KF7Iqk64yA6rWs7YWM7YGs64W47Y+066as7Iqk7KCQIC0g64yA6rWs6rSR7Jet7IucIOuLrOyEseq1sCDsnKDqsIDrqbQg7YWM7YGs64W47IOB7JeF66GcIDg0CiAgICAgICAgICAgICAgICAgPC9kaXY+YCwKICAgICAgICAgICAgICAgIHsic3RpY2t5IjogdHJ1ZX0KICAgICAgICAgICAgKTsKICAgICAgICAKICAgIAogICAgICAgICAgICB2YXIgY2lyY2xlX21hcmtlcl9kYmUyMjdmMjhiOWI0ZDVjYTQ3OTRlMzllMTRmOTJhYyA9IEwuY2lyY2xlTWFya2VyKAogICAgICAgICAgICAgICAgWzM1LjgxNDQ0MTQ0MjI2MSwgMTI4LjUyNDM1MTIxOTU1NV0sCiAgICAgICAgICAgICAgICB7ImJ1YmJsaW5nTW91c2VFdmVudHMiOiB0cnVlLCAiY29sb3IiOiAiZ3JlZW4iLCAiZGFzaEFycmF5IjogbnVsbCwgImRhc2hPZmZzZXQiOiBudWxsLCAiZmlsbCI6IGZhbHNlLCAiZmlsbENvbG9yIjogImdyZWVuIiwgImZpbGxPcGFjaXR5IjogMC4yLCAiZmlsbFJ1bGUiOiAiZXZlbm9kZCIsICJsaW5lQ2FwIjogInJvdW5kIiwgImxpbmVKb2luIjogInJvdW5kIiwgIm9wYWNpdHkiOiAxLjAsICJyYWRpdXMiOiAzLCAic3Ryb2tlIjogdHJ1ZSwgIndlaWdodCI6IDN9CiAgICAgICAgICAgICkuYWRkVG8obWFwXzcxNDQ1NGVkMzUwMzQ3ZmQ4YzZjYmM2NzA2N2U2MDUwKTsKICAgICAgICAKICAgIAogICAgICAgICAgICBjaXJjbGVfbWFya2VyX2RiZTIyN2YyOGI5YjRkNWNhNDc5NGUzOWUxNGY5MmFjLmJpbmRUb29sdGlwKAogICAgICAgICAgICAgICAgYDxkaXY+CiAgICAgICAgICAgICAgICAgICAgIOyKpO2DgOuyheyKpCAtIOuMgOq1rOq0keyXreyLnCDri6zshJzqtawg7JuU67Cw66GcIDkxCiAgICAgICAgICAgICAgICAgPC9kaXY+YCwKICAgICAgICAgICAgICAgIHsic3RpY2t5IjogdHJ1ZX0KICAgICAgICAgICAgKTsKICAgICAgICAKICAgIAogICAgICAgICAgICB2YXIgY2lyY2xlX21hcmtlcl9iYTlhYzJjYjM5MGM0M2NjODhjZTJkN2M1N2M4NzQ1OSA9IEwuY2lyY2xlTWFya2VyKAogICAgICAgICAgICAgICAgWzM1Ljg3OTg2NDkzMjU3NTUsIDEyOC41ODkzNzE2NDI5OTFdLAogICAgICAgICAgICAgICAgeyJidWJibGluZ01vdXNlRXZlbnRzIjogdHJ1ZSwgImNvbG9yIjogImJsdWUiLCAiZGFzaEFycmF5IjogbnVsbCwgImRhc2hPZmZzZXQiOiBudWxsLCAiZmlsbCI6IGZhbHNlLCAiZmlsbENvbG9yIjogImJsdWUiLCAiZmlsbE9wYWNpdHkiOiAwLjIsICJmaWxsUnVsZSI6ICJldmVub2RkIiwgImxpbmVDYXAiOiAicm91bmQiLCAibGluZUpvaW4iOiAicm91bmQiLCAib3BhY2l0eSI6IDEuMCwgInJhZGl1cyI6IDMsICJzdHJva2UiOiB0cnVlLCAid2VpZ2h0IjogM30KICAgICAgICAgICAgKS5hZGRUbyhtYXBfNzE0NDU0ZWQzNTAzNDdmZDhjNmNiYzY3MDY3ZTYwNTApOwogICAgICAgIAogICAgCiAgICAgICAgICAgIGNpcmNsZV9tYXJrZXJfYmE5YWMyY2IzOTBjNDNjYzg4Y2UyZDdjNTdjODc0NTkuYmluZFRvb2x0aXAoCiAgICAgICAgICAgICAgICBgPGRpdj4KICAgICAgICAgICAgICAgICAgICAg7J2065SU7JW87Luk7ZS8IC0g64yA6rWs6rSR7Jet7IucIOu2geq1rCDsuajsgrDroZwgMzgtMQogICAgICAgICAgICAgICAgIDwvZGl2PmAsCiAgICAgICAgICAgICAgICB7InN0aWNreSI6IHRydWV9CiAgICAgICAgICAgICk7CiAgICAgICAgCiAgICAKICAgICAgICAgICAgdmFyIGNpcmNsZV9tYXJrZXJfMDM1NjRkMjEwZjk4NGNlMmE3NGE4MDBiM2U4OTJmMGIgPSBMLmNpcmNsZU1hcmtlcigKICAgICAgICAgICAgICAgIFszNS44NzE4OTIxNTEyNTg2LCAxMjguNjA0OTA0NjQ3NTcyXSwKICAgICAgICAgICAgICAgIHsiYnViYmxpbmdNb3VzZUV2ZW50cyI6IHRydWUsICJjb2xvciI6ICJibHVlIiwgImRhc2hBcnJheSI6IG51bGwsICJkYXNoT2Zmc2V0IjogbnVsbCwgImZpbGwiOiBmYWxzZSwgImZpbGxDb2xvciI6ICJibHVlIiwgImZpbGxPcGFjaXR5IjogMC4yLCAiZmlsbFJ1bGUiOiAiZXZlbm9kZCIsICJsaW5lQ2FwIjogInJvdW5kIiwgImxpbmVKb2luIjogInJvdW5kIiwgIm9wYWNpdHkiOiAxLjAsICJyYWRpdXMiOiAzLCAic3Ryb2tlIjogdHJ1ZSwgIndlaWdodCI6IDN9CiAgICAgICAgICAgICkuYWRkVG8obWFwXzcxNDQ1NGVkMzUwMzQ3ZmQ4YzZjYmM2NzA2N2U2MDUwKTsKICAgICAgICAKICAgIAogICAgICAgICAgICBjaXJjbGVfbWFya2VyXzAzNTY0ZDIxMGY5ODRjZTJhNzRhODAwYjNlODkyZjBiLmJpbmRUb29sdGlwKAogICAgICAgICAgICAgICAgYDxkaXY+CiAgICAgICAgICAgICAgICAgICAgIOydtOuUlOyVvOy7pO2UvCAtIOuMgOq1rOq0keyXreyLnCDspJHqtawg64+Z642V66GcIDE5NAogICAgICAgICAgICAgICAgIDwvZGl2PmAsCiAgICAgICAgICAgICAgICB7InN0aWNreSI6IHRydWV9CiAgICAgICAgICAgICk7CiAgICAgICAgCiAgICAKICAgICAgICAgICAgdmFyIGNpcmNsZV9tYXJrZXJfNTQ0ZTYzZmZhZDYwNDZmZmI3YWI3MWRiZmZhYTlmNjQgPSBMLmNpcmNsZU1hcmtlcigKICAgICAgICAgICAgICAgIFszNS44Njg3NTczNzM2MjIxLCAxMjguNjA2MzMxNDQ2MzExXSwKICAgICAgICAgICAgICAgIHsiYnViYmxpbmdNb3VzZUV2ZW50cyI6IHRydWUsICJjb2xvciI6ICJibHVlIiwgImRhc2hBcnJheSI6IG51bGwsICJkYXNoT2Zmc2V0IjogbnVsbCwgImZpbGwiOiBmYWxzZSwgImZpbGxDb2xvciI6ICJibHVlIiwgImZpbGxPcGFjaXR5IjogMC4yLCAiZmlsbFJ1bGUiOiAiZXZlbm9kZCIsICJsaW5lQ2FwIjogInJvdW5kIiwgImxpbmVKb2luIjogInJvdW5kIiwgIm9wYWNpdHkiOiAxLjAsICJyYWRpdXMiOiAzLCAic3Ryb2tlIjogdHJ1ZSwgIndlaWdodCI6IDN9CiAgICAgICAgICAgICkuYWRkVG8obWFwXzcxNDQ1NGVkMzUwMzQ3ZmQ4YzZjYmM2NzA2N2U2MDUwKTsKICAgICAgICAKICAgIAogICAgICAgICAgICBjaXJjbGVfbWFya2VyXzU0NGU2M2ZmYWQ2MDQ2ZmZiN2FiNzFkYmZmYWE5ZjY0LmJpbmRUb29sdGlwKAogICAgICAgICAgICAgICAgYDxkaXY+CiAgICAgICAgICAgICAgICAgICAgIOydtOuUlOyVvOy7pO2UvCAtIOuMgOq1rOq0keyXreyLnCDspJHqtawg6rWt7LGE67O07IOB66GcIDY5NAogICAgICAgICAgICAgICAgIDwvZGl2PmAsCiAgICAgICAgICAgICAgICB7InN0aWNreSI6IHRydWV9CiAgICAgICAgICAgICk7CiAgICAgICAgCiAgICAKICAgICAgICAgICAgdmFyIGNpcmNsZV9tYXJrZXJfMzk4NWIwM2YzZDk1NGFhZjg0YmQ2NTM4ZDMxNzMxYzIgPSBMLmNpcmNsZU1hcmtlcigKICAgICAgICAgICAgICAgIFszNS44Nzc5NTAxNjE4NjEsIDEyOC42MjkyNDg2NTg2NTJdLAogICAgICAgICAgICAgICAgeyJidWJibGluZ01vdXNlRXZlbnRzIjogdHJ1ZSwgImNvbG9yIjogImdyZWVuIiwgImRhc2hBcnJheSI6IG51bGwsICJkYXNoT2Zmc2V0IjogbnVsbCwgImZpbGwiOiBmYWxzZSwgImZpbGxDb2xvciI6ICJncmVlbiIsICJmaWxsT3BhY2l0eSI6IDAuMiwgImZpbGxSdWxlIjogImV2ZW5vZGQiLCAibGluZUNhcCI6ICJyb3VuZCIsICJsaW5lSm9pbiI6ICJyb3VuZCIsICJvcGFjaXR5IjogMS4wLCAicmFkaXVzIjogMywgInN0cm9rZSI6IHRydWUsICJ3ZWlnaHQiOiAzfQogICAgICAgICAgICApLmFkZFRvKG1hcF83MTQ0NTRlZDM1MDM0N2ZkOGM2Y2JjNjcwNjdlNjA1MCk7CiAgICAgICAgCiAgICAKICAgICAgICAgICAgY2lyY2xlX21hcmtlcl8zOTg1YjAzZjNkOTU0YWFmODRiZDY1MzhkMzE3MzFjMi5iaW5kVG9vbHRpcCgKICAgICAgICAgICAgICAgIGA8ZGl2PgogICAgICAgICAgICAgICAgICAgICDsiqTtg4DrsoXsiqTsi6DshLjqs4TrsLHtmZTsoJDrjIDqtazsoJAgLSDrjIDqtazqtJHsl63si5wg64+Z6rWsIOuPmeu2gOuhnCAxNDkKICAgICAgICAgICAgICAgICA8L2Rpdj5gLAogICAgICAgICAgICAgICAgeyJzdGlja3kiOiB0cnVlfQogICAgICAgICAgICApOwogICAgICAgIAogICAgCiAgICAgICAgICAgIHZhciBjaXJjbGVfbWFya2VyX2UwOTJlYzU1MmQzZjQ4ZTBhMmZiNmY0ODg2NTgzZjExID0gTC5jaXJjbGVNYXJrZXIoCiAgICAgICAgICAgICAgICBbMzUuODQ3MzczNjgzOTYxNiwgMTI4LjYxMjUxMjAyNTMxOV0sCiAgICAgICAgICAgICAgICB7ImJ1YmJsaW5nTW91c2VFdmVudHMiOiB0cnVlLCAiY29sb3IiOiAiZ3JlZW4iLCAiZGFzaEFycmF5IjogbnVsbCwgImRhc2hPZmZzZXQiOiBudWxsLCAiZmlsbCI6IGZhbHNlLCAiZmlsbENvbG9yIjogImdyZWVuIiwgImZpbGxPcGFjaXR5IjogMC4yLCAiZmlsbFJ1bGUiOiAiZXZlbm9kZCIsICJsaW5lQ2FwIjogInJvdW5kIiwgImxpbmVKb2luIjogInJvdW5kIiwgIm9wYWNpdHkiOiAxLjAsICJyYWRpdXMiOiAzLCAic3Ryb2tlIjogdHJ1ZSwgIndlaWdodCI6IDN9CiAgICAgICAgICAgICkuYWRkVG8obWFwXzcxNDQ1NGVkMzUwMzQ3ZmQ4YzZjYmM2NzA2N2U2MDUwKTsKICAgICAgICAKICAgIAogICAgICAgICAgICBjaXJjbGVfbWFya2VyX2UwOTJlYzU1MmQzZjQ4ZTBhMmZiNmY0ODg2NTgzZjExLmJpbmRUb29sdGlwKAogICAgICAgICAgICAgICAgYDxkaXY+CiAgICAgICAgICAgICAgICAgICAgIOyKpO2DgOuyheyKpCAtIOuMgOq1rOq0keyXreyLnCDsiJjshLHqtawg7IiY7ISx66GcIDI0MwogICAgICAgICAgICAgICAgIDwvZGl2PmAsCiAgICAgICAgICAgICAgICB7InN0aWNreSI6IHRydWV9CiAgICAgICAgICAgICk7CiAgICAgICAgCiAgICAKICAgICAgICAgICAgdmFyIGNpcmNsZV9tYXJrZXJfZjhkNTlkOTY5MzhjNDdiNjk2YjNhOWZlYzU4MzExNWIgPSBMLmNpcmNsZU1hcmtlcigKICAgICAgICAgICAgICAgIFszNS44Nzk0NjYyMDczNTYxLCAxMjguMzk5MzQzNjE0OTQ4XSwKICAgICAgICAgICAgICAgIHsiYnViYmxpbmdNb3VzZUV2ZW50cyI6IHRydWUsICJjb2xvciI6ICJncmVlbiIsICJkYXNoQXJyYXkiOiBudWxsLCAiZGFzaE9mZnNldCI6IG51bGwsICJmaWxsIjogZmFsc2UsICJmaWxsQ29sb3IiOiAiZ3JlZW4iLCAiZmlsbE9wYWNpdHkiOiAwLjIsICJmaWxsUnVsZSI6ICJldmVub2RkIiwgImxpbmVDYXAiOiAicm91bmQiLCAibGluZUpvaW4iOiAicm91bmQiLCAib3BhY2l0eSI6IDEuMCwgInJhZGl1cyI6IDMsICJzdHJva2UiOiB0cnVlLCAid2VpZ2h0IjogM30KICAgICAgICAgICAgKS5hZGRUbyhtYXBfNzE0NDU0ZWQzNTAzNDdmZDhjNmNiYzY3MDY3ZTYwNTApOwogICAgICAgIAogICAgCiAgICAgICAgICAgIGNpcmNsZV9tYXJrZXJfZjhkNTlkOTY5MzhjNDdiNjk2YjNhOWZlYzU4MzExNWIuYmluZFRvb2x0aXAoCiAgICAgICAgICAgICAgICBgPGRpdj4KICAgICAgICAgICAgICAgICAgICAg7Iqk7YOA67KF7IqkIC0g64yA6rWs6rSR7Jet7IucIOuLrOyEseq1sCDtlZjruYjrqbQg7ZWY66qp7KCV6ri4IDMwCiAgICAgICAgICAgICAgICAgPC9kaXY+YCwKICAgICAgICAgICAgICAgIHsic3RpY2t5IjogdHJ1ZX0KICAgICAgICAgICAgKTsKICAgICAgICAKICAgIAogICAgICAgICAgICB2YXIgY2lyY2xlX21hcmtlcl8wYjBjMTc5YmFmOGE0OTMzYTJkM2E1YTFhMDcxMDQ4OSA9IEwuY2lyY2xlTWFya2VyKAogICAgICAgICAgICAgICAgWzM1Ljg0NzM4MjQ3MTE0OTEsIDEyOC42MTI1NTYzNzQ4MTRdLAogICAgICAgICAgICAgICAgeyJidWJibGluZ01vdXNlRXZlbnRzIjogdHJ1ZSwgImNvbG9yIjogImdyZWVuIiwgImRhc2hBcnJheSI6IG51bGwsICJkYXNoT2Zmc2V0IjogbnVsbCwgImZpbGwiOiBmYWxzZSwgImZpbGxDb2xvciI6ICJncmVlbiIsICJmaWxsT3BhY2l0eSI6IDAuMiwgImZpbGxSdWxlIjogImV2ZW5vZGQiLCAibGluZUNhcCI6ICJyb3VuZCIsICJsaW5lSm9pbiI6ICJyb3VuZCIsICJvcGFjaXR5IjogMS4wLCAicmFkaXVzIjogMywgInN0cm9rZSI6IHRydWUsICJ3ZWlnaHQiOiAzfQogICAgICAgICAgICApLmFkZFRvKG1hcF83MTQ0NTRlZDM1MDM0N2ZkOGM2Y2JjNjcwNjdlNjA1MCk7CiAgICAgICAgCiAgICAKICAgICAgICAgICAgY2lyY2xlX21hcmtlcl8wYjBjMTc5YmFmOGE0OTMzYTJkM2E1YTFhMDcxMDQ4OS5iaW5kVG9vbHRpcCgKICAgICAgICAgICAgICAgIGA8ZGl2PgogICAgICAgICAgICAgICAgICAgICDsiqTtg4DrsoXsiqQgLSDrjIDqtazqtJHsl63si5wg7IiY7ISx6rWsIOyImOyEseuhnCAyNDMKICAgICAgICAgICAgICAgICA8L2Rpdj5gLAogICAgICAgICAgICAgICAgeyJzdGlja3kiOiB0cnVlfQogICAgICAgICAgICApOwogICAgICAgIAogICAgCiAgICAgICAgICAgIHZhciBjaXJjbGVfbWFya2VyXzg1MDExMjQyMDk3MzQ2MzhhNmY1MjFkMWRiNDk0MzU1ID0gTC5jaXJjbGVNYXJrZXIoCiAgICAgICAgICAgICAgICBbMzUuODI0MDI4OTYxMzI5OSwgMTI4LjU0NTIwOTY5NzIxNzAyXSwKICAgICAgICAgICAgICAgIHsiYnViYmxpbmdNb3VzZUV2ZW50cyI6IHRydWUsICJjb2xvciI6ICJncmVlbiIsICJkYXNoQXJyYXkiOiBudWxsLCAiZGFzaE9mZnNldCI6IG51bGwsICJmaWxsIjogZmFsc2UsICJmaWxsQ29sb3IiOiAiZ3JlZW4iLCAiZmlsbE9wYWNpdHkiOiAwLjIsICJmaWxsUnVsZSI6ICJldmVub2RkIiwgImxpbmVDYXAiOiAicm91bmQiLCAibGluZUpvaW4iOiAicm91bmQiLCAib3BhY2l0eSI6IDEuMCwgInJhZGl1cyI6IDMsICJzdHJva2UiOiB0cnVlLCAid2VpZ2h0IjogM30KICAgICAgICAgICAgKS5hZGRUbyhtYXBfNzE0NDU0ZWQzNTAzNDdmZDhjNmNiYzY3MDY3ZTYwNTApOwogICAgICAgIAogICAgCiAgICAgICAgICAgIGNpcmNsZV9tYXJrZXJfODUwMTEyNDIwOTczNDYzOGE2ZjUyMWQxZGI0OTQzNTUuYmluZFRvb2x0aXAoCiAgICAgICAgICAgICAgICBgPGRpdj4KICAgICAgICAgICAgICAgICAgICAg7Iqk7YOA67KF7IqkIC0g64yA6rWs6rSR7Jet7IucIOuLrOyEnOq1rCDsm5TrsLDroZwgMzE1CiAgICAgICAgICAgICAgICAgPC9kaXY+YCwKICAgICAgICAgICAgICAgIHsic3RpY2t5IjogdHJ1ZX0KICAgICAgICAgICAgKTsKICAgICAgICAKICAgIAogICAgICAgICAgICB2YXIgY2lyY2xlX21hcmtlcl81ZDc1ZmNjOGZmODk0MTdmYTQ3YjI1NGI3ODc5OGIzNSA9IEwuY2lyY2xlTWFya2VyKAogICAgICAgICAgICAgICAgWzM1LjgyNjEzOTI2MjU1Njc5NCwgMTI4LjYxNTg3OTM3NjE3Nl0sCiAgICAgICAgICAgICAgICB7ImJ1YmJsaW5nTW91c2VFdmVudHMiOiB0cnVlLCAiY29sb3IiOiAiZ3JlZW4iLCAiZGFzaEFycmF5IjogbnVsbCwgImRhc2hPZmZzZXQiOiBudWxsLCAiZmlsbCI6IGZhbHNlLCAiZmlsbENvbG9yIjogImdyZWVuIiwgImZpbGxPcGFjaXR5IjogMC4yLCAiZmlsbFJ1bGUiOiAiZXZlbm9kZCIsICJsaW5lQ2FwIjogInJvdW5kIiwgImxpbmVKb2luIjogInJvdW5kIiwgIm9wYWNpdHkiOiAxLjAsICJyYWRpdXMiOiAzLCAic3Ryb2tlIjogdHJ1ZSwgIndlaWdodCI6IDN9CiAgICAgICAgICAgICkuYWRkVG8obWFwXzcxNDQ1NGVkMzUwMzQ3ZmQ4YzZjYmM2NzA2N2U2MDUwKTsKICAgICAgICAKICAgIAogICAgICAgICAgICBjaXJjbGVfbWFya2VyXzVkNzVmY2M4ZmY4OTQxN2ZhNDdiMjU0Yjc4Nzk4YjM1LmJpbmRUb29sdGlwKAogICAgICAgICAgICAgICAgYDxkaXY+CiAgICAgICAgICAgICAgICAgICAgIOyKpO2DgOuyheyKpCAtIOuMgOq1rOq0keyXreyLnCDsiJjshLHqtawg7Jqp7ZWZ66GcIDU2CiAgICAgICAgICAgICAgICAgPC9kaXY+YCwKICAgICAgICAgICAgICAgIHsic3RpY2t5IjogdHJ1ZX0KICAgICAgICAgICAgKTsKICAgICAgICAKICAgIAogICAgICAgICAgICB2YXIgY2lyY2xlX21hcmtlcl81MmYxMDliZmFjYzM0ZTE2ODY5NDMwNzRkYzkwNDY4MSA9IEwuY2lyY2xlTWFya2VyKAogICAgICAgICAgICAgICAgWzM1Ljg1MzgyMzE0OTA1ODEsIDEyOC42MjAzMjI2NTg1NjldLAogICAgICAgICAgICAgICAgeyJidWJibGluZ01vdXNlRXZlbnRzIjogdHJ1ZSwgImNvbG9yIjogImdyZWVuIiwgImRhc2hBcnJheSI6IG51bGwsICJkYXNoT2Zmc2V0IjogbnVsbCwgImZpbGwiOiBmYWxzZSwgImZpbGxDb2xvciI6ICJncmVlbiIsICJmaWxsT3BhY2l0eSI6IDAuMiwgImZpbGxSdWxlIjogImV2ZW5vZGQiLCAibGluZUNhcCI6ICJyb3VuZCIsICJsaW5lSm9pbiI6ICJyb3VuZCIsICJvcGFjaXR5IjogMS4wLCAicmFkaXVzIjogMywgInN0cm9rZSI6IHRydWUsICJ3ZWlnaHQiOiAzfQogICAgICAgICAgICApLmFkZFRvKG1hcF83MTQ0NTRlZDM1MDM0N2ZkOGM2Y2JjNjcwNjdlNjA1MCk7CiAgICAgICAgCiAgICAKICAgICAgICAgICAgY2lyY2xlX21hcmtlcl81MmYxMDliZmFjYzM0ZTE2ODY5NDMwNzRkYzkwNDY4MS5iaW5kVG9vbHRpcCgKICAgICAgICAgICAgICAgIGA8ZGl2PgogICAgICAgICAgICAgICAgICAgICDsiqTtg4DrsoXsiqQgLSDrjIDqtazqtJHsl63si5wg7IiY7ISx6rWsIOuqheuNleuhnCA0NjAKICAgICAgICAgICAgICAgICA8L2Rpdj5gLAogICAgICAgICAgICAgICAgeyJzdGlja3kiOiB0cnVlfQogICAgICAgICAgICApOwogICAgICAgIAogICAgCiAgICAgICAgICAgIHZhciBjaXJjbGVfbWFya2VyXzU0OWMyNDZiNjMwMzRlODNhMmFmMzNiYzU5Mjk3ZGVjID0gTC5jaXJjbGVNYXJrZXIoCiAgICAgICAgICAgICAgICBbMzUuOTA2Mjg5Mzg0NDUxNSwgMTI4LjYwOTY3NTMzNDkxMl0sCiAgICAgICAgICAgICAgICB7ImJ1YmJsaW5nTW91c2VFdmVudHMiOiB0cnVlLCAiY29sb3IiOiAiYmx1ZSIsICJkYXNoQXJyYXkiOiBudWxsLCAiZGFzaE9mZnNldCI6IG51bGwsICJmaWxsIjogZmFsc2UsICJmaWxsQ29sb3IiOiAiYmx1ZSIsICJmaWxsT3BhY2l0eSI6IDAuMiwgImZpbGxSdWxlIjogImV2ZW5vZGQiLCAibGluZUNhcCI6ICJyb3VuZCIsICJsaW5lSm9pbiI6ICJyb3VuZCIsICJvcGFjaXR5IjogMS4wLCAicmFkaXVzIjogMywgInN0cm9rZSI6IHRydWUsICJ3ZWlnaHQiOiAzfQogICAgICAgICAgICApLmFkZFRvKG1hcF83MTQ0NTRlZDM1MDM0N2ZkOGM2Y2JjNjcwNjdlNjA1MCk7CiAgICAgICAgCiAgICAKICAgICAgICAgICAgY2lyY2xlX21hcmtlcl81NDljMjQ2YjYzMDM0ZTgzYTJhZjMzYmM1OTI5N2RlYy5iaW5kVG9vbHRpcCgKICAgICAgICAgICAgICAgIGA8ZGl2PgogICAgICAgICAgICAgICAgICAgICDsnbTrlJTslbzsu6TtlLwgLSDrjIDqtazqtJHsl63si5wg67aB6rWsIOycoO2GteuLqOyngOuhnCA2MAogICAgICAgICAgICAgICAgIDwvZGl2PmAsCiAgICAgICAgICAgICAgICB7InN0aWNreSI6IHRydWV9CiAgICAgICAgICAgICk7CiAgICAgICAgCiAgICAKICAgICAgICAgICAgdmFyIGNpcmNsZV9tYXJrZXJfZDVlNGVjN2NiYWJhNDM5ZWE0NDE3YjNjYjE3NzVhYTggPSBMLmNpcmNsZU1hcmtlcigKICAgICAgICAgICAgICAgIFszNS44Nzk2NTEyMzEyMTU0LCAxMjguNTk2MTQ3OTQ5ODMxMDJdLAogICAgICAgICAgICAgICAgeyJidWJibGluZ01vdXNlRXZlbnRzIjogdHJ1ZSwgImNvbG9yIjogImdyZWVuIiwgImRhc2hBcnJheSI6IG51bGwsICJkYXNoT2Zmc2V0IjogbnVsbCwgImZpbGwiOiBmYWxzZSwgImZpbGxDb2xvciI6ICJncmVlbiIsICJmaWxsT3BhY2l0eSI6IDAuMiwgImZpbGxSdWxlIjogImV2ZW5vZGQiLCAibGluZUNhcCI6ICJyb3VuZCIsICJsaW5lSm9pbiI6ICJyb3VuZCIsICJvcGFjaXR5IjogMS4wLCAicmFkaXVzIjogMywgInN0cm9rZSI6IHRydWUsICJ3ZWlnaHQiOiAzfQogICAgICAgICAgICApLmFkZFRvKG1hcF83MTQ0NTRlZDM1MDM0N2ZkOGM2Y2JjNjcwNjdlNjA1MCk7CiAgICAgICAgCiAgICAKICAgICAgICAgICAgY2lyY2xlX21hcmtlcl9kNWU0ZWM3Y2JhYmE0MzllYTQ0MTdiM2NiMTc3NWFhOC5iaW5kVG9vbHRpcCgKICAgICAgICAgICAgICAgIGA8ZGl2PgogICAgICAgICAgICAgICAgICAgICDsiqTtg4DrsoXsiqQgLSDrjIDqtazqtJHsl63si5wg67aB6rWsIOykkeyVmeuMgOuhnCA1MjYKICAgICAgICAgICAgICAgICA8L2Rpdj5gLAogICAgICAgICAgICAgICAgeyJzdGlja3kiOiB0cnVlfQogICAgICAgICAgICApOwogICAgICAgIAogICAgCiAgICAgICAgICAgIHZhciBjaXJjbGVfbWFya2VyX2JhOTA3YTNiMTBmNTRhNGI4YWJlNTQxZDcyMDYxYzk3ID0gTC5jaXJjbGVNYXJrZXIoCiAgICAgICAgICAgICAgICBbMzUuODc5MDk3NTcyNzc3NiwgMTI4LjYyODcyNjEzODU5NV0sCiAgICAgICAgICAgICAgICB7ImJ1YmJsaW5nTW91c2VFdmVudHMiOiB0cnVlLCAiY29sb3IiOiAiYmx1ZSIsICJkYXNoQXJyYXkiOiBudWxsLCAiZGFzaE9mZnNldCI6IG51bGwsICJmaWxsIjogZmFsc2UsICJmaWxsQ29sb3IiOiAiYmx1ZSIsICJmaWxsT3BhY2l0eSI6IDAuMiwgImZpbGxSdWxlIjogImV2ZW5vZGQiLCAibGluZUNhcCI6ICJyb3VuZCIsICJsaW5lSm9pbiI6ICJyb3VuZCIsICJvcGFjaXR5IjogMS4wLCAicmFkaXVzIjogMywgInN0cm9rZSI6IHRydWUsICJ3ZWlnaHQiOiAzfQogICAgICAgICAgICApLmFkZFRvKG1hcF83MTQ0NTRlZDM1MDM0N2ZkOGM2Y2JjNjcwNjdlNjA1MCk7CiAgICAgICAgCiAgICAKICAgICAgICAgICAgY2lyY2xlX21hcmtlcl9iYTkwN2EzYjEwZjU0YTRiOGFiZTU0MWQ3MjA2MWM5Ny5iaW5kVG9vbHRpcCgKICAgICAgICAgICAgICAgIGA8ZGl2PgogICAgICAgICAgICAgICAgICAgICDsnbTrlJTslbzsu6TtlLwgLSDrjIDqtazqtJHsl63si5wg64+Z6rWsIOuPmeuMgOq1rOuhnCA1NTAKICAgICAgICAgICAgICAgICA8L2Rpdj5gLAogICAgICAgICAgICAgICAgeyJzdGlja3kiOiB0cnVlfQogICAgICAgICAgICApOwogICAgICAgIAogICAgCiAgICAgICAgICAgIHZhciBjaXJjbGVfbWFya2VyX2Q3OGNkNmEyNTJjZjRkN2NhYWY0NWFlZjFmOGMwODJkID0gTC5jaXJjbGVNYXJrZXIoCiAgICAgICAgICAgICAgICBbMzUuODE0ODcyMjMyMTM2MiwgMTI4LjU0MTA0MTYwNDA4MDAyXSwKICAgICAgICAgICAgICAgIHsiYnViYmxpbmdNb3VzZUV2ZW50cyI6IHRydWUsICJjb2xvciI6ICJncmVlbiIsICJkYXNoQXJyYXkiOiBudWxsLCAiZGFzaE9mZnNldCI6IG51bGwsICJmaWxsIjogZmFsc2UsICJmaWxsQ29sb3IiOiAiZ3JlZW4iLCAiZmlsbE9wYWNpdHkiOiAwLjIsICJmaWxsUnVsZSI6ICJldmVub2RkIiwgImxpbmVDYXAiOiAicm91bmQiLCAibGluZUpvaW4iOiAicm91bmQiLCAib3BhY2l0eSI6IDEuMCwgInJhZGl1cyI6IDMsICJzdHJva2UiOiB0cnVlLCAid2VpZ2h0IjogM30KICAgICAgICAgICAgKS5hZGRUbyhtYXBfNzE0NDU0ZWQzNTAzNDdmZDhjNmNiYzY3MDY3ZTYwNTApOwogICAgICAgIAogICAgCiAgICAgICAgICAgIGNpcmNsZV9tYXJrZXJfZDc4Y2Q2YTI1MmNmNGQ3Y2FhZjQ1YWVmMWY4YzA4MmQuYmluZFRvb2x0aXAoCiAgICAgICAgICAgICAgICBgPGRpdj4KICAgICAgICAgICAgICAgICAgICAg7Iqk7YOA67KF7IqkIC0g64yA6rWs6rSR7Jet7IucIOuLrOyEnOq1rCDsm5Tqs6HroZwgMjI1CiAgICAgICAgICAgICAgICAgPC9kaXY+YCwKICAgICAgICAgICAgICAgIHsic3RpY2t5IjogdHJ1ZX0KICAgICAgICAgICAgKTsKICAgICAgICAKICAgIAogICAgICAgICAgICB2YXIgY2lyY2xlX21hcmtlcl84NmRlMWUyMWE5NDk0MGY5ODliMTExMDA5NjA2NTBkMyA9IEwuY2lyY2xlTWFya2VyKAogICAgICAgICAgICAgICAgWzM1Ljg1NzY4MzY1NDMyMzcsIDEyOC42MjQ5OTE4NjA4MDhdLAogICAgICAgICAgICAgICAgeyJidWJibGluZ01vdXNlRXZlbnRzIjogdHJ1ZSwgImNvbG9yIjogImdyZWVuIiwgImRhc2hBcnJheSI6IG51bGwsICJkYXNoT2Zmc2V0IjogbnVsbCwgImZpbGwiOiBmYWxzZSwgImZpbGxDb2xvciI6ICJncmVlbiIsICJmaWxsT3BhY2l0eSI6IDAuMiwgImZpbGxSdWxlIjogImV2ZW5vZGQiLCAibGluZUNhcCI6ICJyb3VuZCIsICJsaW5lSm9pbiI6ICJyb3VuZCIsICJvcGFjaXR5IjogMS4wLCAicmFkaXVzIjogMywgInN0cm9rZSI6IHRydWUsICJ3ZWlnaHQiOiAzfQogICAgICAgICAgICApLmFkZFRvKG1hcF83MTQ0NTRlZDM1MDM0N2ZkOGM2Y2JjNjcwNjdlNjA1MCk7CiAgICAgICAgCiAgICAKICAgICAgICAgICAgY2lyY2xlX21hcmtlcl84NmRlMWUyMWE5NDk0MGY5ODliMTExMDA5NjA2NTBkMy5iaW5kVG9vbHRpcCgKICAgICAgICAgICAgICAgIGA8ZGl2PgogICAgICAgICAgICAgICAgICAgICDsiqTtg4DrsoXsiqQgLSDrjIDqtazqtJHsl63si5wg7IiY7ISx6rWsIOuPmeuMgOq1rOuhnCAzMDUKICAgICAgICAgICAgICAgICA8L2Rpdj5gLAogICAgICAgICAgICAgICAgeyJzdGlja3kiOiB0cnVlfQogICAgICAgICAgICApOwogICAgICAgIAogICAgCiAgICAgICAgICAgIHZhciBjaXJjbGVfbWFya2VyXzA5M2I1ZTJlZTcwZDQ0ZTlhZWM4ODRmNmNjNGFiZWFiID0gTC5jaXJjbGVNYXJrZXIoCiAgICAgICAgICAgICAgICBbMzUuODQ1MTcxMTY2MzM2MiwgMTI4LjU4NjA1OTQ5MjgwNF0sCiAgICAgICAgICAgICAgICB7ImJ1YmJsaW5nTW91c2VFdmVudHMiOiB0cnVlLCAiY29sb3IiOiAiYmx1ZSIsICJkYXNoQXJyYXkiOiBudWxsLCAiZGFzaE9mZnNldCI6IG51bGwsICJmaWxsIjogZmFsc2UsICJmaWxsQ29sb3IiOiAiYmx1ZSIsICJmaWxsT3BhY2l0eSI6IDAuMiwgImZpbGxSdWxlIjogImV2ZW5vZGQiLCAibGluZUNhcCI6ICJyb3VuZCIsICJsaW5lSm9pbiI6ICJyb3VuZCIsICJvcGFjaXR5IjogMS4wLCAicmFkaXVzIjogMywgInN0cm9rZSI6IHRydWUsICJ3ZWlnaHQiOiAzfQogICAgICAgICAgICApLmFkZFRvKG1hcF83MTQ0NTRlZDM1MDM0N2ZkOGM2Y2JjNjcwNjdlNjA1MCk7CiAgICAgICAgCiAgICAKICAgICAgICAgICAgY2lyY2xlX21hcmtlcl8wOTNiNWUyZWU3MGQ0NGU5YWVjODg0ZjZjYzRhYmVhYi5iaW5kVG9vbHRpcCgKICAgICAgICAgICAgICAgIGA8ZGl2PgogICAgICAgICAgICAgICAgICAgICDsnbTrlJTslbzsu6TtlLwgLSDrjIDqtazqtJHsl63si5wg64Ko6rWsIOuqheuNleyLnOyepeq4uCA1MgogICAgICAgICAgICAgICAgIDwvZGl2PmAsCiAgICAgICAgICAgICAgICB7InN0aWNreSI6IHRydWV9CiAgICAgICAgICAgICk7CiAgICAgICAgCiAgICAKICAgICAgICAgICAgdmFyIGNpcmNsZV9tYXJrZXJfNjcwYWZmNGU0MTFmNGIxZmI5YmE1YTRjZmI0NGIyMWIgPSBMLmNpcmNsZU1hcmtlcigKICAgICAgICAgICAgICAgIFszNS44NzA5NjE3MDQ3MDQ3MDUsIDEyOC41OTgxMjA0Mjk0OTZdLAogICAgICAgICAgICAgICAgeyJidWJibGluZ01vdXNlRXZlbnRzIjogdHJ1ZSwgImNvbG9yIjogImdyZWVuIiwgImRhc2hBcnJheSI6IG51bGwsICJkYXNoT2Zmc2V0IjogbnVsbCwgImZpbGwiOiBmYWxzZSwgImZpbGxDb2xvciI6ICJncmVlbiIsICJmaWxsT3BhY2l0eSI6IDAuMiwgImZpbGxSdWxlIjogImV2ZW5vZGQiLCAibGluZUNhcCI6ICJyb3VuZCIsICJsaW5lSm9pbiI6ICJyb3VuZCIsICJvcGFjaXR5IjogMS4wLCAicmFkaXVzIjogMywgInN0cm9rZSI6IHRydWUsICJ3ZWlnaHQiOiAzfQogICAgICAgICAgICApLmFkZFRvKG1hcF83MTQ0NTRlZDM1MDM0N2ZkOGM2Y2JjNjcwNjdlNjA1MCk7CiAgICAgICAgCiAgICAKICAgICAgICAgICAgY2lyY2xlX21hcmtlcl82NzBhZmY0ZTQxMWY0YjFmYjliYTVhNGNmYjQ0YjIxYi5iaW5kVG9vbHRpcCgKICAgICAgICAgICAgICAgIGA8ZGl2PgogICAgICAgICAgICAgICAgICAgICDsiqTtg4DrsoXsiqQgLSDrjIDqtazqtJHsl63si5wg7KSR6rWsIOq1reyxhOuztOyDgeuhnCA2MTEKICAgICAgICAgICAgICAgICA8L2Rpdj5gLAogICAgICAgICAgICAgICAgeyJzdGlja3kiOiB0cnVlfQogICAgICAgICAgICApOwogICAgICAgIAo8L3NjcmlwdD4= onload=\"this.contentDocument.open();this.contentDocument.write(atob(this.getAttribute('data-html')));this.contentDocument.close();\" allowfullscreen webkitallowfullscreen mozallowfullscreen></iframe></div></div>"
      ],
      "text/plain": [
       "<folium.folium.Map at 0x2a0a309c070>"
      ]
     },
     "execution_count": 41,
     "metadata": {},
     "output_type": "execute_result"
    }
   ],
   "source": [
    "m = folium.Map([lat, long], zoom_start=12) #, tiles=\"Stamen Toner\")\n",
    "\n",
    "for i in df_cafe.index:\n",
    "    sub_lat = df_cafe.loc[i, \"위도\"]\n",
    "    sub_long = df_cafe.loc[i, \"경도\"]\n",
    "    \n",
    "    title = f\"{df_cafe.loc[i, '상호명']} - {df_cafe.loc[i, '도로명주소']}\"\n",
    "    \n",
    "    color = \"green\"\n",
    "    if df_cafe.loc[i, \"브랜드명\"] == \"이디야\":\n",
    "        color = \"blue\"\n",
    "    \n",
    "    folium.CircleMarker([sub_lat, sub_long],\n",
    "                        radius=3,\n",
    "                        color=color,\n",
    "                          tooltip=title).add_to(m)\n",
    "m"
   ]
  },
  {
   "cell_type": "code",
   "execution_count": 42,
   "metadata": {},
   "outputs": [],
   "source": [
    "#지도가 한글 깨짐 : 임시적인 해결방법\n",
    "m.save('starbuck_ediya.html')"
   ]
  },
  {
   "cell_type": "markdown",
   "metadata": {},
   "source": [
    "### 스타벅스 매장 분포"
   ]
  },
  {
   "cell_type": "code",
   "execution_count": 43,
   "metadata": {},
   "outputs": [
    {
     "data": {
      "text/html": [
       "<div>\n",
       "<style scoped>\n",
       "    .dataframe tbody tr th:only-of-type {\n",
       "        vertical-align: middle;\n",
       "    }\n",
       "\n",
       "    .dataframe tbody tr th {\n",
       "        vertical-align: top;\n",
       "    }\n",
       "\n",
       "    .dataframe thead th {\n",
       "        text-align: right;\n",
       "    }\n",
       "</style>\n",
       "<table border=\"1\" class=\"dataframe\">\n",
       "  <thead>\n",
       "    <tr style=\"text-align: right;\">\n",
       "      <th></th>\n",
       "      <th>구</th>\n",
       "      <th>브랜드명</th>\n",
       "      <th>매장수</th>\n",
       "    </tr>\n",
       "  </thead>\n",
       "  <tbody>\n",
       "    <tr>\n",
       "      <th>0</th>\n",
       "      <td>남구</td>\n",
       "      <td>스타벅스</td>\n",
       "      <td>3</td>\n",
       "    </tr>\n",
       "    <tr>\n",
       "      <th>2</th>\n",
       "      <td>달서구</td>\n",
       "      <td>스타벅스</td>\n",
       "      <td>19</td>\n",
       "    </tr>\n",
       "    <tr>\n",
       "      <th>4</th>\n",
       "      <td>달성군</td>\n",
       "      <td>스타벅스</td>\n",
       "      <td>4</td>\n",
       "    </tr>\n",
       "    <tr>\n",
       "      <th>6</th>\n",
       "      <td>동구</td>\n",
       "      <td>스타벅스</td>\n",
       "      <td>7</td>\n",
       "    </tr>\n",
       "    <tr>\n",
       "      <th>8</th>\n",
       "      <td>북구</td>\n",
       "      <td>스타벅스</td>\n",
       "      <td>6</td>\n",
       "    </tr>\n",
       "  </tbody>\n",
       "</table>\n",
       "</div>"
      ],
      "text/plain": [
       "     구  브랜드명  매장수\n",
       "0   남구  스타벅스    3\n",
       "2  달서구  스타벅스   19\n",
       "4  달성군  스타벅스    4\n",
       "6   동구  스타벅스    7\n",
       "8   북구  스타벅스    6"
      ]
     },
     "execution_count": 43,
     "metadata": {},
     "output_type": "execute_result"
    }
   ],
   "source": [
    "# df_cafe_vs 변수에 담긴 값을 통해 스타벅스의 매장 수를 구합니다.\n",
    "# \"브랜드명\"컬럼으로 스타벅스만 가져옵니다.\n",
    "\n",
    "df_star = df_cafe_vs[df_cafe_vs[\"브랜드명\"] == \"스타벅스\"].copy()\n",
    "df_star.head()"
   ]
  },
  {
   "cell_type": "markdown",
   "metadata": {},
   "source": [
    "### 이디야 매장 분포"
   ]
  },
  {
   "cell_type": "code",
   "execution_count": 44,
   "metadata": {},
   "outputs": [
    {
     "data": {
      "text/html": [
       "<div>\n",
       "<style scoped>\n",
       "    .dataframe tbody tr th:only-of-type {\n",
       "        vertical-align: middle;\n",
       "    }\n",
       "\n",
       "    .dataframe tbody tr th {\n",
       "        vertical-align: top;\n",
       "    }\n",
       "\n",
       "    .dataframe thead th {\n",
       "        text-align: right;\n",
       "    }\n",
       "</style>\n",
       "<table border=\"1\" class=\"dataframe\">\n",
       "  <thead>\n",
       "    <tr style=\"text-align: right;\">\n",
       "      <th></th>\n",
       "      <th>구</th>\n",
       "      <th>브랜드명</th>\n",
       "      <th>매장수</th>\n",
       "    </tr>\n",
       "  </thead>\n",
       "  <tbody>\n",
       "    <tr>\n",
       "      <th>1</th>\n",
       "      <td>남구</td>\n",
       "      <td>이디야</td>\n",
       "      <td>5</td>\n",
       "    </tr>\n",
       "    <tr>\n",
       "      <th>3</th>\n",
       "      <td>달서구</td>\n",
       "      <td>이디야</td>\n",
       "      <td>6</td>\n",
       "    </tr>\n",
       "    <tr>\n",
       "      <th>5</th>\n",
       "      <td>달성군</td>\n",
       "      <td>이디야</td>\n",
       "      <td>3</td>\n",
       "    </tr>\n",
       "    <tr>\n",
       "      <th>7</th>\n",
       "      <td>동구</td>\n",
       "      <td>이디야</td>\n",
       "      <td>4</td>\n",
       "    </tr>\n",
       "    <tr>\n",
       "      <th>9</th>\n",
       "      <td>북구</td>\n",
       "      <td>이디야</td>\n",
       "      <td>8</td>\n",
       "    </tr>\n",
       "  </tbody>\n",
       "</table>\n",
       "</div>"
      ],
      "text/plain": [
       "     구 브랜드명  매장수\n",
       "1   남구  이디야    5\n",
       "3  달서구  이디야    6\n",
       "5  달성군  이디야    3\n",
       "7   동구  이디야    4\n",
       "9   북구  이디야    8"
      ]
     },
     "execution_count": 44,
     "metadata": {},
     "output_type": "execute_result"
    }
   ],
   "source": [
    "# 이디야의 매장 수를 구합니다.\n",
    "# \"브랜드명\"컬럼으로 이디야만 가져옵니다.\n",
    "df_ediya = df_cafe_vs[df_cafe_vs[\"브랜드명\"] == \"이디야\"].copy()\n",
    "df_ediya.head()"
   ]
  },
  {
   "cell_type": "code",
   "execution_count": 45,
   "metadata": {},
   "outputs": [
    {
     "data": {
      "text/html": [
       "<div>\n",
       "<style scoped>\n",
       "    .dataframe tbody tr th:only-of-type {\n",
       "        vertical-align: middle;\n",
       "    }\n",
       "\n",
       "    .dataframe tbody tr th {\n",
       "        vertical-align: top;\n",
       "    }\n",
       "\n",
       "    .dataframe thead th {\n",
       "        text-align: right;\n",
       "    }\n",
       "</style>\n",
       "<table border=\"1\" class=\"dataframe\">\n",
       "  <thead>\n",
       "    <tr style=\"text-align: right;\">\n",
       "      <th>브랜드명</th>\n",
       "      <th>스타벅스</th>\n",
       "      <th>이디야</th>\n",
       "      <th>매장수비교</th>\n",
       "    </tr>\n",
       "    <tr>\n",
       "      <th>구</th>\n",
       "      <th></th>\n",
       "      <th></th>\n",
       "      <th></th>\n",
       "    </tr>\n",
       "  </thead>\n",
       "  <tbody>\n",
       "    <tr>\n",
       "      <th>남구</th>\n",
       "      <td>3.0</td>\n",
       "      <td>5.0</td>\n",
       "      <td>False</td>\n",
       "    </tr>\n",
       "    <tr>\n",
       "      <th>달서구</th>\n",
       "      <td>19.0</td>\n",
       "      <td>6.0</td>\n",
       "      <td>True</td>\n",
       "    </tr>\n",
       "    <tr>\n",
       "      <th>달성군</th>\n",
       "      <td>4.0</td>\n",
       "      <td>3.0</td>\n",
       "      <td>True</td>\n",
       "    </tr>\n",
       "    <tr>\n",
       "      <th>동구</th>\n",
       "      <td>7.0</td>\n",
       "      <td>4.0</td>\n",
       "      <td>True</td>\n",
       "    </tr>\n",
       "    <tr>\n",
       "      <th>북구</th>\n",
       "      <td>6.0</td>\n",
       "      <td>8.0</td>\n",
       "      <td>False</td>\n",
       "    </tr>\n",
       "  </tbody>\n",
       "</table>\n",
       "</div>"
      ],
      "text/plain": [
       "브랜드명  스타벅스  이디야  매장수비교\n",
       "구                     \n",
       "남구     3.0  5.0  False\n",
       "달서구   19.0  6.0   True\n",
       "달성군    4.0  3.0   True\n",
       "동구     7.0  4.0   True\n",
       "북구     6.0  8.0  False"
      ]
     },
     "execution_count": 45,
     "metadata": {},
     "output_type": "execute_result"
    }
   ],
   "source": [
    "# df_vs 라는 변수에 구별 브랜드명을 pivot해서 스타벅스와 이디야 매장을 비교할 수 있는 형태로 만듭니다.\n",
    "# 그리고 [\"스타벅스\", \"이디야\"] 로 컬럼명을 변경해주고 \n",
    "# 스타벅스와 이디야의 매장을 비교한 값을 \"매장수비교\" 컬럼에 담아줍니다.\n",
    "df_vs = df_cafe_vs.pivot(index=\"구\", columns=\"브랜드명\", values=\"매장수\")\n",
    "df_vs[\"매장수비교\"] = df_vs[\"스타벅스\"] - df_vs[\"이디야\"] > 0\n",
    "df_vs.head()"
   ]
  },
  {
   "cell_type": "code",
   "execution_count": 46,
   "metadata": {},
   "outputs": [
    {
     "data": {
      "text/html": [
       "<div>\n",
       "<style scoped>\n",
       "    .dataframe tbody tr th:only-of-type {\n",
       "        vertical-align: middle;\n",
       "    }\n",
       "\n",
       "    .dataframe tbody tr th {\n",
       "        vertical-align: top;\n",
       "    }\n",
       "\n",
       "    .dataframe thead th {\n",
       "        text-align: right;\n",
       "    }\n",
       "</style>\n",
       "<table border=\"1\" class=\"dataframe\">\n",
       "  <thead>\n",
       "    <tr style=\"text-align: right;\">\n",
       "      <th>브랜드명</th>\n",
       "      <th>스타벅스</th>\n",
       "      <th>이디야</th>\n",
       "      <th>매장수비교</th>\n",
       "    </tr>\n",
       "    <tr>\n",
       "      <th>구</th>\n",
       "      <th></th>\n",
       "      <th></th>\n",
       "      <th></th>\n",
       "    </tr>\n",
       "  </thead>\n",
       "  <tbody>\n",
       "    <tr>\n",
       "      <th>남구</th>\n",
       "      <td>3.0</td>\n",
       "      <td>5.0</td>\n",
       "      <td>0.0</td>\n",
       "    </tr>\n",
       "    <tr>\n",
       "      <th>달서구</th>\n",
       "      <td>19.0</td>\n",
       "      <td>6.0</td>\n",
       "      <td>1.0</td>\n",
       "    </tr>\n",
       "    <tr>\n",
       "      <th>달성군</th>\n",
       "      <td>4.0</td>\n",
       "      <td>3.0</td>\n",
       "      <td>1.0</td>\n",
       "    </tr>\n",
       "    <tr>\n",
       "      <th>동구</th>\n",
       "      <td>7.0</td>\n",
       "      <td>4.0</td>\n",
       "      <td>1.0</td>\n",
       "    </tr>\n",
       "    <tr>\n",
       "      <th>북구</th>\n",
       "      <td>6.0</td>\n",
       "      <td>8.0</td>\n",
       "      <td>0.0</td>\n",
       "    </tr>\n",
       "  </tbody>\n",
       "</table>\n",
       "</div>"
      ],
      "text/plain": [
       "브랜드명  스타벅스  이디야  매장수비교\n",
       "구                     \n",
       "남구     3.0  5.0    0.0\n",
       "달서구   19.0  6.0    1.0\n",
       "달성군    4.0  3.0    1.0\n",
       "동구     7.0  4.0    1.0\n",
       "북구     6.0  8.0    0.0"
      ]
     },
     "execution_count": 46,
     "metadata": {},
     "output_type": "execute_result"
    }
   ],
   "source": [
    "# 간단한 함수를 사용해서 스타벅스가 이디야보다 매장수가 많을 때 1을 출력하도록 합니다.\n",
    "df_vs[\"매장수비교\"] = df_vs[\"매장수비교\"].astype(float)\n",
    "df_vs.head()"
   ]
  },
  {
   "cell_type": "code",
   "execution_count": 47,
   "metadata": {
    "scrolled": true
   },
   "outputs": [
    {
     "data": {
      "text/html": [
       "<div>\n",
       "<style scoped>\n",
       "    .dataframe tbody tr th:only-of-type {\n",
       "        vertical-align: middle;\n",
       "    }\n",
       "\n",
       "    .dataframe tbody tr th {\n",
       "        vertical-align: top;\n",
       "    }\n",
       "\n",
       "    .dataframe thead th {\n",
       "        text-align: right;\n",
       "    }\n",
       "</style>\n",
       "<table border=\"1\" class=\"dataframe\">\n",
       "  <thead>\n",
       "    <tr style=\"text-align: right;\">\n",
       "      <th>브랜드명</th>\n",
       "      <th>구</th>\n",
       "      <th>스타벅스</th>\n",
       "      <th>이디야</th>\n",
       "      <th>매장수비교</th>\n",
       "    </tr>\n",
       "  </thead>\n",
       "  <tbody>\n",
       "    <tr>\n",
       "      <th>0</th>\n",
       "      <td>남구</td>\n",
       "      <td>3.0</td>\n",
       "      <td>5.0</td>\n",
       "      <td>0.0</td>\n",
       "    </tr>\n",
       "    <tr>\n",
       "      <th>1</th>\n",
       "      <td>달서구</td>\n",
       "      <td>19.0</td>\n",
       "      <td>6.0</td>\n",
       "      <td>1.0</td>\n",
       "    </tr>\n",
       "    <tr>\n",
       "      <th>2</th>\n",
       "      <td>달성군</td>\n",
       "      <td>4.0</td>\n",
       "      <td>3.0</td>\n",
       "      <td>1.0</td>\n",
       "    </tr>\n",
       "    <tr>\n",
       "      <th>3</th>\n",
       "      <td>동구</td>\n",
       "      <td>7.0</td>\n",
       "      <td>4.0</td>\n",
       "      <td>1.0</td>\n",
       "    </tr>\n",
       "    <tr>\n",
       "      <th>4</th>\n",
       "      <td>북구</td>\n",
       "      <td>6.0</td>\n",
       "      <td>8.0</td>\n",
       "      <td>0.0</td>\n",
       "    </tr>\n",
       "  </tbody>\n",
       "</table>\n",
       "</div>"
      ],
      "text/plain": [
       "브랜드명    구  스타벅스  이디야  매장수비교\n",
       "0      남구   3.0  5.0    0.0\n",
       "1     달서구  19.0  6.0    1.0\n",
       "2     달성군   4.0  3.0    1.0\n",
       "3      동구   7.0  4.0    1.0\n",
       "4      북구   6.0  8.0    0.0"
      ]
     },
     "execution_count": 47,
     "metadata": {},
     "output_type": "execute_result"
    }
   ],
   "source": [
    "# 구를 컬럼명으로 사용하기 위해 reset_index 를 합니다.\n",
    "# 데이터 프레임을 df_vs 에 저장합니다.\n",
    "df_vs = df_vs.reset_index()\n",
    "df_vs.head()"
   ]
  },
  {
   "cell_type": "code",
   "execution_count": 48,
   "metadata": {},
   "outputs": [
    {
     "data": {
      "text/html": [
       "<div>\n",
       "<style scoped>\n",
       "    .dataframe tbody tr th:only-of-type {\n",
       "        vertical-align: middle;\n",
       "    }\n",
       "\n",
       "    .dataframe tbody tr th {\n",
       "        vertical-align: top;\n",
       "    }\n",
       "\n",
       "    .dataframe thead th {\n",
       "        text-align: right;\n",
       "    }\n",
       "</style>\n",
       "<table border=\"1\" class=\"dataframe\">\n",
       "  <thead>\n",
       "    <tr style=\"text-align: right;\">\n",
       "      <th></th>\n",
       "      <th>시군구명</th>\n",
       "      <th>경도</th>\n",
       "      <th>위도</th>\n",
       "    </tr>\n",
       "  </thead>\n",
       "  <tbody>\n",
       "    <tr>\n",
       "      <th>0</th>\n",
       "      <td>남구</td>\n",
       "      <td>128.584182</td>\n",
       "      <td>35.842793</td>\n",
       "    </tr>\n",
       "    <tr>\n",
       "      <th>1</th>\n",
       "      <td>달서구</td>\n",
       "      <td>128.529908</td>\n",
       "      <td>35.831796</td>\n",
       "    </tr>\n",
       "    <tr>\n",
       "      <th>2</th>\n",
       "      <td>달성군</td>\n",
       "      <td>128.440534</td>\n",
       "      <td>35.783484</td>\n",
       "    </tr>\n",
       "    <tr>\n",
       "      <th>3</th>\n",
       "      <td>동구</td>\n",
       "      <td>128.667273</td>\n",
       "      <td>35.889781</td>\n",
       "    </tr>\n",
       "    <tr>\n",
       "      <th>4</th>\n",
       "      <td>북구</td>\n",
       "      <td>128.584822</td>\n",
       "      <td>35.901471</td>\n",
       "    </tr>\n",
       "  </tbody>\n",
       "</table>\n",
       "</div>"
      ],
      "text/plain": [
       "  시군구명          경도         위도\n",
       "0   남구  128.584182  35.842793\n",
       "1  달서구  128.529908  35.831796\n",
       "2  달성군  128.440534  35.783484\n",
       "3   동구  128.667273  35.889781\n",
       "4   북구  128.584822  35.901471"
      ]
     },
     "execution_count": 48,
     "metadata": {},
     "output_type": "execute_result"
    }
   ],
   "source": [
    "df_gu_mean = df_cafe.pivot_table(index=\"시군구명\", values=[\"경도\", \"위도\"], aggfunc=\"mean\")\n",
    "df_gu_mean = df_gu_mean.reset_index()\n",
    "df_gu_mean.head()"
   ]
  },
  {
   "cell_type": "code",
   "execution_count": 49,
   "metadata": {},
   "outputs": [
    {
     "data": {
      "text/html": [
       "<div>\n",
       "<style scoped>\n",
       "    .dataframe tbody tr th:only-of-type {\n",
       "        vertical-align: middle;\n",
       "    }\n",
       "\n",
       "    .dataframe tbody tr th {\n",
       "        vertical-align: top;\n",
       "    }\n",
       "\n",
       "    .dataframe thead th {\n",
       "        text-align: right;\n",
       "    }\n",
       "</style>\n",
       "<table border=\"1\" class=\"dataframe\">\n",
       "  <thead>\n",
       "    <tr style=\"text-align: right;\">\n",
       "      <th></th>\n",
       "      <th>구</th>\n",
       "      <th>스타벅스</th>\n",
       "      <th>이디야</th>\n",
       "      <th>매장수비교</th>\n",
       "      <th>시군구명</th>\n",
       "      <th>경도</th>\n",
       "      <th>위도</th>\n",
       "    </tr>\n",
       "  </thead>\n",
       "  <tbody>\n",
       "    <tr>\n",
       "      <th>0</th>\n",
       "      <td>남구</td>\n",
       "      <td>3.0</td>\n",
       "      <td>5.0</td>\n",
       "      <td>0.0</td>\n",
       "      <td>남구</td>\n",
       "      <td>128.584182</td>\n",
       "      <td>35.842793</td>\n",
       "    </tr>\n",
       "    <tr>\n",
       "      <th>1</th>\n",
       "      <td>달서구</td>\n",
       "      <td>19.0</td>\n",
       "      <td>6.0</td>\n",
       "      <td>1.0</td>\n",
       "      <td>달서구</td>\n",
       "      <td>128.529908</td>\n",
       "      <td>35.831796</td>\n",
       "    </tr>\n",
       "    <tr>\n",
       "      <th>2</th>\n",
       "      <td>달성군</td>\n",
       "      <td>4.0</td>\n",
       "      <td>3.0</td>\n",
       "      <td>1.0</td>\n",
       "      <td>달성군</td>\n",
       "      <td>128.440534</td>\n",
       "      <td>35.783484</td>\n",
       "    </tr>\n",
       "    <tr>\n",
       "      <th>3</th>\n",
       "      <td>동구</td>\n",
       "      <td>7.0</td>\n",
       "      <td>4.0</td>\n",
       "      <td>1.0</td>\n",
       "      <td>동구</td>\n",
       "      <td>128.667273</td>\n",
       "      <td>35.889781</td>\n",
       "    </tr>\n",
       "    <tr>\n",
       "      <th>4</th>\n",
       "      <td>북구</td>\n",
       "      <td>6.0</td>\n",
       "      <td>8.0</td>\n",
       "      <td>0.0</td>\n",
       "      <td>북구</td>\n",
       "      <td>128.584822</td>\n",
       "      <td>35.901471</td>\n",
       "    </tr>\n",
       "  </tbody>\n",
       "</table>\n",
       "</div>"
      ],
      "text/plain": [
       "     구  스타벅스  이디야  매장수비교 시군구명          경도         위도\n",
       "0   남구   3.0  5.0    0.0   남구  128.584182  35.842793\n",
       "1  달서구  19.0  6.0    1.0  달서구  128.529908  35.831796\n",
       "2  달성군   4.0  3.0    1.0  달성군  128.440534  35.783484\n",
       "3   동구   7.0  4.0    1.0   동구  128.667273  35.889781\n",
       "4   북구   6.0  8.0    0.0   북구  128.584822  35.901471"
      ]
     },
     "execution_count": 49,
     "metadata": {},
     "output_type": "execute_result"
    }
   ],
   "source": [
    "df_vs = df_vs.merge(df_gu_mean, how='inner', left_on=\"구\", right_on=\"시군구명\")\n",
    "df_vs.head()"
   ]
  },
  {
   "cell_type": "markdown",
   "metadata": {},
   "source": [
    "##  카페간의 거리 측정"
   ]
  },
  {
   "cell_type": "code",
   "execution_count": 222,
   "metadata": {},
   "outputs": [
    {
     "name": "stdout",
     "output_type": "stream",
     "text": [
      "STARBUCKS: 77 => 77\n",
      "EDIYA: 39 => 37\n"
     ]
    }
   ],
   "source": [
    "df_cafe_star = df_daegu[df_daegu[\"상호명_소문자\"].str.contains('스타벅스|starbucks')].copy()\n",
    "print(\"STARBUCKS:\",df_cafe_star.shape[0], \"=> \", end=\"\")\n",
    "df_cafe_star = df_cafe_star[df_cafe_star[\"상권업종중분류명\"] == \"커피점/카페\"]\n",
    "print(df_cafe_star.shape[0])\n",
    "\n",
    "df_cafe_edi = df_daegu[df_daegu[\"상호명_소문자\"].str.contains('이디야|이디아|ediya')].copy()\n",
    "print(\"EDIYA:\", df_cafe_edi.shape[0], \"=> \", end=\"\")\n",
    "df_cafe_edi = df_cafe_edi[df_cafe_edi[\"상권업종중분류명\"] == \"커피점/카페\"]\n",
    "print(df_cafe_edi.shape[0])"
   ]
  },
  {
   "cell_type": "code",
   "execution_count": 223,
   "metadata": {},
   "outputs": [
    {
     "data": {
      "text/plain": [
       "(77, 12)"
      ]
     },
     "execution_count": 223,
     "metadata": {},
     "output_type": "execute_result"
    }
   ],
   "source": [
    "df_cafe_star.shape"
   ]
  },
  {
   "cell_type": "code",
   "execution_count": 224,
   "metadata": {},
   "outputs": [
    {
     "name": "stdout",
     "output_type": "stream",
     "text": [
      "STARBUCKS: 77 => 75\n"
     ]
    }
   ],
   "source": [
    "#중복 제거\n",
    "print(\"STARBUCKS:\",df_cafe_star.shape[0], \"=> \", end=\"\")\n",
    "df_cafe_star = df_cafe_star.drop_duplicates(['경도','위도'], keep='last')\n",
    "print(df_cafe_star.shape[0])"
   ]
  },
  {
   "cell_type": "code",
   "execution_count": 225,
   "metadata": {},
   "outputs": [
    {
     "data": {
      "text/plain": [
       "(37, 12)"
      ]
     },
     "execution_count": 225,
     "metadata": {},
     "output_type": "execute_result"
    }
   ],
   "source": [
    "df_cafe_edi.shape"
   ]
  },
  {
   "cell_type": "code",
   "execution_count": 226,
   "metadata": {},
   "outputs": [
    {
     "name": "stdout",
     "output_type": "stream",
     "text": [
      "EDIYA: 37 => 35\n"
     ]
    }
   ],
   "source": [
    "#중복 제거\n",
    "print(\"EDIYA:\", df_cafe_edi.shape[0], \"=> \", end=\"\")\n",
    "df_cafe_edi = df_cafe_edi.drop_duplicates(['경도','위도'], keep='last')\n",
    "print(df_cafe_edi.shape[0])"
   ]
  },
  {
   "cell_type": "code",
   "execution_count": 227,
   "metadata": {},
   "outputs": [
    {
     "data": {
      "text/plain": [
       "Index(['상호명', '상권업종대분류명', '상권업종중분류명', '상권업종소분류명', '시도명', '시군구명', '행정동명',\n",
       "       '법정동명', '도로명주소', '경도', '위도', '상호명_소문자'],\n",
       "      dtype='object')"
      ]
     },
     "execution_count": 227,
     "metadata": {},
     "output_type": "execute_result"
    }
   ],
   "source": [
    "df_cafe_star.columns"
   ]
  },
  {
   "cell_type": "code",
   "execution_count": 228,
   "metadata": {},
   "outputs": [
    {
     "data": {
      "text/html": [
       "<div>\n",
       "<style scoped>\n",
       "    .dataframe tbody tr th:only-of-type {\n",
       "        vertical-align: middle;\n",
       "    }\n",
       "\n",
       "    .dataframe tbody tr th {\n",
       "        vertical-align: top;\n",
       "    }\n",
       "\n",
       "    .dataframe thead th {\n",
       "        text-align: right;\n",
       "    }\n",
       "</style>\n",
       "<table border=\"1\" class=\"dataframe\">\n",
       "  <thead>\n",
       "    <tr style=\"text-align: right;\">\n",
       "      <th></th>\n",
       "      <th>상호명</th>\n",
       "      <th>상권업종대분류명</th>\n",
       "      <th>상권업종중분류명</th>\n",
       "      <th>상권업종소분류명</th>\n",
       "      <th>시도명</th>\n",
       "      <th>시군구명</th>\n",
       "      <th>행정동명</th>\n",
       "      <th>법정동명</th>\n",
       "      <th>도로명주소</th>\n",
       "      <th>경도</th>\n",
       "      <th>위도</th>\n",
       "      <th>상호명_소문자</th>\n",
       "      <th>GROUP</th>\n",
       "      <th>브랜드명</th>\n",
       "      <th>MIN_DIST</th>\n",
       "    </tr>\n",
       "  </thead>\n",
       "  <tbody>\n",
       "    <tr>\n",
       "      <th>30554</th>\n",
       "      <td>스타벅스동성로중앙점</td>\n",
       "      <td>음식</td>\n",
       "      <td>커피점/카페</td>\n",
       "      <td>커피전문점/카페/다방</td>\n",
       "      <td>대구광역시</td>\n",
       "      <td>중구</td>\n",
       "      <td>삼덕동</td>\n",
       "      <td>삼덕동1가</td>\n",
       "      <td>대구광역시 중구 동성로5길 38</td>\n",
       "      <td>128.596677</td>\n",
       "      <td>35.867508</td>\n",
       "      <td>스타벅스동성로중앙점</td>\n",
       "      <td>-1</td>\n",
       "      <td>스타벅스</td>\n",
       "      <td>-1.0</td>\n",
       "    </tr>\n",
       "    <tr>\n",
       "      <th>31198</th>\n",
       "      <td>스타벅스대구법원점</td>\n",
       "      <td>음식</td>\n",
       "      <td>커피점/카페</td>\n",
       "      <td>커피전문점/카페/다방</td>\n",
       "      <td>대구광역시</td>\n",
       "      <td>수성구</td>\n",
       "      <td>범어2동</td>\n",
       "      <td>범어동</td>\n",
       "      <td>대구광역시 수성구 동대구로 376</td>\n",
       "      <td>128.627770</td>\n",
       "      <td>35.864537</td>\n",
       "      <td>스타벅스대구법원점</td>\n",
       "      <td>-1</td>\n",
       "      <td>스타벅스</td>\n",
       "      <td>-1.0</td>\n",
       "    </tr>\n",
       "    <tr>\n",
       "      <th>31464</th>\n",
       "      <td>스타벅스</td>\n",
       "      <td>음식</td>\n",
       "      <td>커피점/카페</td>\n",
       "      <td>커피전문점/카페/다방</td>\n",
       "      <td>대구광역시</td>\n",
       "      <td>달서구</td>\n",
       "      <td>상인1동</td>\n",
       "      <td>상인동</td>\n",
       "      <td>대구광역시 달서구 월곡로 334</td>\n",
       "      <td>128.533791</td>\n",
       "      <td>35.822791</td>\n",
       "      <td>스타벅스</td>\n",
       "      <td>-1</td>\n",
       "      <td>스타벅스</td>\n",
       "      <td>-1.0</td>\n",
       "    </tr>\n",
       "    <tr>\n",
       "      <th>41627</th>\n",
       "      <td>스타벅스</td>\n",
       "      <td>음식</td>\n",
       "      <td>커피점/카페</td>\n",
       "      <td>커피전문점/카페/다방</td>\n",
       "      <td>대구광역시</td>\n",
       "      <td>달서구</td>\n",
       "      <td>용산2동</td>\n",
       "      <td>용산동</td>\n",
       "      <td>대구광역시 달서구 달구벌대로 1393</td>\n",
       "      <td>128.520117</td>\n",
       "      <td>35.850711</td>\n",
       "      <td>스타벅스</td>\n",
       "      <td>-1</td>\n",
       "      <td>스타벅스</td>\n",
       "      <td>-1.0</td>\n",
       "    </tr>\n",
       "    <tr>\n",
       "      <th>53418</th>\n",
       "      <td>스타벅스</td>\n",
       "      <td>음식</td>\n",
       "      <td>커피점/카페</td>\n",
       "      <td>커피전문점/카페/다방</td>\n",
       "      <td>대구광역시</td>\n",
       "      <td>달성군</td>\n",
       "      <td>다사읍</td>\n",
       "      <td>다사읍</td>\n",
       "      <td>대구광역시 달성군 다사읍 달구벌대로 861</td>\n",
       "      <td>128.464258</td>\n",
       "      <td>35.859160</td>\n",
       "      <td>스타벅스</td>\n",
       "      <td>-1</td>\n",
       "      <td>스타벅스</td>\n",
       "      <td>-1.0</td>\n",
       "    </tr>\n",
       "  </tbody>\n",
       "</table>\n",
       "</div>"
      ],
      "text/plain": [
       "              상호명 상권업종대분류명 상권업종중분류명     상권업종소분류명    시도명 시군구명  행정동명   법정동명  \\\n",
       "30554  스타벅스동성로중앙점       음식   커피점/카페  커피전문점/카페/다방  대구광역시   중구   삼덕동  삼덕동1가   \n",
       "31198   스타벅스대구법원점       음식   커피점/카페  커피전문점/카페/다방  대구광역시  수성구  범어2동    범어동   \n",
       "31464        스타벅스       음식   커피점/카페  커피전문점/카페/다방  대구광역시  달서구  상인1동    상인동   \n",
       "41627        스타벅스       음식   커피점/카페  커피전문점/카페/다방  대구광역시  달서구  용산2동    용산동   \n",
       "53418        스타벅스       음식   커피점/카페  커피전문점/카페/다방  대구광역시  달성군   다사읍    다사읍   \n",
       "\n",
       "                         도로명주소          경도         위도     상호명_소문자  GROUP  \\\n",
       "30554        대구광역시 중구 동성로5길 38  128.596677  35.867508  스타벅스동성로중앙점     -1   \n",
       "31198       대구광역시 수성구 동대구로 376  128.627770  35.864537   스타벅스대구법원점     -1   \n",
       "31464        대구광역시 달서구 월곡로 334  128.533791  35.822791        스타벅스     -1   \n",
       "41627     대구광역시 달서구 달구벌대로 1393  128.520117  35.850711        스타벅스     -1   \n",
       "53418  대구광역시 달성군 다사읍 달구벌대로 861  128.464258  35.859160        스타벅스     -1   \n",
       "\n",
       "       브랜드명  MIN_DIST  \n",
       "30554  스타벅스      -1.0  \n",
       "31198  스타벅스      -1.0  \n",
       "31464  스타벅스      -1.0  \n",
       "41627  스타벅스      -1.0  \n",
       "53418  스타벅스      -1.0  "
      ]
     },
     "execution_count": 228,
     "metadata": {},
     "output_type": "execute_result"
    }
   ],
   "source": [
    "df_cafe_star['GROUP'] = -1\n",
    "df_cafe_star['브랜드명'] = '스타벅스'\n",
    "df_cafe_star['MIN_DIST'] = -1.\n",
    "df_cafe_star.head()"
   ]
  },
  {
   "cell_type": "code",
   "execution_count": 229,
   "metadata": {},
   "outputs": [
    {
     "data": {
      "text/html": [
       "<div>\n",
       "<style scoped>\n",
       "    .dataframe tbody tr th:only-of-type {\n",
       "        vertical-align: middle;\n",
       "    }\n",
       "\n",
       "    .dataframe tbody tr th {\n",
       "        vertical-align: top;\n",
       "    }\n",
       "\n",
       "    .dataframe thead th {\n",
       "        text-align: right;\n",
       "    }\n",
       "</style>\n",
       "<table border=\"1\" class=\"dataframe\">\n",
       "  <thead>\n",
       "    <tr style=\"text-align: right;\">\n",
       "      <th></th>\n",
       "      <th>상호명</th>\n",
       "      <th>상권업종대분류명</th>\n",
       "      <th>상권업종중분류명</th>\n",
       "      <th>상권업종소분류명</th>\n",
       "      <th>시도명</th>\n",
       "      <th>시군구명</th>\n",
       "      <th>행정동명</th>\n",
       "      <th>법정동명</th>\n",
       "      <th>도로명주소</th>\n",
       "      <th>경도</th>\n",
       "      <th>위도</th>\n",
       "      <th>상호명_소문자</th>\n",
       "      <th>GROUP</th>\n",
       "      <th>브랜드명</th>\n",
       "      <th>MIN_DIST</th>\n",
       "    </tr>\n",
       "  </thead>\n",
       "  <tbody>\n",
       "    <tr>\n",
       "      <th>16270</th>\n",
       "      <td>이디아커피시지점</td>\n",
       "      <td>음식</td>\n",
       "      <td>커피점/카페</td>\n",
       "      <td>커피전문점/카페/다방</td>\n",
       "      <td>대구광역시</td>\n",
       "      <td>수성구</td>\n",
       "      <td>고산1동</td>\n",
       "      <td>신매동</td>\n",
       "      <td>대구광역시 수성구 고산로 101</td>\n",
       "      <td>128.704075</td>\n",
       "      <td>35.839788</td>\n",
       "      <td>이디아커피시지점</td>\n",
       "      <td>-1</td>\n",
       "      <td>이디야</td>\n",
       "      <td>0.0</td>\n",
       "    </tr>\n",
       "    <tr>\n",
       "      <th>70134</th>\n",
       "      <td>이디야커피</td>\n",
       "      <td>음식</td>\n",
       "      <td>커피점/카페</td>\n",
       "      <td>커피전문점/카페/다방</td>\n",
       "      <td>대구광역시</td>\n",
       "      <td>달서구</td>\n",
       "      <td>신당동</td>\n",
       "      <td>신당동</td>\n",
       "      <td>대구광역시 달서구 계대동문로 7</td>\n",
       "      <td>128.493147</td>\n",
       "      <td>35.855827</td>\n",
       "      <td>이디야커피</td>\n",
       "      <td>-1</td>\n",
       "      <td>이디야</td>\n",
       "      <td>0.0</td>\n",
       "    </tr>\n",
       "    <tr>\n",
       "      <th>85299</th>\n",
       "      <td>이디야커피</td>\n",
       "      <td>음식</td>\n",
       "      <td>커피점/카페</td>\n",
       "      <td>커피전문점/카페/다방</td>\n",
       "      <td>대구광역시</td>\n",
       "      <td>수성구</td>\n",
       "      <td>범어4동</td>\n",
       "      <td>범어동</td>\n",
       "      <td>대구광역시 수성구 달구벌대로496길 72</td>\n",
       "      <td>128.634550</td>\n",
       "      <td>35.852487</td>\n",
       "      <td>이디야커피</td>\n",
       "      <td>-1</td>\n",
       "      <td>이디야</td>\n",
       "      <td>0.0</td>\n",
       "    </tr>\n",
       "    <tr>\n",
       "      <th>110825</th>\n",
       "      <td>이디야커피</td>\n",
       "      <td>음식</td>\n",
       "      <td>커피점/카페</td>\n",
       "      <td>커피전문점/카페/다방</td>\n",
       "      <td>대구광역시</td>\n",
       "      <td>동구</td>\n",
       "      <td>안심3.4동</td>\n",
       "      <td>신서동</td>\n",
       "      <td>대구광역시 동구 금강로 5</td>\n",
       "      <td>128.724505</td>\n",
       "      <td>35.867373</td>\n",
       "      <td>이디야커피</td>\n",
       "      <td>-1</td>\n",
       "      <td>이디야</td>\n",
       "      <td>0.0</td>\n",
       "    </tr>\n",
       "    <tr>\n",
       "      <th>128237</th>\n",
       "      <td>이디야커피</td>\n",
       "      <td>음식</td>\n",
       "      <td>커피점/카페</td>\n",
       "      <td>커피전문점/카페/다방</td>\n",
       "      <td>대구광역시</td>\n",
       "      <td>남구</td>\n",
       "      <td>대명1동</td>\n",
       "      <td>대명동</td>\n",
       "      <td>대구광역시 남구 현충로 107</td>\n",
       "      <td>128.579709</td>\n",
       "      <td>35.842705</td>\n",
       "      <td>이디야커피</td>\n",
       "      <td>-1</td>\n",
       "      <td>이디야</td>\n",
       "      <td>0.0</td>\n",
       "    </tr>\n",
       "  </tbody>\n",
       "</table>\n",
       "</div>"
      ],
      "text/plain": [
       "             상호명 상권업종대분류명 상권업종중분류명     상권업종소분류명    시도명 시군구명    행정동명 법정동명  \\\n",
       "16270   이디아커피시지점       음식   커피점/카페  커피전문점/카페/다방  대구광역시  수성구    고산1동  신매동   \n",
       "70134      이디야커피       음식   커피점/카페  커피전문점/카페/다방  대구광역시  달서구     신당동  신당동   \n",
       "85299      이디야커피       음식   커피점/카페  커피전문점/카페/다방  대구광역시  수성구    범어4동  범어동   \n",
       "110825     이디야커피       음식   커피점/카페  커피전문점/카페/다방  대구광역시   동구  안심3.4동  신서동   \n",
       "128237     이디야커피       음식   커피점/카페  커피전문점/카페/다방  대구광역시   남구    대명1동  대명동   \n",
       "\n",
       "                         도로명주소          경도         위도   상호명_소문자  GROUP 브랜드명  \\\n",
       "16270        대구광역시 수성구 고산로 101  128.704075  35.839788  이디아커피시지점     -1  이디야   \n",
       "70134        대구광역시 달서구 계대동문로 7  128.493147  35.855827     이디야커피     -1  이디야   \n",
       "85299   대구광역시 수성구 달구벌대로496길 72  128.634550  35.852487     이디야커피     -1  이디야   \n",
       "110825          대구광역시 동구 금강로 5  128.724505  35.867373     이디야커피     -1  이디야   \n",
       "128237        대구광역시 남구 현충로 107  128.579709  35.842705     이디야커피     -1  이디야   \n",
       "\n",
       "        MIN_DIST  \n",
       "16270        0.0  \n",
       "70134        0.0  \n",
       "85299        0.0  \n",
       "110825       0.0  \n",
       "128237       0.0  "
      ]
     },
     "execution_count": 229,
     "metadata": {},
     "output_type": "execute_result"
    }
   ],
   "source": [
    "df_cafe_edi['GROUP'] = -1\n",
    "df_cafe_edi['브랜드명'] = '이디야'\n",
    "df_cafe_edi['MIN_DIST'] = 0.\n",
    "df_cafe_edi.head()"
   ]
  },
  {
   "cell_type": "code",
   "execution_count": 230,
   "metadata": {},
   "outputs": [
    {
     "data": {
      "text/html": [
       "<div>\n",
       "<style scoped>\n",
       "    .dataframe tbody tr th:only-of-type {\n",
       "        vertical-align: middle;\n",
       "    }\n",
       "\n",
       "    .dataframe tbody tr th {\n",
       "        vertical-align: top;\n",
       "    }\n",
       "\n",
       "    .dataframe thead th {\n",
       "        text-align: right;\n",
       "    }\n",
       "</style>\n",
       "<table border=\"1\" class=\"dataframe\">\n",
       "  <thead>\n",
       "    <tr style=\"text-align: right;\">\n",
       "      <th></th>\n",
       "      <th>상호명</th>\n",
       "      <th>상권업종대분류명</th>\n",
       "      <th>상권업종중분류명</th>\n",
       "      <th>상권업종소분류명</th>\n",
       "      <th>시도명</th>\n",
       "      <th>시군구명</th>\n",
       "      <th>행정동명</th>\n",
       "      <th>법정동명</th>\n",
       "      <th>도로명주소</th>\n",
       "      <th>경도</th>\n",
       "      <th>위도</th>\n",
       "      <th>상호명_소문자</th>\n",
       "      <th>GROUP</th>\n",
       "      <th>브랜드명</th>\n",
       "      <th>MIN_DIST</th>\n",
       "    </tr>\n",
       "  </thead>\n",
       "  <tbody>\n",
       "  </tbody>\n",
       "</table>\n",
       "</div>"
      ],
      "text/plain": [
       "Empty DataFrame\n",
       "Columns: [상호명, 상권업종대분류명, 상권업종중분류명, 상권업종소분류명, 시도명, 시군구명, 행정동명, 법정동명, 도로명주소, 경도, 위도, 상호명_소문자, GROUP, 브랜드명, MIN_DIST]\n",
       "Index: []"
      ]
     },
     "execution_count": 230,
     "metadata": {},
     "output_type": "execute_result"
    }
   ],
   "source": [
    "df_result = pd.DataFrame(columns=(df_cafe_edi.columns))\n",
    "df_result"
   ]
  },
  {
   "cell_type": "markdown",
   "metadata": {},
   "source": [
    "## 위도 좌표 거리 구하기\n",
    "pip install haversine"
   ]
  },
  {
   "cell_type": "markdown",
   "metadata": {},
   "source": [
    "- 예"
   ]
  },
  {
   "cell_type": "markdown",
   "metadata": {},
   "source": [
    "from haversine import haversine\n",
    "\n",
    "kyobo = (37.504030, 127.024099) # 교보 문고 위도/경도   \n",
    "gangnam = (37.497175,127.027926) # 강남역 위도 경도   \n",
    "\n",
    "haversine(kyobo, gangnam) * 1000"
   ]
  },
  {
   "cell_type": "code",
   "execution_count": 231,
   "metadata": {},
   "outputs": [
    {
     "name": "stdout",
     "output_type": "stream",
     "text": [
      "EDIYA: 1 STARBUCKS: 15 DIST: 60\n",
      "EDIYA: 7 STARBUCKS: 34 DIST: 36\n",
      "EDIYA: 15 STARBUCKS: 45 DIST: 118\n",
      "EDIYA: 22 STARBUCKS: 2 DIST: 125\n",
      "EDIYA: 25 STARBUCKS: 16 DIST: 198\n",
      "EDIYA: 26 STARBUCKS: 62 DIST: 193\n",
      "EDIYA: 33 STARBUCKS: 64 DIST: 136\n"
     ]
    }
   ],
   "source": [
    "from haversine import haversine\n",
    "#kyobo = (37.504030, 127.024099) # 교보 문고 위도/경도\n",
    "#gangnam = (37.497175,127.027926) # 강남역 위도 경도\n",
    "\n",
    "result_count = 0\n",
    "n =1\n",
    "\n",
    "for i in range(df_cafe_edi.shape[0]):\n",
    "    ediya = (df_cafe_edi.iloc[i,10],df_cafe_edi.iloc[i,9]) \n",
    "    min_dist = 1.\n",
    "    for k in range(df_cafe_star.shape[0]):\n",
    "        star = (df_cafe_star.iloc[k,10],df_cafe_star.iloc[k,9]) \n",
    "        dist = haversine(ediya, star)\n",
    "        if dist < min_dist:\n",
    "            min_dist = dist\n",
    "            min_row = k\n",
    "    if np.round(min_dist*1000) < 200 :\n",
    "        print(\"EDIYA:\",i,\"STARBUCKS:\", min_row, \"DIST:\",round(min_dist*1000))\n",
    "        df_cafe_edi.iloc[i,12]=result_count\n",
    "        df_cafe_star.iloc[min_row,12]=result_count\n",
    "        df_cafe_star.iloc[min_row,14]= round(min_dist*1000)\n",
    "        result_count+=1\n"
   ]
  },
  {
   "cell_type": "code",
   "execution_count": 232,
   "metadata": {},
   "outputs": [
    {
     "data": {
      "text/html": [
       "<div>\n",
       "<style scoped>\n",
       "    .dataframe tbody tr th:only-of-type {\n",
       "        vertical-align: middle;\n",
       "    }\n",
       "\n",
       "    .dataframe tbody tr th {\n",
       "        vertical-align: top;\n",
       "    }\n",
       "\n",
       "    .dataframe thead th {\n",
       "        text-align: right;\n",
       "    }\n",
       "</style>\n",
       "<table border=\"1\" class=\"dataframe\">\n",
       "  <thead>\n",
       "    <tr style=\"text-align: right;\">\n",
       "      <th></th>\n",
       "      <th>상호명</th>\n",
       "      <th>상권업종대분류명</th>\n",
       "      <th>상권업종중분류명</th>\n",
       "      <th>상권업종소분류명</th>\n",
       "      <th>시도명</th>\n",
       "      <th>시군구명</th>\n",
       "      <th>행정동명</th>\n",
       "      <th>법정동명</th>\n",
       "      <th>도로명주소</th>\n",
       "      <th>경도</th>\n",
       "      <th>위도</th>\n",
       "      <th>상호명_소문자</th>\n",
       "      <th>GROUP</th>\n",
       "      <th>브랜드명</th>\n",
       "      <th>MIN_DIST</th>\n",
       "    </tr>\n",
       "  </thead>\n",
       "  <tbody>\n",
       "    <tr>\n",
       "      <th>70134</th>\n",
       "      <td>이디야커피</td>\n",
       "      <td>음식</td>\n",
       "      <td>커피점/카페</td>\n",
       "      <td>커피전문점/카페/다방</td>\n",
       "      <td>대구광역시</td>\n",
       "      <td>달서구</td>\n",
       "      <td>신당동</td>\n",
       "      <td>신당동</td>\n",
       "      <td>대구광역시 달서구 계대동문로 7</td>\n",
       "      <td>128.493147</td>\n",
       "      <td>35.855827</td>\n",
       "      <td>이디야커피</td>\n",
       "      <td>0</td>\n",
       "      <td>이디야</td>\n",
       "      <td>0.0</td>\n",
       "    </tr>\n",
       "    <tr>\n",
       "      <th>315086</th>\n",
       "      <td>이디야커피</td>\n",
       "      <td>음식</td>\n",
       "      <td>커피점/카페</td>\n",
       "      <td>커피전문점/카페/다방</td>\n",
       "      <td>대구광역시</td>\n",
       "      <td>북구</td>\n",
       "      <td>침산2동</td>\n",
       "      <td>침산동</td>\n",
       "      <td>대구광역시 북구 침산남로 150</td>\n",
       "      <td>128.592033</td>\n",
       "      <td>35.887801</td>\n",
       "      <td>이디야커피</td>\n",
       "      <td>1</td>\n",
       "      <td>이디야</td>\n",
       "      <td>0.0</td>\n",
       "    </tr>\n",
       "    <tr>\n",
       "      <th>381899</th>\n",
       "      <td>이디야커피대구종로점</td>\n",
       "      <td>음식</td>\n",
       "      <td>커피점/카페</td>\n",
       "      <td>커피전문점/카페/다방</td>\n",
       "      <td>대구광역시</td>\n",
       "      <td>중구</td>\n",
       "      <td>성내2동</td>\n",
       "      <td>남성로</td>\n",
       "      <td>대구광역시 중구 종로 17</td>\n",
       "      <td>128.592014</td>\n",
       "      <td>35.867396</td>\n",
       "      <td>이디야커피대구종로점</td>\n",
       "      <td>2</td>\n",
       "      <td>이디야</td>\n",
       "      <td>0.0</td>\n",
       "    </tr>\n",
       "    <tr>\n",
       "      <th>406076</th>\n",
       "      <td>이디야커피</td>\n",
       "      <td>음식</td>\n",
       "      <td>커피점/카페</td>\n",
       "      <td>커피전문점/카페/다방</td>\n",
       "      <td>대구광역시</td>\n",
       "      <td>달서구</td>\n",
       "      <td>상인1동</td>\n",
       "      <td>상인동</td>\n",
       "      <td>대구광역시 달서구 조암남로 3</td>\n",
       "      <td>128.532407</td>\n",
       "      <td>35.822743</td>\n",
       "      <td>이디야커피</td>\n",
       "      <td>3</td>\n",
       "      <td>이디야</td>\n",
       "      <td>0.0</td>\n",
       "    </tr>\n",
       "    <tr>\n",
       "      <th>411412</th>\n",
       "      <td>이디야커피</td>\n",
       "      <td>음식</td>\n",
       "      <td>커피점/카페</td>\n",
       "      <td>커피전문점/카페/다방</td>\n",
       "      <td>대구광역시</td>\n",
       "      <td>달서구</td>\n",
       "      <td>이곡1동</td>\n",
       "      <td>이곡동</td>\n",
       "      <td>대구광역시 달서구 이곡동로 55</td>\n",
       "      <td>128.512324</td>\n",
       "      <td>35.854341</td>\n",
       "      <td>이디야커피</td>\n",
       "      <td>4</td>\n",
       "      <td>이디야</td>\n",
       "      <td>0.0</td>\n",
       "    </tr>\n",
       "    <tr>\n",
       "      <th>412400</th>\n",
       "      <td>이디야커피</td>\n",
       "      <td>음식</td>\n",
       "      <td>커피점/카페</td>\n",
       "      <td>커피전문점/카페/다방</td>\n",
       "      <td>대구광역시</td>\n",
       "      <td>달성군</td>\n",
       "      <td>유가면</td>\n",
       "      <td>유가면</td>\n",
       "      <td>대구광역시 달성군 유가면 테크노상업로 108</td>\n",
       "      <td>128.461151</td>\n",
       "      <td>35.693253</td>\n",
       "      <td>이디야커피</td>\n",
       "      <td>5</td>\n",
       "      <td>이디야</td>\n",
       "      <td>0.0</td>\n",
       "    </tr>\n",
       "    <tr>\n",
       "      <th>494386</th>\n",
       "      <td>이디야커피</td>\n",
       "      <td>음식</td>\n",
       "      <td>커피점/카페</td>\n",
       "      <td>커피전문점/카페/다방</td>\n",
       "      <td>대구광역시</td>\n",
       "      <td>동구</td>\n",
       "      <td>신암4동</td>\n",
       "      <td>신암동</td>\n",
       "      <td>대구광역시 동구 동대구로 550</td>\n",
       "      <td>128.628726</td>\n",
       "      <td>35.879098</td>\n",
       "      <td>이디야커피</td>\n",
       "      <td>6</td>\n",
       "      <td>이디야</td>\n",
       "      <td>0.0</td>\n",
       "    </tr>\n",
       "  </tbody>\n",
       "</table>\n",
       "</div>"
      ],
      "text/plain": [
       "               상호명 상권업종대분류명 상권업종중분류명     상권업종소분류명    시도명 시군구명  행정동명 법정동명  \\\n",
       "70134        이디야커피       음식   커피점/카페  커피전문점/카페/다방  대구광역시  달서구   신당동  신당동   \n",
       "315086       이디야커피       음식   커피점/카페  커피전문점/카페/다방  대구광역시   북구  침산2동  침산동   \n",
       "381899  이디야커피대구종로점       음식   커피점/카페  커피전문점/카페/다방  대구광역시   중구  성내2동  남성로   \n",
       "406076       이디야커피       음식   커피점/카페  커피전문점/카페/다방  대구광역시  달서구  상인1동  상인동   \n",
       "411412       이디야커피       음식   커피점/카페  커피전문점/카페/다방  대구광역시  달서구  이곡1동  이곡동   \n",
       "412400       이디야커피       음식   커피점/카페  커피전문점/카페/다방  대구광역시  달성군   유가면  유가면   \n",
       "494386       이디야커피       음식   커피점/카페  커피전문점/카페/다방  대구광역시   동구  신암4동  신암동   \n",
       "\n",
       "                           도로명주소          경도         위도     상호명_소문자  GROUP  \\\n",
       "70134          대구광역시 달서구 계대동문로 7  128.493147  35.855827       이디야커피      0   \n",
       "315086         대구광역시 북구 침산남로 150  128.592033  35.887801       이디야커피      1   \n",
       "381899            대구광역시 중구 종로 17  128.592014  35.867396  이디야커피대구종로점      2   \n",
       "406076          대구광역시 달서구 조암남로 3  128.532407  35.822743       이디야커피      3   \n",
       "411412         대구광역시 달서구 이곡동로 55  128.512324  35.854341       이디야커피      4   \n",
       "412400  대구광역시 달성군 유가면 테크노상업로 108  128.461151  35.693253       이디야커피      5   \n",
       "494386         대구광역시 동구 동대구로 550  128.628726  35.879098       이디야커피      6   \n",
       "\n",
       "       브랜드명  MIN_DIST  \n",
       "70134   이디야       0.0  \n",
       "315086  이디야       0.0  \n",
       "381899  이디야       0.0  \n",
       "406076  이디야       0.0  \n",
       "411412  이디야       0.0  \n",
       "412400  이디야       0.0  \n",
       "494386  이디야       0.0  "
      ]
     },
     "execution_count": 232,
     "metadata": {},
     "output_type": "execute_result"
    }
   ],
   "source": [
    "df_cafe_edi = df_cafe_edi[df_cafe_edi.GROUP != -1]\n",
    "df_cafe_edi"
   ]
  },
  {
   "cell_type": "code",
   "execution_count": 233,
   "metadata": {},
   "outputs": [
    {
     "data": {
      "text/html": [
       "<div>\n",
       "<style scoped>\n",
       "    .dataframe tbody tr th:only-of-type {\n",
       "        vertical-align: middle;\n",
       "    }\n",
       "\n",
       "    .dataframe tbody tr th {\n",
       "        vertical-align: top;\n",
       "    }\n",
       "\n",
       "    .dataframe thead th {\n",
       "        text-align: right;\n",
       "    }\n",
       "</style>\n",
       "<table border=\"1\" class=\"dataframe\">\n",
       "  <thead>\n",
       "    <tr style=\"text-align: right;\">\n",
       "      <th></th>\n",
       "      <th>상호명</th>\n",
       "      <th>상권업종대분류명</th>\n",
       "      <th>상권업종중분류명</th>\n",
       "      <th>상권업종소분류명</th>\n",
       "      <th>시도명</th>\n",
       "      <th>시군구명</th>\n",
       "      <th>행정동명</th>\n",
       "      <th>법정동명</th>\n",
       "      <th>도로명주소</th>\n",
       "      <th>경도</th>\n",
       "      <th>위도</th>\n",
       "      <th>상호명_소문자</th>\n",
       "      <th>GROUP</th>\n",
       "      <th>브랜드명</th>\n",
       "      <th>MIN_DIST</th>\n",
       "    </tr>\n",
       "  </thead>\n",
       "  <tbody>\n",
       "    <tr>\n",
       "      <th>31464</th>\n",
       "      <td>스타벅스</td>\n",
       "      <td>음식</td>\n",
       "      <td>커피점/카페</td>\n",
       "      <td>커피전문점/카페/다방</td>\n",
       "      <td>대구광역시</td>\n",
       "      <td>달서구</td>\n",
       "      <td>상인1동</td>\n",
       "      <td>상인동</td>\n",
       "      <td>대구광역시 달서구 월곡로 334</td>\n",
       "      <td>128.533791</td>\n",
       "      <td>35.822791</td>\n",
       "      <td>스타벅스</td>\n",
       "      <td>3</td>\n",
       "      <td>스타벅스</td>\n",
       "      <td>125.0</td>\n",
       "    </tr>\n",
       "    <tr>\n",
       "      <th>108528</th>\n",
       "      <td>스타벅스</td>\n",
       "      <td>음식</td>\n",
       "      <td>커피점/카페</td>\n",
       "      <td>커피전문점/카페/다방</td>\n",
       "      <td>대구광역시</td>\n",
       "      <td>달서구</td>\n",
       "      <td>신당동</td>\n",
       "      <td>신당동</td>\n",
       "      <td>대구광역시 달서구 계대동문로 13</td>\n",
       "      <td>128.493811</td>\n",
       "      <td>35.855852</td>\n",
       "      <td>스타벅스</td>\n",
       "      <td>0</td>\n",
       "      <td>스타벅스</td>\n",
       "      <td>60.0</td>\n",
       "    </tr>\n",
       "    <tr>\n",
       "      <th>113424</th>\n",
       "      <td>스타벅스</td>\n",
       "      <td>음식</td>\n",
       "      <td>커피점/카페</td>\n",
       "      <td>커피전문점/카페/다방</td>\n",
       "      <td>대구광역시</td>\n",
       "      <td>달서구</td>\n",
       "      <td>이곡1동</td>\n",
       "      <td>이곡동</td>\n",
       "      <td>대구광역시 달서구 이곡공원로 26</td>\n",
       "      <td>128.510325</td>\n",
       "      <td>35.855071</td>\n",
       "      <td>스타벅스</td>\n",
       "      <td>4</td>\n",
       "      <td>스타벅스</td>\n",
       "      <td>198.0</td>\n",
       "    </tr>\n",
       "    <tr>\n",
       "      <th>342542</th>\n",
       "      <td>스타벅스</td>\n",
       "      <td>음식</td>\n",
       "      <td>커피점/카페</td>\n",
       "      <td>커피전문점/카페/다방</td>\n",
       "      <td>대구광역시</td>\n",
       "      <td>북구</td>\n",
       "      <td>침산2동</td>\n",
       "      <td>침산동</td>\n",
       "      <td>대구광역시 북구 침산로 126</td>\n",
       "      <td>128.591953</td>\n",
       "      <td>35.887486</td>\n",
       "      <td>스타벅스</td>\n",
       "      <td>1</td>\n",
       "      <td>스타벅스</td>\n",
       "      <td>36.0</td>\n",
       "    </tr>\n",
       "    <tr>\n",
       "      <th>384245</th>\n",
       "      <td>스타벅스반월당</td>\n",
       "      <td>음식</td>\n",
       "      <td>커피점/카페</td>\n",
       "      <td>커피전문점/카페/다방</td>\n",
       "      <td>대구광역시</td>\n",
       "      <td>중구</td>\n",
       "      <td>성내2동</td>\n",
       "      <td>덕산동</td>\n",
       "      <td>대구광역시 중구 달구벌대로 2085</td>\n",
       "      <td>128.591852</td>\n",
       "      <td>35.866342</td>\n",
       "      <td>스타벅스반월당</td>\n",
       "      <td>2</td>\n",
       "      <td>스타벅스</td>\n",
       "      <td>118.0</td>\n",
       "    </tr>\n",
       "    <tr>\n",
       "      <th>428522</th>\n",
       "      <td>스타벅스대구테크노폴리스점</td>\n",
       "      <td>음식</td>\n",
       "      <td>커피점/카페</td>\n",
       "      <td>커피전문점/카페/다방</td>\n",
       "      <td>대구광역시</td>\n",
       "      <td>달성군</td>\n",
       "      <td>유가면</td>\n",
       "      <td>유가면</td>\n",
       "      <td>대구광역시 달성군 유가면 테크노상업로 84</td>\n",
       "      <td>128.459018</td>\n",
       "      <td>35.693171</td>\n",
       "      <td>스타벅스대구테크노폴리스점</td>\n",
       "      <td>5</td>\n",
       "      <td>스타벅스</td>\n",
       "      <td>193.0</td>\n",
       "    </tr>\n",
       "    <tr>\n",
       "      <th>443266</th>\n",
       "      <td>스타벅스신세계백화점대구점</td>\n",
       "      <td>음식</td>\n",
       "      <td>커피점/카페</td>\n",
       "      <td>커피전문점/카페/다방</td>\n",
       "      <td>대구광역시</td>\n",
       "      <td>동구</td>\n",
       "      <td>신천4동</td>\n",
       "      <td>신천동</td>\n",
       "      <td>대구광역시 동구 동부로 149</td>\n",
       "      <td>128.629249</td>\n",
       "      <td>35.877950</td>\n",
       "      <td>스타벅스신세계백화점대구점</td>\n",
       "      <td>6</td>\n",
       "      <td>스타벅스</td>\n",
       "      <td>136.0</td>\n",
       "    </tr>\n",
       "  </tbody>\n",
       "</table>\n",
       "</div>"
      ],
      "text/plain": [
       "                  상호명 상권업종대분류명 상권업종중분류명     상권업종소분류명    시도명 시군구명  행정동명 법정동명  \\\n",
       "31464            스타벅스       음식   커피점/카페  커피전문점/카페/다방  대구광역시  달서구  상인1동  상인동   \n",
       "108528           스타벅스       음식   커피점/카페  커피전문점/카페/다방  대구광역시  달서구   신당동  신당동   \n",
       "113424           스타벅스       음식   커피점/카페  커피전문점/카페/다방  대구광역시  달서구  이곡1동  이곡동   \n",
       "342542           스타벅스       음식   커피점/카페  커피전문점/카페/다방  대구광역시   북구  침산2동  침산동   \n",
       "384245        스타벅스반월당       음식   커피점/카페  커피전문점/카페/다방  대구광역시   중구  성내2동  덕산동   \n",
       "428522  스타벅스대구테크노폴리스점       음식   커피점/카페  커피전문점/카페/다방  대구광역시  달성군   유가면  유가면   \n",
       "443266  스타벅스신세계백화점대구점       음식   커피점/카페  커피전문점/카페/다방  대구광역시   동구  신천4동  신천동   \n",
       "\n",
       "                          도로명주소          경도         위도        상호명_소문자  GROUP  \\\n",
       "31464         대구광역시 달서구 월곡로 334  128.533791  35.822791           스타벅스      3   \n",
       "108528       대구광역시 달서구 계대동문로 13  128.493811  35.855852           스타벅스      0   \n",
       "113424       대구광역시 달서구 이곡공원로 26  128.510325  35.855071           스타벅스      4   \n",
       "342542         대구광역시 북구 침산로 126  128.591953  35.887486           스타벅스      1   \n",
       "384245      대구광역시 중구 달구벌대로 2085  128.591852  35.866342        스타벅스반월당      2   \n",
       "428522  대구광역시 달성군 유가면 테크노상업로 84  128.459018  35.693171  스타벅스대구테크노폴리스점      5   \n",
       "443266         대구광역시 동구 동부로 149  128.629249  35.877950  스타벅스신세계백화점대구점      6   \n",
       "\n",
       "        브랜드명  MIN_DIST  \n",
       "31464   스타벅스     125.0  \n",
       "108528  스타벅스      60.0  \n",
       "113424  스타벅스     198.0  \n",
       "342542  스타벅스      36.0  \n",
       "384245  스타벅스     118.0  \n",
       "428522  스타벅스     193.0  \n",
       "443266  스타벅스     136.0  "
      ]
     },
     "execution_count": 233,
     "metadata": {},
     "output_type": "execute_result"
    }
   ],
   "source": [
    "df_cafe_star = df_cafe_star[df_cafe_star.GROUP != -1]\n",
    "df_cafe_star"
   ]
  },
  {
   "cell_type": "code",
   "execution_count": 234,
   "metadata": {},
   "outputs": [
    {
     "data": {
      "text/html": [
       "<div>\n",
       "<style scoped>\n",
       "    .dataframe tbody tr th:only-of-type {\n",
       "        vertical-align: middle;\n",
       "    }\n",
       "\n",
       "    .dataframe tbody tr th {\n",
       "        vertical-align: top;\n",
       "    }\n",
       "\n",
       "    .dataframe thead th {\n",
       "        text-align: right;\n",
       "    }\n",
       "</style>\n",
       "<table border=\"1\" class=\"dataframe\">\n",
       "  <thead>\n",
       "    <tr style=\"text-align: right;\">\n",
       "      <th></th>\n",
       "      <th>상호명</th>\n",
       "      <th>상권업종대분류명</th>\n",
       "      <th>상권업종중분류명</th>\n",
       "      <th>상권업종소분류명</th>\n",
       "      <th>시도명</th>\n",
       "      <th>시군구명</th>\n",
       "      <th>행정동명</th>\n",
       "      <th>법정동명</th>\n",
       "      <th>도로명주소</th>\n",
       "      <th>경도</th>\n",
       "      <th>위도</th>\n",
       "      <th>상호명_소문자</th>\n",
       "      <th>GROUP</th>\n",
       "      <th>브랜드명</th>\n",
       "      <th>MIN_DIST</th>\n",
       "    </tr>\n",
       "  </thead>\n",
       "  <tbody>\n",
       "    <tr>\n",
       "      <th>0</th>\n",
       "      <td>스타벅스</td>\n",
       "      <td>음식</td>\n",
       "      <td>커피점/카페</td>\n",
       "      <td>커피전문점/카페/다방</td>\n",
       "      <td>대구광역시</td>\n",
       "      <td>달서구</td>\n",
       "      <td>상인1동</td>\n",
       "      <td>상인동</td>\n",
       "      <td>대구광역시 달서구 월곡로 334</td>\n",
       "      <td>128.533791</td>\n",
       "      <td>35.822791</td>\n",
       "      <td>스타벅스</td>\n",
       "      <td>3</td>\n",
       "      <td>스타벅스</td>\n",
       "      <td>125.0</td>\n",
       "    </tr>\n",
       "    <tr>\n",
       "      <th>1</th>\n",
       "      <td>스타벅스</td>\n",
       "      <td>음식</td>\n",
       "      <td>커피점/카페</td>\n",
       "      <td>커피전문점/카페/다방</td>\n",
       "      <td>대구광역시</td>\n",
       "      <td>달서구</td>\n",
       "      <td>신당동</td>\n",
       "      <td>신당동</td>\n",
       "      <td>대구광역시 달서구 계대동문로 13</td>\n",
       "      <td>128.493811</td>\n",
       "      <td>35.855852</td>\n",
       "      <td>스타벅스</td>\n",
       "      <td>0</td>\n",
       "      <td>스타벅스</td>\n",
       "      <td>60.0</td>\n",
       "    </tr>\n",
       "    <tr>\n",
       "      <th>2</th>\n",
       "      <td>스타벅스</td>\n",
       "      <td>음식</td>\n",
       "      <td>커피점/카페</td>\n",
       "      <td>커피전문점/카페/다방</td>\n",
       "      <td>대구광역시</td>\n",
       "      <td>달서구</td>\n",
       "      <td>이곡1동</td>\n",
       "      <td>이곡동</td>\n",
       "      <td>대구광역시 달서구 이곡공원로 26</td>\n",
       "      <td>128.510325</td>\n",
       "      <td>35.855071</td>\n",
       "      <td>스타벅스</td>\n",
       "      <td>4</td>\n",
       "      <td>스타벅스</td>\n",
       "      <td>198.0</td>\n",
       "    </tr>\n",
       "    <tr>\n",
       "      <th>3</th>\n",
       "      <td>스타벅스</td>\n",
       "      <td>음식</td>\n",
       "      <td>커피점/카페</td>\n",
       "      <td>커피전문점/카페/다방</td>\n",
       "      <td>대구광역시</td>\n",
       "      <td>북구</td>\n",
       "      <td>침산2동</td>\n",
       "      <td>침산동</td>\n",
       "      <td>대구광역시 북구 침산로 126</td>\n",
       "      <td>128.591953</td>\n",
       "      <td>35.887486</td>\n",
       "      <td>스타벅스</td>\n",
       "      <td>1</td>\n",
       "      <td>스타벅스</td>\n",
       "      <td>36.0</td>\n",
       "    </tr>\n",
       "    <tr>\n",
       "      <th>4</th>\n",
       "      <td>스타벅스반월당</td>\n",
       "      <td>음식</td>\n",
       "      <td>커피점/카페</td>\n",
       "      <td>커피전문점/카페/다방</td>\n",
       "      <td>대구광역시</td>\n",
       "      <td>중구</td>\n",
       "      <td>성내2동</td>\n",
       "      <td>덕산동</td>\n",
       "      <td>대구광역시 중구 달구벌대로 2085</td>\n",
       "      <td>128.591852</td>\n",
       "      <td>35.866342</td>\n",
       "      <td>스타벅스반월당</td>\n",
       "      <td>2</td>\n",
       "      <td>스타벅스</td>\n",
       "      <td>118.0</td>\n",
       "    </tr>\n",
       "    <tr>\n",
       "      <th>5</th>\n",
       "      <td>스타벅스대구테크노폴리스점</td>\n",
       "      <td>음식</td>\n",
       "      <td>커피점/카페</td>\n",
       "      <td>커피전문점/카페/다방</td>\n",
       "      <td>대구광역시</td>\n",
       "      <td>달성군</td>\n",
       "      <td>유가면</td>\n",
       "      <td>유가면</td>\n",
       "      <td>대구광역시 달성군 유가면 테크노상업로 84</td>\n",
       "      <td>128.459018</td>\n",
       "      <td>35.693171</td>\n",
       "      <td>스타벅스대구테크노폴리스점</td>\n",
       "      <td>5</td>\n",
       "      <td>스타벅스</td>\n",
       "      <td>193.0</td>\n",
       "    </tr>\n",
       "    <tr>\n",
       "      <th>6</th>\n",
       "      <td>스타벅스신세계백화점대구점</td>\n",
       "      <td>음식</td>\n",
       "      <td>커피점/카페</td>\n",
       "      <td>커피전문점/카페/다방</td>\n",
       "      <td>대구광역시</td>\n",
       "      <td>동구</td>\n",
       "      <td>신천4동</td>\n",
       "      <td>신천동</td>\n",
       "      <td>대구광역시 동구 동부로 149</td>\n",
       "      <td>128.629249</td>\n",
       "      <td>35.877950</td>\n",
       "      <td>스타벅스신세계백화점대구점</td>\n",
       "      <td>6</td>\n",
       "      <td>스타벅스</td>\n",
       "      <td>136.0</td>\n",
       "    </tr>\n",
       "    <tr>\n",
       "      <th>7</th>\n",
       "      <td>이디야커피</td>\n",
       "      <td>음식</td>\n",
       "      <td>커피점/카페</td>\n",
       "      <td>커피전문점/카페/다방</td>\n",
       "      <td>대구광역시</td>\n",
       "      <td>달서구</td>\n",
       "      <td>신당동</td>\n",
       "      <td>신당동</td>\n",
       "      <td>대구광역시 달서구 계대동문로 7</td>\n",
       "      <td>128.493147</td>\n",
       "      <td>35.855827</td>\n",
       "      <td>이디야커피</td>\n",
       "      <td>0</td>\n",
       "      <td>이디야</td>\n",
       "      <td>0.0</td>\n",
       "    </tr>\n",
       "    <tr>\n",
       "      <th>8</th>\n",
       "      <td>이디야커피</td>\n",
       "      <td>음식</td>\n",
       "      <td>커피점/카페</td>\n",
       "      <td>커피전문점/카페/다방</td>\n",
       "      <td>대구광역시</td>\n",
       "      <td>북구</td>\n",
       "      <td>침산2동</td>\n",
       "      <td>침산동</td>\n",
       "      <td>대구광역시 북구 침산남로 150</td>\n",
       "      <td>128.592033</td>\n",
       "      <td>35.887801</td>\n",
       "      <td>이디야커피</td>\n",
       "      <td>1</td>\n",
       "      <td>이디야</td>\n",
       "      <td>0.0</td>\n",
       "    </tr>\n",
       "    <tr>\n",
       "      <th>9</th>\n",
       "      <td>이디야커피대구종로점</td>\n",
       "      <td>음식</td>\n",
       "      <td>커피점/카페</td>\n",
       "      <td>커피전문점/카페/다방</td>\n",
       "      <td>대구광역시</td>\n",
       "      <td>중구</td>\n",
       "      <td>성내2동</td>\n",
       "      <td>남성로</td>\n",
       "      <td>대구광역시 중구 종로 17</td>\n",
       "      <td>128.592014</td>\n",
       "      <td>35.867396</td>\n",
       "      <td>이디야커피대구종로점</td>\n",
       "      <td>2</td>\n",
       "      <td>이디야</td>\n",
       "      <td>0.0</td>\n",
       "    </tr>\n",
       "    <tr>\n",
       "      <th>10</th>\n",
       "      <td>이디야커피</td>\n",
       "      <td>음식</td>\n",
       "      <td>커피점/카페</td>\n",
       "      <td>커피전문점/카페/다방</td>\n",
       "      <td>대구광역시</td>\n",
       "      <td>달서구</td>\n",
       "      <td>상인1동</td>\n",
       "      <td>상인동</td>\n",
       "      <td>대구광역시 달서구 조암남로 3</td>\n",
       "      <td>128.532407</td>\n",
       "      <td>35.822743</td>\n",
       "      <td>이디야커피</td>\n",
       "      <td>3</td>\n",
       "      <td>이디야</td>\n",
       "      <td>0.0</td>\n",
       "    </tr>\n",
       "    <tr>\n",
       "      <th>11</th>\n",
       "      <td>이디야커피</td>\n",
       "      <td>음식</td>\n",
       "      <td>커피점/카페</td>\n",
       "      <td>커피전문점/카페/다방</td>\n",
       "      <td>대구광역시</td>\n",
       "      <td>달서구</td>\n",
       "      <td>이곡1동</td>\n",
       "      <td>이곡동</td>\n",
       "      <td>대구광역시 달서구 이곡동로 55</td>\n",
       "      <td>128.512324</td>\n",
       "      <td>35.854341</td>\n",
       "      <td>이디야커피</td>\n",
       "      <td>4</td>\n",
       "      <td>이디야</td>\n",
       "      <td>0.0</td>\n",
       "    </tr>\n",
       "    <tr>\n",
       "      <th>12</th>\n",
       "      <td>이디야커피</td>\n",
       "      <td>음식</td>\n",
       "      <td>커피점/카페</td>\n",
       "      <td>커피전문점/카페/다방</td>\n",
       "      <td>대구광역시</td>\n",
       "      <td>달성군</td>\n",
       "      <td>유가면</td>\n",
       "      <td>유가면</td>\n",
       "      <td>대구광역시 달성군 유가면 테크노상업로 108</td>\n",
       "      <td>128.461151</td>\n",
       "      <td>35.693253</td>\n",
       "      <td>이디야커피</td>\n",
       "      <td>5</td>\n",
       "      <td>이디야</td>\n",
       "      <td>0.0</td>\n",
       "    </tr>\n",
       "    <tr>\n",
       "      <th>13</th>\n",
       "      <td>이디야커피</td>\n",
       "      <td>음식</td>\n",
       "      <td>커피점/카페</td>\n",
       "      <td>커피전문점/카페/다방</td>\n",
       "      <td>대구광역시</td>\n",
       "      <td>동구</td>\n",
       "      <td>신암4동</td>\n",
       "      <td>신암동</td>\n",
       "      <td>대구광역시 동구 동대구로 550</td>\n",
       "      <td>128.628726</td>\n",
       "      <td>35.879098</td>\n",
       "      <td>이디야커피</td>\n",
       "      <td>6</td>\n",
       "      <td>이디야</td>\n",
       "      <td>0.0</td>\n",
       "    </tr>\n",
       "  </tbody>\n",
       "</table>\n",
       "</div>"
      ],
      "text/plain": [
       "              상호명 상권업종대분류명 상권업종중분류명     상권업종소분류명    시도명 시군구명  행정동명 법정동명  \\\n",
       "0            스타벅스       음식   커피점/카페  커피전문점/카페/다방  대구광역시  달서구  상인1동  상인동   \n",
       "1            스타벅스       음식   커피점/카페  커피전문점/카페/다방  대구광역시  달서구   신당동  신당동   \n",
       "2            스타벅스       음식   커피점/카페  커피전문점/카페/다방  대구광역시  달서구  이곡1동  이곡동   \n",
       "3            스타벅스       음식   커피점/카페  커피전문점/카페/다방  대구광역시   북구  침산2동  침산동   \n",
       "4         스타벅스반월당       음식   커피점/카페  커피전문점/카페/다방  대구광역시   중구  성내2동  덕산동   \n",
       "5   스타벅스대구테크노폴리스점       음식   커피점/카페  커피전문점/카페/다방  대구광역시  달성군   유가면  유가면   \n",
       "6   스타벅스신세계백화점대구점       음식   커피점/카페  커피전문점/카페/다방  대구광역시   동구  신천4동  신천동   \n",
       "7           이디야커피       음식   커피점/카페  커피전문점/카페/다방  대구광역시  달서구   신당동  신당동   \n",
       "8           이디야커피       음식   커피점/카페  커피전문점/카페/다방  대구광역시   북구  침산2동  침산동   \n",
       "9      이디야커피대구종로점       음식   커피점/카페  커피전문점/카페/다방  대구광역시   중구  성내2동  남성로   \n",
       "10          이디야커피       음식   커피점/카페  커피전문점/카페/다방  대구광역시  달서구  상인1동  상인동   \n",
       "11          이디야커피       음식   커피점/카페  커피전문점/카페/다방  대구광역시  달서구  이곡1동  이곡동   \n",
       "12          이디야커피       음식   커피점/카페  커피전문점/카페/다방  대구광역시  달성군   유가면  유가면   \n",
       "13          이디야커피       음식   커피점/카페  커피전문점/카페/다방  대구광역시   동구  신암4동  신암동   \n",
       "\n",
       "                       도로명주소          경도         위도        상호명_소문자  GROUP  \\\n",
       "0          대구광역시 달서구 월곡로 334  128.533791  35.822791           스타벅스      3   \n",
       "1         대구광역시 달서구 계대동문로 13  128.493811  35.855852           스타벅스      0   \n",
       "2         대구광역시 달서구 이곡공원로 26  128.510325  35.855071           스타벅스      4   \n",
       "3           대구광역시 북구 침산로 126  128.591953  35.887486           스타벅스      1   \n",
       "4        대구광역시 중구 달구벌대로 2085  128.591852  35.866342        스타벅스반월당      2   \n",
       "5    대구광역시 달성군 유가면 테크노상업로 84  128.459018  35.693171  스타벅스대구테크노폴리스점      5   \n",
       "6           대구광역시 동구 동부로 149  128.629249  35.877950  스타벅스신세계백화점대구점      6   \n",
       "7          대구광역시 달서구 계대동문로 7  128.493147  35.855827          이디야커피      0   \n",
       "8          대구광역시 북구 침산남로 150  128.592033  35.887801          이디야커피      1   \n",
       "9             대구광역시 중구 종로 17  128.592014  35.867396     이디야커피대구종로점      2   \n",
       "10          대구광역시 달서구 조암남로 3  128.532407  35.822743          이디야커피      3   \n",
       "11         대구광역시 달서구 이곡동로 55  128.512324  35.854341          이디야커피      4   \n",
       "12  대구광역시 달성군 유가면 테크노상업로 108  128.461151  35.693253          이디야커피      5   \n",
       "13         대구광역시 동구 동대구로 550  128.628726  35.879098          이디야커피      6   \n",
       "\n",
       "    브랜드명  MIN_DIST  \n",
       "0   스타벅스     125.0  \n",
       "1   스타벅스      60.0  \n",
       "2   스타벅스     198.0  \n",
       "3   스타벅스      36.0  \n",
       "4   스타벅스     118.0  \n",
       "5   스타벅스     193.0  \n",
       "6   스타벅스     136.0  \n",
       "7    이디야       0.0  \n",
       "8    이디야       0.0  \n",
       "9    이디야       0.0  \n",
       "10   이디야       0.0  \n",
       "11   이디야       0.0  \n",
       "12   이디야       0.0  \n",
       "13   이디야       0.0  "
      ]
     },
     "execution_count": 234,
     "metadata": {},
     "output_type": "execute_result"
    }
   ],
   "source": [
    "df_result = pd.concat([df_cafe_star,df_cafe_edi], ignore_index=True) \n",
    "df_result"
   ]
  },
  {
   "cell_type": "code",
   "execution_count": 235,
   "metadata": {},
   "outputs": [
    {
     "data": {
      "text/html": [
       "<div>\n",
       "<style scoped>\n",
       "    .dataframe tbody tr th:only-of-type {\n",
       "        vertical-align: middle;\n",
       "    }\n",
       "\n",
       "    .dataframe tbody tr th {\n",
       "        vertical-align: top;\n",
       "    }\n",
       "\n",
       "    .dataframe thead th {\n",
       "        text-align: right;\n",
       "    }\n",
       "</style>\n",
       "<table border=\"1\" class=\"dataframe\">\n",
       "  <thead>\n",
       "    <tr style=\"text-align: right;\">\n",
       "      <th></th>\n",
       "      <th>상호명</th>\n",
       "      <th>시군구명</th>\n",
       "      <th>도로명주소</th>\n",
       "      <th>경도</th>\n",
       "      <th>위도</th>\n",
       "      <th>GROUP</th>\n",
       "      <th>브랜드명</th>\n",
       "      <th>MIN_DIST</th>\n",
       "    </tr>\n",
       "  </thead>\n",
       "  <tbody>\n",
       "    <tr>\n",
       "      <th>0</th>\n",
       "      <td>스타벅스</td>\n",
       "      <td>달서구</td>\n",
       "      <td>대구광역시 달서구 월곡로 334</td>\n",
       "      <td>128.533791</td>\n",
       "      <td>35.822791</td>\n",
       "      <td>3</td>\n",
       "      <td>스타벅스</td>\n",
       "      <td>125.0</td>\n",
       "    </tr>\n",
       "    <tr>\n",
       "      <th>1</th>\n",
       "      <td>스타벅스</td>\n",
       "      <td>달서구</td>\n",
       "      <td>대구광역시 달서구 계대동문로 13</td>\n",
       "      <td>128.493811</td>\n",
       "      <td>35.855852</td>\n",
       "      <td>0</td>\n",
       "      <td>스타벅스</td>\n",
       "      <td>60.0</td>\n",
       "    </tr>\n",
       "    <tr>\n",
       "      <th>2</th>\n",
       "      <td>스타벅스</td>\n",
       "      <td>달서구</td>\n",
       "      <td>대구광역시 달서구 이곡공원로 26</td>\n",
       "      <td>128.510325</td>\n",
       "      <td>35.855071</td>\n",
       "      <td>4</td>\n",
       "      <td>스타벅스</td>\n",
       "      <td>198.0</td>\n",
       "    </tr>\n",
       "    <tr>\n",
       "      <th>3</th>\n",
       "      <td>스타벅스</td>\n",
       "      <td>북구</td>\n",
       "      <td>대구광역시 북구 침산로 126</td>\n",
       "      <td>128.591953</td>\n",
       "      <td>35.887486</td>\n",
       "      <td>1</td>\n",
       "      <td>스타벅스</td>\n",
       "      <td>36.0</td>\n",
       "    </tr>\n",
       "    <tr>\n",
       "      <th>4</th>\n",
       "      <td>스타벅스반월당</td>\n",
       "      <td>중구</td>\n",
       "      <td>대구광역시 중구 달구벌대로 2085</td>\n",
       "      <td>128.591852</td>\n",
       "      <td>35.866342</td>\n",
       "      <td>2</td>\n",
       "      <td>스타벅스</td>\n",
       "      <td>118.0</td>\n",
       "    </tr>\n",
       "    <tr>\n",
       "      <th>5</th>\n",
       "      <td>스타벅스대구테크노폴리스점</td>\n",
       "      <td>달성군</td>\n",
       "      <td>대구광역시 달성군 유가면 테크노상업로 84</td>\n",
       "      <td>128.459018</td>\n",
       "      <td>35.693171</td>\n",
       "      <td>5</td>\n",
       "      <td>스타벅스</td>\n",
       "      <td>193.0</td>\n",
       "    </tr>\n",
       "    <tr>\n",
       "      <th>6</th>\n",
       "      <td>스타벅스신세계백화점대구점</td>\n",
       "      <td>동구</td>\n",
       "      <td>대구광역시 동구 동부로 149</td>\n",
       "      <td>128.629249</td>\n",
       "      <td>35.877950</td>\n",
       "      <td>6</td>\n",
       "      <td>스타벅스</td>\n",
       "      <td>136.0</td>\n",
       "    </tr>\n",
       "    <tr>\n",
       "      <th>7</th>\n",
       "      <td>이디야커피</td>\n",
       "      <td>달서구</td>\n",
       "      <td>대구광역시 달서구 계대동문로 7</td>\n",
       "      <td>128.493147</td>\n",
       "      <td>35.855827</td>\n",
       "      <td>0</td>\n",
       "      <td>이디야</td>\n",
       "      <td>0.0</td>\n",
       "    </tr>\n",
       "    <tr>\n",
       "      <th>8</th>\n",
       "      <td>이디야커피</td>\n",
       "      <td>북구</td>\n",
       "      <td>대구광역시 북구 침산남로 150</td>\n",
       "      <td>128.592033</td>\n",
       "      <td>35.887801</td>\n",
       "      <td>1</td>\n",
       "      <td>이디야</td>\n",
       "      <td>0.0</td>\n",
       "    </tr>\n",
       "    <tr>\n",
       "      <th>9</th>\n",
       "      <td>이디야커피대구종로점</td>\n",
       "      <td>중구</td>\n",
       "      <td>대구광역시 중구 종로 17</td>\n",
       "      <td>128.592014</td>\n",
       "      <td>35.867396</td>\n",
       "      <td>2</td>\n",
       "      <td>이디야</td>\n",
       "      <td>0.0</td>\n",
       "    </tr>\n",
       "    <tr>\n",
       "      <th>10</th>\n",
       "      <td>이디야커피</td>\n",
       "      <td>달서구</td>\n",
       "      <td>대구광역시 달서구 조암남로 3</td>\n",
       "      <td>128.532407</td>\n",
       "      <td>35.822743</td>\n",
       "      <td>3</td>\n",
       "      <td>이디야</td>\n",
       "      <td>0.0</td>\n",
       "    </tr>\n",
       "    <tr>\n",
       "      <th>11</th>\n",
       "      <td>이디야커피</td>\n",
       "      <td>달서구</td>\n",
       "      <td>대구광역시 달서구 이곡동로 55</td>\n",
       "      <td>128.512324</td>\n",
       "      <td>35.854341</td>\n",
       "      <td>4</td>\n",
       "      <td>이디야</td>\n",
       "      <td>0.0</td>\n",
       "    </tr>\n",
       "    <tr>\n",
       "      <th>12</th>\n",
       "      <td>이디야커피</td>\n",
       "      <td>달성군</td>\n",
       "      <td>대구광역시 달성군 유가면 테크노상업로 108</td>\n",
       "      <td>128.461151</td>\n",
       "      <td>35.693253</td>\n",
       "      <td>5</td>\n",
       "      <td>이디야</td>\n",
       "      <td>0.0</td>\n",
       "    </tr>\n",
       "    <tr>\n",
       "      <th>13</th>\n",
       "      <td>이디야커피</td>\n",
       "      <td>동구</td>\n",
       "      <td>대구광역시 동구 동대구로 550</td>\n",
       "      <td>128.628726</td>\n",
       "      <td>35.879098</td>\n",
       "      <td>6</td>\n",
       "      <td>이디야</td>\n",
       "      <td>0.0</td>\n",
       "    </tr>\n",
       "  </tbody>\n",
       "</table>\n",
       "</div>"
      ],
      "text/plain": [
       "              상호명 시군구명                     도로명주소          경도         위도  \\\n",
       "0            스타벅스  달서구         대구광역시 달서구 월곡로 334  128.533791  35.822791   \n",
       "1            스타벅스  달서구        대구광역시 달서구 계대동문로 13  128.493811  35.855852   \n",
       "2            스타벅스  달서구        대구광역시 달서구 이곡공원로 26  128.510325  35.855071   \n",
       "3            스타벅스   북구          대구광역시 북구 침산로 126  128.591953  35.887486   \n",
       "4         스타벅스반월당   중구       대구광역시 중구 달구벌대로 2085  128.591852  35.866342   \n",
       "5   스타벅스대구테크노폴리스점  달성군   대구광역시 달성군 유가면 테크노상업로 84  128.459018  35.693171   \n",
       "6   스타벅스신세계백화점대구점   동구          대구광역시 동구 동부로 149  128.629249  35.877950   \n",
       "7           이디야커피  달서구         대구광역시 달서구 계대동문로 7  128.493147  35.855827   \n",
       "8           이디야커피   북구         대구광역시 북구 침산남로 150  128.592033  35.887801   \n",
       "9      이디야커피대구종로점   중구            대구광역시 중구 종로 17  128.592014  35.867396   \n",
       "10          이디야커피  달서구          대구광역시 달서구 조암남로 3  128.532407  35.822743   \n",
       "11          이디야커피  달서구         대구광역시 달서구 이곡동로 55  128.512324  35.854341   \n",
       "12          이디야커피  달성군  대구광역시 달성군 유가면 테크노상업로 108  128.461151  35.693253   \n",
       "13          이디야커피   동구         대구광역시 동구 동대구로 550  128.628726  35.879098   \n",
       "\n",
       "    GROUP  브랜드명  MIN_DIST  \n",
       "0       3  스타벅스     125.0  \n",
       "1       0  스타벅스      60.0  \n",
       "2       4  스타벅스     198.0  \n",
       "3       1  스타벅스      36.0  \n",
       "4       2  스타벅스     118.0  \n",
       "5       5  스타벅스     193.0  \n",
       "6       6  스타벅스     136.0  \n",
       "7       0   이디야       0.0  \n",
       "8       1   이디야       0.0  \n",
       "9       2   이디야       0.0  \n",
       "10      3   이디야       0.0  \n",
       "11      4   이디야       0.0  \n",
       "12      5   이디야       0.0  \n",
       "13      6   이디야       0.0  "
      ]
     },
     "execution_count": 235,
     "metadata": {},
     "output_type": "execute_result"
    }
   ],
   "source": [
    "columns = ['상호명', '시군구명', '도로명주소', '경도', '위도','GROUP','브랜드명', 'MIN_DIST']\n",
    "df_result = df_result[columns].copy()\n",
    "df_result"
   ]
  },
  {
   "cell_type": "code",
   "execution_count": 236,
   "metadata": {},
   "outputs": [
    {
     "data": {
      "text/html": [
       "<div>\n",
       "<style scoped>\n",
       "    .dataframe tbody tr th:only-of-type {\n",
       "        vertical-align: middle;\n",
       "    }\n",
       "\n",
       "    .dataframe tbody tr th {\n",
       "        vertical-align: top;\n",
       "    }\n",
       "\n",
       "    .dataframe thead th {\n",
       "        text-align: right;\n",
       "    }\n",
       "</style>\n",
       "<table border=\"1\" class=\"dataframe\">\n",
       "  <thead>\n",
       "    <tr style=\"text-align: right;\">\n",
       "      <th></th>\n",
       "      <th>상호명</th>\n",
       "      <th>시군구명</th>\n",
       "      <th>도로명주소</th>\n",
       "      <th>경도</th>\n",
       "      <th>위도</th>\n",
       "      <th>GROUP</th>\n",
       "      <th>브랜드명</th>\n",
       "      <th>MIN_DIST</th>\n",
       "    </tr>\n",
       "  </thead>\n",
       "  <tbody>\n",
       "    <tr>\n",
       "      <th>1</th>\n",
       "      <td>스타벅스</td>\n",
       "      <td>달서구</td>\n",
       "      <td>대구광역시 달서구 계대동문로 13</td>\n",
       "      <td>128.493811</td>\n",
       "      <td>35.855852</td>\n",
       "      <td>0</td>\n",
       "      <td>스타벅스</td>\n",
       "      <td>60.0</td>\n",
       "    </tr>\n",
       "    <tr>\n",
       "      <th>7</th>\n",
       "      <td>이디야커피</td>\n",
       "      <td>달서구</td>\n",
       "      <td>대구광역시 달서구 계대동문로 7</td>\n",
       "      <td>128.493147</td>\n",
       "      <td>35.855827</td>\n",
       "      <td>0</td>\n",
       "      <td>이디야</td>\n",
       "      <td>0.0</td>\n",
       "    </tr>\n",
       "    <tr>\n",
       "      <th>3</th>\n",
       "      <td>스타벅스</td>\n",
       "      <td>북구</td>\n",
       "      <td>대구광역시 북구 침산로 126</td>\n",
       "      <td>128.591953</td>\n",
       "      <td>35.887486</td>\n",
       "      <td>1</td>\n",
       "      <td>스타벅스</td>\n",
       "      <td>36.0</td>\n",
       "    </tr>\n",
       "    <tr>\n",
       "      <th>8</th>\n",
       "      <td>이디야커피</td>\n",
       "      <td>북구</td>\n",
       "      <td>대구광역시 북구 침산남로 150</td>\n",
       "      <td>128.592033</td>\n",
       "      <td>35.887801</td>\n",
       "      <td>1</td>\n",
       "      <td>이디야</td>\n",
       "      <td>0.0</td>\n",
       "    </tr>\n",
       "    <tr>\n",
       "      <th>4</th>\n",
       "      <td>스타벅스반월당</td>\n",
       "      <td>중구</td>\n",
       "      <td>대구광역시 중구 달구벌대로 2085</td>\n",
       "      <td>128.591852</td>\n",
       "      <td>35.866342</td>\n",
       "      <td>2</td>\n",
       "      <td>스타벅스</td>\n",
       "      <td>118.0</td>\n",
       "    </tr>\n",
       "    <tr>\n",
       "      <th>9</th>\n",
       "      <td>이디야커피대구종로점</td>\n",
       "      <td>중구</td>\n",
       "      <td>대구광역시 중구 종로 17</td>\n",
       "      <td>128.592014</td>\n",
       "      <td>35.867396</td>\n",
       "      <td>2</td>\n",
       "      <td>이디야</td>\n",
       "      <td>0.0</td>\n",
       "    </tr>\n",
       "    <tr>\n",
       "      <th>0</th>\n",
       "      <td>스타벅스</td>\n",
       "      <td>달서구</td>\n",
       "      <td>대구광역시 달서구 월곡로 334</td>\n",
       "      <td>128.533791</td>\n",
       "      <td>35.822791</td>\n",
       "      <td>3</td>\n",
       "      <td>스타벅스</td>\n",
       "      <td>125.0</td>\n",
       "    </tr>\n",
       "    <tr>\n",
       "      <th>10</th>\n",
       "      <td>이디야커피</td>\n",
       "      <td>달서구</td>\n",
       "      <td>대구광역시 달서구 조암남로 3</td>\n",
       "      <td>128.532407</td>\n",
       "      <td>35.822743</td>\n",
       "      <td>3</td>\n",
       "      <td>이디야</td>\n",
       "      <td>0.0</td>\n",
       "    </tr>\n",
       "    <tr>\n",
       "      <th>2</th>\n",
       "      <td>스타벅스</td>\n",
       "      <td>달서구</td>\n",
       "      <td>대구광역시 달서구 이곡공원로 26</td>\n",
       "      <td>128.510325</td>\n",
       "      <td>35.855071</td>\n",
       "      <td>4</td>\n",
       "      <td>스타벅스</td>\n",
       "      <td>198.0</td>\n",
       "    </tr>\n",
       "    <tr>\n",
       "      <th>11</th>\n",
       "      <td>이디야커피</td>\n",
       "      <td>달서구</td>\n",
       "      <td>대구광역시 달서구 이곡동로 55</td>\n",
       "      <td>128.512324</td>\n",
       "      <td>35.854341</td>\n",
       "      <td>4</td>\n",
       "      <td>이디야</td>\n",
       "      <td>0.0</td>\n",
       "    </tr>\n",
       "    <tr>\n",
       "      <th>5</th>\n",
       "      <td>스타벅스대구테크노폴리스점</td>\n",
       "      <td>달성군</td>\n",
       "      <td>대구광역시 달성군 유가면 테크노상업로 84</td>\n",
       "      <td>128.459018</td>\n",
       "      <td>35.693171</td>\n",
       "      <td>5</td>\n",
       "      <td>스타벅스</td>\n",
       "      <td>193.0</td>\n",
       "    </tr>\n",
       "    <tr>\n",
       "      <th>12</th>\n",
       "      <td>이디야커피</td>\n",
       "      <td>달성군</td>\n",
       "      <td>대구광역시 달성군 유가면 테크노상업로 108</td>\n",
       "      <td>128.461151</td>\n",
       "      <td>35.693253</td>\n",
       "      <td>5</td>\n",
       "      <td>이디야</td>\n",
       "      <td>0.0</td>\n",
       "    </tr>\n",
       "    <tr>\n",
       "      <th>6</th>\n",
       "      <td>스타벅스신세계백화점대구점</td>\n",
       "      <td>동구</td>\n",
       "      <td>대구광역시 동구 동부로 149</td>\n",
       "      <td>128.629249</td>\n",
       "      <td>35.877950</td>\n",
       "      <td>6</td>\n",
       "      <td>스타벅스</td>\n",
       "      <td>136.0</td>\n",
       "    </tr>\n",
       "    <tr>\n",
       "      <th>13</th>\n",
       "      <td>이디야커피</td>\n",
       "      <td>동구</td>\n",
       "      <td>대구광역시 동구 동대구로 550</td>\n",
       "      <td>128.628726</td>\n",
       "      <td>35.879098</td>\n",
       "      <td>6</td>\n",
       "      <td>이디야</td>\n",
       "      <td>0.0</td>\n",
       "    </tr>\n",
       "  </tbody>\n",
       "</table>\n",
       "</div>"
      ],
      "text/plain": [
       "              상호명 시군구명                     도로명주소          경도         위도  \\\n",
       "1            스타벅스  달서구        대구광역시 달서구 계대동문로 13  128.493811  35.855852   \n",
       "7           이디야커피  달서구         대구광역시 달서구 계대동문로 7  128.493147  35.855827   \n",
       "3            스타벅스   북구          대구광역시 북구 침산로 126  128.591953  35.887486   \n",
       "8           이디야커피   북구         대구광역시 북구 침산남로 150  128.592033  35.887801   \n",
       "4         스타벅스반월당   중구       대구광역시 중구 달구벌대로 2085  128.591852  35.866342   \n",
       "9      이디야커피대구종로점   중구            대구광역시 중구 종로 17  128.592014  35.867396   \n",
       "0            스타벅스  달서구         대구광역시 달서구 월곡로 334  128.533791  35.822791   \n",
       "10          이디야커피  달서구          대구광역시 달서구 조암남로 3  128.532407  35.822743   \n",
       "2            스타벅스  달서구        대구광역시 달서구 이곡공원로 26  128.510325  35.855071   \n",
       "11          이디야커피  달서구         대구광역시 달서구 이곡동로 55  128.512324  35.854341   \n",
       "5   스타벅스대구테크노폴리스점  달성군   대구광역시 달성군 유가면 테크노상업로 84  128.459018  35.693171   \n",
       "12          이디야커피  달성군  대구광역시 달성군 유가면 테크노상업로 108  128.461151  35.693253   \n",
       "6   스타벅스신세계백화점대구점   동구          대구광역시 동구 동부로 149  128.629249  35.877950   \n",
       "13          이디야커피   동구         대구광역시 동구 동대구로 550  128.628726  35.879098   \n",
       "\n",
       "    GROUP  브랜드명  MIN_DIST  \n",
       "1       0  스타벅스      60.0  \n",
       "7       0   이디야       0.0  \n",
       "3       1  스타벅스      36.0  \n",
       "8       1   이디야       0.0  \n",
       "4       2  스타벅스     118.0  \n",
       "9       2   이디야       0.0  \n",
       "0       3  스타벅스     125.0  \n",
       "10      3   이디야       0.0  \n",
       "2       4  스타벅스     198.0  \n",
       "11      4   이디야       0.0  \n",
       "5       5  스타벅스     193.0  \n",
       "12      5   이디야       0.0  \n",
       "6       6  스타벅스     136.0  \n",
       "13      6   이디야       0.0  "
      ]
     },
     "execution_count": 236,
     "metadata": {},
     "output_type": "execute_result"
    }
   ],
   "source": [
    "df_result.sort_values(by=['GROUP'], axis=0)"
   ]
  },
  {
   "cell_type": "code",
   "execution_count": null,
   "metadata": {},
   "outputs": [],
   "source": []
  }
 ],
 "metadata": {
  "kernelspec": {
   "display_name": "Python 3",
   "language": "python",
   "name": "python3"
  },
  "language_info": {
   "codemirror_mode": {
    "name": "ipython",
    "version": 3
   },
   "file_extension": ".py",
   "mimetype": "text/x-python",
   "name": "python",
   "nbconvert_exporter": "python",
   "pygments_lexer": "ipython3",
   "version": "3.8.3"
  },
  "toc": {
   "base_numbering": 1,
   "nav_menu": {},
   "number_sections": true,
   "sideBar": true,
   "skip_h1_title": false,
   "title_cell": "Table of Contents",
   "title_sidebar": "Contents",
   "toc_cell": false,
   "toc_position": {
    "height": "calc(100% - 180px)",
    "left": "10px",
    "top": "150px",
    "width": "204.8px"
   },
   "toc_section_display": true,
   "toc_window_display": true
  },
  "varInspector": {
   "cols": {
    "lenName": 16,
    "lenType": 16,
    "lenVar": 40
   },
   "kernels_config": {
    "python": {
     "delete_cmd_postfix": "",
     "delete_cmd_prefix": "del ",
     "library": "var_list.py",
     "varRefreshCmd": "print(var_dic_list())"
    },
    "r": {
     "delete_cmd_postfix": ") ",
     "delete_cmd_prefix": "rm(",
     "library": "var_list.r",
     "varRefreshCmd": "cat(var_dic_list()) "
    }
   },
   "types_to_exclude": [
    "module",
    "function",
    "builtin_function_or_method",
    "instance",
    "_Feature"
   ],
   "window_display": false
  }
 },
 "nbformat": 4,
 "nbformat_minor": 2
}
